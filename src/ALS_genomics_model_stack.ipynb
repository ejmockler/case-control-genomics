{
  "cells": [
    {
      "attachments": {},
      "cell_type": "markdown",
      "metadata": {
        "id": "CtFYp82_avzf"
      },
      "source": [
        "# Whole-genome analysis workflow"
      ]
    },
    {
      "cell_type": "code",
      "execution_count": 2,
      "metadata": {
        "colab": {
          "base_uri": "https://localhost:8080/"
        },
        "id": "FPZ8uR95ao7W",
        "outputId": "a1c56261-0150-4f59-e0fa-5e3deea610b5"
      },
      "outputs": [],
      "source": [
        "# ~2 minutes to install \n",
        "#%pip install -U --no-cache-dir scikit-learn scikit-optimize prefect prefect-ray ray plotly openpyxl shap lion_pytorch pytorch_tabnet xgboost neptune pyspark pyarrow dill fastnumbers"
      ]
    },
    {
      "cell_type": "code",
      "execution_count": 5,
      "metadata": {
        "colab": {
          "base_uri": "https://localhost:8080/",
          "height": 264
        },
        "id": "T-XkqgwZaBX0",
        "outputId": "1f74b602-b8f5-41c4-d1b4-c1c7ced32b36"
      },
      "outputs": [
        {
          "data": {
            "text/html": [
              "<div>\n",
              "    <div style=\"margin-left: 50px;display: flex;flex-direction: row;align-items: center\">\n",
              "        <h3 style=\"color: var(--jp-ui-font-color0)\">Ray</h3>\n",
              "        <svg version=\"1.1\" id=\"ray\" width=\"3em\" viewBox=\"0 0 144.5 144.6\" style=\"margin-left: 3em;margin-right: 3em\">\n",
              "            <g id=\"layer-1\">\n",
              "                <path fill=\"#00a2e9\" class=\"st0\" d=\"M97.3,77.2c-3.8-1.1-6.2,0.9-8.3,5.1c-3.5,6.8-9.9,9.9-17.4,9.6S58,88.1,54.8,81.2c-1.4-3-3-4-6.3-4.1\n",
              "                    c-5.6-0.1-9.9,0.1-13.1,6.4c-3.8,7.6-13.6,10.2-21.8,7.6C5.2,88.4-0.4,80.5,0,71.7c0.1-8.4,5.7-15.8,13.8-18.2\n",
              "                    c8.4-2.6,17.5,0.7,22.3,8c1.3,1.9,1.3,5.2,3.6,5.6c3.9,0.6,8,0.2,12,0.2c1.8,0,1.9-1.6,2.4-2.8c3.5-7.8,9.7-11.8,18-11.9\n",
              "                    c8.2-0.1,14.4,3.9,17.8,11.4c1.3,2.8,2.9,3.6,5.7,3.3c1-0.1,2,0.1,3,0c2.8-0.5,6.4,1.7,8.1-2.7s-2.3-5.5-4.1-7.5\n",
              "                    c-5.1-5.7-10.9-10.8-16.1-16.3C84,38,81.9,37.1,78,38.3C66.7,42,56.2,35.7,53,24.1C50.3,14,57.3,2.8,67.7,0.5\n",
              "                    C78.4-2,89,4.7,91.5,15.3c0.1,0.3,0.1,0.5,0.2,0.8c0.7,3.4,0.7,6.9-0.8,9.8c-1.7,3.2-0.8,5,1.5,7.2c6.7,6.5,13.3,13,19.8,19.7\n",
              "                    c1.8,1.8,3,2.1,5.5,1.2c9.1-3.4,17.9-0.6,23.4,7c4.8,6.9,4.6,16.1-0.4,22.9c-5.4,7.2-14.2,9.9-23.1,6.5c-2.3-0.9-3.5-0.6-5.1,1.1\n",
              "                    c-6.7,6.9-13.6,13.7-20.5,20.4c-1.8,1.8-2.5,3.2-1.4,5.9c3.5,8.7,0.3,18.6-7.7,23.6c-7.9,5-18.2,3.8-24.8-2.9\n",
              "                    c-6.4-6.4-7.4-16.2-2.5-24.3c4.9-7.8,14.5-11,23.1-7.8c3,1.1,4.7,0.5,6.9-1.7C91.7,98.4,98,92.3,104.2,86c1.6-1.6,4.1-2.7,2.6-6.2\n",
              "                    c-1.4-3.3-3.8-2.5-6.2-2.6C99.8,77.2,98.9,77.2,97.3,77.2z M72.1,29.7c5.5,0.1,9.9-4.3,10-9.8c0-0.1,0-0.2,0-0.3\n",
              "                    C81.8,14,77,9.8,71.5,10.2c-5,0.3-9,4.2-9.3,9.2c-0.2,5.5,4,10.1,9.5,10.3C71.8,29.7,72,29.7,72.1,29.7z M72.3,62.3\n",
              "                    c-5.4-0.1-9.9,4.2-10.1,9.7c0,0.2,0,0.3,0,0.5c0.2,5.4,4.5,9.7,9.9,10c5.1,0.1,9.9-4.7,10.1-9.8c0.2-5.5-4-10-9.5-10.3\n",
              "                    C72.6,62.3,72.4,62.3,72.3,62.3z M115,72.5c0.1,5.4,4.5,9.7,9.8,9.9c5.6-0.2,10-4.8,10-10.4c-0.2-5.4-4.6-9.7-10-9.7\n",
              "                    c-5.3-0.1-9.8,4.2-9.9,9.5C115,72.1,115,72.3,115,72.5z M19.5,62.3c-5.4,0.1-9.8,4.4-10,9.8c-0.1,5.1,5.2,10.4,10.2,10.3\n",
              "                    c5.6-0.2,10-4.9,9.8-10.5c-0.1-5.4-4.5-9.7-9.9-9.6C19.6,62.3,19.5,62.3,19.5,62.3z M71.8,134.6c5.9,0.2,10.3-3.9,10.4-9.6\n",
              "                    c0.5-5.5-3.6-10.4-9.1-10.8c-5.5-0.5-10.4,3.6-10.8,9.1c0,0.5,0,0.9,0,1.4c-0.2,5.3,4,9.8,9.3,10\n",
              "                    C71.6,134.6,71.7,134.6,71.8,134.6z\"/>\n",
              "            </g>\n",
              "        </svg>\n",
              "        <table>\n",
              "            <tr>\n",
              "                <td style=\"text-align: left\"><b>Python version:</b></td>\n",
              "                <td style=\"text-align: left\"><b>3.10.10</b></td>\n",
              "            </tr>\n",
              "            <tr>\n",
              "                <td style=\"text-align: left\"><b>Ray version:</b></td>\n",
              "                <td style=\"text-align: left\"><b> 2.3.1</b></td>\n",
              "            </tr>\n",
              "            \n",
              "        </table>\n",
              "    </div>\n",
              "</div>\n"
            ],
            "text/plain": [
              "RayContext(dashboard_url='', python_version='3.10.10', ray_version='2.3.1', ray_commit='5f14cee8dfc6d61ec4fd3bc2c440f9944e92b33a', address_info={'node_ip_address': '192.168.1.107', 'raylet_ip_address': '192.168.1.107', 'redis_address': None, 'object_store_address': '/tmp/ray/session_2023-06-22_16-30-49_750327_849589/sockets/plasma_store', 'raylet_socket_name': '/tmp/ray/session_2023-06-22_16-30-49_750327_849589/sockets/raylet', 'webui_url': '', 'session_dir': '/tmp/ray/session_2023-06-22_16-30-49_750327_849589', 'metrics_export_port': 65429, 'gcs_address': '192.168.1.107:64207', 'address': '192.168.1.107:64207', 'dashboard_agent_listen_port': 52365, 'node_id': 'cc6ca3e9047e020bc8cf9e6aa1fae3bec3f884a86c8a32e2a2c7ad20'})"
            ]
          },
          "execution_count": 5,
          "metadata": {},
          "output_type": "execute_result"
        }
      ],
      "source": [
        "from prefect import task, flow\n",
        "from prefect.task_runners import ConcurrentTaskRunner\n",
        "from prefect_ray.task_runners import RayTaskRunner\n",
        "import ray\n",
        "\n",
        "import pandas as pd\n",
        "import numpy as np\n",
        "\n",
        "import logging\n",
        "\n",
        "!export PREFECT_LOGGING_LEVEL=\"WARNING\"\n",
        "ray.shutdown()\n",
        "parallelRunner = ray.init(\n",
        "  configure_logging=True,\n",
        "  logging_level=logging.ERROR,\n",
        ")\n",
        "parallelRunner"
      ]
    },
    {
      "cell_type": "code",
      "execution_count": 5,
      "metadata": {
        "id": "S04Kzco5ci8n"
      },
      "outputs": [
        {
          "name": "stdout",
          "output_type": "stream",
          "text": [
            "Deleting flow: bootstrap, 9502aee0-c3fa-4612-a752-19343216f387\n",
            "Flow with UUID 9502aee0-c3fa-4612-a752-19343216f387 deleted\n",
            "Deleting flow: classify, 4e5cd54e-d4ae-46d7-85e6-c8f54fcd5719\n",
            "Flow with UUID 4e5cd54e-d4ae-46d7-85e6-c8f54fcd5719 deleted\n",
            "Deleting flow: main, 8a8a4b07-fd86-4d09-9f47-5a3e3d541f54\n",
            "Flow with UUID 8a8a4b07-fd86-4d09-9f47-5a3e3d541f54 deleted\n",
            "Deleting flow: processInputFiles, 7bd5e911-e0af-4172-9897-874dee374acf\n",
            "Flow with UUID 7bd5e911-e0af-4172-9897-874dee374acf deleted\n"
          ]
        }
      ],
      "source": [
        "from sklearn.ensemble import (\n",
        "    AdaBoostClassifier,\n",
        "    RandomForestClassifier,\n",
        ")\n",
        "from sklearn.linear_model import LogisticRegression\n",
        "from sklearn.naive_bayes import MultinomialNB\n",
        "from sklearn.svm import LinearSVC, SVC\n",
        "from xgboost import XGBClassifier\n",
        "from pytorch_tabnet.tab_model import TabNetClassifier\n",
        "from lion_pytorch import Lion\n",
        "\n",
        "from skopt.space import Categorical, Integer, Real\n",
        "\n",
        "from env import neptune_api_token\n",
        "\n",
        "RadialBasisSVC = SVC\n",
        "RadialBasisSVC.__name__ = \"RadialBasisSVC\"\n",
        "\n",
        "clearHistory = False\n",
        "\n",
        "# Edit config in config.py\n",
        " \n",
        "async def remove_all_flows():\n",
        "  from prefect.client import get_client\n",
        "  orion_client = get_client()\n",
        "  flows = await orion_client.read_flows()\n",
        "  for flow in flows:\n",
        "    flow_id = flow.id\n",
        "    print(f\"Deleting flow: {flow.name}, {flow_id}\")\n",
        "    await orion_client._client.delete(f\"/flows/{flow_id}\")\n",
        "    print(f\"Flow with UUID {flow_id} deleted\")\n",
        "\n",
        "if clearHistory: await remove_all_flows()"
      ]
    },
    {
      "cell_type": "code",
      "execution_count": 3,
      "metadata": {
        "colab": {
          "base_uri": "https://localhost:8080/",
          "height": 1000
        },
        "id": "CKlnYjPImk7I",
        "outputId": "13502d78-bfc1-4323-81f1-87f8168ad548"
      },
      "outputs": [
        {
          "data": {
            "text/html": [
              "<pre style=\"white-space:pre;overflow-x:auto;line-height:normal;font-family:Menlo,'DejaVu Sans Mono',consolas,'Courier New',monospace\">16:31:30.514 | <span style=\"color: #008080; text-decoration-color: #008080\">INFO</span>    | prefect.engine - Created flow run<span style=\"color: #800080; text-decoration-color: #800080\"> 'mahogany-quetzal'</span> for flow<span style=\"color: #800080; text-decoration-color: #800080; font-weight: bold\"> 'processInputFiles'</span>\n",
              "</pre>\n"
            ],
            "text/plain": [
              "16:31:30.514 | \u001b[36mINFO\u001b[0m    | prefect.engine - Created flow run\u001b[35m 'mahogany-quetzal'\u001b[0m for flow\u001b[1;35m 'processInputFiles'\u001b[0m\n"
            ]
          },
          "metadata": {},
          "output_type": "display_data"
        },
        {
          "data": {
            "text/html": [
              "<pre style=\"white-space:pre;overflow-x:auto;line-height:normal;font-family:Menlo,'DejaVu Sans Mono',consolas,'Courier New',monospace\">16:31:30.517 | <span style=\"color: #008080; text-decoration-color: #008080\">INFO</span>    | Flow run<span style=\"color: #800080; text-decoration-color: #800080\"> 'mahogany-quetzal'</span> - View at <span style=\"color: #0000ff; text-decoration-color: #0000ff\">http://127.0.0.1:4200/flow-runs/flow-run/34327691-543d-471c-b301-1c8fcc690ee8</span>\n",
              "</pre>\n"
            ],
            "text/plain": [
              "16:31:30.517 | \u001b[36mINFO\u001b[0m    | Flow run\u001b[35m 'mahogany-quetzal'\u001b[0m - View at \u001b[94mhttp://127.0.0.1:4200/flow-runs/flow-run/34327691-543d-471c-b301-1c8fcc690ee8\u001b[0m\n"
            ]
          },
          "metadata": {},
          "output_type": "display_data"
        },
        {
          "data": {
            "text/html": [
              "<pre style=\"white-space:pre;overflow-x:auto;line-height:normal;font-family:Menlo,'DejaVu Sans Mono',consolas,'Courier New',monospace\">16:31:30.612 | <span style=\"color: #008080; text-decoration-color: #008080\">INFO</span>    | Flow run<span style=\"color: #800080; text-decoration-color: #800080\"> 'mahogany-quetzal'</span> - Created task run 'load-0' for task 'load'\n",
              "</pre>\n"
            ],
            "text/plain": [
              "16:31:30.612 | \u001b[36mINFO\u001b[0m    | Flow run\u001b[35m 'mahogany-quetzal'\u001b[0m - Created task run 'load-0' for task 'load'\n"
            ]
          },
          "metadata": {},
          "output_type": "display_data"
        },
        {
          "data": {
            "text/html": [
              "<pre style=\"white-space:pre;overflow-x:auto;line-height:normal;font-family:Menlo,'DejaVu Sans Mono',consolas,'Courier New',monospace\">16:31:30.613 | <span style=\"color: #008080; text-decoration-color: #008080\">INFO</span>    | Flow run<span style=\"color: #800080; text-decoration-color: #800080\"> 'mahogany-quetzal'</span> - Executing 'load-0' immediately...\n",
              "</pre>\n"
            ],
            "text/plain": [
              "16:31:30.613 | \u001b[36mINFO\u001b[0m    | Flow run\u001b[35m 'mahogany-quetzal'\u001b[0m - Executing 'load-0' immediately...\n"
            ]
          },
          "metadata": {},
          "output_type": "display_data"
        },
        {
          "name": "stderr",
          "output_type": "stream",
          "text": [
            "/home/noot/.pyenv/versions/miniconda3-latest/lib/python3.10/site-packages/openpyxl/worksheet/_reader.py:329: UserWarning: Unknown extension is not supported and will be removed\n",
            "  warn(msg)\n"
          ]
        },
        {
          "data": {
            "text/html": [
              "<pre style=\"white-space:pre;overflow-x:auto;line-height:normal;font-family:Menlo,'DejaVu Sans Mono',consolas,'Courier New',monospace\">16:32:35.706 | <span style=\"color: #008080; text-decoration-color: #008080\">INFO</span>    | Task run 'load-0' - Finished in state <span style=\"color: #008000; text-decoration-color: #008000\">Completed</span>()\n",
              "</pre>\n"
            ],
            "text/plain": [
              "16:32:35.706 | \u001b[36mINFO\u001b[0m    | Task run 'load-0' - Finished in state \u001b[32mCompleted\u001b[0m()\n"
            ]
          },
          "metadata": {},
          "output_type": "display_data"
        },
        {
          "data": {
            "text/html": [
              "<pre style=\"white-space:pre;overflow-x:auto;line-height:normal;font-family:Menlo,'DejaVu Sans Mono',consolas,'Courier New',monospace\">16:32:35.737 | <span style=\"color: #008080; text-decoration-color: #008080\">INFO</span>    | Flow run<span style=\"color: #800080; text-decoration-color: #800080\"> 'mahogany-quetzal'</span> - Created task run 'filterTable-0' for task 'filterTable'\n",
              "</pre>\n"
            ],
            "text/plain": [
              "16:32:35.737 | \u001b[36mINFO\u001b[0m    | Flow run\u001b[35m 'mahogany-quetzal'\u001b[0m - Created task run 'filterTable-0' for task 'filterTable'\n"
            ]
          },
          "metadata": {},
          "output_type": "display_data"
        },
        {
          "data": {
            "text/html": [
              "<pre style=\"white-space:pre;overflow-x:auto;line-height:normal;font-family:Menlo,'DejaVu Sans Mono',consolas,'Courier New',monospace\">16:32:35.738 | <span style=\"color: #008080; text-decoration-color: #008080\">INFO</span>    | Flow run<span style=\"color: #800080; text-decoration-color: #800080\"> 'mahogany-quetzal'</span> - Executing 'filterTable-0' immediately...\n",
              "</pre>\n"
            ],
            "text/plain": [
              "16:32:35.738 | \u001b[36mINFO\u001b[0m    | Flow run\u001b[35m 'mahogany-quetzal'\u001b[0m - Executing 'filterTable-0' immediately...\n"
            ]
          },
          "metadata": {},
          "output_type": "display_data"
        },
        {
          "data": {
            "text/html": [
              "<pre style=\"white-space:pre;overflow-x:auto;line-height:normal;font-family:Menlo,'DejaVu Sans Mono',consolas,'Courier New',monospace\">16:32:36.046 | <span style=\"color: #008080; text-decoration-color: #008080\">INFO</span>    | Task run 'filterTable-0' - Filtering: pct_european&gt;=0.85\n",
              "</pre>\n"
            ],
            "text/plain": [
              "16:32:36.046 | \u001b[36mINFO\u001b[0m    | Task run 'filterTable-0' - Filtering: pct_european>=0.85\n"
            ]
          },
          "metadata": {},
          "output_type": "display_data"
        },
        {
          "data": {
            "text/html": [
              "<pre style=\"white-space:pre;overflow-x:auto;line-height:normal;font-family:Menlo,'DejaVu Sans Mono',consolas,'Courier New',monospace\">16:32:36.133 | <span style=\"color: #008080; text-decoration-color: #008080\">INFO</span>    | Task run 'filterTable-0' - Finished in state <span style=\"color: #008000; text-decoration-color: #008000\">Completed</span>()\n",
              "</pre>\n"
            ],
            "text/plain": [
              "16:32:36.133 | \u001b[36mINFO\u001b[0m    | Task run 'filterTable-0' - Finished in state \u001b[32mCompleted\u001b[0m()\n"
            ]
          },
          "metadata": {},
          "output_type": "display_data"
        },
        {
          "data": {
            "text/html": [
              "<pre style=\"white-space:pre;overflow-x:auto;line-height:normal;font-family:Menlo,'DejaVu Sans Mono',consolas,'Courier New',monospace\">16:32:36.135 | <span style=\"color: #008080; text-decoration-color: #008080\">INFO</span>    | Flow run<span style=\"color: #800080; text-decoration-color: #800080\"> 'mahogany-quetzal'</span> - filtered 590 samples from clinical data\n",
              "</pre>\n"
            ],
            "text/plain": [
              "16:32:36.135 | \u001b[36mINFO\u001b[0m    | Flow run\u001b[35m 'mahogany-quetzal'\u001b[0m - filtered 590 samples from clinical data\n"
            ]
          },
          "metadata": {},
          "output_type": "display_data"
        },
        {
          "data": {
            "text/html": [
              "<pre style=\"white-space:pre;overflow-x:auto;line-height:normal;font-family:Menlo,'DejaVu Sans Mono',consolas,'Courier New',monospace\">16:32:36.156 | <span style=\"color: #008080; text-decoration-color: #008080\">INFO</span>    | Flow run<span style=\"color: #800080; text-decoration-color: #800080\"> 'mahogany-quetzal'</span> - Created task run 'filterTable-1' for task 'filterTable'\n",
              "</pre>\n"
            ],
            "text/plain": [
              "16:32:36.156 | \u001b[36mINFO\u001b[0m    | Flow run\u001b[35m 'mahogany-quetzal'\u001b[0m - Created task run 'filterTable-1' for task 'filterTable'\n"
            ]
          },
          "metadata": {},
          "output_type": "display_data"
        },
        {
          "data": {
            "text/html": [
              "<pre style=\"white-space:pre;overflow-x:auto;line-height:normal;font-family:Menlo,'DejaVu Sans Mono',consolas,'Courier New',monospace\">16:32:36.158 | <span style=\"color: #008080; text-decoration-color: #008080\">INFO</span>    | Flow run<span style=\"color: #800080; text-decoration-color: #800080\"> 'mahogany-quetzal'</span> - Executing 'filterTable-1' immediately...\n",
              "</pre>\n"
            ],
            "text/plain": [
              "16:32:36.158 | \u001b[36mINFO\u001b[0m    | Flow run\u001b[35m 'mahogany-quetzal'\u001b[0m - Executing 'filterTable-1' immediately...\n"
            ]
          },
          "metadata": {},
          "output_type": "display_data"
        },
        {
          "data": {
            "text/html": [
              "<pre style=\"white-space:pre;overflow-x:auto;line-height:normal;font-family:Menlo,'DejaVu Sans Mono',consolas,'Courier New',monospace\">16:32:36.201 | <span style=\"color: #008080; text-decoration-color: #008080\">INFO</span>    | Task run 'filterTable-1' - Filtering: `Superpopulation code`=='EUR' &amp; `Population name`!='Finnish'\n",
              "</pre>\n"
            ],
            "text/plain": [
              "16:32:36.201 | \u001b[36mINFO\u001b[0m    | Task run 'filterTable-1' - Filtering: `Superpopulation code`=='EUR' & `Population name`!='Finnish'\n"
            ]
          },
          "metadata": {},
          "output_type": "display_data"
        },
        {
          "data": {
            "text/html": [
              "<pre style=\"white-space:pre;overflow-x:auto;line-height:normal;font-family:Menlo,'DejaVu Sans Mono',consolas,'Courier New',monospace\">16:32:36.237 | <span style=\"color: #008080; text-decoration-color: #008080\">INFO</span>    | Task run 'filterTable-1' - Finished in state <span style=\"color: #008000; text-decoration-color: #008000\">Completed</span>()\n",
              "</pre>\n"
            ],
            "text/plain": [
              "16:32:36.237 | \u001b[36mINFO\u001b[0m    | Task run 'filterTable-1' - Finished in state \u001b[32mCompleted\u001b[0m()\n"
            ]
          },
          "metadata": {},
          "output_type": "display_data"
        },
        {
          "data": {
            "text/html": [
              "<pre style=\"white-space:pre;overflow-x:auto;line-height:normal;font-family:Menlo,'DejaVu Sans Mono',consolas,'Courier New',monospace\">16:32:36.270 | <span style=\"color: #008080; text-decoration-color: #008080\">INFO</span>    | Flow run<span style=\"color: #800080; text-decoration-color: #800080\"> 'mahogany-quetzal'</span> - Created task run 'filterTable-2' for task 'filterTable'\n",
              "</pre>\n"
            ],
            "text/plain": [
              "16:32:36.270 | \u001b[36mINFO\u001b[0m    | Flow run\u001b[35m 'mahogany-quetzal'\u001b[0m - Created task run 'filterTable-2' for task 'filterTable'\n"
            ]
          },
          "metadata": {},
          "output_type": "display_data"
        },
        {
          "data": {
            "text/html": [
              "<pre style=\"white-space:pre;overflow-x:auto;line-height:normal;font-family:Menlo,'DejaVu Sans Mono',consolas,'Courier New',monospace\">16:32:36.271 | <span style=\"color: #008080; text-decoration-color: #008080\">INFO</span>    | Flow run<span style=\"color: #800080; text-decoration-color: #800080\"> 'mahogany-quetzal'</span> - Executing 'filterTable-2' immediately...\n",
              "</pre>\n"
            ],
            "text/plain": [
              "16:32:36.271 | \u001b[36mINFO\u001b[0m    | Flow run\u001b[35m 'mahogany-quetzal'\u001b[0m - Executing 'filterTable-2' immediately...\n"
            ]
          },
          "metadata": {},
          "output_type": "display_data"
        },
        {
          "data": {
            "text/html": [
              "<pre style=\"white-space:pre;overflow-x:auto;line-height:normal;font-family:Menlo,'DejaVu Sans Mono',consolas,'Courier New',monospace\">16:32:36.324 | <span style=\"color: #008080; text-decoration-color: #008080\">INFO</span>    | Task run 'filterTable-2' - Filtering: `testLabel`==1\n",
              "</pre>\n"
            ],
            "text/plain": [
              "16:32:36.324 | \u001b[36mINFO\u001b[0m    | Task run 'filterTable-2' - Filtering: `testLabel`==1\n"
            ]
          },
          "metadata": {},
          "output_type": "display_data"
        },
        {
          "data": {
            "text/html": [
              "<pre style=\"white-space:pre;overflow-x:auto;line-height:normal;font-family:Menlo,'DejaVu Sans Mono',consolas,'Courier New',monospace\">16:32:36.370 | <span style=\"color: #008080; text-decoration-color: #008080\">INFO</span>    | Task run 'filterTable-2' - Finished in state <span style=\"color: #008000; text-decoration-color: #008000\">Completed</span>()\n",
              "</pre>\n"
            ],
            "text/plain": [
              "16:32:36.370 | \u001b[36mINFO\u001b[0m    | Task run 'filterTable-2' - Finished in state \u001b[32mCompleted\u001b[0m()\n"
            ]
          },
          "metadata": {},
          "output_type": "display_data"
        },
        {
          "data": {
            "text/html": [
              "<pre style=\"white-space:pre;overflow-x:auto;line-height:normal;font-family:Menlo,'DejaVu Sans Mono',consolas,'Courier New',monospace\">16:32:36.390 | <span style=\"color: #008080; text-decoration-color: #008080\">INFO</span>    | Flow run<span style=\"color: #800080; text-decoration-color: #800080\"> 'mahogany-quetzal'</span> - Created task run 'filterTable-3' for task 'filterTable'\n",
              "</pre>\n"
            ],
            "text/plain": [
              "16:32:36.390 | \u001b[36mINFO\u001b[0m    | Flow run\u001b[35m 'mahogany-quetzal'\u001b[0m - Created task run 'filterTable-3' for task 'filterTable'\n"
            ]
          },
          "metadata": {},
          "output_type": "display_data"
        },
        {
          "data": {
            "text/html": [
              "<pre style=\"white-space:pre;overflow-x:auto;line-height:normal;font-family:Menlo,'DejaVu Sans Mono',consolas,'Courier New',monospace\">16:32:36.391 | <span style=\"color: #008080; text-decoration-color: #008080\">INFO</span>    | Flow run<span style=\"color: #800080; text-decoration-color: #800080\"> 'mahogany-quetzal'</span> - Executing 'filterTable-3' immediately...\n",
              "</pre>\n"
            ],
            "text/plain": [
              "16:32:36.391 | \u001b[36mINFO\u001b[0m    | Flow run\u001b[35m 'mahogany-quetzal'\u001b[0m - Executing 'filterTable-3' immediately...\n"
            ]
          },
          "metadata": {},
          "output_type": "display_data"
        },
        {
          "data": {
            "text/html": [
              "<pre style=\"white-space:pre;overflow-x:auto;line-height:normal;font-family:Menlo,'DejaVu Sans Mono',consolas,'Courier New',monospace\">16:32:36.436 | <span style=\"color: #008080; text-decoration-color: #008080\">INFO</span>    | Task run 'filterTable-3' - Filtering: `Subject Group`=='ALS Spectrum MND' &amp; `pct_european`&lt;0.85\n",
              "</pre>\n"
            ],
            "text/plain": [
              "16:32:36.436 | \u001b[36mINFO\u001b[0m    | Task run 'filterTable-3' - Filtering: `Subject Group`=='ALS Spectrum MND' & `pct_european`<0.85\n"
            ]
          },
          "metadata": {},
          "output_type": "display_data"
        },
        {
          "data": {
            "text/html": [
              "<pre style=\"white-space:pre;overflow-x:auto;line-height:normal;font-family:Menlo,'DejaVu Sans Mono',consolas,'Courier New',monospace\">16:32:36.470 | <span style=\"color: #008080; text-decoration-color: #008080\">INFO</span>    | Task run 'filterTable-3' - Finished in state <span style=\"color: #008000; text-decoration-color: #008000\">Completed</span>()\n",
              "</pre>\n"
            ],
            "text/plain": [
              "16:32:36.470 | \u001b[36mINFO\u001b[0m    | Task run 'filterTable-3' - Finished in state \u001b[32mCompleted\u001b[0m()\n"
            ]
          },
          "metadata": {},
          "output_type": "display_data"
        },
        {
          "data": {
            "text/html": [
              "<pre style=\"white-space:pre;overflow-x:auto;line-height:normal;font-family:Menlo,'DejaVu Sans Mono',consolas,'Courier New',monospace\">16:32:36.497 | <span style=\"color: #008080; text-decoration-color: #008080\">INFO</span>    | Flow run<span style=\"color: #800080; text-decoration-color: #800080\"> 'mahogany-quetzal'</span> - Created task run 'filterTable-4' for task 'filterTable'\n",
              "</pre>\n"
            ],
            "text/plain": [
              "16:32:36.497 | \u001b[36mINFO\u001b[0m    | Flow run\u001b[35m 'mahogany-quetzal'\u001b[0m - Created task run 'filterTable-4' for task 'filterTable'\n"
            ]
          },
          "metadata": {},
          "output_type": "display_data"
        },
        {
          "data": {
            "text/html": [
              "<pre style=\"white-space:pre;overflow-x:auto;line-height:normal;font-family:Menlo,'DejaVu Sans Mono',consolas,'Courier New',monospace\">16:32:36.499 | <span style=\"color: #008080; text-decoration-color: #008080\">INFO</span>    | Flow run<span style=\"color: #800080; text-decoration-color: #800080\"> 'mahogany-quetzal'</span> - Executing 'filterTable-4' immediately...\n",
              "</pre>\n"
            ],
            "text/plain": [
              "16:32:36.499 | \u001b[36mINFO\u001b[0m    | Flow run\u001b[35m 'mahogany-quetzal'\u001b[0m - Executing 'filterTable-4' immediately...\n"
            ]
          },
          "metadata": {},
          "output_type": "display_data"
        },
        {
          "data": {
            "text/html": [
              "<pre style=\"white-space:pre;overflow-x:auto;line-height:normal;font-family:Menlo,'DejaVu Sans Mono',consolas,'Courier New',monospace\">16:32:36.546 | <span style=\"color: #008080; text-decoration-color: #008080\">INFO</span>    | Task run 'filterTable-4' - Filtering: `Subject Group`=='Non-Neurological Control' &amp; `pct_european`&lt;0.85\n",
              "</pre>\n"
            ],
            "text/plain": [
              "16:32:36.546 | \u001b[36mINFO\u001b[0m    | Task run 'filterTable-4' - Filtering: `Subject Group`=='Non-Neurological Control' & `pct_european`<0.85\n"
            ]
          },
          "metadata": {},
          "output_type": "display_data"
        },
        {
          "data": {
            "text/html": [
              "<pre style=\"white-space:pre;overflow-x:auto;line-height:normal;font-family:Menlo,'DejaVu Sans Mono',consolas,'Courier New',monospace\">16:32:36.586 | <span style=\"color: #008080; text-decoration-color: #008080\">INFO</span>    | Task run 'filterTable-4' - Finished in state <span style=\"color: #008000; text-decoration-color: #008000\">Completed</span>()\n",
              "</pre>\n"
            ],
            "text/plain": [
              "16:32:36.586 | \u001b[36mINFO\u001b[0m    | Task run 'filterTable-4' - Finished in state \u001b[32mCompleted\u001b[0m()\n"
            ]
          },
          "metadata": {},
          "output_type": "display_data"
        },
        {
          "data": {
            "text/html": [
              "<pre style=\"white-space:pre;overflow-x:auto;line-height:normal;font-family:Menlo,'DejaVu Sans Mono',consolas,'Courier New',monospace\">16:32:36.625 | <span style=\"color: #008080; text-decoration-color: #008080\">INFO</span>    | Flow run<span style=\"color: #800080; text-decoration-color: #800080\"> 'mahogany-quetzal'</span> - Created task run 'filterTable-5' for task 'filterTable'\n",
              "</pre>\n"
            ],
            "text/plain": [
              "16:32:36.625 | \u001b[36mINFO\u001b[0m    | Flow run\u001b[35m 'mahogany-quetzal'\u001b[0m - Created task run 'filterTable-5' for task 'filterTable'\n"
            ]
          },
          "metadata": {},
          "output_type": "display_data"
        },
        {
          "data": {
            "text/html": [
              "<pre style=\"white-space:pre;overflow-x:auto;line-height:normal;font-family:Menlo,'DejaVu Sans Mono',consolas,'Courier New',monospace\">16:32:36.626 | <span style=\"color: #008080; text-decoration-color: #008080\">INFO</span>    | Flow run<span style=\"color: #800080; text-decoration-color: #800080\"> 'mahogany-quetzal'</span> - Executing 'filterTable-5' immediately...\n",
              "</pre>\n"
            ],
            "text/plain": [
              "16:32:36.626 | \u001b[36mINFO\u001b[0m    | Flow run\u001b[35m 'mahogany-quetzal'\u001b[0m - Executing 'filterTable-5' immediately...\n"
            ]
          },
          "metadata": {},
          "output_type": "display_data"
        },
        {
          "data": {
            "text/html": [
              "<pre style=\"white-space:pre;overflow-x:auto;line-height:normal;font-family:Menlo,'DejaVu Sans Mono',consolas,'Courier New',monospace\">16:32:36.674 | <span style=\"color: #008080; text-decoration-color: #008080\">INFO</span>    | Task run 'filterTable-5' - Filtering: `Superpopulation code`!='EUR' &amp; `Population name`!='Finnish'\n",
              "</pre>\n"
            ],
            "text/plain": [
              "16:32:36.674 | \u001b[36mINFO\u001b[0m    | Task run 'filterTable-5' - Filtering: `Superpopulation code`!='EUR' & `Population name`!='Finnish'\n"
            ]
          },
          "metadata": {},
          "output_type": "display_data"
        },
        {
          "data": {
            "text/html": [
              "<pre style=\"white-space:pre;overflow-x:auto;line-height:normal;font-family:Menlo,'DejaVu Sans Mono',consolas,'Courier New',monospace\">16:32:36.710 | <span style=\"color: #008080; text-decoration-color: #008080\">INFO</span>    | Task run 'filterTable-5' - Finished in state <span style=\"color: #008000; text-decoration-color: #008000\">Completed</span>()\n",
              "</pre>\n"
            ],
            "text/plain": [
              "16:32:36.710 | \u001b[36mINFO\u001b[0m    | Task run 'filterTable-5' - Finished in state \u001b[32mCompleted\u001b[0m()\n"
            ]
          },
          "metadata": {},
          "output_type": "display_data"
        },
        {
          "data": {
            "text/html": [
              "<pre style=\"white-space:pre;overflow-x:auto;line-height:normal;font-family:Menlo,'DejaVu Sans Mono',consolas,'Courier New',monospace\">16:32:36.711 | <span style=\"color: #008080; text-decoration-color: #008080\">INFO</span>    | Flow run<span style=\"color: #800080; text-decoration-color: #800080\"> 'mahogany-quetzal'</span> - filtered 4411 samples from external data ../notebook/igsr-1000 genomes phase 3 release.tsv\n",
              "</pre>\n"
            ],
            "text/plain": [
              "16:32:36.711 | \u001b[36mINFO\u001b[0m    | Flow run\u001b[35m 'mahogany-quetzal'\u001b[0m - filtered 4411 samples from external data ../notebook/igsr-1000 genomes phase 3 release.tsv\n"
            ]
          },
          "metadata": {},
          "output_type": "display_data"
        },
        {
          "data": {
            "text/html": [
              "<pre style=\"white-space:pre;overflow-x:auto;line-height:normal;font-family:Menlo,'DejaVu Sans Mono',consolas,'Courier New',monospace\">16:32:36.713 | <span style=\"color: #008080; text-decoration-color: #008080\">INFO</span>    | Flow run<span style=\"color: #800080; text-decoration-color: #800080\"> 'mahogany-quetzal'</span> - filtered 124 samples from external data ../notebook/ALS-NUPS-2000__accurateSamples_&gt;=97.5%.csv\n",
              "</pre>\n"
            ],
            "text/plain": [
              "16:32:36.713 | \u001b[36mINFO\u001b[0m    | Flow run\u001b[35m 'mahogany-quetzal'\u001b[0m - filtered 124 samples from external data ../notebook/ALS-NUPS-2000__accurateSamples_>=97.5%.csv\n"
            ]
          },
          "metadata": {},
          "output_type": "display_data"
        },
        {
          "data": {
            "text/html": [
              "<pre style=\"white-space:pre;overflow-x:auto;line-height:normal;font-family:Menlo,'DejaVu Sans Mono',consolas,'Courier New',monospace\">16:32:36.714 | <span style=\"color: #008080; text-decoration-color: #008080\">INFO</span>    | Flow run<span style=\"color: #800080; text-decoration-color: #800080\"> 'mahogany-quetzal'</span> - filtered 15 samples from external data ../notebook/ACWM_ethnicallyVariable.tsv\n",
              "</pre>\n"
            ],
            "text/plain": [
              "16:32:36.714 | \u001b[36mINFO\u001b[0m    | Flow run\u001b[35m 'mahogany-quetzal'\u001b[0m - filtered 15 samples from external data ../notebook/ACWM_ethnicallyVariable.tsv\n"
            ]
          },
          "metadata": {},
          "output_type": "display_data"
        },
        {
          "data": {
            "text/html": [
              "<pre style=\"white-space:pre;overflow-x:auto;line-height:normal;font-family:Menlo,'DejaVu Sans Mono',consolas,'Courier New',monospace\">16:32:36.715 | <span style=\"color: #008080; text-decoration-color: #008080\">INFO</span>    | Flow run<span style=\"color: #800080; text-decoration-color: #800080\"> 'mahogany-quetzal'</span> - filtered 98 samples from external data ../notebook/ACWM_ethnicallyVariable.tsv\n",
              "</pre>\n"
            ],
            "text/plain": [
              "16:32:36.715 | \u001b[36mINFO\u001b[0m    | Flow run\u001b[35m 'mahogany-quetzal'\u001b[0m - filtered 98 samples from external data ../notebook/ACWM_ethnicallyVariable.tsv\n"
            ]
          },
          "metadata": {},
          "output_type": "display_data"
        },
        {
          "data": {
            "text/html": [
              "<pre style=\"white-space:pre;overflow-x:auto;line-height:normal;font-family:Menlo,'DejaVu Sans Mono',consolas,'Courier New',monospace\">16:32:36.716 | <span style=\"color: #008080; text-decoration-color: #008080\">INFO</span>    | Flow run<span style=\"color: #800080; text-decoration-color: #800080\"> 'mahogany-quetzal'</span> - filtered 669 samples from external data ../notebook/igsr-1000 genomes phase 3 release.tsv\n",
              "</pre>\n"
            ],
            "text/plain": [
              "16:32:36.716 | \u001b[36mINFO\u001b[0m    | Flow run\u001b[35m 'mahogany-quetzal'\u001b[0m - filtered 669 samples from external data ../notebook/igsr-1000 genomes phase 3 release.tsv\n"
            ]
          },
          "metadata": {},
          "output_type": "display_data"
        },
        {
          "data": {
            "text/html": [
              "<pre style=\"white-space:pre;overflow-x:auto;line-height:normal;font-family:Menlo,'DejaVu Sans Mono',consolas,'Courier New',monospace\">16:32:36.746 | <span style=\"color: #008080; text-decoration-color: #008080\">INFO</span>    | Flow run<span style=\"color: #800080; text-decoration-color: #800080\"> 'mahogany-quetzal'</span> - Created task run 'filterTable-6' for task 'filterTable'\n",
              "</pre>\n"
            ],
            "text/plain": [
              "16:32:36.746 | \u001b[36mINFO\u001b[0m    | Flow run\u001b[35m 'mahogany-quetzal'\u001b[0m - Created task run 'filterTable-6' for task 'filterTable'\n"
            ]
          },
          "metadata": {},
          "output_type": "display_data"
        },
        {
          "data": {
            "text/html": [
              "<pre style=\"white-space:pre;overflow-x:auto;line-height:normal;font-family:Menlo,'DejaVu Sans Mono',consolas,'Courier New',monospace\">16:32:36.747 | <span style=\"color: #008080; text-decoration-color: #008080\">INFO</span>    | Flow run<span style=\"color: #800080; text-decoration-color: #800080\"> 'mahogany-quetzal'</span> - Executing 'filterTable-6' immediately...\n",
              "</pre>\n"
            ],
            "text/plain": [
              "16:32:36.747 | \u001b[36mINFO\u001b[0m    | Flow run\u001b[35m 'mahogany-quetzal'\u001b[0m - Executing 'filterTable-6' immediately...\n"
            ]
          },
          "metadata": {},
          "output_type": "display_data"
        },
        {
          "data": {
            "text/html": [
              "<pre style=\"white-space:pre;overflow-x:auto;line-height:normal;font-family:Menlo,'DejaVu Sans Mono',consolas,'Courier New',monospace\">16:32:37.567 | <span style=\"color: #008080; text-decoration-color: #008080\">INFO</span>    | Task run 'filterTable-6' - Finished in state <span style=\"color: #008000; text-decoration-color: #008000\">Completed</span>()\n",
              "</pre>\n"
            ],
            "text/plain": [
              "16:32:37.567 | \u001b[36mINFO\u001b[0m    | Task run 'filterTable-6' - Finished in state \u001b[32mCompleted\u001b[0m()\n"
            ]
          },
          "metadata": {},
          "output_type": "display_data"
        },
        {
          "data": {
            "text/html": [
              "<pre style=\"white-space:pre;overflow-x:auto;line-height:normal;font-family:Menlo,'DejaVu Sans Mono',consolas,'Courier New',monospace\">16:32:37.568 | <span style=\"color: #008080; text-decoration-color: #008080\">INFO</span>    | Flow run<span style=\"color: #800080; text-decoration-color: #800080\"> 'mahogany-quetzal'</span> - filtered 0 variants from VCF\n",
              "</pre>\n"
            ],
            "text/plain": [
              "16:32:37.568 | \u001b[36mINFO\u001b[0m    | Flow run\u001b[35m 'mahogany-quetzal'\u001b[0m - filtered 0 variants from VCF\n"
            ]
          },
          "metadata": {},
          "output_type": "display_data"
        },
        {
          "data": {
            "text/html": [
              "<pre style=\"white-space:pre;overflow-x:auto;line-height:normal;font-family:Menlo,'DejaVu Sans Mono',consolas,'Courier New',monospace\">16:32:37.664 | <span style=\"color: #008080; text-decoration-color: #008080\">INFO</span>    | Flow run<span style=\"color: #800080; text-decoration-color: #800080\"> 'mahogany-quetzal'</span> - Created task run 'applyAlleleModel-1' for task 'applyAlleleModel'\n",
              "</pre>\n"
            ],
            "text/plain": [
              "16:32:37.664 | \u001b[36mINFO\u001b[0m    | Flow run\u001b[35m 'mahogany-quetzal'\u001b[0m - Created task run 'applyAlleleModel-1' for task 'applyAlleleModel'\n"
            ]
          },
          "metadata": {},
          "output_type": "display_data"
        },
        {
          "data": {
            "text/html": [
              "<pre style=\"white-space:pre;overflow-x:auto;line-height:normal;font-family:Menlo,'DejaVu Sans Mono',consolas,'Courier New',monospace\">16:32:37.666 | <span style=\"color: #008080; text-decoration-color: #008080\">INFO</span>    | Flow run<span style=\"color: #800080; text-decoration-color: #800080\"> 'mahogany-quetzal'</span> - Submitted task run 'applyAlleleModel-1' for execution.\n",
              "</pre>\n"
            ],
            "text/plain": [
              "16:32:37.666 | \u001b[36mINFO\u001b[0m    | Flow run\u001b[35m 'mahogany-quetzal'\u001b[0m - Submitted task run 'applyAlleleModel-1' for execution.\n"
            ]
          },
          "metadata": {},
          "output_type": "display_data"
        },
        {
          "data": {
            "text/html": [
              "<pre style=\"white-space:pre;overflow-x:auto;line-height:normal;font-family:Menlo,'DejaVu Sans Mono',consolas,'Courier New',monospace\">16:32:37.675 | <span style=\"color: #008080; text-decoration-color: #008080\">INFO</span>    | Flow run<span style=\"color: #800080; text-decoration-color: #800080\"> 'mahogany-quetzal'</span> - Created task run 'applyAlleleModel-0' for task 'applyAlleleModel'\n",
              "</pre>\n"
            ],
            "text/plain": [
              "16:32:37.675 | \u001b[36mINFO\u001b[0m    | Flow run\u001b[35m 'mahogany-quetzal'\u001b[0m - Created task run 'applyAlleleModel-0' for task 'applyAlleleModel'\n"
            ]
          },
          "metadata": {},
          "output_type": "display_data"
        },
        {
          "data": {
            "text/html": [
              "<pre style=\"white-space:pre;overflow-x:auto;line-height:normal;font-family:Menlo,'DejaVu Sans Mono',consolas,'Courier New',monospace\">16:32:37.676 | <span style=\"color: #008080; text-decoration-color: #008080\">INFO</span>    | Flow run<span style=\"color: #800080; text-decoration-color: #800080\"> 'mahogany-quetzal'</span> - Submitted task run 'applyAlleleModel-0' for execution.\n",
              "</pre>\n"
            ],
            "text/plain": [
              "16:32:37.676 | \u001b[36mINFO\u001b[0m    | Flow run\u001b[35m 'mahogany-quetzal'\u001b[0m - Submitted task run 'applyAlleleModel-0' for execution.\n"
            ]
          },
          "metadata": {},
          "output_type": "display_data"
        },
        {
          "name": "stderr",
          "output_type": "stream",
          "text": [
            "100%|██████████| 922/922 [01:04<00:00, 14.21id/s]\n",
            "100%|██████████| 400/400 [01:04<00:00,  6.18id/s]\n"
          ]
        },
        {
          "data": {
            "text/html": [
              "<pre style=\"white-space:pre;overflow-x:auto;line-height:normal;font-family:Menlo,'DejaVu Sans Mono',consolas,'Courier New',monospace\">16:33:46.414 | <span style=\"color: #008080; text-decoration-color: #008080\">INFO</span>    | Task run 'applyAlleleModel-0' - Finished in state <span style=\"color: #008000; text-decoration-color: #008000\">Completed</span>()\n",
              "</pre>\n"
            ],
            "text/plain": [
              "16:33:46.414 | \u001b[36mINFO\u001b[0m    | Task run 'applyAlleleModel-0' - Finished in state \u001b[32mCompleted\u001b[0m()\n"
            ]
          },
          "metadata": {},
          "output_type": "display_data"
        },
        {
          "data": {
            "text/html": [
              "<pre style=\"white-space:pre;overflow-x:auto;line-height:normal;font-family:Menlo,'DejaVu Sans Mono',consolas,'Courier New',monospace\">16:33:46.436 | <span style=\"color: #008080; text-decoration-color: #008080\">INFO</span>    | Task run 'applyAlleleModel-1' - Finished in state <span style=\"color: #008000; text-decoration-color: #008000\">Completed</span>()\n",
              "</pre>\n"
            ],
            "text/plain": [
              "16:33:46.436 | \u001b[36mINFO\u001b[0m    | Task run 'applyAlleleModel-1' - Finished in state \u001b[32mCompleted\u001b[0m()\n"
            ]
          },
          "metadata": {},
          "output_type": "display_data"
        },
        {
          "data": {
            "text/html": [
              "<pre style=\"white-space:pre;overflow-x:auto;line-height:normal;font-family:Menlo,'DejaVu Sans Mono',consolas,'Courier New',monospace\">16:33:46.527 | <span style=\"color: #008080; text-decoration-color: #008080\">INFO</span>    | Flow run<span style=\"color: #800080; text-decoration-color: #800080\"> 'mahogany-quetzal'</span> - Created task run 'applyAlleleModel-3' for task 'applyAlleleModel'\n",
              "</pre>\n"
            ],
            "text/plain": [
              "16:33:46.527 | \u001b[36mINFO\u001b[0m    | Flow run\u001b[35m 'mahogany-quetzal'\u001b[0m - Created task run 'applyAlleleModel-3' for task 'applyAlleleModel'\n"
            ]
          },
          "metadata": {},
          "output_type": "display_data"
        },
        {
          "data": {
            "text/html": [
              "<pre style=\"white-space:pre;overflow-x:auto;line-height:normal;font-family:Menlo,'DejaVu Sans Mono',consolas,'Courier New',monospace\">16:33:46.529 | <span style=\"color: #008080; text-decoration-color: #008080\">INFO</span>    | Flow run<span style=\"color: #800080; text-decoration-color: #800080\"> 'mahogany-quetzal'</span> - Submitted task run 'applyAlleleModel-3' for execution.\n",
              "</pre>\n"
            ],
            "text/plain": [
              "16:33:46.529 | \u001b[36mINFO\u001b[0m    | Flow run\u001b[35m 'mahogany-quetzal'\u001b[0m - Submitted task run 'applyAlleleModel-3' for execution.\n"
            ]
          },
          "metadata": {},
          "output_type": "display_data"
        },
        {
          "data": {
            "text/html": [
              "<pre style=\"white-space:pre;overflow-x:auto;line-height:normal;font-family:Menlo,'DejaVu Sans Mono',consolas,'Courier New',monospace\">16:33:46.539 | <span style=\"color: #008080; text-decoration-color: #008080\">INFO</span>    | Flow run<span style=\"color: #800080; text-decoration-color: #800080\"> 'mahogany-quetzal'</span> - Created task run 'applyAlleleModel-2' for task 'applyAlleleModel'\n",
              "</pre>\n"
            ],
            "text/plain": [
              "16:33:46.539 | \u001b[36mINFO\u001b[0m    | Flow run\u001b[35m 'mahogany-quetzal'\u001b[0m - Created task run 'applyAlleleModel-2' for task 'applyAlleleModel'\n"
            ]
          },
          "metadata": {},
          "output_type": "display_data"
        },
        {
          "data": {
            "text/html": [
              "<pre style=\"white-space:pre;overflow-x:auto;line-height:normal;font-family:Menlo,'DejaVu Sans Mono',consolas,'Courier New',monospace\">16:33:46.540 | <span style=\"color: #008080; text-decoration-color: #008080\">INFO</span>    | Flow run<span style=\"color: #800080; text-decoration-color: #800080\"> 'mahogany-quetzal'</span> - Submitted task run 'applyAlleleModel-2' for execution.\n",
              "</pre>\n"
            ],
            "text/plain": [
              "16:33:46.540 | \u001b[36mINFO\u001b[0m    | Flow run\u001b[35m 'mahogany-quetzal'\u001b[0m - Submitted task run 'applyAlleleModel-2' for execution.\n"
            ]
          },
          "metadata": {},
          "output_type": "display_data"
        },
        {
          "name": "stderr",
          "output_type": "stream",
          "text": [
            "100%|██████████| 97/97 [00:02<00:00, 33.76id/s]s]\n",
            "  1%|          | 52/4323 [00:03<04:26, 16.02id/s]"
          ]
        },
        {
          "data": {
            "text/html": [
              "<pre style=\"white-space:pre;overflow-x:auto;line-height:normal;font-family:Menlo,'DejaVu Sans Mono',consolas,'Courier New',monospace\">16:33:50.223 | <span style=\"color: #008080; text-decoration-color: #008080\">INFO</span>    | Task run 'applyAlleleModel-2' - Finished in state <span style=\"color: #008000; text-decoration-color: #008000\">Completed</span>()\n",
              "</pre>\n"
            ],
            "text/plain": [
              "16:33:50.223 | \u001b[36mINFO\u001b[0m    | Task run 'applyAlleleModel-2' - Finished in state \u001b[32mCompleted\u001b[0m()\n"
            ]
          },
          "metadata": {},
          "output_type": "display_data"
        },
        {
          "name": "stderr",
          "output_type": "stream",
          "text": [
            "100%|██████████| 4323/4323 [01:48<00:00, 39.72id/s] \n"
          ]
        },
        {
          "data": {
            "text/html": [
              "<pre style=\"white-space:pre;overflow-x:auto;line-height:normal;font-family:Menlo,'DejaVu Sans Mono',consolas,'Courier New',monospace\">16:35:42.612 | <span style=\"color: #008080; text-decoration-color: #008080\">INFO</span>    | Task run 'applyAlleleModel-3' - Finished in state <span style=\"color: #008000; text-decoration-color: #008000\">Completed</span>()\n",
              "</pre>\n"
            ],
            "text/plain": [
              "16:35:42.612 | \u001b[36mINFO\u001b[0m    | Task run 'applyAlleleModel-3' - Finished in state \u001b[32mCompleted\u001b[0m()\n"
            ]
          },
          "metadata": {},
          "output_type": "display_data"
        },
        {
          "data": {
            "text/html": [
              "<pre style=\"white-space:pre;overflow-x:auto;line-height:normal;font-family:Menlo,'DejaVu Sans Mono',consolas,'Courier New',monospace\">16:35:42.613 | <span style=\"color: #008080; text-decoration-color: #008080\">INFO</span>    | Flow run<span style=\"color: #800080; text-decoration-color: #800080\"> 'mahogany-quetzal'</span> - \n",
              "missing 238 control IDs:\n",
              " {'CGND-HDA-02887', 'NA12864', 'HG01755', 'NA10855', 'CGND-HDA-03171', 'HG01780', 'HG01601', 'HG04303', 'NA11882', 'CGND-HDA-05299', 'HG02225', 'HG00104', 'HG00249', 'HG00153', 'CGND-HDA-03185', 'HG01614', 'NA10830', 'NA07029', 'HG00098', 'NA12766', 'CGND-HDA-01167', 'CGND-HDA-05535', 'NA10840', 'HG00144', 'NA10846', 'HG01696', 'CGND-HDA-03184', 'HG01627', 'CGND-HDA-03297', 'CGND-HDA-04749', 'HG01769', 'CGND-HDA-03174', 'NA12264', 'HG01514', 'NA07345', 'NA12375', 'NA12752', 'NA12877', 'NA12329', 'NA10853', 'CGND-HDA-02891', 'CGND-HDA-02863', 'HG01502', 'CGND-HDA-04830', 'NA10852', 'HG01701', 'NA10842', 'CGND-HDA-04733', 'NA10839', 'NA07055', 'CGND-HDA-01482', 'HG01508', 'NA12343', 'NA06997', 'HG00152', 'NA07349', 'NA10836', 'HG00124', 'CGND-HDA-05300', 'CGND-HDA-04824', 'CGND-HDA-04822', 'CGND-HDA-02752', 'CGND-HDA-04849', 'HG00156', 'NA12739', 'HG01532', 'CGND-HDA-03175', 'HG01611', 'HG01616', 'HG01687', 'CGND-HDA-02870', 'HG01782', 'NA12707', 'CGND-HDA-03294', 'CGND-HDA-04834', 'NA07034', 'NA07045', 'NA10854', 'HG02240', 'HG01609', 'NA07014', 'CGND-HDA-03177', 'NA12830', 'NA07031', 'CGND-HDA-04835', 'NA10843', 'CGND-HDA-02736', 'NA12546', 'HG01764', 'NA12057', 'NA10831', 'HG04301', 'NA12801', 'HG01529', 'NA07346', 'NA12336', 'NA12274', 'NA11917', 'CGND-HDA-04922', 'CGND-HDA-02878', 'NA12892', 'NA12145', 'NA10850', 'HG01629', 'NA07019', 'HG00147', 'NA10863', 'NA06991', 'NA10864', 'HG02237', 'HG01621', 'HG00135', 'CGND-HDA-03183', 'HG01787', 'NA12239', 'CGND-HDA-04923', 'HG01778', 'CGND-HDA-02837', 'CGND-HDA-04828', 'HG02229', 'CGND-HDA-02865', 'NA12865', 'NA10856', 'HG01711', 'NA12708', 'CGND-HDA-00178', 'CGND-HDA-00214', 'CGND-HDA-00179', 'NA10837', 'CGND-HDA-04734', 'NA07340', 'NA12875', 'CGND-HDA-00180', 'NA06995', 'NA12740', 'CGND-HDA-03182', 'HG01763', 'HG01538', 'HG01517', 'CGND-HDA-03326', 'HG01748', 'NA10861', 'HG01703', 'CGND-HDA-02880', 'CGND-HDA-03168', 'HG00247', 'HG01671', 'CGND-HDA-04846', 'CGND-HDA-03369', 'CGND-HDA-03398', 'HG01674', 'HG01706', 'HG01698', 'NA12817', 'HG01772', 'NA12891', 'HG01505', 'NA12056', 'HG02217', 'CGND-HDA-00167', 'CGND-HDA-04735', 'CGND-HDA-02868', 'HG04302', 'CGND-HDA-03163', 'NA12386', 'HG01667', 'NA12767', 'NA11993', 'HG00134', 'CGND-HDA-03169', 'NA12818', 'CGND-HDA-00216', 'CGND-HDA-03172', 'NA20526', 'NA10857', 'CGND-HDA-02867', 'NA10859', 'HG00248', 'CGND-HDA-03356', 'NA12146', 'NA12376', 'NA11891', 'HG01526', 'NA10838', 'HG01774', 'NA12485', 'NA10860', 'NA06993', 'CGND-HDA-03164', 'NA20829', 'CGND-HDA-00165', 'NA20831', 'CGND-HDA-03173', 'NA11839', 'NA07348', 'NA12236', 'CGND-HDA-02489-1', 'HG01622', 'NA10865', 'NA20537', 'CGND-HDA-03325', 'HG02222', 'CGND-HDA-02884', 'NA12335', 'CGND-HDA-04736', 'NA12832', 'HG01681', 'NA12248', 'CGND-HDA-04889', 'CGND-HDA-02876', 'CGND-HDA-05298', 'CGND-HDA-03318', 'HG01633', 'CGND-HDA-03179', 'CGND-HDA-04848', 'CGND-HDA-04894', 'CGND-HDA-02869', 'HG01604', 'CGND-HDA-02883', 'NA12344', 'CGND-HDA-03170', 'NA12753', 'NA10845', 'HG01520', 'HG01511', 'NA10835', 'HG01683', 'HG01523', 'HG01677', 'CGND-HDA-00217', 'HG02218', 'CGND-HDA-00166', 'NA20816', 'CGND-HDA-04825', 'NA07435', 'NA12802', 'HG02234', 'NA07022'}\n",
              "</pre>\n"
            ],
            "text/plain": [
              "16:35:42.613 | \u001b[36mINFO\u001b[0m    | Flow run\u001b[35m 'mahogany-quetzal'\u001b[0m - \n",
              "missing 238 control IDs:\n",
              " {'CGND-HDA-02887', 'NA12864', 'HG01755', 'NA10855', 'CGND-HDA-03171', 'HG01780', 'HG01601', 'HG04303', 'NA11882', 'CGND-HDA-05299', 'HG02225', 'HG00104', 'HG00249', 'HG00153', 'CGND-HDA-03185', 'HG01614', 'NA10830', 'NA07029', 'HG00098', 'NA12766', 'CGND-HDA-01167', 'CGND-HDA-05535', 'NA10840', 'HG00144', 'NA10846', 'HG01696', 'CGND-HDA-03184', 'HG01627', 'CGND-HDA-03297', 'CGND-HDA-04749', 'HG01769', 'CGND-HDA-03174', 'NA12264', 'HG01514', 'NA07345', 'NA12375', 'NA12752', 'NA12877', 'NA12329', 'NA10853', 'CGND-HDA-02891', 'CGND-HDA-02863', 'HG01502', 'CGND-HDA-04830', 'NA10852', 'HG01701', 'NA10842', 'CGND-HDA-04733', 'NA10839', 'NA07055', 'CGND-HDA-01482', 'HG01508', 'NA12343', 'NA06997', 'HG00152', 'NA07349', 'NA10836', 'HG00124', 'CGND-HDA-05300', 'CGND-HDA-04824', 'CGND-HDA-04822', 'CGND-HDA-02752', 'CGND-HDA-04849', 'HG00156', 'NA12739', 'HG01532', 'CGND-HDA-03175', 'HG01611', 'HG01616', 'HG01687', 'CGND-HDA-02870', 'HG01782', 'NA12707', 'CGND-HDA-03294', 'CGND-HDA-04834', 'NA07034', 'NA07045', 'NA10854', 'HG02240', 'HG01609', 'NA07014', 'CGND-HDA-03177', 'NA12830', 'NA07031', 'CGND-HDA-04835', 'NA10843', 'CGND-HDA-02736', 'NA12546', 'HG01764', 'NA12057', 'NA10831', 'HG04301', 'NA12801', 'HG01529', 'NA07346', 'NA12336', 'NA12274', 'NA11917', 'CGND-HDA-04922', 'CGND-HDA-02878', 'NA12892', 'NA12145', 'NA10850', 'HG01629', 'NA07019', 'HG00147', 'NA10863', 'NA06991', 'NA10864', 'HG02237', 'HG01621', 'HG00135', 'CGND-HDA-03183', 'HG01787', 'NA12239', 'CGND-HDA-04923', 'HG01778', 'CGND-HDA-02837', 'CGND-HDA-04828', 'HG02229', 'CGND-HDA-02865', 'NA12865', 'NA10856', 'HG01711', 'NA12708', 'CGND-HDA-00178', 'CGND-HDA-00214', 'CGND-HDA-00179', 'NA10837', 'CGND-HDA-04734', 'NA07340', 'NA12875', 'CGND-HDA-00180', 'NA06995', 'NA12740', 'CGND-HDA-03182', 'HG01763', 'HG01538', 'HG01517', 'CGND-HDA-03326', 'HG01748', 'NA10861', 'HG01703', 'CGND-HDA-02880', 'CGND-HDA-03168', 'HG00247', 'HG01671', 'CGND-HDA-04846', 'CGND-HDA-03369', 'CGND-HDA-03398', 'HG01674', 'HG01706', 'HG01698', 'NA12817', 'HG01772', 'NA12891', 'HG01505', 'NA12056', 'HG02217', 'CGND-HDA-00167', 'CGND-HDA-04735', 'CGND-HDA-02868', 'HG04302', 'CGND-HDA-03163', 'NA12386', 'HG01667', 'NA12767', 'NA11993', 'HG00134', 'CGND-HDA-03169', 'NA12818', 'CGND-HDA-00216', 'CGND-HDA-03172', 'NA20526', 'NA10857', 'CGND-HDA-02867', 'NA10859', 'HG00248', 'CGND-HDA-03356', 'NA12146', 'NA12376', 'NA11891', 'HG01526', 'NA10838', 'HG01774', 'NA12485', 'NA10860', 'NA06993', 'CGND-HDA-03164', 'NA20829', 'CGND-HDA-00165', 'NA20831', 'CGND-HDA-03173', 'NA11839', 'NA07348', 'NA12236', 'CGND-HDA-02489-1', 'HG01622', 'NA10865', 'NA20537', 'CGND-HDA-03325', 'HG02222', 'CGND-HDA-02884', 'NA12335', 'CGND-HDA-04736', 'NA12832', 'HG01681', 'NA12248', 'CGND-HDA-04889', 'CGND-HDA-02876', 'CGND-HDA-05298', 'CGND-HDA-03318', 'HG01633', 'CGND-HDA-03179', 'CGND-HDA-04848', 'CGND-HDA-04894', 'CGND-HDA-02869', 'HG01604', 'CGND-HDA-02883', 'NA12344', 'CGND-HDA-03170', 'NA12753', 'NA10845', 'HG01520', 'HG01511', 'NA10835', 'HG01683', 'HG01523', 'HG01677', 'CGND-HDA-00217', 'HG02218', 'CGND-HDA-00166', 'NA20816', 'CGND-HDA-04825', 'NA07435', 'NA12802', 'HG02234', 'NA07022'}\n"
            ]
          },
          "metadata": {},
          "output_type": "display_data"
        },
        {
          "data": {
            "text/html": [
              "<pre style=\"white-space:pre;overflow-x:auto;line-height:normal;font-family:Menlo,'DejaVu Sans Mono',consolas,'Courier New',monospace\">16:35:42.615 | <span style=\"color: #008080; text-decoration-color: #008080\">INFO</span>    | Flow run<span style=\"color: #800080; text-decoration-color: #800080\"> 'mahogany-quetzal'</span> - \n",
              "missing 75 holdout cases IDs:\n",
              " {'NEUPR357AUF', 'HHU-1799', 'NEUAL196CNH', 'ALSGR163', 'HHU-1730', 'HHU-1861', 'NEUXW064UJ5', 'HHU-1897', 'ALSGR44', 'ALSGR18', 'HHU-1893', 'HHU-1886', 'NEUGG230KV0', 'NEUBT273FH3', 'NEULM691PBK', 'HHU-1883', 'HHU-1735', 'HHU-1909', 'HHU-1842', 'NEUXW830NYM', 'NEUFH461AAN', 'E4BFAF6F-1F5C-47DF-824A-1B7B7D4AD540', 'NEUYY878JGP', 'NEUXB264YTP', 'HHU-1885', 'NEUEM417CHQ', 'NEUTP828HM4', 'ALSGR19', 'HHU-1854', 'HHU-1871', 'HHU-1787', 'HHU-1834', 'ALSGR354', 'ALSGR221', 'NEUDJ612NZM', 'HHU-1913', 'HHU-1725', 'NEUNL207GYP', 'ALSGR342', 'NEUNB395JZ7', 'HHU-1899', 'HHU-1900', '456062D5-8696-4F41-A3E4-4A00F805FFF1', 'HHU-1910', 'HHU-1814', 'HHU-1816', 'HHU-1877', 'HHU-1790', 'NEUVE796LTL', 'NEURJ845GZ5', 'ALSGR152', 'NEURD196UBZ', 'NEUZH450HVV', 'NEUTR651PH8', 'NEUTU402ZP5', 'HHU-1784', 'HHU-1859', 'NEUVX345UJW', 'NEUNM920DWJ', 'HHU-1824', 'ALSGR351', 'HHU-1728', 'NEUXF746MEU', 'HHU-1840', 'HHU-1911', 'HHU-1753', 'NEULT851ENP', 'HHU-1777', 'HHU-1869', 'ALSGR197', 'HHU-1878', 'TD-ALS-197', 'NEUBJ841EMR', 'NEUWD376UF5', 'NEUHR111JYA'}\n",
              "</pre>\n"
            ],
            "text/plain": [
              "16:35:42.615 | \u001b[36mINFO\u001b[0m    | Flow run\u001b[35m 'mahogany-quetzal'\u001b[0m - \n",
              "missing 75 holdout cases IDs:\n",
              " {'NEUPR357AUF', 'HHU-1799', 'NEUAL196CNH', 'ALSGR163', 'HHU-1730', 'HHU-1861', 'NEUXW064UJ5', 'HHU-1897', 'ALSGR44', 'ALSGR18', 'HHU-1893', 'HHU-1886', 'NEUGG230KV0', 'NEUBT273FH3', 'NEULM691PBK', 'HHU-1883', 'HHU-1735', 'HHU-1909', 'HHU-1842', 'NEUXW830NYM', 'NEUFH461AAN', 'E4BFAF6F-1F5C-47DF-824A-1B7B7D4AD540', 'NEUYY878JGP', 'NEUXB264YTP', 'HHU-1885', 'NEUEM417CHQ', 'NEUTP828HM4', 'ALSGR19', 'HHU-1854', 'HHU-1871', 'HHU-1787', 'HHU-1834', 'ALSGR354', 'ALSGR221', 'NEUDJ612NZM', 'HHU-1913', 'HHU-1725', 'NEUNL207GYP', 'ALSGR342', 'NEUNB395JZ7', 'HHU-1899', 'HHU-1900', '456062D5-8696-4F41-A3E4-4A00F805FFF1', 'HHU-1910', 'HHU-1814', 'HHU-1816', 'HHU-1877', 'HHU-1790', 'NEUVE796LTL', 'NEURJ845GZ5', 'ALSGR152', 'NEURD196UBZ', 'NEUZH450HVV', 'NEUTR651PH8', 'NEUTU402ZP5', 'HHU-1784', 'HHU-1859', 'NEUVX345UJW', 'NEUNM920DWJ', 'HHU-1824', 'ALSGR351', 'HHU-1728', 'NEUXF746MEU', 'HHU-1840', 'HHU-1911', 'HHU-1753', 'NEULT851ENP', 'HHU-1777', 'HHU-1869', 'ALSGR197', 'HHU-1878', 'TD-ALS-197', 'NEUBJ841EMR', 'NEUWD376UF5', 'NEUHR111JYA'}\n"
            ]
          },
          "metadata": {},
          "output_type": "display_data"
        },
        {
          "data": {
            "text/html": [
              "<pre style=\"white-space:pre;overflow-x:auto;line-height:normal;font-family:Menlo,'DejaVu Sans Mono',consolas,'Courier New',monospace\">16:35:42.616 | <span style=\"color: #008080; text-decoration-color: #008080\">INFO</span>    | Flow run<span style=\"color: #800080; text-decoration-color: #800080\"> 'mahogany-quetzal'</span> - \n",
              "missing 2311 holdout controls IDs:\n",
              " {'HGDP00583', 'NA19191', 'HG02966', 'SC_GMWOF5428805', 'HG00635', 'Igor20', 'HG00538', 'HGDP01315', 'SC_GMMAN5482221', 'HGDP01033', 'SC_GMJOL5309983', 'SC_GMMAN5482340', 'SC_GMMAN5482247', 'HG03365', 'HGDP00169', 'NA18509', 'SC_GMMAN5482195', 'SC_GMJOL5309819', 'Nlk18', 'HGDP00453', 'HG03310', 'HGDP00820', 'NA19044', 'HGDP00118', 'HGDP00926', 'HG02791', 'HGDP01173', 'HGDP01376', 'SA0342', 'HGDP01034', 'HG00408', 'HG03576', 'SC_GMJOL5309890', 'SC_GMWOF5428740', 'HGDP00814', 'HGDP01375', 'NA20898', 'HG03582', 'HG04142', 'HGDP00898', 'HG03110', 'HGDP01345', 'HG03466', 'HG04067', 'HGDP01374', 'HG00465', 'HG03816', 'HGDP01350', 'SC_GMFUL5309741', 'HGDP01021', 'IHW9118', 'SC_GMJOL5309945', 'HGDP00855', 'SC_GMWOF5428877', 'HGDP00560', 'HG02135', 'HG02478', 'SC_GMWOF5428732', 'HGDP00974', 'HGDP01286', 'HGDP00713', 'HGDP00086', 'HGDP01417', 'HGDP01227', 'HG02818', 'SC_GMJOL5309964', 'HGDP00955', 'HGDP00769', 'HG02569', 'HGDP00274', 'Mansi41', 'HGDP01185', 'HG02254', 'NA21581', 'HG01919', 'NA21121', 'HGDP00572', 'Est400', 'NA19205', 'HG03034', 'SC_GMMAN5482256', 'HGDP00901', 'HGDP00884', 'HGDP01090', 'HG03769', 'HGDP00683', 'SC_GMJOL5309828', 'NA19721', 'HG02046', 'SC_GMMAN5482301', 'HG04228', 'HGDP00232', 'HG03239', 'HGDP00528', 'HGDP00735', 'NA19671', 'HGDP01244', 'Sir26', 'SC_GMMAN5482223', 'HG02486', 'HGDP01357', 'HGDP00247', 'HGDP01308', 'HGDP00768', 'HGDP01224', 'HGDP01098', 'SC_GMWOF5428824', 'NA19252', 'NA20358', 'SC_GMFUL5309730', 'HG01473', 'Jordan603', 'NA19705', 'NA15728', 'HGDP00953', 'HGDP01404', 'HG03125', 'NA19983', 'NA19790', 'SC_GMJOL5309897', 'HGDP00455', 'HGDP00764', 'HGDP00838', 'HG01499', 'NA18906', 'HG02015', 'HG03296', 'HGDP00799', 'HGDP00890', 'HG00597', 'HGDP01295', 'HGDP01294', 'HGDP01072', 'HGDP00371', 'HG02170', 'SC_GMFUL5306407', 'TZ-11', 'HGDP01027', 'HG03641', 'HG00555', 'HGDP00858', 'BulgarianC1', 'HGDP01363', 'SC_GMFUL5309748', 'SC_GMFUL5306391', 'HG03847', 'HG01123', 'SC_GMFUL5306349', 'HGDP01369', 'HGDP00970', 'HGDP00478', 'SC_GMFUL5306382', 'HG02662', 'HGDP01317', 'HGDP00626', 'HGDP01193', 'HG02869', 'HG00730', 'SC_GMMAN5482316', 'NA19313', 'SC_GMMAN5482260', 'HGDP00674', 'HGDP00540', 'HGDP01102', 'HGDP00199', 'HG01349', 'HGDP00818', 'HGDP00619', 'SC_GMMAN5482205', 'HG00532', 'HGDP01180', 'SC_GMFUL5309738', 'HG00459', 'HG03438', 'NA19122', 'HGDP00599', 'HGDP00762', 'KD4', 'HGDP01234', 'HG03008', 'HG04191', 'HGDP00029', 'HGDP00423', 'HG03721', 'HGDP00964', 'HG00658', 'HGDP01194', 'SC_GMJOL5309982', 'NA20871', 'SC_GMJOL5309851', 'HGDP00947', 'HG00738', 'SC_GMJOL5309943', 'HGDP01250', 'HG02068', 'HG01346', 'HG01279', 'HGDP01247', 'HG03813', 'HG01391', 'HGDP00761', 'HG03026', 'SC_GMMAN5482207', 'HGDP00143', 'HGDP01226', 'HGDP00452', 'HG00474', 'NA19101', 'HGDP00932', 'SC_GMWOF5428814', 'HGDP00175', 'HGDP01408', 'HG02800', 'HGDP01267', 'HG03930', 'NA19453', 'HGDP00579', 'SC_GMWOF5428787', 'HG03715', 'HGDP00103', 'NA19128', 'NA18594', 'tdj409_shugnan', 'HGDP01292', 'NA18872', 'HGDP01164', 'HGDP01360', 'HGDP00248', 'NA18935', 'HGDP00756', 'NA19240', 'HGDP00096', 'HGDP00465', 'HG02975', 'HGDP00704', 'Est375', 'HGDP01288', 'Armenian222', 'HGDP01068', 'HG03651', 'HGDP01233', 'NA19211', 'SC_GMMAN5482212', 'HG01062', 'HGDP00285', 'SC_GMJOL5309976', 'Tuba19', 'HGDP00476', 'NA13604', 'HG01361', 'HG03119', 'SC_GMWOF5428819', 'HGDP00986', 'HG03840', 'HGDP00148', 'HG00535', 'HGDP01378', 'NA20337', 'HG02729', 'SC_GMJOL5309958', 'HGDP00819', 'HGDP01172', 'HG04053', 'HGDP01086', 'SC_GMJOL5309912', 'HG02363', 'NA18860', 'HGDP00670', 'SC_GMMAN5482251', 'HG01172', 'HGDP00999', 'HGDP01335', 'HGDP01058', 'HG01150', 'SC_GMMAN5482291', 'Tuba9', 'NA18794', 'HG02261', 'SC_GMJOL5309933', 'HG02698', 'SC_GMJOL5309974', 'HGDP00543', 'HGDP00251', 'SC_GMFUL5309711', 'HG02480', 'HGDP00054', 'HGDP00784', 'HG01343', 'mixa0105', 'SC_GMMAN5482225', 'SC_GMWOF5428833', 'SC_GMJOL5309905', 'mixe0002', 'SC_GMMAN5482324', 'HGDP00601', 'HGDP00290', 'HG03566', 'SC_GMFUL5306359', 'HG02547', 'SC_GMWOF5428716', 'HGDP00929', 'HG01981', 'SC_GMFUL5306416', 'SC_GMJOL5309956', 'HGDP00548', 'SC_GMWOF5428842', 'SC_GMFUL5306413', 'HGDP00041', 'HG01972', 'HG02659', 'SC_GMFUL5306410', 'iran17', 'HG04217', 'NA20883', 'NA20295', 'HGDP00157', 'HGDP01271', 'HGDP01371', 'HGDP00555', 'HGDP00150', 'SC_GMFUL5306418', 'HG04055', 'Ayodo_81S', 'NA15761', 'HG04192', 'HG02647', 'HGDP00359', 'HG01103', 'HGDP00673', 'HG03549', 'HGDP00716', 'HGDP01216', 'CHI-007', 'HG00585', 'HG02969', 'NA19781', 'ND19394', 'SC_GMMAN5482217', 'HGDP01071', 'NA20349', 'HGDP00537', 'HG03122', 'NA19757', 'HG04181', 'HG01993', 'HGDP01365', 'HGDP00751', 'NA18862', 'SC_GMFUL5306343', 'HGDP00613', 'NA20341', 'Igor21', 'HG00427', 'HGDP00733', 'HGDP00092', 'NA21134', 'Utsa21', 'SC_GMJOL5309968', 'HGDP00031', 'HGDP00888', 'HG03098', 'HGDP01385', 'HG03927', 'SC_GMMAN5482209', 'HGDP01168', 'HG03584', 'SC_GMFUL5306396', 'NEUVM032BF2', 'NA18930', 'HGDP00689', 'SC_GMWOF5428708', 'HGDP00165', 'HGDP00711', 'HGDP00125', 'HG02794', 'YemeniteJew5433', 'SC_GMMAN5482322', 'HGDP00675', 'HG01943', 'HGDP00473', 'SC_GMWOF5428828', 'DNK11', 'NA18524', 'SC_GMWOF5428831', 'SC_GMFUL5306357', 'HG03361', 'HGDP01047', 'HG03801', 'HGDP00027', 'NA19150', 'HG03834', 'HG03654', 'NA20129', 'HGDP00780', 'HGDP00624', 'NA18484', 'Ale14', 'lez42', 'SC_GMMAN5482224', 'SC_GMJOL5309960', 'HG01255', 'HG02514', 'HG04204', 'NA20301', 'NA19659', 'SAH31', 'SC_GMMAN5482307', 'HGDP00590', 'HG02388', 'SC_GMMAN5482172', 'HG02590', 'SC_GMFUL5306421', 'NA19660', 'HGDP01251', 'HGDP00957', 'HG02321', 'altai363p', 'SC_GMFUL5306419', 'HG01327', 'HGDP01372', 'NA20343', 'SC_GMMAN5482215', 'HGDP00808', 'HG02924', 'HGDP00891', 'HGDP01161', 'SC_GMFUL5309717', 'HG01138', 'HG00526', 'HGDP00224', 'HGDP01043', 'SC_GMJOL5309928', 'HGDP00149', 'HGDP00538', 'SC_GMFUL5306369', 'SC_GMJOL5309836', 'NA19258', 'HGDP00346', 'HG03399', 'HG03029', 'HG02567', 'HG02880', 'HG03471', 'HGDP00535', 'HGDP00228', 'NA20909', 'HGDP00931', 'HGDP01036', 'HG00418', 'HGDP00277', 'NA20297', 'HG00709', 'HG01445', 'HGDP00140', 'HGDP01182', 'HGDP01260', 'SC_GMJOL5309966', 'HGDP00971', 'HGDP01342', 'HG02288', 'SC_GMFUL5306411', 'SC_GMMAN5482216', 'SC_GMFUL5306374', 'HG03508', 'SC_GMJOL5309971', 'HG03200', 'SC_GMJOL5309875', 'HG03383', 'HGDP00475', 'HG02723', 'HG03197', 'HGDP00641', 'HG02463', 'HG01352', 'NA20285', 'HGDP00468', 'NA20335', 'NA19208', 'SC_GMWOF5428721', 'HG00502', 'HG01959', 'HGDP00647', 'Bishkek28440', 'HG02862', 'HGDP01189', 'SC_GMMAN5482203', 'NA19784', 'HGDP01203', 'HGDP01219', 'HGDP00738', 'HG04184', 'mixa0099', 'SC_GMWOF5428858', 'SC_GMJOL5309984', 'HGDP00549', 'HGDP00832', 'HGDP00958', 'HG04036', 'HG03795', 'SC_GMJOL5309797', 'HGDP00753', 'zapo0099', 'HG03906', 'HG00420', 'HG02965', 'HG03017', 'HGDP01198', 'NA20284', 'HG02257', 'SC_GMWOF5428815', 'HG02316', 'NA20128', 'Ale20', 'HG00512', 'HGDP00791', 'NA19046', 'HG01922', 'SC_GMWOF5428763', 'SC_GMFUL5306415', 'HGDP01053', 'HG02781', 'HGDP00688', 'SC_GMWOF5428808', 'HGDP00062', 'HG02377', 'HG02293', 'HG00501', 'SC_GMFUL5306353', 'SC_GMMAN5482163', 'HGDP01344', 'HG03486', 'HGDP00074', 'HGDP00133', 'HG01969', 'HGDP01207', 'HGDP01196', 'HGDP01092', 'HGDP01211', 'HGDP00985', 'HG02886', 'NA17385', 'NA15203', 'HGDP00859', 'HGDP00407', 'HG01192', 'HG01925', 'HGDP01330', 'HG02636', 'HG03056', 'SC_GMWOF5428818', 'HGDP01373', 'HGDP00758', 'HG02656', 'R3', 'HGDP00078', 'HGDP01208', 'HG02287', 'HGDP00886', 'HG03988', 'HGDP00214', 'NA19650', 'HGDP01352', 'K1', 'NA19203', 'NA20364', 'HG02071', 'HGDP01041', 'HG02276', 'HGDP01297', 'HGDP01310', 'SC_GMWOF5428736', 'HGDP01201', 'HGDP01387', 'HGDP00574', 'HGDP00914', 'HG03807', 'SC_GMWOF5428865', 'HG02764', 'HGDP00536', 'NA19919', 'HGDP00679', 'HG01096', 'HG03381', 'SC_GMFUL5306389', 'NA18500', 'HGDP01353', 'HG01480', 'HGDP00450', 'HG01411', 'HGDP01243', 'HG00558', 'NA20413', 'SC_GMFUL5306355', 'HGDP01183', 'HGDP00616', 'HG03924', 'SC_GMMAN5482293', 'HGDP00663', 'SC_GMWOF5428871', 'SC_GMJOL5309829', 'NA18576', 'SC_GMMAN5482242', 'HGDP00632', 'HG04151', 'HGDP00805', 'HGDP00098', 'HG03140', 'HGDP00936', 'HGDP01096', 'HGDP00562', 'HG02083', 'HGDP00239', 'SC_GMFUL5306352', 'HGDP00739', 'HGDP00052', 'HGDP01215', 'HGDP00870', 'HGDP01064', 'SC_GMWOF5428739', 'SC_GMFUL5306347', 'HGDP01031', 'SC_GMWOF5428802', 'SC_GMMAN5482194', 'HGDP00216', 'HG02738', 'HGDP00823', 'HG01084', 'SC_GMFUL5306412', 'HGDP00912', 'HGDP00586', 'HG03620', 'HGDP00515', 'HGDP00262', 'HG04199', 'HGDP01029', 'HG04147', 'HGDP01265', 'HG02939', 'Dus22', 'HG03194', 'HG02650', 'SC_GMJOL5309820', 'SC_GMFUL5306338', 'AV-21', 'HGDP01149', 'HGDP01328', 'HGDP01273', 'HG02372', 'HG02788', 'HGDP00490', 'NA19174', 'SC_GMFUL5306378', 'HG00702', 'HGDP00456', 'NA19127', 'HG00450', 'Ayodo_430C', 'SC_GMFUL5306363', 'HG03462', 'SC_GMFUL5306388', 'HGDP01006', 'HG03587', 'HG03251', 'SC_GMWOF5428854', 'HGDP00714', 'HGDP00608', 'HGDP00043', 'HGDP00581', 'SC_GMWOF5428790', 'HG02559', 'HG03489', 'HG02415', 'HG01916', 'SC_GMFUL5306420', 'HGDP01162', 'TGBS21', 'Utsa22', 'SC_GMWOF5428826', 'SC_GMFUL5309716', 'SC_GMJOL5309883', 'SC_GMWOF5428874', 'SC_GMFUL5306431', 'NA19103', 'HG02815', 'HGDP01229', 'SC_GMMAN5482227', 'HGDP00163', 'HG01573', 'SC_GMJOL5309977', 'HGDP01351', 'HGDP00940', 'SC_GMMAN5482178', 'HGDP01199', 'SC_GMWOF5428879', 'HGDP00534', 'HG01978', 'NA19254', 'HGDP01268', 'lez49', 'HGDP00610', 'NA20907', 'HGDP01212', 'HGDP00569', 'HGDP00001', 'HGDP00635', 'SC_GMJOL5309936', 'HG01987', 'HG03682', 'NA19249', 'HGDP00956', 'HGDP00650', 'Esk29', 'HGDP01287', 'SC_GMMAN5482164', 'HG01490', 'HGDP00137', 'mg31', 'HG01273', 'HGDP00629', 'NA20344', 'HGDP00795', 'SC_GMJOL5309896', 'HGDP00102', 'SC_GMJOL5309941', 'HGDP00699', 'HGDP00911', 'SC_GMMAN5482274', 'HGDP00946', 'HG01552', 'HG02148', 'HG01466', 'HGDP00241', 'HGDP00630', 'HGDP01063', 'HGDP00254', 'HGDP00554', 'SC_GMFUL5309789', 'HGDP01415', 'HGDP00972', 'HG03783', 'HG01087', 'HGDP00039', 'HGDP00564', 'HGDP01305', 'HG00552', 'HGDP00551', 'NA19672', 'HGDP00547', 'HGDP01382', 'SC_GMMAN5482192', 'HGDP00655', 'HGDP00522', 'HGDP01230', 'SC_GMFUL5306426', 'HGDP00934', 'NEUKL758UHA', 'SC_GMFUL5306405', 'HGDP00158', 'NA19359', 'HG02892', 'NA19714', 'HGDP00573', 'HG02773', 'HGDP00640', 'SC_GMFUL5306429', 'HGDP00060', 'HGDP00798', 'HG03761', 'HGDP01028', 'HG00544', 'SC_GMFUL5306428', 'HG00578', 'HGDP00019', 'HG02680', 'HG01074', 'HGDP00741', 'HGDP00924', 'HGDP00687', 'HGDP00897', 'HGDP01237', 'HGDP01246', 'SC_GMWOF5428838', 'HG03799', 'HGDP00938', 'HG03164', 'NA19686', 'HG03656', 'HG02169', 'SC_GMJOL5309973', 'HG03635', 'SC_GMMAN5482250', 'HGDP00854', 'HGDP00105', 'HGDP00005', 'NA00726', 'SC_GMMAN5482184', 'HGDP00587', 'HGDP01232', 'NA19662', 'HGDP01062', 'HG01141', 'HGDP00525', 'NA19142', 'HGDP00351', 'HGDP01333', 'HGDP01248', 'HGDP01076', 'HG03203', 'HG01126', 'HGDP00192', 'NA20302', 'SC_GMJOL5309969', 'HGDP00951', 'HG02077', 'NA20363', 'HGDP00653', 'HGDP00694', 'HG02622', 'NA20361', 'HG03242', 'HG01249', 'SC_GMFUL5306341', 'HG03459', 'HGDP00876', 'HG01199', 'HG04208', 'HG00633', 'HGDP01355', 'HGDP00558', 'HGDP01167', 'NA19470', 'HG02605', 'HG01189', 'SC_GMWOF5428851', 'HGDP01078', 'HGDP00433', 'NA19787', 'HG01934', 'SC_GMWOF5428705', 'HGDP01257', 'HG02942', 'HGDP00139', 'SC_GMMAN5482208', 'HG02021', 'HG02173', 'HGDP00691', 'HG01100', 'HG01594', 'HG01891', 'HG01949', 'HG02176', 'HG03167', 'HGDP00264', 'NA19371', 'HGDP01396', 'NA19352', 'HGDP00068', 'HG03393', 'NA11201', 'HGDP00545', 'NA18854', 'HGDP01323', 'HGDP00843', 'HG03492', 'HG03059', 'HGDP01282', 'SC_GMMAN5482290', 'HG02074', 'HG02677', 'Jordan445', 'SC_GMMAN5482165', 'SC_GMMAN5482213', 'NA19166', 'HG01484', 'SC_GMWOF5428728', 'HGDP00631', 'HG03408', 'HG03101', 'HG03606', 'SC_GMJOL5309949', 'NA17386', 'HGDP00080', 'SC_GMWOF5428812', 'HGDP01010', 'HG01068', 'SC_GMFUL5306395', 'SC_GMMAN5482201', 'HGDP01153', 'HGDP01261', 'HGDP00754', 'SC_GMFUL5306398', 'HG01109', 'NA19675', 'SC_GMJOL5309930', 'HGDP01077', 'HGDP00861', 'Bu16', 'HG03835', 'SC_GMWOF5428835', 'HGDP00905', 'HG02587', 'HGDP00127', 'HGDP00786', 'SC_GMMAN5482241', 'SC_GMJOL5309942', 'NA19221', 'HG04115', 'HG04128', 'SC_GMWOF5428744', 'NA19177', 'HG04037', 'HG02726', 'SC_GMFUL5309702', 'HG03638', 'HG03879', 'HG01937', 'HGDP00766', 'SC_GMMAN5482186', 'HGDP01249', 'HGDP00722', 'NA19145', 'HGDP01298', 'HGDP00804', 'SC_GMWOF5428882', 'HGDP00800', 'NA19109', 'HGDP00879', 'HGDP00154', 'HGDP00533', 'HGDP00662', 'HGDP00995', 'HGDP00110', 'HG03341', 'SC_GMJOL5309926', 'HGDP00963', 'HGDP01277', 'HGDP00512', 'HGDP00937', 'SC_GMMAN5482200', 'NA18518', 'HGDP00602', 'HG00594', 'NA19677', 'HG02821', 'HGDP00637', 'HG00609', 'HG02761', 'NA19132', 'HGDP01296', 'HG02653', 'NA18487', 'HG04150', 'HGDP00464', 'SC_GMFUL5309755', 'SC_GMWOF5428810', 'HGDP01293', 'B17', 'HG01278', 'HG03650', 'HGDP01304', 'HG03373', 'HGDP00869', 'HG02347', 'HGDP00469', 'HG03688', 'HGDP00597', 'HGDP01070', 'SC_GMWOF5428843', 'HG01050', 'HG01258', 'SC_GMMAN5482298', 'HGDP00466', 'HGDP00461', 'HGDP01056', 'HG01397', 'HGDP00171', 'SC_GMFUL5306375', 'HG00405', 'HG01471', 'HGDP00100', 'HG00741', 'HGDP00226', 'SC_GMJOL5309835', 'HG02954', 'NA19730', 'HGDP00612', 'HGDP00595', 'SC_GMWOF5428863', 'HGDP01177', 'HGDP01285', 'HGDP00213', 'HG03107', 'HG03161', 'NA19224', 'HGDP00787', 'HG02806', 'NA19140', 'NA19742', 'NA19151', 'SC_GMMAN5482308', 'HG03701', 'Ale22', 'HGDP00913', 'HGDP00962', 'NA19226', 'HGDP00960', 'HGDP00935', 'SC_GMJOL5309804', 'HGDP00458', 'HGDP01314', 'HGDP00519', 'SC_GMMAN5482240', 'HGDP00656', 'HGDP01270', 'HGDP00208', 'HGDP00244', 'HG03080', 'SC_GMFUL5306371', 'SC_GMWOF5428816', 'HGDP00852', 'HGDP00872', 'SC_GMJOL5309906', 'SC_GMWOF5428825', 'SC_GMJOL5309975', 'SC_GMMAN5482255', 'HGDP01412', 'NA19195', 'HGDP01073', 'HGDP00686', 'HG02495', 'HG01452', 'HGDP00189', 'HG01364', 'HGDP00933', 'NA19778', 'SC_GMMAN5482229', 'HG01590', 'HGDP00767', 'HG02980', 'HG00691', 'SC_GMMAN5482211', 'ALB212', 'SC_GMWOF5428847', 'HGDP01359', 'SC_GMMAN5482193', 'HG04187', 'HGDP00057', 'HGDP00685', 'HGDP00916', 'SC_GMMAN5482180', 'HG01477', 'Y8', 'SC_GMWOF5428729', 'HG03725', 'HG02428', 'HGDP00781', 'HGDP00752', 'HGDP00810', 'HGDP00660', 'armenia293', 'HGDP00678', 'SC_GMJOL5309920', 'HGDP01197', 'HGDP01169', 'HG03390', 'HG01457', 'HG01439', 'HGDP00942', 'NA20345', 'SC_GMJOL5309844', 'Kusunda02', 'NA19199', 'HG03116', 'HGDP01318', 'HG03901', 'HGDP00690', 'SC_GMJOL5309899', 'HGDP00720', 'HGDP00124', 'HGDP01191', 'HGDP00121', 'HGDP00908', 'SC_GMWOF5428804', 'HG03453', 'SC_GMJOL5309837', 'HG02132', 'HGDP00388', 'HG02387', 'SC_GMMAN5482176', 'HGDP01013', 'HG00567', 'SC_GMMAN5482173', 'HGDP00943', 'HGDP00588', 'SC_GMMAN5482177', 'SC_GMJOL5309876', 'SC_GMWOF5428855', 'SC_GMJOL5309929', 'HG03113', 'HG02596', 'HGDP01186', 'HGDP01383', 'I1', 'SC_GMFUL5306383', 'HG03519', 'HGDP01291', 'SC_GMFUL5309773', 'HG01960', 'HGDP01380', 'HGDP00948', 'HG01493', 'HG00655', 'SC_GMWOF5428762', 'IraqiJew1771', 'HGDP01014', 'HG04132', 'HG01433', 'HGDP00636', 'HGDP00070', 'HG01952', 'HGDP00514', 'HG01442', 'HGDP00013', 'NA20414', 'SC_GMFUL5309719', 'NA19173', 'SC_GMJOL5309959', 'HGDP00856', 'HG01261', 'HG00621', 'HGDP00857', 'HG00630', 'HGDP00553', 'NA18914', 'NA18875', 'NA19311', 'NA19708', 'HGDP00474', 'HGDP01370', 'HGDP00491', 'HGDP00559', 'HG01898', 'HG01940', 'HG03510', 'SC_GMWOF5428869', 'HG02883', 'HGDP00895', 'HG01195', 'Bu5', 'HGDP01356', 'SC_GMFUL5306390', 'HGDP00302', 'SC_GMWOF5428861', 'SC_GMFUL5306367', 'SC_GMMAN5482306', 'SC_GMMAN5482266', 'HG03842', 'HGDP01190', 'HGDP01188', 'HGDP01184', 'HGDP00467', 'HG03314', 'HGDP00517', 'HG03487', 'HG03564', 'HG02871', 'HGDP00620', 'NA20316', 'HGDP01241', 'HG03062', 'HG03033', 'HGDP01327', 'HGDP00649', 'HGDP00323', 'HGDP00638', 'SC_GMMAN5482199', 'HG00577', 'HG03602', 'SC_GMFUL5306379', 'SC_GMMAN5482236', 'HGDP00319', 'HG01463', 'HGDP01381', 'HGDP00813', 'HGDP00330', 'NA19763', 'HG01482', 'HGDP01275', 'NA19398', 'HGDP00066', 'HGDP01312', 'HGDP01399', 'HG04193', 'HG03299', 'SC_GMJOL5309922', 'HG02106', 'HGDP00470', 'HGDP00811', 'SC_GMMAN5482284', 'HG03171', 'HGDP00748', 'NA13607', 'HGDP00625', 'NA20313', 'HGDP00906', 'HG02080', 'SC_GMWOF5428797', 'HG03339', 'SC_GMFUL5306351', 'HGDP00868', 'HGDP00863', 'HG01053', 'SC_GMMAN5482185', 'HG02984', 'SC_GMFUL5309764', 'HG04215', 'HG04127', 'SC_GMWOF5428771', 'HGDP00571', 'HGDP00518', 'NA21490', 'NA18925', 'SC_GMFUL5306427', 'HGDP00771', 'HG02129', 'NA18874', 'SC_GMWOF5428803', 'HGDP00167', 'NA19674', 'HGDP00643', 'SC_GMJOL5309981', 'HGDP00615', 'SC_GMJOL5309934', 'HGDP00981', 'HGDP00944', 'HGDP00757', 'HGDP00774', 'R6', 'HG02280', 'SC_GMWOF5428800', 'SC_GMFUL5306423', 'HGDP00965', 'HGDP00151', 'HGDP00712', 'NA19775', 'HG00444', 'HGDP00664', 'SC_GMFUL5306385', 'HG04114', 'HGDP01030', 'SC_GMJOL5309904', 'HG03450', 'HGDP00333', 'HGDP00130', 'HGDP01302', 'HGDP00918', 'HG00652', 'NA19751', 'NA19727', 'HG03942', 'HGDP00222', 'HGDP01152', 'NA18913', 'HGDP00790', 'HG01252', 'HGDP01097', 'HG00447', 'SC_GMWOF5428794', 'SC_GMFUL5309733', 'HG03605', 'NA18955', 'SC_GMMAN5482233', 'HGDP01240', 'HGDP00682', 'HGDP00785', 'HG01178', 'HG02838', 'SC_GMFUL5306424', 'SC_GMMAN5482276', 'SC_GMMAN5482248', 'SC_GMMAN5482170', 'SC_GMJOL5309884', 'SC_GMFUL5306404', 'SC_GMMAN5482314', 'HGDP00952', 'HGDP00746', 'HG02344', 'HGDP01204', 'HG03302', 'SA0722', 'HGDP00772', 'HG03468', 'Dus16', 'HGDP00153', 'HGDP00696', 'HGDP01379', 'SC_GMJOL5309867', 'HGDP00900', 'HGDP00750', 'HGDP00642', 'HGDP00428', 'SC_GMWOF5428821', 'NA20279', 'SC_GMWOF5428839', 'HG03766', 'GM21487', 'HG02027', 'HGDP00210', 'HG01887', 'HG03023', 'HGDP00731', 'SC_GMMAN5482171', 'HG04157', 'HGDP00700', 'HGDP00745', 'HG02683', 'HG00685', 'NA19382', 'SC_GMMAN5482283', 'HGDP01081', 'HGDP01336', 'SC_GMWOF5428857', 'HG03350', 'HG00983', 'HGDP00234', 'HGDP00815', 'NA19738', 'HGDP01074', 'HG01454', 'abh107', 'HG03621', 'NA18911', 'HGDP00313', 'HGDP01099', 'HGDP00961', 'HGDP00049', 'NA19100', 'HGDP01367', 'HGDP01181', 'SC_GMJOL5309907', 'HG01206', 'mixe0007', 'SC_GMWOF5428834', 'SC_GMMAN5482282', 'HG01081', 'HGDP00397', 'HG03250', 'HG00612', 'HGDP00460', 'HGDP00606', 'HGDP01103', 'Nlk1', 'HG03639', 'HG03599', 'HGDP00015', 'HGDP01044', 'HGDP01079', 'HG02024', 'HG02812', 'HGDP01087', 'SC_GMFUL5309700', 'HG03569', 'HGDP01358', 'HGDP00201', 'HGDP00692', 'HG04058', 'HG03992', 'HG01379', 'NA19176', 'NA19396', 'HGDP01403', 'Ayodo_502C', 'HGDP00609', 'SC_GMFUL5306397', 'HGDP00877', 'HGDP00539', 'HGDP01228', 'SC_GMWOF5428849', 'HG01324', 'HGDP00622', 'HGDP00702', 'NA18795', 'SC_GMMAN5482268', 'HG00642', 'HG04174', 'HGDP00917', 'HGDP00730', 'HG03128', 'SC_GMMAN5482285', 'HGDP00259', 'HGDP01174', 'NA15763', 'HG02964', 'HGDP00045', 'NA18540', 'HGDP01309', 'HGDP00479', 'HG03707', 'HG02466', 'HGDP00845', 'SC_GMFUL5306362', 'HGDP00513', 'HGDP00021', 'HGDP00969', 'NA19432', 'SC_GMJOL5309843', 'HGDP00871', 'HGDP00567', 'HGDP00195', 'HGDP00090', 'HG03368', 'NA19753', 'HG03176', 'SC_GMJOL5309898', 'HGDP00058', 'HGDP01217', 'HG00582', 'tdj430_shugnan', 'HGDP01151', 'HG00636', 'NA20873', 'HGDP00557', 'SC_GMMAN5482191', 'HGDP00237', 'HGDP01066', 'NA19902', 'HGDP00033', 'HGDP00563', 'HGDP00865', 'SC_GMFUL5309756', 'HGDP00698', 'HG03431', 'HG01975', 'HGDP01095', 'HGDP00364', 'NA20288', 'NA20292', 'HGDP01069', 'HGDP01037', 'SC_GMFUL5306366', 'HG01184', 'HG03309', 'HGDP00526', 'HG01175', 'HG03134', 'NorthOssetia5', 'HGDP00875', 'HG02303', 'HG02004', 'HGDP00576', 'NA20360', 'mg27', 'NA18852', 'SC_GMWOF5428713', 'NA19469', 'HGDP01366', 'HGDP01264', 'SC_GMFUL5306348', 'SC_GMFUL5309710', 'HG02841', 'HGDP00765', 'HGDP01300', 'HGDP00909', 'HGDP01326', 'NA19120', 'HG03763', 'HG01897', 'HG03579', 'HGDP01319', 'HGDP00056', 'HGDP01289', 'HGDP01163', 'HG03806', 'SC_GMJOL5309860', 'HGDP01400', 'HG03411', 'HG02358', 'HG02572', 'NA19444', 'HGDP00732', 'HG03249', 'HGDP00457', 'HGDP00719', 'HGDP00666', 'HGDP00376', 'HG01928', 'NA19724', 'Jordan214', 'Y4', 'SC_GMWOF5428866', 'HGDP00161', 'SC_GMFUL5306403', 'HGDP00472', 'Nlk3', 'HGDP01316', 'HGDP01361', 'HGDP00654', 'HGDP01418', 'NA19905', 'HGDP01347', 'NA19104', 'HG00600', 'SC_GMJOL5309914', 'SC_GMMAN5482228', 'NA20290', 'HGDP01067', 'NA15202', 'SC_GMFUL5306370', 'HGDP01338', 'HG03516', 'HGDP01340', 'HG01481', 'SC_GMWOF5428875', 'HG03306', 'HG01884', 'HG02525', 'HG00624', 'HGDP01231', 'HGDP00977', 'HGDP00721', 'HGDP00782', 'HG02735', 'NA19737', 'HGDP00104', 'SAH41', 'HGDP01156', 'HGDP01364', 'HGDP01157', 'NA19915', 'HG01169', 'HGDP01104', 'HG01385', 'HG03047', 'HG03669', 'HGDP00803', 'HGDP00744', 'HGDP00887', 'HGDP01332', 'HGDP01218', 'HGDP01388', 'HG02059', 'HGDP01255', 'HG03683', 'SC_GMMAN5482197', 'HGDP00822', 'HGDP01402', 'HGDP00967', 'SC_GMWOF5428724', 'HGDP00575', 'HG02948', 'SC_GMMAN5482239', 'HGDP00680', 'SC_GMMAN5482235', 'SC_GMFUL5306345', 'HGDP00011', 'HG03699', 'HGDP00945', 'M4', 'HG02612', 'HGDP00185', 'HGDP00645', 'HGDP00775', 'NA19918', 'HGDP00529', 'NA19760', 'HGDP01414', 'HG02524', 'HGDP00817', 'HGDP00776', 'HG00866', 'HG03939', 'SC_GMMAN5482348', 'HGDP00392', 'NorthOssetia12', 'HG00676', 'HGDP00412', 'HGDP00315', 'SC_GMJOL5309963', 'NA18506', 'SC_GMJOL5309796', 'HG00411', 'Ale32', 'HGDP00309', 'HGDP00763', 'HG02030', 'SC_GMWOF5428796', 'SC_GMFUL5306361', 'NA19797', 'HGDP00417', 'HGDP00094', 'SC_GMFUL5309763', 'HG03719', 'HG03794', 'HG00453', 'HG03308', 'HGDP00902', 'HGDP01283', 'HGDP00729', 'iran11', 'SC_GMMAN5482309', 'HGDP00885', 'HGDP00258', 'HGDP00697', 'HGDP00930', 'SC_GMJOL5309951', 'SC_GMWOF5428723', 'HG00429', 'HGDP00135', 'HG03845', 'HGDP00206', 'HG04050', 'HGDP00230', 'HG02602', 'HG00716', 'HG03374', 'SC_GMWOF5428820', 'HGDP00661', 'NOR111', 'HG03344', 'HGDP00561', 'GM19320', 'HGDP00715', 'SC_GMMAN5482300', 'SC_GMJOL5309868', 'HG03522', 'HG01355', 'HGDP01349', 'NA19718', 'SC_GMMAN5482162', 'HGDP00445', 'SC_GMFUL5306387', 'HGDP00144', 'HGDP00328', 'HGDP01205', 'HG02267', 'HGDP00849', 'HGDP00882', 'NA19685', 'SC_GMJOL5309950', 'HG01301', 'HGDP00578', 'HGDP00122', 'HGDP00179', 'HG03798', 'HG01496', 'HGDP01411', 'HGDP00088', 'NA19796', 'NA19381', 'HG04135', 'HG03362', 'HGDP01339', 'HG02776', 'HGDP00181', 'HG00718', 'HGDP00205', 'mixe0042', 'HGDP00160', 'SC_GMMAN5482299', 'NA19828', 'HGDP00864', 'HGDP00530', 'HG01946', 'SC_GMWOF5428823', 'HGDP00677', 'SC_GMJOL5309919', 'HG03493', 'NA20312', 'Kor82', 'HGDP01303', 'NA20879', 'HG00627', 'SC_GMWOF5428737', 'HGDP00919', 'NA20333', 'HGDP01256', 'SC_GMMAN5482315', 'HGDP00286', 'HG00561', 'SC_GMMAN5482202', 'HGDP01406', 'HGDP00541', 'HGDP01348', 'HGDP00341', 'HGDP00736', 'NA19772', 'HGDP01242', 'HG02018', 'HGDP00777', 'HG02704', 'NA18515', 'HG03929', 'HGDP00773', 'ch113', 'SC_GMMAN5482168', 'HG02599', 'ND15865', 'HGDP00009', 'HG00514', 'HGDP01405', 'HGDP01236', 'NA19202', 'HGDP00737', 'NA19680', 'HGDP01094', 'NA19656', 'SC_GMJOL5309972', 'HG03076', 'NA19653', 'SC_GMMAN5482258', 'HGDP00611', 'SC_GMWOF5428747', 'HG03230', 'HG03191', 'SC_GMWOF5428789', 'NA20347', 'HGDP01311', 'HG04024', 'HGDP01179', 'HGDP01334', 'NA18859', 'HG03041', 'NA19237', 'HGDP01238', 'SC_GMMAN5482243', 'HGDP00797', 'NA19123', 'HGDP01301', 'HG02692', 'HGDP00794', 'HG01394', 'HGDP00523', 'SC_GMJOL5309805', 'HGDP00802', 'HGDP00899', 'SC_GMFUL5306399', 'HGDP00846', 'SC_GMWOF5428906', 'SC_GMJOL5309827', 'HGDP01398', 'SC_GMWOF5428795', 'DNK07', 'HGDP01253', 'HGDP00724', 'HG03248', 'SC_GMMAN5482169', 'HG02668', 'HGDP00131', 'HGDP01187', 'HG02686', 'HG03454', 'SC_GMWOF5428867', 'SC_GMJOL5309918', 'HGDP00582', 'SC_GMJOL5309917', 'HGDP00883', 'SC_GMJOL5309985', 'HGDP01024', 'SC_GMWOF5428846', 'HGDP01057', 'HGDP00076', 'Ul5', 'SC_GMFUL5309747', 'HGDP00444', 'GM19129', 'SC_GMJOL5309925', 'HGDP01263', 'HGDP01051', 'HGDP00747', 'SC_GMWOF5428811', 'HG01135', 'SC_GMWOF5428850', 'NA20300', 'HGDP00607', 'HGDP00311', 'HGDP00035', 'HG02615', 'HG03633', 'HG01984', 'SC_GMJOL5309967', 'HGDP00862', 'SC_GMWOF5428707', 'HGDP00646', 'HGDP00983', 'HG02809', 'HGDP01306', 'HG01404', 'NA18497', 'SC_GMMAN5482234', 'HGDP00949', 'HGDP01341', 'SC_GMFUL5309709', 'HGDP01075', 'HG03822', 'HGDP00893', 'HGDP00141', 'HG03173', 'HGDP00975', 'HGDP01368', 'SC_GMFUL5306400', 'HGDP00623', 'HGDP00717', 'HGDP00099', 'HGDP01055', 'NA19215', 'HGDP00903', 'HGDP01397', 'HGDP00651', 'HGDP01209', 'HGDP01101', 'HGDP00710', 'HG03402', 'HG02091', 'HG03477', 'HGDP00984', 'HGDP00298', 'Mansi79', 'SC_GMJOL5309813', 'HG03657', 'HGDP01419', 'NA18529', 'HGDP00524', 'HGDP00648', 'HG04197', 'SC_GMFUL5306377', 'HGDP00667', 'HGDP00542', 'HG03131', 'B11', 'HG01106', 'HGDP00402', 'HGDP01009', 'HG01358', 'HGDP00082', 'HGDP00326', 'HG03540', 'HG03272', 'HGDP01023', 'HGDP00618', 'HG03700', 'SC_GMMAN5482252', 'HGDP01413', 'HGDP00749', 'HG02302', 'Sam02', 'HGDP00669', 'HG03053', 'HG02405', 'HGDP01220', 'HG02273', 'HG01090', 'NA18863', 'HGDP00173', 'HG03704', 'HGDP00759', 'HGDP00725', 'HG02300', 'HGDP01221', 'NA11200', 'NA17377', 'NA19798', 'HGDP01313', 'HGDP00760', 'HG03797', 'IHW9193', 'Sir19', 'HGDP00915', 'HGDP00115', 'NA19154', 'HGDP01019', 'NA18503', 'I3', 'HGDP01001', 'SC_GMFUL5306408', 'HGDP01401', 'HGDP00438', 'HGDP01195', 'HG00694', 'HGDP00828', 'HG04175', 'HGDP01202', 'SC_GMJOL5309927', 'HGDP01015', 'HG01347', 'HG03710', 'HGDP01018', 'HGDP00950', 'HGDP00939', 'HGDP00982', 'SC_GMJOL5309952', 'HG01888', 'SC_GMFUL5306392', 'HGDP00860', 'HG01415', 'HGDP01279', 'HG01955', 'HGDP00894', 'HGDP00191', 'HGDP00550', 'HGDP01299', 'HGDP00146', 'HG03305', 'HGDP01290', 'Bishkek28439', 'NA18791', 'SC_GMWOF5428859', 'HG02279', 'SC_GMFUL5306406', 'HGDP01259', 'SC_GMMAN5482189', 'HG02625', 'HGDP00821', 'HGDP01214', 'HGDP01269', 'SC_GMWOF5428813', 'HG00579', 'SC_GMJOL5309939', 'HGDP00994', 'SC_GMMAN5482187', 'HGDP00003', 'HG03384', 'HGDP01266', 'HGDP00807', 'HGDP01166', 'HG02563', 'SC_GMJOL5309903', 'HG02258', 'HGDP00904', 'HGDP00025', 'HGDP00321', 'HGDP00796', 'SC_GMJOL5309948', 'HGDP00806', 'HG03723', 'HGDP00734', 'HG04122', 'HG00703', 'NA19754', 'GM20355', 'HGDP00520', 'HGDP00928', 'HG04148', 'HG02584', 'HG01071', 'NA19733', 'HG03474', 'K4', 'HG03371', 'HGDP00676', 'HGDP00017', 'HG03035', 'HG02644', 'SC_GMWOF5428873', 'HGDP00889', 'HG03915', 'SC_GMWOF5428755', 'SC_GMWOF5428748', 'HGDP00449', 'SC_GMMAN5482332', 'HGDP01155', 'HG02897', 'HG02770', 'HG03065', 'SC_GMFUL5309708', 'HGDP00892', 'HGDP00594', 'HGDP00187', 'HGDP00976', 'HGDP01254', 'HG01099', 'HGDP01225', 'SC_GMWOF5428798', 'HG01998', 'HG04136', 'HGDP00627', 'SC_GMMAN5482232', 'HG02451', 'SC_GMMAN5482323', 'HG03513', 'HG03312', 'HGDP00788', 'HGDP00580', 'HGDP00372', 'SC_GMMAN5482220', 'SC_GMFUL5309701', 'NA19139', 'HG02978', 'Nesk_25', 'HGDP00577', 'HGDP00134', 'HGDP00628', 'HG02492', 'HGDP00584', 'SC_GMJOL5309935', 'HGDP00462', 'NA20893', 'HGDP00740', 'HG02630', 'NA19702', 'HG01983', 'HG01276', 'HGDP01059', 'SC_GMFUL5306339', 'HG03876', 'HGDP00880', 'HGDP00356', 'HGDP01416', 'HG02126', 'HGDP00307', 'HGDP00338', 'HG02055', 'HG00664', 'NA18527', 'HGDP01222', 'SC_GMWOF5428731', 'HG00438', 'HG01367', 'HG03480', 'HGDP00837', 'zapo0098', 'HGDP00693', 'HG02168', 'HGDP00136', 'SC_GMWOF5428841', 'HG01895', 'HGDP01245', 'Kayseri23827', 'HGDP00907', 'HGDP00565', 'HG00706', 'HG03804', 'HGDP00382', 'HGDP00566', 'HGDP00072', 'HG03831', 'HG03293', 'HG04040', 'BulgarianB4', 'HG03590', 'HGDP00108', 'NA19683', 'CHI-034', 'HGDP00672', 'HG02145', 'HG03903', 'HG00735', 'HG02189', 'SC_GMJOL5309944', 'HG00733', 'HGDP01377', 'HG03574', 'HGDP01100', 'NA19094', 'SC_GMMAN5482219', 'SC_GMFUL5306432', 'NA18521', 'HGDP01206', 'HGDP00706', 'HGDP00987', 'SC_GMJOL5309821', 'HG02056', 'HGDP00023', 'NA19115', 'abh100', 'HG03732', 'HGDP00197', 'HGDP01258', 'HGDP00120', 'NA18485', 'SC_GMJOL5309957', 'HGDP00064', 'HGDP01386', 'SC_GMFUL5306356', 'HG00591', 'HGDP00708', 'SC_GMJOL5309812', 'HG04160', 'HGDP00671', 'HGDP01346', 'HG02785', 'HGDP01192', 'HG01274', 'SC_GMJOL5309921', 'HGDP00723', 'HGDP00966', 'YemeniteJew4695', 'HG02526', 'NA19924', 'SC_GMWOF5428788', 'SC_GMWOF5428792', 'HGDP00873', 'HG02575', 'HGDP00591', 'SC_GMWOF5428770', 'NA20319', 'HGDP01050', 'HGDP00106', 'SC_GMJOL5309911', 'HGDP01276', 'SC_GMJOL5309913', 'NA19097', 'HG03626', 'HGDP00281', 'NA20322', 'HGDP00644', 'HGDP00516', 'NA13616', 'HG01579', 'SC_GMWOF5428817', 'HGDP00145', 'HGDP00910', 'HG00477', 'HGDP00218', 'HG02011', 'HG01243', 'SC_GMJOL5309953', 'HGDP00993', 'HG00615', 'HGDP01329', 'HG00700', 'NA20336', 'HGDP00701', 'NA19186', 'HG03972', 'SC_GMJOL5309891', 'HG01483', 'SC_GMWOF5428715', 'HGDP00703', 'HGDP00544', 'HG01881', 'HGDP00727', 'HG02762', 'HG02717', 'HG03456', 'Nesk_22', 'NA19665', 'HG02758', 'HGDP00511', 'NA19196', 'SC_GMFUL5306354', 'HG02853', 'HGDP01274', 'HG03104', 'HGDP00779', 'HGDP00614', 'HG03617', 'SC_GMJOL5309859', 'HGDP00668', 'HGDP00639', 'HG03260', 'IraqiJew4291', 'HG02856', 'HGDP01362', 'SC_GMMAN5482181', 'SC_GMFUL5306360', 'HGDP00604', 'HG03948', 'HGDP01262', 'HG00423', 'HG03618', 'SC_GMJOL5309965', 'SC_GMFUL5309718', 'HGDP00531', 'SC_GMWOF5428830', 'NEUTC015WBG', 'HG02436', 'HGDP00959', 'Ul31', 'SC_GMWOF5428778', 'NA19748', 'HG03904', 'HGDP00279', 'HGDP00463', 'NA19985', 'HG01487', 'HGDP00896', 'HGDP00552', 'SC_GMJOL5309980', 'HG01995', 'NA18857', 'HGDP00968', 'HGDP01322', 'HG03307', 'HGDP00598', 'HGDP01060', 'HGDP00755', 'Peru60', 'HGDP00991', 'SC_GMWOF5428827', 'HG01056', 'SC_GMJOL5309937', 'HGDP00037', 'SC_GMFUL5309722', 'HGDP01280', 'HG01453', 'HG00673', 'SC_GMWOF5428832', 'HGDP00941', 'SC_GMFUL5309703', 'NA20277', 'SC_GMFUL5306340', 'HG02889', 'HGDP00920', 'HGDP01200', 'SC_GMWOF5428786', 'HG01376', 'HGDP00177', 'NA18869', 'HG02779', 'NA19105', 'HG02689', 'SC_GMFUL5306346', 'HG02945', 'HG00639', 'HG03909', 'HGDP00243', 'SC_GMFUL5309735', 'HG01567', 'HGDP00925', 'HGDP00600', 'HGDP01321', 'HG03269', 'SC_GMWOF5428745', 'NA19161', 'HG02381', 'SC_GMFUL5309725', 'HGDP00129', 'HG00480', 'HG02523', 'HGDP00881', 'SC_GMMAN5482244', 'HGDP00783', 'HGDP00527', 'NA19766', 'HG04133', 'SC_GMWOF5428822', 'Kusunda15', 'HG01114', 'HG03236', 'HGDP00973', 'SC_GMJOL5309852', 'HG02120', 'SC_GMJOL5309979', 'HGDP00621', 'HG03266', 'HGDP00047', 'HGDP00109', 'HGDP00634', 'HG03050', 'SC_GMJOL5309940', 'HGDP00568', 'HGDP01272', 'HGDP01065', 'NA19836', 'SC_GMJOL5309895', 'HG03811', 'HGDP00454', 'HGDP01012', 'HG03158', 'HGDP00546', 'HGDP01384', 'HG02701', 'HGDP01354', 'HGDP00471', 'HGDP01331', 'NA19373', 'HGDP00684', 'SC_GMFUL5309781', 'NA20350', 'SC_GMWOF5428806', 'HG03137', 'HG01322', 'HGDP00726', 'HGDP00304', 'Kayseri24424', 'DNK05', 'HG03170', 'HGDP00954', 'HGDP01239', 'HGDP00992', 'NA19148', 'Sir40', 'HGDP00119', 'HGDP00459', 'HGDP00288', 'HGDP01320', 'HGDP01032', 'NA18855', 'HGDP01035', 'HG02972', 'HGDP01337', 'SC_GMFUL5306344', 'SC_GMJOL5309961', 'HGDP00183', 'SC_GMMAN5482231', 'HGDP00556', 'HGDP00155', 'HG03596', 'HG03982', 'HGDP01171', 'HGDP01223', 'NA17374', 'SC_GMMAN5482292', 'HG03465', 'SC_GMWOF5428829', 'HG03825', 'HG03398', 'HG04149', 'HGDP01213', 'HGDP00007', 'HGDP00812'}\n",
              "</pre>\n"
            ],
            "text/plain": [
              "16:35:42.616 | \u001b[36mINFO\u001b[0m    | Flow run\u001b[35m 'mahogany-quetzal'\u001b[0m - \n",
              "missing 2311 holdout controls IDs:\n",
              " {'HGDP00583', 'NA19191', 'HG02966', 'SC_GMWOF5428805', 'HG00635', 'Igor20', 'HG00538', 'HGDP01315', 'SC_GMMAN5482221', 'HGDP01033', 'SC_GMJOL5309983', 'SC_GMMAN5482340', 'SC_GMMAN5482247', 'HG03365', 'HGDP00169', 'NA18509', 'SC_GMMAN5482195', 'SC_GMJOL5309819', 'Nlk18', 'HGDP00453', 'HG03310', 'HGDP00820', 'NA19044', 'HGDP00118', 'HGDP00926', 'HG02791', 'HGDP01173', 'HGDP01376', 'SA0342', 'HGDP01034', 'HG00408', 'HG03576', 'SC_GMJOL5309890', 'SC_GMWOF5428740', 'HGDP00814', 'HGDP01375', 'NA20898', 'HG03582', 'HG04142', 'HGDP00898', 'HG03110', 'HGDP01345', 'HG03466', 'HG04067', 'HGDP01374', 'HG00465', 'HG03816', 'HGDP01350', 'SC_GMFUL5309741', 'HGDP01021', 'IHW9118', 'SC_GMJOL5309945', 'HGDP00855', 'SC_GMWOF5428877', 'HGDP00560', 'HG02135', 'HG02478', 'SC_GMWOF5428732', 'HGDP00974', 'HGDP01286', 'HGDP00713', 'HGDP00086', 'HGDP01417', 'HGDP01227', 'HG02818', 'SC_GMJOL5309964', 'HGDP00955', 'HGDP00769', 'HG02569', 'HGDP00274', 'Mansi41', 'HGDP01185', 'HG02254', 'NA21581', 'HG01919', 'NA21121', 'HGDP00572', 'Est400', 'NA19205', 'HG03034', 'SC_GMMAN5482256', 'HGDP00901', 'HGDP00884', 'HGDP01090', 'HG03769', 'HGDP00683', 'SC_GMJOL5309828', 'NA19721', 'HG02046', 'SC_GMMAN5482301', 'HG04228', 'HGDP00232', 'HG03239', 'HGDP00528', 'HGDP00735', 'NA19671', 'HGDP01244', 'Sir26', 'SC_GMMAN5482223', 'HG02486', 'HGDP01357', 'HGDP00247', 'HGDP01308', 'HGDP00768', 'HGDP01224', 'HGDP01098', 'SC_GMWOF5428824', 'NA19252', 'NA20358', 'SC_GMFUL5309730', 'HG01473', 'Jordan603', 'NA19705', 'NA15728', 'HGDP00953', 'HGDP01404', 'HG03125', 'NA19983', 'NA19790', 'SC_GMJOL5309897', 'HGDP00455', 'HGDP00764', 'HGDP00838', 'HG01499', 'NA18906', 'HG02015', 'HG03296', 'HGDP00799', 'HGDP00890', 'HG00597', 'HGDP01295', 'HGDP01294', 'HGDP01072', 'HGDP00371', 'HG02170', 'SC_GMFUL5306407', 'TZ-11', 'HGDP01027', 'HG03641', 'HG00555', 'HGDP00858', 'BulgarianC1', 'HGDP01363', 'SC_GMFUL5309748', 'SC_GMFUL5306391', 'HG03847', 'HG01123', 'SC_GMFUL5306349', 'HGDP01369', 'HGDP00970', 'HGDP00478', 'SC_GMFUL5306382', 'HG02662', 'HGDP01317', 'HGDP00626', 'HGDP01193', 'HG02869', 'HG00730', 'SC_GMMAN5482316', 'NA19313', 'SC_GMMAN5482260', 'HGDP00674', 'HGDP00540', 'HGDP01102', 'HGDP00199', 'HG01349', 'HGDP00818', 'HGDP00619', 'SC_GMMAN5482205', 'HG00532', 'HGDP01180', 'SC_GMFUL5309738', 'HG00459', 'HG03438', 'NA19122', 'HGDP00599', 'HGDP00762', 'KD4', 'HGDP01234', 'HG03008', 'HG04191', 'HGDP00029', 'HGDP00423', 'HG03721', 'HGDP00964', 'HG00658', 'HGDP01194', 'SC_GMJOL5309982', 'NA20871', 'SC_GMJOL5309851', 'HGDP00947', 'HG00738', 'SC_GMJOL5309943', 'HGDP01250', 'HG02068', 'HG01346', 'HG01279', 'HGDP01247', 'HG03813', 'HG01391', 'HGDP00761', 'HG03026', 'SC_GMMAN5482207', 'HGDP00143', 'HGDP01226', 'HGDP00452', 'HG00474', 'NA19101', 'HGDP00932', 'SC_GMWOF5428814', 'HGDP00175', 'HGDP01408', 'HG02800', 'HGDP01267', 'HG03930', 'NA19453', 'HGDP00579', 'SC_GMWOF5428787', 'HG03715', 'HGDP00103', 'NA19128', 'NA18594', 'tdj409_shugnan', 'HGDP01292', 'NA18872', 'HGDP01164', 'HGDP01360', 'HGDP00248', 'NA18935', 'HGDP00756', 'NA19240', 'HGDP00096', 'HGDP00465', 'HG02975', 'HGDP00704', 'Est375', 'HGDP01288', 'Armenian222', 'HGDP01068', 'HG03651', 'HGDP01233', 'NA19211', 'SC_GMMAN5482212', 'HG01062', 'HGDP00285', 'SC_GMJOL5309976', 'Tuba19', 'HGDP00476', 'NA13604', 'HG01361', 'HG03119', 'SC_GMWOF5428819', 'HGDP00986', 'HG03840', 'HGDP00148', 'HG00535', 'HGDP01378', 'NA20337', 'HG02729', 'SC_GMJOL5309958', 'HGDP00819', 'HGDP01172', 'HG04053', 'HGDP01086', 'SC_GMJOL5309912', 'HG02363', 'NA18860', 'HGDP00670', 'SC_GMMAN5482251', 'HG01172', 'HGDP00999', 'HGDP01335', 'HGDP01058', 'HG01150', 'SC_GMMAN5482291', 'Tuba9', 'NA18794', 'HG02261', 'SC_GMJOL5309933', 'HG02698', 'SC_GMJOL5309974', 'HGDP00543', 'HGDP00251', 'SC_GMFUL5309711', 'HG02480', 'HGDP00054', 'HGDP00784', 'HG01343', 'mixa0105', 'SC_GMMAN5482225', 'SC_GMWOF5428833', 'SC_GMJOL5309905', 'mixe0002', 'SC_GMMAN5482324', 'HGDP00601', 'HGDP00290', 'HG03566', 'SC_GMFUL5306359', 'HG02547', 'SC_GMWOF5428716', 'HGDP00929', 'HG01981', 'SC_GMFUL5306416', 'SC_GMJOL5309956', 'HGDP00548', 'SC_GMWOF5428842', 'SC_GMFUL5306413', 'HGDP00041', 'HG01972', 'HG02659', 'SC_GMFUL5306410', 'iran17', 'HG04217', 'NA20883', 'NA20295', 'HGDP00157', 'HGDP01271', 'HGDP01371', 'HGDP00555', 'HGDP00150', 'SC_GMFUL5306418', 'HG04055', 'Ayodo_81S', 'NA15761', 'HG04192', 'HG02647', 'HGDP00359', 'HG01103', 'HGDP00673', 'HG03549', 'HGDP00716', 'HGDP01216', 'CHI-007', 'HG00585', 'HG02969', 'NA19781', 'ND19394', 'SC_GMMAN5482217', 'HGDP01071', 'NA20349', 'HGDP00537', 'HG03122', 'NA19757', 'HG04181', 'HG01993', 'HGDP01365', 'HGDP00751', 'NA18862', 'SC_GMFUL5306343', 'HGDP00613', 'NA20341', 'Igor21', 'HG00427', 'HGDP00733', 'HGDP00092', 'NA21134', 'Utsa21', 'SC_GMJOL5309968', 'HGDP00031', 'HGDP00888', 'HG03098', 'HGDP01385', 'HG03927', 'SC_GMMAN5482209', 'HGDP01168', 'HG03584', 'SC_GMFUL5306396', 'NEUVM032BF2', 'NA18930', 'HGDP00689', 'SC_GMWOF5428708', 'HGDP00165', 'HGDP00711', 'HGDP00125', 'HG02794', 'YemeniteJew5433', 'SC_GMMAN5482322', 'HGDP00675', 'HG01943', 'HGDP00473', 'SC_GMWOF5428828', 'DNK11', 'NA18524', 'SC_GMWOF5428831', 'SC_GMFUL5306357', 'HG03361', 'HGDP01047', 'HG03801', 'HGDP00027', 'NA19150', 'HG03834', 'HG03654', 'NA20129', 'HGDP00780', 'HGDP00624', 'NA18484', 'Ale14', 'lez42', 'SC_GMMAN5482224', 'SC_GMJOL5309960', 'HG01255', 'HG02514', 'HG04204', 'NA20301', 'NA19659', 'SAH31', 'SC_GMMAN5482307', 'HGDP00590', 'HG02388', 'SC_GMMAN5482172', 'HG02590', 'SC_GMFUL5306421', 'NA19660', 'HGDP01251', 'HGDP00957', 'HG02321', 'altai363p', 'SC_GMFUL5306419', 'HG01327', 'HGDP01372', 'NA20343', 'SC_GMMAN5482215', 'HGDP00808', 'HG02924', 'HGDP00891', 'HGDP01161', 'SC_GMFUL5309717', 'HG01138', 'HG00526', 'HGDP00224', 'HGDP01043', 'SC_GMJOL5309928', 'HGDP00149', 'HGDP00538', 'SC_GMFUL5306369', 'SC_GMJOL5309836', 'NA19258', 'HGDP00346', 'HG03399', 'HG03029', 'HG02567', 'HG02880', 'HG03471', 'HGDP00535', 'HGDP00228', 'NA20909', 'HGDP00931', 'HGDP01036', 'HG00418', 'HGDP00277', 'NA20297', 'HG00709', 'HG01445', 'HGDP00140', 'HGDP01182', 'HGDP01260', 'SC_GMJOL5309966', 'HGDP00971', 'HGDP01342', 'HG02288', 'SC_GMFUL5306411', 'SC_GMMAN5482216', 'SC_GMFUL5306374', 'HG03508', 'SC_GMJOL5309971', 'HG03200', 'SC_GMJOL5309875', 'HG03383', 'HGDP00475', 'HG02723', 'HG03197', 'HGDP00641', 'HG02463', 'HG01352', 'NA20285', 'HGDP00468', 'NA20335', 'NA19208', 'SC_GMWOF5428721', 'HG00502', 'HG01959', 'HGDP00647', 'Bishkek28440', 'HG02862', 'HGDP01189', 'SC_GMMAN5482203', 'NA19784', 'HGDP01203', 'HGDP01219', 'HGDP00738', 'HG04184', 'mixa0099', 'SC_GMWOF5428858', 'SC_GMJOL5309984', 'HGDP00549', 'HGDP00832', 'HGDP00958', 'HG04036', 'HG03795', 'SC_GMJOL5309797', 'HGDP00753', 'zapo0099', 'HG03906', 'HG00420', 'HG02965', 'HG03017', 'HGDP01198', 'NA20284', 'HG02257', 'SC_GMWOF5428815', 'HG02316', 'NA20128', 'Ale20', 'HG00512', 'HGDP00791', 'NA19046', 'HG01922', 'SC_GMWOF5428763', 'SC_GMFUL5306415', 'HGDP01053', 'HG02781', 'HGDP00688', 'SC_GMWOF5428808', 'HGDP00062', 'HG02377', 'HG02293', 'HG00501', 'SC_GMFUL5306353', 'SC_GMMAN5482163', 'HGDP01344', 'HG03486', 'HGDP00074', 'HGDP00133', 'HG01969', 'HGDP01207', 'HGDP01196', 'HGDP01092', 'HGDP01211', 'HGDP00985', 'HG02886', 'NA17385', 'NA15203', 'HGDP00859', 'HGDP00407', 'HG01192', 'HG01925', 'HGDP01330', 'HG02636', 'HG03056', 'SC_GMWOF5428818', 'HGDP01373', 'HGDP00758', 'HG02656', 'R3', 'HGDP00078', 'HGDP01208', 'HG02287', 'HGDP00886', 'HG03988', 'HGDP00214', 'NA19650', 'HGDP01352', 'K1', 'NA19203', 'NA20364', 'HG02071', 'HGDP01041', 'HG02276', 'HGDP01297', 'HGDP01310', 'SC_GMWOF5428736', 'HGDP01201', 'HGDP01387', 'HGDP00574', 'HGDP00914', 'HG03807', 'SC_GMWOF5428865', 'HG02764', 'HGDP00536', 'NA19919', 'HGDP00679', 'HG01096', 'HG03381', 'SC_GMFUL5306389', 'NA18500', 'HGDP01353', 'HG01480', 'HGDP00450', 'HG01411', 'HGDP01243', 'HG00558', 'NA20413', 'SC_GMFUL5306355', 'HGDP01183', 'HGDP00616', 'HG03924', 'SC_GMMAN5482293', 'HGDP00663', 'SC_GMWOF5428871', 'SC_GMJOL5309829', 'NA18576', 'SC_GMMAN5482242', 'HGDP00632', 'HG04151', 'HGDP00805', 'HGDP00098', 'HG03140', 'HGDP00936', 'HGDP01096', 'HGDP00562', 'HG02083', 'HGDP00239', 'SC_GMFUL5306352', 'HGDP00739', 'HGDP00052', 'HGDP01215', 'HGDP00870', 'HGDP01064', 'SC_GMWOF5428739', 'SC_GMFUL5306347', 'HGDP01031', 'SC_GMWOF5428802', 'SC_GMMAN5482194', 'HGDP00216', 'HG02738', 'HGDP00823', 'HG01084', 'SC_GMFUL5306412', 'HGDP00912', 'HGDP00586', 'HG03620', 'HGDP00515', 'HGDP00262', 'HG04199', 'HGDP01029', 'HG04147', 'HGDP01265', 'HG02939', 'Dus22', 'HG03194', 'HG02650', 'SC_GMJOL5309820', 'SC_GMFUL5306338', 'AV-21', 'HGDP01149', 'HGDP01328', 'HGDP01273', 'HG02372', 'HG02788', 'HGDP00490', 'NA19174', 'SC_GMFUL5306378', 'HG00702', 'HGDP00456', 'NA19127', 'HG00450', 'Ayodo_430C', 'SC_GMFUL5306363', 'HG03462', 'SC_GMFUL5306388', 'HGDP01006', 'HG03587', 'HG03251', 'SC_GMWOF5428854', 'HGDP00714', 'HGDP00608', 'HGDP00043', 'HGDP00581', 'SC_GMWOF5428790', 'HG02559', 'HG03489', 'HG02415', 'HG01916', 'SC_GMFUL5306420', 'HGDP01162', 'TGBS21', 'Utsa22', 'SC_GMWOF5428826', 'SC_GMFUL5309716', 'SC_GMJOL5309883', 'SC_GMWOF5428874', 'SC_GMFUL5306431', 'NA19103', 'HG02815', 'HGDP01229', 'SC_GMMAN5482227', 'HGDP00163', 'HG01573', 'SC_GMJOL5309977', 'HGDP01351', 'HGDP00940', 'SC_GMMAN5482178', 'HGDP01199', 'SC_GMWOF5428879', 'HGDP00534', 'HG01978', 'NA19254', 'HGDP01268', 'lez49', 'HGDP00610', 'NA20907', 'HGDP01212', 'HGDP00569', 'HGDP00001', 'HGDP00635', 'SC_GMJOL5309936', 'HG01987', 'HG03682', 'NA19249', 'HGDP00956', 'HGDP00650', 'Esk29', 'HGDP01287', 'SC_GMMAN5482164', 'HG01490', 'HGDP00137', 'mg31', 'HG01273', 'HGDP00629', 'NA20344', 'HGDP00795', 'SC_GMJOL5309896', 'HGDP00102', 'SC_GMJOL5309941', 'HGDP00699', 'HGDP00911', 'SC_GMMAN5482274', 'HGDP00946', 'HG01552', 'HG02148', 'HG01466', 'HGDP00241', 'HGDP00630', 'HGDP01063', 'HGDP00254', 'HGDP00554', 'SC_GMFUL5309789', 'HGDP01415', 'HGDP00972', 'HG03783', 'HG01087', 'HGDP00039', 'HGDP00564', 'HGDP01305', 'HG00552', 'HGDP00551', 'NA19672', 'HGDP00547', 'HGDP01382', 'SC_GMMAN5482192', 'HGDP00655', 'HGDP00522', 'HGDP01230', 'SC_GMFUL5306426', 'HGDP00934', 'NEUKL758UHA', 'SC_GMFUL5306405', 'HGDP00158', 'NA19359', 'HG02892', 'NA19714', 'HGDP00573', 'HG02773', 'HGDP00640', 'SC_GMFUL5306429', 'HGDP00060', 'HGDP00798', 'HG03761', 'HGDP01028', 'HG00544', 'SC_GMFUL5306428', 'HG00578', 'HGDP00019', 'HG02680', 'HG01074', 'HGDP00741', 'HGDP00924', 'HGDP00687', 'HGDP00897', 'HGDP01237', 'HGDP01246', 'SC_GMWOF5428838', 'HG03799', 'HGDP00938', 'HG03164', 'NA19686', 'HG03656', 'HG02169', 'SC_GMJOL5309973', 'HG03635', 'SC_GMMAN5482250', 'HGDP00854', 'HGDP00105', 'HGDP00005', 'NA00726', 'SC_GMMAN5482184', 'HGDP00587', 'HGDP01232', 'NA19662', 'HGDP01062', 'HG01141', 'HGDP00525', 'NA19142', 'HGDP00351', 'HGDP01333', 'HGDP01248', 'HGDP01076', 'HG03203', 'HG01126', 'HGDP00192', 'NA20302', 'SC_GMJOL5309969', 'HGDP00951', 'HG02077', 'NA20363', 'HGDP00653', 'HGDP00694', 'HG02622', 'NA20361', 'HG03242', 'HG01249', 'SC_GMFUL5306341', 'HG03459', 'HGDP00876', 'HG01199', 'HG04208', 'HG00633', 'HGDP01355', 'HGDP00558', 'HGDP01167', 'NA19470', 'HG02605', 'HG01189', 'SC_GMWOF5428851', 'HGDP01078', 'HGDP00433', 'NA19787', 'HG01934', 'SC_GMWOF5428705', 'HGDP01257', 'HG02942', 'HGDP00139', 'SC_GMMAN5482208', 'HG02021', 'HG02173', 'HGDP00691', 'HG01100', 'HG01594', 'HG01891', 'HG01949', 'HG02176', 'HG03167', 'HGDP00264', 'NA19371', 'HGDP01396', 'NA19352', 'HGDP00068', 'HG03393', 'NA11201', 'HGDP00545', 'NA18854', 'HGDP01323', 'HGDP00843', 'HG03492', 'HG03059', 'HGDP01282', 'SC_GMMAN5482290', 'HG02074', 'HG02677', 'Jordan445', 'SC_GMMAN5482165', 'SC_GMMAN5482213', 'NA19166', 'HG01484', 'SC_GMWOF5428728', 'HGDP00631', 'HG03408', 'HG03101', 'HG03606', 'SC_GMJOL5309949', 'NA17386', 'HGDP00080', 'SC_GMWOF5428812', 'HGDP01010', 'HG01068', 'SC_GMFUL5306395', 'SC_GMMAN5482201', 'HGDP01153', 'HGDP01261', 'HGDP00754', 'SC_GMFUL5306398', 'HG01109', 'NA19675', 'SC_GMJOL5309930', 'HGDP01077', 'HGDP00861', 'Bu16', 'HG03835', 'SC_GMWOF5428835', 'HGDP00905', 'HG02587', 'HGDP00127', 'HGDP00786', 'SC_GMMAN5482241', 'SC_GMJOL5309942', 'NA19221', 'HG04115', 'HG04128', 'SC_GMWOF5428744', 'NA19177', 'HG04037', 'HG02726', 'SC_GMFUL5309702', 'HG03638', 'HG03879', 'HG01937', 'HGDP00766', 'SC_GMMAN5482186', 'HGDP01249', 'HGDP00722', 'NA19145', 'HGDP01298', 'HGDP00804', 'SC_GMWOF5428882', 'HGDP00800', 'NA19109', 'HGDP00879', 'HGDP00154', 'HGDP00533', 'HGDP00662', 'HGDP00995', 'HGDP00110', 'HG03341', 'SC_GMJOL5309926', 'HGDP00963', 'HGDP01277', 'HGDP00512', 'HGDP00937', 'SC_GMMAN5482200', 'NA18518', 'HGDP00602', 'HG00594', 'NA19677', 'HG02821', 'HGDP00637', 'HG00609', 'HG02761', 'NA19132', 'HGDP01296', 'HG02653', 'NA18487', 'HG04150', 'HGDP00464', 'SC_GMFUL5309755', 'SC_GMWOF5428810', 'HGDP01293', 'B17', 'HG01278', 'HG03650', 'HGDP01304', 'HG03373', 'HGDP00869', 'HG02347', 'HGDP00469', 'HG03688', 'HGDP00597', 'HGDP01070', 'SC_GMWOF5428843', 'HG01050', 'HG01258', 'SC_GMMAN5482298', 'HGDP00466', 'HGDP00461', 'HGDP01056', 'HG01397', 'HGDP00171', 'SC_GMFUL5306375', 'HG00405', 'HG01471', 'HGDP00100', 'HG00741', 'HGDP00226', 'SC_GMJOL5309835', 'HG02954', 'NA19730', 'HGDP00612', 'HGDP00595', 'SC_GMWOF5428863', 'HGDP01177', 'HGDP01285', 'HGDP00213', 'HG03107', 'HG03161', 'NA19224', 'HGDP00787', 'HG02806', 'NA19140', 'NA19742', 'NA19151', 'SC_GMMAN5482308', 'HG03701', 'Ale22', 'HGDP00913', 'HGDP00962', 'NA19226', 'HGDP00960', 'HGDP00935', 'SC_GMJOL5309804', 'HGDP00458', 'HGDP01314', 'HGDP00519', 'SC_GMMAN5482240', 'HGDP00656', 'HGDP01270', 'HGDP00208', 'HGDP00244', 'HG03080', 'SC_GMFUL5306371', 'SC_GMWOF5428816', 'HGDP00852', 'HGDP00872', 'SC_GMJOL5309906', 'SC_GMWOF5428825', 'SC_GMJOL5309975', 'SC_GMMAN5482255', 'HGDP01412', 'NA19195', 'HGDP01073', 'HGDP00686', 'HG02495', 'HG01452', 'HGDP00189', 'HG01364', 'HGDP00933', 'NA19778', 'SC_GMMAN5482229', 'HG01590', 'HGDP00767', 'HG02980', 'HG00691', 'SC_GMMAN5482211', 'ALB212', 'SC_GMWOF5428847', 'HGDP01359', 'SC_GMMAN5482193', 'HG04187', 'HGDP00057', 'HGDP00685', 'HGDP00916', 'SC_GMMAN5482180', 'HG01477', 'Y8', 'SC_GMWOF5428729', 'HG03725', 'HG02428', 'HGDP00781', 'HGDP00752', 'HGDP00810', 'HGDP00660', 'armenia293', 'HGDP00678', 'SC_GMJOL5309920', 'HGDP01197', 'HGDP01169', 'HG03390', 'HG01457', 'HG01439', 'HGDP00942', 'NA20345', 'SC_GMJOL5309844', 'Kusunda02', 'NA19199', 'HG03116', 'HGDP01318', 'HG03901', 'HGDP00690', 'SC_GMJOL5309899', 'HGDP00720', 'HGDP00124', 'HGDP01191', 'HGDP00121', 'HGDP00908', 'SC_GMWOF5428804', 'HG03453', 'SC_GMJOL5309837', 'HG02132', 'HGDP00388', 'HG02387', 'SC_GMMAN5482176', 'HGDP01013', 'HG00567', 'SC_GMMAN5482173', 'HGDP00943', 'HGDP00588', 'SC_GMMAN5482177', 'SC_GMJOL5309876', 'SC_GMWOF5428855', 'SC_GMJOL5309929', 'HG03113', 'HG02596', 'HGDP01186', 'HGDP01383', 'I1', 'SC_GMFUL5306383', 'HG03519', 'HGDP01291', 'SC_GMFUL5309773', 'HG01960', 'HGDP01380', 'HGDP00948', 'HG01493', 'HG00655', 'SC_GMWOF5428762', 'IraqiJew1771', 'HGDP01014', 'HG04132', 'HG01433', 'HGDP00636', 'HGDP00070', 'HG01952', 'HGDP00514', 'HG01442', 'HGDP00013', 'NA20414', 'SC_GMFUL5309719', 'NA19173', 'SC_GMJOL5309959', 'HGDP00856', 'HG01261', 'HG00621', 'HGDP00857', 'HG00630', 'HGDP00553', 'NA18914', 'NA18875', 'NA19311', 'NA19708', 'HGDP00474', 'HGDP01370', 'HGDP00491', 'HGDP00559', 'HG01898', 'HG01940', 'HG03510', 'SC_GMWOF5428869', 'HG02883', 'HGDP00895', 'HG01195', 'Bu5', 'HGDP01356', 'SC_GMFUL5306390', 'HGDP00302', 'SC_GMWOF5428861', 'SC_GMFUL5306367', 'SC_GMMAN5482306', 'SC_GMMAN5482266', 'HG03842', 'HGDP01190', 'HGDP01188', 'HGDP01184', 'HGDP00467', 'HG03314', 'HGDP00517', 'HG03487', 'HG03564', 'HG02871', 'HGDP00620', 'NA20316', 'HGDP01241', 'HG03062', 'HG03033', 'HGDP01327', 'HGDP00649', 'HGDP00323', 'HGDP00638', 'SC_GMMAN5482199', 'HG00577', 'HG03602', 'SC_GMFUL5306379', 'SC_GMMAN5482236', 'HGDP00319', 'HG01463', 'HGDP01381', 'HGDP00813', 'HGDP00330', 'NA19763', 'HG01482', 'HGDP01275', 'NA19398', 'HGDP00066', 'HGDP01312', 'HGDP01399', 'HG04193', 'HG03299', 'SC_GMJOL5309922', 'HG02106', 'HGDP00470', 'HGDP00811', 'SC_GMMAN5482284', 'HG03171', 'HGDP00748', 'NA13607', 'HGDP00625', 'NA20313', 'HGDP00906', 'HG02080', 'SC_GMWOF5428797', 'HG03339', 'SC_GMFUL5306351', 'HGDP00868', 'HGDP00863', 'HG01053', 'SC_GMMAN5482185', 'HG02984', 'SC_GMFUL5309764', 'HG04215', 'HG04127', 'SC_GMWOF5428771', 'HGDP00571', 'HGDP00518', 'NA21490', 'NA18925', 'SC_GMFUL5306427', 'HGDP00771', 'HG02129', 'NA18874', 'SC_GMWOF5428803', 'HGDP00167', 'NA19674', 'HGDP00643', 'SC_GMJOL5309981', 'HGDP00615', 'SC_GMJOL5309934', 'HGDP00981', 'HGDP00944', 'HGDP00757', 'HGDP00774', 'R6', 'HG02280', 'SC_GMWOF5428800', 'SC_GMFUL5306423', 'HGDP00965', 'HGDP00151', 'HGDP00712', 'NA19775', 'HG00444', 'HGDP00664', 'SC_GMFUL5306385', 'HG04114', 'HGDP01030', 'SC_GMJOL5309904', 'HG03450', 'HGDP00333', 'HGDP00130', 'HGDP01302', 'HGDP00918', 'HG00652', 'NA19751', 'NA19727', 'HG03942', 'HGDP00222', 'HGDP01152', 'NA18913', 'HGDP00790', 'HG01252', 'HGDP01097', 'HG00447', 'SC_GMWOF5428794', 'SC_GMFUL5309733', 'HG03605', 'NA18955', 'SC_GMMAN5482233', 'HGDP01240', 'HGDP00682', 'HGDP00785', 'HG01178', 'HG02838', 'SC_GMFUL5306424', 'SC_GMMAN5482276', 'SC_GMMAN5482248', 'SC_GMMAN5482170', 'SC_GMJOL5309884', 'SC_GMFUL5306404', 'SC_GMMAN5482314', 'HGDP00952', 'HGDP00746', 'HG02344', 'HGDP01204', 'HG03302', 'SA0722', 'HGDP00772', 'HG03468', 'Dus16', 'HGDP00153', 'HGDP00696', 'HGDP01379', 'SC_GMJOL5309867', 'HGDP00900', 'HGDP00750', 'HGDP00642', 'HGDP00428', 'SC_GMWOF5428821', 'NA20279', 'SC_GMWOF5428839', 'HG03766', 'GM21487', 'HG02027', 'HGDP00210', 'HG01887', 'HG03023', 'HGDP00731', 'SC_GMMAN5482171', 'HG04157', 'HGDP00700', 'HGDP00745', 'HG02683', 'HG00685', 'NA19382', 'SC_GMMAN5482283', 'HGDP01081', 'HGDP01336', 'SC_GMWOF5428857', 'HG03350', 'HG00983', 'HGDP00234', 'HGDP00815', 'NA19738', 'HGDP01074', 'HG01454', 'abh107', 'HG03621', 'NA18911', 'HGDP00313', 'HGDP01099', 'HGDP00961', 'HGDP00049', 'NA19100', 'HGDP01367', 'HGDP01181', 'SC_GMJOL5309907', 'HG01206', 'mixe0007', 'SC_GMWOF5428834', 'SC_GMMAN5482282', 'HG01081', 'HGDP00397', 'HG03250', 'HG00612', 'HGDP00460', 'HGDP00606', 'HGDP01103', 'Nlk1', 'HG03639', 'HG03599', 'HGDP00015', 'HGDP01044', 'HGDP01079', 'HG02024', 'HG02812', 'HGDP01087', 'SC_GMFUL5309700', 'HG03569', 'HGDP01358', 'HGDP00201', 'HGDP00692', 'HG04058', 'HG03992', 'HG01379', 'NA19176', 'NA19396', 'HGDP01403', 'Ayodo_502C', 'HGDP00609', 'SC_GMFUL5306397', 'HGDP00877', 'HGDP00539', 'HGDP01228', 'SC_GMWOF5428849', 'HG01324', 'HGDP00622', 'HGDP00702', 'NA18795', 'SC_GMMAN5482268', 'HG00642', 'HG04174', 'HGDP00917', 'HGDP00730', 'HG03128', 'SC_GMMAN5482285', 'HGDP00259', 'HGDP01174', 'NA15763', 'HG02964', 'HGDP00045', 'NA18540', 'HGDP01309', 'HGDP00479', 'HG03707', 'HG02466', 'HGDP00845', 'SC_GMFUL5306362', 'HGDP00513', 'HGDP00021', 'HGDP00969', 'NA19432', 'SC_GMJOL5309843', 'HGDP00871', 'HGDP00567', 'HGDP00195', 'HGDP00090', 'HG03368', 'NA19753', 'HG03176', 'SC_GMJOL5309898', 'HGDP00058', 'HGDP01217', 'HG00582', 'tdj430_shugnan', 'HGDP01151', 'HG00636', 'NA20873', 'HGDP00557', 'SC_GMMAN5482191', 'HGDP00237', 'HGDP01066', 'NA19902', 'HGDP00033', 'HGDP00563', 'HGDP00865', 'SC_GMFUL5309756', 'HGDP00698', 'HG03431', 'HG01975', 'HGDP01095', 'HGDP00364', 'NA20288', 'NA20292', 'HGDP01069', 'HGDP01037', 'SC_GMFUL5306366', 'HG01184', 'HG03309', 'HGDP00526', 'HG01175', 'HG03134', 'NorthOssetia5', 'HGDP00875', 'HG02303', 'HG02004', 'HGDP00576', 'NA20360', 'mg27', 'NA18852', 'SC_GMWOF5428713', 'NA19469', 'HGDP01366', 'HGDP01264', 'SC_GMFUL5306348', 'SC_GMFUL5309710', 'HG02841', 'HGDP00765', 'HGDP01300', 'HGDP00909', 'HGDP01326', 'NA19120', 'HG03763', 'HG01897', 'HG03579', 'HGDP01319', 'HGDP00056', 'HGDP01289', 'HGDP01163', 'HG03806', 'SC_GMJOL5309860', 'HGDP01400', 'HG03411', 'HG02358', 'HG02572', 'NA19444', 'HGDP00732', 'HG03249', 'HGDP00457', 'HGDP00719', 'HGDP00666', 'HGDP00376', 'HG01928', 'NA19724', 'Jordan214', 'Y4', 'SC_GMWOF5428866', 'HGDP00161', 'SC_GMFUL5306403', 'HGDP00472', 'Nlk3', 'HGDP01316', 'HGDP01361', 'HGDP00654', 'HGDP01418', 'NA19905', 'HGDP01347', 'NA19104', 'HG00600', 'SC_GMJOL5309914', 'SC_GMMAN5482228', 'NA20290', 'HGDP01067', 'NA15202', 'SC_GMFUL5306370', 'HGDP01338', 'HG03516', 'HGDP01340', 'HG01481', 'SC_GMWOF5428875', 'HG03306', 'HG01884', 'HG02525', 'HG00624', 'HGDP01231', 'HGDP00977', 'HGDP00721', 'HGDP00782', 'HG02735', 'NA19737', 'HGDP00104', 'SAH41', 'HGDP01156', 'HGDP01364', 'HGDP01157', 'NA19915', 'HG01169', 'HGDP01104', 'HG01385', 'HG03047', 'HG03669', 'HGDP00803', 'HGDP00744', 'HGDP00887', 'HGDP01332', 'HGDP01218', 'HGDP01388', 'HG02059', 'HGDP01255', 'HG03683', 'SC_GMMAN5482197', 'HGDP00822', 'HGDP01402', 'HGDP00967', 'SC_GMWOF5428724', 'HGDP00575', 'HG02948', 'SC_GMMAN5482239', 'HGDP00680', 'SC_GMMAN5482235', 'SC_GMFUL5306345', 'HGDP00011', 'HG03699', 'HGDP00945', 'M4', 'HG02612', 'HGDP00185', 'HGDP00645', 'HGDP00775', 'NA19918', 'HGDP00529', 'NA19760', 'HGDP01414', 'HG02524', 'HGDP00817', 'HGDP00776', 'HG00866', 'HG03939', 'SC_GMMAN5482348', 'HGDP00392', 'NorthOssetia12', 'HG00676', 'HGDP00412', 'HGDP00315', 'SC_GMJOL5309963', 'NA18506', 'SC_GMJOL5309796', 'HG00411', 'Ale32', 'HGDP00309', 'HGDP00763', 'HG02030', 'SC_GMWOF5428796', 'SC_GMFUL5306361', 'NA19797', 'HGDP00417', 'HGDP00094', 'SC_GMFUL5309763', 'HG03719', 'HG03794', 'HG00453', 'HG03308', 'HGDP00902', 'HGDP01283', 'HGDP00729', 'iran11', 'SC_GMMAN5482309', 'HGDP00885', 'HGDP00258', 'HGDP00697', 'HGDP00930', 'SC_GMJOL5309951', 'SC_GMWOF5428723', 'HG00429', 'HGDP00135', 'HG03845', 'HGDP00206', 'HG04050', 'HGDP00230', 'HG02602', 'HG00716', 'HG03374', 'SC_GMWOF5428820', 'HGDP00661', 'NOR111', 'HG03344', 'HGDP00561', 'GM19320', 'HGDP00715', 'SC_GMMAN5482300', 'SC_GMJOL5309868', 'HG03522', 'HG01355', 'HGDP01349', 'NA19718', 'SC_GMMAN5482162', 'HGDP00445', 'SC_GMFUL5306387', 'HGDP00144', 'HGDP00328', 'HGDP01205', 'HG02267', 'HGDP00849', 'HGDP00882', 'NA19685', 'SC_GMJOL5309950', 'HG01301', 'HGDP00578', 'HGDP00122', 'HGDP00179', 'HG03798', 'HG01496', 'HGDP01411', 'HGDP00088', 'NA19796', 'NA19381', 'HG04135', 'HG03362', 'HGDP01339', 'HG02776', 'HGDP00181', 'HG00718', 'HGDP00205', 'mixe0042', 'HGDP00160', 'SC_GMMAN5482299', 'NA19828', 'HGDP00864', 'HGDP00530', 'HG01946', 'SC_GMWOF5428823', 'HGDP00677', 'SC_GMJOL5309919', 'HG03493', 'NA20312', 'Kor82', 'HGDP01303', 'NA20879', 'HG00627', 'SC_GMWOF5428737', 'HGDP00919', 'NA20333', 'HGDP01256', 'SC_GMMAN5482315', 'HGDP00286', 'HG00561', 'SC_GMMAN5482202', 'HGDP01406', 'HGDP00541', 'HGDP01348', 'HGDP00341', 'HGDP00736', 'NA19772', 'HGDP01242', 'HG02018', 'HGDP00777', 'HG02704', 'NA18515', 'HG03929', 'HGDP00773', 'ch113', 'SC_GMMAN5482168', 'HG02599', 'ND15865', 'HGDP00009', 'HG00514', 'HGDP01405', 'HGDP01236', 'NA19202', 'HGDP00737', 'NA19680', 'HGDP01094', 'NA19656', 'SC_GMJOL5309972', 'HG03076', 'NA19653', 'SC_GMMAN5482258', 'HGDP00611', 'SC_GMWOF5428747', 'HG03230', 'HG03191', 'SC_GMWOF5428789', 'NA20347', 'HGDP01311', 'HG04024', 'HGDP01179', 'HGDP01334', 'NA18859', 'HG03041', 'NA19237', 'HGDP01238', 'SC_GMMAN5482243', 'HGDP00797', 'NA19123', 'HGDP01301', 'HG02692', 'HGDP00794', 'HG01394', 'HGDP00523', 'SC_GMJOL5309805', 'HGDP00802', 'HGDP00899', 'SC_GMFUL5306399', 'HGDP00846', 'SC_GMWOF5428906', 'SC_GMJOL5309827', 'HGDP01398', 'SC_GMWOF5428795', 'DNK07', 'HGDP01253', 'HGDP00724', 'HG03248', 'SC_GMMAN5482169', 'HG02668', 'HGDP00131', 'HGDP01187', 'HG02686', 'HG03454', 'SC_GMWOF5428867', 'SC_GMJOL5309918', 'HGDP00582', 'SC_GMJOL5309917', 'HGDP00883', 'SC_GMJOL5309985', 'HGDP01024', 'SC_GMWOF5428846', 'HGDP01057', 'HGDP00076', 'Ul5', 'SC_GMFUL5309747', 'HGDP00444', 'GM19129', 'SC_GMJOL5309925', 'HGDP01263', 'HGDP01051', 'HGDP00747', 'SC_GMWOF5428811', 'HG01135', 'SC_GMWOF5428850', 'NA20300', 'HGDP00607', 'HGDP00311', 'HGDP00035', 'HG02615', 'HG03633', 'HG01984', 'SC_GMJOL5309967', 'HGDP00862', 'SC_GMWOF5428707', 'HGDP00646', 'HGDP00983', 'HG02809', 'HGDP01306', 'HG01404', 'NA18497', 'SC_GMMAN5482234', 'HGDP00949', 'HGDP01341', 'SC_GMFUL5309709', 'HGDP01075', 'HG03822', 'HGDP00893', 'HGDP00141', 'HG03173', 'HGDP00975', 'HGDP01368', 'SC_GMFUL5306400', 'HGDP00623', 'HGDP00717', 'HGDP00099', 'HGDP01055', 'NA19215', 'HGDP00903', 'HGDP01397', 'HGDP00651', 'HGDP01209', 'HGDP01101', 'HGDP00710', 'HG03402', 'HG02091', 'HG03477', 'HGDP00984', 'HGDP00298', 'Mansi79', 'SC_GMJOL5309813', 'HG03657', 'HGDP01419', 'NA18529', 'HGDP00524', 'HGDP00648', 'HG04197', 'SC_GMFUL5306377', 'HGDP00667', 'HGDP00542', 'HG03131', 'B11', 'HG01106', 'HGDP00402', 'HGDP01009', 'HG01358', 'HGDP00082', 'HGDP00326', 'HG03540', 'HG03272', 'HGDP01023', 'HGDP00618', 'HG03700', 'SC_GMMAN5482252', 'HGDP01413', 'HGDP00749', 'HG02302', 'Sam02', 'HGDP00669', 'HG03053', 'HG02405', 'HGDP01220', 'HG02273', 'HG01090', 'NA18863', 'HGDP00173', 'HG03704', 'HGDP00759', 'HGDP00725', 'HG02300', 'HGDP01221', 'NA11200', 'NA17377', 'NA19798', 'HGDP01313', 'HGDP00760', 'HG03797', 'IHW9193', 'Sir19', 'HGDP00915', 'HGDP00115', 'NA19154', 'HGDP01019', 'NA18503', 'I3', 'HGDP01001', 'SC_GMFUL5306408', 'HGDP01401', 'HGDP00438', 'HGDP01195', 'HG00694', 'HGDP00828', 'HG04175', 'HGDP01202', 'SC_GMJOL5309927', 'HGDP01015', 'HG01347', 'HG03710', 'HGDP01018', 'HGDP00950', 'HGDP00939', 'HGDP00982', 'SC_GMJOL5309952', 'HG01888', 'SC_GMFUL5306392', 'HGDP00860', 'HG01415', 'HGDP01279', 'HG01955', 'HGDP00894', 'HGDP00191', 'HGDP00550', 'HGDP01299', 'HGDP00146', 'HG03305', 'HGDP01290', 'Bishkek28439', 'NA18791', 'SC_GMWOF5428859', 'HG02279', 'SC_GMFUL5306406', 'HGDP01259', 'SC_GMMAN5482189', 'HG02625', 'HGDP00821', 'HGDP01214', 'HGDP01269', 'SC_GMWOF5428813', 'HG00579', 'SC_GMJOL5309939', 'HGDP00994', 'SC_GMMAN5482187', 'HGDP00003', 'HG03384', 'HGDP01266', 'HGDP00807', 'HGDP01166', 'HG02563', 'SC_GMJOL5309903', 'HG02258', 'HGDP00904', 'HGDP00025', 'HGDP00321', 'HGDP00796', 'SC_GMJOL5309948', 'HGDP00806', 'HG03723', 'HGDP00734', 'HG04122', 'HG00703', 'NA19754', 'GM20355', 'HGDP00520', 'HGDP00928', 'HG04148', 'HG02584', 'HG01071', 'NA19733', 'HG03474', 'K4', 'HG03371', 'HGDP00676', 'HGDP00017', 'HG03035', 'HG02644', 'SC_GMWOF5428873', 'HGDP00889', 'HG03915', 'SC_GMWOF5428755', 'SC_GMWOF5428748', 'HGDP00449', 'SC_GMMAN5482332', 'HGDP01155', 'HG02897', 'HG02770', 'HG03065', 'SC_GMFUL5309708', 'HGDP00892', 'HGDP00594', 'HGDP00187', 'HGDP00976', 'HGDP01254', 'HG01099', 'HGDP01225', 'SC_GMWOF5428798', 'HG01998', 'HG04136', 'HGDP00627', 'SC_GMMAN5482232', 'HG02451', 'SC_GMMAN5482323', 'HG03513', 'HG03312', 'HGDP00788', 'HGDP00580', 'HGDP00372', 'SC_GMMAN5482220', 'SC_GMFUL5309701', 'NA19139', 'HG02978', 'Nesk_25', 'HGDP00577', 'HGDP00134', 'HGDP00628', 'HG02492', 'HGDP00584', 'SC_GMJOL5309935', 'HGDP00462', 'NA20893', 'HGDP00740', 'HG02630', 'NA19702', 'HG01983', 'HG01276', 'HGDP01059', 'SC_GMFUL5306339', 'HG03876', 'HGDP00880', 'HGDP00356', 'HGDP01416', 'HG02126', 'HGDP00307', 'HGDP00338', 'HG02055', 'HG00664', 'NA18527', 'HGDP01222', 'SC_GMWOF5428731', 'HG00438', 'HG01367', 'HG03480', 'HGDP00837', 'zapo0098', 'HGDP00693', 'HG02168', 'HGDP00136', 'SC_GMWOF5428841', 'HG01895', 'HGDP01245', 'Kayseri23827', 'HGDP00907', 'HGDP00565', 'HG00706', 'HG03804', 'HGDP00382', 'HGDP00566', 'HGDP00072', 'HG03831', 'HG03293', 'HG04040', 'BulgarianB4', 'HG03590', 'HGDP00108', 'NA19683', 'CHI-034', 'HGDP00672', 'HG02145', 'HG03903', 'HG00735', 'HG02189', 'SC_GMJOL5309944', 'HG00733', 'HGDP01377', 'HG03574', 'HGDP01100', 'NA19094', 'SC_GMMAN5482219', 'SC_GMFUL5306432', 'NA18521', 'HGDP01206', 'HGDP00706', 'HGDP00987', 'SC_GMJOL5309821', 'HG02056', 'HGDP00023', 'NA19115', 'abh100', 'HG03732', 'HGDP00197', 'HGDP01258', 'HGDP00120', 'NA18485', 'SC_GMJOL5309957', 'HGDP00064', 'HGDP01386', 'SC_GMFUL5306356', 'HG00591', 'HGDP00708', 'SC_GMJOL5309812', 'HG04160', 'HGDP00671', 'HGDP01346', 'HG02785', 'HGDP01192', 'HG01274', 'SC_GMJOL5309921', 'HGDP00723', 'HGDP00966', 'YemeniteJew4695', 'HG02526', 'NA19924', 'SC_GMWOF5428788', 'SC_GMWOF5428792', 'HGDP00873', 'HG02575', 'HGDP00591', 'SC_GMWOF5428770', 'NA20319', 'HGDP01050', 'HGDP00106', 'SC_GMJOL5309911', 'HGDP01276', 'SC_GMJOL5309913', 'NA19097', 'HG03626', 'HGDP00281', 'NA20322', 'HGDP00644', 'HGDP00516', 'NA13616', 'HG01579', 'SC_GMWOF5428817', 'HGDP00145', 'HGDP00910', 'HG00477', 'HGDP00218', 'HG02011', 'HG01243', 'SC_GMJOL5309953', 'HGDP00993', 'HG00615', 'HGDP01329', 'HG00700', 'NA20336', 'HGDP00701', 'NA19186', 'HG03972', 'SC_GMJOL5309891', 'HG01483', 'SC_GMWOF5428715', 'HGDP00703', 'HGDP00544', 'HG01881', 'HGDP00727', 'HG02762', 'HG02717', 'HG03456', 'Nesk_22', 'NA19665', 'HG02758', 'HGDP00511', 'NA19196', 'SC_GMFUL5306354', 'HG02853', 'HGDP01274', 'HG03104', 'HGDP00779', 'HGDP00614', 'HG03617', 'SC_GMJOL5309859', 'HGDP00668', 'HGDP00639', 'HG03260', 'IraqiJew4291', 'HG02856', 'HGDP01362', 'SC_GMMAN5482181', 'SC_GMFUL5306360', 'HGDP00604', 'HG03948', 'HGDP01262', 'HG00423', 'HG03618', 'SC_GMJOL5309965', 'SC_GMFUL5309718', 'HGDP00531', 'SC_GMWOF5428830', 'NEUTC015WBG', 'HG02436', 'HGDP00959', 'Ul31', 'SC_GMWOF5428778', 'NA19748', 'HG03904', 'HGDP00279', 'HGDP00463', 'NA19985', 'HG01487', 'HGDP00896', 'HGDP00552', 'SC_GMJOL5309980', 'HG01995', 'NA18857', 'HGDP00968', 'HGDP01322', 'HG03307', 'HGDP00598', 'HGDP01060', 'HGDP00755', 'Peru60', 'HGDP00991', 'SC_GMWOF5428827', 'HG01056', 'SC_GMJOL5309937', 'HGDP00037', 'SC_GMFUL5309722', 'HGDP01280', 'HG01453', 'HG00673', 'SC_GMWOF5428832', 'HGDP00941', 'SC_GMFUL5309703', 'NA20277', 'SC_GMFUL5306340', 'HG02889', 'HGDP00920', 'HGDP01200', 'SC_GMWOF5428786', 'HG01376', 'HGDP00177', 'NA18869', 'HG02779', 'NA19105', 'HG02689', 'SC_GMFUL5306346', 'HG02945', 'HG00639', 'HG03909', 'HGDP00243', 'SC_GMFUL5309735', 'HG01567', 'HGDP00925', 'HGDP00600', 'HGDP01321', 'HG03269', 'SC_GMWOF5428745', 'NA19161', 'HG02381', 'SC_GMFUL5309725', 'HGDP00129', 'HG00480', 'HG02523', 'HGDP00881', 'SC_GMMAN5482244', 'HGDP00783', 'HGDP00527', 'NA19766', 'HG04133', 'SC_GMWOF5428822', 'Kusunda15', 'HG01114', 'HG03236', 'HGDP00973', 'SC_GMJOL5309852', 'HG02120', 'SC_GMJOL5309979', 'HGDP00621', 'HG03266', 'HGDP00047', 'HGDP00109', 'HGDP00634', 'HG03050', 'SC_GMJOL5309940', 'HGDP00568', 'HGDP01272', 'HGDP01065', 'NA19836', 'SC_GMJOL5309895', 'HG03811', 'HGDP00454', 'HGDP01012', 'HG03158', 'HGDP00546', 'HGDP01384', 'HG02701', 'HGDP01354', 'HGDP00471', 'HGDP01331', 'NA19373', 'HGDP00684', 'SC_GMFUL5309781', 'NA20350', 'SC_GMWOF5428806', 'HG03137', 'HG01322', 'HGDP00726', 'HGDP00304', 'Kayseri24424', 'DNK05', 'HG03170', 'HGDP00954', 'HGDP01239', 'HGDP00992', 'NA19148', 'Sir40', 'HGDP00119', 'HGDP00459', 'HGDP00288', 'HGDP01320', 'HGDP01032', 'NA18855', 'HGDP01035', 'HG02972', 'HGDP01337', 'SC_GMFUL5306344', 'SC_GMJOL5309961', 'HGDP00183', 'SC_GMMAN5482231', 'HGDP00556', 'HGDP00155', 'HG03596', 'HG03982', 'HGDP01171', 'HGDP01223', 'NA17374', 'SC_GMMAN5482292', 'HG03465', 'SC_GMWOF5428829', 'HG03825', 'HG03398', 'HG04149', 'HGDP01213', 'HGDP00007', 'HGDP00812'}\n"
            ]
          },
          "metadata": {},
          "output_type": "display_data"
        },
        {
          "data": {
            "text/html": [
              "<pre style=\"white-space:pre;overflow-x:auto;line-height:normal;font-family:Menlo,'DejaVu Sans Mono',consolas,'Courier New',monospace\">16:35:49.198 | <span style=\"color: #008080; text-decoration-color: #008080\">INFO</span>    | Flow run<span style=\"color: #800080; text-decoration-color: #800080\"> 'mahogany-quetzal'</span> - \n",
              "400 cases:\n",
              " {'ALS__CGND-HDA-03712__NEUYZ390UEQ', 'ALS__CGND-HDA-00541__JHU80', 'ALS__CGND-HDA-02337__94-103-54', 'aals-ALS__CGND-HDA-02235__NEUCE658ACK', 'ALS__CGND-HDA-03485__NEUEG519PVN', 'ALS__CGND-HDA-00904__MH-WASHU-282', 'ALS__CGND-HDA-01858__TD-ALS-116', 'ALS__CGND-HDA-00727__MH-WASHU-105', 'aals-ALS__CGND-HDA-03878__NEUTH296UAN', 'ALS__CGND-HDA-02688__UP-WGS-157', 'ALS__CGND-HDA-02980__UP-WGS-453', 'aals-ALS__CGND-HDA-04053__NEUYE187ALF', 'ALS__CGND-HDA-00831__MH-WASHU-209', 'ALS__CGND-HDA-02336__94-101-35', 'ALS__CGND-HDA-02572__98-128-67', 'ALS__CGND-HDA-03480__NEUBJ482ZRV', 'ALS__CGND-HDA-00520__JHU59', 'ALS__CGND-HDA-00726__MH-WASHU-104', 'ALS__CGND-HDA-00707__MH-WASHU-85', 'ALS__CGND-HDA-01682__UP-WGS-160', 'ALS__CGND-HDA-00101__UP-WGS-285', 'ALS__CGND-HDA-04017__TD-ALS-182', 'aals-ALS__CGND-HDA-01286__NEUNX568KA8', 'aals-ALS__CGND-HDA-03925__NEUEB894KU0', 'aals-ALS__CGND-HDA-01196__NEUNJ155KYL', 'aals-ALS__CGND-HDA-01132__NEUBX721MY2', 'ALS__CGND-HDA-03413__NEUXF401FHW', 'ALS__CGND-HDA-01209__NEUAG552DTM', 'aals-ALS__CGND-HDA-03546__NEUBX635MHH', 'ALS__CGND-HDA-03463__NEUXF661ZB0', 'ALS__CGND-HDA-01049__NEUFM105UWF', 'ALS__CGND-HDA-03985__NEUGE252NHM', 'aals-ALS__CGND-HDA-01396__NEUVR814YCY', 'ALS__CGND-HDA-02417__97-125-35', 'ALS__CGND-HDA-04036__NEUMV490RGY', 'ALS__CGND-HDA-02258__NEUPL790ND3', 'ALS__CGND-HDA-00516__JHU55', 'ALS__CGND-HDA-01680__UP-WGS-158', 'ALS__CGND-HDA-00776__MH-WASHU-154', 'ALS__CGND-HDA-02103__PF-BUH-6', 'aals-ALS__CGND-HDA-01073__NEUEN017PCJ', 'ALS__CGND-HDA-02932__AIM701051', 'aals-ALS__CGND-HDA-01126__NEUHE199KK9', 'aals-ALS__CGND-HDA-00609__NEUHT730YLP', 'aals-ALS__CGND-HDA-03889__NEUXE000DJ1', 'ALS__CGND-HDA-02341__95-108-45', 'ALS__CGND-HDA-01847__TD-ALS-123', 'ALS__CGND-HDA-02261__NEUXR139UTY', 'aals-ALS__CGND-HDA-03516__NEULA694DDC', 'ALS__CGND-HDA-03033__UP-WGS-506', 'ALS__CGND-HDA-00680__MH-WASHU-58', 'aals-ALS__CGND-HDA-04054__NEUEX525RTD', 'ALS__CGND-HDA-00661__MH-WASHU-39', 'aals-ALS__CGND-HDA-00938__NEUUJ507EAB', 'ALS__CGND-HDA-00748__MH-WASHU-126', 'ALS__CGND-HDA-02554__89-044-98', 'ALS__CGND-HDA-01857__TD-ALS-108', 'aals-ALS__CGND-HDA-03608__NEUWP767BK5', 'ALS__CGND-HDA-03420__NEUFF238WXM', 'aals-ALS__CGND-HDA-04056__NEUYK661FBQ', 'aals-ALS__CGND-HDA-04078__NEUTE443RWG', 'ALS__CGND-HDA-00152__UP-WGS-339', 'ALS__CGND-HDA-02200__PF-TST-8', 'ALS__CGND-HDA-02550__00-137-12', 'ALS__CGND-HDA-04045__NEUWE409BEK', 'ALS__CGND-HDA-01446__NEURE172RL1', 'ALS__CGND-HDA-00287__2218ALS', 'ALS__CGND-HDA-02723__PF-UCL-10', 'ALS__CGND-HDA-02939__AIM701058', 'ALS__CGND-HDA-00681__MH-WASHU-59', 'ALS__CGND-HDA-03058__UP-WGS-531', 'ALS__CGND-HDA-03394__NEULA285XJ0', 'aals-ALS__CGND-HDA-01058__NEUXW790VZK', 'ALS__CGND-HDA-00493__JHU32', 'ALS__CGND-HDA-00689__MH-WASHU-67', 'ALS__CGND-HDA-02606__UP-WGS-361', 'ALS__CGND-HDA-00276__2073ALS', 'ALS__CGND-HDA-02099__PF-BUH-2', 'ALS__CGND-HDA-01629__UP-WGS-107', 'aals-ALS__CGND-HDA-01403__NEURJ448YCV', 'ALS__CGND-HDA-03679__NEUMW761HMR', 'ALS__CGND-HDA-02552__88-038-74', 'ALS__CGND-HDA-00931__MH-WASHU-309', 'ALS__CGND-HDA-01766__TD-ALS-45', 'ALS__CGND-HDA-02616__UP-WGS-371', 'aals-ALS__CGND-HDA-01271__NEUGH024UUP', 'aals-ALS__CGND-HDA-02590__NEULL648LJ1', 'ALS__CGND-HDA-00482__JHU21', 'ALS__CGND-HDA-02917__AIM701025', 'aals-ALS__CGND-HDA-03446__NEUDV177ER8', 'ALS__CGND-HDA-04091__NEUHF998PCY', 'ALS__CGND-HDA-03041__UP-WGS-514', 'ALS__CGND-HDA-00908__MH-WASHU-286', 'ALS__CGND-HDA-02912__AIM701019', 'ALS__CGND-HDA-03709__NEUAV397VLE', 'ALS__CGND-HDA-00954__NEUAV623XA3', 'ALS__CGND-HDA-01871__TD-ALS-125', 'ALS__CGND-HDA-00759__MH-WASHU-137', 'ALS__CGND-HDA-00686__MH-WASHU-64', 'ALS__CGND-HDA-02617__UP-WGS-372', 'ALS__CGND-HDA-01774__TD-ALS-14', 'ALS__CGND-HDA-01769__TD-ALS-69', 'ALS__CGND-HDA-00018__UP-WGS-201', 'ALS__CGND-HDA-02609__UP-WGS-364', 'ALS__CGND-HDA-00939__53382BL1', 'ALS__CGND-HDA-02560__89-051-35', 'aals-ALS__CGND-HDA-01265__NEUTJ673HVL', 'aals-ALS__CGND-HDA-03143__NEUCV578DFJ', 'aals-ALS__CGND-HDA-03844__NEUPE247VDD', 'ALS__CGND-HDA-00511__JHU50', 'aals-ALS__CGND-HDA-01075__NEULN841VWU', 'ALS__CGND-HDA-01615__UP-WGS-093', 'ALS__CGND-HDA-02633__UP-WGS-388', 'ALS__CGND-HDA-00305__2226ALS', 'ALS__CGND-HDA-00896__MH-WASHU-274', 'aals-ALS__CGND-HDA-03618__NEUPK428MCY', 'ALS__CGND-HDA-02639__UP-WGS-394', 'aals-ALS__CGND-HDA-02695__NEUPJ837WUD', 'ALS__CGND-HDA-02439__UP-WGS-175', 'ALS__CGND-HDA-01873__TD-ALS-141', 'ALS__CGND-HDA-02962__AIM701084', 'ALS__CGND-HDA-00720__MH-WASHU-98', 'aals-ALS__CGND-HDA-01237__NEUAM261JWR', 'ALS__CGND-HDA-00761__MH-WASHU-139', 'ALS__CGND-HDA-00570__NEUHN558FRW', 'aals-ALS__CGND-HDA-03818__NEUDT736NDX', 'ALS__CGND-HDA-02951__AIM701072', 'ALS__CGND-HDA-00829__MH-WASHU-207', 'ALS__CGND-HDA-04006__TD-ALS-171', 'ALS__CGND-HDA-00355__793ALS', 'ALS__CGND-HDA-01419__NEUZM588WGZ', 'ALS__CGND-HDA-02213__PF-TST-21', 'aals-ALS__CGND-HDA-03087__NEULD149DYD', 'ALS__CGND-HDA-03049__UP-WGS-522', 'ALS__CGND-HDA-02566__11-172-67', 'aals-ALS__CGND-HDA-00458__NEUTD713DE3', 'aals-ALS__CGND-HDA-01134__NEUAW157NMJ', 'aals-ALS__CGND-HDA-03880__NEUWT898TJ2', 'ALS__CGND-HDA-01144__NEUZF551HAX', 'ALS__CGND-HDA-02359__91-070-42', 'ALS__CGND-HDA-02938__AIM701057', 'ALS__CGND-HDA-03014__UP-WGS-487', 'ALS__CGND-HDA-03003__UP-WGS-476', 'ALS__CGND-HDA-03272__NEUGL022MN2', 'ALS__CGND-HDA-02418__90-056-45', 'aals-ALS__CGND-HDA-04077__NEUAT541XCN', 'ALS__CGND-HDA-01596__UP-WGS-074', 'aals-ALS__CGND-HDA-03565__NEUKT593FRR', 'aals-ALS__CGND-HDA-02586__NEUCE965ZGK', 'aals-ALS__CGND-HDA-01404__NEUKU079XLU', 'aals-ALS__CGND-HDA-03910__NEUUZ442DRM', 'aals-ALS__CGND-HDA-00205__NEUBC175HW2', 'aals-ALS__CGND-HDA-03911__NEUNR436JV7', 'ALS__CGND-HDA-02082__NEUEF586AGM', 'ALS__CGND-HDA-02725__PF-UCL-12', 'ALS__CGND-HDA-02632__UP-WGS-387', 'ALS__CGND-HDA-03684__NEUVH241FTU', 'aals-ALS__CGND-HDA-01065__NEULD354RZB', 'aals-ALS__CGND-HDA-01203__NEUVF888UHM', 'ALS__CGND-HDA-04020__TD-ALS-185', 'ALS__CGND-HDA-04037__NEUXG797NG8', 'ALS__CGND-HDA-00265__1645ALS', 'ALS__CGND-HDA-00654__MH-WASHU-32', 'ALS__CGND-HDA-01005__NEUYT216DU9', 'aals-ALS__CGND-HDA-01128__NEUYJ784YEQ', 'ALS__CGND-HDA-01473__ECC9#6', 'ALS__CGND-HDA-02741__PF-UCL-28', 'ALS__CGND-HDA-03673__NEUGF675TZY', 'ALS__CGND-HDA-00064__UP-WGS-248', 'aals-ALS__CGND-HDA-00243__NEUTW357UM5', 'ALS__CGND-HDA-03996__TD-ALS-161', 'ALS__CGND-HDA-02381__92-086-75', 'aals-ALS__CGND-HDA-03445__NEUGE540TC4', 'aals-ALS__CGND-HDA-03726__NEURC211RRY', 'aals-ALS__CGND-HDA-03529__NEUVP892LY8', 'ALS__CGND-HDA-03160__NEUXZ213MVF', 'ALS__CGND-HDA-00004__UP-WGS-187', 'ALS__CGND-HDA-00198__NEUYB686REL', 'ALS__CGND-HDA-00718__MH-WASHU-96', 'ALS__CGND-HDA-00805__MH-WASHU-183', 'ALS__CGND-HDA-01743__TD-ALS-51', 'aals-ALS__CGND-HDA-01332__NEUAD542VT0', 'ALS__CGND-HDA-02202__PF-TST-10', 'ALS__CGND-HDA-02613__UP-WGS-368', 'ALS__CGND-HDA-02029__EC12', 'ALS__CGND-HDA-00808__MH-WASHU-186', 'ALS__CGND-HDA-01763__TD-ALS-21', 'ALS__CGND-HDA-02063__NEULN488RD5', 'ALS__CGND-HDA-01646__UP-WGS-124', 'aals-ALS__CGND-HDA-03521__NEUAE914RW2', 'ALS__CGND-HDA-01730__TD-ALS-42', 'ALS__CGND-HDA-02295__12-184-22', 'ALS__CGND-HDA-02403__12-180-24', 'aals-ALS__CGND-HDA-01146__NEUVP060WFG', 'ALS__CGND-HDA-01032__NEUHM334TY4', 'ALS__CGND-HDA-01784__TD-ALS-94', 'aals-ALS__CGND-HDA-03834__NEUEN950VLE', 'aals-ALS__CGND-HDA-03071__NEUJG558EYQ', 'aals-ALS__CGND-HDA-03551__NEUWP816ZBL', 'ALS__CGND-HDA-02579__NEUPU334DL1', 'aals-ALS__CGND-HDA-00612__NEUFZ620KX0', 'ALS__CGND-HDA-01222__NEUZE834BGH', 'ALS__CGND-HDA-02057__NEUZB953VCD', 'ALS__CGND-HDA-00510__JHU49', 'aals-ALS__CGND-HDA-00586__NEUAF553MJ3', 'aals-ALS__CGND-HDA-04089__NEUEU419NMF', 'aals-ALS__CGND-HDA-03623__NEUYL188ZD4', 'ALS__CGND-HDA-02424__NEUAY067UTB', 'ALS__CGND-HDA-01786__TD-ALS-15', 'aals-ALS__CGND-HDA-03913__NEUJA497KXF', 'aals-ALS__CGND-HDA-01282__NEUHM968RHD', 'ALS__CGND-HDA-00697__MH-WASHU-75', 'ALS__CGND-HDA-01846__TD-ALS-115', 'ALS__CGND-HDA-02303__11-178-56', 'aals-ALS__CGND-HDA-01149__NEUYG208KVV', 'ALS__CGND-HDA-02270__16-221-38', 'aals-ALS__CGND-HDA-01273__NEUYC055XPZ', 'ALS__CGND-HDA-02318__01-142-72', 'ALS__CGND-HDA-00057__UP-WGS-241', 'ALS__CGND-HDA-02349__90-065-49', 'ALS__CGND-HDA-00751__MH-WASHU-129', 'ALS__CGND-HDA-02456__UP-WGS-230', 'ALS__CGND-HDA-02373__90-054-28', 'ALS__CGND-HDA-01632__UP-WGS-110', 'ALS__CGND-HDA-03461__NEUHA616LPD', 'ALS__CGND-HDA-02394__86-015-24', 'aals-ALS__CGND-HDA-03550__NEULK561EBB', 'ALS__CGND-HDA-00312__1161ALS', 'aals-ALS__CGND-HDA-04060__NEUUD295LJT', 'aals-ALS__CGND-HDA-01191__NEULK071LRJ', 'ALS__CGND-HDA-02291__14-198-02', 'ALS__CGND-HDA-00960__53404BL1', 'ALS__CGND-HDA-02208__PF-TST-16', 'ALS__CGND-HDA-02196__PF-TST-4', 'ALS__CGND-HDA-02364__91-074-46', 'ALS__CGND-HDA-02953__AIM701074', 'aals-ALS__CGND-HDA-02228__NEUPA955VWR', 'aals-ALS__CGND-HDA-01353__NEUUE852BB1', 'ALS__CGND-HDA-01647__UP-WGS-125', 'aals-ALS__CGND-HDA-00589__NEUDG272XWC', 'aals-ALS__CGND-HDA-02068__NEULH618DXF', 'ALS__CGND-HDA-04001__TD-ALS-166', 'ALS__CGND-HDA-01581__UP-WGS-059', 'ALS__CGND-HDA-01230__NEUEA589YC6', 'aals-ALS__CGND-HDA-03153__NEUNN415RD8', 'ALS__CGND-HDA-01602__UP-WGS-080', 'aals-ALS__CGND-HDA-03840__NEUYW952DZV', 'ALS__CGND-HDA-02775__PF-UCL-62', 'ALS__CGND-HDA-00290__2067ALS', 'ALS__CGND-HDA-01711__JK-UM-5675', 'ALS__CGND-HDA-00683__MH-WASHU-61', 'ALS__CGND-HDA-02989__UP-WGS-462', 'ALS__CGND-HDA-02472__NEUMX482EPF', 'ALS__CGND-HDA-01009__NEUBJ693AJ0', 'ALS__CGND-HDA-01223__NEURD819MYA', 'ALS__CGND-HDA-02604__UP-WGS-359', 'ALS__CGND-HDA-00518__JHU57', 'ALS__CGND-HDA-02045__NEUHM340FBZ', 'aals-ALS__CGND-HDA-01388__NEUUF613PHL', 'ALS__CGND-HDA-04021__TD-ALS-186', 'ALS__CGND-HDA-01565__UP-WGS-043', 'ALS__CGND-HDA-00665__MH-WASHU-43', 'ALS__CGND-HDA-02931__AIM701050', 'ALS__CGND-HDA-01213__NEUYP310WWD', 'aals-ALS__CGND-HDA-04069__NEUEA668FYK', 'ALS__CGND-HDA-00136__UP-WGS-321', 'ALS__CGND-HDA-00792__MH-WASHU-170', 'ALS__CGND-HDA-02409__08-163-85', 'ALS__CGND-HDA-02080__NEULM728ULG', 'ALS__CGND-HDA-02996__UP-WGS-469', 'aals-ALS__CGND-HDA-01461__NEUTA928FU1', 'aals-ALS__CGND-HDA-03624__NEUVJ939AM4', 'ALS__CGND-HDA-03031__UP-WGS-504', 'ALS__CGND-HDA-00705__MH-WASHU-83', 'ALS__CGND-HDA-02346__93-098-25', 'ALS__CGND-HDA-00271__2063ALS', 'ALS__CGND-HDA-01686__UP-WGS-164', 'ALS__CGND-HDA-03633__NSTJUEXT9WV7', 'ALS__CGND-HDA-02203__PF-TST-11', 'ALS__CGND-HDA-02389__88-042-86', 'ALS__CGND-HDA-01780__TD-ALS-62', 'ALS__CGND-HDA-02161__PF-UCH-23', 'ALS__CGND-HDA-01668__UP-WGS-146', 'ALS__CGND-HDA-00810__MH-WASHU-188', 'ALS__CGND-HDA-00635__MH-WASHU-13', 'ALS__CGND-HDA-02467__NEUWV439KP5', 'ALS__CGND-HDA-03002__UP-WGS-475', 'ALS__CGND-HDA-03631__NST2KW5DK70R', 'aals-ALS__CGND-HDA-01125__NEUTG386WF5', 'ALS__CGND-HDA-00772__MH-WASHU-150', 'ALS__CGND-HDA-03055__UP-WGS-528', 'ALS__CGND-HDA-03682__NEUVP043YXM', 'ALS__CGND-HDA-04044__NEUEM180ZTU', 'aals-ALS__CGND-HDA-03733__NEUMB598FWD', 'ALS__CGND-HDA-00701__MH-WASHU-79', 'ALS__CGND-HDA-02334__95-113-46', 'aals-ALS__CGND-HDA-03895__NEUEJ783ZYD', 'aals-ALS__CGND-HDA-01459__NEUBK087AYY', 'ALS__CGND-HDA-00698__MH-WASHU-76', 'ALS__CGND-HDA-02156__PF-UCH-18', 'ALS__CGND-HDA-01110__276-11-18', 'ALS__CGND-HDA-00679__MH-WASHU-57', 'aals-ALS__CGND-HDA-03804__NEUBC098VVE', 'ALS__CGND-HDA-02361__91-078-52', 'ALS__CGND-HDA-01330__NEUTB398FC9', 'ALS__CGND-HDA-01122__276-11-27', 'ALS__CGND-HDA-00076__UP-WGS-260', 'ALS__CGND-HDA-01319__NEUGV399KJW', 'ALS__CGND-HDA-02133__PF-BLT-17', 'aals-ALS__CGND-HDA-02067__NEUKJ497WBB', 'aals-ALS__CGND-HDA-03875__NEUVF012GFN', 'aals-ALS__CGND-HDA-03612__NEUXJ799CYK', 'ALS__CGND-HDA-00507__JHU46', 'ALS__CGND-HDA-01498__NEUND516CXT', 'ALS__CGND-HDA-00752__MH-WASHU-130', 'ALS__CGND-HDA-03862__NEUTZ242FYW', 'aals-ALS__CGND-HDA-02712__NEUYR166GN9', 'ALS__CGND-HDA-03060__UP-WGS-533', 'ALS__CGND-HDA-02377__89-048-94', 'ALS__CGND-HDA-01619__UP-WGS-097', 'ALS__CGND-HDA-03857__NEUCP856ZH7', 'ALS__CGND-HDA-00885__MH-WASHU-263', 'aals-ALS__CGND-HDA-03908__NEUPT324AJ4', 'ALS__CGND-HDA-02975__UP-WGS-448', 'ALS__CGND-HDA-02283__15-209-43', 'ALS__CGND-HDA-00949__53393BL1', 'ALS__CGND-HDA-01219__NEUUE341KJV', 'aals-ALS__CGND-HDA-00444__NEUME498PCJ', 'ALS__CGND-HDA-00535__JHU74', 'aals-ALS__CGND-HDA-03082__NEUNE163HV9', 'aals-ALS__CGND-HDA-03848__NEURJ063EVP', 'ALS__CGND-HDA-02466__NEUEW318MT8', 'aals-ALS__CGND-HDA-01129__NEUPH528TUW', 'aals-ALS__CGND-HDA-03904__NEUHX515EK1', 'ALS__CGND-HDA-00879__MH-WASHU-257', 'ALS__CGND-HDA-01712__JK-UM-5724', 'ALS__CGND-HDA-03053__UP-WGS-526', 'ALS__CGND-HDA-03859__NEUHN748PX8', 'ALS__CGND-HDA-01612__UP-WGS-090', 'ALS__CGND-HDA-00766__MH-WASHU-144', 'ALS__CGND-HDA-00012__UP-WGS-195', 'ALS__CGND-HDA-01837__TD-ALS-138', 'ALS__CGND-HDA-03928__NEUJR587KPC', 'ALS__CGND-HDA-01140__NEUUV464FLA', 'ALS__CGND-HDA-02934__AIM701053', 'ALS__CGND-HDA-02325__96-121-02', 'ALS__CGND-HDA-03438__NEUMW479XA3', 'aals-ALS__CGND-HDA-00235__NEUPR600MBU', 'ALS__CGND-HDA-00377__NEUZW291KJY-NEUBK438XLL', 'ALS__CGND-HDA-02569__12-188-99', 'aals-ALS__CGND-HDA-01343__NEUCT440NYE', 'aals-ALS__CGND-HDA-04075__NEUZA643DHA', 'ALS__CGND-HDA-02553__89-050-62', 'ALS__CGND-HDA-00830__MH-WASHU-208', 'aals-ALS__CGND-HDA-04068__NEUAX021NPV', 'ALS__CGND-HDA-00335__2227ALS', 'aals-ALS__CGND-HDA-03526__NEUEF819UW1', 'ALS__CGND-HDA-00304__2270ALS', 'ALS__CGND-HDA-02363__91-076-82', 'ALS__CGND-HDA-02549__00-136-06', 'ALS__CGND-HDA-03628__NSTFLYAWGF13', 'aals-ALS__CGND-HDA-03517__NEUVK354MLT', 'ALS__CGND-HDA-00826__MH-WASHU-204', 'ALS__CGND-HDA-01145__NEUGP936WF0', 'ALS__CGND-HDA-00527__JHU66', 'ALS__CGND-HDA-00111__UP-WGS-296', 'ALS__CGND-HDA-02729__PF-UCL-16', 'ALS__CGND-HDA-02599__UP-WGS-354', 'ALS__CGND-HDA-01034__NEULG971NTH', 'aals-ALS__CGND-HDA-02216__NEUXP289KRC', 'aals-ALS__CGND-HDA-00461__NEUAA599TMX', 'ALS__CGND-HDA-00666__MH-WASHU-44', 'ALS__CGND-HDA-00555__NEUWG523WRV', 'ALS__CGND-HDA-01215__NEUUA360BR1', 'ALS__CGND-HDA-02906__AIM701013', 'aals-ALS__CGND-HDA-01341__NEUCW352BPV', 'ALS__CGND-HDA-00902__MH-WASHU-280', 'ALS__CGND-HDA-02355__92-082-00', 'ALS__CGND-HDA-00313__1183ALS', 'ALS__CGND-HDA-00320__477ALS', 'ALS__CGND-HDA-01002__NEUTG844BA0', 'ALS__CGND-HDA-02972__UP-WGS-445', 'ALS__CGND-HDA-00302__2246ALS', 'ALS__CGND-HDA-04030__NEURY111ZM2', 'ALS__CGND-HDA-02035__EC23', 'ALS__CGND-HDA-00347__62ALS', 'aals-ALS__CGND-HDA-01369__NEUFV237VCZ', 'ALS__CGND-HDA-01598__UP-WGS-076', 'ALS__CGND-HDA-03270__NEUKJ257ZPG', 'ALS__CGND-HDA-02899__AIM701003', 'ALS__CGND-HDA-00731__MH-WASHU-109', 'aals-ALS__CGND-HDA-01068__NEUAT234RK6', 'ALS__CGND-HDA-02146__PF-UCH-8', 'aals-ALS__CGND-HDA-03883__NEUGD576MEG', 'aals-ALS__CGND-HDA-01279__NEUZE432DZM', 'ALS__CGND-HDA-00263__1360ALS', 'ALS__CGND-HDA-00649__MH-WASHU-27', 'aals-ALS__CGND-HDA-01164__NEUAM655HF7', 'aals-ALS__CGND-HDA-03535__NEUNR914CGV', 'ALS__CGND-HDA-03026__UP-WGS-499'}\n",
              "</pre>\n"
            ],
            "text/plain": [
              "16:35:49.198 | \u001b[36mINFO\u001b[0m    | Flow run\u001b[35m 'mahogany-quetzal'\u001b[0m - \n",
              "400 cases:\n",
              " {'ALS__CGND-HDA-03712__NEUYZ390UEQ', 'ALS__CGND-HDA-00541__JHU80', 'ALS__CGND-HDA-02337__94-103-54', 'aals-ALS__CGND-HDA-02235__NEUCE658ACK', 'ALS__CGND-HDA-03485__NEUEG519PVN', 'ALS__CGND-HDA-00904__MH-WASHU-282', 'ALS__CGND-HDA-01858__TD-ALS-116', 'ALS__CGND-HDA-00727__MH-WASHU-105', 'aals-ALS__CGND-HDA-03878__NEUTH296UAN', 'ALS__CGND-HDA-02688__UP-WGS-157', 'ALS__CGND-HDA-02980__UP-WGS-453', 'aals-ALS__CGND-HDA-04053__NEUYE187ALF', 'ALS__CGND-HDA-00831__MH-WASHU-209', 'ALS__CGND-HDA-02336__94-101-35', 'ALS__CGND-HDA-02572__98-128-67', 'ALS__CGND-HDA-03480__NEUBJ482ZRV', 'ALS__CGND-HDA-00520__JHU59', 'ALS__CGND-HDA-00726__MH-WASHU-104', 'ALS__CGND-HDA-00707__MH-WASHU-85', 'ALS__CGND-HDA-01682__UP-WGS-160', 'ALS__CGND-HDA-00101__UP-WGS-285', 'ALS__CGND-HDA-04017__TD-ALS-182', 'aals-ALS__CGND-HDA-01286__NEUNX568KA8', 'aals-ALS__CGND-HDA-03925__NEUEB894KU0', 'aals-ALS__CGND-HDA-01196__NEUNJ155KYL', 'aals-ALS__CGND-HDA-01132__NEUBX721MY2', 'ALS__CGND-HDA-03413__NEUXF401FHW', 'ALS__CGND-HDA-01209__NEUAG552DTM', 'aals-ALS__CGND-HDA-03546__NEUBX635MHH', 'ALS__CGND-HDA-03463__NEUXF661ZB0', 'ALS__CGND-HDA-01049__NEUFM105UWF', 'ALS__CGND-HDA-03985__NEUGE252NHM', 'aals-ALS__CGND-HDA-01396__NEUVR814YCY', 'ALS__CGND-HDA-02417__97-125-35', 'ALS__CGND-HDA-04036__NEUMV490RGY', 'ALS__CGND-HDA-02258__NEUPL790ND3', 'ALS__CGND-HDA-00516__JHU55', 'ALS__CGND-HDA-01680__UP-WGS-158', 'ALS__CGND-HDA-00776__MH-WASHU-154', 'ALS__CGND-HDA-02103__PF-BUH-6', 'aals-ALS__CGND-HDA-01073__NEUEN017PCJ', 'ALS__CGND-HDA-02932__AIM701051', 'aals-ALS__CGND-HDA-01126__NEUHE199KK9', 'aals-ALS__CGND-HDA-00609__NEUHT730YLP', 'aals-ALS__CGND-HDA-03889__NEUXE000DJ1', 'ALS__CGND-HDA-02341__95-108-45', 'ALS__CGND-HDA-01847__TD-ALS-123', 'ALS__CGND-HDA-02261__NEUXR139UTY', 'aals-ALS__CGND-HDA-03516__NEULA694DDC', 'ALS__CGND-HDA-03033__UP-WGS-506', 'ALS__CGND-HDA-00680__MH-WASHU-58', 'aals-ALS__CGND-HDA-04054__NEUEX525RTD', 'ALS__CGND-HDA-00661__MH-WASHU-39', 'aals-ALS__CGND-HDA-00938__NEUUJ507EAB', 'ALS__CGND-HDA-00748__MH-WASHU-126', 'ALS__CGND-HDA-02554__89-044-98', 'ALS__CGND-HDA-01857__TD-ALS-108', 'aals-ALS__CGND-HDA-03608__NEUWP767BK5', 'ALS__CGND-HDA-03420__NEUFF238WXM', 'aals-ALS__CGND-HDA-04056__NEUYK661FBQ', 'aals-ALS__CGND-HDA-04078__NEUTE443RWG', 'ALS__CGND-HDA-00152__UP-WGS-339', 'ALS__CGND-HDA-02200__PF-TST-8', 'ALS__CGND-HDA-02550__00-137-12', 'ALS__CGND-HDA-04045__NEUWE409BEK', 'ALS__CGND-HDA-01446__NEURE172RL1', 'ALS__CGND-HDA-00287__2218ALS', 'ALS__CGND-HDA-02723__PF-UCL-10', 'ALS__CGND-HDA-02939__AIM701058', 'ALS__CGND-HDA-00681__MH-WASHU-59', 'ALS__CGND-HDA-03058__UP-WGS-531', 'ALS__CGND-HDA-03394__NEULA285XJ0', 'aals-ALS__CGND-HDA-01058__NEUXW790VZK', 'ALS__CGND-HDA-00493__JHU32', 'ALS__CGND-HDA-00689__MH-WASHU-67', 'ALS__CGND-HDA-02606__UP-WGS-361', 'ALS__CGND-HDA-00276__2073ALS', 'ALS__CGND-HDA-02099__PF-BUH-2', 'ALS__CGND-HDA-01629__UP-WGS-107', 'aals-ALS__CGND-HDA-01403__NEURJ448YCV', 'ALS__CGND-HDA-03679__NEUMW761HMR', 'ALS__CGND-HDA-02552__88-038-74', 'ALS__CGND-HDA-00931__MH-WASHU-309', 'ALS__CGND-HDA-01766__TD-ALS-45', 'ALS__CGND-HDA-02616__UP-WGS-371', 'aals-ALS__CGND-HDA-01271__NEUGH024UUP', 'aals-ALS__CGND-HDA-02590__NEULL648LJ1', 'ALS__CGND-HDA-00482__JHU21', 'ALS__CGND-HDA-02917__AIM701025', 'aals-ALS__CGND-HDA-03446__NEUDV177ER8', 'ALS__CGND-HDA-04091__NEUHF998PCY', 'ALS__CGND-HDA-03041__UP-WGS-514', 'ALS__CGND-HDA-00908__MH-WASHU-286', 'ALS__CGND-HDA-02912__AIM701019', 'ALS__CGND-HDA-03709__NEUAV397VLE', 'ALS__CGND-HDA-00954__NEUAV623XA3', 'ALS__CGND-HDA-01871__TD-ALS-125', 'ALS__CGND-HDA-00759__MH-WASHU-137', 'ALS__CGND-HDA-00686__MH-WASHU-64', 'ALS__CGND-HDA-02617__UP-WGS-372', 'ALS__CGND-HDA-01774__TD-ALS-14', 'ALS__CGND-HDA-01769__TD-ALS-69', 'ALS__CGND-HDA-00018__UP-WGS-201', 'ALS__CGND-HDA-02609__UP-WGS-364', 'ALS__CGND-HDA-00939__53382BL1', 'ALS__CGND-HDA-02560__89-051-35', 'aals-ALS__CGND-HDA-01265__NEUTJ673HVL', 'aals-ALS__CGND-HDA-03143__NEUCV578DFJ', 'aals-ALS__CGND-HDA-03844__NEUPE247VDD', 'ALS__CGND-HDA-00511__JHU50', 'aals-ALS__CGND-HDA-01075__NEULN841VWU', 'ALS__CGND-HDA-01615__UP-WGS-093', 'ALS__CGND-HDA-02633__UP-WGS-388', 'ALS__CGND-HDA-00305__2226ALS', 'ALS__CGND-HDA-00896__MH-WASHU-274', 'aals-ALS__CGND-HDA-03618__NEUPK428MCY', 'ALS__CGND-HDA-02639__UP-WGS-394', 'aals-ALS__CGND-HDA-02695__NEUPJ837WUD', 'ALS__CGND-HDA-02439__UP-WGS-175', 'ALS__CGND-HDA-01873__TD-ALS-141', 'ALS__CGND-HDA-02962__AIM701084', 'ALS__CGND-HDA-00720__MH-WASHU-98', 'aals-ALS__CGND-HDA-01237__NEUAM261JWR', 'ALS__CGND-HDA-00761__MH-WASHU-139', 'ALS__CGND-HDA-00570__NEUHN558FRW', 'aals-ALS__CGND-HDA-03818__NEUDT736NDX', 'ALS__CGND-HDA-02951__AIM701072', 'ALS__CGND-HDA-00829__MH-WASHU-207', 'ALS__CGND-HDA-04006__TD-ALS-171', 'ALS__CGND-HDA-00355__793ALS', 'ALS__CGND-HDA-01419__NEUZM588WGZ', 'ALS__CGND-HDA-02213__PF-TST-21', 'aals-ALS__CGND-HDA-03087__NEULD149DYD', 'ALS__CGND-HDA-03049__UP-WGS-522', 'ALS__CGND-HDA-02566__11-172-67', 'aals-ALS__CGND-HDA-00458__NEUTD713DE3', 'aals-ALS__CGND-HDA-01134__NEUAW157NMJ', 'aals-ALS__CGND-HDA-03880__NEUWT898TJ2', 'ALS__CGND-HDA-01144__NEUZF551HAX', 'ALS__CGND-HDA-02359__91-070-42', 'ALS__CGND-HDA-02938__AIM701057', 'ALS__CGND-HDA-03014__UP-WGS-487', 'ALS__CGND-HDA-03003__UP-WGS-476', 'ALS__CGND-HDA-03272__NEUGL022MN2', 'ALS__CGND-HDA-02418__90-056-45', 'aals-ALS__CGND-HDA-04077__NEUAT541XCN', 'ALS__CGND-HDA-01596__UP-WGS-074', 'aals-ALS__CGND-HDA-03565__NEUKT593FRR', 'aals-ALS__CGND-HDA-02586__NEUCE965ZGK', 'aals-ALS__CGND-HDA-01404__NEUKU079XLU', 'aals-ALS__CGND-HDA-03910__NEUUZ442DRM', 'aals-ALS__CGND-HDA-00205__NEUBC175HW2', 'aals-ALS__CGND-HDA-03911__NEUNR436JV7', 'ALS__CGND-HDA-02082__NEUEF586AGM', 'ALS__CGND-HDA-02725__PF-UCL-12', 'ALS__CGND-HDA-02632__UP-WGS-387', 'ALS__CGND-HDA-03684__NEUVH241FTU', 'aals-ALS__CGND-HDA-01065__NEULD354RZB', 'aals-ALS__CGND-HDA-01203__NEUVF888UHM', 'ALS__CGND-HDA-04020__TD-ALS-185', 'ALS__CGND-HDA-04037__NEUXG797NG8', 'ALS__CGND-HDA-00265__1645ALS', 'ALS__CGND-HDA-00654__MH-WASHU-32', 'ALS__CGND-HDA-01005__NEUYT216DU9', 'aals-ALS__CGND-HDA-01128__NEUYJ784YEQ', 'ALS__CGND-HDA-01473__ECC9#6', 'ALS__CGND-HDA-02741__PF-UCL-28', 'ALS__CGND-HDA-03673__NEUGF675TZY', 'ALS__CGND-HDA-00064__UP-WGS-248', 'aals-ALS__CGND-HDA-00243__NEUTW357UM5', 'ALS__CGND-HDA-03996__TD-ALS-161', 'ALS__CGND-HDA-02381__92-086-75', 'aals-ALS__CGND-HDA-03445__NEUGE540TC4', 'aals-ALS__CGND-HDA-03726__NEURC211RRY', 'aals-ALS__CGND-HDA-03529__NEUVP892LY8', 'ALS__CGND-HDA-03160__NEUXZ213MVF', 'ALS__CGND-HDA-00004__UP-WGS-187', 'ALS__CGND-HDA-00198__NEUYB686REL', 'ALS__CGND-HDA-00718__MH-WASHU-96', 'ALS__CGND-HDA-00805__MH-WASHU-183', 'ALS__CGND-HDA-01743__TD-ALS-51', 'aals-ALS__CGND-HDA-01332__NEUAD542VT0', 'ALS__CGND-HDA-02202__PF-TST-10', 'ALS__CGND-HDA-02613__UP-WGS-368', 'ALS__CGND-HDA-02029__EC12', 'ALS__CGND-HDA-00808__MH-WASHU-186', 'ALS__CGND-HDA-01763__TD-ALS-21', 'ALS__CGND-HDA-02063__NEULN488RD5', 'ALS__CGND-HDA-01646__UP-WGS-124', 'aals-ALS__CGND-HDA-03521__NEUAE914RW2', 'ALS__CGND-HDA-01730__TD-ALS-42', 'ALS__CGND-HDA-02295__12-184-22', 'ALS__CGND-HDA-02403__12-180-24', 'aals-ALS__CGND-HDA-01146__NEUVP060WFG', 'ALS__CGND-HDA-01032__NEUHM334TY4', 'ALS__CGND-HDA-01784__TD-ALS-94', 'aals-ALS__CGND-HDA-03834__NEUEN950VLE', 'aals-ALS__CGND-HDA-03071__NEUJG558EYQ', 'aals-ALS__CGND-HDA-03551__NEUWP816ZBL', 'ALS__CGND-HDA-02579__NEUPU334DL1', 'aals-ALS__CGND-HDA-00612__NEUFZ620KX0', 'ALS__CGND-HDA-01222__NEUZE834BGH', 'ALS__CGND-HDA-02057__NEUZB953VCD', 'ALS__CGND-HDA-00510__JHU49', 'aals-ALS__CGND-HDA-00586__NEUAF553MJ3', 'aals-ALS__CGND-HDA-04089__NEUEU419NMF', 'aals-ALS__CGND-HDA-03623__NEUYL188ZD4', 'ALS__CGND-HDA-02424__NEUAY067UTB', 'ALS__CGND-HDA-01786__TD-ALS-15', 'aals-ALS__CGND-HDA-03913__NEUJA497KXF', 'aals-ALS__CGND-HDA-01282__NEUHM968RHD', 'ALS__CGND-HDA-00697__MH-WASHU-75', 'ALS__CGND-HDA-01846__TD-ALS-115', 'ALS__CGND-HDA-02303__11-178-56', 'aals-ALS__CGND-HDA-01149__NEUYG208KVV', 'ALS__CGND-HDA-02270__16-221-38', 'aals-ALS__CGND-HDA-01273__NEUYC055XPZ', 'ALS__CGND-HDA-02318__01-142-72', 'ALS__CGND-HDA-00057__UP-WGS-241', 'ALS__CGND-HDA-02349__90-065-49', 'ALS__CGND-HDA-00751__MH-WASHU-129', 'ALS__CGND-HDA-02456__UP-WGS-230', 'ALS__CGND-HDA-02373__90-054-28', 'ALS__CGND-HDA-01632__UP-WGS-110', 'ALS__CGND-HDA-03461__NEUHA616LPD', 'ALS__CGND-HDA-02394__86-015-24', 'aals-ALS__CGND-HDA-03550__NEULK561EBB', 'ALS__CGND-HDA-00312__1161ALS', 'aals-ALS__CGND-HDA-04060__NEUUD295LJT', 'aals-ALS__CGND-HDA-01191__NEULK071LRJ', 'ALS__CGND-HDA-02291__14-198-02', 'ALS__CGND-HDA-00960__53404BL1', 'ALS__CGND-HDA-02208__PF-TST-16', 'ALS__CGND-HDA-02196__PF-TST-4', 'ALS__CGND-HDA-02364__91-074-46', 'ALS__CGND-HDA-02953__AIM701074', 'aals-ALS__CGND-HDA-02228__NEUPA955VWR', 'aals-ALS__CGND-HDA-01353__NEUUE852BB1', 'ALS__CGND-HDA-01647__UP-WGS-125', 'aals-ALS__CGND-HDA-00589__NEUDG272XWC', 'aals-ALS__CGND-HDA-02068__NEULH618DXF', 'ALS__CGND-HDA-04001__TD-ALS-166', 'ALS__CGND-HDA-01581__UP-WGS-059', 'ALS__CGND-HDA-01230__NEUEA589YC6', 'aals-ALS__CGND-HDA-03153__NEUNN415RD8', 'ALS__CGND-HDA-01602__UP-WGS-080', 'aals-ALS__CGND-HDA-03840__NEUYW952DZV', 'ALS__CGND-HDA-02775__PF-UCL-62', 'ALS__CGND-HDA-00290__2067ALS', 'ALS__CGND-HDA-01711__JK-UM-5675', 'ALS__CGND-HDA-00683__MH-WASHU-61', 'ALS__CGND-HDA-02989__UP-WGS-462', 'ALS__CGND-HDA-02472__NEUMX482EPF', 'ALS__CGND-HDA-01009__NEUBJ693AJ0', 'ALS__CGND-HDA-01223__NEURD819MYA', 'ALS__CGND-HDA-02604__UP-WGS-359', 'ALS__CGND-HDA-00518__JHU57', 'ALS__CGND-HDA-02045__NEUHM340FBZ', 'aals-ALS__CGND-HDA-01388__NEUUF613PHL', 'ALS__CGND-HDA-04021__TD-ALS-186', 'ALS__CGND-HDA-01565__UP-WGS-043', 'ALS__CGND-HDA-00665__MH-WASHU-43', 'ALS__CGND-HDA-02931__AIM701050', 'ALS__CGND-HDA-01213__NEUYP310WWD', 'aals-ALS__CGND-HDA-04069__NEUEA668FYK', 'ALS__CGND-HDA-00136__UP-WGS-321', 'ALS__CGND-HDA-00792__MH-WASHU-170', 'ALS__CGND-HDA-02409__08-163-85', 'ALS__CGND-HDA-02080__NEULM728ULG', 'ALS__CGND-HDA-02996__UP-WGS-469', 'aals-ALS__CGND-HDA-01461__NEUTA928FU1', 'aals-ALS__CGND-HDA-03624__NEUVJ939AM4', 'ALS__CGND-HDA-03031__UP-WGS-504', 'ALS__CGND-HDA-00705__MH-WASHU-83', 'ALS__CGND-HDA-02346__93-098-25', 'ALS__CGND-HDA-00271__2063ALS', 'ALS__CGND-HDA-01686__UP-WGS-164', 'ALS__CGND-HDA-03633__NSTJUEXT9WV7', 'ALS__CGND-HDA-02203__PF-TST-11', 'ALS__CGND-HDA-02389__88-042-86', 'ALS__CGND-HDA-01780__TD-ALS-62', 'ALS__CGND-HDA-02161__PF-UCH-23', 'ALS__CGND-HDA-01668__UP-WGS-146', 'ALS__CGND-HDA-00810__MH-WASHU-188', 'ALS__CGND-HDA-00635__MH-WASHU-13', 'ALS__CGND-HDA-02467__NEUWV439KP5', 'ALS__CGND-HDA-03002__UP-WGS-475', 'ALS__CGND-HDA-03631__NST2KW5DK70R', 'aals-ALS__CGND-HDA-01125__NEUTG386WF5', 'ALS__CGND-HDA-00772__MH-WASHU-150', 'ALS__CGND-HDA-03055__UP-WGS-528', 'ALS__CGND-HDA-03682__NEUVP043YXM', 'ALS__CGND-HDA-04044__NEUEM180ZTU', 'aals-ALS__CGND-HDA-03733__NEUMB598FWD', 'ALS__CGND-HDA-00701__MH-WASHU-79', 'ALS__CGND-HDA-02334__95-113-46', 'aals-ALS__CGND-HDA-03895__NEUEJ783ZYD', 'aals-ALS__CGND-HDA-01459__NEUBK087AYY', 'ALS__CGND-HDA-00698__MH-WASHU-76', 'ALS__CGND-HDA-02156__PF-UCH-18', 'ALS__CGND-HDA-01110__276-11-18', 'ALS__CGND-HDA-00679__MH-WASHU-57', 'aals-ALS__CGND-HDA-03804__NEUBC098VVE', 'ALS__CGND-HDA-02361__91-078-52', 'ALS__CGND-HDA-01330__NEUTB398FC9', 'ALS__CGND-HDA-01122__276-11-27', 'ALS__CGND-HDA-00076__UP-WGS-260', 'ALS__CGND-HDA-01319__NEUGV399KJW', 'ALS__CGND-HDA-02133__PF-BLT-17', 'aals-ALS__CGND-HDA-02067__NEUKJ497WBB', 'aals-ALS__CGND-HDA-03875__NEUVF012GFN', 'aals-ALS__CGND-HDA-03612__NEUXJ799CYK', 'ALS__CGND-HDA-00507__JHU46', 'ALS__CGND-HDA-01498__NEUND516CXT', 'ALS__CGND-HDA-00752__MH-WASHU-130', 'ALS__CGND-HDA-03862__NEUTZ242FYW', 'aals-ALS__CGND-HDA-02712__NEUYR166GN9', 'ALS__CGND-HDA-03060__UP-WGS-533', 'ALS__CGND-HDA-02377__89-048-94', 'ALS__CGND-HDA-01619__UP-WGS-097', 'ALS__CGND-HDA-03857__NEUCP856ZH7', 'ALS__CGND-HDA-00885__MH-WASHU-263', 'aals-ALS__CGND-HDA-03908__NEUPT324AJ4', 'ALS__CGND-HDA-02975__UP-WGS-448', 'ALS__CGND-HDA-02283__15-209-43', 'ALS__CGND-HDA-00949__53393BL1', 'ALS__CGND-HDA-01219__NEUUE341KJV', 'aals-ALS__CGND-HDA-00444__NEUME498PCJ', 'ALS__CGND-HDA-00535__JHU74', 'aals-ALS__CGND-HDA-03082__NEUNE163HV9', 'aals-ALS__CGND-HDA-03848__NEURJ063EVP', 'ALS__CGND-HDA-02466__NEUEW318MT8', 'aals-ALS__CGND-HDA-01129__NEUPH528TUW', 'aals-ALS__CGND-HDA-03904__NEUHX515EK1', 'ALS__CGND-HDA-00879__MH-WASHU-257', 'ALS__CGND-HDA-01712__JK-UM-5724', 'ALS__CGND-HDA-03053__UP-WGS-526', 'ALS__CGND-HDA-03859__NEUHN748PX8', 'ALS__CGND-HDA-01612__UP-WGS-090', 'ALS__CGND-HDA-00766__MH-WASHU-144', 'ALS__CGND-HDA-00012__UP-WGS-195', 'ALS__CGND-HDA-01837__TD-ALS-138', 'ALS__CGND-HDA-03928__NEUJR587KPC', 'ALS__CGND-HDA-01140__NEUUV464FLA', 'ALS__CGND-HDA-02934__AIM701053', 'ALS__CGND-HDA-02325__96-121-02', 'ALS__CGND-HDA-03438__NEUMW479XA3', 'aals-ALS__CGND-HDA-00235__NEUPR600MBU', 'ALS__CGND-HDA-00377__NEUZW291KJY-NEUBK438XLL', 'ALS__CGND-HDA-02569__12-188-99', 'aals-ALS__CGND-HDA-01343__NEUCT440NYE', 'aals-ALS__CGND-HDA-04075__NEUZA643DHA', 'ALS__CGND-HDA-02553__89-050-62', 'ALS__CGND-HDA-00830__MH-WASHU-208', 'aals-ALS__CGND-HDA-04068__NEUAX021NPV', 'ALS__CGND-HDA-00335__2227ALS', 'aals-ALS__CGND-HDA-03526__NEUEF819UW1', 'ALS__CGND-HDA-00304__2270ALS', 'ALS__CGND-HDA-02363__91-076-82', 'ALS__CGND-HDA-02549__00-136-06', 'ALS__CGND-HDA-03628__NSTFLYAWGF13', 'aals-ALS__CGND-HDA-03517__NEUVK354MLT', 'ALS__CGND-HDA-00826__MH-WASHU-204', 'ALS__CGND-HDA-01145__NEUGP936WF0', 'ALS__CGND-HDA-00527__JHU66', 'ALS__CGND-HDA-00111__UP-WGS-296', 'ALS__CGND-HDA-02729__PF-UCL-16', 'ALS__CGND-HDA-02599__UP-WGS-354', 'ALS__CGND-HDA-01034__NEULG971NTH', 'aals-ALS__CGND-HDA-02216__NEUXP289KRC', 'aals-ALS__CGND-HDA-00461__NEUAA599TMX', 'ALS__CGND-HDA-00666__MH-WASHU-44', 'ALS__CGND-HDA-00555__NEUWG523WRV', 'ALS__CGND-HDA-01215__NEUUA360BR1', 'ALS__CGND-HDA-02906__AIM701013', 'aals-ALS__CGND-HDA-01341__NEUCW352BPV', 'ALS__CGND-HDA-00902__MH-WASHU-280', 'ALS__CGND-HDA-02355__92-082-00', 'ALS__CGND-HDA-00313__1183ALS', 'ALS__CGND-HDA-00320__477ALS', 'ALS__CGND-HDA-01002__NEUTG844BA0', 'ALS__CGND-HDA-02972__UP-WGS-445', 'ALS__CGND-HDA-00302__2246ALS', 'ALS__CGND-HDA-04030__NEURY111ZM2', 'ALS__CGND-HDA-02035__EC23', 'ALS__CGND-HDA-00347__62ALS', 'aals-ALS__CGND-HDA-01369__NEUFV237VCZ', 'ALS__CGND-HDA-01598__UP-WGS-076', 'ALS__CGND-HDA-03270__NEUKJ257ZPG', 'ALS__CGND-HDA-02899__AIM701003', 'ALS__CGND-HDA-00731__MH-WASHU-109', 'aals-ALS__CGND-HDA-01068__NEUAT234RK6', 'ALS__CGND-HDA-02146__PF-UCH-8', 'aals-ALS__CGND-HDA-03883__NEUGD576MEG', 'aals-ALS__CGND-HDA-01279__NEUZE432DZM', 'ALS__CGND-HDA-00263__1360ALS', 'ALS__CGND-HDA-00649__MH-WASHU-27', 'aals-ALS__CGND-HDA-01164__NEUAM655HF7', 'aals-ALS__CGND-HDA-03535__NEUNR914CGV', 'ALS__CGND-HDA-03026__UP-WGS-499'}\n"
            ]
          },
          "metadata": {},
          "output_type": "display_data"
        },
        {
          "data": {
            "text/html": [
              "<pre style=\"white-space:pre;overflow-x:auto;line-height:normal;font-family:Menlo,'DejaVu Sans Mono',consolas,'Courier New',monospace\">16:35:49.200 | <span style=\"color: #008080; text-decoration-color: #008080\">INFO</span>    | Flow run<span style=\"color: #800080; text-decoration-color: #800080\"> 'mahogany-quetzal'</span> - \n",
              "684 controls:\n",
              " {'CGND-HDA-02440', 'HG01762', 'NA12273', 'CGND-HDA-02760', 'HG00239', 'HG00256', 'CGND-HDA-01493', 'CGND-HDA-03149', 'CGND-HDA-03775', 'CGND-HDA-01830', 'HG00150', 'HG00113', 'NA20524', 'NA20807', 'HG00116', 'NA20517', 'CGND-HDA-03093', 'HG02220', 'CGND-HDA-02444', 'HG00143', 'CGND-HDA-03683', 'CGND-HDA-03785', 'CGND-HDA-03870', 'HG00123', 'CGND-HDA-02734', 'CGND-HDA-01532', 'HG02238', 'HG00254', 'CGND-HDA-01953', 'CGND-HDA-03689', 'HG01678', 'CGND-HDA-03770', 'HG00107', 'NA20582', 'CGND-HDA-03079', 'HG01686', 'CGND-HDA-02516', 'NA11931', 'HG00151', 'HG00155', 'HG00126', 'NA12843', 'CGND-HDA-03084', 'HG00128', 'HG00132', 'NA12347', 'HG01509', 'NA12489', 'NA20506', 'CGND-HDA-03596', 'HG01510', 'HG00142', 'HG00190', 'NA11892', 'NA12400', 'NA07051', 'NA20828', 'HG01628', 'NA20514', 'CGND-HDA-02513', 'NA20516', 'HG01675', 'CGND-HDA-02728', 'CGND-HDA-03591', 'NA12889', 'CGND-HDA-01502', 'NA10851', 'CGND-HDA-01427', 'HG01501', 'CGND-HDA-01448', 'HG01630', 'CGND-HDA-03201', 'CGND-HDA-03864', 'CGND-HDA-02834', 'CGND-HDA-03579', 'HG00108', 'CGND-HDA-01817', 'NA20797', 'HG01776', 'CGND-HDA-03470', 'CGND-HDA-02530', 'CGND-HDA-01901', 'CGND-HDA-01536', 'NA20755', 'HG01518', 'NA11894', 'NA11830', 'CGND-HDA-01634', 'NA20770', 'CGND-HDA-03522', 'HG00235', 'NA20811', 'HG01624', 'NA20761', 'NA20757', 'NA20786', 'CGND-HDA-03777', 'NA20588', 'HG00265', 'HG02239', 'NA20801', 'CGND-HDA-01611', 'CGND-HDA-01865', 'CGND-HDA-01842', 'CGND-HDA-01543', 'NA20785', 'NA11992', 'NA12341', 'CGND-HDA-03144', 'NA20581', 'CGND-HDA-02448', 'HG00136', 'CGND-HDA-03098', 'HG01503', 'CGND-HDA-01414', 'HG01607', 'CGND-HDA-03669', 'HG00149', 'CGND-HDA-01426', 'CGND-HDA-03152', 'HG00243', 'CGND-HDA-01606', 'CGND-HDA-00599', 'NA20536', 'CGND-HDA-02223', 'NA20808', 'CGND-HDA-02509', 'NA12004', 'CGND-HDA-02710', 'NA10847', 'HG00145', 'NA11893', 'HG02215', 'CGND-HDA-02567', 'NA20768', 'CGND-HDA-03411', 'NA11829', 'NA20513', 'HG00259', 'CGND-HDA-01413', 'NA20509', 'NA20754', 'CGND-HDA-01852', 'CGND-HDA-03519', 'NA12750', 'HG00231', 'CGND-HDA-01425', 'CGND-HDA-00565', 'HG01700', 'HG01617', 'HG01513', 'NA20542', 'HG01612', 'HG00257', 'CGND-HDA-01464', 'NA07056', 'HG01705', 'CGND-HDA-03166', 'NA07048', 'CGND-HDA-03788', 'NA11995', 'HG01771', 'CGND-HDA-03479', 'CGND-HDA-02510', 'HG02233', 'HG01694', 'CGND-HDA-03167', 'NA12275', 'NA20783', 'CGND-HDA-02836', 'HG00106', 'NA12842', 'CGND-HDA-02445', 'CGND-HDA-03784', 'HG00360', 'NA20534', 'HG01684', 'CGND-HDA-03545', 'HG01702', 'NA20544', 'CGND-HDA-01664', 'HG01786', 'NA20507', 'CGND-HDA-03089', 'HG00103', 'NA12155', 'HG01680', 'NA11831', 'HG02230', 'NA20535', 'NA20766', 'NA12249', 'CGND-HDA-03896', 'NA20532', 'HG01765', 'CGND-HDA-02716', 'NA11932', 'HG00255', 'CGND-HDA-03773', 'HG01707', 'CGND-HDA-03962', 'CGND-HDA-02446', 'NA12878', 'CGND-HDA-02724', 'CGND-HDA-03977', 'NA20821', 'HG01522', 'CGND-HDA-02831', 'CGND-HDA-01541', 'HG00232', 'CGND-HDA-03157', 'HG01668', 'HG00105', 'HG00262', 'HG01699', 'CGND-HDA-00997', 'NA20795', 'NA20529', 'CGND-HDA-03486', 'HG00246', 'HG00102', 'CGND-HDA-02183', 'HG00252', 'NA12872', 'CGND-HDA-03476', 'CGND-HDA-03734', 'CGND-HDA-02766', 'CGND-HDA-03874', 'CGND-HDA-03787', 'CGND-HDA-02222', 'NA20805', 'NA20765', 'CGND-HDA-01500', 'NA20822', 'HG01784', 'HG00112', 'CGND-HDA-02726', 'NA12716', 'NA07357', 'HG01757', 'CGND-HDA-02830', 'CGND-HDA-01488', 'HG01770', 'CGND-HDA-03739', 'CGND-HDA-03481', 'CGND-HDA-01538', 'HG02236', 'CGND-HDA-02706', 'CGND-HDA-03578', 'NA20589', 'NA12749', 'CGND-HDA-02732', 'CGND-HDA-03562', 'HG01618', 'CGND-HDA-03468', 'HG01704', 'CGND-HDA-03074', 'NA20518', 'NA11918', 'NA20775', 'CGND-HDA-03783', 'CGND-HDA-01486', 'HG00234', 'HG00159', 'NA06984', 'HG00110', 'CGND-HDA-03957', 'HG01515', 'NA20798', 'HG00236', 'CGND-HDA-02746', 'NA20528', 'NA20525', 'HG01685', 'HG01746', 'CGND-HDA-01922', 'CGND-HDA-02774', 'CGND-HDA-03786', 'CGND-HDA-01501', 'NA12272', 'CGND-HDA-03771', 'HG01527', 'HG01773', 'HG00119', 'HG00141', 'NA11933', 'HG00140', 'HG00157', 'NA20752', 'HG00111', 'CGND-HDA-01542', 'NA20787', 'NA12046', 'CGND-HDA-00209', 'CGND-HDA-02768', 'NA12828', 'HG01537', 'NA07037', 'CGND-HDA-01456', 'NA20585', 'CGND-HDA-03797', 'CGND-HDA-01519', 'NA12283', 'HG00137', 'HG01613', 'CGND-HDA-03795', 'CGND-HDA-02021', 'NA11840', 'NA12286', 'HG01519', 'CGND-HDA-02829', 'NA12761', 'HG00245', 'HG01528', 'HG01670', 'CGND-HDA-03801', 'CGND-HDA-01976', 'HG01767', 'CGND-HDA-01454', 'NA07347', 'HG00097', 'CGND-HDA-03197', 'CGND-HDA-02324', 'HG00258', 'HG00121', 'HG00099', 'CGND-HDA-01511', 'CGND-HDA-03811', 'NA12043', 'HG01710', 'NA12827', 'CGND-HDA-03584', 'CGND-HDA-01605', 'NA11920', 'CGND-HDA-04090', 'NA12815', 'CGND-HDA-03782', 'CGND-HDA-03763', 'CGND-HDA-03539', 'CGND-HDA-03147', 'CGND-HDA-01522', 'NA20505', 'NA12413', 'HG01768', 'CGND-HDA-03581', 'CGND-HDA-01700', 'CGND-HDA-01604', 'CGND-HDA-01653', 'CGND-HDA-02075', 'NA20760', 'HG00242', 'HG01500', 'NA20778', 'CGND-HDA-03780', 'NA20796', 'CGND-HDA-02512', 'CGND-HDA-01436', 'CGND-HDA-00196', 'HG00127', 'CGND-HDA-02857', 'CGND-HDA-01557', 'NA12762', 'HG00158', 'HG00109', 'HG00260', 'HG01766', 'NA20539', 'NA12760', 'CGND-HDA-03103', 'HG01781', 'CGND-HDA-03986', 'NA20827', 'CGND-HDA-02519', 'CGND-HDA-02515', 'CGND-HDA-01447', 'NA20586', 'HG00154', 'HG01672', 'CGND-HDA-03585', 'HG01785', 'CGND-HDA-03858', 'CGND-HDA-03095', 'CGND-HDA-01608', 'NA06985', 'CGND-HDA-02518', 'NA11843', 'NA12890', 'NA20803', 'NA20773', 'CGND-HDA-02838', 'NA20753', 'CGND-HDA-02720', 'CGND-HDA-03548', 'CGND-HDA-02730', 'CGND-HDA-02690', 'CGND-HDA-01929', 'CGND-HDA-01518', 'CGND-HDA-01487', 'HG00115', 'NA20533', 'CGND-HDA-01416', 'HG01531', 'CGND-HDA-02762', 'NA20587', 'NA20790', 'CGND-HDA-02079', 'NA20818', 'CGND-HDA-03950', 'CGND-HDA-02514', 'CGND-HDA-03794', 'NA20763', 'HG01626', 'NA12777', 'NA12006', 'HG01791', 'CGND-HDA-01592', 'HG00146', 'HG01619', 'CGND-HDA-01503', 'HG01632', 'CGND-HDA-02088', 'CGND-HDA-02327', 'HG00101', 'HG00264', 'CGND-HDA-03792', 'CGND-HDA-02189', 'NA12154', 'NA20527', 'HG00138', 'CGND-HDA-01641', 'CGND-HDA-03876', 'CGND-HDA-01655', 'HG01620', 'NA20511', 'HG00233', 'NA20774', 'CGND-HDA-03483', 'CGND-HDA-01526', 'HG00261', 'NA20806', 'CGND-HDA-01841', 'NA12763', 'HG00174', 'NA20522', 'CGND-HDA-01853', 'CGND-HDA-03097', 'CGND-HDA-01453', 'NA11930', 'HG00118', 'NA12005', 'CGND-HDA-03448', 'CGND-HDA-03668', 'CGND-HDA-03421', 'NA20756', 'CGND-HDA-01551', 'CGND-HDA-01537', 'CGND-HDA-02832', 'CGND-HDA-01484', 'HG00139', 'CGND-HDA-03813', 'HG01761', 'NA12058', 'CGND-HDA-03778', 'CGND-HDA-03793', 'CGND-HDA-03978', 'CGND-HDA-03154', 'HG00244', 'NA12383', 'CGND-HDA-02740', 'CGND-HDA-02520', 'HG00237', 'CGND-HDA-01020', 'HG01524', 'NA12717', 'NA12399', 'HG01615', 'NA20503', 'HG01777', 'CGND-HDA-01123', 'HG00117', 'NA12045', 'HG01747', 'CGND-HDA-03790', 'CGND-HDA-03137', 'NA11832', 'CGND-HDA-01438', 'CGND-HDA-03759', 'NA20815', 'CGND-HDA-00434', 'NA20504', 'NA07000', 'CGND-HDA-03457', 'CGND-HDA-01818', 'NA20767', 'CGND-HDA-03671', 'HG02235', 'NA12044', 'CGND-HDA-02756', 'HG00122', 'CGND-HDA-03798', 'CGND-HDA-03459', 'HG01608', 'CGND-HDA-01593', 'NA20520', 'NA20810', 'NA20800', 'HG01673', 'HG01709', 'HG01631', 'HG01606', 'CGND-HDA-02835', 'CGND-HDA-01430', 'CGND-HDA-02750', 'HG01623', 'CGND-HDA-01663', 'CGND-HDA-00260', 'CGND-HDA-01610', 'HG00120', 'NA12778', 'NA11994', 'HG01669', 'CGND-HDA-02718', 'NA20769', 'NA20802', 'HG00125', 'NA12414', 'NA20804', 'HG00251', 'CGND-HDA-03597', 'HG01697', 'NA20531', 'CGND-HDA-02714', 'HG01521', 'NA20508', 'CGND-HDA-01651', 'CGND-HDA-01640', 'NA06986', 'NA20814', 'HG01682', 'HG00160', 'HG00240', 'CGND-HDA-01410', 'NA20519', 'HG01775', 'NA12718', 'HG01536', 'HG01525', 'CGND-HDA-02764', 'NA12813', 'CGND-HDA-02748', 'NA20541', 'NA20510', 'HG02221', 'NA20762', 'CGND-HDA-02081', 'NA20819', 'HG01530', 'CGND-HDA-02758', 'NA20826', 'CGND-HDA-03588', 'HG01603', 'CGND-HDA-02770', 'CGND-HDA-01594', 'HG01507', 'HG01506', 'CGND-HDA-03075', 'CGND-HDA-02833', 'HG00130', 'HG01779', 'NA20543', 'CGND-HDA-03698', 'NA12340', 'NA20759', 'NA12775', 'CGND-HDA-00556', 'CGND-HDA-01559', 'HG01516', 'CGND-HDA-02754', 'CGND-HDA-01691', 'CGND-HDA-02772', 'HG00250', 'CGND-HDA-01531', 'HG00263', 'CGND-HDA-00435', 'CGND-HDA-02738', 'CGND-HDA-03532', 'CGND-HDA-03951', 'HG01676', 'CGND-HDA-01021', 'HG02231', 'NA20521', 'HG00253', 'CGND-HDA-02187', 'NA12829', 'NA20772', 'NA20764', 'CGND-HDA-03527', 'HG00148', 'HG00238', 'NA20832', 'CGND-HDA-03764', 'NA20799', 'CGND-HDA-03781', 'CGND-HDA-03772', 'HG00133', 'NA12287', 'CGND-HDA-01515', 'CGND-HDA-01433', 'NA20758', 'CGND-HDA-01445', 'NA20540', 'NA12873', 'NA12874', 'CGND-HDA-03774', 'CGND-HDA-03081', 'HG00096', 'HG01756', 'CGND-HDA-03727', 'NA20538', 'NA12748', 'NA20792', 'NA11919', 'HG00114', 'HG01625', 'HG01679', 'HG02224', 'HG00131', 'HG02219', 'NA12156', 'HG01610', 'NA20813', 'NA12776', 'CGND-HDA-01417', 'HG01512', 'CGND-HDA-01654', 'NA20515', 'NA12144', 'CGND-HDA-02092', 'HG01708', 'CGND-HDA-02722', 'NA12348', 'NA20771', 'NA06989', 'CGND-HDA-03142', 'HG01790', 'CGND-HDA-03520', 'CGND-HDA-01692', 'CGND-HDA-03035', 'NA12342', 'NA06994', 'CGND-HDA-01533', 'NA20530', 'CGND-HDA-03753', 'CGND-HDA-01900', 'HG01789', 'CGND-HDA-01540', 'NA20812', 'HG02232', 'CGND-HDA-03768', 'NA12234', 'NA12751', 'HG00100', 'HG01504', 'NA12814', 'NA12812', 'CGND-HDA-03530', 'HG01602', 'HG01695', 'NA11881', 'HG00129', 'HG02223', 'CGND-HDA-03776', 'HG01334', 'NA20512', 'NA20809', 'NA12003', 'HG01605', 'NA12282', 'CGND-HDA-00564', 'CGND-HDA-01607', 'NA20502', 'CGND-HDA-03524', 'CGND-HDA-02742', 'CGND-HDA-03487'}\n",
              "</pre>\n"
            ],
            "text/plain": [
              "16:35:49.200 | \u001b[36mINFO\u001b[0m    | Flow run\u001b[35m 'mahogany-quetzal'\u001b[0m - \n",
              "684 controls:\n",
              " {'CGND-HDA-02440', 'HG01762', 'NA12273', 'CGND-HDA-02760', 'HG00239', 'HG00256', 'CGND-HDA-01493', 'CGND-HDA-03149', 'CGND-HDA-03775', 'CGND-HDA-01830', 'HG00150', 'HG00113', 'NA20524', 'NA20807', 'HG00116', 'NA20517', 'CGND-HDA-03093', 'HG02220', 'CGND-HDA-02444', 'HG00143', 'CGND-HDA-03683', 'CGND-HDA-03785', 'CGND-HDA-03870', 'HG00123', 'CGND-HDA-02734', 'CGND-HDA-01532', 'HG02238', 'HG00254', 'CGND-HDA-01953', 'CGND-HDA-03689', 'HG01678', 'CGND-HDA-03770', 'HG00107', 'NA20582', 'CGND-HDA-03079', 'HG01686', 'CGND-HDA-02516', 'NA11931', 'HG00151', 'HG00155', 'HG00126', 'NA12843', 'CGND-HDA-03084', 'HG00128', 'HG00132', 'NA12347', 'HG01509', 'NA12489', 'NA20506', 'CGND-HDA-03596', 'HG01510', 'HG00142', 'HG00190', 'NA11892', 'NA12400', 'NA07051', 'NA20828', 'HG01628', 'NA20514', 'CGND-HDA-02513', 'NA20516', 'HG01675', 'CGND-HDA-02728', 'CGND-HDA-03591', 'NA12889', 'CGND-HDA-01502', 'NA10851', 'CGND-HDA-01427', 'HG01501', 'CGND-HDA-01448', 'HG01630', 'CGND-HDA-03201', 'CGND-HDA-03864', 'CGND-HDA-02834', 'CGND-HDA-03579', 'HG00108', 'CGND-HDA-01817', 'NA20797', 'HG01776', 'CGND-HDA-03470', 'CGND-HDA-02530', 'CGND-HDA-01901', 'CGND-HDA-01536', 'NA20755', 'HG01518', 'NA11894', 'NA11830', 'CGND-HDA-01634', 'NA20770', 'CGND-HDA-03522', 'HG00235', 'NA20811', 'HG01624', 'NA20761', 'NA20757', 'NA20786', 'CGND-HDA-03777', 'NA20588', 'HG00265', 'HG02239', 'NA20801', 'CGND-HDA-01611', 'CGND-HDA-01865', 'CGND-HDA-01842', 'CGND-HDA-01543', 'NA20785', 'NA11992', 'NA12341', 'CGND-HDA-03144', 'NA20581', 'CGND-HDA-02448', 'HG00136', 'CGND-HDA-03098', 'HG01503', 'CGND-HDA-01414', 'HG01607', 'CGND-HDA-03669', 'HG00149', 'CGND-HDA-01426', 'CGND-HDA-03152', 'HG00243', 'CGND-HDA-01606', 'CGND-HDA-00599', 'NA20536', 'CGND-HDA-02223', 'NA20808', 'CGND-HDA-02509', 'NA12004', 'CGND-HDA-02710', 'NA10847', 'HG00145', 'NA11893', 'HG02215', 'CGND-HDA-02567', 'NA20768', 'CGND-HDA-03411', 'NA11829', 'NA20513', 'HG00259', 'CGND-HDA-01413', 'NA20509', 'NA20754', 'CGND-HDA-01852', 'CGND-HDA-03519', 'NA12750', 'HG00231', 'CGND-HDA-01425', 'CGND-HDA-00565', 'HG01700', 'HG01617', 'HG01513', 'NA20542', 'HG01612', 'HG00257', 'CGND-HDA-01464', 'NA07056', 'HG01705', 'CGND-HDA-03166', 'NA07048', 'CGND-HDA-03788', 'NA11995', 'HG01771', 'CGND-HDA-03479', 'CGND-HDA-02510', 'HG02233', 'HG01694', 'CGND-HDA-03167', 'NA12275', 'NA20783', 'CGND-HDA-02836', 'HG00106', 'NA12842', 'CGND-HDA-02445', 'CGND-HDA-03784', 'HG00360', 'NA20534', 'HG01684', 'CGND-HDA-03545', 'HG01702', 'NA20544', 'CGND-HDA-01664', 'HG01786', 'NA20507', 'CGND-HDA-03089', 'HG00103', 'NA12155', 'HG01680', 'NA11831', 'HG02230', 'NA20535', 'NA20766', 'NA12249', 'CGND-HDA-03896', 'NA20532', 'HG01765', 'CGND-HDA-02716', 'NA11932', 'HG00255', 'CGND-HDA-03773', 'HG01707', 'CGND-HDA-03962', 'CGND-HDA-02446', 'NA12878', 'CGND-HDA-02724', 'CGND-HDA-03977', 'NA20821', 'HG01522', 'CGND-HDA-02831', 'CGND-HDA-01541', 'HG00232', 'CGND-HDA-03157', 'HG01668', 'HG00105', 'HG00262', 'HG01699', 'CGND-HDA-00997', 'NA20795', 'NA20529', 'CGND-HDA-03486', 'HG00246', 'HG00102', 'CGND-HDA-02183', 'HG00252', 'NA12872', 'CGND-HDA-03476', 'CGND-HDA-03734', 'CGND-HDA-02766', 'CGND-HDA-03874', 'CGND-HDA-03787', 'CGND-HDA-02222', 'NA20805', 'NA20765', 'CGND-HDA-01500', 'NA20822', 'HG01784', 'HG00112', 'CGND-HDA-02726', 'NA12716', 'NA07357', 'HG01757', 'CGND-HDA-02830', 'CGND-HDA-01488', 'HG01770', 'CGND-HDA-03739', 'CGND-HDA-03481', 'CGND-HDA-01538', 'HG02236', 'CGND-HDA-02706', 'CGND-HDA-03578', 'NA20589', 'NA12749', 'CGND-HDA-02732', 'CGND-HDA-03562', 'HG01618', 'CGND-HDA-03468', 'HG01704', 'CGND-HDA-03074', 'NA20518', 'NA11918', 'NA20775', 'CGND-HDA-03783', 'CGND-HDA-01486', 'HG00234', 'HG00159', 'NA06984', 'HG00110', 'CGND-HDA-03957', 'HG01515', 'NA20798', 'HG00236', 'CGND-HDA-02746', 'NA20528', 'NA20525', 'HG01685', 'HG01746', 'CGND-HDA-01922', 'CGND-HDA-02774', 'CGND-HDA-03786', 'CGND-HDA-01501', 'NA12272', 'CGND-HDA-03771', 'HG01527', 'HG01773', 'HG00119', 'HG00141', 'NA11933', 'HG00140', 'HG00157', 'NA20752', 'HG00111', 'CGND-HDA-01542', 'NA20787', 'NA12046', 'CGND-HDA-00209', 'CGND-HDA-02768', 'NA12828', 'HG01537', 'NA07037', 'CGND-HDA-01456', 'NA20585', 'CGND-HDA-03797', 'CGND-HDA-01519', 'NA12283', 'HG00137', 'HG01613', 'CGND-HDA-03795', 'CGND-HDA-02021', 'NA11840', 'NA12286', 'HG01519', 'CGND-HDA-02829', 'NA12761', 'HG00245', 'HG01528', 'HG01670', 'CGND-HDA-03801', 'CGND-HDA-01976', 'HG01767', 'CGND-HDA-01454', 'NA07347', 'HG00097', 'CGND-HDA-03197', 'CGND-HDA-02324', 'HG00258', 'HG00121', 'HG00099', 'CGND-HDA-01511', 'CGND-HDA-03811', 'NA12043', 'HG01710', 'NA12827', 'CGND-HDA-03584', 'CGND-HDA-01605', 'NA11920', 'CGND-HDA-04090', 'NA12815', 'CGND-HDA-03782', 'CGND-HDA-03763', 'CGND-HDA-03539', 'CGND-HDA-03147', 'CGND-HDA-01522', 'NA20505', 'NA12413', 'HG01768', 'CGND-HDA-03581', 'CGND-HDA-01700', 'CGND-HDA-01604', 'CGND-HDA-01653', 'CGND-HDA-02075', 'NA20760', 'HG00242', 'HG01500', 'NA20778', 'CGND-HDA-03780', 'NA20796', 'CGND-HDA-02512', 'CGND-HDA-01436', 'CGND-HDA-00196', 'HG00127', 'CGND-HDA-02857', 'CGND-HDA-01557', 'NA12762', 'HG00158', 'HG00109', 'HG00260', 'HG01766', 'NA20539', 'NA12760', 'CGND-HDA-03103', 'HG01781', 'CGND-HDA-03986', 'NA20827', 'CGND-HDA-02519', 'CGND-HDA-02515', 'CGND-HDA-01447', 'NA20586', 'HG00154', 'HG01672', 'CGND-HDA-03585', 'HG01785', 'CGND-HDA-03858', 'CGND-HDA-03095', 'CGND-HDA-01608', 'NA06985', 'CGND-HDA-02518', 'NA11843', 'NA12890', 'NA20803', 'NA20773', 'CGND-HDA-02838', 'NA20753', 'CGND-HDA-02720', 'CGND-HDA-03548', 'CGND-HDA-02730', 'CGND-HDA-02690', 'CGND-HDA-01929', 'CGND-HDA-01518', 'CGND-HDA-01487', 'HG00115', 'NA20533', 'CGND-HDA-01416', 'HG01531', 'CGND-HDA-02762', 'NA20587', 'NA20790', 'CGND-HDA-02079', 'NA20818', 'CGND-HDA-03950', 'CGND-HDA-02514', 'CGND-HDA-03794', 'NA20763', 'HG01626', 'NA12777', 'NA12006', 'HG01791', 'CGND-HDA-01592', 'HG00146', 'HG01619', 'CGND-HDA-01503', 'HG01632', 'CGND-HDA-02088', 'CGND-HDA-02327', 'HG00101', 'HG00264', 'CGND-HDA-03792', 'CGND-HDA-02189', 'NA12154', 'NA20527', 'HG00138', 'CGND-HDA-01641', 'CGND-HDA-03876', 'CGND-HDA-01655', 'HG01620', 'NA20511', 'HG00233', 'NA20774', 'CGND-HDA-03483', 'CGND-HDA-01526', 'HG00261', 'NA20806', 'CGND-HDA-01841', 'NA12763', 'HG00174', 'NA20522', 'CGND-HDA-01853', 'CGND-HDA-03097', 'CGND-HDA-01453', 'NA11930', 'HG00118', 'NA12005', 'CGND-HDA-03448', 'CGND-HDA-03668', 'CGND-HDA-03421', 'NA20756', 'CGND-HDA-01551', 'CGND-HDA-01537', 'CGND-HDA-02832', 'CGND-HDA-01484', 'HG00139', 'CGND-HDA-03813', 'HG01761', 'NA12058', 'CGND-HDA-03778', 'CGND-HDA-03793', 'CGND-HDA-03978', 'CGND-HDA-03154', 'HG00244', 'NA12383', 'CGND-HDA-02740', 'CGND-HDA-02520', 'HG00237', 'CGND-HDA-01020', 'HG01524', 'NA12717', 'NA12399', 'HG01615', 'NA20503', 'HG01777', 'CGND-HDA-01123', 'HG00117', 'NA12045', 'HG01747', 'CGND-HDA-03790', 'CGND-HDA-03137', 'NA11832', 'CGND-HDA-01438', 'CGND-HDA-03759', 'NA20815', 'CGND-HDA-00434', 'NA20504', 'NA07000', 'CGND-HDA-03457', 'CGND-HDA-01818', 'NA20767', 'CGND-HDA-03671', 'HG02235', 'NA12044', 'CGND-HDA-02756', 'HG00122', 'CGND-HDA-03798', 'CGND-HDA-03459', 'HG01608', 'CGND-HDA-01593', 'NA20520', 'NA20810', 'NA20800', 'HG01673', 'HG01709', 'HG01631', 'HG01606', 'CGND-HDA-02835', 'CGND-HDA-01430', 'CGND-HDA-02750', 'HG01623', 'CGND-HDA-01663', 'CGND-HDA-00260', 'CGND-HDA-01610', 'HG00120', 'NA12778', 'NA11994', 'HG01669', 'CGND-HDA-02718', 'NA20769', 'NA20802', 'HG00125', 'NA12414', 'NA20804', 'HG00251', 'CGND-HDA-03597', 'HG01697', 'NA20531', 'CGND-HDA-02714', 'HG01521', 'NA20508', 'CGND-HDA-01651', 'CGND-HDA-01640', 'NA06986', 'NA20814', 'HG01682', 'HG00160', 'HG00240', 'CGND-HDA-01410', 'NA20519', 'HG01775', 'NA12718', 'HG01536', 'HG01525', 'CGND-HDA-02764', 'NA12813', 'CGND-HDA-02748', 'NA20541', 'NA20510', 'HG02221', 'NA20762', 'CGND-HDA-02081', 'NA20819', 'HG01530', 'CGND-HDA-02758', 'NA20826', 'CGND-HDA-03588', 'HG01603', 'CGND-HDA-02770', 'CGND-HDA-01594', 'HG01507', 'HG01506', 'CGND-HDA-03075', 'CGND-HDA-02833', 'HG00130', 'HG01779', 'NA20543', 'CGND-HDA-03698', 'NA12340', 'NA20759', 'NA12775', 'CGND-HDA-00556', 'CGND-HDA-01559', 'HG01516', 'CGND-HDA-02754', 'CGND-HDA-01691', 'CGND-HDA-02772', 'HG00250', 'CGND-HDA-01531', 'HG00263', 'CGND-HDA-00435', 'CGND-HDA-02738', 'CGND-HDA-03532', 'CGND-HDA-03951', 'HG01676', 'CGND-HDA-01021', 'HG02231', 'NA20521', 'HG00253', 'CGND-HDA-02187', 'NA12829', 'NA20772', 'NA20764', 'CGND-HDA-03527', 'HG00148', 'HG00238', 'NA20832', 'CGND-HDA-03764', 'NA20799', 'CGND-HDA-03781', 'CGND-HDA-03772', 'HG00133', 'NA12287', 'CGND-HDA-01515', 'CGND-HDA-01433', 'NA20758', 'CGND-HDA-01445', 'NA20540', 'NA12873', 'NA12874', 'CGND-HDA-03774', 'CGND-HDA-03081', 'HG00096', 'HG01756', 'CGND-HDA-03727', 'NA20538', 'NA12748', 'NA20792', 'NA11919', 'HG00114', 'HG01625', 'HG01679', 'HG02224', 'HG00131', 'HG02219', 'NA12156', 'HG01610', 'NA20813', 'NA12776', 'CGND-HDA-01417', 'HG01512', 'CGND-HDA-01654', 'NA20515', 'NA12144', 'CGND-HDA-02092', 'HG01708', 'CGND-HDA-02722', 'NA12348', 'NA20771', 'NA06989', 'CGND-HDA-03142', 'HG01790', 'CGND-HDA-03520', 'CGND-HDA-01692', 'CGND-HDA-03035', 'NA12342', 'NA06994', 'CGND-HDA-01533', 'NA20530', 'CGND-HDA-03753', 'CGND-HDA-01900', 'HG01789', 'CGND-HDA-01540', 'NA20812', 'HG02232', 'CGND-HDA-03768', 'NA12234', 'NA12751', 'HG00100', 'HG01504', 'NA12814', 'NA12812', 'CGND-HDA-03530', 'HG01602', 'HG01695', 'NA11881', 'HG00129', 'HG02223', 'CGND-HDA-03776', 'HG01334', 'NA20512', 'NA20809', 'NA12003', 'HG01605', 'NA12282', 'CGND-HDA-00564', 'CGND-HDA-01607', 'NA20502', 'CGND-HDA-03524', 'CGND-HDA-02742', 'CGND-HDA-03487'}\n"
            ]
          },
          "metadata": {},
          "output_type": "display_data"
        },
        {
          "data": {
            "text/html": [
              "<pre style=\"white-space:pre;overflow-x:auto;line-height:normal;font-family:Menlo,'DejaVu Sans Mono',consolas,'Courier New',monospace\">16:35:49.203 | <span style=\"color: #008080; text-decoration-color: #008080\">INFO</span>    | Flow run<span style=\"color: #800080; text-decoration-color: #800080\"> 'mahogany-quetzal'</span> - No duplicate columns found!\n",
              "</pre>\n"
            ],
            "text/plain": [
              "16:35:49.203 | \u001b[36mINFO\u001b[0m    | Flow run\u001b[35m 'mahogany-quetzal'\u001b[0m - No duplicate columns found!\n"
            ]
          },
          "metadata": {},
          "output_type": "display_data"
        },
        {
          "data": {
            "text/html": [
              "<pre style=\"white-space:pre;overflow-x:auto;line-height:normal;font-family:Menlo,'DejaVu Sans Mono',consolas,'Courier New',monospace\">16:35:49.231 | <span style=\"color: #008080; text-decoration-color: #008080\">INFO</span>    | Flow run<span style=\"color: #800080; text-decoration-color: #800080\"> 'mahogany-quetzal'</span> - Filtered 1421 alleles with frequency below 5.000%\n",
              "</pre>\n"
            ],
            "text/plain": [
              "16:35:49.231 | \u001b[36mINFO\u001b[0m    | Flow run\u001b[35m 'mahogany-quetzal'\u001b[0m - Filtered 1421 alleles with frequency below 5.000%\n"
            ]
          },
          "metadata": {},
          "output_type": "display_data"
        },
        {
          "data": {
            "text/html": [
              "<pre style=\"white-space:pre;overflow-x:auto;line-height:normal;font-family:Menlo,'DejaVu Sans Mono',consolas,'Courier New',monospace\">16:35:49.233 | <span style=\"color: #008080; text-decoration-color: #008080\">INFO</span>    | Flow run<span style=\"color: #800080; text-decoration-color: #800080\"> 'mahogany-quetzal'</span> - Kept 61 alleles\n",
              "</pre>\n"
            ],
            "text/plain": [
              "16:35:49.233 | \u001b[36mINFO\u001b[0m    | Flow run\u001b[35m 'mahogany-quetzal'\u001b[0m - Kept 61 alleles\n"
            ]
          },
          "metadata": {},
          "output_type": "display_data"
        },
        {
          "data": {
            "text/html": [
              "<pre style=\"white-space:pre;overflow-x:auto;line-height:normal;font-family:Menlo,'DejaVu Sans Mono',consolas,'Courier New',monospace\">16:35:49.329 | <span style=\"color: #008080; text-decoration-color: #008080\">INFO</span>    | Flow run<span style=\"color: #800080; text-decoration-color: #800080\"> 'mahogany-quetzal'</span> - Finished in state <span style=\"color: #008000; text-decoration-color: #008000\">Completed</span>()\n",
              "</pre>\n"
            ],
            "text/plain": [
              "16:35:49.329 | \u001b[36mINFO\u001b[0m    | Flow run\u001b[35m 'mahogany-quetzal'\u001b[0m - Finished in state \u001b[32mCompleted\u001b[0m()\n"
            ]
          },
          "metadata": {},
          "output_type": "display_data"
        },
        {
          "name": "stdout",
          "output_type": "stream",
          "text": [
            "\n",
            "clinical data:\n",
            "                       Quote    Data File ID ExternalSubjectId   \n",
            "ExternalSampleId                                                 \n",
            "CGND-HDA-05557    CGND_14852  CGND-HDA-05557       NEUUF013XXL  \\\n",
            "CGND-HDA-05556    CGND_14852  CGND-HDA-05556       NEUHM496PGR   \n",
            "CGND-HDA-05555    CGND_14852  CGND-HDA-05555       NEUPK599KHH   \n",
            "CGND-HDA-05554    CGND_14852  CGND-HDA-05554       NEUHD589CVP   \n",
            "CGND-HDA-05553    CGND_14852  CGND-HDA-05553       NEUXX223WT8   \n",
            "\n",
            "                              Project     Site Sample Collected   \n",
            "ExternalSampleId                                                  \n",
            "CGND-HDA-05557    ALS Natural History  Henry Ford Health System  \\\n",
            "CGND-HDA-05556    ALS Natural History  Henry Ford Health System   \n",
            "CGND-HDA-05555    ALS Natural History  Henry Ford Health System   \n",
            "CGND-HDA-05554    ALS Natural History  Henry Ford Health System   \n",
            "CGND-HDA-05553    ALS Natural History  Henry Ford Health System   \n",
            "\n",
            "                   Site Specimen Collected     Sex               Ethnicity   \n",
            "ExternalSampleId                                                             \n",
            "CGND-HDA-05557    Henry Ford Health System    Male  Not Hispanic or Latino  \\\n",
            "CGND-HDA-05556    Henry Ford Health System    Male  Not Hispanic or Latino   \n",
            "CGND-HDA-05555    Henry Ford Health System  Female  Not Hispanic or Latino   \n",
            "CGND-HDA-05554    Henry Ford Health System    Male  Not Hispanic or Latino   \n",
            "CGND-HDA-05553    Henry Ford Health System  Female  Not Hispanic or Latino   \n",
            "\n",
            "                     Subject Group           Subject Group Subcategory  ...   \n",
            "ExternalSampleId                                                        ...   \n",
            "CGND-HDA-05557    ALS Spectrum MND  Progressive Muscular Atrophy (PMA)  ...  \\\n",
            "CGND-HDA-05556    ALS Spectrum MND            Progressive Bulbar Palsy  ...   \n",
            "CGND-HDA-05555    ALS Spectrum MND               Classical/Typical ALS  ...   \n",
            "CGND-HDA-05554    ALS Spectrum MND               Classical/Typical ALS  ...   \n",
            "CGND-HDA-05553    ALS Spectrum MND               Classical/Typical ALS  ...   \n",
            "\n",
            "                 Sex Genotype pct_african pct_south_asian pct_east_asian   \n",
            "ExternalSampleId                                                           \n",
            "CGND-HDA-05557             XY    0.007626        0.000010        0.00001  \\\n",
            "CGND-HDA-05556             XY    0.021306        0.000010        0.00001   \n",
            "CGND-HDA-05555             XX    0.005276        0.000010        0.00001   \n",
            "CGND-HDA-05554             XY    0.005465        0.000010        0.00001   \n",
            "CGND-HDA-05553             XX    0.013105        0.026626        0.00001   \n",
            "\n",
            "                 pct_european pct_americas C9 repeat size Expanded, >=30   \n",
            "ExternalSampleId                                                           \n",
            "CGND-HDA-05557       0.992344     0.000010            NaN            NaN  \\\n",
            "CGND-HDA-05556       0.978664     0.000010            NaN            NaN   \n",
            "CGND-HDA-05555       0.994694     0.000010            NaN            NaN   \n",
            "CGND-HDA-05554       0.990614     0.003901            NaN            NaN   \n",
            "CGND-HDA-05553       0.960249     0.000010            NaN            NaN   \n",
            "\n",
            "                 ATXN2 repeat size Intermediate, 30-33  \n",
            "ExternalSampleId                                        \n",
            "CGND-HDA-05557                 NaN                 NaN  \n",
            "CGND-HDA-05556                 NaN                 NaN  \n",
            "CGND-HDA-05555                 NaN                 NaN  \n",
            "CGND-HDA-05554                 NaN                 NaN  \n",
            "CGND-HDA-05553                 NaN                 NaN  \n",
            "\n",
            "[5 rows x 58 columns]\n"
          ]
        }
      ],
      "source": [
        "from prefect import unmapped\n",
        "from tqdm import tqdm\n",
        "\n",
        "from input import processInputFiles\n",
        "\n",
        "(caseGenotypes,\n",
        "caseIDs,\n",
        "holdoutCaseGenotypes,\n",
        "holdoutCaseIDs,\n",
        "controlGenotypes,\n",
        "controlIDs,\n",
        "holdoutControlGenotypes,\n",
        "holdoutControlIDs,\n",
        "clinicalData) = await processInputFiles()\n",
        "\n",
        "print(f\"\\nclinical data:\\n{clinicalData.head()}\")"
      ]
    },
    {
      "cell_type": "code",
      "execution_count": null,
      "metadata": {},
      "outputs": [],
      "source": [
        "len()"
      ]
    },
    {
      "cell_type": "code",
      "execution_count": 4,
      "metadata": {},
      "outputs": [
        {
          "data": {
            "text/plain": [
              "2012"
            ]
          },
          "execution_count": 4,
          "metadata": {},
          "output_type": "execute_result"
        }
      ],
      "source": [
        "len(holdoutControlIDs)"
      ]
    },
    {
      "attachments": {},
      "cell_type": "markdown",
      "metadata": {
        "id": "5xWQrQYTdkSs"
      },
      "source": [
        "## Evaluate model stack"
      ]
    },
    {
      "cell_type": "code",
      "execution_count": 3,
      "metadata": {
        "colab": {
          "base_uri": "https://localhost:8080/",
          "height": 415
        },
        "id": "KOm3iWTTdmuj",
        "outputId": "7a7f6f03-4a6d-4cbe-df55-97ab9225f8a2"
      },
      "outputs": [
        {
          "ename": "NameError",
          "evalue": "name 'config' is not defined",
          "output_type": "error",
          "traceback": [
            "\u001b[0;31m---------------------------------------------------------------------------\u001b[0m",
            "\u001b[0;31mNameError\u001b[0m                                 Traceback (most recent call last)",
            "Cell \u001b[0;32mIn[3], line 6\u001b[0m\n\u001b[1;32m      2\u001b[0m \u001b[39mfrom\u001b[39;00m \u001b[39msklearn\u001b[39;00m\u001b[39m.\u001b[39;00m\u001b[39mmodel_selection\u001b[39;00m \u001b[39mimport\u001b[39;00m StratifiedKFold\n\u001b[1;32m      3\u001b[0m \u001b[39mfrom\u001b[39;00m \u001b[39mentrypoint\u001b[39;00m \u001b[39mimport\u001b[39;00m classify\n\u001b[1;32m      5\u001b[0m outerCvIterator \u001b[39m=\u001b[39m StratifiedKFold(\n\u001b[0;32m----> 6\u001b[0m     n_splits\u001b[39m=\u001b[39mconfig[\u001b[39m\"\u001b[39m\u001b[39msampling\u001b[39m\u001b[39m\"\u001b[39m][\u001b[39m\"\u001b[39m\u001b[39mcrossValIterations\u001b[39m\u001b[39m\"\u001b[39m], shuffle\u001b[39m=\u001b[39m\u001b[39mFalse\u001b[39;00m\n\u001b[1;32m      7\u001b[0m )\n\u001b[1;32m      8\u001b[0m innerCvIterator \u001b[39m=\u001b[39m outerCvIterator\n\u001b[1;32m      9\u001b[0m \u001b[39mif\u001b[39;00m config[\u001b[39m\"\u001b[39m\u001b[39mtracking\u001b[39m\u001b[39m\"\u001b[39m][\u001b[39m\"\u001b[39m\u001b[39mremote\u001b[39m\u001b[39m\"\u001b[39m]:\n",
            "\u001b[0;31mNameError\u001b[0m: name 'config' is not defined"
          ]
        }
      ],
      "source": [
        "import neptune\n",
        "from sklearn.model_selection import StratifiedKFold\n",
        "from mlStackEntrypoint import classify\n",
        "from config import config\n",
        "\n",
        "outerCvIterator = StratifiedKFold(\n",
        "    n_splits=config[\"sampling\"][\"crossValIterations\"], shuffle=False\n",
        ")\n",
        "innerCvIterator = outerCvIterator\n",
        "if config[\"tracking\"][\"remote\"]:\n",
        "    projectTracker = neptune.init_project(\n",
        "        project=f'{config[\"tracking\"][\"entity\"]}/{config[\"tracking\"][\"project\"]}',\n",
        "        api_token=config[\"tracking\"][\"token\"],\n",
        "    )\n",
        "\n",
        "results = []\n",
        "for model, hyperParameterSpace in list(config[\"model\"][\"stack\"].items()):\n",
        "    results.append(\n",
        "        await classify(\n",
        "            caseGenotypes,\n",
        "            controlGenotypes,\n",
        "            holdoutCaseGenotypes,\n",
        "            holdoutControlGenotypes,\n",
        "            clinicalData,\n",
        "            model,\n",
        "            hyperParameterSpace,\n",
        "            innerCvIterator,\n",
        "            outerCvIterator,\n",
        "        ),\n",
        "    )"
      ]
    },
    {
      "cell_type": "code",
      "execution_count": null,
      "metadata": {},
      "outputs": [],
      "source": []
    }
  ],
  "metadata": {
    "colab": {
      "provenance": []
    },
    "kernelspec": {
      "display_name": "base",
      "language": "python",
      "name": "python3"
    },
    "language_info": {
      "codemirror_mode": {
        "name": "ipython",
        "version": 3
      },
      "file_extension": ".py",
      "mimetype": "text/x-python",
      "name": "python",
      "nbconvert_exporter": "python",
      "pygments_lexer": "ipython3",
      "version": "3.10.10"
    },
    "vscode": {
      "interpreter": {
        "hash": "b8de2bb8cfc0129dc4ad0d33ebf53f4c81d236710e7f8da07ef8e91d061d131b"
      }
    }
  },
  "nbformat": 4,
  "nbformat_minor": 0
}
