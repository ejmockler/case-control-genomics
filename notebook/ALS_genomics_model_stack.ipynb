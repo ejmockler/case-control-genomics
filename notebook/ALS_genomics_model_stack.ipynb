{
  "cells": [
    {
      "attachments": {},
      "cell_type": "markdown",
      "metadata": {
        "id": "CtFYp82_avzf"
      },
      "source": [
        "# Whole-genome analysis workflow"
      ]
    },
    {
      "cell_type": "code",
      "execution_count": 1,
      "metadata": {
        "colab": {
          "base_uri": "https://localhost:8080/"
        },
        "id": "FPZ8uR95ao7W",
        "outputId": "a1c56261-0150-4f59-e0fa-5e3deea610b5"
      },
      "outputs": [],
      "source": [
        "# ~2 minutes to install \n",
        "#%pip install -U --no-cache-dir scikit-learn scikit-optimize prefect prefect-ray ray plotly openpyxl shap lion_pytorch pytorch_tabnet xgboost neptune pyspark pyarrow dill fastnumbers"
      ]
    },
    {
      "cell_type": "code",
      "execution_count": 2,
      "metadata": {
        "colab": {
          "base_uri": "https://localhost:8080/",
          "height": 264
        },
        "id": "T-XkqgwZaBX0",
        "outputId": "1f74b602-b8f5-41c4-d1b4-c1c7ced32b36"
      },
      "outputs": [
        {
          "data": {
            "text/html": [
              "<div>\n",
              "    <div style=\"margin-left: 50px;display: flex;flex-direction: row;align-items: center\">\n",
              "        <h3 style=\"color: var(--jp-ui-font-color0)\">Ray</h3>\n",
              "        <svg version=\"1.1\" id=\"ray\" width=\"3em\" viewBox=\"0 0 144.5 144.6\" style=\"margin-left: 3em;margin-right: 3em\">\n",
              "            <g id=\"layer-1\">\n",
              "                <path fill=\"#00a2e9\" class=\"st0\" d=\"M97.3,77.2c-3.8-1.1-6.2,0.9-8.3,5.1c-3.5,6.8-9.9,9.9-17.4,9.6S58,88.1,54.8,81.2c-1.4-3-3-4-6.3-4.1\n",
              "                    c-5.6-0.1-9.9,0.1-13.1,6.4c-3.8,7.6-13.6,10.2-21.8,7.6C5.2,88.4-0.4,80.5,0,71.7c0.1-8.4,5.7-15.8,13.8-18.2\n",
              "                    c8.4-2.6,17.5,0.7,22.3,8c1.3,1.9,1.3,5.2,3.6,5.6c3.9,0.6,8,0.2,12,0.2c1.8,0,1.9-1.6,2.4-2.8c3.5-7.8,9.7-11.8,18-11.9\n",
              "                    c8.2-0.1,14.4,3.9,17.8,11.4c1.3,2.8,2.9,3.6,5.7,3.3c1-0.1,2,0.1,3,0c2.8-0.5,6.4,1.7,8.1-2.7s-2.3-5.5-4.1-7.5\n",
              "                    c-5.1-5.7-10.9-10.8-16.1-16.3C84,38,81.9,37.1,78,38.3C66.7,42,56.2,35.7,53,24.1C50.3,14,57.3,2.8,67.7,0.5\n",
              "                    C78.4-2,89,4.7,91.5,15.3c0.1,0.3,0.1,0.5,0.2,0.8c0.7,3.4,0.7,6.9-0.8,9.8c-1.7,3.2-0.8,5,1.5,7.2c6.7,6.5,13.3,13,19.8,19.7\n",
              "                    c1.8,1.8,3,2.1,5.5,1.2c9.1-3.4,17.9-0.6,23.4,7c4.8,6.9,4.6,16.1-0.4,22.9c-5.4,7.2-14.2,9.9-23.1,6.5c-2.3-0.9-3.5-0.6-5.1,1.1\n",
              "                    c-6.7,6.9-13.6,13.7-20.5,20.4c-1.8,1.8-2.5,3.2-1.4,5.9c3.5,8.7,0.3,18.6-7.7,23.6c-7.9,5-18.2,3.8-24.8-2.9\n",
              "                    c-6.4-6.4-7.4-16.2-2.5-24.3c4.9-7.8,14.5-11,23.1-7.8c3,1.1,4.7,0.5,6.9-1.7C91.7,98.4,98,92.3,104.2,86c1.6-1.6,4.1-2.7,2.6-6.2\n",
              "                    c-1.4-3.3-3.8-2.5-6.2-2.6C99.8,77.2,98.9,77.2,97.3,77.2z M72.1,29.7c5.5,0.1,9.9-4.3,10-9.8c0-0.1,0-0.2,0-0.3\n",
              "                    C81.8,14,77,9.8,71.5,10.2c-5,0.3-9,4.2-9.3,9.2c-0.2,5.5,4,10.1,9.5,10.3C71.8,29.7,72,29.7,72.1,29.7z M72.3,62.3\n",
              "                    c-5.4-0.1-9.9,4.2-10.1,9.7c0,0.2,0,0.3,0,0.5c0.2,5.4,4.5,9.7,9.9,10c5.1,0.1,9.9-4.7,10.1-9.8c0.2-5.5-4-10-9.5-10.3\n",
              "                    C72.6,62.3,72.4,62.3,72.3,62.3z M115,72.5c0.1,5.4,4.5,9.7,9.8,9.9c5.6-0.2,10-4.8,10-10.4c-0.2-5.4-4.6-9.7-10-9.7\n",
              "                    c-5.3-0.1-9.8,4.2-9.9,9.5C115,72.1,115,72.3,115,72.5z M19.5,62.3c-5.4,0.1-9.8,4.4-10,9.8c-0.1,5.1,5.2,10.4,10.2,10.3\n",
              "                    c5.6-0.2,10-4.9,9.8-10.5c-0.1-5.4-4.5-9.7-9.9-9.6C19.6,62.3,19.5,62.3,19.5,62.3z M71.8,134.6c5.9,0.2,10.3-3.9,10.4-9.6\n",
              "                    c0.5-5.5-3.6-10.4-9.1-10.8c-5.5-0.5-10.4,3.6-10.8,9.1c0,0.5,0,0.9,0,1.4c-0.2,5.3,4,9.8,9.3,10\n",
              "                    C71.6,134.6,71.7,134.6,71.8,134.6z\"/>\n",
              "            </g>\n",
              "        </svg>\n",
              "        <table>\n",
              "            <tr>\n",
              "                <td style=\"text-align: left\"><b>Python version:</b></td>\n",
              "                <td style=\"text-align: left\"><b>3.10.10</b></td>\n",
              "            </tr>\n",
              "            <tr>\n",
              "                <td style=\"text-align: left\"><b>Ray version:</b></td>\n",
              "                <td style=\"text-align: left\"><b> 2.3.1</b></td>\n",
              "            </tr>\n",
              "            \n",
              "        </table>\n",
              "    </div>\n",
              "</div>\n"
            ],
            "text/plain": [
              "RayContext(dashboard_url='', python_version='3.10.10', ray_version='2.3.1', ray_commit='5f14cee8dfc6d61ec4fd3bc2c440f9944e92b33a', address_info={'node_ip_address': '192.168.1.107', 'raylet_ip_address': '192.168.1.107', 'redis_address': None, 'object_store_address': '/tmp/ray/session_2023-06-02_23-22-14_582049_855911/sockets/plasma_store', 'raylet_socket_name': '/tmp/ray/session_2023-06-02_23-22-14_582049_855911/sockets/raylet', 'webui_url': '', 'session_dir': '/tmp/ray/session_2023-06-02_23-22-14_582049_855911', 'metrics_export_port': 51802, 'gcs_address': '192.168.1.107:62914', 'address': '192.168.1.107:62914', 'dashboard_agent_listen_port': 52365, 'node_id': '05054a1eb1b63688caa3eada686e056d79a5bf88a08c97297063b77b'})"
            ]
          },
          "execution_count": 2,
          "metadata": {},
          "output_type": "execute_result"
        }
      ],
      "source": [
        "from prefect import task, flow\n",
        "from prefect.task_runners import ConcurrentTaskRunner\n",
        "from prefect_ray.task_runners import RayTaskRunner\n",
        "from DillSerializer import DillSerializer\n",
        "import ray\n",
        "\n",
        "import pandas as pd\n",
        "import numpy as np\n",
        "\n",
        "import logging\n",
        "\n",
        "!export PREFECT_LOGGING_LEVEL=\"WARNING\"\n",
        "ray.shutdown()\n",
        "parallelRunner = ray.init(\n",
        "  configure_logging=True,\n",
        "  logging_level=logging.ERROR,\n",
        ")\n",
        "parallelRunner"
      ]
    },
    {
      "cell_type": "code",
      "execution_count": 3,
      "metadata": {
        "id": "S04Kzco5ci8n"
      },
      "outputs": [],
      "source": [
        "from sklearn.ensemble import (\n",
        "    AdaBoostClassifier,\n",
        "    RandomForestClassifier,\n",
        ")\n",
        "from sklearn.linear_model import LogisticRegression\n",
        "from sklearn.naive_bayes import MultinomialNB\n",
        "from sklearn.svm import LinearSVC, SVC\n",
        "from xgboost import XGBClassifier\n",
        "from pytorch_tabnet.tab_model import TabNetClassifier\n",
        "from lion_pytorch import Lion\n",
        "\n",
        "from skopt.space import Categorical, Integer, Real\n",
        "\n",
        "from env import neptune_api_token\n",
        "\n",
        "RadialBasisSVC = SVC\n",
        "RadialBasisSVC.__name__ = \"RadialBasisSVC\"\n",
        "\n",
        "clearHistory = True\n",
        "config = {\n",
        "  'vcfLike': {  \n",
        "    'path': 'Variant_report_NUPs_fixed_2022-03-28.xlsx',             # variant call table with annotations\n",
        "    'sheet': \"all cases vs all controls\",                             # sheet name if Excel spreadsheet\n",
        "    'indexColumn': ['chrom', 'position', 'Gene'],       # header that indexes variants (set as list with multiple columns)\n",
        "    'binarize': True,                           # binarize variants to 0/1, or sum to weigh allele frequency\n",
        "    'minAlleleFrequency': 0.05,           # filter out variants with allele frequency less than this\n",
        "  # 'alleleModel': ['dominant', 'recessive', 'overDominant'],  # biallelic allele models to test on gene sets\n",
        "    'filters': {\n",
        "      } \n",
        "  }, # TODO handle genotypes from related individuals\n",
        "  \n",
        "  'geneSets' : { # TODO gene sets\n",
        "      },\n",
        "  \n",
        "  'tracking': {\n",
        "    'name': 'Nucleoporin genes, well-classified cases', # name of the experiment\n",
        "    'entity': 'ejmockler',\n",
        "    'project': 'ALS-NUPs-NoHyperParamOptimization',\n",
        "    'plotAllSampleImportances': True,  # if calculating Shapely explanations, plot each sample in Neptune\n",
        "    'token': neptune_api_token\n",
        "  },\n",
        "\n",
        "  'clinicalTable': {\n",
        "      'path': 'ACWM.xlsx',                      # clinical data as Excel spreadsheet\n",
        "      'idColumn': 'ExternalSampleId',           # genotype ID header\n",
        "      'uniqueIdColumn': 'ExternalSubjectId',    # unique ID for each patient\n",
        "      'labelColumn': 'Subject Group',                # header that has case/control labels\n",
        "      'controlLabels': ['Non-Neurological Control'], # these labels include external sample IDs (like 1000 Genomes)\n",
        "      'caseLabels': ['ALS Spectrum MND'],\n",
        "      'controlAlias': 'control',\n",
        "      'caseAlias': 'case',\n",
        "      'filters': 'pct_european>=0.85',             # filter out nonhomogenous samples with less than 85% European ancestry\n",
        "  },\n",
        "\n",
        "  'externalTables': {\n",
        "      'path': ['igsr-1000 genomes phase 3 release.tsv'],  # external sample table\n",
        "      'label': ['control'], # case | control | mixed (mixed labels are held out as an external test set)\n",
        "      'idColumn': ['Sample name'],                        # sample ID header\n",
        "      'filters': [\"`Superpopulation code`=='EUR' & `Population name`!='Finnish'\"], # remove finnish samples due to unusual homogeneity (verify w/ PCA)\n",
        "  },\n",
        "\n",
        "  'sampling': {\n",
        "    'bootstrapIterations': 60, \n",
        "    'crossValIterations': 10,   # number of validations per bootstrap iteration\n",
        "    'holdoutSplit': 0.1,\n",
        "  },\n",
        "  \n",
        "  'model': {\n",
        "    'stack': {\n",
        "      LinearSVC(): {\n",
        "            \"tol\": Real(1e-6, 1e+1, prior=\"log-uniform\"),\n",
        "            \"C\": Real(1e-4, 1e+1, prior=\"log-uniform\"),\n",
        "        },\n",
        "      RadialBasisSVC(probability=True, kernel=\"rbf\"): {\n",
        "          \"tol\": Real(1e-4, 1e+1, prior=\"log-uniform\"),\n",
        "          \"C\": Real(1e-4, 1e+1, prior=\"log-uniform\"),\n",
        "          \"gamma\": Categorical([\"scale\", \"auto\"]),\n",
        "      },\n",
        "      LogisticRegression(penalty=\"l2\", solver=\"saga\"): {\n",
        "          \"tol\": Real(1e-6, 1e+1, prior=\"log-uniform\"),\n",
        "          \"C\": Real(1e-4, 1e+1, prior=\"log-uniform\"),\n",
        "      },\n",
        "      # TabNetClassifier: {\n",
        "      #     \"n_d\": Integer(8, 64),\n",
        "      #     \"n_a\": Integer(8, 64),\n",
        "      #     \"n_steps\": Integer(3, 10),\n",
        "      #     \"lambda_sparse\": Real(1e-4, 1e+1, prior=\"log-uniform\"),\n",
        "      # },\n",
        "      MultinomialNB(): {\"alpha\": Real(1e-10, 1e+1, prior=\"log-uniform\")},\n",
        "      AdaBoostClassifier(): {\n",
        "          \"n_estimators\": Integer(25, 75),\n",
        "          \"learning_rate\": Real(1e-6, 1e+1, prior=\"log-uniform\"),\n",
        "      },\n",
        "      XGBClassifier(): {\n",
        "          \"learning_rate\": Real(1e-6, 1e+1, prior=\"log-uniform\"),\n",
        "          \"n_estimators\": Integer(10, 100),\n",
        "      },\n",
        "      RandomForestClassifier(): { \n",
        "          \"n_estimators\": Integer(75, 200),\n",
        "      },\n",
        "    },\n",
        "    'hyperparameterOptimization': False,\n",
        "    'calculateShapelyExplanations': False,\n",
        "  }\n",
        "}\n",
        " \n",
        "async def remove_all_flows():\n",
        "  from prefect.client import get_client\n",
        "  orion_client = get_client()\n",
        "  flows = await orion_client.read_flows()\n",
        "  for flow in flows:\n",
        "    flow_id = flow.id\n",
        "    print(f\"Deleting flow: {flow.name}, {flow_id}\")\n",
        "    await orion_client._client.delete(f\"/flows/{flow_id}\")\n",
        "    print(f\"Flow with UUID {flow_id} deleted\")\n",
        "\n",
        "if clearHistory: await remove_all_flows()"
      ]
    },
    {
      "cell_type": "code",
      "execution_count": 4,
      "metadata": {
        "colab": {
          "base_uri": "https://localhost:8080/",
          "height": 1000
        },
        "id": "CKlnYjPImk7I",
        "outputId": "13502d78-bfc1-4323-81f1-87f8168ad548"
      },
      "outputs": [
        {
          "data": {
            "text/html": [
              "<pre style=\"white-space:pre;overflow-x:auto;line-height:normal;font-family:Menlo,'DejaVu Sans Mono',consolas,'Courier New',monospace\">23:22:18.566 | <span style=\"color: #008080; text-decoration-color: #008080\">INFO</span>    | prefect.engine - Created flow run<span style=\"color: #800080; text-decoration-color: #800080\"> 'strange-earwig'</span> for flow<span style=\"color: #800080; text-decoration-color: #800080; font-weight: bold\"> 'processInputFiles'</span>\n",
              "</pre>\n"
            ],
            "text/plain": [
              "23:22:18.566 | \u001b[36mINFO\u001b[0m    | prefect.engine - Created flow run\u001b[35m 'strange-earwig'\u001b[0m for flow\u001b[1;35m 'processInputFiles'\u001b[0m\n"
            ]
          },
          "metadata": {},
          "output_type": "display_data"
        },
        {
          "data": {
            "text/html": [
              "<pre style=\"white-space:pre;overflow-x:auto;line-height:normal;font-family:Menlo,'DejaVu Sans Mono',consolas,'Courier New',monospace\">23:22:18.860 | <span style=\"color: #008080; text-decoration-color: #008080\">INFO</span>    | Flow run<span style=\"color: #800080; text-decoration-color: #800080\"> 'strange-earwig'</span> - Created task run 'load-0' for task 'load'\n",
              "</pre>\n"
            ],
            "text/plain": [
              "23:22:18.860 | \u001b[36mINFO\u001b[0m    | Flow run\u001b[35m 'strange-earwig'\u001b[0m - Created task run 'load-0' for task 'load'\n"
            ]
          },
          "metadata": {},
          "output_type": "display_data"
        },
        {
          "data": {
            "text/html": [
              "<pre style=\"white-space:pre;overflow-x:auto;line-height:normal;font-family:Menlo,'DejaVu Sans Mono',consolas,'Courier New',monospace\">23:22:18.861 | <span style=\"color: #008080; text-decoration-color: #008080\">INFO</span>    | Flow run<span style=\"color: #800080; text-decoration-color: #800080\"> 'strange-earwig'</span> - Executing 'load-0' immediately...\n",
              "</pre>\n"
            ],
            "text/plain": [
              "23:22:18.861 | \u001b[36mINFO\u001b[0m    | Flow run\u001b[35m 'strange-earwig'\u001b[0m - Executing 'load-0' immediately...\n"
            ]
          },
          "metadata": {},
          "output_type": "display_data"
        },
        {
          "name": "stderr",
          "output_type": "stream",
          "text": [
            "/home/noot/.pyenv/versions/miniconda3-latest/lib/python3.10/site-packages/openpyxl/worksheet/_reader.py:329: UserWarning: Unknown extension is not supported and will be removed\n",
            "  warn(msg)\n"
          ]
        },
        {
          "data": {
            "text/html": [
              "<pre style=\"white-space:pre;overflow-x:auto;line-height:normal;font-family:Menlo,'DejaVu Sans Mono',consolas,'Courier New',monospace\">23:23:19.545 | <span style=\"color: #008080; text-decoration-color: #008080\">INFO</span>    | Task run 'load-0' - Finished in state <span style=\"color: #008000; text-decoration-color: #008000\">Completed</span>()\n",
              "</pre>\n"
            ],
            "text/plain": [
              "23:23:19.545 | \u001b[36mINFO\u001b[0m    | Task run 'load-0' - Finished in state \u001b[32mCompleted\u001b[0m()\n"
            ]
          },
          "metadata": {},
          "output_type": "display_data"
        },
        {
          "data": {
            "text/html": [
              "<pre style=\"white-space:pre;overflow-x:auto;line-height:normal;font-family:Menlo,'DejaVu Sans Mono',consolas,'Courier New',monospace\">23:23:19.566 | <span style=\"color: #008080; text-decoration-color: #008080\">INFO</span>    | Flow run<span style=\"color: #800080; text-decoration-color: #800080\"> 'strange-earwig'</span> - Created task run 'filterTable-0' for task 'filterTable'\n",
              "</pre>\n"
            ],
            "text/plain": [
              "23:23:19.566 | \u001b[36mINFO\u001b[0m    | Flow run\u001b[35m 'strange-earwig'\u001b[0m - Created task run 'filterTable-0' for task 'filterTable'\n"
            ]
          },
          "metadata": {},
          "output_type": "display_data"
        },
        {
          "data": {
            "text/html": [
              "<pre style=\"white-space:pre;overflow-x:auto;line-height:normal;font-family:Menlo,'DejaVu Sans Mono',consolas,'Courier New',monospace\">23:23:19.567 | <span style=\"color: #008080; text-decoration-color: #008080\">INFO</span>    | Flow run<span style=\"color: #800080; text-decoration-color: #800080\"> 'strange-earwig'</span> - Executing 'filterTable-0' immediately...\n",
              "</pre>\n"
            ],
            "text/plain": [
              "23:23:19.567 | \u001b[36mINFO\u001b[0m    | Flow run\u001b[35m 'strange-earwig'\u001b[0m - Executing 'filterTable-0' immediately...\n"
            ]
          },
          "metadata": {},
          "output_type": "display_data"
        },
        {
          "data": {
            "text/html": [
              "<pre style=\"white-space:pre;overflow-x:auto;line-height:normal;font-family:Menlo,'DejaVu Sans Mono',consolas,'Courier New',monospace\">23:23:19.605 | <span style=\"color: #008080; text-decoration-color: #008080\">INFO</span>    | Task run 'filterTable-0' - Filtering: pct_european&gt;=0.85\n",
              "</pre>\n"
            ],
            "text/plain": [
              "23:23:19.605 | \u001b[36mINFO\u001b[0m    | Task run 'filterTable-0' - Filtering: pct_european>=0.85\n"
            ]
          },
          "metadata": {},
          "output_type": "display_data"
        },
        {
          "data": {
            "text/html": [
              "<pre style=\"white-space:pre;overflow-x:auto;line-height:normal;font-family:Menlo,'DejaVu Sans Mono',consolas,'Courier New',monospace\">23:23:19.655 | <span style=\"color: #008080; text-decoration-color: #008080\">INFO</span>    | Task run 'filterTable-0' - Finished in state <span style=\"color: #008000; text-decoration-color: #008000\">Completed</span>()\n",
              "</pre>\n"
            ],
            "text/plain": [
              "23:23:19.655 | \u001b[36mINFO\u001b[0m    | Task run 'filterTable-0' - Finished in state \u001b[32mCompleted\u001b[0m()\n"
            ]
          },
          "metadata": {},
          "output_type": "display_data"
        },
        {
          "data": {
            "text/html": [
              "<pre style=\"white-space:pre;overflow-x:auto;line-height:normal;font-family:Menlo,'DejaVu Sans Mono',consolas,'Courier New',monospace\">23:23:19.657 | <span style=\"color: #008080; text-decoration-color: #008080\">INFO</span>    | Flow run<span style=\"color: #800080; text-decoration-color: #800080\"> 'strange-earwig'</span> - filtered 590 samples from clinical data\n",
              "</pre>\n"
            ],
            "text/plain": [
              "23:23:19.657 | \u001b[36mINFO\u001b[0m    | Flow run\u001b[35m 'strange-earwig'\u001b[0m - filtered 590 samples from clinical data\n"
            ]
          },
          "metadata": {},
          "output_type": "display_data"
        },
        {
          "data": {
            "text/html": [
              "<pre style=\"white-space:pre;overflow-x:auto;line-height:normal;font-family:Menlo,'DejaVu Sans Mono',consolas,'Courier New',monospace\">23:23:19.688 | <span style=\"color: #008080; text-decoration-color: #008080\">INFO</span>    | Flow run<span style=\"color: #800080; text-decoration-color: #800080\"> 'strange-earwig'</span> - Created task run 'filterTable-1' for task 'filterTable'\n",
              "</pre>\n"
            ],
            "text/plain": [
              "23:23:19.688 | \u001b[36mINFO\u001b[0m    | Flow run\u001b[35m 'strange-earwig'\u001b[0m - Created task run 'filterTable-1' for task 'filterTable'\n"
            ]
          },
          "metadata": {},
          "output_type": "display_data"
        },
        {
          "data": {
            "text/html": [
              "<pre style=\"white-space:pre;overflow-x:auto;line-height:normal;font-family:Menlo,'DejaVu Sans Mono',consolas,'Courier New',monospace\">23:23:19.688 | <span style=\"color: #008080; text-decoration-color: #008080\">INFO</span>    | Flow run<span style=\"color: #800080; text-decoration-color: #800080\"> 'strange-earwig'</span> - Executing 'filterTable-1' immediately...\n",
              "</pre>\n"
            ],
            "text/plain": [
              "23:23:19.688 | \u001b[36mINFO\u001b[0m    | Flow run\u001b[35m 'strange-earwig'\u001b[0m - Executing 'filterTable-1' immediately...\n"
            ]
          },
          "metadata": {},
          "output_type": "display_data"
        },
        {
          "data": {
            "text/html": [
              "<pre style=\"white-space:pre;overflow-x:auto;line-height:normal;font-family:Menlo,'DejaVu Sans Mono',consolas,'Courier New',monospace\">23:23:19.731 | <span style=\"color: #008080; text-decoration-color: #008080\">INFO</span>    | Task run 'filterTable-1' - Filtering: `Superpopulation code`=='EUR' &amp; `Population name`!='Finnish'\n",
              "</pre>\n"
            ],
            "text/plain": [
              "23:23:19.731 | \u001b[36mINFO\u001b[0m    | Task run 'filterTable-1' - Filtering: `Superpopulation code`=='EUR' & `Population name`!='Finnish'\n"
            ]
          },
          "metadata": {},
          "output_type": "display_data"
        },
        {
          "data": {
            "text/html": [
              "<pre style=\"white-space:pre;overflow-x:auto;line-height:normal;font-family:Menlo,'DejaVu Sans Mono',consolas,'Courier New',monospace\">23:23:19.776 | <span style=\"color: #008080; text-decoration-color: #008080\">INFO</span>    | Task run 'filterTable-1' - Finished in state <span style=\"color: #008000; text-decoration-color: #008000\">Completed</span>()\n",
              "</pre>\n"
            ],
            "text/plain": [
              "23:23:19.776 | \u001b[36mINFO\u001b[0m    | Task run 'filterTable-1' - Finished in state \u001b[32mCompleted\u001b[0m()\n"
            ]
          },
          "metadata": {},
          "output_type": "display_data"
        },
        {
          "data": {
            "text/html": [
              "<pre style=\"white-space:pre;overflow-x:auto;line-height:normal;font-family:Menlo,'DejaVu Sans Mono',consolas,'Courier New',monospace\">23:23:19.778 | <span style=\"color: #008080; text-decoration-color: #008080\">INFO</span>    | Flow run<span style=\"color: #800080; text-decoration-color: #800080\"> 'strange-earwig'</span> - filtered 4411 samples from external data igsr-1000 genomes phase 3 release.tsv\n",
              "</pre>\n"
            ],
            "text/plain": [
              "23:23:19.778 | \u001b[36mINFO\u001b[0m    | Flow run\u001b[35m 'strange-earwig'\u001b[0m - filtered 4411 samples from external data igsr-1000 genomes phase 3 release.tsv\n"
            ]
          },
          "metadata": {},
          "output_type": "display_data"
        },
        {
          "data": {
            "text/html": [
              "<pre style=\"white-space:pre;overflow-x:auto;line-height:normal;font-family:Menlo,'DejaVu Sans Mono',consolas,'Courier New',monospace\">23:23:19.798 | <span style=\"color: #008080; text-decoration-color: #008080\">INFO</span>    | Flow run<span style=\"color: #800080; text-decoration-color: #800080\"> 'strange-earwig'</span> - Created task run 'filterTable-2' for task 'filterTable'\n",
              "</pre>\n"
            ],
            "text/plain": [
              "23:23:19.798 | \u001b[36mINFO\u001b[0m    | Flow run\u001b[35m 'strange-earwig'\u001b[0m - Created task run 'filterTable-2' for task 'filterTable'\n"
            ]
          },
          "metadata": {},
          "output_type": "display_data"
        },
        {
          "data": {
            "text/html": [
              "<pre style=\"white-space:pre;overflow-x:auto;line-height:normal;font-family:Menlo,'DejaVu Sans Mono',consolas,'Courier New',monospace\">23:23:19.799 | <span style=\"color: #008080; text-decoration-color: #008080\">INFO</span>    | Flow run<span style=\"color: #800080; text-decoration-color: #800080\"> 'strange-earwig'</span> - Executing 'filterTable-2' immediately...\n",
              "</pre>\n"
            ],
            "text/plain": [
              "23:23:19.799 | \u001b[36mINFO\u001b[0m    | Flow run\u001b[35m 'strange-earwig'\u001b[0m - Executing 'filterTable-2' immediately...\n"
            ]
          },
          "metadata": {},
          "output_type": "display_data"
        },
        {
          "data": {
            "text/html": [
              "<pre style=\"white-space:pre;overflow-x:auto;line-height:normal;font-family:Menlo,'DejaVu Sans Mono',consolas,'Courier New',monospace\">23:23:20.455 | <span style=\"color: #008080; text-decoration-color: #008080\">INFO</span>    | Task run 'filterTable-2' - Finished in state <span style=\"color: #008000; text-decoration-color: #008000\">Completed</span>()\n",
              "</pre>\n"
            ],
            "text/plain": [
              "23:23:20.455 | \u001b[36mINFO\u001b[0m    | Task run 'filterTable-2' - Finished in state \u001b[32mCompleted\u001b[0m()\n"
            ]
          },
          "metadata": {},
          "output_type": "display_data"
        },
        {
          "data": {
            "text/html": [
              "<pre style=\"white-space:pre;overflow-x:auto;line-height:normal;font-family:Menlo,'DejaVu Sans Mono',consolas,'Courier New',monospace\">23:23:20.457 | <span style=\"color: #008080; text-decoration-color: #008080\">INFO</span>    | Flow run<span style=\"color: #800080; text-decoration-color: #800080\"> 'strange-earwig'</span> - filtered 0 variants from VCF\n",
              "</pre>\n"
            ],
            "text/plain": [
              "23:23:20.457 | \u001b[36mINFO\u001b[0m    | Flow run\u001b[35m 'strange-earwig'\u001b[0m - filtered 0 variants from VCF\n"
            ]
          },
          "metadata": {},
          "output_type": "display_data"
        },
        {
          "data": {
            "text/html": [
              "<pre style=\"white-space:pre;overflow-x:auto;line-height:normal;font-family:Menlo,'DejaVu Sans Mono',consolas,'Courier New',monospace\">23:23:20.540 | <span style=\"color: #008080; text-decoration-color: #008080\">INFO</span>    | Flow run<span style=\"color: #800080; text-decoration-color: #800080\"> 'strange-earwig'</span> - Created task run 'applyAlleleModel-1' for task 'applyAlleleModel'\n",
              "</pre>\n"
            ],
            "text/plain": [
              "23:23:20.540 | \u001b[36mINFO\u001b[0m    | Flow run\u001b[35m 'strange-earwig'\u001b[0m - Created task run 'applyAlleleModel-1' for task 'applyAlleleModel'\n"
            ]
          },
          "metadata": {},
          "output_type": "display_data"
        },
        {
          "data": {
            "text/html": [
              "<pre style=\"white-space:pre;overflow-x:auto;line-height:normal;font-family:Menlo,'DejaVu Sans Mono',consolas,'Courier New',monospace\">23:23:20.541 | <span style=\"color: #008080; text-decoration-color: #008080\">INFO</span>    | Flow run<span style=\"color: #800080; text-decoration-color: #800080\"> 'strange-earwig'</span> - Submitted task run 'applyAlleleModel-1' for execution.\n",
              "</pre>\n"
            ],
            "text/plain": [
              "23:23:20.541 | \u001b[36mINFO\u001b[0m    | Flow run\u001b[35m 'strange-earwig'\u001b[0m - Submitted task run 'applyAlleleModel-1' for execution.\n"
            ]
          },
          "metadata": {},
          "output_type": "display_data"
        },
        {
          "data": {
            "text/html": [
              "<pre style=\"white-space:pre;overflow-x:auto;line-height:normal;font-family:Menlo,'DejaVu Sans Mono',consolas,'Courier New',monospace\">23:23:20.552 | <span style=\"color: #008080; text-decoration-color: #008080\">INFO</span>    | Flow run<span style=\"color: #800080; text-decoration-color: #800080\"> 'strange-earwig'</span> - Created task run 'applyAlleleModel-0' for task 'applyAlleleModel'\n",
              "</pre>\n"
            ],
            "text/plain": [
              "23:23:20.552 | \u001b[36mINFO\u001b[0m    | Flow run\u001b[35m 'strange-earwig'\u001b[0m - Created task run 'applyAlleleModel-0' for task 'applyAlleleModel'\n"
            ]
          },
          "metadata": {},
          "output_type": "display_data"
        },
        {
          "data": {
            "text/html": [
              "<pre style=\"white-space:pre;overflow-x:auto;line-height:normal;font-family:Menlo,'DejaVu Sans Mono',consolas,'Courier New',monospace\">23:23:20.553 | <span style=\"color: #008080; text-decoration-color: #008080\">INFO</span>    | Flow run<span style=\"color: #800080; text-decoration-color: #800080\"> 'strange-earwig'</span> - Submitted task run 'applyAlleleModel-0' for execution.\n",
              "</pre>\n"
            ],
            "text/plain": [
              "23:23:20.553 | \u001b[36mINFO\u001b[0m    | Flow run\u001b[35m 'strange-earwig'\u001b[0m - Submitted task run 'applyAlleleModel-0' for execution.\n"
            ]
          },
          "metadata": {},
          "output_type": "display_data"
        },
        {
          "name": "stderr",
          "output_type": "stream",
          "text": [
            "100%|██████████| 922/922 [01:11<00:00, 12.85id/s]\n",
            "\n"
          ]
        },
        {
          "data": {
            "text/html": [
              "<pre style=\"white-space:pre;overflow-x:auto;line-height:normal;font-family:Menlo,'DejaVu Sans Mono',consolas,'Courier New',monospace\">23:24:37.568 | <span style=\"color: #008080; text-decoration-color: #008080\">INFO</span>    | Task run 'applyAlleleModel-1' - Finished in state <span style=\"color: #008000; text-decoration-color: #008000\">Completed</span>()\n",
              "</pre>\n"
            ],
            "text/plain": [
              "23:24:37.568 | \u001b[36mINFO\u001b[0m    | Task run 'applyAlleleModel-1' - Finished in state \u001b[32mCompleted\u001b[0m()\n"
            ]
          },
          "metadata": {},
          "output_type": "display_data"
        },
        {
          "name": "stderr",
          "output_type": "stream",
          "text": [
            "100%|██████████| 2904/2904 [02:23<00:00, 20.17id/s]\u001b[A\n"
          ]
        },
        {
          "data": {
            "text/html": [
              "<pre style=\"white-space:pre;overflow-x:auto;line-height:normal;font-family:Menlo,'DejaVu Sans Mono',consolas,'Courier New',monospace\">23:25:52.832 | <span style=\"color: #008080; text-decoration-color: #008080\">INFO</span>    | Task run 'applyAlleleModel-0' - Finished in state <span style=\"color: #008000; text-decoration-color: #008000\">Completed</span>()\n",
              "</pre>\n"
            ],
            "text/plain": [
              "23:25:52.832 | \u001b[36mINFO\u001b[0m    | Task run 'applyAlleleModel-0' - Finished in state \u001b[32mCompleted\u001b[0m()\n"
            ]
          },
          "metadata": {},
          "output_type": "display_data"
        },
        {
          "data": {
            "text/html": [
              "<pre style=\"white-space:pre;overflow-x:auto;line-height:normal;font-family:Menlo,'DejaVu Sans Mono',consolas,'Courier New',monospace\">23:25:52.834 | <span style=\"color: #008080; text-decoration-color: #008080\">INFO</span>    | Flow run<span style=\"color: #800080; text-decoration-color: #800080\"> 'strange-earwig'</span> - \n",
              "missing 852 case IDs:\n",
              " {'CGND-HDA-04543', 'CGND-HDA-04410', 'CGND-HDA-04217', 'CGND-HDA-04148', 'CGND-HDA-03309', 'CGND-HDA-01688', 'CGND-HDA-04703', 'CGND-HDA-04263', 'CGND-HDA-04197', 'CGND-HDA-04193', 'CGND-HDA-04738', 'CGND-HDA-04284', 'CGND-HDA-04773', 'CGND-HDA-04518', 'CGND-HDA-04163', 'CGND-HDA-03381', 'CGND-HDA-04855', 'CGND-HDA-04143', 'CGND-HDA-03299', 'CGND-HDA-04160', 'CGND-HDA-04141', 'CGND-HDA-04946', 'CGND-HDA-05495', 'CGND-HDA-04671', 'CGND-HDA-04241', 'CGND-HDA-01892', 'CGND-HDA-04920', 'CGND-HDA-04350', 'CGND-HDA-04446', 'CGND-HDA-01301', 'CGND-HDA-03117', 'CGND-HDA-04937', 'CGND-HDA-04737', 'CGND-HDA-05506', 'CGND-HDA-03296', 'CGND-HDA-04240', 'CGND-HDA-04536', 'CGND-HDA-04338', 'CGND-HDA-04882', 'CGND-HDA-04150', 'CGND-HDA-04625', 'CGND-HDA-04572', 'CGND-HDA-03380', 'CGND-HDA-04329', 'CGND-HDA-04847', 'CGND-HDA-04105', 'CGND-HDA-04696', 'CGND-HDA-04234', 'CGND-HDA-04371', 'CGND-HDA-04905', 'CGND-HDA-05554', 'CGND-HDA-04603', 'CGND-HDA-05551', 'CGND-HDA-04286', 'CGND-HDA-03115', 'CGND-HDA-04356', 'CGND-HDA-03190', 'CGND-HDA-04496', 'CGND-HDA-04121', 'CGND-HDA-04654', 'CGND-HDA-04296', 'CGND-HDA-04420', 'CGND-HDA-04158', 'CGND-HDA-04555', 'CGND-HDA-04935', 'CGND-HDA-04593', 'CGND-HDA-04341', 'CGND-HDA-03347', 'CGND-HDA-04444', 'CGND-HDA-04719', 'CGND-HDA-03324', 'CGND-HDA-03114', 'CGND-HDA-01469', 'CGND-HDA-04523', 'CGND-HDA-04637', 'CGND-HDA-04368', 'CGND-HDA-04615', 'CGND-HDA-04621', 'CGND-HDA-04363', 'CGND-HDA-04299', 'CGND-HDA-04489', 'CGND-HDA-01170', 'CGND-HDA-04282', 'CGND-HDA-02879', 'CGND-HDA-00169', 'CGND-HDA-04577', 'CGND-HDA-04528', 'CGND-HDA-04884', 'CGND-HDA-04436', 'CGND-HDA-04301', 'CGND-HDA-04290', 'CGND-HDA-05302', 'CGND-HDA-04739', 'CGND-HDA-04774', 'CGND-HDA-04579', 'CGND-HDA-04532', 'CGND-HDA-03344', 'CGND-HDA-04627', 'CGND-HDA-01189', 'CGND-HDA-04292', 'CGND-HDA-04635', 'CGND-HDA-04554', 'CGND-HDA-04196', 'CGND-HDA-05311', 'CGND-HDA-04758', 'CGND-HDA-04232', 'CGND-HDA-05501', 'CGND-HDA-00224', 'CGND-HDA-04684', 'CGND-HDA-04139', 'CGND-HDA-03108', 'CGND-HDA-04872', 'CGND-HDA-03005', 'CGND-HDA-03301', 'CGND-HDA-05306', 'CGND-HDA-03401', 'CGND-HDA-04903', 'CGND-HDA-04675', 'CGND-HDA-04408', 'CGND-HDA-04245', 'CGND-HDA-04153', 'CGND-HDA-05303', 'CGND-HDA-04936', 'CGND-HDA-04135', 'CGND-HDA-04704', 'CGND-HDA-04933', 'CGND-HDA-04414', 'CGND-HDA-04273', 'CGND-HDA-04697', 'CGND-HDA-04239', 'CGND-HDA-04224', 'CGND-HDA-04879', 'CGND-HDA-04391', 'CGND-HDA-04771', 'CGND-HDA-04336', 'CGND-HDA-04628', 'CGND-HDA-03342', 'CGND-HDA-05533', 'CGND-HDA-04486', 'CGND-HDA-04439', 'CGND-HDA-04592', 'CGND-HDA-04421', 'CGND-HDA-04584', 'CGND-HDA-04857', 'CGND-HDA-03121', 'CGND-HDA-04670', 'CGND-HDA-05494', 'CGND-HDA-04576', 'CGND-HDA-04561', 'CGND-HDA-04673', 'CGND-HDA-05511', 'CGND-HDA-04311', 'CGND-HDA-04248', 'CGND-HDA-04214', 'CGND-HDA-04388', 'CGND-HDA-03397', 'CGND-HDA-04580', 'CGND-HDA-04212', 'CGND-HDA-04611', 'CGND-HDA-04662', 'CGND-HDA-04253', 'CGND-HDA-04787', 'CGND-HDA-04183', 'CGND-HDA-04492', 'CGND-HDA-04378', 'CGND-HDA-04455', 'CGND-HDA-04164', 'CGND-HDA-04220', 'CGND-HDA-04317', 'CGND-HDA-04529', 'CGND-HDA-04435', 'CGND-HDA-04123', 'CGND-HDA-04669', 'CGND-HDA-04256', 'CGND-HDA-04375', 'CGND-HDA-04326', 'CGND-HDA-04713', 'CGND-HDA-04610', 'CGND-HDA-04869', 'CGND-HDA-04680', 'CGND-HDA-04721', 'CGND-HDA-04944', 'CGND-HDA-04674', 'CGND-HDA-04692', 'CGND-HDA-04890', 'CGND-HDA-04799', 'CGND-HDA-04349', 'CGND-HDA-04866', 'CGND-HDA-04645', 'CGND-HDA-04260', 'CGND-HDA-03306', 'CGND-HDA-04702', 'CGND-HDA-04258', 'CGND-HDA-04353', 'CGND-HDA-04297', 'CGND-HDA-02406-2', 'CGND-HDA-04387', 'CGND-HDA-04784', 'CGND-HDA-04445', 'CGND-HDA-02861', 'CGND-HDA-04631', 'CGND-HDA-04804', 'CGND-HDA-04942', 'CGND-HDA-04126', 'CGND-HDA-04472', 'CGND-HDA-04589', 'CGND-HDA-05296', 'CGND-HDA-04441', 'CGND-HDA-03373', 'CGND-HDA-04641', 'CGND-HDA-04676', 'CGND-HDA-05552', 'CGND-HDA-04778', 'CGND-HDA-04616', 'CGND-HDA-04298', 'CGND-HDA-04437', 'CGND-HDA-03112', 'CGND-HDA-04456', 'CGND-HDA-04660', 'CGND-HDA-04597', 'CGND-HDA-03352', 'CGND-HDA-04663', 'CGND-HDA-04540', 'CGND-HDA-05308', 'CGND-HDA-04959', 'CGND-HDA-04862', 'CGND-HDA-00945', 'CGND-HDA-00186-2', 'CGND-HDA-04565', 'CGND-HDA-04541', 'CGND-HDA-04242', 'CGND-HDA-03354', 'CGND-HDA-04118', 'CGND-HDA-02882', 'CGND-HDA-04544', 'CGND-HDA-04218', 'CGND-HDA-04411', 'CGND-HDA-04777', 'CGND-HDA-03349', 'CGND-HDA-04283', 'CGND-HDA-04318', 'CGND-HDA-04147', 'CGND-HDA-04606', 'CGND-HDA-04896', 'CGND-HDA-04265', 'CGND-HDA-04717', 'CGND-HDA-01184', 'CGND-HDA-04155', 'CGND-HDA-04780', 'CGND-HDA-04351', 'CGND-HDA-04512', 'CGND-HDA-04460', 'CGND-HDA-04175', 'CGND-HDA-02888', 'CGND-HDA-04433', 'CGND-HDA-04238', 'CGND-HDA-04762', 'CGND-HDA-04133', 'CGND-HDA-04243', 'CGND-HDA-03317', 'CGND-HDA-04791', 'CGND-HDA-04634', 'CGND-HDA-04127', 'CGND-HDA-04270', 'CGND-HDA-04601', 'CGND-HDA-04598', 'CGND-HDA-04563', 'CGND-HDA-04124', 'CGND-HDA-04463', 'CGND-HDA-03186', 'CGND-HDA-04204', 'CGND-HDA-04293', 'CGND-HDA-04874', 'CGND-HDA-04860', 'CGND-HDA-04522', 'CGND-HDA-04213', 'CGND-HDA-04599', 'CGND-HDA-01512', 'CGND-HDA-03337', 'CGND-HDA-04480', 'CGND-HDA-05291', 'CGND-HDA-04177', 'CGND-HDA-04906', 'CGND-HDA-04219', 'CGND-HDA-04465', 'CGND-HDA-04449', 'CGND-HDA-04172', 'CGND-HDA-04490', 'CGND-HDA-04484', 'CGND-HDA-04618', 'CGND-HDA-04907', 'CGND-HDA-04666', 'CGND-HDA-04266', 'CGND-HDA-04422', 'CGND-HDA-04817', 'CGND-HDA-04272', 'CGND-HDA-04475', 'CGND-HDA-04385', 'CGND-HDA-04361', 'CGND-HDA-04538', 'CGND-HDA-04502', 'CGND-HDA-04382', 'CGND-HDA-04494', 'CGND-HDA-04701', 'CGND-HDA-04629', 'CGND-HDA-04360', 'CGND-HDA-04545', 'CGND-HDA-02890', 'CGND-HDA-04845', 'CGND-HDA-04564', 'CGND-HDA-04305', 'CGND-HDA-04419', 'CGND-HDA-04269', 'CGND-HDA-04547', 'CGND-HDA-04875', 'CGND-HDA-03303', 'CGND-HDA-03119', 'CGND-HDA-04941', 'CGND-HDA-04714', 'CGND-HDA-04916', 'CGND-HDA-05557', 'CGND-HDA-04339', 'CGND-HDA-04575', 'CGND-HDA-05507', 'CGND-HDA-04112', 'CGND-HDA-04174', 'CGND-HDA-04759', 'CGND-HDA-03335', 'CGND-HDA-04277', 'CGND-HDA-04432-2', 'CGND-HDA-04509', 'CGND-HDA-04281', 'CGND-HDA-04623', 'CGND-HDA-04947', 'CGND-HDA-04551', 'CGND-HDA-04487', 'CGND-HDA-04203', 'CGND-HDA-03379', 'CGND-HDA-01363', 'CGND-HDA-04250', 'CGND-HDA-03107', 'CGND-HDA-04556', 'CGND-HDA-04549', 'CGND-HDA-05514', 'CGND-HDA-04469', 'CGND-HDA-01135', 'CGND-HDA-04622', 'CGND-HDA-03105', 'CGND-HDA-04448', 'CGND-HDA-04267', 'CGND-HDA-04725', 'CGND-HDA-03328', 'CGND-HDA-04304', 'CGND-HDA-03357', 'CGND-HDA-04694', 'CGND-HDA-04276', 'CGND-HDA-04796', 'CGND-HDA-04722', 'CGND-HDA-04262', 'CGND-HDA-04932', 'CGND-HDA-04756', 'CGND-HDA-04178', 'CGND-HDA-04873', 'CGND-HDA-04427', 'CGND-HDA-03191', 'CGND-HDA-04531', 'CGND-HDA-03323', 'CGND-HDA-05529', 'CGND-HDA-03305', 'CGND-HDA-05498', 'CGND-HDA-04892', 'CGND-HDA-04682', 'CGND-HDA-04137', 'CGND-HDA-04954', 'CGND-HDA-04930', 'CGND-HDA-04134', 'CGND-HDA-04525', 'CGND-HDA-04792', 'CGND-HDA-04274', 'CGND-HDA-05500', 'CGND-HDA-04426', 'CGND-HDA-04405', 'CGND-HDA-04342', 'CGND-HDA-04900', 'CGND-HDA-04871', 'CGND-HDA-04961', 'CGND-HDA-04566', 'CGND-HDA-01496', 'CGND-HDA-03371', 'CGND-HDA-04401', 'CGND-HDA-04614', 'CGND-HDA-04345', 'CGND-HDA-02498-1', 'CGND-HDA-04275', 'CGND-HDA-04573', 'CGND-HDA-02058', 'CGND-HDA-04367', 'CGND-HDA-04235', 'CGND-HDA-04418', 'CGND-HDA-04652', 'CGND-HDA-05307', 'CGND-HDA-04948', 'CGND-HDA-04128', 'CGND-HDA-04876', 'CGND-HDA-04210', 'CGND-HDA-03367', 'CGND-HDA-04633', 'CGND-HDA-04107', 'CGND-HDA-01495', 'CGND-HDA-04369', 'CGND-HDA-04393', 'CGND-HDA-02864', 'CGND-HDA-04793', 'CGND-HDA-03360', 'CGND-HDA-04316', 'CGND-HDA-04533', 'CGND-HDA-04681', 'CGND-HDA-04386', 'CGND-HDA-00758', 'CGND-HDA-04808', 'CGND-HDA-04259', 'CGND-HDA-04321', 'CGND-HDA-04136', 'CGND-HDA-03126', 'CGND-HDA-05539', 'CGND-HDA-04233', 'CGND-HDA-04964', 'CGND-HDA-04229', 'CGND-HDA-04560', 'CGND-HDA-03291', 'CGND-HDA-04425', 'CGND-HDA-05301', 'CGND-HDA-04471', 'CGND-HDA-04430', 'CGND-HDA-04805', 'CGND-HDA-05290', 'CGND-HDA-04602', 'CGND-HDA-03336', 'CGND-HDA-04491', 'CGND-HDA-03316', 'CGND-HDA-04302', 'CGND-HDA-04381', 'CGND-HDA-04352', 'CGND-HDA-04092', 'CGND-HDA-04355', 'CGND-HDA-05294', 'CGND-HDA-04264', 'CGND-HDA-04223', 'CGND-HDA-04482', 'CGND-HDA-04237', 'CGND-HDA-03123', 'CGND-HDA-04620', 'CGND-HDA-02896', 'CGND-HDA-04963', 'CGND-HDA-04664', 'CGND-HDA-04106', 'CGND-HDA-04567', 'CGND-HDA-04429', 'CGND-HDA-04929', 'CGND-HDA-04122', 'CGND-HDA-04474', 'CGND-HDA-04458', 'CGND-HDA-04390', 'CGND-HDA-04672', 'CGND-HDA-04146', 'CGND-HDA-04715', 'CGND-HDA-04785', 'CGND-HDA-04938', 'CGND-HDA-04755', 'CGND-HDA-03118', 'CGND-HDA-03343', 'CGND-HDA-03355', 'CGND-HDA-04513', 'CGND-HDA-04109', 'CGND-HDA-04926', 'CGND-HDA-04379', 'CGND-HDA-04605', 'CGND-HDA-04285', 'CGND-HDA-04539', 'CGND-HDA-04649', 'CGND-HDA-04397', 'CGND-HDA-04113', 'CGND-HDA-04303', 'CGND-HDA-04110', 'CGND-HDA-04497', 'CGND-HDA-04271', 'CGND-HDA-04478', 'CGND-HDA-04609', 'CGND-HDA-03307', 'CGND-HDA-01364', 'CGND-HDA-05538', 'CGND-HDA-00172', 'CGND-HDA-04440', 'CGND-HDA-04552', 'CGND-HDA-04590', 'CGND-HDA-01359', 'CGND-HDA-04495', 'CGND-HDA-04186', 'CGND-HDA-04510', 'CGND-HDA-04951', 'CGND-HDA-04646', 'CGND-HDA-04683', 'CGND-HDA-04151', 'CGND-HDA-04626', 'CGND-HDA-04400', 'CGND-HDA-04157', 'CGND-HDA-04483', 'CGND-HDA-04519', 'CGND-HDA-05293', 'CGND-HDA-05548', 'CGND-HDA-04636', 'CGND-HDA-04225', 'CGND-HDA-04913', 'CGND-HDA-04761', 'CGND-HDA-04521', 'CGND-HDA-04569', 'CGND-HDA-04252', 'CGND-HDA-03110', 'CGND-HDA-03368', 'CGND-HDA-04821', 'CGND-HDA-01366', 'CGND-HDA-04389', 'CGND-HDA-04104', 'CGND-HDA-04407', 'CGND-HDA-04383', 'CGND-HDA-04138', 'CGND-HDA-04726', 'CGND-HDA-04452', 'CGND-HDA-04608', 'CGND-HDA-00164', 'CGND-HDA-04925', 'CGND-HDA-04915', 'CGND-HDA-03399', 'CGND-HDA-00747', 'CGND-HDA-04588', 'CGND-HDA-03400', 'CGND-HDA-04570', 'CGND-HDA-04094', 'CGND-HDA-04428', 'CGND-HDA-02881', 'CGND-HDA-04194', 'CGND-HDA-03339', 'CGND-HDA-05503', 'CGND-HDA-04481', 'CGND-HDA-04878', 'CGND-HDA-01178', 'CGND-HDA-04315', 'CGND-HDA-04583', 'CGND-HDA-04800', 'CGND-HDA-04467', 'CGND-HDA-04667', 'CGND-HDA-04394', 'CGND-HDA-04898', 'CGND-HDA-04582', 'CGND-HDA-04156', 'CGND-HDA-04534', 'CGND-HDA-04222', 'CGND-HDA-04374', 'CGND-HDA-04403', 'CGND-HDA-04640', 'CGND-HDA-04416', 'CGND-HDA-04278', 'CGND-HDA-04587', 'CGND-HDA-04600', 'CGND-HDA-04154', 'CGND-HDA-01441', 'CGND-HDA-04179', 'CGND-HDA-04571', 'CGND-HDA-05505', 'CGND-HDA-03377', 'CGND-HDA-04591', 'CGND-HDA-04249', 'CGND-HDA-04527', 'CGND-HDA-05304', 'CGND-HDA-04328', 'CGND-HDA-04462', 'CGND-HDA-04548', 'CGND-HDA-04934', 'CGND-HDA-04619', 'CGND-HDA-04476', 'CGND-HDA-04268', 'CGND-HDA-04468', 'CGND-HDA-04807', 'CGND-HDA-04949', 'CGND-HDA-04173', 'CGND-HDA-04724', 'CGND-HDA-04434', 'CGND-HDA-04829', 'CGND-HDA-02892', 'CGND-HDA-05289', 'CGND-HDA-04574', 'CGND-HDA-04424', 'CGND-HDA-04377', 'CGND-HDA-04322', 'CGND-HDA-05553', 'CGND-HDA-04841', 'CGND-HDA-04117', 'CGND-HDA-04479', 'CGND-HDA-04501', 'CGND-HDA-04413', 'CGND-HDA-04505', 'CGND-HDA-04782', 'CGND-HDA-04295', 'CGND-HDA-04559', 'CGND-HDA-04568', 'CGND-HDA-04184', 'CGND-HDA-04485', 'CGND-HDA-01124', 'CGND-HDA-04362', 'CGND-HDA-04530', 'CGND-HDA-04658', 'CGND-HDA-05512', 'CGND-HDA-04453', 'CGND-HDA-05305', 'CGND-HDA-03361', 'CGND-HDA-04706', 'CGND-HDA-04335', 'CGND-HDA-04227', 'CGND-HDA-04596', 'CGND-HDA-04639', 'CGND-HDA-03129', 'CGND-HDA-04348', 'CGND-HDA-04657', 'CGND-HDA-04200', 'CGND-HDA-04819', 'CGND-HDA-04180', 'CGND-HDA-04765', 'CGND-HDA-04617', 'CGND-HDA-03293', 'CGND-HDA-03313', 'CGND-HDA-04211', 'CGND-HDA-04613', 'CGND-HDA-04149', 'CGND-HDA-04507', 'CGND-HDA-04396', 'CGND-HDA-05496', 'CGND-HDA-04630', 'CGND-HDA-04357', 'CGND-HDA-03362', 'CGND-HDA-04865', 'CGND-HDA-04447', 'CGND-HDA-04111', 'CGND-HDA-04931', 'CGND-HDA-04450', 'CGND-HDA-04638', 'CGND-HDA-04152', 'CGND-HDA-04376', 'CGND-HDA-02872', 'CGND-HDA-04346', 'CGND-HDA-04325', 'CGND-HDA-04323', 'CGND-HDA-04120', 'CGND-HDA-05550', 'CGND-HDA-04454', 'CGND-HDA-04364', 'CGND-HDA-04851', 'CGND-HDA-04231', 'CGND-HDA-03346', 'CGND-HDA-01361', 'CGND-HDA-04928', 'CGND-HDA-05297', 'CGND-HDA-04216', 'CGND-HDA-04208', 'CGND-HDA-04130', 'CGND-HDA-04499', 'CGND-HDA-04950', 'CGND-HDA-04506', 'CGND-HDA-04300', 'CGND-HDA-03302', 'CGND-HDA-02043', 'CGND-HDA-05497', 'CGND-HDA-04642', 'CGND-HDA-05528', 'CGND-HDA-04503', 'CGND-HDA-04280', 'CGND-HDA-04632', 'CGND-HDA-04918', 'CGND-HDA-04585', 'CGND-HDA-04550', 'CGND-HDA-01521', 'CGND-HDA-04415', 'CGND-HDA-04409', 'CGND-HDA-04406', 'CGND-HDA-03187', 'CGND-HDA-04723', 'CGND-HDA-04142', 'CGND-HDA-03358', 'CGND-HDA-04108', 'CGND-HDA-04195', 'CGND-HDA-04880', 'CGND-HDA-04206', 'CGND-HDA-04095', 'CGND-HDA-04612', 'CGND-HDA-05555', 'CGND-HDA-02889', 'CGND-HDA-04854', 'CGND-HDA-04230', 'CGND-HDA-03366', 'CGND-HDA-04960', 'CGND-HDA-05549', 'CGND-HDA-04236', 'CGND-HDA-04399', 'CGND-HDA-04166', 'CGND-HDA-04912', 'CGND-HDA-05502', 'CGND-HDA-04340', 'CGND-HDA-05295', 'CGND-HDA-04553', 'CGND-HDA-04459', 'CGND-HDA-04182', 'CGND-HDA-04412', 'CGND-HDA-05513', 'CGND-HDA-05510', 'CGND-HDA-04718', 'CGND-HDA-04330', 'CGND-HDA-04488', 'CGND-HDA-00924', 'CGND-HDA-03295', 'CGND-HDA-03396', 'CGND-HDA-04190', 'CGND-HDA-04891', 'CGND-HDA-04334', 'CGND-HDA-04140', 'CGND-HDA-04542', 'CGND-HDA-04624', 'CGND-HDA-04337', 'CGND-HDA-04132', 'CGND-HDA-04461', 'CGND-HDA-04423', 'CGND-HDA-01472', 'CGND-HDA-04767', 'CGND-HDA-04644', 'CGND-HDA-04294', 'CGND-HDA-04578', 'CGND-HDA-04442', 'CGND-HDA-04372', 'CGND-HDA-04768', 'CGND-HDA-04653', 'CGND-HDA-02897', 'CGND-HDA-04255', 'CGND-HDA-04327', 'CGND-HDA-05292', 'CGND-HDA-04257', 'CGND-HDA-04144', 'CGND-HDA-04693', 'CGND-HDA-04586', 'CGND-HDA-04504', 'CGND-HDA-04524', 'CGND-HDA-04812', 'CGND-HDA-04402', 'CGND-HDA-04162', 'CGND-HDA-04943', 'CGND-HDA-05556', 'CGND-HDA-04558', 'CGND-HDA-04899', 'CGND-HDA-04520', 'CGND-HDA-04881', 'CGND-HDA-02483-1', 'CGND-HDA-04966', 'CGND-HDA-04188', 'CGND-HDA-04705', 'CGND-HDA-04473', 'CGND-HDA-04716', 'CGND-HDA-04508', 'CGND-HDA-04246', 'CGND-HDA-04691', 'CGND-HDA-03334', 'CGND-HDA-04557', 'CGND-HDA-02866', 'CGND-HDA-03298', 'CGND-HDA-04594', 'CGND-HDA-03333', 'CGND-HDA-04457', 'CGND-HDA-04331', 'CGND-HDA-04207', 'CGND-HDA-04176', 'CGND-HDA-03378', 'CGND-HDA-05499', 'CGND-HDA-04354', 'CGND-HDA-03122', 'CGND-HDA-04101', 'CGND-HDA-04443', 'CGND-HDA-04500', 'CGND-HDA-04438', 'CGND-HDA-03359', 'CGND-HDA-01362', 'CGND-HDA-04451', 'CGND-HDA-04897', 'CGND-HDA-04537', 'CGND-HDA-04431', 'CGND-HDA-04251', 'CGND-HDA-04347', 'CGND-HDA-04643', 'CGND-HDA-04417', 'CGND-HDA-05310', 'CGND-HDA-04221', 'CGND-HDA-04867', 'CGND-HDA-04820', 'CGND-HDA-04287', 'CGND-HDA-04962', 'CGND-HDA-04924', 'CGND-HDA-04161', 'CGND-HDA-04864', 'CGND-HDA-04198', 'CGND-HDA-04908', 'CGND-HDA-04464', 'CGND-HDA-04167', 'CGND-HDA-04883', 'CGND-HDA-04261', 'CGND-HDA-04384', 'CGND-HDA-04395', 'CGND-HDA-04125', 'CGND-HDA-03300', 'CGND-HDA-04813', 'CGND-HDA-04145', 'CGND-HDA-03322', 'CGND-HDA-04870', 'CGND-HDA-05309', 'CGND-HDA-04168', 'CGND-HDA-04939', 'CGND-HDA-01481', 'CGND-HDA-03113', 'CGND-HDA-04957', 'CGND-HDA-04131', 'CGND-HDA-04956', 'CGND-HDA-03375', 'CGND-HDA-05530', 'CGND-HDA-04192', 'CGND-HDA-03106', 'CGND-HDA-04289', 'CGND-HDA-04470', 'CGND-HDA-04607', 'CGND-HDA-04850', 'CGND-HDA-00170', 'CGND-HDA-03382', 'CGND-HDA-04169', 'CGND-HDA-04775', 'CGND-HDA-04202', 'CGND-HDA-03350', 'CGND-HDA-04856', 'CGND-HDA-02893', 'CGND-HDA-04215', 'CGND-HDA-03363', 'CGND-HDA-03287', 'CGND-HDA-04965', 'CGND-HDA-04581', 'CGND-HDA-04392', 'CGND-HDA-04562', 'CGND-HDA-04648', 'CGND-HDA-03365', 'CGND-HDA-02886', 'CGND-HDA-03111'}\n",
              "</pre>\n"
            ],
            "text/plain": [
              "23:25:52.834 | \u001b[36mINFO\u001b[0m    | Flow run\u001b[35m 'strange-earwig'\u001b[0m - \n",
              "missing 852 case IDs:\n",
              " {'CGND-HDA-04543', 'CGND-HDA-04410', 'CGND-HDA-04217', 'CGND-HDA-04148', 'CGND-HDA-03309', 'CGND-HDA-01688', 'CGND-HDA-04703', 'CGND-HDA-04263', 'CGND-HDA-04197', 'CGND-HDA-04193', 'CGND-HDA-04738', 'CGND-HDA-04284', 'CGND-HDA-04773', 'CGND-HDA-04518', 'CGND-HDA-04163', 'CGND-HDA-03381', 'CGND-HDA-04855', 'CGND-HDA-04143', 'CGND-HDA-03299', 'CGND-HDA-04160', 'CGND-HDA-04141', 'CGND-HDA-04946', 'CGND-HDA-05495', 'CGND-HDA-04671', 'CGND-HDA-04241', 'CGND-HDA-01892', 'CGND-HDA-04920', 'CGND-HDA-04350', 'CGND-HDA-04446', 'CGND-HDA-01301', 'CGND-HDA-03117', 'CGND-HDA-04937', 'CGND-HDA-04737', 'CGND-HDA-05506', 'CGND-HDA-03296', 'CGND-HDA-04240', 'CGND-HDA-04536', 'CGND-HDA-04338', 'CGND-HDA-04882', 'CGND-HDA-04150', 'CGND-HDA-04625', 'CGND-HDA-04572', 'CGND-HDA-03380', 'CGND-HDA-04329', 'CGND-HDA-04847', 'CGND-HDA-04105', 'CGND-HDA-04696', 'CGND-HDA-04234', 'CGND-HDA-04371', 'CGND-HDA-04905', 'CGND-HDA-05554', 'CGND-HDA-04603', 'CGND-HDA-05551', 'CGND-HDA-04286', 'CGND-HDA-03115', 'CGND-HDA-04356', 'CGND-HDA-03190', 'CGND-HDA-04496', 'CGND-HDA-04121', 'CGND-HDA-04654', 'CGND-HDA-04296', 'CGND-HDA-04420', 'CGND-HDA-04158', 'CGND-HDA-04555', 'CGND-HDA-04935', 'CGND-HDA-04593', 'CGND-HDA-04341', 'CGND-HDA-03347', 'CGND-HDA-04444', 'CGND-HDA-04719', 'CGND-HDA-03324', 'CGND-HDA-03114', 'CGND-HDA-01469', 'CGND-HDA-04523', 'CGND-HDA-04637', 'CGND-HDA-04368', 'CGND-HDA-04615', 'CGND-HDA-04621', 'CGND-HDA-04363', 'CGND-HDA-04299', 'CGND-HDA-04489', 'CGND-HDA-01170', 'CGND-HDA-04282', 'CGND-HDA-02879', 'CGND-HDA-00169', 'CGND-HDA-04577', 'CGND-HDA-04528', 'CGND-HDA-04884', 'CGND-HDA-04436', 'CGND-HDA-04301', 'CGND-HDA-04290', 'CGND-HDA-05302', 'CGND-HDA-04739', 'CGND-HDA-04774', 'CGND-HDA-04579', 'CGND-HDA-04532', 'CGND-HDA-03344', 'CGND-HDA-04627', 'CGND-HDA-01189', 'CGND-HDA-04292', 'CGND-HDA-04635', 'CGND-HDA-04554', 'CGND-HDA-04196', 'CGND-HDA-05311', 'CGND-HDA-04758', 'CGND-HDA-04232', 'CGND-HDA-05501', 'CGND-HDA-00224', 'CGND-HDA-04684', 'CGND-HDA-04139', 'CGND-HDA-03108', 'CGND-HDA-04872', 'CGND-HDA-03005', 'CGND-HDA-03301', 'CGND-HDA-05306', 'CGND-HDA-03401', 'CGND-HDA-04903', 'CGND-HDA-04675', 'CGND-HDA-04408', 'CGND-HDA-04245', 'CGND-HDA-04153', 'CGND-HDA-05303', 'CGND-HDA-04936', 'CGND-HDA-04135', 'CGND-HDA-04704', 'CGND-HDA-04933', 'CGND-HDA-04414', 'CGND-HDA-04273', 'CGND-HDA-04697', 'CGND-HDA-04239', 'CGND-HDA-04224', 'CGND-HDA-04879', 'CGND-HDA-04391', 'CGND-HDA-04771', 'CGND-HDA-04336', 'CGND-HDA-04628', 'CGND-HDA-03342', 'CGND-HDA-05533', 'CGND-HDA-04486', 'CGND-HDA-04439', 'CGND-HDA-04592', 'CGND-HDA-04421', 'CGND-HDA-04584', 'CGND-HDA-04857', 'CGND-HDA-03121', 'CGND-HDA-04670', 'CGND-HDA-05494', 'CGND-HDA-04576', 'CGND-HDA-04561', 'CGND-HDA-04673', 'CGND-HDA-05511', 'CGND-HDA-04311', 'CGND-HDA-04248', 'CGND-HDA-04214', 'CGND-HDA-04388', 'CGND-HDA-03397', 'CGND-HDA-04580', 'CGND-HDA-04212', 'CGND-HDA-04611', 'CGND-HDA-04662', 'CGND-HDA-04253', 'CGND-HDA-04787', 'CGND-HDA-04183', 'CGND-HDA-04492', 'CGND-HDA-04378', 'CGND-HDA-04455', 'CGND-HDA-04164', 'CGND-HDA-04220', 'CGND-HDA-04317', 'CGND-HDA-04529', 'CGND-HDA-04435', 'CGND-HDA-04123', 'CGND-HDA-04669', 'CGND-HDA-04256', 'CGND-HDA-04375', 'CGND-HDA-04326', 'CGND-HDA-04713', 'CGND-HDA-04610', 'CGND-HDA-04869', 'CGND-HDA-04680', 'CGND-HDA-04721', 'CGND-HDA-04944', 'CGND-HDA-04674', 'CGND-HDA-04692', 'CGND-HDA-04890', 'CGND-HDA-04799', 'CGND-HDA-04349', 'CGND-HDA-04866', 'CGND-HDA-04645', 'CGND-HDA-04260', 'CGND-HDA-03306', 'CGND-HDA-04702', 'CGND-HDA-04258', 'CGND-HDA-04353', 'CGND-HDA-04297', 'CGND-HDA-02406-2', 'CGND-HDA-04387', 'CGND-HDA-04784', 'CGND-HDA-04445', 'CGND-HDA-02861', 'CGND-HDA-04631', 'CGND-HDA-04804', 'CGND-HDA-04942', 'CGND-HDA-04126', 'CGND-HDA-04472', 'CGND-HDA-04589', 'CGND-HDA-05296', 'CGND-HDA-04441', 'CGND-HDA-03373', 'CGND-HDA-04641', 'CGND-HDA-04676', 'CGND-HDA-05552', 'CGND-HDA-04778', 'CGND-HDA-04616', 'CGND-HDA-04298', 'CGND-HDA-04437', 'CGND-HDA-03112', 'CGND-HDA-04456', 'CGND-HDA-04660', 'CGND-HDA-04597', 'CGND-HDA-03352', 'CGND-HDA-04663', 'CGND-HDA-04540', 'CGND-HDA-05308', 'CGND-HDA-04959', 'CGND-HDA-04862', 'CGND-HDA-00945', 'CGND-HDA-00186-2', 'CGND-HDA-04565', 'CGND-HDA-04541', 'CGND-HDA-04242', 'CGND-HDA-03354', 'CGND-HDA-04118', 'CGND-HDA-02882', 'CGND-HDA-04544', 'CGND-HDA-04218', 'CGND-HDA-04411', 'CGND-HDA-04777', 'CGND-HDA-03349', 'CGND-HDA-04283', 'CGND-HDA-04318', 'CGND-HDA-04147', 'CGND-HDA-04606', 'CGND-HDA-04896', 'CGND-HDA-04265', 'CGND-HDA-04717', 'CGND-HDA-01184', 'CGND-HDA-04155', 'CGND-HDA-04780', 'CGND-HDA-04351', 'CGND-HDA-04512', 'CGND-HDA-04460', 'CGND-HDA-04175', 'CGND-HDA-02888', 'CGND-HDA-04433', 'CGND-HDA-04238', 'CGND-HDA-04762', 'CGND-HDA-04133', 'CGND-HDA-04243', 'CGND-HDA-03317', 'CGND-HDA-04791', 'CGND-HDA-04634', 'CGND-HDA-04127', 'CGND-HDA-04270', 'CGND-HDA-04601', 'CGND-HDA-04598', 'CGND-HDA-04563', 'CGND-HDA-04124', 'CGND-HDA-04463', 'CGND-HDA-03186', 'CGND-HDA-04204', 'CGND-HDA-04293', 'CGND-HDA-04874', 'CGND-HDA-04860', 'CGND-HDA-04522', 'CGND-HDA-04213', 'CGND-HDA-04599', 'CGND-HDA-01512', 'CGND-HDA-03337', 'CGND-HDA-04480', 'CGND-HDA-05291', 'CGND-HDA-04177', 'CGND-HDA-04906', 'CGND-HDA-04219', 'CGND-HDA-04465', 'CGND-HDA-04449', 'CGND-HDA-04172', 'CGND-HDA-04490', 'CGND-HDA-04484', 'CGND-HDA-04618', 'CGND-HDA-04907', 'CGND-HDA-04666', 'CGND-HDA-04266', 'CGND-HDA-04422', 'CGND-HDA-04817', 'CGND-HDA-04272', 'CGND-HDA-04475', 'CGND-HDA-04385', 'CGND-HDA-04361', 'CGND-HDA-04538', 'CGND-HDA-04502', 'CGND-HDA-04382', 'CGND-HDA-04494', 'CGND-HDA-04701', 'CGND-HDA-04629', 'CGND-HDA-04360', 'CGND-HDA-04545', 'CGND-HDA-02890', 'CGND-HDA-04845', 'CGND-HDA-04564', 'CGND-HDA-04305', 'CGND-HDA-04419', 'CGND-HDA-04269', 'CGND-HDA-04547', 'CGND-HDA-04875', 'CGND-HDA-03303', 'CGND-HDA-03119', 'CGND-HDA-04941', 'CGND-HDA-04714', 'CGND-HDA-04916', 'CGND-HDA-05557', 'CGND-HDA-04339', 'CGND-HDA-04575', 'CGND-HDA-05507', 'CGND-HDA-04112', 'CGND-HDA-04174', 'CGND-HDA-04759', 'CGND-HDA-03335', 'CGND-HDA-04277', 'CGND-HDA-04432-2', 'CGND-HDA-04509', 'CGND-HDA-04281', 'CGND-HDA-04623', 'CGND-HDA-04947', 'CGND-HDA-04551', 'CGND-HDA-04487', 'CGND-HDA-04203', 'CGND-HDA-03379', 'CGND-HDA-01363', 'CGND-HDA-04250', 'CGND-HDA-03107', 'CGND-HDA-04556', 'CGND-HDA-04549', 'CGND-HDA-05514', 'CGND-HDA-04469', 'CGND-HDA-01135', 'CGND-HDA-04622', 'CGND-HDA-03105', 'CGND-HDA-04448', 'CGND-HDA-04267', 'CGND-HDA-04725', 'CGND-HDA-03328', 'CGND-HDA-04304', 'CGND-HDA-03357', 'CGND-HDA-04694', 'CGND-HDA-04276', 'CGND-HDA-04796', 'CGND-HDA-04722', 'CGND-HDA-04262', 'CGND-HDA-04932', 'CGND-HDA-04756', 'CGND-HDA-04178', 'CGND-HDA-04873', 'CGND-HDA-04427', 'CGND-HDA-03191', 'CGND-HDA-04531', 'CGND-HDA-03323', 'CGND-HDA-05529', 'CGND-HDA-03305', 'CGND-HDA-05498', 'CGND-HDA-04892', 'CGND-HDA-04682', 'CGND-HDA-04137', 'CGND-HDA-04954', 'CGND-HDA-04930', 'CGND-HDA-04134', 'CGND-HDA-04525', 'CGND-HDA-04792', 'CGND-HDA-04274', 'CGND-HDA-05500', 'CGND-HDA-04426', 'CGND-HDA-04405', 'CGND-HDA-04342', 'CGND-HDA-04900', 'CGND-HDA-04871', 'CGND-HDA-04961', 'CGND-HDA-04566', 'CGND-HDA-01496', 'CGND-HDA-03371', 'CGND-HDA-04401', 'CGND-HDA-04614', 'CGND-HDA-04345', 'CGND-HDA-02498-1', 'CGND-HDA-04275', 'CGND-HDA-04573', 'CGND-HDA-02058', 'CGND-HDA-04367', 'CGND-HDA-04235', 'CGND-HDA-04418', 'CGND-HDA-04652', 'CGND-HDA-05307', 'CGND-HDA-04948', 'CGND-HDA-04128', 'CGND-HDA-04876', 'CGND-HDA-04210', 'CGND-HDA-03367', 'CGND-HDA-04633', 'CGND-HDA-04107', 'CGND-HDA-01495', 'CGND-HDA-04369', 'CGND-HDA-04393', 'CGND-HDA-02864', 'CGND-HDA-04793', 'CGND-HDA-03360', 'CGND-HDA-04316', 'CGND-HDA-04533', 'CGND-HDA-04681', 'CGND-HDA-04386', 'CGND-HDA-00758', 'CGND-HDA-04808', 'CGND-HDA-04259', 'CGND-HDA-04321', 'CGND-HDA-04136', 'CGND-HDA-03126', 'CGND-HDA-05539', 'CGND-HDA-04233', 'CGND-HDA-04964', 'CGND-HDA-04229', 'CGND-HDA-04560', 'CGND-HDA-03291', 'CGND-HDA-04425', 'CGND-HDA-05301', 'CGND-HDA-04471', 'CGND-HDA-04430', 'CGND-HDA-04805', 'CGND-HDA-05290', 'CGND-HDA-04602', 'CGND-HDA-03336', 'CGND-HDA-04491', 'CGND-HDA-03316', 'CGND-HDA-04302', 'CGND-HDA-04381', 'CGND-HDA-04352', 'CGND-HDA-04092', 'CGND-HDA-04355', 'CGND-HDA-05294', 'CGND-HDA-04264', 'CGND-HDA-04223', 'CGND-HDA-04482', 'CGND-HDA-04237', 'CGND-HDA-03123', 'CGND-HDA-04620', 'CGND-HDA-02896', 'CGND-HDA-04963', 'CGND-HDA-04664', 'CGND-HDA-04106', 'CGND-HDA-04567', 'CGND-HDA-04429', 'CGND-HDA-04929', 'CGND-HDA-04122', 'CGND-HDA-04474', 'CGND-HDA-04458', 'CGND-HDA-04390', 'CGND-HDA-04672', 'CGND-HDA-04146', 'CGND-HDA-04715', 'CGND-HDA-04785', 'CGND-HDA-04938', 'CGND-HDA-04755', 'CGND-HDA-03118', 'CGND-HDA-03343', 'CGND-HDA-03355', 'CGND-HDA-04513', 'CGND-HDA-04109', 'CGND-HDA-04926', 'CGND-HDA-04379', 'CGND-HDA-04605', 'CGND-HDA-04285', 'CGND-HDA-04539', 'CGND-HDA-04649', 'CGND-HDA-04397', 'CGND-HDA-04113', 'CGND-HDA-04303', 'CGND-HDA-04110', 'CGND-HDA-04497', 'CGND-HDA-04271', 'CGND-HDA-04478', 'CGND-HDA-04609', 'CGND-HDA-03307', 'CGND-HDA-01364', 'CGND-HDA-05538', 'CGND-HDA-00172', 'CGND-HDA-04440', 'CGND-HDA-04552', 'CGND-HDA-04590', 'CGND-HDA-01359', 'CGND-HDA-04495', 'CGND-HDA-04186', 'CGND-HDA-04510', 'CGND-HDA-04951', 'CGND-HDA-04646', 'CGND-HDA-04683', 'CGND-HDA-04151', 'CGND-HDA-04626', 'CGND-HDA-04400', 'CGND-HDA-04157', 'CGND-HDA-04483', 'CGND-HDA-04519', 'CGND-HDA-05293', 'CGND-HDA-05548', 'CGND-HDA-04636', 'CGND-HDA-04225', 'CGND-HDA-04913', 'CGND-HDA-04761', 'CGND-HDA-04521', 'CGND-HDA-04569', 'CGND-HDA-04252', 'CGND-HDA-03110', 'CGND-HDA-03368', 'CGND-HDA-04821', 'CGND-HDA-01366', 'CGND-HDA-04389', 'CGND-HDA-04104', 'CGND-HDA-04407', 'CGND-HDA-04383', 'CGND-HDA-04138', 'CGND-HDA-04726', 'CGND-HDA-04452', 'CGND-HDA-04608', 'CGND-HDA-00164', 'CGND-HDA-04925', 'CGND-HDA-04915', 'CGND-HDA-03399', 'CGND-HDA-00747', 'CGND-HDA-04588', 'CGND-HDA-03400', 'CGND-HDA-04570', 'CGND-HDA-04094', 'CGND-HDA-04428', 'CGND-HDA-02881', 'CGND-HDA-04194', 'CGND-HDA-03339', 'CGND-HDA-05503', 'CGND-HDA-04481', 'CGND-HDA-04878', 'CGND-HDA-01178', 'CGND-HDA-04315', 'CGND-HDA-04583', 'CGND-HDA-04800', 'CGND-HDA-04467', 'CGND-HDA-04667', 'CGND-HDA-04394', 'CGND-HDA-04898', 'CGND-HDA-04582', 'CGND-HDA-04156', 'CGND-HDA-04534', 'CGND-HDA-04222', 'CGND-HDA-04374', 'CGND-HDA-04403', 'CGND-HDA-04640', 'CGND-HDA-04416', 'CGND-HDA-04278', 'CGND-HDA-04587', 'CGND-HDA-04600', 'CGND-HDA-04154', 'CGND-HDA-01441', 'CGND-HDA-04179', 'CGND-HDA-04571', 'CGND-HDA-05505', 'CGND-HDA-03377', 'CGND-HDA-04591', 'CGND-HDA-04249', 'CGND-HDA-04527', 'CGND-HDA-05304', 'CGND-HDA-04328', 'CGND-HDA-04462', 'CGND-HDA-04548', 'CGND-HDA-04934', 'CGND-HDA-04619', 'CGND-HDA-04476', 'CGND-HDA-04268', 'CGND-HDA-04468', 'CGND-HDA-04807', 'CGND-HDA-04949', 'CGND-HDA-04173', 'CGND-HDA-04724', 'CGND-HDA-04434', 'CGND-HDA-04829', 'CGND-HDA-02892', 'CGND-HDA-05289', 'CGND-HDA-04574', 'CGND-HDA-04424', 'CGND-HDA-04377', 'CGND-HDA-04322', 'CGND-HDA-05553', 'CGND-HDA-04841', 'CGND-HDA-04117', 'CGND-HDA-04479', 'CGND-HDA-04501', 'CGND-HDA-04413', 'CGND-HDA-04505', 'CGND-HDA-04782', 'CGND-HDA-04295', 'CGND-HDA-04559', 'CGND-HDA-04568', 'CGND-HDA-04184', 'CGND-HDA-04485', 'CGND-HDA-01124', 'CGND-HDA-04362', 'CGND-HDA-04530', 'CGND-HDA-04658', 'CGND-HDA-05512', 'CGND-HDA-04453', 'CGND-HDA-05305', 'CGND-HDA-03361', 'CGND-HDA-04706', 'CGND-HDA-04335', 'CGND-HDA-04227', 'CGND-HDA-04596', 'CGND-HDA-04639', 'CGND-HDA-03129', 'CGND-HDA-04348', 'CGND-HDA-04657', 'CGND-HDA-04200', 'CGND-HDA-04819', 'CGND-HDA-04180', 'CGND-HDA-04765', 'CGND-HDA-04617', 'CGND-HDA-03293', 'CGND-HDA-03313', 'CGND-HDA-04211', 'CGND-HDA-04613', 'CGND-HDA-04149', 'CGND-HDA-04507', 'CGND-HDA-04396', 'CGND-HDA-05496', 'CGND-HDA-04630', 'CGND-HDA-04357', 'CGND-HDA-03362', 'CGND-HDA-04865', 'CGND-HDA-04447', 'CGND-HDA-04111', 'CGND-HDA-04931', 'CGND-HDA-04450', 'CGND-HDA-04638', 'CGND-HDA-04152', 'CGND-HDA-04376', 'CGND-HDA-02872', 'CGND-HDA-04346', 'CGND-HDA-04325', 'CGND-HDA-04323', 'CGND-HDA-04120', 'CGND-HDA-05550', 'CGND-HDA-04454', 'CGND-HDA-04364', 'CGND-HDA-04851', 'CGND-HDA-04231', 'CGND-HDA-03346', 'CGND-HDA-01361', 'CGND-HDA-04928', 'CGND-HDA-05297', 'CGND-HDA-04216', 'CGND-HDA-04208', 'CGND-HDA-04130', 'CGND-HDA-04499', 'CGND-HDA-04950', 'CGND-HDA-04506', 'CGND-HDA-04300', 'CGND-HDA-03302', 'CGND-HDA-02043', 'CGND-HDA-05497', 'CGND-HDA-04642', 'CGND-HDA-05528', 'CGND-HDA-04503', 'CGND-HDA-04280', 'CGND-HDA-04632', 'CGND-HDA-04918', 'CGND-HDA-04585', 'CGND-HDA-04550', 'CGND-HDA-01521', 'CGND-HDA-04415', 'CGND-HDA-04409', 'CGND-HDA-04406', 'CGND-HDA-03187', 'CGND-HDA-04723', 'CGND-HDA-04142', 'CGND-HDA-03358', 'CGND-HDA-04108', 'CGND-HDA-04195', 'CGND-HDA-04880', 'CGND-HDA-04206', 'CGND-HDA-04095', 'CGND-HDA-04612', 'CGND-HDA-05555', 'CGND-HDA-02889', 'CGND-HDA-04854', 'CGND-HDA-04230', 'CGND-HDA-03366', 'CGND-HDA-04960', 'CGND-HDA-05549', 'CGND-HDA-04236', 'CGND-HDA-04399', 'CGND-HDA-04166', 'CGND-HDA-04912', 'CGND-HDA-05502', 'CGND-HDA-04340', 'CGND-HDA-05295', 'CGND-HDA-04553', 'CGND-HDA-04459', 'CGND-HDA-04182', 'CGND-HDA-04412', 'CGND-HDA-05513', 'CGND-HDA-05510', 'CGND-HDA-04718', 'CGND-HDA-04330', 'CGND-HDA-04488', 'CGND-HDA-00924', 'CGND-HDA-03295', 'CGND-HDA-03396', 'CGND-HDA-04190', 'CGND-HDA-04891', 'CGND-HDA-04334', 'CGND-HDA-04140', 'CGND-HDA-04542', 'CGND-HDA-04624', 'CGND-HDA-04337', 'CGND-HDA-04132', 'CGND-HDA-04461', 'CGND-HDA-04423', 'CGND-HDA-01472', 'CGND-HDA-04767', 'CGND-HDA-04644', 'CGND-HDA-04294', 'CGND-HDA-04578', 'CGND-HDA-04442', 'CGND-HDA-04372', 'CGND-HDA-04768', 'CGND-HDA-04653', 'CGND-HDA-02897', 'CGND-HDA-04255', 'CGND-HDA-04327', 'CGND-HDA-05292', 'CGND-HDA-04257', 'CGND-HDA-04144', 'CGND-HDA-04693', 'CGND-HDA-04586', 'CGND-HDA-04504', 'CGND-HDA-04524', 'CGND-HDA-04812', 'CGND-HDA-04402', 'CGND-HDA-04162', 'CGND-HDA-04943', 'CGND-HDA-05556', 'CGND-HDA-04558', 'CGND-HDA-04899', 'CGND-HDA-04520', 'CGND-HDA-04881', 'CGND-HDA-02483-1', 'CGND-HDA-04966', 'CGND-HDA-04188', 'CGND-HDA-04705', 'CGND-HDA-04473', 'CGND-HDA-04716', 'CGND-HDA-04508', 'CGND-HDA-04246', 'CGND-HDA-04691', 'CGND-HDA-03334', 'CGND-HDA-04557', 'CGND-HDA-02866', 'CGND-HDA-03298', 'CGND-HDA-04594', 'CGND-HDA-03333', 'CGND-HDA-04457', 'CGND-HDA-04331', 'CGND-HDA-04207', 'CGND-HDA-04176', 'CGND-HDA-03378', 'CGND-HDA-05499', 'CGND-HDA-04354', 'CGND-HDA-03122', 'CGND-HDA-04101', 'CGND-HDA-04443', 'CGND-HDA-04500', 'CGND-HDA-04438', 'CGND-HDA-03359', 'CGND-HDA-01362', 'CGND-HDA-04451', 'CGND-HDA-04897', 'CGND-HDA-04537', 'CGND-HDA-04431', 'CGND-HDA-04251', 'CGND-HDA-04347', 'CGND-HDA-04643', 'CGND-HDA-04417', 'CGND-HDA-05310', 'CGND-HDA-04221', 'CGND-HDA-04867', 'CGND-HDA-04820', 'CGND-HDA-04287', 'CGND-HDA-04962', 'CGND-HDA-04924', 'CGND-HDA-04161', 'CGND-HDA-04864', 'CGND-HDA-04198', 'CGND-HDA-04908', 'CGND-HDA-04464', 'CGND-HDA-04167', 'CGND-HDA-04883', 'CGND-HDA-04261', 'CGND-HDA-04384', 'CGND-HDA-04395', 'CGND-HDA-04125', 'CGND-HDA-03300', 'CGND-HDA-04813', 'CGND-HDA-04145', 'CGND-HDA-03322', 'CGND-HDA-04870', 'CGND-HDA-05309', 'CGND-HDA-04168', 'CGND-HDA-04939', 'CGND-HDA-01481', 'CGND-HDA-03113', 'CGND-HDA-04957', 'CGND-HDA-04131', 'CGND-HDA-04956', 'CGND-HDA-03375', 'CGND-HDA-05530', 'CGND-HDA-04192', 'CGND-HDA-03106', 'CGND-HDA-04289', 'CGND-HDA-04470', 'CGND-HDA-04607', 'CGND-HDA-04850', 'CGND-HDA-00170', 'CGND-HDA-03382', 'CGND-HDA-04169', 'CGND-HDA-04775', 'CGND-HDA-04202', 'CGND-HDA-03350', 'CGND-HDA-04856', 'CGND-HDA-02893', 'CGND-HDA-04215', 'CGND-HDA-03363', 'CGND-HDA-03287', 'CGND-HDA-04965', 'CGND-HDA-04581', 'CGND-HDA-04392', 'CGND-HDA-04562', 'CGND-HDA-04648', 'CGND-HDA-03365', 'CGND-HDA-02886', 'CGND-HDA-03111'}\n"
            ]
          },
          "metadata": {},
          "output_type": "display_data"
        },
        {
          "data": {
            "text/html": [
              "<pre style=\"white-space:pre;overflow-x:auto;line-height:normal;font-family:Menlo,'DejaVu Sans Mono',consolas,'Courier New',monospace\">23:25:52.837 | <span style=\"color: #008080; text-decoration-color: #008080\">INFO</span>    | Flow run<span style=\"color: #800080; text-decoration-color: #800080\"> 'strange-earwig'</span> - \n",
              "missing 238 control IDs:\n",
              " {'NA07435', 'HG01769', 'HG01748', 'CGND-HDA-04825', 'NA20816', 'NA12802', 'NA12892', 'NA12877', 'NA06991', 'NA10838', 'CGND-HDA-02752', 'HG01772', 'NA10843', 'CGND-HDA-02883', 'HG01782', 'CGND-HDA-04830', 'NA10850', 'HG00124', 'NA07031', 'CGND-HDA-04922', 'HG02217', 'NA20831', 'CGND-HDA-03170', 'HG01681', 'CGND-HDA-04733', 'NA12344', 'NA07346', 'NA10835', 'HG01538', 'CGND-HDA-05300', 'CGND-HDA-04735', 'NA12343', 'NA07345', 'HG01677', 'CGND-HDA-05299', 'CGND-HDA-02887', 'NA12752', 'HG00147', 'CGND-HDA-02876', 'HG01614', 'CGND-HDA-02736', 'NA12336', 'NA20537', 'CGND-HDA-03297', 'CGND-HDA-02867', 'NA12740', 'CGND-HDA-04849', 'NA10831', 'HG01616', 'NA10837', 'CGND-HDA-03179', 'CGND-HDA-04846', 'CGND-HDA-03325', 'CGND-HDA-04828', 'NA12057', 'NA10856', 'CGND-HDA-03185', 'CGND-HDA-03168', 'CGND-HDA-03184', 'NA12485', 'NA07348', 'NA10846', 'HG01627', 'NA10859', 'NA12817', 'HG02222', 'NA12546', 'HG01601', 'CGND-HDA-00178', 'HG01633', 'HG01526', 'CGND-HDA-04923', 'CGND-HDA-05535', 'HG00104', 'HG01774', 'NA12891', 'CGND-HDA-03356', 'NA10840', 'HG00153', 'HG01764', 'CGND-HDA-02489-1', 'CGND-HDA-02863', 'NA10865', 'HG01523', 'NA10857', 'NA10854', 'NA06995', 'NA10853', 'NA12864', 'NA11891', 'HG01674', 'HG01696', 'HG01701', 'NA11882', 'NA12239', 'CGND-HDA-03318', 'NA10836', 'CGND-HDA-02868', 'NA10860', 'NA10852', 'NA07022', 'HG01520', 'CGND-HDA-03326', 'CGND-HDA-02865', 'CGND-HDA-02891', 'HG01778', 'HG02229', 'HG01711', 'HG01703', 'CGND-HDA-03169', 'CGND-HDA-03171', 'NA12329', 'CGND-HDA-03398', 'HG01511', 'CGND-HDA-02878', 'HG01604', 'HG00248', 'NA07055', 'NA07029', 'HG01671', 'NA10864', 'HG00134', 'NA10830', 'CGND-HDA-04894', 'HG00152', 'NA06993', 'HG01780', 'HG00156', 'CGND-HDA-04824', 'NA20829', 'HG01508', 'CGND-HDA-04848', 'CGND-HDA-03173', 'HG00144', 'NA12875', 'HG02240', 'HG02225', 'HG01514', 'NA11993', 'CGND-HDA-02884', 'HG01517', 'CGND-HDA-04834', 'CGND-HDA-04835', 'NA12375', 'HG01787', 'HG04303', 'NA11839', 'HG01529', 'CGND-HDA-03183', 'NA12386', 'HG02234', 'NA10863', 'HG04301', 'CGND-HDA-03164', 'NA12818', 'HG01698', 'NA12767', 'CGND-HDA-04749', 'CGND-HDA-02869', 'HG00098', 'HG00247', 'CGND-HDA-00165', 'CGND-HDA-00180', 'CGND-HDA-04889', 'HG02218', 'HG01532', 'CGND-HDA-03175', 'HG01622', 'NA12832', 'NA12739', 'HG00135', 'HG01611', 'NA12830', 'NA12056', 'CGND-HDA-02880', 'CGND-HDA-04736', 'CGND-HDA-03294', 'NA12708', 'NA12236', 'CGND-HDA-03172', 'NA12707', 'NA20526', 'NA12274', 'HG01755', 'NA07340', 'NA10855', 'CGND-HDA-00217', 'NA07349', 'HG01763', 'HG01683', 'NA12145', 'CGND-HDA-00216', 'CGND-HDA-03174', 'HG01687', 'HG01667', 'CGND-HDA-02837', 'NA07014', 'NA12146', 'NA10842', 'HG01706', 'HG00249', 'NA10845', 'NA12248', 'NA12335', 'NA12801', 'NA12753', 'NA12376', 'NA10861', 'NA12865', 'NA10839', 'CGND-HDA-00179', 'NA07019', 'HG01621', 'NA12264', 'HG02237', 'CGND-HDA-04734', 'CGND-HDA-03163', 'CGND-HDA-01482', 'HG04302', 'CGND-HDA-03369', 'CGND-HDA-00214', 'NA07045', 'CGND-HDA-02870', 'NA07034', 'HG01609', 'HG01505', 'NA11917', 'CGND-HDA-04822', 'CGND-HDA-05298', 'HG01502', 'NA06997', 'NA12766', 'CGND-HDA-00167', 'HG01629', 'CGND-HDA-00166', 'CGND-HDA-03177', 'CGND-HDA-01167', 'CGND-HDA-03182'}\n",
              "</pre>\n"
            ],
            "text/plain": [
              "23:25:52.837 | \u001b[36mINFO\u001b[0m    | Flow run\u001b[35m 'strange-earwig'\u001b[0m - \n",
              "missing 238 control IDs:\n",
              " {'NA07435', 'HG01769', 'HG01748', 'CGND-HDA-04825', 'NA20816', 'NA12802', 'NA12892', 'NA12877', 'NA06991', 'NA10838', 'CGND-HDA-02752', 'HG01772', 'NA10843', 'CGND-HDA-02883', 'HG01782', 'CGND-HDA-04830', 'NA10850', 'HG00124', 'NA07031', 'CGND-HDA-04922', 'HG02217', 'NA20831', 'CGND-HDA-03170', 'HG01681', 'CGND-HDA-04733', 'NA12344', 'NA07346', 'NA10835', 'HG01538', 'CGND-HDA-05300', 'CGND-HDA-04735', 'NA12343', 'NA07345', 'HG01677', 'CGND-HDA-05299', 'CGND-HDA-02887', 'NA12752', 'HG00147', 'CGND-HDA-02876', 'HG01614', 'CGND-HDA-02736', 'NA12336', 'NA20537', 'CGND-HDA-03297', 'CGND-HDA-02867', 'NA12740', 'CGND-HDA-04849', 'NA10831', 'HG01616', 'NA10837', 'CGND-HDA-03179', 'CGND-HDA-04846', 'CGND-HDA-03325', 'CGND-HDA-04828', 'NA12057', 'NA10856', 'CGND-HDA-03185', 'CGND-HDA-03168', 'CGND-HDA-03184', 'NA12485', 'NA07348', 'NA10846', 'HG01627', 'NA10859', 'NA12817', 'HG02222', 'NA12546', 'HG01601', 'CGND-HDA-00178', 'HG01633', 'HG01526', 'CGND-HDA-04923', 'CGND-HDA-05535', 'HG00104', 'HG01774', 'NA12891', 'CGND-HDA-03356', 'NA10840', 'HG00153', 'HG01764', 'CGND-HDA-02489-1', 'CGND-HDA-02863', 'NA10865', 'HG01523', 'NA10857', 'NA10854', 'NA06995', 'NA10853', 'NA12864', 'NA11891', 'HG01674', 'HG01696', 'HG01701', 'NA11882', 'NA12239', 'CGND-HDA-03318', 'NA10836', 'CGND-HDA-02868', 'NA10860', 'NA10852', 'NA07022', 'HG01520', 'CGND-HDA-03326', 'CGND-HDA-02865', 'CGND-HDA-02891', 'HG01778', 'HG02229', 'HG01711', 'HG01703', 'CGND-HDA-03169', 'CGND-HDA-03171', 'NA12329', 'CGND-HDA-03398', 'HG01511', 'CGND-HDA-02878', 'HG01604', 'HG00248', 'NA07055', 'NA07029', 'HG01671', 'NA10864', 'HG00134', 'NA10830', 'CGND-HDA-04894', 'HG00152', 'NA06993', 'HG01780', 'HG00156', 'CGND-HDA-04824', 'NA20829', 'HG01508', 'CGND-HDA-04848', 'CGND-HDA-03173', 'HG00144', 'NA12875', 'HG02240', 'HG02225', 'HG01514', 'NA11993', 'CGND-HDA-02884', 'HG01517', 'CGND-HDA-04834', 'CGND-HDA-04835', 'NA12375', 'HG01787', 'HG04303', 'NA11839', 'HG01529', 'CGND-HDA-03183', 'NA12386', 'HG02234', 'NA10863', 'HG04301', 'CGND-HDA-03164', 'NA12818', 'HG01698', 'NA12767', 'CGND-HDA-04749', 'CGND-HDA-02869', 'HG00098', 'HG00247', 'CGND-HDA-00165', 'CGND-HDA-00180', 'CGND-HDA-04889', 'HG02218', 'HG01532', 'CGND-HDA-03175', 'HG01622', 'NA12832', 'NA12739', 'HG00135', 'HG01611', 'NA12830', 'NA12056', 'CGND-HDA-02880', 'CGND-HDA-04736', 'CGND-HDA-03294', 'NA12708', 'NA12236', 'CGND-HDA-03172', 'NA12707', 'NA20526', 'NA12274', 'HG01755', 'NA07340', 'NA10855', 'CGND-HDA-00217', 'NA07349', 'HG01763', 'HG01683', 'NA12145', 'CGND-HDA-00216', 'CGND-HDA-03174', 'HG01687', 'HG01667', 'CGND-HDA-02837', 'NA07014', 'NA12146', 'NA10842', 'HG01706', 'HG00249', 'NA10845', 'NA12248', 'NA12335', 'NA12801', 'NA12753', 'NA12376', 'NA10861', 'NA12865', 'NA10839', 'CGND-HDA-00179', 'NA07019', 'HG01621', 'NA12264', 'HG02237', 'CGND-HDA-04734', 'CGND-HDA-03163', 'CGND-HDA-01482', 'HG04302', 'CGND-HDA-03369', 'CGND-HDA-00214', 'NA07045', 'CGND-HDA-02870', 'NA07034', 'HG01609', 'HG01505', 'NA11917', 'CGND-HDA-04822', 'CGND-HDA-05298', 'HG01502', 'NA06997', 'NA12766', 'CGND-HDA-00167', 'HG01629', 'CGND-HDA-00166', 'CGND-HDA-03177', 'CGND-HDA-01167', 'CGND-HDA-03182'}\n"
            ]
          },
          "metadata": {},
          "output_type": "display_data"
        },
        {
          "data": {
            "text/html": [
              "<pre style=\"white-space:pre;overflow-x:auto;line-height:normal;font-family:Menlo,'DejaVu Sans Mono',consolas,'Courier New',monospace\">23:25:58.252 | <span style=\"color: #008080; text-decoration-color: #008080\">INFO</span>    | Flow run<span style=\"color: #800080; text-decoration-color: #800080\"> 'strange-earwig'</span> - \n",
              "2052 cases:\n",
              " {'CGND-HDA-02096', 'CGND-HDA-02759', 'CGND-HDA-00286', 'CGND-HDA-00928', 'CGND-HDA-02467', 'CGND-HDA-00201', 'CGND-HDA-03555', 'CGND-HDA-03445', 'CGND-HDA-00449', 'CGND-HDA-02135', 'CGND-HDA-04042', 'CGND-HDA-01151', 'CGND-HDA-00893', 'CGND-HDA-02317', 'CGND-HDA-00768', 'CGND-HDA-00523', 'CGND-HDA-03066', 'CGND-HDA-04060', 'CGND-HDA-03146', 'CGND-HDA-01160', 'CGND-HDA-00457', 'CGND-HDA-02358', 'CGND-HDA-02980', 'CGND-HDA-03087', 'CGND-HDA-01787', 'CGND-HDA-02699', 'CGND-HDA-00864', 'CGND-HDA-03884', 'CGND-HDA-02928', 'CGND-HDA-01394', 'CGND-HDA-01132', 'CGND-HDA-00872', 'CGND-HDA-00774', 'CGND-HDA-02741', 'CGND-HDA-02430', 'CGND-HDA-02375', 'CGND-HDA-01459', 'CGND-HDA-01070', 'CGND-HDA-00828', 'CGND-HDA-00760', 'CGND-HDA-02975', 'CGND-HDA-02552', 'CGND-HDA-03735', 'CGND-HDA-02900', 'CGND-HDA-01350', 'CGND-HDA-02382', 'CGND-HDA-03145', 'CGND-HDA-01399', 'CGND-HDA-03629', 'CGND-HDA-01821', 'CGND-HDA-00786', 'CGND-HDA-02224', 'CGND-HDA-02285', 'CGND-HDA-00885', 'CGND-HDA-01049', 'CGND-HDA-00870', 'CGND-HDA-00310', 'CGND-HDA-02159', 'CGND-HDA-03910', 'CGND-HDA-04084', 'CGND-HDA-01510', 'CGND-HDA-04053', 'CGND-HDA-01706', 'CGND-HDA-00553', 'CGND-HDA-00988', 'CGND-HDA-03563', 'CGND-HDA-01573', 'CGND-HDA-01129', 'CGND-HDA-00701', 'CGND-HDA-00812', 'CGND-HDA-00477', 'CGND-HDA-01874', 'CGND-HDA-00717', 'CGND-HDA-01219', 'CGND-HDA-03482', 'CGND-HDA-01355', 'CGND-HDA-01165', 'CGND-HDA-04033', 'CGND-HDA-02974', 'CGND-HDA-01215', 'CGND-HDA-02432', 'CGND-HDA-01869', 'CGND-HDA-01263', 'CGND-HDA-03014', 'CGND-HDA-02569', 'CGND-HDA-02731', 'CGND-HDA-02668', 'CGND-HDA-03076', 'CGND-HDA-02206', 'CGND-HDA-01885', 'CGND-HDA-01058', 'CGND-HDA-03930', 'CGND-HDA-00668', 'CGND-HDA-03838', 'CGND-HDA-00514', 'CGND-HDA-01234', 'CGND-HDA-00689', 'CGND-HDA-01275', 'CGND-HDA-01097', 'CGND-HDA-01233', 'CGND-HDA-02775', 'CGND-HDA-01698', 'CGND-HDA-01015', 'CGND-HDA-00926', 'CGND-HDA-01598', 'CGND-HDA-00994', 'CGND-HDA-01577', 'CGND-HDA-00540', 'CGND-HDA-03923', 'CGND-HDA-00916', 'CGND-HDA-00273', 'CGND-HDA-00518', 'CGND-HDA-02935', 'CGND-HDA-01144', 'CGND-HDA-01400', 'CGND-HDA-01237', 'CGND-HDA-00656', 'CGND-HDA-04036', 'CGND-HDA-00203', 'CGND-HDA-02133', 'CGND-HDA-01860', 'CGND-HDA-01194', 'CGND-HDA-03635', 'CGND-HDA-03058', 'CGND-HDA-01158', 'CGND-HDA-02924', 'CGND-HDA-00787', 'CGND-HDA-01044', 'CGND-HDA-00248', 'CGND-HDA-01266', 'CGND-HDA-03502', 'CGND-HDA-00541', 'CGND-HDA-00804', 'CGND-HDA-00461', 'CGND-HDA-01406', 'CGND-HDA-01125', 'CGND-HDA-00819', 'CGND-HDA-00350', 'CGND-HDA-01187', 'CGND-HDA-00659', 'CGND-HDA-03466', 'CGND-HDA-01872', 'CGND-HDA-00905', 'CGND-HDA-00796', 'CGND-HDA-02627', 'CGND-HDA-00866', 'CGND-HDA-01333', 'CGND-HDA-03996', 'CGND-HDA-02860', 'CGND-HDA-02026', 'CGND-HDA-02059', 'CGND-HDA-01710', 'CGND-HDA-01780', 'CGND-HDA-01010', 'CGND-HDA-02023', 'CGND-HDA-01312', 'CGND-HDA-01142', 'CGND-HDA-00059', 'CGND-HDA-02301', 'CGND-HDA-02266', 'CGND-HDA-00021', 'CGND-HDA-02258', 'CGND-HDA-00446', 'CGND-HDA-02468', 'CGND-HDA-01067', 'CGND-HDA-00030', 'CGND-HDA-03673', 'CGND-HDA-02667', 'CGND-HDA-01565', 'CGND-HDA-02422', 'CGND-HDA-03830', 'CGND-HDA-00207', 'CGND-HDA-03925', 'CGND-HDA-03566', 'CGND-HDA-02164', 'CGND-HDA-01198', 'CGND-HDA-00886', 'CGND-HDA-04010', 'CGND-HDA-04071', 'CGND-HDA-00064', 'CGND-HDA-01508', 'CGND-HDA-01850', 'CGND-HDA-03162', 'CGND-HDA-03458', 'CGND-HDA-03894', 'CGND-HDA-03521', 'CGND-HDA-04024', 'CGND-HDA-03571', 'CGND-HDA-02458', 'CGND-HDA-01192', 'CGND-HDA-00443', 'CGND-HDA-03850', 'CGND-HDA-01590', 'CGND-HDA-00074', 'CGND-HDA-04086', 'CGND-HDA-01024', 'CGND-HDA-01122', 'CGND-HDA-01272', 'CGND-HDA-00601', 'CGND-HDA-02339', 'CGND-HDA-01261', 'CGND-HDA-00060', 'CGND-HDA-04058', 'CGND-HDA-02294', 'CGND-HDA-03821', 'CGND-HDA-01686', 'CGND-HDA-01293', 'CGND-HDA-02664', 'CGND-HDA-01774', 'CGND-HDA-02386', 'CGND-HDA-02769', 'CGND-HDA-04015', 'CGND-HDA-01444', 'CGND-HDA-03431', 'CGND-HDA-00935', 'CGND-HDA-02348', 'CGND-HDA-00722', 'CGND-HDA-02225', 'CGND-HDA-00254', 'CGND-HDA-02915', 'CGND-HDA-00979', 'CGND-HDA-00524', 'CGND-HDA-00757', 'CGND-HDA-02089', 'CGND-HDA-04050', 'CGND-HDA-03102', 'CGND-HDA-03916', 'CGND-HDA-01074', 'CGND-HDA-00740', 'CGND-HDA-00644', 'CGND-HDA-00486', 'CGND-HDA-02270', 'CGND-HDA-02210', 'CGND-HDA-00884', 'CGND-HDA-00243', 'CGND-HDA-03716', 'CGND-HDA-03101', 'CGND-HDA-02992', 'CGND-HDA-04026', 'CGND-HDA-02932', 'CGND-HDA-02914', 'CGND-HDA-00513', 'CGND-HDA-01662', 'CGND-HDA-00256', 'CGND-HDA-01509', 'CGND-HDA-01374', 'CGND-HDA-01191', 'CGND-HDA-03192', 'CGND-HDA-01768', 'CGND-HDA-00436', 'CGND-HDA-02570', 'CGND-HDA-01197', 'CGND-HDA-03708', 'CGND-HDA-00912', 'CGND-HDA-00805', 'CGND-HDA-01294', 'CGND-HDA-03450', 'CGND-HDA-01114', 'CGND-HDA-01085', 'CGND-HDA-02453', 'CGND-HDA-01569', 'CGND-HDA-04089', 'CGND-HDA-01411', 'CGND-HDA-02605', 'CGND-HDA-02363', 'CGND-HDA-00522', 'CGND-HDA-03611', 'CGND-HDA-02061', 'CGND-HDA-03606', 'CGND-HDA-01225', 'CGND-HDA-04039', 'CGND-HDA-00654', 'CGND-HDA-00306', 'CGND-HDA-01498', 'CGND-HDA-00985', 'CGND-HDA-02097', 'CGND-HDA-02340', 'CGND-HDA-02342', 'CGND-HDA-01168', 'CGND-HDA-02619', 'CGND-HDA-00881', 'CGND-HDA-00690', 'CGND-HDA-03210', 'CGND-HDA-00279', 'CGND-HDA-03158', 'CGND-HDA-00120', 'CGND-HDA-02033', 'CGND-HDA-03724', 'CGND-HDA-00775', 'CGND-HDA-01214', 'CGND-HDA-01119', 'CGND-HDA-01242', 'CGND-HDA-03872', 'CGND-HDA-04073', 'CGND-HDA-03732', 'CGND-HDA-01107', 'CGND-HDA-03002', 'CGND-HDA-02971', 'CGND-HDA-01054', 'CGND-HDA-00587', 'CGND-HDA-00794', 'CGND-HDA-03143', 'CGND-HDA-00309', 'CGND-HDA-00125', 'CGND-HDA-00057', 'CGND-HDA-02113', 'CGND-HDA-00267', 'CGND-HDA-00788', 'CGND-HDA-01002', 'CGND-HDA-03677', 'CGND-HDA-03067', 'CGND-HDA-02100', 'CGND-HDA-02063', 'CGND-HDA-03055', 'CGND-HDA-02938', 'CGND-HDA-02671', 'CGND-HDA-03062', 'CGND-HDA-03713', 'CGND-HDA-02405', 'CGND-HDA-03088', 'CGND-HDA-01387', 'CGND-HDA-02395', 'CGND-HDA-01820', 'CGND-HDA-02723', 'CGND-HDA-01315', 'CGND-HDA-00879', 'CGND-HDA-01388', 'CGND-HDA-03846', 'CGND-HDA-01814', 'CGND-HDA-01602', 'CGND-HDA-00686', 'CGND-HDA-02391', 'CGND-HDA-03882', 'CGND-HDA-01347', 'CGND-HDA-01273', 'CGND-HDA-02284', 'CGND-HDA-01639', 'CGND-HDA-00715', 'CGND-HDA-01671', 'CGND-HDA-01769', 'CGND-HDA-03890', 'CGND-HDA-03526', 'CGND-HDA-02703', 'CGND-HDA-00714', 'CGND-HDA-04056', 'CGND-HDA-00465', 'CGND-HDA-01045', 'CGND-HDA-01421', 'CGND-HDA-03025', 'CGND-HDA-04017', 'CGND-HDA-00499', 'CGND-HDA-01190', 'CGND-HDA-01139', 'CGND-HDA-02366', 'CGND-HDA-00795', 'CGND-HDA-02392', 'CGND-HDA-01155', 'CGND-HDA-00931', 'CGND-HDA-00265', 'CGND-HDA-00086', 'CGND-HDA-03812', 'CGND-HDA-02989', 'CGND-HDA-02624', 'CGND-HDA-00028', 'CGND-HDA-03446', 'CGND-HDA-02341', 'CGND-HDA-02549', 'CGND-HDA-00539', 'CGND-HDA-02359', 'CGND-HDA-04013', 'CGND-HDA-00759', 'CGND-HDA-00293', 'CGND-HDA-01719', 'CGND-HDA-01262', 'CGND-HDA-01721', 'CGND-HDA-03593', 'CGND-HDA-03064', 'CGND-HDA-01738', 'CGND-HDA-02102', 'CGND-HDA-00204', 'CGND-HDA-00119', 'CGND-HDA-03714', 'CGND-HDA-00458', 'CGND-HDA-03853', 'CGND-HDA-02636', 'CGND-HDA-02349', 'CGND-HDA-00580', 'CGND-HDA-00479', 'CGND-HDA-00200', 'CGND-HDA-03649', 'CGND-HDA-03911', 'CGND-HDA-01227', 'CGND-HDA-01419', 'CGND-HDA-03883', 'CGND-HDA-02561', 'CGND-HDA-04054', 'CGND-HDA-02763', 'CGND-HDA-02205', 'CGND-HDA-00771', 'CGND-HDA-02658', 'CGND-HDA-00468', 'CGND-HDA-03995', 'CGND-HDA-02704', 'CGND-HDA-00275', 'CGND-HDA-03642', 'CGND-HDA-02217', 'CGND-HDA-00964', 'CGND-HDA-02203', 'CGND-HDA-03685', 'CGND-HDA-01019', 'CGND-HDA-02042', 'CGND-HDA-02575', 'CGND-HDA-02121', 'CGND-HDA-01473', 'CGND-HDA-02219', 'CGND-HDA-00111', 'CGND-HDA-00862', 'CGND-HDA-00280', 'CGND-HDA-03046', 'CGND-HDA-02383', 'CGND-HDA-00311', 'CGND-HDA-00958', 'CGND-HDA-03383', 'CGND-HDA-02413', 'CGND-HDA-02156', 'CGND-HDA-01014', 'CGND-HDA-01826', 'CGND-HDA-00773', 'CGND-HDA-00578', 'CGND-HDA-01644', 'CGND-HDA-00682', 'CGND-HDA-01401', 'CGND-HDA-01391', 'CGND-HDA-03536', 'CGND-HDA-01050', 'CGND-HDA-00833', 'CGND-HDA-00892', 'CGND-HDA-04082', 'CGND-HDA-00915', 'CGND-HDA-03454', 'CGND-HDA-02560', 'CGND-HDA-02644', 'CGND-HDA-03072', 'CGND-HDA-02921', 'CGND-HDA-01291', 'CGND-HDA-01783', 'CGND-HDA-02351', 'CGND-HDA-03663', 'CGND-HDA-04063', 'CGND-HDA-00013', 'CGND-HDA-02176', 'CGND-HDA-00880', 'CGND-HDA-01043', 'CGND-HDA-01105', 'CGND-HDA-00262', 'CGND-HDA-03709', 'CGND-HDA-01353', 'CGND-HDA-03499', 'CGND-HDA-00527', 'CGND-HDA-01732', 'CGND-HDA-02612', 'CGND-HDA-00721', 'CGND-HDA-03592', 'CGND-HDA-02654', 'CGND-HDA-01290', 'CGND-HDA-00442', 'CGND-HDA-01005', 'CGND-HDA-00531', 'CGND-HDA-03703', 'CGND-HDA-02606', 'CGND-HDA-02073', 'CGND-HDA-00464', 'CGND-HDA-00018', 'CGND-HDA-01118', 'CGND-HDA-01279', 'CGND-HDA-02275', 'CGND-HDA-00537', 'CGND-HDA-03725', 'CGND-HDA-03879', 'CGND-HDA-03823', 'CGND-HDA-01571', 'CGND-HDA-01128', 'CGND-HDA-01011', 'CGND-HDA-03484', 'CGND-HDA-00698', 'CGND-HDA-02194', 'CGND-HDA-03672', 'CGND-HDA-00685', 'CGND-HDA-01280', 'CGND-HDA-00318', 'CGND-HDA-02978', 'CGND-HDA-03693', 'CGND-HDA-01369', 'CGND-HDA-03899', 'CGND-HDA-02494', 'CGND-HDA-01120', 'CGND-HDA-00329', 'CGND-HDA-00996', 'CGND-HDA-00648', 'CGND-HDA-00932', 'CGND-HDA-03849', 'CGND-HDA-03915', 'CGND-HDA-04078', 'CGND-HDA-02953', 'CGND-HDA-03627', 'CGND-HDA-01895', 'CGND-HDA-03410', 'CGND-HDA-00910', 'CGND-HDA-02377', 'CGND-HDA-02574', 'CGND-HDA-03492', 'CGND-HDA-01591', 'CGND-HDA-02232', 'CGND-HDA-00820', 'CGND-HDA-03640', 'CGND-HDA-02660', 'CGND-HDA-00723', 'CGND-HDA-01060', 'CGND-HDA-01110', 'CGND-HDA-03717', 'CGND-HDA-03000', 'CGND-HDA-00320', 'CGND-HDA-04014', 'CGND-HDA-03819', 'CGND-HDA-01596', 'CGND-HDA-00670', 'CGND-HDA-03618', 'CGND-HDA-01720', 'CGND-HDA-00102', 'CGND-HDA-01193', 'CGND-HDA-02602', 'CGND-HDA-00462', 'CGND-HDA-00213', 'CGND-HDA-03567', 'CGND-HDA-03718', 'CGND-HDA-01724', 'CGND-HDA-01087', 'CGND-HDA-03984', 'CGND-HDA-02472', 'CGND-HDA-02237', 'CGND-HDA-01514', 'CGND-HDA-00971', 'CGND-HDA-00942', 'CGND-HDA-00873', 'CGND-HDA-01344', 'CGND-HDA-03818', 'CGND-HDA-01405', 'CGND-HDA-01470', 'CGND-HDA-03550', 'CGND-HDA-01053', 'CGND-HDA-03909', 'CGND-HDA-03535', 'CGND-HDA-02372', 'CGND-HDA-03844', 'CGND-HDA-01392', 'CGND-HDA-00914', 'CGND-HDA-03461', 'CGND-HDA-01597', 'CGND-HDA-03044', 'CGND-HDA-00697', 'CGND-HDA-01845', 'CGND-HDA-01079', 'CGND-HDA-04064', 'CGND-HDA-03706', 'CGND-HDA-00331', 'CGND-HDA-00898', 'CGND-HDA-00251', 'CGND-HDA-01203', 'CGND-HDA-00728', 'CGND-HDA-03992', 'CGND-HDA-03271', 'CGND-HDA-03404', 'CGND-HDA-02634', 'CGND-HDA-01241', 'CGND-HDA-00617', 'CGND-HDA-00566', 'CGND-HDA-04065', 'CGND-HDA-02858', 'CGND-HDA-01492', 'CGND-HDA-03082', 'CGND-HDA-00818', 'CGND-HDA-00790', 'CGND-HDA-03556', 'CGND-HDA-00739', 'CGND-HDA-00741', 'CGND-HDA-02933', 'CGND-HDA-00494', 'CGND-HDA-02303', 'CGND-HDA-00001', 'CGND-HDA-01631', 'CGND-HDA-01356', 'CGND-HDA-00567', 'CGND-HDA-03630', 'CGND-HDA-02074', 'CGND-HDA-02381', 'CGND-HDA-00729', 'CGND-HDA-02656', 'CGND-HDA-00348', 'CGND-HDA-03679', 'CGND-HDA-02199', 'CGND-HDA-02662', 'CGND-HDA-01884', 'CGND-HDA-02394', 'CGND-HDA-01238', 'CGND-HDA-02241', 'CGND-HDA-02106', 'CGND-HDA-01316', 'CGND-HDA-01136', 'CGND-HDA-01504', 'CGND-HDA-00823', 'CGND-HDA-03609', 'CGND-HDA-03553', 'CGND-HDA-01319', 'CGND-HDA-00781', 'CGND-HDA-03420', 'CGND-HDA-00076', 'CGND-HDA-00332', 'CGND-HDA-03273', 'CGND-HDA-00258', 'CGND-HDA-04041', 'CGND-HDA-03261', 'CGND-HDA-00485', 'CGND-HDA-03463', 'CGND-HDA-00807', 'CGND-HDA-01883', 'CGND-HDA-00816', 'CGND-HDA-03543', 'CGND-HDA-01835', 'CGND-HDA-00447', 'CGND-HDA-00136', 'CGND-HDA-03462', 'CGND-HDA-00455', 'CGND-HDA-02917', 'CGND-HDA-02640', 'CGND-HDA-04068', 'CGND-HDA-02757', 'CGND-HDA-03049', 'CGND-HDA-01357', 'CGND-HDA-02279', 'CGND-HDA-01695', 'CGND-HDA-01164', 'CGND-HDA-00534', 'CGND-HDA-00497', 'CGND-HDA-03509', 'CGND-HDA-02474', 'CGND-HDA-01711', 'CGND-HDA-03616', 'CGND-HDA-03692', 'CGND-HDA-01683', 'CGND-HDA-04045', 'CGND-HDA-03885', 'CGND-HDA-02416', 'CGND-HDA-01076', 'CGND-HDA-02256', 'CGND-HDA-01649', 'CGND-HDA-03601', 'CGND-HDA-03809', 'CGND-HDA-03052', 'CGND-HDA-00098', 'CGND-HDA-00683', 'CGND-HDA-03712', 'CGND-HDA-01603', 'CGND-HDA-01338', 'CGND-HDA-00551', 'CGND-HDA-02160', 'CGND-HDA-02511', 'CGND-HDA-00718', 'CGND-HDA-02345', 'CGND-HDA-03701', 'CGND-HDA-03560', 'CGND-HDA-02632', 'CGND-HDA-03681', 'CGND-HDA-01075', 'CGND-HDA-00268', 'CGND-HDA-01687', 'CGND-HDA-01217', 'CGND-HDA-03503', 'CGND-HDA-03912', 'CGND-HDA-00555', 'CGND-HDA-00876', 'CGND-HDA-00533', 'CGND-HDA-01730', 'CGND-HDA-03422', 'CGND-HDA-01897', 'CGND-HDA-01133', 'CGND-HDA-03624', 'CGND-HDA-00703', 'CGND-HDA-00702', 'CGND-HDA-03394', 'CGND-HDA-03465', 'CGND-HDA-02120', 'CGND-HDA-01300', 'CGND-HDA-03569', 'CGND-HDA-03061', 'CGND-HDA-01150', 'CGND-HDA-01393', 'CGND-HDA-03403', 'CGND-HDA-00295', 'CGND-HDA-02581', 'CGND-HDA-01313', 'CGND-HDA-01230', 'CGND-HDA-03054', 'CGND-HDA-04000', 'CGND-HDA-02146', 'CGND-HDA-01117', 'CGND-HDA-02931', 'CGND-HDA-01801', 'CGND-HDA-03505', 'CGND-HDA-00949', 'CGND-HDA-03993', 'CGND-HDA-02302', 'CGND-HDA-03859', 'CGND-HDA-03832', 'CGND-HDA-03416', 'CGND-HDA-02034', 'CGND-HDA-04022', 'CGND-HDA-01753', 'CGND-HDA-00978', 'CGND-HDA-00871', 'CGND-HDA-00822', 'CGND-HDA-00135', 'CGND-HDA-03270', 'CGND-HDA-02941', 'CGND-HDA-02267', 'CGND-HDA-00973', 'CGND-HDA-03807', 'CGND-HDA-01755', 'CGND-HDA-00784', 'CGND-HDA-01615', 'CGND-HDA-01064', 'CGND-HDA-01696', 'CGND-HDA-02309', 'CGND-HDA-02099', 'CGND-HDA-01856', 'CGND-HDA-03533', 'CGND-HDA-01210', 'CGND-HDA-02218', 'CGND-HDA-02477', 'CGND-HDA-04069', 'CGND-HDA-02221', 'CGND-HDA-02508', 'CGND-HDA-00263', 'CGND-HDA-01288', 'CGND-HDA-01006', 'CGND-HDA-01846', 'CGND-HDA-00520', 'CGND-HDA-01772', 'CGND-HDA-01811', 'CGND-HDA-03529', 'CGND-HDA-04075', 'CGND-HDA-00508', 'CGND-HDA-03043', 'CGND-HDA-02586', 'CGND-HDA-01140', 'CGND-HDA-00778', 'CGND-HDA-02283', 'CGND-HDA-01815', 'CGND-HDA-03471', 'CGND-HDA-01077', 'CGND-HDA-03607', 'CGND-HDA-01012', 'CGND-HDA-01212', 'CGND-HDA-01808', 'CGND-HDA-03156', 'CGND-HDA-03006', 'CGND-HDA-02368', 'CGND-HDA-00726', 'CGND-HDA-01017', 'CGND-HDA-01390', 'CGND-HDA-02629', 'CGND-HDA-02067', 'CGND-HDA-00737', 'CGND-HDA-02657', 'CGND-HDA-00953', 'CGND-HDA-00642', 'CGND-HDA-00528', 'CGND-HDA-04005', 'CGND-HDA-02291', 'CGND-HDA-02329', 'CGND-HDA-01069', 'CGND-HDA-03854', 'CGND-HDA-02289', 'CGND-HDA-03822', 'CGND-HDA-03015', 'CGND-HDA-02144', 'CGND-HDA-01795', 'CGND-HDA-00887', 'CGND-HDA-00570', 'CGND-HDA-00444', 'CGND-HDA-03194', 'CGND-HDA-02125', 'CGND-HDA-01148', 'CGND-HDA-03408', 'CGND-HDA-01224', 'CGND-HDA-02093', 'CGND-HDA-00865', 'CGND-HDA-02332', 'CGND-HDA-03824', 'CGND-HDA-03875', 'CGND-HDA-03841', 'CGND-HDA-01517', 'CGND-HDA-00674', 'CGND-HDA-02104', 'CGND-HDA-02910', 'CGND-HDA-02648', 'CGND-HDA-02254', 'CGND-HDA-01791', 'CGND-HDA-00665', 'CGND-HDA-00552', 'CGND-HDA-00283', 'CGND-HDA-02904', 'CGND-HDA-02643', 'CGND-HDA-01209', 'CGND-HDA-01782', 'CGND-HDA-00056', 'CGND-HDA-03196', 'CGND-HDA-03817', 'CGND-HDA-01351', 'CGND-HDA-00351', 'CGND-HDA-00282', 'CGND-HDA-00448', 'CGND-HDA-00936', 'CGND-HDA-00806', 'CGND-HDA-01647', 'CGND-HDA-01468', 'CGND-HDA-01086', 'CGND-HDA-01576', 'CGND-HDA-00588', 'CGND-HDA-03474', 'CGND-HDA-00658', 'CGND-HDA-01345', 'CGND-HDA-03728', 'CGND-HDA-02957', 'CGND-HDA-02419', 'CGND-HDA-02761', 'CGND-HDA-03860', 'CGND-HDA-00882', 'CGND-HDA-02260', 'CGND-HDA-01116', 'CGND-HDA-01091', 'CGND-HDA-02273', 'CGND-HDA-01287', 'CGND-HDA-00829', 'CGND-HDA-00767', 'CGND-HDA-00271', 'CGND-HDA-03866', 'CGND-HDA-00705', 'CGND-HDA-01026', 'CGND-HDA-00543', 'CGND-HDA-01223', 'CGND-HDA-00538', 'CGND-HDA-00249', 'CGND-HDA-01001', 'CGND-HDA-01109', 'CGND-HDA-00990', 'CGND-HDA-00904', 'CGND-HDA-00810', 'CGND-HDA-02948', 'CGND-HDA-03501', 'CGND-HDA-01066', 'CGND-HDA-02986', 'CGND-HDA-03720', 'CGND-HDA-02114', 'CGND-HDA-02169', 'CGND-HDA-02942', 'CGND-HDA-03723', 'CGND-HDA-02389', 'CGND-HDA-03010', 'CGND-HDA-01851', 'CGND-HDA-03477', 'CGND-HDA-01705', 'CGND-HDA-00917', 'CGND-HDA-03847', 'CGND-HDA-00845', 'CGND-HDA-00830', 'CGND-HDA-00198', 'CGND-HDA-00317', 'CGND-HDA-00302', 'CGND-HDA-00316', 'CGND-HDA-02265', 'CGND-HDA-01113', 'CGND-HDA-02177', 'CGND-HDA-01894', 'CGND-HDA-03619', 'CGND-HDA-03033', 'CGND-HDA-00083', 'CGND-HDA-02578', 'CGND-HDA-03904', 'CGND-HDA-01861', 'CGND-HDA-03678', 'CGND-HDA-02029', 'CGND-HDA-03994', 'CGND-HDA-02326', 'CGND-HDA-02145', 'CGND-HDA-00493', 'CGND-HDA-00488', 'CGND-HDA-01240', 'CGND-HDA-00811', 'CGND-HDA-02645', 'CGND-HDA-00187', 'CGND-HDA-03887', 'CGND-HDA-01397', 'CGND-HDA-02641', 'CGND-HDA-02333', 'CGND-HDA-02290', 'CGND-HDA-02193', 'CGND-HDA-00782', 'CGND-HDA-02469', 'CGND-HDA-02318', 'CGND-HDA-03665', 'CGND-HDA-01784', 'CGND-HDA-02149', 'CGND-HDA-00460', 'CGND-HDA-00725', 'CGND-HDA-02994', 'CGND-HDA-00868', 'CGND-HDA-02280', 'CGND-HDA-03702', 'CGND-HDA-00313', 'CGND-HDA-04040', 'CGND-HDA-00511', 'CGND-HDA-00356', 'CGND-HDA-02962', 'CGND-HDA-01827', 'CGND-HDA-01873', 'CGND-HDA-00287', 'CGND-HDA-01162', 'CGND-HDA-03840', 'CGND-HDA-01786', 'CGND-HDA-00944', 'CGND-HDA-02083', 'CGND-HDA-00657', 'CGND-HDA-00192', 'CGND-HDA-03510', 'CGND-HDA-01708', 'CGND-HDA-02136', 'CGND-HDA-01763', 'CGND-HDA-01380', 'CGND-HDA-01620', 'CGND-HDA-00947', 'CGND-HDA-01822', 'CGND-HDA-01882', 'CGND-HDA-00340', 'CGND-HDA-03409', 'CGND-HDA-03871', 'CGND-HDA-00815', 'CGND-HDA-00755', 'CGND-HDA-02336', 'CGND-HDA-02292', 'CGND-HDA-01858', 'CGND-HDA-00130', 'CGND-HDA-02503', 'CGND-HDA-02593', 'CGND-HDA-02243', 'CGND-HDA-02946', 'CGND-HDA-03031', 'CGND-HDA-03828', 'CGND-HDA-01349', 'CGND-HDA-02124', 'CGND-HDA-02937', 'CGND-HDA-02211', 'CGND-HDA-00349', 'CGND-HDA-01546', 'CGND-HDA-03799', 'CGND-HDA-02577', 'CGND-HDA-03447', 'CGND-HDA-01812', 'CGND-HDA-02431', 'CGND-HDA-00770', 'CGND-HDA-01742', 'CGND-HDA-02250', 'CGND-HDA-03908', 'CGND-HDA-03632', 'CGND-HDA-03077', 'CGND-HDA-02227', 'CGND-HDA-01285', 'CGND-HDA-01101', 'CGND-HDA-00333', 'CGND-HDA-02551', 'CGND-HDA-02456', 'CGND-HDA-00609', 'CGND-HDA-00780', 'CGND-HDA-01659', 'CGND-HDA-02507', 'CGND-HDA-03888', 'CGND-HDA-03843', 'CGND-HDA-03572', 'CGND-HDA-01630', 'CGND-HDA-00907', 'CGND-HDA-02337', 'CGND-HDA-00696', 'CGND-HDA-00344', 'CGND-HDA-02361', 'CGND-HDA-01613', 'CGND-HDA-01009', 'CGND-HDA-00995', 'CGND-HDA-00504', 'CGND-HDA-02603', 'CGND-HDA-02175', 'CGND-HDA-01707', 'CGND-HDA-01157', 'CGND-HDA-03898', 'CGND-HDA-02594', 'CGND-HDA-03568', 'CGND-HDA-03160', 'CGND-HDA-00645', 'CGND-HDA-00577', 'CGND-HDA-00040', 'CGND-HDA-04048', 'CGND-HDA-03639', 'CGND-HDA-00473', 'CGND-HDA-00281', 'CGND-HDA-02712', 'CGND-HDA-03889', 'CGND-HDA-00237', 'CGND-HDA-00004', 'CGND-HDA-02753', 'CGND-HDA-00752', 'CGND-HDA-03272', 'CGND-HDA-01358', 'CGND-HDA-00507', 'CGND-HDA-02563', 'CGND-HDA-03835', 'CGND-HDA-01489', 'CGND-HDA-01088', 'CGND-HDA-02655', 'CGND-HDA-01072', 'CGND-HDA-03628', 'CGND-HDA-02399', 'CGND-HDA-03080', 'CGND-HDA-01833', 'CGND-HDA-04077', 'CGND-HDA-01146', 'CGND-HDA-02646', 'CGND-HDA-02364', 'CGND-HDA-00299', 'CGND-HDA-03623', 'CGND-HDA-03407', 'CGND-HDA-02228', 'CGND-HDA-00933', 'CGND-HDA-03631', 'CGND-HDA-03507', 'CGND-HDA-01839', 'CGND-HDA-01028', 'CGND-HDA-02078', 'CGND-HDA-02972', 'CGND-HDA-01781', 'CGND-HDA-04002', 'CGND-HDA-03508', 'CGND-HDA-02597', 'CGND-HDA-01205', 'CGND-HDA-00789', 'CGND-HDA-03056', 'CGND-HDA-00941', 'CGND-HDA-02417', 'CGND-HDA-00798', 'CGND-HDA-01848', 'CGND-HDA-02323', 'CGND-HDA-00463', 'CGND-HDA-00647', 'CGND-HDA-03814', 'CGND-HDA-01057', 'CGND-HDA-02216', 'CGND-HDA-02249', 'CGND-HDA-01627', 'CGND-HDA-01465', 'CGND-HDA-02116', 'CGND-HDA-00743', 'CGND-HDA-00710', 'CGND-HDA-03983', 'CGND-HDA-01289', 'CGND-HDA-03546', 'CGND-HDA-02306', 'CGND-HDA-00288', 'CGND-HDA-00304', 'CGND-HDA-04083', 'CGND-HDA-00037', 'CGND-HDA-00574', 'CGND-HDA-04091', 'CGND-HDA-01600', 'CGND-HDA-00825', 'CGND-HDA-02035', 'CGND-HDA-02707', 'CGND-HDA-02380', 'CGND-HDA-00699', 'CGND-HDA-00303', 'CGND-HDA-00355', 'CGND-HDA-02590', 'CGND-HDA-03540', 'CGND-HDA-02200', 'CGND-HDA-00867', 'CGND-HDA-02666', 'CGND-HDA-00954', 'CGND-HDA-02331', 'CGND-HDA-01657', 'CGND-HDA-03467', 'CGND-HDA-02705', 'CGND-HDA-03802', 'CGND-HDA-00863', 'CGND-HDA-02130', 'CGND-HDA-00824', 'CGND-HDA-01676', 'CGND-HDA-02066', 'CGND-HDA-01331', 'CGND-HDA-02325', 'CGND-HDA-03641', 'CGND-HDA-01137', 'CGND-HDA-02311', 'CGND-HDA-01766', 'CGND-HDA-04051', 'CGND-HDA-02153', 'CGND-HDA-00673', 'CGND-HDA-00602', 'CGND-HDA-01147', 'CGND-HDA-00688', 'CGND-HDA-03419', 'CGND-HDA-00489', 'CGND-HDA-04067', 'CGND-HDA-01040', 'CGND-HDA-00146', 'CGND-HDA-03262', 'CGND-HDA-04031', 'CGND-HDA-00439', 'CGND-HDA-01063', 'CGND-HDA-02940', 'CGND-HDA-03805', 'CGND-HDA-03682', 'CGND-HDA-00234', 'CGND-HDA-02308', 'CGND-HDA-03415', 'CGND-HDA-02356', 'CGND-HDA-02999', 'CGND-HDA-02330', 'CGND-HDA-00016', 'CGND-HDA-00298', 'CGND-HDA-03921', 'CGND-HDA-02923', 'CGND-HDA-01213', 'CGND-HDA-01570', 'CGND-HDA-01682', 'CGND-HDA-03902', 'CGND-HDA-01328', 'CGND-HDA-00821', 'CGND-HDA-04062', 'CGND-HDA-01838', 'CGND-HDA-01068', 'CGND-HDA-02502', 'CGND-HDA-03917', 'CGND-HDA-04080', 'CGND-HDA-01130', 'CGND-HDA-03637', 'CGND-HDA-00614', 'CGND-HDA-01870', 'CGND-HDA-01081', 'CGND-HDA-03675', 'CGND-HDA-00909', 'CGND-HDA-03848', 'CGND-HDA-02082', 'CGND-HDA-00772', 'CGND-HDA-01032', 'CGND-HDA-00663', 'CGND-HDA-02566', 'CGND-HDA-00719', 'CGND-HDA-01260', 'CGND-HDA-00791', 'CGND-HDA-02478', 'CGND-HDA-02314', 'CGND-HDA-00965', 'CGND-HDA-02418', 'CGND-HDA-03808', 'CGND-HDA-04008', 'CGND-HDA-02898', 'CGND-HDA-03704', 'CGND-HDA-02247', 'CGND-HDA-01099', 'CGND-HDA-01267', 'CGND-HDA-03893', 'CGND-HDA-03478', 'CGND-HDA-00650', 'CGND-HDA-02062', 'CGND-HDA-02352', 'CGND-HDA-01395', 'CGND-HDA-01106', 'CGND-HDA-01034', 'CGND-HDA-01404', 'CGND-HDA-01478', 'CGND-HDA-01446', 'CGND-HDA-03594', 'CGND-HDA-04074', 'CGND-HDA-03851', 'CGND-HDA-00814', 'CGND-HDA-02665', 'CGND-HDA-01153', 'CGND-HDA-01145', 'CGND-HDA-00535', 'CGND-HDA-03438', 'CGND-HDA-01539', 'CGND-HDA-02951', 'CGND-HDA-00202', 'CGND-HDA-03531', 'CGND-HDA-00607', 'CGND-HDA-02465', 'CGND-HDA-01635', 'CGND-HDA-00783', 'CGND-HDA-00776', 'CGND-HDA-01286', 'CGND-HDA-01048', 'CGND-HDA-00716', 'CGND-HDA-03901', 'CGND-HDA-00336', 'CGND-HDA-00745', 'CGND-HDA-00199', 'CGND-HDA-01624', 'CGND-HDA-00793', 'CGND-HDA-00890', 'CGND-HDA-01715', 'CGND-HDA-00753', 'CGND-HDA-00766', 'CGND-HDA-00152', 'CGND-HDA-00888', 'CGND-HDA-00612', 'CGND-HDA-02307', 'CGND-HDA-01161', 'CGND-HDA-01083', 'CGND-HDA-03161', 'CGND-HDA-02115', 'CGND-HDA-00252', 'CGND-HDA-03638', 'CGND-HDA-03395', 'CGND-HDA-00878', 'CGND-HDA-01211', 'CGND-HDA-00026', 'CGND-HDA-04001', 'CGND-HDA-00832', 'CGND-HDA-04047', 'CGND-HDA-03429', 'CGND-HDA-02295', 'CGND-HDA-02064', 'CGND-HDA-02777', 'CGND-HDA-03517', 'CGND-HDA-03414', 'CGND-HDA-01096', 'CGND-HDA-01466', 'CGND-HDA-00927', 'CGND-HDA-00301', 'CGND-HDA-00246', 'CGND-HDA-00754', 'CGND-HDA-03500', 'CGND-HDA-00809', 'CGND-HDA-00024', 'CGND-HDA-00742', 'CGND-HDA-03839', 'CGND-HDA-01736', 'CGND-HDA-00476', 'CGND-HDA-02698', 'CGND-HDA-02387', 'CGND-HDA-01765', 'CGND-HDA-03151', 'CGND-HDA-03976', 'CGND-HDA-01681', 'CGND-HDA-02694', 'CGND-HDA-01277', 'CGND-HDA-02719', 'CGND-HDA-00453', 'CGND-HDA-03480', 'CGND-HDA-00921', 'CGND-HDA-02639', 'CGND-HDA-02496', 'CGND-HDA-03276', 'CGND-HDA-03877', 'CGND-HDA-01382', 'CGND-HDA-03815', 'CGND-HDA-03612', 'CGND-HDA-03078', 'CGND-HDA-00240', 'CGND-HDA-03827', 'CGND-HDA-01370', 'CGND-HDA-03038', 'CGND-HDA-01680', 'CGND-HDA-03856', 'CGND-HDA-00360', 'CGND-HDA-03036', 'CGND-HDA-00377', 'CGND-HDA-01743', 'CGND-HDA-00761', 'CGND-HDA-00244', 'CGND-HDA-01757', 'CGND-HDA-04079', 'CGND-HDA-02350', 'CGND-HDA-03731', 'CGND-HDA-01581', 'CGND-HDA-01790', 'CGND-HDA-00911', 'CGND-HDA-02585', 'CGND-HDA-00558', 'CGND-HDA-00900', 'CGND-HDA-03878', 'CGND-HDA-01023', 'CGND-HDA-02208', 'CGND-HDA-00652', 'CGND-HDA-01222', 'CGND-HDA-03412', 'CGND-HDA-02355', 'CGND-HDA-03881', 'CGND-HDA-01084', 'CGND-HDA-00611', 'CGND-HDA-02620', 'CGND-HDA-02402', 'CGND-HDA-02343', 'CGND-HDA-02697', 'CGND-HDA-01243', 'CGND-HDA-02398', 'CGND-HDA-03195', 'CGND-HDA-01880', 'CGND-HDA-02105', 'CGND-HDA-02148', 'CGND-HDA-01381', 'CGND-HDA-01292', 'CGND-HDA-02310', 'CGND-HDA-00327', 'CGND-HDA-00312', 'CGND-HDA-03695', 'CGND-HDA-02616', 'CGND-HDA-03806', 'CGND-HDA-02235', 'CGND-HDA-02080', 'CGND-HDA-01727', 'CGND-HDA-01270', 'CGND-HDA-04081', 'CGND-HDA-00666', 'CGND-HDA-00664', 'CGND-HDA-01741', 'CGND-HDA-03554', 'CGND-HDA-03434', 'CGND-HDA-03153', 'CGND-HDA-03608', 'CGND-HDA-03032', 'CGND-HDA-01678', 'CGND-HDA-02263', 'CGND-HDA-01156', 'CGND-HDA-00608', 'CGND-HDA-00660', 'CGND-HDA-02572', 'CGND-HDA-00813', 'CGND-HDA-01574', 'CGND-HDA-03574', 'CGND-HDA-02601', 'CGND-HDA-00894', 'CGND-HDA-00635', 'CGND-HDA-00616', 'CGND-HDA-01317', 'CGND-HDA-04072', 'CGND-HDA-03615', 'CGND-HDA-02708', 'CGND-HDA-01100', 'CGND-HDA-00156', 'CGND-HDA-01231', 'CGND-HDA-00748', 'CGND-HDA-02906', 'CGND-HDA-00452', 'CGND-HDA-02717', 'CGND-HDA-00440', 'CGND-HDA-00072', 'CGND-HDA-02903', 'CGND-HDA-02959', 'CGND-HDA-02362', 'CGND-HDA-00322', 'CGND-HDA-02150', 'CGND-HDA-01018', 'CGND-HDA-02598', 'CGND-HDA-01423', 'CGND-HDA-03561', 'CGND-HDA-01298', 'CGND-HDA-03576', 'CGND-HDA-00922', 'CGND-HDA-00300', 'CGND-HDA-01042', 'CGND-HDA-00619', 'CGND-HDA-02393', 'CGND-HDA-00536', 'CGND-HDA-00051', 'CGND-HDA-01785', 'CGND-HDA-02262', 'CGND-HDA-03924', 'CGND-HDA-02209', 'CGND-HDA-03435', 'CGND-HDA-00708', 'CGND-HDA-00454', 'CGND-HDA-02108', 'CGND-HDA-03575', 'CGND-HDA-03045', 'CGND-HDA-01016', 'CGND-HDA-03931', 'CGND-HDA-02622', 'CGND-HDA-01702', 'CGND-HDA-03895', 'CGND-HDA-02925', 'CGND-HDA-00330', 'CGND-HDA-02607', 'CGND-HDA-00548', 'CGND-HDA-03903', 'CGND-HDA-00206', 'CGND-HDA-03489', 'CGND-HDA-01383', 'CGND-HDA-01031', 'CGND-HDA-00869', 'CGND-HDA-01111', 'CGND-HDA-02057', 'CGND-HDA-00353', 'CGND-HDA-02202', 'CGND-HDA-01463', 'CGND-HDA-01134', 'CGND-HDA-00899', 'CGND-HDA-02025', 'CGND-HDA-01523', 'CGND-HDA-02755', 'CGND-HDA-03633', 'CGND-HDA-00680', 'CGND-HDA-02553', 'CGND-HDA-03696', 'CGND-HDA-00242', 'CGND-HDA-01236', 'CGND-HDA-00920', 'CGND-HDA-00896', 'CGND-HDA-00901', 'CGND-HDA-03504', 'CGND-HDA-01154', 'CGND-HDA-03452', 'CGND-HDA-01398', 'CGND-HDA-02197', 'CGND-HDA-00495', 'CGND-HDA-01166', 'CGND-HDA-04055', 'CGND-HDA-04006', 'CGND-HDA-03460', 'CGND-HDA-02895', 'CGND-HDA-03083', 'CGND-HDA-01632', 'CGND-HDA-01332', 'CGND-HDA-00235', 'CGND-HDA-01376', 'CGND-HDA-01199', 'CGND-HDA-00826', 'CGND-HDA-02400', 'CGND-HDA-03690', 'CGND-HDA-03800', 'CGND-HDA-02107', 'CGND-HDA-00671', 'CGND-HDA-00347', 'CGND-HDA-03636', 'CGND-HDA-00314', 'CGND-HDA-02024', 'CGND-HDA-01601', 'CGND-HDA-01731', 'CGND-HDA-02674', 'CGND-HDA-01127', 'CGND-HDA-02293', 'CGND-HDA-03643', 'CGND-HDA-01726', 'CGND-HDA-00662', 'CGND-HDA-00346', 'CGND-HDA-03804', 'CGND-HDA-00669', 'CGND-HDA-02625', 'CGND-HDA-03622', 'CGND-HDA-02230', 'CGND-HDA-03676', 'CGND-HDA-03004', 'CGND-HDA-00622', 'CGND-HDA-02214', 'CGND-HDA-01403', 'CGND-HDA-00323', 'CGND-HDA-00284', 'CGND-HDA-03444', 'CGND-HDA-03155', 'CGND-HDA-03873', 'CGND-HDA-02433', 'CGND-HDA-03577', 'CGND-HDA-03820', 'CGND-HDA-01200', 'CGND-HDA-01572', 'CGND-HDA-00937', 'CGND-HDA-01375', 'CGND-HDA-01373', 'CGND-HDA-01754', 'CGND-HDA-01794', 'CGND-HDA-00735', 'CGND-HDA-04032', 'CGND-HDA-03922', 'CGND-HDA-02370', 'CGND-HDA-02579', 'CGND-HDA-00012', 'CGND-HDA-03981', 'CGND-HDA-03148', 'CGND-HDA-02939', 'CGND-HDA-00606', 'CGND-HDA-02688', 'CGND-HDA-02305', 'CGND-HDA-00326', 'CGND-HDA-02032', 'CGND-HDA-03053', 'CGND-HDA-00480', 'CGND-HDA-00261', 'CGND-HDA-03424', 'CGND-HDA-04052', 'CGND-HDA-00693', 'CGND-HDA-02905', 'CGND-HDA-02998', 'CGND-HDA-00205', 'CGND-HDA-02721', 'CGND-HDA-03857', 'CGND-HDA-03549', 'CGND-HDA-02087', 'CGND-HDA-00576', 'CGND-HDA-00445', 'CGND-HDA-02244', 'CGND-HDA-00672', 'CGND-HDA-00456', 'CGND-HDA-00357', 'CGND-HDA-00902', 'CGND-HDA-00469', 'CGND-HDA-02151', 'CGND-HDA-03905', 'CGND-HDA-01475', 'CGND-HDA-02261', 'CGND-HDA-03891', 'CGND-HDA-02461', 'CGND-HDA-02912', 'CGND-HDA-00022', 'CGND-HDA-02696', 'CGND-HDA-02584', 'CGND-HDA-00600', 'CGND-HDA-00297', 'CGND-HDA-03437', 'CGND-HDA-04012', 'CGND-HDA-02373', 'CGND-HDA-02982', 'CGND-HDA-00929', 'CGND-HDA-01318', 'CGND-HDA-03914', 'CGND-HDA-00960', 'CGND-HDA-02725', 'CGND-HDA-00510', 'CGND-HDA-03880', 'CGND-HDA-01384', 'CGND-HDA-00903', 'CGND-HDA-00569', 'CGND-HDA-00140', 'CGND-HDA-02626', 'CGND-HDA-01704', 'CGND-HDA-03491', 'CGND-HDA-01759', 'CGND-HDA-00651', 'CGND-HDA-00459', 'CGND-HDA-01008', 'CGND-HDA-02614', 'CGND-HDA-02409', 'CGND-HDA-02633', 'CGND-HDA-03449', 'CGND-HDA-04085', 'CGND-HDA-00875', 'CGND-HDA-03433', 'CGND-HDA-02968', 'CGND-HDA-02765', 'CGND-HDA-03684', 'CGND-HDA-03644', 'CGND-HDA-00874', 'CGND-HDA-01752', 'CGND-HDA-03439', 'CGND-HDA-03092', 'CGND-HDA-02554', 'CGND-HDA-03687', 'CGND-HDA-00709', 'CGND-HDA-01052', 'CGND-HDA-02771', 'CGND-HDA-00677', 'CGND-HDA-02103', 'CGND-HDA-00707', 'CGND-HDA-00713', 'CGND-HDA-00451', 'CGND-HDA-02118', 'CGND-HDA-01847', 'CGND-HDA-00308', 'CGND-HDA-00290', 'CGND-HDA-02161', 'CGND-HDA-01239', 'CGND-HDA-03972', 'CGND-HDA-02751', 'CGND-HDA-01062', 'CGND-HDA-00727', 'CGND-HDA-03070', 'CGND-HDA-02588', 'CGND-HDA-02347', 'CGND-HDA-02234', 'CGND-HDA-01163', 'CGND-HDA-00891', 'CGND-HDA-03542', 'CGND-HDA-01668', 'CGND-HDA-00730', 'CGND-HDA-00618', 'CGND-HDA-00586', 'CGND-HDA-03003', 'CGND-HDA-02045', 'CGND-HDA-00951', 'CGND-HDA-02506', 'CGND-HDA-02613', 'CGND-HDA-02213', 'CGND-HDA-00969', 'CGND-HDA-02112', 'CGND-HDA-03513', 'CGND-HDA-02913', 'CGND-HDA-02604', 'CGND-HDA-01126', 'CGND-HDA-02248', 'CGND-HDA-03729', 'CGND-HDA-00667', 'CGND-HDA-00889', 'CGND-HDA-00939', 'CGND-HDA-03726', 'CGND-HDA-03069', 'CGND-HDA-02609', 'CGND-HDA-00114', 'CGND-HDA-01701', 'CGND-HDA-02129', 'CGND-HDA-00695', 'CGND-HDA-03564', 'CGND-HDA-02695', 'CGND-HDA-02396', 'CGND-HDA-00785', 'CGND-HDA-03985', 'CGND-HDA-01027', 'CGND-HDA-01092', 'CGND-HDA-02909', 'CGND-HDA-01595', 'CGND-HDA-03039', 'CGND-HDA-00733', 'CGND-HDA-02346', 'CGND-HDA-03060', 'CGND-HDA-03537', 'CGND-HDA-03436', 'CGND-HDA-00342', 'CGND-HDA-01269', 'CGND-HDA-01206', 'CGND-HDA-03086', 'CGND-HDA-02922', 'CGND-HDA-00276', 'CGND-HDA-02429', 'CGND-HDA-02365', 'CGND-HDA-01354', 'CGND-HDA-03722', 'CGND-HDA-00519', 'CGND-HDA-01226', 'CGND-HDA-01093', 'CGND-HDA-00808', 'CGND-HDA-02277', 'CGND-HDA-03862', 'CGND-HDA-03026', 'CGND-HDA-00270', 'CGND-HDA-00438', 'CGND-HDA-01823', 'CGND-HDA-03485', 'CGND-HDA-01544', 'CGND-HDA-04030', 'CGND-HDA-01579', 'CGND-HDA-02955', 'CGND-HDA-01796', 'CGND-HDA-00250', 'CGND-HDA-00264', 'CGND-HDA-03428', 'CGND-HDA-01341', 'CGND-HDA-00676', 'CGND-HDA-00305', 'CGND-HDA-03825', 'CGND-HDA-03573', 'CGND-HDA-02504', 'CGND-HDA-01859', 'CGND-HDA-02253', 'CGND-HDA-01580', 'CGND-HDA-02036', 'CGND-HDA-01809', 'CGND-HDA-03139', 'CGND-HDA-04049', 'CGND-HDA-02966', 'CGND-HDA-03826', 'CGND-HDA-02631', 'CGND-HDA-02320', 'CGND-HDA-01102', 'CGND-HDA-00190', 'CGND-HDA-01409', 'CGND-HDA-01094', 'CGND-HDA-02729', 'CGND-HDA-01836', 'CGND-HDA-00335', 'CGND-HDA-00639', 'CGND-HDA-03834', 'CGND-HDA-02564', 'CGND-HDA-01281', 'CGND-HDA-02109', 'CGND-HDA-03845', 'CGND-HDA-01013', 'CGND-HDA-02466', 'CGND-HDA-00989', 'CGND-HDA-00581', 'CGND-HDA-03037', 'CGND-HDA-00764', 'CGND-HDA-00615', 'CGND-HDA-02911', 'CGND-HDA-00212', 'CGND-HDA-04021', 'CGND-HDA-02907', 'CGND-HDA-03906', 'CGND-HDA-03094', 'CGND-HDA-00777', 'CGND-HDA-02434', 'CGND-HDA-01733', 'CGND-HDA-01055', 'CGND-HDA-02439', 'CGND-HDA-02958', 'CGND-HDA-01343', 'CGND-HDA-00817', 'CGND-HDA-00712', 'CGND-HDA-02397', 'CGND-HDA-00679', 'CGND-HDA-00582', 'CGND-HDA-01078', 'CGND-HDA-03013', 'CGND-HDA-02404', 'CGND-HDA-01196', 'CGND-HDA-00827', 'CGND-HDA-03603', 'CGND-HDA-03071', 'CGND-HDA-01082', 'CGND-HDA-00294', 'CGND-HDA-03265', 'CGND-HDA-03900', 'CGND-HDA-02090', 'CGND-HDA-02885', 'CGND-HDA-02068', 'CGND-HDA-01095', 'CGND-HDA-01798', 'CGND-HDA-01149', 'CGND-HDA-03022', 'CGND-HDA-02158', 'CGND-HDA-02065', 'CGND-HDA-00661', 'CGND-HDA-02715', 'CGND-HDA-03544', 'CGND-HDA-00700', 'CGND-HDA-03715', 'CGND-HDA-02196', 'CGND-HDA-03605', 'CGND-HDA-01186', 'CGND-HDA-00610', 'CGND-HDA-02700', 'CGND-HDA-02930', 'CGND-HDA-02338', 'CGND-HDA-01513', 'CGND-HDA-02623', 'CGND-HDA-01041', 'CGND-HDA-00736', 'CGND-HDA-00756', 'CGND-HDA-00337', 'CGND-HDA-04016', 'CGND-HDA-00247', 'CGND-HDA-00991', 'CGND-HDA-02084', 'CGND-HDA-01650', 'CGND-HDA-02286', 'CGND-HDA-00589', 'CGND-HDA-02236', 'CGND-HDA-03604', 'CGND-HDA-03442', 'CGND-HDA-03933', 'CGND-HDA-02617', 'CGND-HDA-04023', 'CGND-HDA-00831', 'CGND-HDA-03096', 'CGND-HDA-01065', 'CGND-HDA-00474', 'CGND-HDA-02425', 'CGND-HDA-00571', 'CGND-HDA-00694', 'CGND-HDA-03453', 'CGND-HDA-00687', 'CGND-HDA-01628', 'CGND-HDA-03918', 'CGND-HDA-02573', 'CGND-HDA-03648', 'CGND-HDA-04044', 'CGND-HDA-03613', 'CGND-HDA-00959', 'CGND-HDA-00321', 'CGND-HDA-01810', 'CGND-HDA-01396', 'CGND-HDA-04066', 'CGND-HDA-01271', 'CGND-HDA-00084', 'CGND-HDA-03928', 'CGND-HDA-02637', 'CGND-HDA-01098', 'CGND-HDA-01348', 'CGND-HDA-03405', 'CGND-HDA-01849', 'CGND-HDA-01104', 'CGND-HDA-01896', 'CGND-HDA-01775', 'CGND-HDA-00008', 'CGND-HDA-01282', 'CGND-HDA-00957', 'CGND-HDA-00925', 'CGND-HDA-04035', 'CGND-HDA-02650', 'CGND-HDA-02251', 'CGND-HDA-00763', 'CGND-HDA-00724', 'CGND-HDA-00503', 'CGND-HDA-01090', 'CGND-HDA-03892', 'CGND-HDA-03199', 'CGND-HDA-02517', 'CGND-HDA-00475', 'CGND-HDA-02767', 'CGND-HDA-03998', 'CGND-HDA-02618', 'CGND-HDA-00751', 'CGND-HDA-02288', 'CGND-HDA-02369', 'CGND-HDA-02367', 'CGND-HDA-01629', 'CGND-HDA-01646', 'CGND-HDA-02053', 'CGND-HDA-03200', 'CGND-HDA-02353', 'CGND-HDA-00241', 'CGND-HDA-03733', 'CGND-HDA-00792', 'CGND-HDA-02246', 'CGND-HDA-01645', 'CGND-HDA-00802', 'CGND-HDA-01871', 'CGND-HDA-01751', 'CGND-HDA-00341', 'CGND-HDA-01898', 'CGND-HDA-03135', 'CGND-HDA-01284', 'CGND-HDA-00075', 'CGND-HDA-00512', 'CGND-HDA-00031', 'CGND-HDA-02050', 'CGND-HDA-00738', 'CGND-HDA-00906', 'CGND-HDA-01056', 'CGND-HDA-03614', 'CGND-HDA-04076', 'CGND-HDA-01265', 'CGND-HDA-00919', 'CGND-HDA-02147', 'CGND-HDA-01857', 'CGND-HDA-03929', 'CGND-HDA-01893', 'CGND-HDA-00803', 'CGND-HDA-00646', 'CGND-HDA-01188', 'CGND-HDA-02152', 'CGND-HDA-01299', 'CGND-HDA-02274', 'CGND-HDA-00801', 'CGND-HDA-02661', 'CGND-HDA-02384', 'CGND-HDA-00706', 'CGND-HDA-03041', 'CGND-HDA-01320', 'CGND-HDA-00948', 'CGND-HDA-02044', 'CGND-HDA-01832', 'CGND-HDA-01800', 'CGND-HDA-02255', 'CGND-HDA-01497', 'CGND-HDA-00856', 'CGND-HDA-03451', 'CGND-HDA-03423', 'CGND-HDA-01507', 'CGND-HDA-02360', 'CGND-HDA-02357', 'CGND-HDA-02070', 'CGND-HDA-03511', 'CGND-HDA-01121', 'CGND-HDA-00255', 'CGND-HDA-04009', 'CGND-HDA-01612', 'CGND-HDA-01619', 'CGND-HDA-00675', 'CGND-HDA-03150', 'CGND-HDA-03625', 'CGND-HDA-02550', 'CGND-HDA-04029', 'CGND-HDA-03565', 'CGND-HDA-02424', 'CGND-HDA-02651', 'CGND-HDA-03506', 'CGND-HDA-04059', 'CGND-HDA-02920', 'CGND-HDA-03085', 'CGND-HDA-02098', 'CGND-HDA-00071', 'CGND-HDA-00319', 'CGND-HDA-01038', 'CGND-HDA-01837', 'CGND-HDA-02385', 'CGND-HDA-03008', 'CGND-HDA-01868', 'CGND-HDA-01378', 'CGND-HDA-00491', 'CGND-HDA-01330', 'CGND-HDA-00681', 'CGND-HDA-03997', 'CGND-HDA-03719', 'CGND-HDA-03469', 'CGND-HDA-03547', 'CGND-HDA-00296', 'CGND-HDA-02615', 'CGND-HDA-00277', 'CGND-HDA-02642', 'CGND-HDA-00883', 'CGND-HDA-02934', 'CGND-HDA-01025', 'CGND-HDA-01103', 'CGND-HDA-02072', 'CGND-HDA-02207', 'CGND-HDA-00655', 'CGND-HDA-00649', 'CGND-HDA-00516', 'CGND-HDA-02743', 'CGND-HDA-01051', 'CGND-HDA-00744', 'CGND-HDA-00506', 'CGND-HDA-03558', 'CGND-HDA-02908', 'CGND-HDA-00289', 'CGND-HDA-03570', 'CGND-HDA-02773', 'CGND-HDA-01141', 'CGND-HDA-03551', 'CGND-HDA-01047', 'CGND-HDA-00732', 'CGND-HDA-01803', 'CGND-HDA-01159', 'CGND-HDA-00930', 'CGND-HDA-00579', 'CGND-HDA-03886', 'CGND-HDA-00779', 'CGND-HDA-03042', 'CGND-HDA-00938', 'CGND-HDA-00750', 'CGND-HDA-03907', 'CGND-HDA-00605', 'CGND-HDA-00437', 'CGND-HDA-03091', 'CGND-HDA-00799', 'CGND-HDA-01046', 'CGND-HDA-00583', 'CGND-HDA-00324', 'CGND-HDA-01108', 'CGND-HDA-02899', 'CGND-HDA-02334', 'CGND-HDA-00572', 'CGND-HDA-02028', 'CGND-HDA-00934', 'CGND-HDA-01402', 'CGND-HDA-02212', 'CGND-HDA-03141', 'CGND-HDA-02163', 'CGND-HDA-00731', 'CGND-HDA-00923', 'CGND-HDA-03047', 'CGND-HDA-02414', 'CGND-HDA-01703', 'CGND-HDA-00354', 'CGND-HDA-00259', 'CGND-HDA-02300', 'CGND-HDA-03803', 'CGND-HDA-02412', 'CGND-HDA-03691', 'CGND-HDA-03991', 'CGND-HDA-00208', 'CGND-HDA-02403', 'CGND-HDA-03559', 'CGND-HDA-02321', 'CGND-HDA-00691', 'CGND-HDA-02354', 'CGND-HDA-03068', 'CGND-HDA-00734', 'CGND-HDA-01728', 'CGND-HDA-03861', 'CGND-HDA-02257', 'CGND-HDA-02297', 'CGND-HDA-01712', 'CGND-HDA-00467', 'CGND-HDA-02556', 'CGND-HDA-02647', 'CGND-HDA-00769', 'CGND-HDA-01422', 'CGND-HDA-03193', 'CGND-HDA-00517', 'CGND-HDA-01648', 'CGND-HDA-01824', 'CGND-HDA-04020', 'CGND-HDA-04018', 'CGND-HDA-03413', 'CGND-HDA-03034', 'CGND-HDA-00195', 'CGND-HDA-02599', 'CGND-HDA-00278', 'CGND-HDA-00471', 'CGND-HDA-00101', 'CGND-HDA-03913', 'CGND-HDA-02949', 'CGND-HDA-02313', 'CGND-HDA-01460', 'CGND-HDA-02426', 'CGND-HDA-02739', 'CGND-HDA-00515', 'CGND-HDA-01813', 'CGND-HDA-00274', 'CGND-HDA-03198', 'CGND-HDA-03516', 'CGND-HDA-01779', 'CGND-HDA-00908', 'CGND-HDA-01480', 'CGND-HDA-04037', 'CGND-HDA-03538', 'CGND-HDA-01371', 'CGND-HDA-00720', 'CGND-HDA-00704', 'CGND-HDA-03686', 'CGND-HDA-01461', 'CGND-HDA-01073', 'CGND-HDA-03617', 'CGND-HDA-00482', 'CGND-HDA-03970', 'CGND-HDA-02085', 'CGND-HDA-01685', 'CGND-HDA-02315', 'CGND-HDA-02638', 'CGND-HDA-02278', 'CGND-HDA-00678', 'CGND-HDA-00450', 'CGND-HDA-02322', 'CGND-HDA-02328', 'CGND-HDA-03973', 'CGND-HDA-02996', 'CGND-HDA-01071'}\n",
              "</pre>\n"
            ],
            "text/plain": [
              "23:25:58.252 | \u001b[36mINFO\u001b[0m    | Flow run\u001b[35m 'strange-earwig'\u001b[0m - \n",
              "2052 cases:\n",
              " {'CGND-HDA-02096', 'CGND-HDA-02759', 'CGND-HDA-00286', 'CGND-HDA-00928', 'CGND-HDA-02467', 'CGND-HDA-00201', 'CGND-HDA-03555', 'CGND-HDA-03445', 'CGND-HDA-00449', 'CGND-HDA-02135', 'CGND-HDA-04042', 'CGND-HDA-01151', 'CGND-HDA-00893', 'CGND-HDA-02317', 'CGND-HDA-00768', 'CGND-HDA-00523', 'CGND-HDA-03066', 'CGND-HDA-04060', 'CGND-HDA-03146', 'CGND-HDA-01160', 'CGND-HDA-00457', 'CGND-HDA-02358', 'CGND-HDA-02980', 'CGND-HDA-03087', 'CGND-HDA-01787', 'CGND-HDA-02699', 'CGND-HDA-00864', 'CGND-HDA-03884', 'CGND-HDA-02928', 'CGND-HDA-01394', 'CGND-HDA-01132', 'CGND-HDA-00872', 'CGND-HDA-00774', 'CGND-HDA-02741', 'CGND-HDA-02430', 'CGND-HDA-02375', 'CGND-HDA-01459', 'CGND-HDA-01070', 'CGND-HDA-00828', 'CGND-HDA-00760', 'CGND-HDA-02975', 'CGND-HDA-02552', 'CGND-HDA-03735', 'CGND-HDA-02900', 'CGND-HDA-01350', 'CGND-HDA-02382', 'CGND-HDA-03145', 'CGND-HDA-01399', 'CGND-HDA-03629', 'CGND-HDA-01821', 'CGND-HDA-00786', 'CGND-HDA-02224', 'CGND-HDA-02285', 'CGND-HDA-00885', 'CGND-HDA-01049', 'CGND-HDA-00870', 'CGND-HDA-00310', 'CGND-HDA-02159', 'CGND-HDA-03910', 'CGND-HDA-04084', 'CGND-HDA-01510', 'CGND-HDA-04053', 'CGND-HDA-01706', 'CGND-HDA-00553', 'CGND-HDA-00988', 'CGND-HDA-03563', 'CGND-HDA-01573', 'CGND-HDA-01129', 'CGND-HDA-00701', 'CGND-HDA-00812', 'CGND-HDA-00477', 'CGND-HDA-01874', 'CGND-HDA-00717', 'CGND-HDA-01219', 'CGND-HDA-03482', 'CGND-HDA-01355', 'CGND-HDA-01165', 'CGND-HDA-04033', 'CGND-HDA-02974', 'CGND-HDA-01215', 'CGND-HDA-02432', 'CGND-HDA-01869', 'CGND-HDA-01263', 'CGND-HDA-03014', 'CGND-HDA-02569', 'CGND-HDA-02731', 'CGND-HDA-02668', 'CGND-HDA-03076', 'CGND-HDA-02206', 'CGND-HDA-01885', 'CGND-HDA-01058', 'CGND-HDA-03930', 'CGND-HDA-00668', 'CGND-HDA-03838', 'CGND-HDA-00514', 'CGND-HDA-01234', 'CGND-HDA-00689', 'CGND-HDA-01275', 'CGND-HDA-01097', 'CGND-HDA-01233', 'CGND-HDA-02775', 'CGND-HDA-01698', 'CGND-HDA-01015', 'CGND-HDA-00926', 'CGND-HDA-01598', 'CGND-HDA-00994', 'CGND-HDA-01577', 'CGND-HDA-00540', 'CGND-HDA-03923', 'CGND-HDA-00916', 'CGND-HDA-00273', 'CGND-HDA-00518', 'CGND-HDA-02935', 'CGND-HDA-01144', 'CGND-HDA-01400', 'CGND-HDA-01237', 'CGND-HDA-00656', 'CGND-HDA-04036', 'CGND-HDA-00203', 'CGND-HDA-02133', 'CGND-HDA-01860', 'CGND-HDA-01194', 'CGND-HDA-03635', 'CGND-HDA-03058', 'CGND-HDA-01158', 'CGND-HDA-02924', 'CGND-HDA-00787', 'CGND-HDA-01044', 'CGND-HDA-00248', 'CGND-HDA-01266', 'CGND-HDA-03502', 'CGND-HDA-00541', 'CGND-HDA-00804', 'CGND-HDA-00461', 'CGND-HDA-01406', 'CGND-HDA-01125', 'CGND-HDA-00819', 'CGND-HDA-00350', 'CGND-HDA-01187', 'CGND-HDA-00659', 'CGND-HDA-03466', 'CGND-HDA-01872', 'CGND-HDA-00905', 'CGND-HDA-00796', 'CGND-HDA-02627', 'CGND-HDA-00866', 'CGND-HDA-01333', 'CGND-HDA-03996', 'CGND-HDA-02860', 'CGND-HDA-02026', 'CGND-HDA-02059', 'CGND-HDA-01710', 'CGND-HDA-01780', 'CGND-HDA-01010', 'CGND-HDA-02023', 'CGND-HDA-01312', 'CGND-HDA-01142', 'CGND-HDA-00059', 'CGND-HDA-02301', 'CGND-HDA-02266', 'CGND-HDA-00021', 'CGND-HDA-02258', 'CGND-HDA-00446', 'CGND-HDA-02468', 'CGND-HDA-01067', 'CGND-HDA-00030', 'CGND-HDA-03673', 'CGND-HDA-02667', 'CGND-HDA-01565', 'CGND-HDA-02422', 'CGND-HDA-03830', 'CGND-HDA-00207', 'CGND-HDA-03925', 'CGND-HDA-03566', 'CGND-HDA-02164', 'CGND-HDA-01198', 'CGND-HDA-00886', 'CGND-HDA-04010', 'CGND-HDA-04071', 'CGND-HDA-00064', 'CGND-HDA-01508', 'CGND-HDA-01850', 'CGND-HDA-03162', 'CGND-HDA-03458', 'CGND-HDA-03894', 'CGND-HDA-03521', 'CGND-HDA-04024', 'CGND-HDA-03571', 'CGND-HDA-02458', 'CGND-HDA-01192', 'CGND-HDA-00443', 'CGND-HDA-03850', 'CGND-HDA-01590', 'CGND-HDA-00074', 'CGND-HDA-04086', 'CGND-HDA-01024', 'CGND-HDA-01122', 'CGND-HDA-01272', 'CGND-HDA-00601', 'CGND-HDA-02339', 'CGND-HDA-01261', 'CGND-HDA-00060', 'CGND-HDA-04058', 'CGND-HDA-02294', 'CGND-HDA-03821', 'CGND-HDA-01686', 'CGND-HDA-01293', 'CGND-HDA-02664', 'CGND-HDA-01774', 'CGND-HDA-02386', 'CGND-HDA-02769', 'CGND-HDA-04015', 'CGND-HDA-01444', 'CGND-HDA-03431', 'CGND-HDA-00935', 'CGND-HDA-02348', 'CGND-HDA-00722', 'CGND-HDA-02225', 'CGND-HDA-00254', 'CGND-HDA-02915', 'CGND-HDA-00979', 'CGND-HDA-00524', 'CGND-HDA-00757', 'CGND-HDA-02089', 'CGND-HDA-04050', 'CGND-HDA-03102', 'CGND-HDA-03916', 'CGND-HDA-01074', 'CGND-HDA-00740', 'CGND-HDA-00644', 'CGND-HDA-00486', 'CGND-HDA-02270', 'CGND-HDA-02210', 'CGND-HDA-00884', 'CGND-HDA-00243', 'CGND-HDA-03716', 'CGND-HDA-03101', 'CGND-HDA-02992', 'CGND-HDA-04026', 'CGND-HDA-02932', 'CGND-HDA-02914', 'CGND-HDA-00513', 'CGND-HDA-01662', 'CGND-HDA-00256', 'CGND-HDA-01509', 'CGND-HDA-01374', 'CGND-HDA-01191', 'CGND-HDA-03192', 'CGND-HDA-01768', 'CGND-HDA-00436', 'CGND-HDA-02570', 'CGND-HDA-01197', 'CGND-HDA-03708', 'CGND-HDA-00912', 'CGND-HDA-00805', 'CGND-HDA-01294', 'CGND-HDA-03450', 'CGND-HDA-01114', 'CGND-HDA-01085', 'CGND-HDA-02453', 'CGND-HDA-01569', 'CGND-HDA-04089', 'CGND-HDA-01411', 'CGND-HDA-02605', 'CGND-HDA-02363', 'CGND-HDA-00522', 'CGND-HDA-03611', 'CGND-HDA-02061', 'CGND-HDA-03606', 'CGND-HDA-01225', 'CGND-HDA-04039', 'CGND-HDA-00654', 'CGND-HDA-00306', 'CGND-HDA-01498', 'CGND-HDA-00985', 'CGND-HDA-02097', 'CGND-HDA-02340', 'CGND-HDA-02342', 'CGND-HDA-01168', 'CGND-HDA-02619', 'CGND-HDA-00881', 'CGND-HDA-00690', 'CGND-HDA-03210', 'CGND-HDA-00279', 'CGND-HDA-03158', 'CGND-HDA-00120', 'CGND-HDA-02033', 'CGND-HDA-03724', 'CGND-HDA-00775', 'CGND-HDA-01214', 'CGND-HDA-01119', 'CGND-HDA-01242', 'CGND-HDA-03872', 'CGND-HDA-04073', 'CGND-HDA-03732', 'CGND-HDA-01107', 'CGND-HDA-03002', 'CGND-HDA-02971', 'CGND-HDA-01054', 'CGND-HDA-00587', 'CGND-HDA-00794', 'CGND-HDA-03143', 'CGND-HDA-00309', 'CGND-HDA-00125', 'CGND-HDA-00057', 'CGND-HDA-02113', 'CGND-HDA-00267', 'CGND-HDA-00788', 'CGND-HDA-01002', 'CGND-HDA-03677', 'CGND-HDA-03067', 'CGND-HDA-02100', 'CGND-HDA-02063', 'CGND-HDA-03055', 'CGND-HDA-02938', 'CGND-HDA-02671', 'CGND-HDA-03062', 'CGND-HDA-03713', 'CGND-HDA-02405', 'CGND-HDA-03088', 'CGND-HDA-01387', 'CGND-HDA-02395', 'CGND-HDA-01820', 'CGND-HDA-02723', 'CGND-HDA-01315', 'CGND-HDA-00879', 'CGND-HDA-01388', 'CGND-HDA-03846', 'CGND-HDA-01814', 'CGND-HDA-01602', 'CGND-HDA-00686', 'CGND-HDA-02391', 'CGND-HDA-03882', 'CGND-HDA-01347', 'CGND-HDA-01273', 'CGND-HDA-02284', 'CGND-HDA-01639', 'CGND-HDA-00715', 'CGND-HDA-01671', 'CGND-HDA-01769', 'CGND-HDA-03890', 'CGND-HDA-03526', 'CGND-HDA-02703', 'CGND-HDA-00714', 'CGND-HDA-04056', 'CGND-HDA-00465', 'CGND-HDA-01045', 'CGND-HDA-01421', 'CGND-HDA-03025', 'CGND-HDA-04017', 'CGND-HDA-00499', 'CGND-HDA-01190', 'CGND-HDA-01139', 'CGND-HDA-02366', 'CGND-HDA-00795', 'CGND-HDA-02392', 'CGND-HDA-01155', 'CGND-HDA-00931', 'CGND-HDA-00265', 'CGND-HDA-00086', 'CGND-HDA-03812', 'CGND-HDA-02989', 'CGND-HDA-02624', 'CGND-HDA-00028', 'CGND-HDA-03446', 'CGND-HDA-02341', 'CGND-HDA-02549', 'CGND-HDA-00539', 'CGND-HDA-02359', 'CGND-HDA-04013', 'CGND-HDA-00759', 'CGND-HDA-00293', 'CGND-HDA-01719', 'CGND-HDA-01262', 'CGND-HDA-01721', 'CGND-HDA-03593', 'CGND-HDA-03064', 'CGND-HDA-01738', 'CGND-HDA-02102', 'CGND-HDA-00204', 'CGND-HDA-00119', 'CGND-HDA-03714', 'CGND-HDA-00458', 'CGND-HDA-03853', 'CGND-HDA-02636', 'CGND-HDA-02349', 'CGND-HDA-00580', 'CGND-HDA-00479', 'CGND-HDA-00200', 'CGND-HDA-03649', 'CGND-HDA-03911', 'CGND-HDA-01227', 'CGND-HDA-01419', 'CGND-HDA-03883', 'CGND-HDA-02561', 'CGND-HDA-04054', 'CGND-HDA-02763', 'CGND-HDA-02205', 'CGND-HDA-00771', 'CGND-HDA-02658', 'CGND-HDA-00468', 'CGND-HDA-03995', 'CGND-HDA-02704', 'CGND-HDA-00275', 'CGND-HDA-03642', 'CGND-HDA-02217', 'CGND-HDA-00964', 'CGND-HDA-02203', 'CGND-HDA-03685', 'CGND-HDA-01019', 'CGND-HDA-02042', 'CGND-HDA-02575', 'CGND-HDA-02121', 'CGND-HDA-01473', 'CGND-HDA-02219', 'CGND-HDA-00111', 'CGND-HDA-00862', 'CGND-HDA-00280', 'CGND-HDA-03046', 'CGND-HDA-02383', 'CGND-HDA-00311', 'CGND-HDA-00958', 'CGND-HDA-03383', 'CGND-HDA-02413', 'CGND-HDA-02156', 'CGND-HDA-01014', 'CGND-HDA-01826', 'CGND-HDA-00773', 'CGND-HDA-00578', 'CGND-HDA-01644', 'CGND-HDA-00682', 'CGND-HDA-01401', 'CGND-HDA-01391', 'CGND-HDA-03536', 'CGND-HDA-01050', 'CGND-HDA-00833', 'CGND-HDA-00892', 'CGND-HDA-04082', 'CGND-HDA-00915', 'CGND-HDA-03454', 'CGND-HDA-02560', 'CGND-HDA-02644', 'CGND-HDA-03072', 'CGND-HDA-02921', 'CGND-HDA-01291', 'CGND-HDA-01783', 'CGND-HDA-02351', 'CGND-HDA-03663', 'CGND-HDA-04063', 'CGND-HDA-00013', 'CGND-HDA-02176', 'CGND-HDA-00880', 'CGND-HDA-01043', 'CGND-HDA-01105', 'CGND-HDA-00262', 'CGND-HDA-03709', 'CGND-HDA-01353', 'CGND-HDA-03499', 'CGND-HDA-00527', 'CGND-HDA-01732', 'CGND-HDA-02612', 'CGND-HDA-00721', 'CGND-HDA-03592', 'CGND-HDA-02654', 'CGND-HDA-01290', 'CGND-HDA-00442', 'CGND-HDA-01005', 'CGND-HDA-00531', 'CGND-HDA-03703', 'CGND-HDA-02606', 'CGND-HDA-02073', 'CGND-HDA-00464', 'CGND-HDA-00018', 'CGND-HDA-01118', 'CGND-HDA-01279', 'CGND-HDA-02275', 'CGND-HDA-00537', 'CGND-HDA-03725', 'CGND-HDA-03879', 'CGND-HDA-03823', 'CGND-HDA-01571', 'CGND-HDA-01128', 'CGND-HDA-01011', 'CGND-HDA-03484', 'CGND-HDA-00698', 'CGND-HDA-02194', 'CGND-HDA-03672', 'CGND-HDA-00685', 'CGND-HDA-01280', 'CGND-HDA-00318', 'CGND-HDA-02978', 'CGND-HDA-03693', 'CGND-HDA-01369', 'CGND-HDA-03899', 'CGND-HDA-02494', 'CGND-HDA-01120', 'CGND-HDA-00329', 'CGND-HDA-00996', 'CGND-HDA-00648', 'CGND-HDA-00932', 'CGND-HDA-03849', 'CGND-HDA-03915', 'CGND-HDA-04078', 'CGND-HDA-02953', 'CGND-HDA-03627', 'CGND-HDA-01895', 'CGND-HDA-03410', 'CGND-HDA-00910', 'CGND-HDA-02377', 'CGND-HDA-02574', 'CGND-HDA-03492', 'CGND-HDA-01591', 'CGND-HDA-02232', 'CGND-HDA-00820', 'CGND-HDA-03640', 'CGND-HDA-02660', 'CGND-HDA-00723', 'CGND-HDA-01060', 'CGND-HDA-01110', 'CGND-HDA-03717', 'CGND-HDA-03000', 'CGND-HDA-00320', 'CGND-HDA-04014', 'CGND-HDA-03819', 'CGND-HDA-01596', 'CGND-HDA-00670', 'CGND-HDA-03618', 'CGND-HDA-01720', 'CGND-HDA-00102', 'CGND-HDA-01193', 'CGND-HDA-02602', 'CGND-HDA-00462', 'CGND-HDA-00213', 'CGND-HDA-03567', 'CGND-HDA-03718', 'CGND-HDA-01724', 'CGND-HDA-01087', 'CGND-HDA-03984', 'CGND-HDA-02472', 'CGND-HDA-02237', 'CGND-HDA-01514', 'CGND-HDA-00971', 'CGND-HDA-00942', 'CGND-HDA-00873', 'CGND-HDA-01344', 'CGND-HDA-03818', 'CGND-HDA-01405', 'CGND-HDA-01470', 'CGND-HDA-03550', 'CGND-HDA-01053', 'CGND-HDA-03909', 'CGND-HDA-03535', 'CGND-HDA-02372', 'CGND-HDA-03844', 'CGND-HDA-01392', 'CGND-HDA-00914', 'CGND-HDA-03461', 'CGND-HDA-01597', 'CGND-HDA-03044', 'CGND-HDA-00697', 'CGND-HDA-01845', 'CGND-HDA-01079', 'CGND-HDA-04064', 'CGND-HDA-03706', 'CGND-HDA-00331', 'CGND-HDA-00898', 'CGND-HDA-00251', 'CGND-HDA-01203', 'CGND-HDA-00728', 'CGND-HDA-03992', 'CGND-HDA-03271', 'CGND-HDA-03404', 'CGND-HDA-02634', 'CGND-HDA-01241', 'CGND-HDA-00617', 'CGND-HDA-00566', 'CGND-HDA-04065', 'CGND-HDA-02858', 'CGND-HDA-01492', 'CGND-HDA-03082', 'CGND-HDA-00818', 'CGND-HDA-00790', 'CGND-HDA-03556', 'CGND-HDA-00739', 'CGND-HDA-00741', 'CGND-HDA-02933', 'CGND-HDA-00494', 'CGND-HDA-02303', 'CGND-HDA-00001', 'CGND-HDA-01631', 'CGND-HDA-01356', 'CGND-HDA-00567', 'CGND-HDA-03630', 'CGND-HDA-02074', 'CGND-HDA-02381', 'CGND-HDA-00729', 'CGND-HDA-02656', 'CGND-HDA-00348', 'CGND-HDA-03679', 'CGND-HDA-02199', 'CGND-HDA-02662', 'CGND-HDA-01884', 'CGND-HDA-02394', 'CGND-HDA-01238', 'CGND-HDA-02241', 'CGND-HDA-02106', 'CGND-HDA-01316', 'CGND-HDA-01136', 'CGND-HDA-01504', 'CGND-HDA-00823', 'CGND-HDA-03609', 'CGND-HDA-03553', 'CGND-HDA-01319', 'CGND-HDA-00781', 'CGND-HDA-03420', 'CGND-HDA-00076', 'CGND-HDA-00332', 'CGND-HDA-03273', 'CGND-HDA-00258', 'CGND-HDA-04041', 'CGND-HDA-03261', 'CGND-HDA-00485', 'CGND-HDA-03463', 'CGND-HDA-00807', 'CGND-HDA-01883', 'CGND-HDA-00816', 'CGND-HDA-03543', 'CGND-HDA-01835', 'CGND-HDA-00447', 'CGND-HDA-00136', 'CGND-HDA-03462', 'CGND-HDA-00455', 'CGND-HDA-02917', 'CGND-HDA-02640', 'CGND-HDA-04068', 'CGND-HDA-02757', 'CGND-HDA-03049', 'CGND-HDA-01357', 'CGND-HDA-02279', 'CGND-HDA-01695', 'CGND-HDA-01164', 'CGND-HDA-00534', 'CGND-HDA-00497', 'CGND-HDA-03509', 'CGND-HDA-02474', 'CGND-HDA-01711', 'CGND-HDA-03616', 'CGND-HDA-03692', 'CGND-HDA-01683', 'CGND-HDA-04045', 'CGND-HDA-03885', 'CGND-HDA-02416', 'CGND-HDA-01076', 'CGND-HDA-02256', 'CGND-HDA-01649', 'CGND-HDA-03601', 'CGND-HDA-03809', 'CGND-HDA-03052', 'CGND-HDA-00098', 'CGND-HDA-00683', 'CGND-HDA-03712', 'CGND-HDA-01603', 'CGND-HDA-01338', 'CGND-HDA-00551', 'CGND-HDA-02160', 'CGND-HDA-02511', 'CGND-HDA-00718', 'CGND-HDA-02345', 'CGND-HDA-03701', 'CGND-HDA-03560', 'CGND-HDA-02632', 'CGND-HDA-03681', 'CGND-HDA-01075', 'CGND-HDA-00268', 'CGND-HDA-01687', 'CGND-HDA-01217', 'CGND-HDA-03503', 'CGND-HDA-03912', 'CGND-HDA-00555', 'CGND-HDA-00876', 'CGND-HDA-00533', 'CGND-HDA-01730', 'CGND-HDA-03422', 'CGND-HDA-01897', 'CGND-HDA-01133', 'CGND-HDA-03624', 'CGND-HDA-00703', 'CGND-HDA-00702', 'CGND-HDA-03394', 'CGND-HDA-03465', 'CGND-HDA-02120', 'CGND-HDA-01300', 'CGND-HDA-03569', 'CGND-HDA-03061', 'CGND-HDA-01150', 'CGND-HDA-01393', 'CGND-HDA-03403', 'CGND-HDA-00295', 'CGND-HDA-02581', 'CGND-HDA-01313', 'CGND-HDA-01230', 'CGND-HDA-03054', 'CGND-HDA-04000', 'CGND-HDA-02146', 'CGND-HDA-01117', 'CGND-HDA-02931', 'CGND-HDA-01801', 'CGND-HDA-03505', 'CGND-HDA-00949', 'CGND-HDA-03993', 'CGND-HDA-02302', 'CGND-HDA-03859', 'CGND-HDA-03832', 'CGND-HDA-03416', 'CGND-HDA-02034', 'CGND-HDA-04022', 'CGND-HDA-01753', 'CGND-HDA-00978', 'CGND-HDA-00871', 'CGND-HDA-00822', 'CGND-HDA-00135', 'CGND-HDA-03270', 'CGND-HDA-02941', 'CGND-HDA-02267', 'CGND-HDA-00973', 'CGND-HDA-03807', 'CGND-HDA-01755', 'CGND-HDA-00784', 'CGND-HDA-01615', 'CGND-HDA-01064', 'CGND-HDA-01696', 'CGND-HDA-02309', 'CGND-HDA-02099', 'CGND-HDA-01856', 'CGND-HDA-03533', 'CGND-HDA-01210', 'CGND-HDA-02218', 'CGND-HDA-02477', 'CGND-HDA-04069', 'CGND-HDA-02221', 'CGND-HDA-02508', 'CGND-HDA-00263', 'CGND-HDA-01288', 'CGND-HDA-01006', 'CGND-HDA-01846', 'CGND-HDA-00520', 'CGND-HDA-01772', 'CGND-HDA-01811', 'CGND-HDA-03529', 'CGND-HDA-04075', 'CGND-HDA-00508', 'CGND-HDA-03043', 'CGND-HDA-02586', 'CGND-HDA-01140', 'CGND-HDA-00778', 'CGND-HDA-02283', 'CGND-HDA-01815', 'CGND-HDA-03471', 'CGND-HDA-01077', 'CGND-HDA-03607', 'CGND-HDA-01012', 'CGND-HDA-01212', 'CGND-HDA-01808', 'CGND-HDA-03156', 'CGND-HDA-03006', 'CGND-HDA-02368', 'CGND-HDA-00726', 'CGND-HDA-01017', 'CGND-HDA-01390', 'CGND-HDA-02629', 'CGND-HDA-02067', 'CGND-HDA-00737', 'CGND-HDA-02657', 'CGND-HDA-00953', 'CGND-HDA-00642', 'CGND-HDA-00528', 'CGND-HDA-04005', 'CGND-HDA-02291', 'CGND-HDA-02329', 'CGND-HDA-01069', 'CGND-HDA-03854', 'CGND-HDA-02289', 'CGND-HDA-03822', 'CGND-HDA-03015', 'CGND-HDA-02144', 'CGND-HDA-01795', 'CGND-HDA-00887', 'CGND-HDA-00570', 'CGND-HDA-00444', 'CGND-HDA-03194', 'CGND-HDA-02125', 'CGND-HDA-01148', 'CGND-HDA-03408', 'CGND-HDA-01224', 'CGND-HDA-02093', 'CGND-HDA-00865', 'CGND-HDA-02332', 'CGND-HDA-03824', 'CGND-HDA-03875', 'CGND-HDA-03841', 'CGND-HDA-01517', 'CGND-HDA-00674', 'CGND-HDA-02104', 'CGND-HDA-02910', 'CGND-HDA-02648', 'CGND-HDA-02254', 'CGND-HDA-01791', 'CGND-HDA-00665', 'CGND-HDA-00552', 'CGND-HDA-00283', 'CGND-HDA-02904', 'CGND-HDA-02643', 'CGND-HDA-01209', 'CGND-HDA-01782', 'CGND-HDA-00056', 'CGND-HDA-03196', 'CGND-HDA-03817', 'CGND-HDA-01351', 'CGND-HDA-00351', 'CGND-HDA-00282', 'CGND-HDA-00448', 'CGND-HDA-00936', 'CGND-HDA-00806', 'CGND-HDA-01647', 'CGND-HDA-01468', 'CGND-HDA-01086', 'CGND-HDA-01576', 'CGND-HDA-00588', 'CGND-HDA-03474', 'CGND-HDA-00658', 'CGND-HDA-01345', 'CGND-HDA-03728', 'CGND-HDA-02957', 'CGND-HDA-02419', 'CGND-HDA-02761', 'CGND-HDA-03860', 'CGND-HDA-00882', 'CGND-HDA-02260', 'CGND-HDA-01116', 'CGND-HDA-01091', 'CGND-HDA-02273', 'CGND-HDA-01287', 'CGND-HDA-00829', 'CGND-HDA-00767', 'CGND-HDA-00271', 'CGND-HDA-03866', 'CGND-HDA-00705', 'CGND-HDA-01026', 'CGND-HDA-00543', 'CGND-HDA-01223', 'CGND-HDA-00538', 'CGND-HDA-00249', 'CGND-HDA-01001', 'CGND-HDA-01109', 'CGND-HDA-00990', 'CGND-HDA-00904', 'CGND-HDA-00810', 'CGND-HDA-02948', 'CGND-HDA-03501', 'CGND-HDA-01066', 'CGND-HDA-02986', 'CGND-HDA-03720', 'CGND-HDA-02114', 'CGND-HDA-02169', 'CGND-HDA-02942', 'CGND-HDA-03723', 'CGND-HDA-02389', 'CGND-HDA-03010', 'CGND-HDA-01851', 'CGND-HDA-03477', 'CGND-HDA-01705', 'CGND-HDA-00917', 'CGND-HDA-03847', 'CGND-HDA-00845', 'CGND-HDA-00830', 'CGND-HDA-00198', 'CGND-HDA-00317', 'CGND-HDA-00302', 'CGND-HDA-00316', 'CGND-HDA-02265', 'CGND-HDA-01113', 'CGND-HDA-02177', 'CGND-HDA-01894', 'CGND-HDA-03619', 'CGND-HDA-03033', 'CGND-HDA-00083', 'CGND-HDA-02578', 'CGND-HDA-03904', 'CGND-HDA-01861', 'CGND-HDA-03678', 'CGND-HDA-02029', 'CGND-HDA-03994', 'CGND-HDA-02326', 'CGND-HDA-02145', 'CGND-HDA-00493', 'CGND-HDA-00488', 'CGND-HDA-01240', 'CGND-HDA-00811', 'CGND-HDA-02645', 'CGND-HDA-00187', 'CGND-HDA-03887', 'CGND-HDA-01397', 'CGND-HDA-02641', 'CGND-HDA-02333', 'CGND-HDA-02290', 'CGND-HDA-02193', 'CGND-HDA-00782', 'CGND-HDA-02469', 'CGND-HDA-02318', 'CGND-HDA-03665', 'CGND-HDA-01784', 'CGND-HDA-02149', 'CGND-HDA-00460', 'CGND-HDA-00725', 'CGND-HDA-02994', 'CGND-HDA-00868', 'CGND-HDA-02280', 'CGND-HDA-03702', 'CGND-HDA-00313', 'CGND-HDA-04040', 'CGND-HDA-00511', 'CGND-HDA-00356', 'CGND-HDA-02962', 'CGND-HDA-01827', 'CGND-HDA-01873', 'CGND-HDA-00287', 'CGND-HDA-01162', 'CGND-HDA-03840', 'CGND-HDA-01786', 'CGND-HDA-00944', 'CGND-HDA-02083', 'CGND-HDA-00657', 'CGND-HDA-00192', 'CGND-HDA-03510', 'CGND-HDA-01708', 'CGND-HDA-02136', 'CGND-HDA-01763', 'CGND-HDA-01380', 'CGND-HDA-01620', 'CGND-HDA-00947', 'CGND-HDA-01822', 'CGND-HDA-01882', 'CGND-HDA-00340', 'CGND-HDA-03409', 'CGND-HDA-03871', 'CGND-HDA-00815', 'CGND-HDA-00755', 'CGND-HDA-02336', 'CGND-HDA-02292', 'CGND-HDA-01858', 'CGND-HDA-00130', 'CGND-HDA-02503', 'CGND-HDA-02593', 'CGND-HDA-02243', 'CGND-HDA-02946', 'CGND-HDA-03031', 'CGND-HDA-03828', 'CGND-HDA-01349', 'CGND-HDA-02124', 'CGND-HDA-02937', 'CGND-HDA-02211', 'CGND-HDA-00349', 'CGND-HDA-01546', 'CGND-HDA-03799', 'CGND-HDA-02577', 'CGND-HDA-03447', 'CGND-HDA-01812', 'CGND-HDA-02431', 'CGND-HDA-00770', 'CGND-HDA-01742', 'CGND-HDA-02250', 'CGND-HDA-03908', 'CGND-HDA-03632', 'CGND-HDA-03077', 'CGND-HDA-02227', 'CGND-HDA-01285', 'CGND-HDA-01101', 'CGND-HDA-00333', 'CGND-HDA-02551', 'CGND-HDA-02456', 'CGND-HDA-00609', 'CGND-HDA-00780', 'CGND-HDA-01659', 'CGND-HDA-02507', 'CGND-HDA-03888', 'CGND-HDA-03843', 'CGND-HDA-03572', 'CGND-HDA-01630', 'CGND-HDA-00907', 'CGND-HDA-02337', 'CGND-HDA-00696', 'CGND-HDA-00344', 'CGND-HDA-02361', 'CGND-HDA-01613', 'CGND-HDA-01009', 'CGND-HDA-00995', 'CGND-HDA-00504', 'CGND-HDA-02603', 'CGND-HDA-02175', 'CGND-HDA-01707', 'CGND-HDA-01157', 'CGND-HDA-03898', 'CGND-HDA-02594', 'CGND-HDA-03568', 'CGND-HDA-03160', 'CGND-HDA-00645', 'CGND-HDA-00577', 'CGND-HDA-00040', 'CGND-HDA-04048', 'CGND-HDA-03639', 'CGND-HDA-00473', 'CGND-HDA-00281', 'CGND-HDA-02712', 'CGND-HDA-03889', 'CGND-HDA-00237', 'CGND-HDA-00004', 'CGND-HDA-02753', 'CGND-HDA-00752', 'CGND-HDA-03272', 'CGND-HDA-01358', 'CGND-HDA-00507', 'CGND-HDA-02563', 'CGND-HDA-03835', 'CGND-HDA-01489', 'CGND-HDA-01088', 'CGND-HDA-02655', 'CGND-HDA-01072', 'CGND-HDA-03628', 'CGND-HDA-02399', 'CGND-HDA-03080', 'CGND-HDA-01833', 'CGND-HDA-04077', 'CGND-HDA-01146', 'CGND-HDA-02646', 'CGND-HDA-02364', 'CGND-HDA-00299', 'CGND-HDA-03623', 'CGND-HDA-03407', 'CGND-HDA-02228', 'CGND-HDA-00933', 'CGND-HDA-03631', 'CGND-HDA-03507', 'CGND-HDA-01839', 'CGND-HDA-01028', 'CGND-HDA-02078', 'CGND-HDA-02972', 'CGND-HDA-01781', 'CGND-HDA-04002', 'CGND-HDA-03508', 'CGND-HDA-02597', 'CGND-HDA-01205', 'CGND-HDA-00789', 'CGND-HDA-03056', 'CGND-HDA-00941', 'CGND-HDA-02417', 'CGND-HDA-00798', 'CGND-HDA-01848', 'CGND-HDA-02323', 'CGND-HDA-00463', 'CGND-HDA-00647', 'CGND-HDA-03814', 'CGND-HDA-01057', 'CGND-HDA-02216', 'CGND-HDA-02249', 'CGND-HDA-01627', 'CGND-HDA-01465', 'CGND-HDA-02116', 'CGND-HDA-00743', 'CGND-HDA-00710', 'CGND-HDA-03983', 'CGND-HDA-01289', 'CGND-HDA-03546', 'CGND-HDA-02306', 'CGND-HDA-00288', 'CGND-HDA-00304', 'CGND-HDA-04083', 'CGND-HDA-00037', 'CGND-HDA-00574', 'CGND-HDA-04091', 'CGND-HDA-01600', 'CGND-HDA-00825', 'CGND-HDA-02035', 'CGND-HDA-02707', 'CGND-HDA-02380', 'CGND-HDA-00699', 'CGND-HDA-00303', 'CGND-HDA-00355', 'CGND-HDA-02590', 'CGND-HDA-03540', 'CGND-HDA-02200', 'CGND-HDA-00867', 'CGND-HDA-02666', 'CGND-HDA-00954', 'CGND-HDA-02331', 'CGND-HDA-01657', 'CGND-HDA-03467', 'CGND-HDA-02705', 'CGND-HDA-03802', 'CGND-HDA-00863', 'CGND-HDA-02130', 'CGND-HDA-00824', 'CGND-HDA-01676', 'CGND-HDA-02066', 'CGND-HDA-01331', 'CGND-HDA-02325', 'CGND-HDA-03641', 'CGND-HDA-01137', 'CGND-HDA-02311', 'CGND-HDA-01766', 'CGND-HDA-04051', 'CGND-HDA-02153', 'CGND-HDA-00673', 'CGND-HDA-00602', 'CGND-HDA-01147', 'CGND-HDA-00688', 'CGND-HDA-03419', 'CGND-HDA-00489', 'CGND-HDA-04067', 'CGND-HDA-01040', 'CGND-HDA-00146', 'CGND-HDA-03262', 'CGND-HDA-04031', 'CGND-HDA-00439', 'CGND-HDA-01063', 'CGND-HDA-02940', 'CGND-HDA-03805', 'CGND-HDA-03682', 'CGND-HDA-00234', 'CGND-HDA-02308', 'CGND-HDA-03415', 'CGND-HDA-02356', 'CGND-HDA-02999', 'CGND-HDA-02330', 'CGND-HDA-00016', 'CGND-HDA-00298', 'CGND-HDA-03921', 'CGND-HDA-02923', 'CGND-HDA-01213', 'CGND-HDA-01570', 'CGND-HDA-01682', 'CGND-HDA-03902', 'CGND-HDA-01328', 'CGND-HDA-00821', 'CGND-HDA-04062', 'CGND-HDA-01838', 'CGND-HDA-01068', 'CGND-HDA-02502', 'CGND-HDA-03917', 'CGND-HDA-04080', 'CGND-HDA-01130', 'CGND-HDA-03637', 'CGND-HDA-00614', 'CGND-HDA-01870', 'CGND-HDA-01081', 'CGND-HDA-03675', 'CGND-HDA-00909', 'CGND-HDA-03848', 'CGND-HDA-02082', 'CGND-HDA-00772', 'CGND-HDA-01032', 'CGND-HDA-00663', 'CGND-HDA-02566', 'CGND-HDA-00719', 'CGND-HDA-01260', 'CGND-HDA-00791', 'CGND-HDA-02478', 'CGND-HDA-02314', 'CGND-HDA-00965', 'CGND-HDA-02418', 'CGND-HDA-03808', 'CGND-HDA-04008', 'CGND-HDA-02898', 'CGND-HDA-03704', 'CGND-HDA-02247', 'CGND-HDA-01099', 'CGND-HDA-01267', 'CGND-HDA-03893', 'CGND-HDA-03478', 'CGND-HDA-00650', 'CGND-HDA-02062', 'CGND-HDA-02352', 'CGND-HDA-01395', 'CGND-HDA-01106', 'CGND-HDA-01034', 'CGND-HDA-01404', 'CGND-HDA-01478', 'CGND-HDA-01446', 'CGND-HDA-03594', 'CGND-HDA-04074', 'CGND-HDA-03851', 'CGND-HDA-00814', 'CGND-HDA-02665', 'CGND-HDA-01153', 'CGND-HDA-01145', 'CGND-HDA-00535', 'CGND-HDA-03438', 'CGND-HDA-01539', 'CGND-HDA-02951', 'CGND-HDA-00202', 'CGND-HDA-03531', 'CGND-HDA-00607', 'CGND-HDA-02465', 'CGND-HDA-01635', 'CGND-HDA-00783', 'CGND-HDA-00776', 'CGND-HDA-01286', 'CGND-HDA-01048', 'CGND-HDA-00716', 'CGND-HDA-03901', 'CGND-HDA-00336', 'CGND-HDA-00745', 'CGND-HDA-00199', 'CGND-HDA-01624', 'CGND-HDA-00793', 'CGND-HDA-00890', 'CGND-HDA-01715', 'CGND-HDA-00753', 'CGND-HDA-00766', 'CGND-HDA-00152', 'CGND-HDA-00888', 'CGND-HDA-00612', 'CGND-HDA-02307', 'CGND-HDA-01161', 'CGND-HDA-01083', 'CGND-HDA-03161', 'CGND-HDA-02115', 'CGND-HDA-00252', 'CGND-HDA-03638', 'CGND-HDA-03395', 'CGND-HDA-00878', 'CGND-HDA-01211', 'CGND-HDA-00026', 'CGND-HDA-04001', 'CGND-HDA-00832', 'CGND-HDA-04047', 'CGND-HDA-03429', 'CGND-HDA-02295', 'CGND-HDA-02064', 'CGND-HDA-02777', 'CGND-HDA-03517', 'CGND-HDA-03414', 'CGND-HDA-01096', 'CGND-HDA-01466', 'CGND-HDA-00927', 'CGND-HDA-00301', 'CGND-HDA-00246', 'CGND-HDA-00754', 'CGND-HDA-03500', 'CGND-HDA-00809', 'CGND-HDA-00024', 'CGND-HDA-00742', 'CGND-HDA-03839', 'CGND-HDA-01736', 'CGND-HDA-00476', 'CGND-HDA-02698', 'CGND-HDA-02387', 'CGND-HDA-01765', 'CGND-HDA-03151', 'CGND-HDA-03976', 'CGND-HDA-01681', 'CGND-HDA-02694', 'CGND-HDA-01277', 'CGND-HDA-02719', 'CGND-HDA-00453', 'CGND-HDA-03480', 'CGND-HDA-00921', 'CGND-HDA-02639', 'CGND-HDA-02496', 'CGND-HDA-03276', 'CGND-HDA-03877', 'CGND-HDA-01382', 'CGND-HDA-03815', 'CGND-HDA-03612', 'CGND-HDA-03078', 'CGND-HDA-00240', 'CGND-HDA-03827', 'CGND-HDA-01370', 'CGND-HDA-03038', 'CGND-HDA-01680', 'CGND-HDA-03856', 'CGND-HDA-00360', 'CGND-HDA-03036', 'CGND-HDA-00377', 'CGND-HDA-01743', 'CGND-HDA-00761', 'CGND-HDA-00244', 'CGND-HDA-01757', 'CGND-HDA-04079', 'CGND-HDA-02350', 'CGND-HDA-03731', 'CGND-HDA-01581', 'CGND-HDA-01790', 'CGND-HDA-00911', 'CGND-HDA-02585', 'CGND-HDA-00558', 'CGND-HDA-00900', 'CGND-HDA-03878', 'CGND-HDA-01023', 'CGND-HDA-02208', 'CGND-HDA-00652', 'CGND-HDA-01222', 'CGND-HDA-03412', 'CGND-HDA-02355', 'CGND-HDA-03881', 'CGND-HDA-01084', 'CGND-HDA-00611', 'CGND-HDA-02620', 'CGND-HDA-02402', 'CGND-HDA-02343', 'CGND-HDA-02697', 'CGND-HDA-01243', 'CGND-HDA-02398', 'CGND-HDA-03195', 'CGND-HDA-01880', 'CGND-HDA-02105', 'CGND-HDA-02148', 'CGND-HDA-01381', 'CGND-HDA-01292', 'CGND-HDA-02310', 'CGND-HDA-00327', 'CGND-HDA-00312', 'CGND-HDA-03695', 'CGND-HDA-02616', 'CGND-HDA-03806', 'CGND-HDA-02235', 'CGND-HDA-02080', 'CGND-HDA-01727', 'CGND-HDA-01270', 'CGND-HDA-04081', 'CGND-HDA-00666', 'CGND-HDA-00664', 'CGND-HDA-01741', 'CGND-HDA-03554', 'CGND-HDA-03434', 'CGND-HDA-03153', 'CGND-HDA-03608', 'CGND-HDA-03032', 'CGND-HDA-01678', 'CGND-HDA-02263', 'CGND-HDA-01156', 'CGND-HDA-00608', 'CGND-HDA-00660', 'CGND-HDA-02572', 'CGND-HDA-00813', 'CGND-HDA-01574', 'CGND-HDA-03574', 'CGND-HDA-02601', 'CGND-HDA-00894', 'CGND-HDA-00635', 'CGND-HDA-00616', 'CGND-HDA-01317', 'CGND-HDA-04072', 'CGND-HDA-03615', 'CGND-HDA-02708', 'CGND-HDA-01100', 'CGND-HDA-00156', 'CGND-HDA-01231', 'CGND-HDA-00748', 'CGND-HDA-02906', 'CGND-HDA-00452', 'CGND-HDA-02717', 'CGND-HDA-00440', 'CGND-HDA-00072', 'CGND-HDA-02903', 'CGND-HDA-02959', 'CGND-HDA-02362', 'CGND-HDA-00322', 'CGND-HDA-02150', 'CGND-HDA-01018', 'CGND-HDA-02598', 'CGND-HDA-01423', 'CGND-HDA-03561', 'CGND-HDA-01298', 'CGND-HDA-03576', 'CGND-HDA-00922', 'CGND-HDA-00300', 'CGND-HDA-01042', 'CGND-HDA-00619', 'CGND-HDA-02393', 'CGND-HDA-00536', 'CGND-HDA-00051', 'CGND-HDA-01785', 'CGND-HDA-02262', 'CGND-HDA-03924', 'CGND-HDA-02209', 'CGND-HDA-03435', 'CGND-HDA-00708', 'CGND-HDA-00454', 'CGND-HDA-02108', 'CGND-HDA-03575', 'CGND-HDA-03045', 'CGND-HDA-01016', 'CGND-HDA-03931', 'CGND-HDA-02622', 'CGND-HDA-01702', 'CGND-HDA-03895', 'CGND-HDA-02925', 'CGND-HDA-00330', 'CGND-HDA-02607', 'CGND-HDA-00548', 'CGND-HDA-03903', 'CGND-HDA-00206', 'CGND-HDA-03489', 'CGND-HDA-01383', 'CGND-HDA-01031', 'CGND-HDA-00869', 'CGND-HDA-01111', 'CGND-HDA-02057', 'CGND-HDA-00353', 'CGND-HDA-02202', 'CGND-HDA-01463', 'CGND-HDA-01134', 'CGND-HDA-00899', 'CGND-HDA-02025', 'CGND-HDA-01523', 'CGND-HDA-02755', 'CGND-HDA-03633', 'CGND-HDA-00680', 'CGND-HDA-02553', 'CGND-HDA-03696', 'CGND-HDA-00242', 'CGND-HDA-01236', 'CGND-HDA-00920', 'CGND-HDA-00896', 'CGND-HDA-00901', 'CGND-HDA-03504', 'CGND-HDA-01154', 'CGND-HDA-03452', 'CGND-HDA-01398', 'CGND-HDA-02197', 'CGND-HDA-00495', 'CGND-HDA-01166', 'CGND-HDA-04055', 'CGND-HDA-04006', 'CGND-HDA-03460', 'CGND-HDA-02895', 'CGND-HDA-03083', 'CGND-HDA-01632', 'CGND-HDA-01332', 'CGND-HDA-00235', 'CGND-HDA-01376', 'CGND-HDA-01199', 'CGND-HDA-00826', 'CGND-HDA-02400', 'CGND-HDA-03690', 'CGND-HDA-03800', 'CGND-HDA-02107', 'CGND-HDA-00671', 'CGND-HDA-00347', 'CGND-HDA-03636', 'CGND-HDA-00314', 'CGND-HDA-02024', 'CGND-HDA-01601', 'CGND-HDA-01731', 'CGND-HDA-02674', 'CGND-HDA-01127', 'CGND-HDA-02293', 'CGND-HDA-03643', 'CGND-HDA-01726', 'CGND-HDA-00662', 'CGND-HDA-00346', 'CGND-HDA-03804', 'CGND-HDA-00669', 'CGND-HDA-02625', 'CGND-HDA-03622', 'CGND-HDA-02230', 'CGND-HDA-03676', 'CGND-HDA-03004', 'CGND-HDA-00622', 'CGND-HDA-02214', 'CGND-HDA-01403', 'CGND-HDA-00323', 'CGND-HDA-00284', 'CGND-HDA-03444', 'CGND-HDA-03155', 'CGND-HDA-03873', 'CGND-HDA-02433', 'CGND-HDA-03577', 'CGND-HDA-03820', 'CGND-HDA-01200', 'CGND-HDA-01572', 'CGND-HDA-00937', 'CGND-HDA-01375', 'CGND-HDA-01373', 'CGND-HDA-01754', 'CGND-HDA-01794', 'CGND-HDA-00735', 'CGND-HDA-04032', 'CGND-HDA-03922', 'CGND-HDA-02370', 'CGND-HDA-02579', 'CGND-HDA-00012', 'CGND-HDA-03981', 'CGND-HDA-03148', 'CGND-HDA-02939', 'CGND-HDA-00606', 'CGND-HDA-02688', 'CGND-HDA-02305', 'CGND-HDA-00326', 'CGND-HDA-02032', 'CGND-HDA-03053', 'CGND-HDA-00480', 'CGND-HDA-00261', 'CGND-HDA-03424', 'CGND-HDA-04052', 'CGND-HDA-00693', 'CGND-HDA-02905', 'CGND-HDA-02998', 'CGND-HDA-00205', 'CGND-HDA-02721', 'CGND-HDA-03857', 'CGND-HDA-03549', 'CGND-HDA-02087', 'CGND-HDA-00576', 'CGND-HDA-00445', 'CGND-HDA-02244', 'CGND-HDA-00672', 'CGND-HDA-00456', 'CGND-HDA-00357', 'CGND-HDA-00902', 'CGND-HDA-00469', 'CGND-HDA-02151', 'CGND-HDA-03905', 'CGND-HDA-01475', 'CGND-HDA-02261', 'CGND-HDA-03891', 'CGND-HDA-02461', 'CGND-HDA-02912', 'CGND-HDA-00022', 'CGND-HDA-02696', 'CGND-HDA-02584', 'CGND-HDA-00600', 'CGND-HDA-00297', 'CGND-HDA-03437', 'CGND-HDA-04012', 'CGND-HDA-02373', 'CGND-HDA-02982', 'CGND-HDA-00929', 'CGND-HDA-01318', 'CGND-HDA-03914', 'CGND-HDA-00960', 'CGND-HDA-02725', 'CGND-HDA-00510', 'CGND-HDA-03880', 'CGND-HDA-01384', 'CGND-HDA-00903', 'CGND-HDA-00569', 'CGND-HDA-00140', 'CGND-HDA-02626', 'CGND-HDA-01704', 'CGND-HDA-03491', 'CGND-HDA-01759', 'CGND-HDA-00651', 'CGND-HDA-00459', 'CGND-HDA-01008', 'CGND-HDA-02614', 'CGND-HDA-02409', 'CGND-HDA-02633', 'CGND-HDA-03449', 'CGND-HDA-04085', 'CGND-HDA-00875', 'CGND-HDA-03433', 'CGND-HDA-02968', 'CGND-HDA-02765', 'CGND-HDA-03684', 'CGND-HDA-03644', 'CGND-HDA-00874', 'CGND-HDA-01752', 'CGND-HDA-03439', 'CGND-HDA-03092', 'CGND-HDA-02554', 'CGND-HDA-03687', 'CGND-HDA-00709', 'CGND-HDA-01052', 'CGND-HDA-02771', 'CGND-HDA-00677', 'CGND-HDA-02103', 'CGND-HDA-00707', 'CGND-HDA-00713', 'CGND-HDA-00451', 'CGND-HDA-02118', 'CGND-HDA-01847', 'CGND-HDA-00308', 'CGND-HDA-00290', 'CGND-HDA-02161', 'CGND-HDA-01239', 'CGND-HDA-03972', 'CGND-HDA-02751', 'CGND-HDA-01062', 'CGND-HDA-00727', 'CGND-HDA-03070', 'CGND-HDA-02588', 'CGND-HDA-02347', 'CGND-HDA-02234', 'CGND-HDA-01163', 'CGND-HDA-00891', 'CGND-HDA-03542', 'CGND-HDA-01668', 'CGND-HDA-00730', 'CGND-HDA-00618', 'CGND-HDA-00586', 'CGND-HDA-03003', 'CGND-HDA-02045', 'CGND-HDA-00951', 'CGND-HDA-02506', 'CGND-HDA-02613', 'CGND-HDA-02213', 'CGND-HDA-00969', 'CGND-HDA-02112', 'CGND-HDA-03513', 'CGND-HDA-02913', 'CGND-HDA-02604', 'CGND-HDA-01126', 'CGND-HDA-02248', 'CGND-HDA-03729', 'CGND-HDA-00667', 'CGND-HDA-00889', 'CGND-HDA-00939', 'CGND-HDA-03726', 'CGND-HDA-03069', 'CGND-HDA-02609', 'CGND-HDA-00114', 'CGND-HDA-01701', 'CGND-HDA-02129', 'CGND-HDA-00695', 'CGND-HDA-03564', 'CGND-HDA-02695', 'CGND-HDA-02396', 'CGND-HDA-00785', 'CGND-HDA-03985', 'CGND-HDA-01027', 'CGND-HDA-01092', 'CGND-HDA-02909', 'CGND-HDA-01595', 'CGND-HDA-03039', 'CGND-HDA-00733', 'CGND-HDA-02346', 'CGND-HDA-03060', 'CGND-HDA-03537', 'CGND-HDA-03436', 'CGND-HDA-00342', 'CGND-HDA-01269', 'CGND-HDA-01206', 'CGND-HDA-03086', 'CGND-HDA-02922', 'CGND-HDA-00276', 'CGND-HDA-02429', 'CGND-HDA-02365', 'CGND-HDA-01354', 'CGND-HDA-03722', 'CGND-HDA-00519', 'CGND-HDA-01226', 'CGND-HDA-01093', 'CGND-HDA-00808', 'CGND-HDA-02277', 'CGND-HDA-03862', 'CGND-HDA-03026', 'CGND-HDA-00270', 'CGND-HDA-00438', 'CGND-HDA-01823', 'CGND-HDA-03485', 'CGND-HDA-01544', 'CGND-HDA-04030', 'CGND-HDA-01579', 'CGND-HDA-02955', 'CGND-HDA-01796', 'CGND-HDA-00250', 'CGND-HDA-00264', 'CGND-HDA-03428', 'CGND-HDA-01341', 'CGND-HDA-00676', 'CGND-HDA-00305', 'CGND-HDA-03825', 'CGND-HDA-03573', 'CGND-HDA-02504', 'CGND-HDA-01859', 'CGND-HDA-02253', 'CGND-HDA-01580', 'CGND-HDA-02036', 'CGND-HDA-01809', 'CGND-HDA-03139', 'CGND-HDA-04049', 'CGND-HDA-02966', 'CGND-HDA-03826', 'CGND-HDA-02631', 'CGND-HDA-02320', 'CGND-HDA-01102', 'CGND-HDA-00190', 'CGND-HDA-01409', 'CGND-HDA-01094', 'CGND-HDA-02729', 'CGND-HDA-01836', 'CGND-HDA-00335', 'CGND-HDA-00639', 'CGND-HDA-03834', 'CGND-HDA-02564', 'CGND-HDA-01281', 'CGND-HDA-02109', 'CGND-HDA-03845', 'CGND-HDA-01013', 'CGND-HDA-02466', 'CGND-HDA-00989', 'CGND-HDA-00581', 'CGND-HDA-03037', 'CGND-HDA-00764', 'CGND-HDA-00615', 'CGND-HDA-02911', 'CGND-HDA-00212', 'CGND-HDA-04021', 'CGND-HDA-02907', 'CGND-HDA-03906', 'CGND-HDA-03094', 'CGND-HDA-00777', 'CGND-HDA-02434', 'CGND-HDA-01733', 'CGND-HDA-01055', 'CGND-HDA-02439', 'CGND-HDA-02958', 'CGND-HDA-01343', 'CGND-HDA-00817', 'CGND-HDA-00712', 'CGND-HDA-02397', 'CGND-HDA-00679', 'CGND-HDA-00582', 'CGND-HDA-01078', 'CGND-HDA-03013', 'CGND-HDA-02404', 'CGND-HDA-01196', 'CGND-HDA-00827', 'CGND-HDA-03603', 'CGND-HDA-03071', 'CGND-HDA-01082', 'CGND-HDA-00294', 'CGND-HDA-03265', 'CGND-HDA-03900', 'CGND-HDA-02090', 'CGND-HDA-02885', 'CGND-HDA-02068', 'CGND-HDA-01095', 'CGND-HDA-01798', 'CGND-HDA-01149', 'CGND-HDA-03022', 'CGND-HDA-02158', 'CGND-HDA-02065', 'CGND-HDA-00661', 'CGND-HDA-02715', 'CGND-HDA-03544', 'CGND-HDA-00700', 'CGND-HDA-03715', 'CGND-HDA-02196', 'CGND-HDA-03605', 'CGND-HDA-01186', 'CGND-HDA-00610', 'CGND-HDA-02700', 'CGND-HDA-02930', 'CGND-HDA-02338', 'CGND-HDA-01513', 'CGND-HDA-02623', 'CGND-HDA-01041', 'CGND-HDA-00736', 'CGND-HDA-00756', 'CGND-HDA-00337', 'CGND-HDA-04016', 'CGND-HDA-00247', 'CGND-HDA-00991', 'CGND-HDA-02084', 'CGND-HDA-01650', 'CGND-HDA-02286', 'CGND-HDA-00589', 'CGND-HDA-02236', 'CGND-HDA-03604', 'CGND-HDA-03442', 'CGND-HDA-03933', 'CGND-HDA-02617', 'CGND-HDA-04023', 'CGND-HDA-00831', 'CGND-HDA-03096', 'CGND-HDA-01065', 'CGND-HDA-00474', 'CGND-HDA-02425', 'CGND-HDA-00571', 'CGND-HDA-00694', 'CGND-HDA-03453', 'CGND-HDA-00687', 'CGND-HDA-01628', 'CGND-HDA-03918', 'CGND-HDA-02573', 'CGND-HDA-03648', 'CGND-HDA-04044', 'CGND-HDA-03613', 'CGND-HDA-00959', 'CGND-HDA-00321', 'CGND-HDA-01810', 'CGND-HDA-01396', 'CGND-HDA-04066', 'CGND-HDA-01271', 'CGND-HDA-00084', 'CGND-HDA-03928', 'CGND-HDA-02637', 'CGND-HDA-01098', 'CGND-HDA-01348', 'CGND-HDA-03405', 'CGND-HDA-01849', 'CGND-HDA-01104', 'CGND-HDA-01896', 'CGND-HDA-01775', 'CGND-HDA-00008', 'CGND-HDA-01282', 'CGND-HDA-00957', 'CGND-HDA-00925', 'CGND-HDA-04035', 'CGND-HDA-02650', 'CGND-HDA-02251', 'CGND-HDA-00763', 'CGND-HDA-00724', 'CGND-HDA-00503', 'CGND-HDA-01090', 'CGND-HDA-03892', 'CGND-HDA-03199', 'CGND-HDA-02517', 'CGND-HDA-00475', 'CGND-HDA-02767', 'CGND-HDA-03998', 'CGND-HDA-02618', 'CGND-HDA-00751', 'CGND-HDA-02288', 'CGND-HDA-02369', 'CGND-HDA-02367', 'CGND-HDA-01629', 'CGND-HDA-01646', 'CGND-HDA-02053', 'CGND-HDA-03200', 'CGND-HDA-02353', 'CGND-HDA-00241', 'CGND-HDA-03733', 'CGND-HDA-00792', 'CGND-HDA-02246', 'CGND-HDA-01645', 'CGND-HDA-00802', 'CGND-HDA-01871', 'CGND-HDA-01751', 'CGND-HDA-00341', 'CGND-HDA-01898', 'CGND-HDA-03135', 'CGND-HDA-01284', 'CGND-HDA-00075', 'CGND-HDA-00512', 'CGND-HDA-00031', 'CGND-HDA-02050', 'CGND-HDA-00738', 'CGND-HDA-00906', 'CGND-HDA-01056', 'CGND-HDA-03614', 'CGND-HDA-04076', 'CGND-HDA-01265', 'CGND-HDA-00919', 'CGND-HDA-02147', 'CGND-HDA-01857', 'CGND-HDA-03929', 'CGND-HDA-01893', 'CGND-HDA-00803', 'CGND-HDA-00646', 'CGND-HDA-01188', 'CGND-HDA-02152', 'CGND-HDA-01299', 'CGND-HDA-02274', 'CGND-HDA-00801', 'CGND-HDA-02661', 'CGND-HDA-02384', 'CGND-HDA-00706', 'CGND-HDA-03041', 'CGND-HDA-01320', 'CGND-HDA-00948', 'CGND-HDA-02044', 'CGND-HDA-01832', 'CGND-HDA-01800', 'CGND-HDA-02255', 'CGND-HDA-01497', 'CGND-HDA-00856', 'CGND-HDA-03451', 'CGND-HDA-03423', 'CGND-HDA-01507', 'CGND-HDA-02360', 'CGND-HDA-02357', 'CGND-HDA-02070', 'CGND-HDA-03511', 'CGND-HDA-01121', 'CGND-HDA-00255', 'CGND-HDA-04009', 'CGND-HDA-01612', 'CGND-HDA-01619', 'CGND-HDA-00675', 'CGND-HDA-03150', 'CGND-HDA-03625', 'CGND-HDA-02550', 'CGND-HDA-04029', 'CGND-HDA-03565', 'CGND-HDA-02424', 'CGND-HDA-02651', 'CGND-HDA-03506', 'CGND-HDA-04059', 'CGND-HDA-02920', 'CGND-HDA-03085', 'CGND-HDA-02098', 'CGND-HDA-00071', 'CGND-HDA-00319', 'CGND-HDA-01038', 'CGND-HDA-01837', 'CGND-HDA-02385', 'CGND-HDA-03008', 'CGND-HDA-01868', 'CGND-HDA-01378', 'CGND-HDA-00491', 'CGND-HDA-01330', 'CGND-HDA-00681', 'CGND-HDA-03997', 'CGND-HDA-03719', 'CGND-HDA-03469', 'CGND-HDA-03547', 'CGND-HDA-00296', 'CGND-HDA-02615', 'CGND-HDA-00277', 'CGND-HDA-02642', 'CGND-HDA-00883', 'CGND-HDA-02934', 'CGND-HDA-01025', 'CGND-HDA-01103', 'CGND-HDA-02072', 'CGND-HDA-02207', 'CGND-HDA-00655', 'CGND-HDA-00649', 'CGND-HDA-00516', 'CGND-HDA-02743', 'CGND-HDA-01051', 'CGND-HDA-00744', 'CGND-HDA-00506', 'CGND-HDA-03558', 'CGND-HDA-02908', 'CGND-HDA-00289', 'CGND-HDA-03570', 'CGND-HDA-02773', 'CGND-HDA-01141', 'CGND-HDA-03551', 'CGND-HDA-01047', 'CGND-HDA-00732', 'CGND-HDA-01803', 'CGND-HDA-01159', 'CGND-HDA-00930', 'CGND-HDA-00579', 'CGND-HDA-03886', 'CGND-HDA-00779', 'CGND-HDA-03042', 'CGND-HDA-00938', 'CGND-HDA-00750', 'CGND-HDA-03907', 'CGND-HDA-00605', 'CGND-HDA-00437', 'CGND-HDA-03091', 'CGND-HDA-00799', 'CGND-HDA-01046', 'CGND-HDA-00583', 'CGND-HDA-00324', 'CGND-HDA-01108', 'CGND-HDA-02899', 'CGND-HDA-02334', 'CGND-HDA-00572', 'CGND-HDA-02028', 'CGND-HDA-00934', 'CGND-HDA-01402', 'CGND-HDA-02212', 'CGND-HDA-03141', 'CGND-HDA-02163', 'CGND-HDA-00731', 'CGND-HDA-00923', 'CGND-HDA-03047', 'CGND-HDA-02414', 'CGND-HDA-01703', 'CGND-HDA-00354', 'CGND-HDA-00259', 'CGND-HDA-02300', 'CGND-HDA-03803', 'CGND-HDA-02412', 'CGND-HDA-03691', 'CGND-HDA-03991', 'CGND-HDA-00208', 'CGND-HDA-02403', 'CGND-HDA-03559', 'CGND-HDA-02321', 'CGND-HDA-00691', 'CGND-HDA-02354', 'CGND-HDA-03068', 'CGND-HDA-00734', 'CGND-HDA-01728', 'CGND-HDA-03861', 'CGND-HDA-02257', 'CGND-HDA-02297', 'CGND-HDA-01712', 'CGND-HDA-00467', 'CGND-HDA-02556', 'CGND-HDA-02647', 'CGND-HDA-00769', 'CGND-HDA-01422', 'CGND-HDA-03193', 'CGND-HDA-00517', 'CGND-HDA-01648', 'CGND-HDA-01824', 'CGND-HDA-04020', 'CGND-HDA-04018', 'CGND-HDA-03413', 'CGND-HDA-03034', 'CGND-HDA-00195', 'CGND-HDA-02599', 'CGND-HDA-00278', 'CGND-HDA-00471', 'CGND-HDA-00101', 'CGND-HDA-03913', 'CGND-HDA-02949', 'CGND-HDA-02313', 'CGND-HDA-01460', 'CGND-HDA-02426', 'CGND-HDA-02739', 'CGND-HDA-00515', 'CGND-HDA-01813', 'CGND-HDA-00274', 'CGND-HDA-03198', 'CGND-HDA-03516', 'CGND-HDA-01779', 'CGND-HDA-00908', 'CGND-HDA-01480', 'CGND-HDA-04037', 'CGND-HDA-03538', 'CGND-HDA-01371', 'CGND-HDA-00720', 'CGND-HDA-00704', 'CGND-HDA-03686', 'CGND-HDA-01461', 'CGND-HDA-01073', 'CGND-HDA-03617', 'CGND-HDA-00482', 'CGND-HDA-03970', 'CGND-HDA-02085', 'CGND-HDA-01685', 'CGND-HDA-02315', 'CGND-HDA-02638', 'CGND-HDA-02278', 'CGND-HDA-00678', 'CGND-HDA-00450', 'CGND-HDA-02322', 'CGND-HDA-02328', 'CGND-HDA-03973', 'CGND-HDA-02996', 'CGND-HDA-01071'}\n"
            ]
          },
          "metadata": {},
          "output_type": "display_data"
        },
        {
          "data": {
            "text/html": [
              "<pre style=\"white-space:pre;overflow-x:auto;line-height:normal;font-family:Menlo,'DejaVu Sans Mono',consolas,'Courier New',monospace\">23:25:58.256 | <span style=\"color: #008080; text-decoration-color: #008080\">INFO</span>    | Flow run<span style=\"color: #800080; text-decoration-color: #800080\"> 'strange-earwig'</span> - \n",
              "684 controls:\n",
              " {'CGND-HDA-01436', 'CGND-HDA-01502', 'NA20525', 'CGND-HDA-02857', 'NA20792', 'HG00250', 'NA20810', 'HG01707', 'NA12282', 'CGND-HDA-01532', 'CGND-HDA-03545', 'CGND-HDA-01640', 'HG01519', 'NA20529', 'NA12760', 'NA20804', 'CGND-HDA-01020', 'HG01770', 'NA06985', 'CGND-HDA-03978', 'NA20508', 'CGND-HDA-03698', 'CGND-HDA-01515', 'CGND-HDA-03481', 'CGND-HDA-01692', 'CGND-HDA-01605', 'NA12155', 'HG00119', 'HG01776', 'HG00150', 'HG01768', 'CGND-HDA-03858', 'HG02235', 'CGND-HDA-03519', 'NA20778', 'CGND-HDA-01853', 'CGND-HDA-01606', 'HG01603', 'HG00239', 'NA12286', 'NA06986', 'HG00097', 'CGND-HDA-01426', 'HG01628', 'CGND-HDA-03683', 'HG00139', 'HG00126', 'CGND-HDA-03870', 'NA20521', 'NA20773', 'NA20757', 'HG01632', 'HG00265', 'CGND-HDA-02720', 'HG01695', 'HG02224', 'CGND-HDA-03548', 'NA11918', 'NA20533', 'NA11930', 'CGND-HDA-03986', 'HG00128', 'CGND-HDA-01592', 'CGND-HDA-01700', 'CGND-HDA-00435', 'CGND-HDA-03759', 'NA20755', 'CGND-HDA-03201', 'HG01747', 'NA20504', 'HG00131', 'NA20517', 'HG01678', 'NA12234', 'NA12814', 'CGND-HDA-02768', 'NA20761', 'CGND-HDA-02520', 'HG00159', 'CGND-HDA-02519', 'CGND-HDA-02732', 'NA20803', 'NA12414', 'HG01775', 'CGND-HDA-02766', 'HG01669', 'HG01623', 'NA20530', 'CGND-HDA-02183', 'CGND-HDA-03781', 'HG01685', 'CGND-HDA-03144', 'CGND-HDA-03778', 'HG00246', 'CGND-HDA-00260', 'HG01699', 'NA12004', 'HG00155', 'CGND-HDA-01493', 'CGND-HDA-03588', 'HG01756', 'NA11992', 'CGND-HDA-01438', 'HG01504', 'CGND-HDA-03753', 'CGND-HDA-01641', 'NA12776', 'CGND-HDA-01865', 'HG00140', 'CGND-HDA-02726', 'CGND-HDA-01663', 'NA20542', 'CGND-HDA-01537', 'HG00142', 'NA20828', 'NA12873', 'CGND-HDA-01519', 'HG00137', 'CGND-HDA-03776', 'CGND-HDA-03411', 'HG01668', 'NA12272', 'CGND-HDA-03795', 'NA20519', 'HG00127', 'HG00107', 'CGND-HDA-01852', 'CGND-HDA-01953', 'HG01631', 'NA20589', 'NA12778', 'HG01509', 'HG00116', 'NA20783', 'HG01500', 'NA20522', 'NA12154', 'NA20766', 'NA20812', 'NA20818', 'HG00243', 'NA12878', 'CGND-HDA-03811', 'HG00114', 'CGND-HDA-02838', 'CGND-HDA-02754', 'CGND-HDA-03784', 'HG01620', 'CGND-HDA-01518', 'HG01510', 'NA20509', 'NA20539', 'NA20585', 'CGND-HDA-03098', 'NA07000', 'CGND-HDA-03074', 'NA07347', 'CGND-HDA-03578', 'NA20510', 'CGND-HDA-03149', 'NA12413', 'CGND-HDA-02092', 'CGND-HDA-01021', 'NA12006', 'HG00244', 'CGND-HDA-01427', 'HG00115', 'HG01607', 'NA11843', 'CGND-HDA-02448', 'NA12287', 'NA20754', 'NA20534', 'CGND-HDA-01901', 'HG02219', 'CGND-HDA-02706', 'NA20815', 'HG01610', 'CGND-HDA-03075', 'NA11840', 'CGND-HDA-02830', 'HG01615', 'NA12043', 'HG00231', 'CGND-HDA-01557', 'HG01789', 'NA12249', 'NA20821', 'CGND-HDA-03089', 'HG01791', 'HG00360', 'NA12044', 'HG00111', 'HG01710', 'HG00100', 'HG00123', 'CGND-HDA-03152', 'CGND-HDA-03448', 'CGND-HDA-03486', 'CGND-HDA-01842', 'NA20502', 'CGND-HDA-02834', 'HG02230', 'NA11829', 'NA11893', 'CGND-HDA-01691', 'HG00129', 'NA20541', 'NA20799', 'HG00262', 'NA20764', 'HG00232', 'NA20774', 'CGND-HDA-01604', 'HG00106', 'HG00099', 'HG01767', 'CGND-HDA-03530', 'HG02236', 'CGND-HDA-02187', 'CGND-HDA-01654', 'CGND-HDA-02445', 'HG01530', 'HG01686', 'CGND-HDA-03591', 'CGND-HDA-02724', 'NA20768', 'HG01626', 'CGND-HDA-03532', 'CGND-HDA-03874', 'CGND-HDA-02223', 'NA12046', 'NA20532', 'NA12872', 'HG00096', 'HG01630', 'CGND-HDA-04090', 'CGND-HDA-03520', 'HG00109', 'NA20528', 'NA20814', 'HG00242', 'CGND-HDA-03671', 'CGND-HDA-03093', 'CGND-HDA-02742', 'CGND-HDA-01611', 'NA12828', 'CGND-HDA-00209', 'NA20760', 'CGND-HDA-01486', 'NA12874', 'NA20538', 'CGND-HDA-02710', 'CGND-HDA-02079', 'CGND-HDA-02021', 'HG01606', 'NA12890', 'NA20752', 'HG01676', 'HG01521', 'CGND-HDA-03790', 'HG01700', 'CGND-HDA-02530', 'CGND-HDA-01531', 'NA20524', 'CGND-HDA-02772', 'CGND-HDA-02516', 'HG01704', 'HG01608', 'NA12827', 'CGND-HDA-03137', 'NA20531', 'HG00102', 'CGND-HDA-00599', 'CGND-HDA-03770', 'NA20813', 'NA12347', 'NA20800', 'HG01785', 'CGND-HDA-03813', 'CGND-HDA-03079', 'NA12812', 'HG01673', 'NA12399', 'HG01617', 'HG00252', 'CGND-HDA-03783', 'NA20586', 'CGND-HDA-01536', 'NA11933', 'NA12815', 'CGND-HDA-01526', 'NA20802', 'HG00236', 'CGND-HDA-01425', 'HG01702', 'CGND-HDA-00564', 'NA12829', 'CGND-HDA-03801', 'NA12749', 'CGND-HDA-03457', 'NA20767', 'CGND-HDA-01456', 'HG01537', 'NA12775', 'CGND-HDA-03197', 'CGND-HDA-02075', 'CGND-HDA-01608', 'HG01765', 'NA07056', 'CGND-HDA-03035', 'CGND-HDA-01900', 'HG00125', 'HG00145', 'HG01613', 'CGND-HDA-01484', 'HG01784', 'HG00157', 'HG02231', 'CGND-HDA-02760', 'NA20527', 'CGND-HDA-03788', 'HG00255', 'CGND-HDA-02514', 'CGND-HDA-02722', 'NA06984', 'CGND-HDA-02762', 'NA20765', 'NA12717', 'CGND-HDA-02832', 'CGND-HDA-03950', 'CGND-HDA-02440', 'HG00261', 'NA20536', 'HG01766', 'NA12748', 'HG00154', 'CGND-HDA-03562', 'HG01708', 'CGND-HDA-02758', 'HG02232', 'NA20808', 'HG00245', 'HG01518', 'HG00254', 'HG00108', 'NA06994', 'NA12341', 'NA12777', 'CGND-HDA-03787', 'CGND-HDA-01538', 'HG01697', 'CGND-HDA-03103', 'HG00121', 'NA12144', 'CGND-HDA-03876', 'CGND-HDA-02750', 'CGND-HDA-01488', 'NA20506', 'CGND-HDA-03597', 'HG00143', 'HG00160', 'CGND-HDA-01542', 'HG00151', 'CGND-HDA-03668', 'CGND-HDA-01503', 'HG00130', 'NA20811', 'HG01527', 'HG01522', 'CGND-HDA-03782', 'CGND-HDA-02518', 'NA12813', 'NA20513', 'HG01761', 'HG00136', 'CGND-HDA-02189', 'CGND-HDA-01433', 'NA12275', 'NA20769', 'CGND-HDA-03487', 'NA11995', 'HG01757', 'NA12348', 'CGND-HDA-03585', 'HG01619', 'HG00146', 'CGND-HDA-03798', 'NA20543', 'HG02221', 'CGND-HDA-03596', 'HG00132', 'NA20798', 'HG01790', 'HG01605', 'NA20581', 'HG00251', 'CGND-HDA-01653', 'CGND-HDA-01533', 'HG00257', 'HG00260', 'CGND-HDA-01541', 'HG01675', 'CGND-HDA-02748', 'NA12156', 'NA07048', 'CGND-HDA-03476', 'CGND-HDA-02446', 'NA20795', 'HG00149', 'NA20809', 'HG00118', 'HG02233', 'CGND-HDA-01464', 'NA20587', 'CGND-HDA-01448', 'HG00233', 'NA11831', 'CGND-HDA-02222', 'CGND-HDA-03483', 'CGND-HDA-03097', 'CGND-HDA-01543', 'HG02238', 'HG01516', 'HG00256', 'CGND-HDA-03739', 'NA20507', 'NA12489', 'HG01672', 'NA07357', 'NA20826', 'HG00122', 'CGND-HDA-01123', 'CGND-HDA-01817', 'CGND-HDA-02512', 'CGND-HDA-02831', 'HG01777', 'CGND-HDA-01634', 'CGND-HDA-03142', 'CGND-HDA-01500', 'CGND-HDA-02327', 'CGND-HDA-01445', 'CGND-HDA-00196', 'CGND-HDA-03579', 'CGND-HDA-02515', 'HG00259', 'CGND-HDA-01487', 'HG01334', 'CGND-HDA-03584', 'HG01528', 'NA20832', 'NA20516', 'CGND-HDA-02836', 'CGND-HDA-03157', 'CGND-HDA-01559', 'CGND-HDA-03084', 'CGND-HDA-03095', 'HG00263', 'NA20770', 'HG01694', 'CGND-HDA-01664', 'HG01612', 'NA11892', 'CGND-HDA-01410', 'NA20515', 'NA10847', 'NA12342', 'NA20540', 'CGND-HDA-03962', 'CGND-HDA-00565', 'CGND-HDA-03951', 'HG00120', 'NA12383', 'CGND-HDA-00556', 'NA20801', 'HG01536', 'HG02220', 'CGND-HDA-03470', 'HG00133', 'NA12751', 'NA20775', 'NA10851', 'CGND-HDA-01501', 'HG00237', 'NA20807', 'CGND-HDA-03539', 'NA12005', 'HG01624', 'HG01503', 'CGND-HDA-01413', 'HG00235', 'NA11920', 'NA12045', 'CGND-HDA-02774', 'HG01786', 'NA20753', 'HG00190', 'CGND-HDA-03527', 'CGND-HDA-03166', 'CGND-HDA-01453', 'HG02239', 'NA20512', 'HG01512', 'CGND-HDA-03773', 'CGND-HDA-03777', 'NA11830', 'CGND-HDA-01551', 'CGND-HDA-03764', 'HG00174', 'CGND-HDA-03774', 'NA20822', 'NA20790', 'NA20758', 'NA12750', 'NA20797', 'NA11881', 'CGND-HDA-03786', 'HG01680', 'CGND-HDA-03522', 'HG00238', 'CGND-HDA-02730', 'CGND-HDA-03081', 'CGND-HDA-03581', 'NA06989', 'NA20805', 'CGND-HDA-02833', 'NA20503', 'CGND-HDA-01655', 'CGND-HDA-01922', 'NA12763', 'NA12761', 'NA20544', 'NA12003', 'NA11919', 'CGND-HDA-03772', 'CGND-HDA-02770', 'NA07051', 'CGND-HDA-02835', 'NA12716', 'NA12889', 'CGND-HDA-02716', 'CGND-HDA-02690', 'CGND-HDA-02088', 'NA20759', 'HG01684', 'HG01781', 'NA20518', 'CGND-HDA-01416', 'CGND-HDA-01430', 'NA20520', 'CGND-HDA-02324', 'NA11832', 'HG01525', 'HG01531', 'NA12843', 'CGND-HDA-03977', 'HG00148', 'CGND-HDA-03727', 'NA20806', 'HG01762', 'NA11932', 'HG01773', 'CGND-HDA-02714', 'NA20787', 'HG00240', 'CGND-HDA-02567', 'CGND-HDA-01841', 'CGND-HDA-03864', 'NA20763', 'NA20505', 'CGND-HDA-03794', 'NA12762', 'CGND-HDA-01447', 'NA11894', 'CGND-HDA-03797', 'HG01682', 'CGND-HDA-03957', 'NA20827', 'HG01670', 'CGND-HDA-03768', 'HG01513', 'NA20756', 'CGND-HDA-03154', 'HG01618', 'CGND-HDA-02740', 'CGND-HDA-02509', 'NA20582', 'NA12058', 'HG00112', 'NA12842', 'CGND-HDA-01540', 'CGND-HDA-01594', 'CGND-HDA-03167', 'CGND-HDA-02756', 'CGND-HDA-01511', 'HG00101', 'CGND-HDA-01651', 'CGND-HDA-03669', 'NA12273', 'HG00264', 'NA20796', 'CGND-HDA-02513', 'HG01501', 'HG02223', 'CGND-HDA-03775', 'CGND-HDA-02734', 'NA11994', 'CGND-HDA-02829', 'CGND-HDA-01830', 'CGND-HDA-02746', 'HG01709', 'NA20819', 'CGND-HDA-00434', 'HG01507', 'HG01524', 'HG00110', 'HG01746', 'CGND-HDA-02718', 'NA12340', 'HG00117', 'HG00138', 'CGND-HDA-03459', 'CGND-HDA-01593', 'HG01506', 'NA20785', 'HG00141', 'NA12718', 'HG01515', 'CGND-HDA-01414', 'CGND-HDA-02081', 'CGND-HDA-01522', 'HG00258', 'NA11931', 'CGND-HDA-03763', 'CGND-HDA-03468', 'CGND-HDA-03785', 'HG01779', 'NA07037', 'CGND-HDA-03689', 'CGND-HDA-03147', 'CGND-HDA-03896', 'NA20588', 'CGND-HDA-03479', 'CGND-HDA-02764', 'HG00234', 'NA12283', 'NA20772', 'NA20771', 'CGND-HDA-01607', 'NA20535', 'HG01771', 'CGND-HDA-00997', 'CGND-HDA-01417', 'CGND-HDA-03421', 'CGND-HDA-03780', 'CGND-HDA-02738', 'HG01679', 'CGND-HDA-03524', 'CGND-HDA-03793', 'CGND-HDA-02728', 'CGND-HDA-01454', 'CGND-HDA-03771', 'NA20511', 'NA20786', 'HG00158', 'HG01625', 'NA12400', 'HG00105', 'HG01602', 'HG00253', 'CGND-HDA-01976', 'HG00113', 'HG01705', 'NA20514', 'CGND-HDA-03734', 'CGND-HDA-01818', 'HG00103', 'CGND-HDA-02444', 'CGND-HDA-02510', 'CGND-HDA-01929', 'CGND-HDA-01610', 'HG02215', 'NA20762', 'CGND-HDA-03792'}\n",
              "</pre>\n"
            ],
            "text/plain": [
              "23:25:58.256 | \u001b[36mINFO\u001b[0m    | Flow run\u001b[35m 'strange-earwig'\u001b[0m - \n",
              "684 controls:\n",
              " {'CGND-HDA-01436', 'CGND-HDA-01502', 'NA20525', 'CGND-HDA-02857', 'NA20792', 'HG00250', 'NA20810', 'HG01707', 'NA12282', 'CGND-HDA-01532', 'CGND-HDA-03545', 'CGND-HDA-01640', 'HG01519', 'NA20529', 'NA12760', 'NA20804', 'CGND-HDA-01020', 'HG01770', 'NA06985', 'CGND-HDA-03978', 'NA20508', 'CGND-HDA-03698', 'CGND-HDA-01515', 'CGND-HDA-03481', 'CGND-HDA-01692', 'CGND-HDA-01605', 'NA12155', 'HG00119', 'HG01776', 'HG00150', 'HG01768', 'CGND-HDA-03858', 'HG02235', 'CGND-HDA-03519', 'NA20778', 'CGND-HDA-01853', 'CGND-HDA-01606', 'HG01603', 'HG00239', 'NA12286', 'NA06986', 'HG00097', 'CGND-HDA-01426', 'HG01628', 'CGND-HDA-03683', 'HG00139', 'HG00126', 'CGND-HDA-03870', 'NA20521', 'NA20773', 'NA20757', 'HG01632', 'HG00265', 'CGND-HDA-02720', 'HG01695', 'HG02224', 'CGND-HDA-03548', 'NA11918', 'NA20533', 'NA11930', 'CGND-HDA-03986', 'HG00128', 'CGND-HDA-01592', 'CGND-HDA-01700', 'CGND-HDA-00435', 'CGND-HDA-03759', 'NA20755', 'CGND-HDA-03201', 'HG01747', 'NA20504', 'HG00131', 'NA20517', 'HG01678', 'NA12234', 'NA12814', 'CGND-HDA-02768', 'NA20761', 'CGND-HDA-02520', 'HG00159', 'CGND-HDA-02519', 'CGND-HDA-02732', 'NA20803', 'NA12414', 'HG01775', 'CGND-HDA-02766', 'HG01669', 'HG01623', 'NA20530', 'CGND-HDA-02183', 'CGND-HDA-03781', 'HG01685', 'CGND-HDA-03144', 'CGND-HDA-03778', 'HG00246', 'CGND-HDA-00260', 'HG01699', 'NA12004', 'HG00155', 'CGND-HDA-01493', 'CGND-HDA-03588', 'HG01756', 'NA11992', 'CGND-HDA-01438', 'HG01504', 'CGND-HDA-03753', 'CGND-HDA-01641', 'NA12776', 'CGND-HDA-01865', 'HG00140', 'CGND-HDA-02726', 'CGND-HDA-01663', 'NA20542', 'CGND-HDA-01537', 'HG00142', 'NA20828', 'NA12873', 'CGND-HDA-01519', 'HG00137', 'CGND-HDA-03776', 'CGND-HDA-03411', 'HG01668', 'NA12272', 'CGND-HDA-03795', 'NA20519', 'HG00127', 'HG00107', 'CGND-HDA-01852', 'CGND-HDA-01953', 'HG01631', 'NA20589', 'NA12778', 'HG01509', 'HG00116', 'NA20783', 'HG01500', 'NA20522', 'NA12154', 'NA20766', 'NA20812', 'NA20818', 'HG00243', 'NA12878', 'CGND-HDA-03811', 'HG00114', 'CGND-HDA-02838', 'CGND-HDA-02754', 'CGND-HDA-03784', 'HG01620', 'CGND-HDA-01518', 'HG01510', 'NA20509', 'NA20539', 'NA20585', 'CGND-HDA-03098', 'NA07000', 'CGND-HDA-03074', 'NA07347', 'CGND-HDA-03578', 'NA20510', 'CGND-HDA-03149', 'NA12413', 'CGND-HDA-02092', 'CGND-HDA-01021', 'NA12006', 'HG00244', 'CGND-HDA-01427', 'HG00115', 'HG01607', 'NA11843', 'CGND-HDA-02448', 'NA12287', 'NA20754', 'NA20534', 'CGND-HDA-01901', 'HG02219', 'CGND-HDA-02706', 'NA20815', 'HG01610', 'CGND-HDA-03075', 'NA11840', 'CGND-HDA-02830', 'HG01615', 'NA12043', 'HG00231', 'CGND-HDA-01557', 'HG01789', 'NA12249', 'NA20821', 'CGND-HDA-03089', 'HG01791', 'HG00360', 'NA12044', 'HG00111', 'HG01710', 'HG00100', 'HG00123', 'CGND-HDA-03152', 'CGND-HDA-03448', 'CGND-HDA-03486', 'CGND-HDA-01842', 'NA20502', 'CGND-HDA-02834', 'HG02230', 'NA11829', 'NA11893', 'CGND-HDA-01691', 'HG00129', 'NA20541', 'NA20799', 'HG00262', 'NA20764', 'HG00232', 'NA20774', 'CGND-HDA-01604', 'HG00106', 'HG00099', 'HG01767', 'CGND-HDA-03530', 'HG02236', 'CGND-HDA-02187', 'CGND-HDA-01654', 'CGND-HDA-02445', 'HG01530', 'HG01686', 'CGND-HDA-03591', 'CGND-HDA-02724', 'NA20768', 'HG01626', 'CGND-HDA-03532', 'CGND-HDA-03874', 'CGND-HDA-02223', 'NA12046', 'NA20532', 'NA12872', 'HG00096', 'HG01630', 'CGND-HDA-04090', 'CGND-HDA-03520', 'HG00109', 'NA20528', 'NA20814', 'HG00242', 'CGND-HDA-03671', 'CGND-HDA-03093', 'CGND-HDA-02742', 'CGND-HDA-01611', 'NA12828', 'CGND-HDA-00209', 'NA20760', 'CGND-HDA-01486', 'NA12874', 'NA20538', 'CGND-HDA-02710', 'CGND-HDA-02079', 'CGND-HDA-02021', 'HG01606', 'NA12890', 'NA20752', 'HG01676', 'HG01521', 'CGND-HDA-03790', 'HG01700', 'CGND-HDA-02530', 'CGND-HDA-01531', 'NA20524', 'CGND-HDA-02772', 'CGND-HDA-02516', 'HG01704', 'HG01608', 'NA12827', 'CGND-HDA-03137', 'NA20531', 'HG00102', 'CGND-HDA-00599', 'CGND-HDA-03770', 'NA20813', 'NA12347', 'NA20800', 'HG01785', 'CGND-HDA-03813', 'CGND-HDA-03079', 'NA12812', 'HG01673', 'NA12399', 'HG01617', 'HG00252', 'CGND-HDA-03783', 'NA20586', 'CGND-HDA-01536', 'NA11933', 'NA12815', 'CGND-HDA-01526', 'NA20802', 'HG00236', 'CGND-HDA-01425', 'HG01702', 'CGND-HDA-00564', 'NA12829', 'CGND-HDA-03801', 'NA12749', 'CGND-HDA-03457', 'NA20767', 'CGND-HDA-01456', 'HG01537', 'NA12775', 'CGND-HDA-03197', 'CGND-HDA-02075', 'CGND-HDA-01608', 'HG01765', 'NA07056', 'CGND-HDA-03035', 'CGND-HDA-01900', 'HG00125', 'HG00145', 'HG01613', 'CGND-HDA-01484', 'HG01784', 'HG00157', 'HG02231', 'CGND-HDA-02760', 'NA20527', 'CGND-HDA-03788', 'HG00255', 'CGND-HDA-02514', 'CGND-HDA-02722', 'NA06984', 'CGND-HDA-02762', 'NA20765', 'NA12717', 'CGND-HDA-02832', 'CGND-HDA-03950', 'CGND-HDA-02440', 'HG00261', 'NA20536', 'HG01766', 'NA12748', 'HG00154', 'CGND-HDA-03562', 'HG01708', 'CGND-HDA-02758', 'HG02232', 'NA20808', 'HG00245', 'HG01518', 'HG00254', 'HG00108', 'NA06994', 'NA12341', 'NA12777', 'CGND-HDA-03787', 'CGND-HDA-01538', 'HG01697', 'CGND-HDA-03103', 'HG00121', 'NA12144', 'CGND-HDA-03876', 'CGND-HDA-02750', 'CGND-HDA-01488', 'NA20506', 'CGND-HDA-03597', 'HG00143', 'HG00160', 'CGND-HDA-01542', 'HG00151', 'CGND-HDA-03668', 'CGND-HDA-01503', 'HG00130', 'NA20811', 'HG01527', 'HG01522', 'CGND-HDA-03782', 'CGND-HDA-02518', 'NA12813', 'NA20513', 'HG01761', 'HG00136', 'CGND-HDA-02189', 'CGND-HDA-01433', 'NA12275', 'NA20769', 'CGND-HDA-03487', 'NA11995', 'HG01757', 'NA12348', 'CGND-HDA-03585', 'HG01619', 'HG00146', 'CGND-HDA-03798', 'NA20543', 'HG02221', 'CGND-HDA-03596', 'HG00132', 'NA20798', 'HG01790', 'HG01605', 'NA20581', 'HG00251', 'CGND-HDA-01653', 'CGND-HDA-01533', 'HG00257', 'HG00260', 'CGND-HDA-01541', 'HG01675', 'CGND-HDA-02748', 'NA12156', 'NA07048', 'CGND-HDA-03476', 'CGND-HDA-02446', 'NA20795', 'HG00149', 'NA20809', 'HG00118', 'HG02233', 'CGND-HDA-01464', 'NA20587', 'CGND-HDA-01448', 'HG00233', 'NA11831', 'CGND-HDA-02222', 'CGND-HDA-03483', 'CGND-HDA-03097', 'CGND-HDA-01543', 'HG02238', 'HG01516', 'HG00256', 'CGND-HDA-03739', 'NA20507', 'NA12489', 'HG01672', 'NA07357', 'NA20826', 'HG00122', 'CGND-HDA-01123', 'CGND-HDA-01817', 'CGND-HDA-02512', 'CGND-HDA-02831', 'HG01777', 'CGND-HDA-01634', 'CGND-HDA-03142', 'CGND-HDA-01500', 'CGND-HDA-02327', 'CGND-HDA-01445', 'CGND-HDA-00196', 'CGND-HDA-03579', 'CGND-HDA-02515', 'HG00259', 'CGND-HDA-01487', 'HG01334', 'CGND-HDA-03584', 'HG01528', 'NA20832', 'NA20516', 'CGND-HDA-02836', 'CGND-HDA-03157', 'CGND-HDA-01559', 'CGND-HDA-03084', 'CGND-HDA-03095', 'HG00263', 'NA20770', 'HG01694', 'CGND-HDA-01664', 'HG01612', 'NA11892', 'CGND-HDA-01410', 'NA20515', 'NA10847', 'NA12342', 'NA20540', 'CGND-HDA-03962', 'CGND-HDA-00565', 'CGND-HDA-03951', 'HG00120', 'NA12383', 'CGND-HDA-00556', 'NA20801', 'HG01536', 'HG02220', 'CGND-HDA-03470', 'HG00133', 'NA12751', 'NA20775', 'NA10851', 'CGND-HDA-01501', 'HG00237', 'NA20807', 'CGND-HDA-03539', 'NA12005', 'HG01624', 'HG01503', 'CGND-HDA-01413', 'HG00235', 'NA11920', 'NA12045', 'CGND-HDA-02774', 'HG01786', 'NA20753', 'HG00190', 'CGND-HDA-03527', 'CGND-HDA-03166', 'CGND-HDA-01453', 'HG02239', 'NA20512', 'HG01512', 'CGND-HDA-03773', 'CGND-HDA-03777', 'NA11830', 'CGND-HDA-01551', 'CGND-HDA-03764', 'HG00174', 'CGND-HDA-03774', 'NA20822', 'NA20790', 'NA20758', 'NA12750', 'NA20797', 'NA11881', 'CGND-HDA-03786', 'HG01680', 'CGND-HDA-03522', 'HG00238', 'CGND-HDA-02730', 'CGND-HDA-03081', 'CGND-HDA-03581', 'NA06989', 'NA20805', 'CGND-HDA-02833', 'NA20503', 'CGND-HDA-01655', 'CGND-HDA-01922', 'NA12763', 'NA12761', 'NA20544', 'NA12003', 'NA11919', 'CGND-HDA-03772', 'CGND-HDA-02770', 'NA07051', 'CGND-HDA-02835', 'NA12716', 'NA12889', 'CGND-HDA-02716', 'CGND-HDA-02690', 'CGND-HDA-02088', 'NA20759', 'HG01684', 'HG01781', 'NA20518', 'CGND-HDA-01416', 'CGND-HDA-01430', 'NA20520', 'CGND-HDA-02324', 'NA11832', 'HG01525', 'HG01531', 'NA12843', 'CGND-HDA-03977', 'HG00148', 'CGND-HDA-03727', 'NA20806', 'HG01762', 'NA11932', 'HG01773', 'CGND-HDA-02714', 'NA20787', 'HG00240', 'CGND-HDA-02567', 'CGND-HDA-01841', 'CGND-HDA-03864', 'NA20763', 'NA20505', 'CGND-HDA-03794', 'NA12762', 'CGND-HDA-01447', 'NA11894', 'CGND-HDA-03797', 'HG01682', 'CGND-HDA-03957', 'NA20827', 'HG01670', 'CGND-HDA-03768', 'HG01513', 'NA20756', 'CGND-HDA-03154', 'HG01618', 'CGND-HDA-02740', 'CGND-HDA-02509', 'NA20582', 'NA12058', 'HG00112', 'NA12842', 'CGND-HDA-01540', 'CGND-HDA-01594', 'CGND-HDA-03167', 'CGND-HDA-02756', 'CGND-HDA-01511', 'HG00101', 'CGND-HDA-01651', 'CGND-HDA-03669', 'NA12273', 'HG00264', 'NA20796', 'CGND-HDA-02513', 'HG01501', 'HG02223', 'CGND-HDA-03775', 'CGND-HDA-02734', 'NA11994', 'CGND-HDA-02829', 'CGND-HDA-01830', 'CGND-HDA-02746', 'HG01709', 'NA20819', 'CGND-HDA-00434', 'HG01507', 'HG01524', 'HG00110', 'HG01746', 'CGND-HDA-02718', 'NA12340', 'HG00117', 'HG00138', 'CGND-HDA-03459', 'CGND-HDA-01593', 'HG01506', 'NA20785', 'HG00141', 'NA12718', 'HG01515', 'CGND-HDA-01414', 'CGND-HDA-02081', 'CGND-HDA-01522', 'HG00258', 'NA11931', 'CGND-HDA-03763', 'CGND-HDA-03468', 'CGND-HDA-03785', 'HG01779', 'NA07037', 'CGND-HDA-03689', 'CGND-HDA-03147', 'CGND-HDA-03896', 'NA20588', 'CGND-HDA-03479', 'CGND-HDA-02764', 'HG00234', 'NA12283', 'NA20772', 'NA20771', 'CGND-HDA-01607', 'NA20535', 'HG01771', 'CGND-HDA-00997', 'CGND-HDA-01417', 'CGND-HDA-03421', 'CGND-HDA-03780', 'CGND-HDA-02738', 'HG01679', 'CGND-HDA-03524', 'CGND-HDA-03793', 'CGND-HDA-02728', 'CGND-HDA-01454', 'CGND-HDA-03771', 'NA20511', 'NA20786', 'HG00158', 'HG01625', 'NA12400', 'HG00105', 'HG01602', 'HG00253', 'CGND-HDA-01976', 'HG00113', 'HG01705', 'NA20514', 'CGND-HDA-03734', 'CGND-HDA-01818', 'HG00103', 'CGND-HDA-02444', 'CGND-HDA-02510', 'CGND-HDA-01929', 'CGND-HDA-01610', 'HG02215', 'NA20762', 'CGND-HDA-03792'}\n"
            ]
          },
          "metadata": {},
          "output_type": "display_data"
        },
        {
          "data": {
            "text/html": [
              "<pre style=\"white-space:pre;overflow-x:auto;line-height:normal;font-family:Menlo,'DejaVu Sans Mono',consolas,'Courier New',monospace\">23:25:58.274 | <span style=\"color: #008080; text-decoration-color: #008080\">INFO</span>    | Flow run<span style=\"color: #800080; text-decoration-color: #800080\"> 'strange-earwig'</span> - Filtered 1428 alleles with frequency below 5.000%\n",
              "</pre>\n"
            ],
            "text/plain": [
              "23:25:58.274 | \u001b[36mINFO\u001b[0m    | Flow run\u001b[35m 'strange-earwig'\u001b[0m - Filtered 1428 alleles with frequency below 5.000%\n"
            ]
          },
          "metadata": {},
          "output_type": "display_data"
        },
        {
          "data": {
            "text/html": [
              "<pre style=\"white-space:pre;overflow-x:auto;line-height:normal;font-family:Menlo,'DejaVu Sans Mono',consolas,'Courier New',monospace\">23:25:58.275 | <span style=\"color: #008080; text-decoration-color: #008080\">INFO</span>    | Flow run<span style=\"color: #800080; text-decoration-color: #800080\"> 'strange-earwig'</span> - Kept 54 alleles\n",
              "</pre>\n"
            ],
            "text/plain": [
              "23:25:58.275 | \u001b[36mINFO\u001b[0m    | Flow run\u001b[35m 'strange-earwig'\u001b[0m - Kept 54 alleles\n"
            ]
          },
          "metadata": {},
          "output_type": "display_data"
        },
        {
          "data": {
            "text/html": [
              "<pre style=\"white-space:pre;overflow-x:auto;line-height:normal;font-family:Menlo,'DejaVu Sans Mono',consolas,'Courier New',monospace\">23:25:58.358 | <span style=\"color: #008080; text-decoration-color: #008080\">INFO</span>    | Flow run<span style=\"color: #800080; text-decoration-color: #800080\"> 'strange-earwig'</span> - Finished in state <span style=\"color: #008000; text-decoration-color: #008000\">Completed</span>()\n",
              "</pre>\n"
            ],
            "text/plain": [
              "23:25:58.358 | \u001b[36mINFO\u001b[0m    | Flow run\u001b[35m 'strange-earwig'\u001b[0m - Finished in state \u001b[32mCompleted\u001b[0m()\n"
            ]
          },
          "metadata": {},
          "output_type": "display_data"
        },
        {
          "name": "stdout",
          "output_type": "stream",
          "text": [
            "\n",
            "clinical data:\n",
            "                       Quote    Data File ID ExternalSubjectId   \n",
            "ExternalSampleId                                                 \n",
            "CGND-HDA-05557    CGND_14852  CGND-HDA-05557       NEUUF013XXL  \\\n",
            "CGND-HDA-05556    CGND_14852  CGND-HDA-05556       NEUHM496PGR   \n",
            "CGND-HDA-05555    CGND_14852  CGND-HDA-05555       NEUPK599KHH   \n",
            "CGND-HDA-05554    CGND_14852  CGND-HDA-05554       NEUHD589CVP   \n",
            "CGND-HDA-05553    CGND_14852  CGND-HDA-05553       NEUXX223WT8   \n",
            "\n",
            "                              Project     Site Sample Collected   \n",
            "ExternalSampleId                                                  \n",
            "CGND-HDA-05557    ALS Natural History  Henry Ford Health System  \\\n",
            "CGND-HDA-05556    ALS Natural History  Henry Ford Health System   \n",
            "CGND-HDA-05555    ALS Natural History  Henry Ford Health System   \n",
            "CGND-HDA-05554    ALS Natural History  Henry Ford Health System   \n",
            "CGND-HDA-05553    ALS Natural History  Henry Ford Health System   \n",
            "\n",
            "                   Site Specimen Collected     Sex               Ethnicity   \n",
            "ExternalSampleId                                                             \n",
            "CGND-HDA-05557    Henry Ford Health System    Male  Not Hispanic or Latino  \\\n",
            "CGND-HDA-05556    Henry Ford Health System    Male  Not Hispanic or Latino   \n",
            "CGND-HDA-05555    Henry Ford Health System  Female  Not Hispanic or Latino   \n",
            "CGND-HDA-05554    Henry Ford Health System    Male  Not Hispanic or Latino   \n",
            "CGND-HDA-05553    Henry Ford Health System  Female  Not Hispanic or Latino   \n",
            "\n",
            "                     Subject Group           Subject Group Subcategory  ...   \n",
            "ExternalSampleId                                                        ...   \n",
            "CGND-HDA-05557    ALS Spectrum MND  Progressive Muscular Atrophy (PMA)  ...  \\\n",
            "CGND-HDA-05556    ALS Spectrum MND            Progressive Bulbar Palsy  ...   \n",
            "CGND-HDA-05555    ALS Spectrum MND               Classical/Typical ALS  ...   \n",
            "CGND-HDA-05554    ALS Spectrum MND               Classical/Typical ALS  ...   \n",
            "CGND-HDA-05553    ALS Spectrum MND               Classical/Typical ALS  ...   \n",
            "\n",
            "                 Sex Genotype pct_african pct_south_asian pct_east_asian   \n",
            "ExternalSampleId                                                           \n",
            "CGND-HDA-05557             XY    0.007626        0.000010        0.00001  \\\n",
            "CGND-HDA-05556             XY    0.021306        0.000010        0.00001   \n",
            "CGND-HDA-05555             XX    0.005276        0.000010        0.00001   \n",
            "CGND-HDA-05554             XY    0.005465        0.000010        0.00001   \n",
            "CGND-HDA-05553             XX    0.013105        0.026626        0.00001   \n",
            "\n",
            "                 pct_european pct_americas C9 repeat size Expanded, >=30   \n",
            "ExternalSampleId                                                           \n",
            "CGND-HDA-05557       0.992344     0.000010            NaN            NaN  \\\n",
            "CGND-HDA-05556       0.978664     0.000010            NaN            NaN   \n",
            "CGND-HDA-05555       0.994694     0.000010            NaN            NaN   \n",
            "CGND-HDA-05554       0.990614     0.003901            NaN            NaN   \n",
            "CGND-HDA-05553       0.960249     0.000010            NaN            NaN   \n",
            "\n",
            "                 ATXN2 repeat size Intermediate, 30-33  \n",
            "ExternalSampleId                                        \n",
            "CGND-HDA-05557                 NaN                 NaN  \n",
            "CGND-HDA-05556                 NaN                 NaN  \n",
            "CGND-HDA-05555                 NaN                 NaN  \n",
            "CGND-HDA-05554                 NaN                 NaN  \n",
            "CGND-HDA-05553                 NaN                 NaN  \n",
            "\n",
            "[5 rows x 58 columns]\n"
          ]
        }
      ],
      "source": [
        "from prefect import unmapped\n",
        "from tqdm import tqdm\n",
        "\n",
        "@task()\n",
        "def filterTable(table, filterString):\n",
        "    if not filterString: return table\n",
        "    print(f\"Filtering: {filterString}\")\n",
        "    filteredTable = table.query(filterString)\n",
        "    return filteredTable\n",
        "\n",
        "@task()\n",
        "def applyAlleleModel(values, columns, genotypeIDs):\n",
        "    # some genotype IDs are subset of column names (or vice versa)\n",
        "    genotypeDict = dict()\n",
        "    resolvedGenotypeIDs = set()\n",
        "    for id in tqdm(genotypeIDs, unit='id'):\n",
        "        for j, column in enumerate(columns):\n",
        "            if id in column or column in id:\n",
        "                # implement allele model\n",
        "                genotypeDict[f\"{column}\"] = [(\n",
        "                                np.sum([int(allele) for allele in genotype.replace(\"'\", \"\").split(\"/\")]) # split by allele delimiter \n",
        "                                if not config[\"vcfLike\"][\"binarize\"] \n",
        "                                else np.clip(\n",
        "                                        np.sum([int(allele) for allele in genotype.replace(\"'\", \"\").split(\"/\")]), \n",
        "                                        a_max=1, a_min=None)\n",
        "                                )\n",
        "                            if any(char.isdigit() for char in genotype)\n",
        "                            else np.nan\n",
        "                            for genotype in values[:,j]\n",
        "                        ]\n",
        "                columns = np.delete(columns, j)\n",
        "                values = np.delete(values, j, axis=1)\n",
        "                resolvedGenotypeIDs.update({id})\n",
        "                break\n",
        "    missingGenotypeIDs = set(genotypeIDs) - resolvedGenotypeIDs  # leftover columns are missing\n",
        "    return genotypeDict, missingGenotypeIDs, resolvedGenotypeIDs\n",
        "\n",
        "@task()\n",
        "def load():\n",
        "    clinicalData = pd.read_excel(config['clinicalTable']['path'], index_col=config['clinicalTable']['idColumn']\n",
        "                                ).drop_duplicates(subset=config['clinicalTable']['uniqueIdColumn'])\n",
        "    externalSamples = [pd.read_csv(path, sep='\\t', index_col=idColumn) for path, idColumn in zip(config['externalTables']['path'], config['externalTables']['idColumn'])]\n",
        "    annotatedVCF = pd.read_csv(\n",
        "        config['vcfLike']['path'], sep='\\t', dtype=str, index_col=config['vcfLike']['indexColumn'], \n",
        "        ) if \"xlsx\" not in config['vcfLike']['path'] else pd.read_excel(\n",
        "            config['vcfLike']['path'], sheet_name=(config['vcfLike']['sheet'] if config['vcfLike']['sheet'] else None), \n",
        "            dtype=str, na_values=['.'], keep_default_na=False\n",
        "        )\n",
        "    # remove null chromosome positions\n",
        "    annotatedVCF[config['vcfLike']['indexColumn']] = annotatedVCF[config['vcfLike']['indexColumn']].astype(str).replace('', np.nan)\n",
        "    return clinicalData, externalSamples, annotatedVCF.dropna(subset=config['vcfLike']['indexColumn']).set_index(config['vcfLike']['indexColumn'])\n",
        "\n",
        "@flow(task_runner=ConcurrentTaskRunner(), log_prints=True)\n",
        "async def processInputFiles():\n",
        "    clinicalData, externalSamples, annotatedVCF = load()\n",
        "    \n",
        "    filteredClinicalData = filterTable(clinicalData, config['clinicalTable']['filters'])\n",
        "    print(f\"filtered {len(clinicalData) - len(filteredClinicalData)} samples from clinical data\")\n",
        "    filteredExternalSamples = [filterTable(externalSampleTable, filterString) for externalSampleTable, filterString in zip(externalSamples, config['externalTables']['filters'])]\n",
        "    for i, (externalSampleTable, path) in enumerate(zip(filteredExternalSamples, config['externalTables']['path'])):\n",
        "        print(f\"filtered {len(externalSamples[i]) - len(externalSampleTable)} samples from external data {path}\")\n",
        "    filteredVCF = filterTable(annotatedVCF, config['vcfLike']['filters'])\n",
        "    print(f\"filtered {annotatedVCF.shape[0] - filteredVCF.shape[0]} variants from VCF\")\n",
        "    \n",
        "    caseIDsMask, controlIDsMask = [\n",
        "        filteredClinicalData[config['clinicalTable']['labelColumn']].isin(labels).dropna()\n",
        "        for labels in (config['clinicalTable']['caseLabels'], config['clinicalTable']['controlLabels'])]\n",
        "    \n",
        "    caseIDs = caseIDsMask[caseIDsMask].index.to_numpy()\n",
        "    controlIDs = controlIDsMask[controlIDsMask].index.to_numpy()\n",
        "    for i, label in enumerate(config['externalTables']['label']):\n",
        "        if label == config['clinicalTable']['caseAlias']:\n",
        "            caseIDs = np.append(caseIDs, filteredExternalSamples[i].index.to_numpy())\n",
        "        elif label == config['clinicalTable']['controlAlias']:\n",
        "            controlIDs = np.append(controlIDs, filteredExternalSamples[i].index.to_numpy())\n",
        "\n",
        "    # cast genotypes as numeric, drop chromosome positions with missing values\n",
        "    caseGenotypeFutures, controlGenotypeFutures = applyAlleleModel.map(\n",
        "            unmapped(filteredVCF.to_numpy()),\n",
        "            unmapped(filteredVCF.columns.to_numpy()), \n",
        "            genotypeIDs=[IDs for IDs in (caseIDs, controlIDs)]\n",
        "        ) \n",
        "    caseGenotypeDict, missingCaseIDs, resolvedCaseIDs = caseGenotypeFutures.result()\n",
        "    controlGenotypeDict, missingControlIDs, resolvedControlIDs = controlGenotypeFutures.result()\n",
        "    \n",
        "    if len(missingCaseIDs) > 0 or len(missingControlIDs) > 0:\n",
        "        for alias, IDs in {\"caseAlias\": missingCaseIDs, \"controlAlias\": missingControlIDs}.items():\n",
        "            print(f\"\\nmissing {len(IDs)} {config['clinicalTable'][alias]} IDs:\\n {IDs}\")\n",
        "    caseGenotypes = pd.DataFrame.from_dict(caseGenotypeDict)\n",
        "    caseGenotypes.index.name = filteredVCF.index.name\n",
        "    caseGenotypes.index = filteredVCF.index\n",
        "    controlGenotypes = pd.DataFrame.from_dict(controlGenotypeDict)\n",
        "    controlGenotypes.index.name = filteredVCF.index.name\n",
        "    controlGenotypes.index = filteredVCF.index\n",
        "    \n",
        "    caseIDs = resolvedCaseIDs\n",
        "    controlIDs = resolvedControlIDs\n",
        "    \n",
        "    print(f\"\\n{len(caseIDs)} cases:\\n {caseIDs}\")\n",
        "    print(f\"\\n{len(controlIDs)} controls:\\n {controlIDs}\")\n",
        "    # filter allele frequencies\n",
        "    allGenotypes = pd.concat([caseGenotypes.dropna(how='any', axis=0), controlGenotypes.dropna(how='any', axis=0)], axis=1)\n",
        "    filteredGenotypes = allGenotypes.loc[\n",
        "        allGenotypes.gt(0).sum(axis=1).divide(len(allGenotypes.columns)) >= config['vcfLike']['minAlleleFrequency']]\n",
        "    print(f\"Filtered {len(filteredVCF) - len(filteredGenotypes)} alleles with frequency below {'{:.3%}'.format(config['vcfLike']['minAlleleFrequency'])}\")\n",
        "    print(f\"Kept {len(filteredGenotypes)} alleles\")\n",
        "    \n",
        "    caseGenotypes = filteredGenotypes.loc[:,caseGenotypes.columns]\n",
        "    controlGenotypes = filteredGenotypes.loc[:,controlGenotypes.columns]\n",
        "    \n",
        "    return [caseGenotypes, caseIDs, controlGenotypes, controlIDs, filteredClinicalData]\n",
        "\n",
        "caseGenotypes, caseIDs, controlGenotypes, controlIDs, clinicalData = await processInputFiles()\n",
        "print(f\"\\nclinical data:\\n{clinicalData.head()}\")"
      ]
    },
    {
      "attachments": {},
      "cell_type": "markdown",
      "metadata": {
        "id": "5xWQrQYTdkSs"
      },
      "source": [
        "## Evaluate model stack"
      ]
    },
    {
      "cell_type": "code",
      "execution_count": 6,
      "metadata": {
        "colab": {
          "base_uri": "https://localhost:8080/",
          "height": 415
        },
        "id": "KOm3iWTTdmuj",
        "outputId": "7a7f6f03-4a6d-4cbe-df55-97ab9225f8a2"
      },
      "outputs": [
        {
          "name": "stdout",
          "output_type": "stream",
          "text": [
            "https://new-ui.neptune.ai/ejmockler/ALS-NUPs-NoHyperParamOptimization/e/NUPNOPARAM-333\n",
            "Shutting down background jobs, please wait a moment...\n",
            "Done!\n",
            "Waiting for the remaining 12 operations to synchronize with Neptune. Do not kill this process.\n",
            "All 12 operations synced, thanks for waiting!\n",
            "Explore the metadata in the Neptune app:\n",
            "https://new-ui.neptune.ai/ejmockler/ALS-NUPs-NoHyperParamOptimization/e/NUPNOPARAM-333/metadata\n"
          ]
        },
        {
          "data": {
            "text/html": [
              "<pre style=\"white-space:pre;overflow-x:auto;line-height:normal;font-family:Menlo,'DejaVu Sans Mono',consolas,'Courier New',monospace\">23:27:57.428 | <span style=\"color: #008080; text-decoration-color: #008080\">INFO</span>    | Task run 'beginTracking-0' - Finished in state <span style=\"color: #008000; text-decoration-color: #008000\">Completed</span>()\n",
              "</pre>\n"
            ],
            "text/plain": [
              "23:27:57.428 | \u001b[36mINFO\u001b[0m    | Task run 'beginTracking-0' - Finished in state \u001b[32mCompleted\u001b[0m()\n"
            ]
          },
          "metadata": {},
          "output_type": "display_data"
        },
        {
          "name": "stderr",
          "output_type": "stream",
          "text": [
            "Creating an ndarray from ragged nested sequences (which is a list-or-tuple of lists-or-tuples-or ndarrays with different lengths or shapes) is deprecated. If you meant to do this, you must specify 'dtype=object' when creating the ndarray.\n"
          ]
        },
        {
          "data": {
            "text/html": [
              "<pre style=\"white-space:pre;overflow-x:auto;line-height:normal;font-family:Menlo,'DejaVu Sans Mono',consolas,'Courier New',monospace\">23:27:57.465 | <span style=\"color: #008080; text-decoration-color: #008080\">INFO</span>    | Flow run<span style=\"color: #800080; text-decoration-color: #800080\"> 'swinging-turkey'</span> - Created task run 'prepareDatasets-0' for task 'prepareDatasets'\n",
              "</pre>\n"
            ],
            "text/plain": [
              "23:27:57.465 | \u001b[36mINFO\u001b[0m    | Flow run\u001b[35m 'swinging-turkey'\u001b[0m - Created task run 'prepareDatasets-0' for task 'prepareDatasets'\n"
            ]
          },
          "metadata": {},
          "output_type": "display_data"
        },
        {
          "data": {
            "text/html": [
              "<pre style=\"white-space:pre;overflow-x:auto;line-height:normal;font-family:Menlo,'DejaVu Sans Mono',consolas,'Courier New',monospace\">23:27:57.467 | <span style=\"color: #008080; text-decoration-color: #008080\">INFO</span>    | Flow run<span style=\"color: #800080; text-decoration-color: #800080\"> 'swinging-turkey'</span> - Executing 'prepareDatasets-0' immediately...\n",
              "</pre>\n"
            ],
            "text/plain": [
              "23:27:57.467 | \u001b[36mINFO\u001b[0m    | Flow run\u001b[35m 'swinging-turkey'\u001b[0m - Executing 'prepareDatasets-0' immediately...\n"
            ]
          },
          "metadata": {},
          "output_type": "display_data"
        },
        {
          "name": "stderr",
          "output_type": "stream",
          "text": [
            "Matching IDs: 100%|██████████| 2736/2736 [00:00<00:00, 5062.02ID/s]\n"
          ]
        },
        {
          "data": {
            "text/html": [
              "<pre style=\"white-space:pre;overflow-x:auto;line-height:normal;font-family:Menlo,'DejaVu Sans Mono',consolas,'Courier New',monospace\">23:27:58.124 | <span style=\"color: #008080; text-decoration-color: #008080\">INFO</span>    | Task run 'prepareDatasets-0' - Finished in state <span style=\"color: #008000; text-decoration-color: #008000\">Completed</span>()\n",
              "</pre>\n"
            ],
            "text/plain": [
              "23:27:58.124 | \u001b[36mINFO\u001b[0m    | Task run 'prepareDatasets-0' - Finished in state \u001b[32mCompleted\u001b[0m()\n"
            ]
          },
          "metadata": {},
          "output_type": "display_data"
        },
        {
          "name": "stdout",
          "output_type": "stream",
          "text": [
            "1368 samples\n",
            "\n",
            "684 cases\n",
            "\n",
            "684 controls\n",
            "\n",
            "Iteration 7 with model LinearSVC\n"
          ]
        },
        {
          "data": {
            "text/html": [
              "<pre style=\"white-space:pre;overflow-x:auto;line-height:normal;font-family:Menlo,'DejaVu Sans Mono',consolas,'Courier New',monospace\">23:27:58.178 | <span style=\"color: #008080; text-decoration-color: #008080\">INFO</span>    | Flow run<span style=\"color: #800080; text-decoration-color: #800080\"> 'swinging-turkey'</span> - Created task run 'beginTracking-0' for task 'beginTracking'\n",
              "</pre>\n"
            ],
            "text/plain": [
              "23:27:58.178 | \u001b[36mINFO\u001b[0m    | Flow run\u001b[35m 'swinging-turkey'\u001b[0m - Created task run 'beginTracking-0' for task 'beginTracking'\n"
            ]
          },
          "metadata": {},
          "output_type": "display_data"
        },
        {
          "data": {
            "text/html": [
              "<pre style=\"white-space:pre;overflow-x:auto;line-height:normal;font-family:Menlo,'DejaVu Sans Mono',consolas,'Courier New',monospace\">23:27:58.179 | <span style=\"color: #008080; text-decoration-color: #008080\">INFO</span>    | Flow run<span style=\"color: #800080; text-decoration-color: #800080\"> 'swinging-turkey'</span> - Executing 'beginTracking-0' immediately...\n",
              "</pre>\n"
            ],
            "text/plain": [
              "23:27:58.179 | \u001b[36mINFO\u001b[0m    | Flow run\u001b[35m 'swinging-turkey'\u001b[0m - Executing 'beginTracking-0' immediately...\n"
            ]
          },
          "metadata": {},
          "output_type": "display_data"
        },
        {
          "name": "stdout",
          "output_type": "stream",
          "text": [
            "https://new-ui.neptune.ai/ejmockler/ALS-NUPs-NoHyperParamOptimization/e/NUPNOPARAM-334\n",
            "Shutting down background jobs, please wait a moment...\n",
            "Done!\n",
            "Waiting for the remaining 12 operations to synchronize with Neptune. Do not kill this process.\n",
            "All 12 operations synced, thanks for waiting!\n",
            "Explore the metadata in the Neptune app:\n",
            "https://new-ui.neptune.ai/ejmockler/ALS-NUPs-NoHyperParamOptimization/e/NUPNOPARAM-334/metadata\n"
          ]
        },
        {
          "data": {
            "text/html": [
              "<pre style=\"white-space:pre;overflow-x:auto;line-height:normal;font-family:Menlo,'DejaVu Sans Mono',consolas,'Courier New',monospace\">23:28:00.717 | <span style=\"color: #008080; text-decoration-color: #008080\">INFO</span>    | Task run 'beginTracking-0' - Finished in state <span style=\"color: #008000; text-decoration-color: #008000\">Completed</span>()\n",
              "</pre>\n"
            ],
            "text/plain": [
              "23:28:00.717 | \u001b[36mINFO\u001b[0m    | Task run 'beginTracking-0' - Finished in state \u001b[32mCompleted\u001b[0m()\n"
            ]
          },
          "metadata": {},
          "output_type": "display_data"
        },
        {
          "name": "stderr",
          "output_type": "stream",
          "text": [
            "Creating an ndarray from ragged nested sequences (which is a list-or-tuple of lists-or-tuples-or ndarrays with different lengths or shapes) is deprecated. If you meant to do this, you must specify 'dtype=object' when creating the ndarray.\n"
          ]
        },
        {
          "data": {
            "text/html": [
              "<pre style=\"white-space:pre;overflow-x:auto;line-height:normal;font-family:Menlo,'DejaVu Sans Mono',consolas,'Courier New',monospace\">23:28:00.756 | <span style=\"color: #008080; text-decoration-color: #008080\">INFO</span>    | Flow run<span style=\"color: #800080; text-decoration-color: #800080\"> 'marigold-angelfish'</span> - Created task run 'prepareDatasets-0' for task 'prepareDatasets'\n",
              "</pre>\n"
            ],
            "text/plain": [
              "23:28:00.756 | \u001b[36mINFO\u001b[0m    | Flow run\u001b[35m 'marigold-angelfish'\u001b[0m - Created task run 'prepareDatasets-0' for task 'prepareDatasets'\n"
            ]
          },
          "metadata": {},
          "output_type": "display_data"
        },
        {
          "data": {
            "text/html": [
              "<pre style=\"white-space:pre;overflow-x:auto;line-height:normal;font-family:Menlo,'DejaVu Sans Mono',consolas,'Courier New',monospace\">23:28:00.757 | <span style=\"color: #008080; text-decoration-color: #008080\">INFO</span>    | Flow run<span style=\"color: #800080; text-decoration-color: #800080\"> 'marigold-angelfish'</span> - Executing 'prepareDatasets-0' immediately...\n",
              "</pre>\n"
            ],
            "text/plain": [
              "23:28:00.757 | \u001b[36mINFO\u001b[0m    | Flow run\u001b[35m 'marigold-angelfish'\u001b[0m - Executing 'prepareDatasets-0' immediately...\n"
            ]
          },
          "metadata": {},
          "output_type": "display_data"
        },
        {
          "name": "stderr",
          "output_type": "stream",
          "text": [
            "Matching IDs: 100%|██████████| 2736/2736 [00:00<00:00, 5152.98ID/s]\n"
          ]
        },
        {
          "data": {
            "text/html": [
              "<pre style=\"white-space:pre;overflow-x:auto;line-height:normal;font-family:Menlo,'DejaVu Sans Mono',consolas,'Courier New',monospace\">23:28:01.412 | <span style=\"color: #008080; text-decoration-color: #008080\">INFO</span>    | Task run 'prepareDatasets-0' - Finished in state <span style=\"color: #008000; text-decoration-color: #008000\">Completed</span>()\n",
              "</pre>\n"
            ],
            "text/plain": [
              "23:28:01.412 | \u001b[36mINFO\u001b[0m    | Task run 'prepareDatasets-0' - Finished in state \u001b[32mCompleted\u001b[0m()\n"
            ]
          },
          "metadata": {},
          "output_type": "display_data"
        },
        {
          "name": "stdout",
          "output_type": "stream",
          "text": [
            "1368 samples\n",
            "\n",
            "684 cases\n",
            "\n",
            "684 controls\n",
            "\n",
            "Iteration 10 with model LinearSVC\n"
          ]
        },
        {
          "data": {
            "text/html": [
              "<pre style=\"white-space:pre;overflow-x:auto;line-height:normal;font-family:Menlo,'DejaVu Sans Mono',consolas,'Courier New',monospace\">23:28:01.455 | <span style=\"color: #008080; text-decoration-color: #008080\">INFO</span>    | Flow run<span style=\"color: #800080; text-decoration-color: #800080\"> 'marigold-angelfish'</span> - Created task run 'beginTracking-0' for task 'beginTracking'\n",
              "</pre>\n"
            ],
            "text/plain": [
              "23:28:01.455 | \u001b[36mINFO\u001b[0m    | Flow run\u001b[35m 'marigold-angelfish'\u001b[0m - Created task run 'beginTracking-0' for task 'beginTracking'\n"
            ]
          },
          "metadata": {},
          "output_type": "display_data"
        },
        {
          "data": {
            "text/html": [
              "<pre style=\"white-space:pre;overflow-x:auto;line-height:normal;font-family:Menlo,'DejaVu Sans Mono',consolas,'Courier New',monospace\">23:28:01.456 | <span style=\"color: #008080; text-decoration-color: #008080\">INFO</span>    | Flow run<span style=\"color: #800080; text-decoration-color: #800080\"> 'marigold-angelfish'</span> - Executing 'beginTracking-0' immediately...\n",
              "</pre>\n"
            ],
            "text/plain": [
              "23:28:01.456 | \u001b[36mINFO\u001b[0m    | Flow run\u001b[35m 'marigold-angelfish'\u001b[0m - Executing 'beginTracking-0' immediately...\n"
            ]
          },
          "metadata": {},
          "output_type": "display_data"
        },
        {
          "name": "stdout",
          "output_type": "stream",
          "text": [
            "https://new-ui.neptune.ai/ejmockler/ALS-NUPs-NoHyperParamOptimization/e/NUPNOPARAM-335\n",
            "Shutting down background jobs, please wait a moment...\n",
            "Done!\n",
            "Waiting for the remaining 12 operations to synchronize with Neptune. Do not kill this process.\n",
            "All 12 operations synced, thanks for waiting!\n",
            "Explore the metadata in the Neptune app:\n",
            "https://new-ui.neptune.ai/ejmockler/ALS-NUPs-NoHyperParamOptimization/e/NUPNOPARAM-335/metadata\n"
          ]
        },
        {
          "data": {
            "text/html": [
              "<pre style=\"white-space:pre;overflow-x:auto;line-height:normal;font-family:Menlo,'DejaVu Sans Mono',consolas,'Courier New',monospace\">23:28:04.048 | <span style=\"color: #008080; text-decoration-color: #008080\">INFO</span>    | Task run 'beginTracking-0' - Finished in state <span style=\"color: #008000; text-decoration-color: #008000\">Completed</span>()\n",
              "</pre>\n"
            ],
            "text/plain": [
              "23:28:04.048 | \u001b[36mINFO\u001b[0m    | Task run 'beginTracking-0' - Finished in state \u001b[32mCompleted\u001b[0m()\n"
            ]
          },
          "metadata": {},
          "output_type": "display_data"
        },
        {
          "name": "stderr",
          "output_type": "stream",
          "text": [
            "Creating an ndarray from ragged nested sequences (which is a list-or-tuple of lists-or-tuples-or ndarrays with different lengths or shapes) is deprecated. If you meant to do this, you must specify 'dtype=object' when creating the ndarray.\n"
          ]
        },
        {
          "data": {
            "text/html": [
              "<pre style=\"white-space:pre;overflow-x:auto;line-height:normal;font-family:Menlo,'DejaVu Sans Mono',consolas,'Courier New',monospace\">23:28:04.097 | <span style=\"color: #008080; text-decoration-color: #008080\">INFO</span>    | Flow run<span style=\"color: #800080; text-decoration-color: #800080\"> 'hidden-chamois'</span> - Created task run 'prepareDatasets-0' for task 'prepareDatasets'\n",
              "</pre>\n"
            ],
            "text/plain": [
              "23:28:04.097 | \u001b[36mINFO\u001b[0m    | Flow run\u001b[35m 'hidden-chamois'\u001b[0m - Created task run 'prepareDatasets-0' for task 'prepareDatasets'\n"
            ]
          },
          "metadata": {},
          "output_type": "display_data"
        },
        {
          "data": {
            "text/html": [
              "<pre style=\"white-space:pre;overflow-x:auto;line-height:normal;font-family:Menlo,'DejaVu Sans Mono',consolas,'Courier New',monospace\">23:28:04.098 | <span style=\"color: #008080; text-decoration-color: #008080\">INFO</span>    | Flow run<span style=\"color: #800080; text-decoration-color: #800080\"> 'hidden-chamois'</span> - Executing 'prepareDatasets-0' immediately...\n",
              "</pre>\n"
            ],
            "text/plain": [
              "23:28:04.098 | \u001b[36mINFO\u001b[0m    | Flow run\u001b[35m 'hidden-chamois'\u001b[0m - Executing 'prepareDatasets-0' immediately...\n"
            ]
          },
          "metadata": {},
          "output_type": "display_data"
        },
        {
          "name": "stderr",
          "output_type": "stream",
          "text": [
            "Matching IDs: 100%|██████████| 2736/2736 [00:00<00:00, 5097.73ID/s]\n"
          ]
        },
        {
          "data": {
            "text/html": [
              "<pre style=\"white-space:pre;overflow-x:auto;line-height:normal;font-family:Menlo,'DejaVu Sans Mono',consolas,'Courier New',monospace\">23:28:04.764 | <span style=\"color: #008080; text-decoration-color: #008080\">INFO</span>    | Task run 'prepareDatasets-0' - Finished in state <span style=\"color: #008000; text-decoration-color: #008000\">Completed</span>()\n",
              "</pre>\n"
            ],
            "text/plain": [
              "23:28:04.764 | \u001b[36mINFO\u001b[0m    | Task run 'prepareDatasets-0' - Finished in state \u001b[32mCompleted\u001b[0m()\n"
            ]
          },
          "metadata": {},
          "output_type": "display_data"
        },
        {
          "name": "stdout",
          "output_type": "stream",
          "text": [
            "1368 samples\n",
            "\n",
            "684 cases\n",
            "\n",
            "684 controls\n",
            "\n",
            "Iteration 48 with model LinearSVC\n"
          ]
        },
        {
          "data": {
            "text/html": [
              "<pre style=\"white-space:pre;overflow-x:auto;line-height:normal;font-family:Menlo,'DejaVu Sans Mono',consolas,'Courier New',monospace\">23:28:04.803 | <span style=\"color: #008080; text-decoration-color: #008080\">INFO</span>    | Flow run<span style=\"color: #800080; text-decoration-color: #800080\"> 'hidden-chamois'</span> - Created task run 'beginTracking-0' for task 'beginTracking'\n",
              "</pre>\n"
            ],
            "text/plain": [
              "23:28:04.803 | \u001b[36mINFO\u001b[0m    | Flow run\u001b[35m 'hidden-chamois'\u001b[0m - Created task run 'beginTracking-0' for task 'beginTracking'\n"
            ]
          },
          "metadata": {},
          "output_type": "display_data"
        },
        {
          "data": {
            "text/html": [
              "<pre style=\"white-space:pre;overflow-x:auto;line-height:normal;font-family:Menlo,'DejaVu Sans Mono',consolas,'Courier New',monospace\">23:28:04.804 | <span style=\"color: #008080; text-decoration-color: #008080\">INFO</span>    | Flow run<span style=\"color: #800080; text-decoration-color: #800080\"> 'hidden-chamois'</span> - Executing 'beginTracking-0' immediately...\n",
              "</pre>\n"
            ],
            "text/plain": [
              "23:28:04.804 | \u001b[36mINFO\u001b[0m    | Flow run\u001b[35m 'hidden-chamois'\u001b[0m - Executing 'beginTracking-0' immediately...\n"
            ]
          },
          "metadata": {},
          "output_type": "display_data"
        },
        {
          "name": "stdout",
          "output_type": "stream",
          "text": [
            "https://new-ui.neptune.ai/ejmockler/ALS-NUPs-NoHyperParamOptimization/e/NUPNOPARAM-336\n",
            "Shutting down background jobs, please wait a moment...\n",
            "Done!\n",
            "Waiting for the remaining 12 operations to synchronize with Neptune. Do not kill this process.\n",
            "All 12 operations synced, thanks for waiting!\n",
            "Explore the metadata in the Neptune app:\n",
            "https://new-ui.neptune.ai/ejmockler/ALS-NUPs-NoHyperParamOptimization/e/NUPNOPARAM-336/metadata\n"
          ]
        },
        {
          "data": {
            "text/html": [
              "<pre style=\"white-space:pre;overflow-x:auto;line-height:normal;font-family:Menlo,'DejaVu Sans Mono',consolas,'Courier New',monospace\">23:28:07.298 | <span style=\"color: #008080; text-decoration-color: #008080\">INFO</span>    | Task run 'beginTracking-0' - Finished in state <span style=\"color: #008000; text-decoration-color: #008000\">Completed</span>()\n",
              "</pre>\n"
            ],
            "text/plain": [
              "23:28:07.298 | \u001b[36mINFO\u001b[0m    | Task run 'beginTracking-0' - Finished in state \u001b[32mCompleted\u001b[0m()\n"
            ]
          },
          "metadata": {},
          "output_type": "display_data"
        },
        {
          "name": "stderr",
          "output_type": "stream",
          "text": [
            "Creating an ndarray from ragged nested sequences (which is a list-or-tuple of lists-or-tuples-or ndarrays with different lengths or shapes) is deprecated. If you meant to do this, you must specify 'dtype=object' when creating the ndarray.\n"
          ]
        },
        {
          "data": {
            "text/html": [
              "<pre style=\"white-space:pre;overflow-x:auto;line-height:normal;font-family:Menlo,'DejaVu Sans Mono',consolas,'Courier New',monospace\">23:28:07.327 | <span style=\"color: #008080; text-decoration-color: #008080\">INFO</span>    | Flow run<span style=\"color: #800080; text-decoration-color: #800080\"> 'tentacled-quetzal'</span> - Created task run 'prepareDatasets-0' for task 'prepareDatasets'\n",
              "</pre>\n"
            ],
            "text/plain": [
              "23:28:07.327 | \u001b[36mINFO\u001b[0m    | Flow run\u001b[35m 'tentacled-quetzal'\u001b[0m - Created task run 'prepareDatasets-0' for task 'prepareDatasets'\n"
            ]
          },
          "metadata": {},
          "output_type": "display_data"
        },
        {
          "data": {
            "text/html": [
              "<pre style=\"white-space:pre;overflow-x:auto;line-height:normal;font-family:Menlo,'DejaVu Sans Mono',consolas,'Courier New',monospace\">23:28:07.329 | <span style=\"color: #008080; text-decoration-color: #008080\">INFO</span>    | Flow run<span style=\"color: #800080; text-decoration-color: #800080\"> 'tentacled-quetzal'</span> - Executing 'prepareDatasets-0' immediately...\n",
              "</pre>\n"
            ],
            "text/plain": [
              "23:28:07.329 | \u001b[36mINFO\u001b[0m    | Flow run\u001b[35m 'tentacled-quetzal'\u001b[0m - Executing 'prepareDatasets-0' immediately...\n"
            ]
          },
          "metadata": {},
          "output_type": "display_data"
        },
        {
          "name": "stderr",
          "output_type": "stream",
          "text": [
            "Matching IDs: 100%|██████████| 2736/2736 [00:00<00:00, 5136.80ID/s]\n"
          ]
        },
        {
          "data": {
            "text/html": [
              "<pre style=\"white-space:pre;overflow-x:auto;line-height:normal;font-family:Menlo,'DejaVu Sans Mono',consolas,'Courier New',monospace\">23:28:07.976 | <span style=\"color: #008080; text-decoration-color: #008080\">INFO</span>    | Task run 'prepareDatasets-0' - Finished in state <span style=\"color: #008000; text-decoration-color: #008000\">Completed</span>()\n",
              "</pre>\n"
            ],
            "text/plain": [
              "23:28:07.976 | \u001b[36mINFO\u001b[0m    | Task run 'prepareDatasets-0' - Finished in state \u001b[32mCompleted\u001b[0m()\n"
            ]
          },
          "metadata": {},
          "output_type": "display_data"
        },
        {
          "name": "stdout",
          "output_type": "stream",
          "text": [
            "1368 samples\n",
            "\n",
            "684 cases\n",
            "\n",
            "684 controls\n",
            "\n",
            "Iteration 14 with model LinearSVC\n"
          ]
        },
        {
          "data": {
            "text/html": [
              "<pre style=\"white-space:pre;overflow-x:auto;line-height:normal;font-family:Menlo,'DejaVu Sans Mono',consolas,'Courier New',monospace\">23:28:08.030 | <span style=\"color: #008080; text-decoration-color: #008080\">INFO</span>    | Flow run<span style=\"color: #800080; text-decoration-color: #800080\"> 'tentacled-quetzal'</span> - Created task run 'beginTracking-0' for task 'beginTracking'\n",
              "</pre>\n"
            ],
            "text/plain": [
              "23:28:08.030 | \u001b[36mINFO\u001b[0m    | Flow run\u001b[35m 'tentacled-quetzal'\u001b[0m - Created task run 'beginTracking-0' for task 'beginTracking'\n"
            ]
          },
          "metadata": {},
          "output_type": "display_data"
        },
        {
          "data": {
            "text/html": [
              "<pre style=\"white-space:pre;overflow-x:auto;line-height:normal;font-family:Menlo,'DejaVu Sans Mono',consolas,'Courier New',monospace\">23:28:08.031 | <span style=\"color: #008080; text-decoration-color: #008080\">INFO</span>    | Flow run<span style=\"color: #800080; text-decoration-color: #800080\"> 'tentacled-quetzal'</span> - Executing 'beginTracking-0' immediately...\n",
              "</pre>\n"
            ],
            "text/plain": [
              "23:28:08.031 | \u001b[36mINFO\u001b[0m    | Flow run\u001b[35m 'tentacled-quetzal'\u001b[0m - Executing 'beginTracking-0' immediately...\n"
            ]
          },
          "metadata": {},
          "output_type": "display_data"
        },
        {
          "name": "stdout",
          "output_type": "stream",
          "text": [
            "https://new-ui.neptune.ai/ejmockler/ALS-NUPs-NoHyperParamOptimization/e/NUPNOPARAM-337\n",
            "Shutting down background jobs, please wait a moment...\n",
            "Done!\n",
            "Waiting for the remaining 12 operations to synchronize with Neptune. Do not kill this process.\n",
            "All 12 operations synced, thanks for waiting!\n",
            "Explore the metadata in the Neptune app:\n",
            "https://new-ui.neptune.ai/ejmockler/ALS-NUPs-NoHyperParamOptimization/e/NUPNOPARAM-337/metadata\n"
          ]
        },
        {
          "data": {
            "text/html": [
              "<pre style=\"white-space:pre;overflow-x:auto;line-height:normal;font-family:Menlo,'DejaVu Sans Mono',consolas,'Courier New',monospace\">23:28:10.470 | <span style=\"color: #008080; text-decoration-color: #008080\">INFO</span>    | Task run 'beginTracking-0' - Finished in state <span style=\"color: #008000; text-decoration-color: #008000\">Completed</span>()\n",
              "</pre>\n"
            ],
            "text/plain": [
              "23:28:10.470 | \u001b[36mINFO\u001b[0m    | Task run 'beginTracking-0' - Finished in state \u001b[32mCompleted\u001b[0m()\n"
            ]
          },
          "metadata": {},
          "output_type": "display_data"
        },
        {
          "name": "stderr",
          "output_type": "stream",
          "text": [
            "Creating an ndarray from ragged nested sequences (which is a list-or-tuple of lists-or-tuples-or ndarrays with different lengths or shapes) is deprecated. If you meant to do this, you must specify 'dtype=object' when creating the ndarray.\n"
          ]
        },
        {
          "data": {
            "text/html": [
              "<pre style=\"white-space:pre;overflow-x:auto;line-height:normal;font-family:Menlo,'DejaVu Sans Mono',consolas,'Courier New',monospace\">23:28:10.511 | <span style=\"color: #008080; text-decoration-color: #008080\">INFO</span>    | Flow run<span style=\"color: #800080; text-decoration-color: #800080\"> 'nifty-basilisk'</span> - Created task run 'prepareDatasets-0' for task 'prepareDatasets'\n",
              "</pre>\n"
            ],
            "text/plain": [
              "23:28:10.511 | \u001b[36mINFO\u001b[0m    | Flow run\u001b[35m 'nifty-basilisk'\u001b[0m - Created task run 'prepareDatasets-0' for task 'prepareDatasets'\n"
            ]
          },
          "metadata": {},
          "output_type": "display_data"
        },
        {
          "data": {
            "text/html": [
              "<pre style=\"white-space:pre;overflow-x:auto;line-height:normal;font-family:Menlo,'DejaVu Sans Mono',consolas,'Courier New',monospace\">23:28:10.513 | <span style=\"color: #008080; text-decoration-color: #008080\">INFO</span>    | Flow run<span style=\"color: #800080; text-decoration-color: #800080\"> 'nifty-basilisk'</span> - Executing 'prepareDatasets-0' immediately...\n",
              "</pre>\n"
            ],
            "text/plain": [
              "23:28:10.513 | \u001b[36mINFO\u001b[0m    | Flow run\u001b[35m 'nifty-basilisk'\u001b[0m - Executing 'prepareDatasets-0' immediately...\n"
            ]
          },
          "metadata": {},
          "output_type": "display_data"
        },
        {
          "name": "stderr",
          "output_type": "stream",
          "text": [
            "Matching IDs: 100%|██████████| 2736/2736 [00:00<00:00, 4954.33ID/s]\n"
          ]
        },
        {
          "data": {
            "text/html": [
              "<pre style=\"white-space:pre;overflow-x:auto;line-height:normal;font-family:Menlo,'DejaVu Sans Mono',consolas,'Courier New',monospace\">23:28:11.236 | <span style=\"color: #008080; text-decoration-color: #008080\">INFO</span>    | Task run 'prepareDatasets-0' - Finished in state <span style=\"color: #008000; text-decoration-color: #008000\">Completed</span>()\n",
              "</pre>\n"
            ],
            "text/plain": [
              "23:28:11.236 | \u001b[36mINFO\u001b[0m    | Task run 'prepareDatasets-0' - Finished in state \u001b[32mCompleted\u001b[0m()\n"
            ]
          },
          "metadata": {},
          "output_type": "display_data"
        },
        {
          "name": "stdout",
          "output_type": "stream",
          "text": [
            "1368 samples\n",
            "\n",
            "684 cases\n",
            "\n",
            "684 controls\n",
            "\n",
            "Iteration 11 with model LinearSVC\n"
          ]
        },
        {
          "data": {
            "text/html": [
              "<pre style=\"white-space:pre;overflow-x:auto;line-height:normal;font-family:Menlo,'DejaVu Sans Mono',consolas,'Courier New',monospace\">23:28:11.326 | <span style=\"color: #008080; text-decoration-color: #008080\">INFO</span>    | Flow run<span style=\"color: #800080; text-decoration-color: #800080\"> 'nifty-basilisk'</span> - Created task run 'beginTracking-0' for task 'beginTracking'\n",
              "</pre>\n"
            ],
            "text/plain": [
              "23:28:11.326 | \u001b[36mINFO\u001b[0m    | Flow run\u001b[35m 'nifty-basilisk'\u001b[0m - Created task run 'beginTracking-0' for task 'beginTracking'\n"
            ]
          },
          "metadata": {},
          "output_type": "display_data"
        },
        {
          "data": {
            "text/html": [
              "<pre style=\"white-space:pre;overflow-x:auto;line-height:normal;font-family:Menlo,'DejaVu Sans Mono',consolas,'Courier New',monospace\">23:28:11.327 | <span style=\"color: #008080; text-decoration-color: #008080\">INFO</span>    | Flow run<span style=\"color: #800080; text-decoration-color: #800080\"> 'nifty-basilisk'</span> - Executing 'beginTracking-0' immediately...\n",
              "</pre>\n"
            ],
            "text/plain": [
              "23:28:11.327 | \u001b[36mINFO\u001b[0m    | Flow run\u001b[35m 'nifty-basilisk'\u001b[0m - Executing 'beginTracking-0' immediately...\n"
            ]
          },
          "metadata": {},
          "output_type": "display_data"
        },
        {
          "name": "stdout",
          "output_type": "stream",
          "text": [
            "https://new-ui.neptune.ai/ejmockler/ALS-NUPs-NoHyperParamOptimization/e/NUPNOPARAM-338\n",
            "Shutting down background jobs, please wait a moment...\n",
            "Done!\n",
            "Waiting for the remaining 12 operations to synchronize with Neptune. Do not kill this process.\n",
            "All 12 operations synced, thanks for waiting!\n",
            "Explore the metadata in the Neptune app:\n",
            "https://new-ui.neptune.ai/ejmockler/ALS-NUPs-NoHyperParamOptimization/e/NUPNOPARAM-338/metadata\n"
          ]
        },
        {
          "data": {
            "text/html": [
              "<pre style=\"white-space:pre;overflow-x:auto;line-height:normal;font-family:Menlo,'DejaVu Sans Mono',consolas,'Courier New',monospace\">23:28:13.649 | <span style=\"color: #008080; text-decoration-color: #008080\">INFO</span>    | Task run 'beginTracking-0' - Finished in state <span style=\"color: #008000; text-decoration-color: #008000\">Completed</span>()\n",
              "</pre>\n"
            ],
            "text/plain": [
              "23:28:13.649 | \u001b[36mINFO\u001b[0m    | Task run 'beginTracking-0' - Finished in state \u001b[32mCompleted\u001b[0m()\n"
            ]
          },
          "metadata": {},
          "output_type": "display_data"
        },
        {
          "name": "stderr",
          "output_type": "stream",
          "text": [
            "Creating an ndarray from ragged nested sequences (which is a list-or-tuple of lists-or-tuples-or ndarrays with different lengths or shapes) is deprecated. If you meant to do this, you must specify 'dtype=object' when creating the ndarray.\n"
          ]
        },
        {
          "data": {
            "text/html": [
              "<pre style=\"white-space:pre;overflow-x:auto;line-height:normal;font-family:Menlo,'DejaVu Sans Mono',consolas,'Courier New',monospace\">23:28:13.686 | <span style=\"color: #008080; text-decoration-color: #008080\">INFO</span>    | Flow run<span style=\"color: #800080; text-decoration-color: #800080\"> 'nifty-petrel'</span> - Created task run 'prepareDatasets-0' for task 'prepareDatasets'\n",
              "</pre>\n"
            ],
            "text/plain": [
              "23:28:13.686 | \u001b[36mINFO\u001b[0m    | Flow run\u001b[35m 'nifty-petrel'\u001b[0m - Created task run 'prepareDatasets-0' for task 'prepareDatasets'\n"
            ]
          },
          "metadata": {},
          "output_type": "display_data"
        },
        {
          "data": {
            "text/html": [
              "<pre style=\"white-space:pre;overflow-x:auto;line-height:normal;font-family:Menlo,'DejaVu Sans Mono',consolas,'Courier New',monospace\">23:28:13.688 | <span style=\"color: #008080; text-decoration-color: #008080\">INFO</span>    | Flow run<span style=\"color: #800080; text-decoration-color: #800080\"> 'nifty-petrel'</span> - Executing 'prepareDatasets-0' immediately...\n",
              "</pre>\n"
            ],
            "text/plain": [
              "23:28:13.688 | \u001b[36mINFO\u001b[0m    | Flow run\u001b[35m 'nifty-petrel'\u001b[0m - Executing 'prepareDatasets-0' immediately...\n"
            ]
          },
          "metadata": {},
          "output_type": "display_data"
        },
        {
          "name": "stderr",
          "output_type": "stream",
          "text": [
            "Matching IDs: 100%|██████████| 2736/2736 [00:00<00:00, 5129.80ID/s]\n"
          ]
        },
        {
          "data": {
            "text/html": [
              "<pre style=\"white-space:pre;overflow-x:auto;line-height:normal;font-family:Menlo,'DejaVu Sans Mono',consolas,'Courier New',monospace\">23:28:14.351 | <span style=\"color: #008080; text-decoration-color: #008080\">INFO</span>    | Task run 'prepareDatasets-0' - Finished in state <span style=\"color: #008000; text-decoration-color: #008000\">Completed</span>()\n",
              "</pre>\n"
            ],
            "text/plain": [
              "23:28:14.351 | \u001b[36mINFO\u001b[0m    | Task run 'prepareDatasets-0' - Finished in state \u001b[32mCompleted\u001b[0m()\n"
            ]
          },
          "metadata": {},
          "output_type": "display_data"
        },
        {
          "name": "stdout",
          "output_type": "stream",
          "text": [
            "1368 samples\n",
            "\n",
            "684 cases\n",
            "\n",
            "684 controls\n",
            "\n",
            "Iteration 40 with model LinearSVC\n"
          ]
        },
        {
          "data": {
            "text/html": [
              "<pre style=\"white-space:pre;overflow-x:auto;line-height:normal;font-family:Menlo,'DejaVu Sans Mono',consolas,'Courier New',monospace\">23:28:14.418 | <span style=\"color: #008080; text-decoration-color: #008080\">INFO</span>    | Flow run<span style=\"color: #800080; text-decoration-color: #800080\"> 'nifty-petrel'</span> - Created task run 'beginTracking-0' for task 'beginTracking'\n",
              "</pre>\n"
            ],
            "text/plain": [
              "23:28:14.418 | \u001b[36mINFO\u001b[0m    | Flow run\u001b[35m 'nifty-petrel'\u001b[0m - Created task run 'beginTracking-0' for task 'beginTracking'\n"
            ]
          },
          "metadata": {},
          "output_type": "display_data"
        },
        {
          "data": {
            "text/html": [
              "<pre style=\"white-space:pre;overflow-x:auto;line-height:normal;font-family:Menlo,'DejaVu Sans Mono',consolas,'Courier New',monospace\">23:28:14.420 | <span style=\"color: #008080; text-decoration-color: #008080\">INFO</span>    | Flow run<span style=\"color: #800080; text-decoration-color: #800080\"> 'nifty-petrel'</span> - Executing 'beginTracking-0' immediately...\n",
              "</pre>\n"
            ],
            "text/plain": [
              "23:28:14.420 | \u001b[36mINFO\u001b[0m    | Flow run\u001b[35m 'nifty-petrel'\u001b[0m - Executing 'beginTracking-0' immediately...\n"
            ]
          },
          "metadata": {},
          "output_type": "display_data"
        },
        {
          "name": "stdout",
          "output_type": "stream",
          "text": [
            "https://new-ui.neptune.ai/ejmockler/ALS-NUPs-NoHyperParamOptimization/e/NUPNOPARAM-339\n",
            "Shutting down background jobs, please wait a moment...\n",
            "Done!\n",
            "Waiting for the remaining 12 operations to synchronize with Neptune. Do not kill this process.\n",
            "All 12 operations synced, thanks for waiting!\n",
            "Explore the metadata in the Neptune app:\n",
            "https://new-ui.neptune.ai/ejmockler/ALS-NUPs-NoHyperParamOptimization/e/NUPNOPARAM-339/metadata\n"
          ]
        },
        {
          "data": {
            "text/html": [
              "<pre style=\"white-space:pre;overflow-x:auto;line-height:normal;font-family:Menlo,'DejaVu Sans Mono',consolas,'Courier New',monospace\">23:28:16.830 | <span style=\"color: #008080; text-decoration-color: #008080\">INFO</span>    | Task run 'beginTracking-0' - Finished in state <span style=\"color: #008000; text-decoration-color: #008000\">Completed</span>()\n",
              "</pre>\n"
            ],
            "text/plain": [
              "23:28:16.830 | \u001b[36mINFO\u001b[0m    | Task run 'beginTracking-0' - Finished in state \u001b[32mCompleted\u001b[0m()\n"
            ]
          },
          "metadata": {},
          "output_type": "display_data"
        },
        {
          "name": "stderr",
          "output_type": "stream",
          "text": [
            "Creating an ndarray from ragged nested sequences (which is a list-or-tuple of lists-or-tuples-or ndarrays with different lengths or shapes) is deprecated. If you meant to do this, you must specify 'dtype=object' when creating the ndarray.\n"
          ]
        },
        {
          "data": {
            "text/html": [
              "<pre style=\"white-space:pre;overflow-x:auto;line-height:normal;font-family:Menlo,'DejaVu Sans Mono',consolas,'Courier New',monospace\">23:28:16.857 | <span style=\"color: #008080; text-decoration-color: #008080\">INFO</span>    | Flow run<span style=\"color: #800080; text-decoration-color: #800080\"> 'unselfish-rattlesnake'</span> - Created task run 'prepareDatasets-0' for task 'prepareDatasets'\n",
              "</pre>\n"
            ],
            "text/plain": [
              "23:28:16.857 | \u001b[36mINFO\u001b[0m    | Flow run\u001b[35m 'unselfish-rattlesnake'\u001b[0m - Created task run 'prepareDatasets-0' for task 'prepareDatasets'\n"
            ]
          },
          "metadata": {},
          "output_type": "display_data"
        },
        {
          "data": {
            "text/html": [
              "<pre style=\"white-space:pre;overflow-x:auto;line-height:normal;font-family:Menlo,'DejaVu Sans Mono',consolas,'Courier New',monospace\">23:28:16.859 | <span style=\"color: #008080; text-decoration-color: #008080\">INFO</span>    | Flow run<span style=\"color: #800080; text-decoration-color: #800080\"> 'unselfish-rattlesnake'</span> - Executing 'prepareDatasets-0' immediately...\n",
              "</pre>\n"
            ],
            "text/plain": [
              "23:28:16.859 | \u001b[36mINFO\u001b[0m    | Flow run\u001b[35m 'unselfish-rattlesnake'\u001b[0m - Executing 'prepareDatasets-0' immediately...\n"
            ]
          },
          "metadata": {},
          "output_type": "display_data"
        },
        {
          "name": "stderr",
          "output_type": "stream",
          "text": [
            "Matching IDs: 100%|██████████| 2736/2736 [00:00<00:00, 4981.90ID/s]\n"
          ]
        },
        {
          "data": {
            "text/html": [
              "<pre style=\"white-space:pre;overflow-x:auto;line-height:normal;font-family:Menlo,'DejaVu Sans Mono',consolas,'Courier New',monospace\">23:28:17.520 | <span style=\"color: #008080; text-decoration-color: #008080\">INFO</span>    | Task run 'prepareDatasets-0' - Finished in state <span style=\"color: #008000; text-decoration-color: #008000\">Completed</span>()\n",
              "</pre>\n"
            ],
            "text/plain": [
              "23:28:17.520 | \u001b[36mINFO\u001b[0m    | Task run 'prepareDatasets-0' - Finished in state \u001b[32mCompleted\u001b[0m()\n"
            ]
          },
          "metadata": {},
          "output_type": "display_data"
        },
        {
          "name": "stdout",
          "output_type": "stream",
          "text": [
            "1368 samples\n",
            "\n",
            "684 cases\n",
            "\n",
            "684 controls\n",
            "\n",
            "Iteration 30 with model LinearSVC\n"
          ]
        },
        {
          "data": {
            "text/html": [
              "<pre style=\"white-space:pre;overflow-x:auto;line-height:normal;font-family:Menlo,'DejaVu Sans Mono',consolas,'Courier New',monospace\">23:28:17.576 | <span style=\"color: #008080; text-decoration-color: #008080\">INFO</span>    | Flow run<span style=\"color: #800080; text-decoration-color: #800080\"> 'unselfish-rattlesnake'</span> - Created task run 'beginTracking-0' for task 'beginTracking'\n",
              "</pre>\n"
            ],
            "text/plain": [
              "23:28:17.576 | \u001b[36mINFO\u001b[0m    | Flow run\u001b[35m 'unselfish-rattlesnake'\u001b[0m - Created task run 'beginTracking-0' for task 'beginTracking'\n"
            ]
          },
          "metadata": {},
          "output_type": "display_data"
        },
        {
          "data": {
            "text/html": [
              "<pre style=\"white-space:pre;overflow-x:auto;line-height:normal;font-family:Menlo,'DejaVu Sans Mono',consolas,'Courier New',monospace\">23:28:17.577 | <span style=\"color: #008080; text-decoration-color: #008080\">INFO</span>    | Flow run<span style=\"color: #800080; text-decoration-color: #800080\"> 'unselfish-rattlesnake'</span> - Executing 'beginTracking-0' immediately...\n",
              "</pre>\n"
            ],
            "text/plain": [
              "23:28:17.577 | \u001b[36mINFO\u001b[0m    | Flow run\u001b[35m 'unselfish-rattlesnake'\u001b[0m - Executing 'beginTracking-0' immediately...\n"
            ]
          },
          "metadata": {},
          "output_type": "display_data"
        },
        {
          "name": "stdout",
          "output_type": "stream",
          "text": [
            "https://new-ui.neptune.ai/ejmockler/ALS-NUPs-NoHyperParamOptimization/e/NUPNOPARAM-340\n",
            "Shutting down background jobs, please wait a moment...\n",
            "Done!\n",
            "Waiting for the remaining 12 operations to synchronize with Neptune. Do not kill this process.\n",
            "All 12 operations synced, thanks for waiting!\n",
            "Explore the metadata in the Neptune app:\n",
            "https://new-ui.neptune.ai/ejmockler/ALS-NUPs-NoHyperParamOptimization/e/NUPNOPARAM-340/metadata\n"
          ]
        },
        {
          "data": {
            "text/html": [
              "<pre style=\"white-space:pre;overflow-x:auto;line-height:normal;font-family:Menlo,'DejaVu Sans Mono',consolas,'Courier New',monospace\">23:28:19.869 | <span style=\"color: #008080; text-decoration-color: #008080\">INFO</span>    | Task run 'beginTracking-0' - Finished in state <span style=\"color: #008000; text-decoration-color: #008000\">Completed</span>()\n",
              "</pre>\n"
            ],
            "text/plain": [
              "23:28:19.869 | \u001b[36mINFO\u001b[0m    | Task run 'beginTracking-0' - Finished in state \u001b[32mCompleted\u001b[0m()\n"
            ]
          },
          "metadata": {},
          "output_type": "display_data"
        },
        {
          "name": "stderr",
          "output_type": "stream",
          "text": [
            "Creating an ndarray from ragged nested sequences (which is a list-or-tuple of lists-or-tuples-or ndarrays with different lengths or shapes) is deprecated. If you meant to do this, you must specify 'dtype=object' when creating the ndarray.\n"
          ]
        },
        {
          "data": {
            "text/html": [
              "<pre style=\"white-space:pre;overflow-x:auto;line-height:normal;font-family:Menlo,'DejaVu Sans Mono',consolas,'Courier New',monospace\">23:28:19.900 | <span style=\"color: #008080; text-decoration-color: #008080\">INFO</span>    | Flow run<span style=\"color: #800080; text-decoration-color: #800080\"> 'steel-gecko'</span> - Created task run 'prepareDatasets-0' for task 'prepareDatasets'\n",
              "</pre>\n"
            ],
            "text/plain": [
              "23:28:19.900 | \u001b[36mINFO\u001b[0m    | Flow run\u001b[35m 'steel-gecko'\u001b[0m - Created task run 'prepareDatasets-0' for task 'prepareDatasets'\n"
            ]
          },
          "metadata": {},
          "output_type": "display_data"
        },
        {
          "data": {
            "text/html": [
              "<pre style=\"white-space:pre;overflow-x:auto;line-height:normal;font-family:Menlo,'DejaVu Sans Mono',consolas,'Courier New',monospace\">23:28:19.901 | <span style=\"color: #008080; text-decoration-color: #008080\">INFO</span>    | Flow run<span style=\"color: #800080; text-decoration-color: #800080\"> 'steel-gecko'</span> - Executing 'prepareDatasets-0' immediately...\n",
              "</pre>\n"
            ],
            "text/plain": [
              "23:28:19.901 | \u001b[36mINFO\u001b[0m    | Flow run\u001b[35m 'steel-gecko'\u001b[0m - Executing 'prepareDatasets-0' immediately...\n"
            ]
          },
          "metadata": {},
          "output_type": "display_data"
        },
        {
          "name": "stderr",
          "output_type": "stream",
          "text": [
            "Matching IDs: 100%|██████████| 2736/2736 [00:00<00:00, 4874.26ID/s]\n"
          ]
        },
        {
          "data": {
            "text/html": [
              "<pre style=\"white-space:pre;overflow-x:auto;line-height:normal;font-family:Menlo,'DejaVu Sans Mono',consolas,'Courier New',monospace\">23:28:20.587 | <span style=\"color: #008080; text-decoration-color: #008080\">INFO</span>    | Task run 'prepareDatasets-0' - Finished in state <span style=\"color: #008000; text-decoration-color: #008000\">Completed</span>()\n",
              "</pre>\n"
            ],
            "text/plain": [
              "23:28:20.587 | \u001b[36mINFO\u001b[0m    | Task run 'prepareDatasets-0' - Finished in state \u001b[32mCompleted\u001b[0m()\n"
            ]
          },
          "metadata": {},
          "output_type": "display_data"
        },
        {
          "name": "stdout",
          "output_type": "stream",
          "text": [
            "1368 samples\n",
            "\n",
            "684 cases\n",
            "\n",
            "684 controls\n",
            "\n",
            "Iteration 44 with model LinearSVC\n"
          ]
        },
        {
          "data": {
            "text/html": [
              "<pre style=\"white-space:pre;overflow-x:auto;line-height:normal;font-family:Menlo,'DejaVu Sans Mono',consolas,'Courier New',monospace\">23:28:20.641 | <span style=\"color: #008080; text-decoration-color: #008080\">INFO</span>    | Flow run<span style=\"color: #800080; text-decoration-color: #800080\"> 'steel-gecko'</span> - Created task run 'beginTracking-0' for task 'beginTracking'\n",
              "</pre>\n"
            ],
            "text/plain": [
              "23:28:20.641 | \u001b[36mINFO\u001b[0m    | Flow run\u001b[35m 'steel-gecko'\u001b[0m - Created task run 'beginTracking-0' for task 'beginTracking'\n"
            ]
          },
          "metadata": {},
          "output_type": "display_data"
        },
        {
          "data": {
            "text/html": [
              "<pre style=\"white-space:pre;overflow-x:auto;line-height:normal;font-family:Menlo,'DejaVu Sans Mono',consolas,'Courier New',monospace\">23:28:20.642 | <span style=\"color: #008080; text-decoration-color: #008080\">INFO</span>    | Flow run<span style=\"color: #800080; text-decoration-color: #800080\"> 'steel-gecko'</span> - Executing 'beginTracking-0' immediately...\n",
              "</pre>\n"
            ],
            "text/plain": [
              "23:28:20.642 | \u001b[36mINFO\u001b[0m    | Flow run\u001b[35m 'steel-gecko'\u001b[0m - Executing 'beginTracking-0' immediately...\n"
            ]
          },
          "metadata": {},
          "output_type": "display_data"
        },
        {
          "name": "stdout",
          "output_type": "stream",
          "text": [
            "https://new-ui.neptune.ai/ejmockler/ALS-NUPs-NoHyperParamOptimization/e/NUPNOPARAM-341\n"
          ]
        }
      ],
      "source": [
        "from sklearn.model_selection import StratifiedKFold\n",
        "from sklearn.calibration import CalibrationDisplay\n",
        "from sklearn.metrics import RocCurveDisplay, roc_auc_score, auc\n",
        "from sklearn.preprocessing import MinMaxScaler\n",
        "from skopt.plots import plot_convergence\n",
        "\n",
        "from skopt import BayesSearchCV\n",
        "\n",
        "from fastnumbers import check_real\n",
        "\n",
        "from types import SimpleNamespace\n",
        "import matplotlib.pyplot as plt\n",
        "from matplotlib.gridspec import GridSpec\n",
        "\n",
        "import asyncio\n",
        "\n",
        "import neptune\n",
        "from neptune.types import File\n",
        "\n",
        "import shap\n",
        "\n",
        "from inspect import isclass\n",
        "from io import StringIO\n",
        "import traceback\n",
        "\n",
        "# stop API errors when awaiting results\n",
        "# !prefect config set PREFECT_RESULTS_PERSIST_BY_DEFAULT=True\n",
        "\n",
        "@task()\n",
        "def getFeatureImportances(model, data, featureLabels):\n",
        "  \"\"\"Get feature importances from fitted model and create SHAP explainer\"\"\"\n",
        "  if model.__class__.__name__ == \"MultinomialNB\":\n",
        "    modelCoefficientDF = pd.DataFrame()\n",
        "    for i, c in enumerate(model.feature_count_[0] if len(model.feature_count_.shape) > 1 else model.feature_count_):\n",
        "      modelCoefficientDF.loc[i, f\"feature_importances_{config['clinicalTable']['controlAlias']}\"] = model.feature_log_prob_[0][i]\n",
        "      modelCoefficientDF.loc[i, f\"feature_importances_{config['clinicalTable']['caseAlias']}\"] = model.feature_log_prob_[1][i]\n",
        "  elif hasattr(model, \"coef_\"):\n",
        "    modelCoefficientDF = pd.DataFrame()\n",
        "    if len(model.coef_.shape) > 1:\n",
        "      try:\n",
        "        modelCoefficientDF[f\"feature_importances_{config['clinicalTable']['controlAlias']}\"] = model.coef_[0]\n",
        "        modelCoefficientDF[f\"feature_importances_{config['clinicalTable']['caseAlias']}\"] = model.coef_[1]\n",
        "      except IndexError:\n",
        "        modelCoefficientDF[f\"feature_importances\"] = model.coef_[0]                 \n",
        "    else:\n",
        "      modelCoefficientDF[f\"feature_importances\"] = model.coef_[0]\n",
        "  elif hasattr(model, \"feature_importances_\"):\n",
        "    modelCoefficientDF = pd.DataFrame()\n",
        "    modelCoefficientDF[f\"feature_importances\"] = model.feature_importances_\n",
        "  else:\n",
        "    modelCoefficientDF = None\n",
        "\n",
        "  if type(modelCoefficientDF) == pd.DataFrame:\n",
        "      modelCoefficientDF.index = featureLabels\n",
        "      modelCoefficientDF.index.name = \"features\"\n",
        "      \n",
        "  if config['model']['calculateShapelyExplanations']:\n",
        "    # Cluster correlated and hierarchical features using masker\n",
        "    masker = shap.maskers.Partition(data, clustering=\"correlation\")\n",
        "    shapExplainer = shap.explainers.Permutation(\n",
        "      model.predict_proba if hasattr(model, \"predict_proba\") \n",
        "      else model.predict, \n",
        "      masker, \n",
        "      feature_names=[\"_\".join(label)\n",
        "        for label in featureLabels])\n",
        "    shapValues = shapExplainer(data)\n",
        "  else:\n",
        "    shapExplainer = None\n",
        "    shapValues = None\n",
        "    masker = None\n",
        "  return modelCoefficientDF, shapValues, shapExplainer, masker\n",
        "\n",
        "\n",
        "@task()\n",
        "def plotCalibration(title, labelsPredictionsByInstance):\n",
        "  # code from https://scikit-learn.org/stable/auto_examples/calibration/plot_calibration_curve.html\n",
        "  fig, ax_calibration_curve = plt.subplots(figsize=(10, 10))\n",
        "  colors = plt.cm.get_cmap(\"Dark2\")\n",
        "\n",
        "  calibration_displays = {}\n",
        "  for i, (name, (labels, predictions)) in enumerate(labelsPredictionsByInstance.items()):\n",
        "      display = CalibrationDisplay.from_predictions(\n",
        "          [config[\"clinicalTable\"][\"caseAlias\"] if label == 1 else label \n",
        "            for label in labels],\n",
        "          predictions,\n",
        "          pos_label=config[\"clinicalTable\"][\"caseAlias\"],\n",
        "          n_bins=10,\n",
        "          name=name,\n",
        "          ax=ax_calibration_curve,\n",
        "          color=colors(i),\n",
        "      )\n",
        "      calibration_displays[name] = display\n",
        "\n",
        "  ax_calibration_curve.grid()\n",
        "  ax_calibration_curve.set_title(title)\n",
        "\n",
        "  # Add histogram\n",
        "  # grid_positions = [(i+2,j) for i in range(len(predictionsByModelName.keys())//2) for j in range(2)]\n",
        "  # for i, modelName in enumerate(predictionsByModelName.keys()):\n",
        "  #     row, col = grid_positions[i]\n",
        "  #     ax = fig.add_subplot(gs[row, col])\n",
        "  #     ax.hist(\n",
        "  #         calibration_displays[modelName].y_prob,\n",
        "  #         range=(0, 1),\n",
        "  #         bins=10,\n",
        "  #         label=modelName,\n",
        "  #         color=colors(i),\n",
        "  #     )\n",
        "  #     ax.set(title=modelName, xlabel=\"Mean predicted probability\", ylabel=\"Count\")\n",
        "\n",
        "  plt.tight_layout()\n",
        "  return fig\n",
        "\n",
        "@task()\n",
        "def plotAUC(title, labelsPredictionsByInstance):\n",
        "  # trace AUC for each set of predictions\n",
        "  tprs = []\n",
        "  aucs = []\n",
        "  mean_fpr = np.linspace(0, 1, 100)\n",
        "\n",
        "  fig, ax = plt.subplots(figsize=(10, 10))\n",
        "  for name, (labels, predictions) in labelsPredictionsByInstance.items():\n",
        "    # plot ROC curve for this fold\n",
        "    viz = RocCurveDisplay.from_predictions([\n",
        "                          config[\"clinicalTable\"][\"caseAlias\"] if label == 1 else label \n",
        "                          for label in labels], \n",
        "                        predictions,\n",
        "                        name=name,\n",
        "                        pos_label=config[\"clinicalTable\"][\"caseAlias\"],\n",
        "                        alpha=0.6, lw=2, ax=ax)\n",
        "    interp_tpr = np.interp(mean_fpr, viz.fpr, viz.tpr)\n",
        "    interp_tpr[0] = 0.0\n",
        "    tprs.append(interp_tpr)\n",
        "    aucs.append(viz.roc_auc)\n",
        "    \n",
        "  # summarize ROCs per fold and plot standard deviation\n",
        "  ax.plot([0, 1], [0, 1], linestyle='--', lw=2, color='r',\n",
        "      label='Chance', alpha=.8)\n",
        "  mean_tpr = np.mean(tprs, axis=0)\n",
        "  mean_tpr[-1] = 1.0\n",
        "  mean_auc = auc(mean_fpr, mean_tpr)\n",
        "  std_auc = np.std(aucs)\n",
        "  ax.plot(mean_fpr, mean_tpr, color='b',\n",
        "          label=r'Mean ROC (AUC = %0.2f $\\pm$ %0.2f)' % (mean_auc, std_auc),\n",
        "          lw=4, alpha=.8)\n",
        "  std_tpr = np.std(tprs, axis=0)\n",
        "  tprs_upper = np.minimum(mean_tpr + std_tpr, 1)\n",
        "  tprs_lower = np.maximum(mean_tpr - std_tpr, 0)\n",
        "  ax.fill_between(mean_fpr, tprs_lower, tprs_upper, color='grey', alpha=.2,\n",
        "                  label=r'$\\pm$ 1 std. dev.')\n",
        "\n",
        "  ax.set(xlim=[-0.05, 1.05], ylim=[-0.05, 1.05],\n",
        "        title=title)\n",
        "  ax.legend(loc=\"lower right\")\n",
        "  ax.set(title=title)\n",
        "  return fig\n",
        "\n",
        "\n",
        "@task()\n",
        "def plotConfusionMatrix():\n",
        "  pass\n",
        "\n",
        "@task()\n",
        "def plotSampleAccuracy():\n",
        "  pass\n",
        "\n",
        "@task()\n",
        "def plotOptimizer(title, resultsByInstance):\n",
        "  # code from https://scikit-learn.org/stable/auto_examples/calibration/plot_calibration_curve.html\n",
        "  fig = plt.figure(figsize=(10, 10))\n",
        "  gs = GridSpec(2, 2)\n",
        "  colors = plt.cm.get_cmap(\"Dark2\")\n",
        "  ax_convergence = fig.add_subplot(gs[:2, :2])\n",
        "  plot_convergence(*[\n",
        "    (modelName, result) for modelName, result in resultsByInstance.items()], \n",
        "    ax=ax_convergence, color=colors)\n",
        "  ax_convergence.set(title=title)\n",
        "  plt.tight_layout()\n",
        "  return fig\n",
        "\n",
        "@task()\n",
        "def prepareDatasets(caseGenotypes, controlGenotypes, verbose=True):\n",
        "    caseIDs = caseGenotypes.columns\n",
        "    controlIDs = controlGenotypes.columns\n",
        "    # store number of cases & controls\n",
        "    caseControlCounts = [len(caseIDs), len(controlIDs)]\n",
        "    # determine which has more samples\n",
        "    labeledIDs = [caseIDs, controlIDs]\n",
        "    majorIDs = labeledIDs[np.argmax(caseControlCounts)]\n",
        "    minorIDs = labeledIDs[np.argmin(caseControlCounts)]\n",
        "    # downsample larger group to match smaller group\n",
        "    majorIndex = np.random.choice(np.arange(len(majorIDs)), min(caseControlCounts), replace=False)\n",
        "    \n",
        "    excessMajorIDs, balancedMajorIDs = [], []\n",
        "    for index, id in enumerate(majorIDs):\n",
        "      if index in majorIndex:\n",
        "        balancedMajorIDs.append(id)\n",
        "      else:\n",
        "        excessMajorIDs.append(id)\n",
        "    \n",
        "    allGenotypes = pd.concat([caseGenotypes, controlGenotypes], axis=1)\n",
        "    \n",
        "    genotypeExcessIDs, crossValGenotypeIDs = [], []\n",
        "    # match IDs between genotype and clinical data; dataframe labels have label suffixes\n",
        "    unmatchedTrainIDs = balancedMajorIDs + minorIDs\n",
        "    for label in tqdm(allGenotypes.columns, desc=\"Matching IDs\", unit=\"ID\"):\n",
        "      for setType in [\"excess\", \"train\"]:\n",
        "        idSet = excessMajorIDs if setType == \"excess\" else unmatchedTrainIDs\n",
        "        for i, id in enumerate(idSet):\n",
        "          if (id in label) or (label in id): \n",
        "            if setType == \"train\":\n",
        "              if label not in crossValGenotypeIDs: crossValGenotypeIDs.append(label)\n",
        "            elif setType == \"excess\":\n",
        "              if label not in genotypeExcessIDs: genotypeExcessIDs.append(label)\n",
        "            idSet = np.delete(idSet, i)\n",
        "            break\n",
        "          \n",
        "    if verbose:\n",
        "      print(f\"\\n{len(crossValGenotypeIDs)} for training:\\n{crossValGenotypeIDs}\")\n",
        "      print(f\"\\n{len(genotypeExcessIDs)} are excess:\\n{genotypeExcessIDs}\")\n",
        "      print(f\"\\nVariant count: {len(allGenotypes.index)}\")\n",
        "      \n",
        "    samples = allGenotypes.loc[:, crossValGenotypeIDs].dropna(how='any')  # drop variants with missing values\n",
        "    excessMajorSamples = allGenotypes.loc[:, genotypeExcessIDs]\n",
        "\n",
        "    variantIndex = list(samples.index)\n",
        "    pass\n",
        "    scaler = MinMaxScaler()\n",
        "    embedding = {\n",
        "        'sampleIndex': crossValGenotypeIDs,\n",
        "        'labels': np.array([1 if id in caseIDs else 0 for id in crossValGenotypeIDs]),\n",
        "        'samples': scaler.fit_transform(samples).transpose(), # samples are now rows (samples, variants)\n",
        "        'excessMajorIndex': genotypeExcessIDs,\n",
        "        'excessMajorLabels': [1 if id in caseIDs else 0 for id in genotypeExcessIDs],\n",
        "        'excessMajorSamples': scaler.fit_transform(excessMajorSamples).transpose(),\n",
        "        'variantIndex': variantIndex,\n",
        "    }\n",
        "    return embedding\n",
        "  \n",
        "@task()\n",
        "def optimizeHyperparameters(samples, labels, model, parameterSpace, cvIterator, metricFunction, n_jobs=1):\n",
        "  # hyperparameter search (inner cross-validation)\n",
        "  optimizer = BayesSearchCV(\n",
        "    model, parameterSpace, cv=cvIterator, n_jobs=n_jobs, n_points=4,\n",
        "    return_train_score=True, n_iter=100, scoring=metricFunction)\n",
        "  # train / optimize parameters\n",
        "  optimizer.fit(samples, labels)\n",
        "  return optimizer\n",
        "\n",
        "def serializeDataFrame(dataframe):\n",
        "  stream = StringIO()\n",
        "  dataframe.to_csv(stream)\n",
        "  return File.from_stream(stream, extension='csv')\n",
        "\n",
        "@task()\n",
        "def beginTracking(model, runNumber, embedding, clinicalData, deserializedIDs):\n",
        "  runTracker = neptune.init_run(project=f'{config[\"tracking\"][\"entity\"]}/{config[\"tracking\"][\"project\"]}', api_token=config['tracking']['token'])\n",
        "  runTracker['sys/tags'].add(model.__class__.__name__)\n",
        "  runTracker['bootstrapIteration'] = runNumber+1\n",
        "  runTracker[\"config\"] = {key: (item if check_real(item) or isinstance(item, str) else str(item)) for key, item in config.items()}\n",
        "  \n",
        "  runTracker['embedding'].upload(serializeDataFrame(pd.DataFrame(data=embedding[\"samples\"], columns=embedding[\"variantIndex\"], index=embedding[\"sampleIndex\"])))\n",
        "  runTracker['clinicalData'].upload(serializeDataFrame(clinicalData.loc[clinicalData.index.isin(deserializedIDs)]))\n",
        "  \n",
        "  runTracker['nVariants'] = len(embedding[\"variantIndex\"])\n",
        "  runID = runTracker[\"sys/id\"].fetch()\n",
        "  runTracker.stop()\n",
        "  return runID\n",
        "\n",
        "@task()\n",
        "def trackResults(runID, current):\n",
        "  runTracker = neptune.init_run(project=f'{config[\"tracking\"][\"entity\"]}/{config[\"tracking\"][\"project\"]}', with_id=runID, api_token=config['tracking']['token'])\n",
        "  if config['model']['hyperparameterOptimization']:\n",
        "      runTracker[\"modelParams\"] = {k+1: current[\"fittedOptimizers\"][k].best_params_ for k in range(config['sampling']['crossValIterations'])}\n",
        "\n",
        "  runTracker[\"sampleResults\"].upload(serializeDataFrame(pd.DataFrame.from_dict({\n",
        "      \"probability\": [probability[1] for foldResults in current[\"probabilities\"] for probability in foldResults], \n",
        "      \"id\": [id for foldResults in current[\"testIDs\"] for id in foldResults]}, dtype=object).set_index(\"id\")))\n",
        "  \n",
        "  if config['model']['calculateShapelyExplanations']:\n",
        "    runTracker['shapExplanationsPerFold'].upload(File.as_pickle(current[\"localExplanations\"]))\n",
        "    runTracker['shapExplainersPerFold'].upload(File.as_pickle(current[\"shapExplainers\"]))\n",
        "    runTracker['shapMaskersPerFold'].upload(File.as_pickle(current[\"shapMaskers\"]))\n",
        "    runTracker[\"featureImportance/shapelyExplanations/average\"].upload(serializeDataFrame(current['averageShapelyValues']))\n",
        " \n",
        "  if current[\"globalExplanations\"][0] is not None:\n",
        "    runTracker[f\"featureImportance/modelCoefficients/average\"].upload(\n",
        "      serializeDataFrame(current[\"averageGlobalExplanations\"]))\n",
        " \n",
        "  for k in range(config['sampling']['crossValIterations']):\n",
        "    runTracker[f'trainIDs/{k+1}'].upload(serializeDataFrame(pd.Series(current[\"trainIDs\"][k])))\n",
        "    runTracker[f'testIDs/{k+1}'].upload(serializeDataFrame(pd.Series(current[\"testIDs\"][k])))\n",
        "    runTracker[f'testLabels/{k+1}'].upload(serializeDataFrame(pd.Series(current[\"testLabels\"][k])))\n",
        "    runTracker[f'trainLabels/{k+1}'].upload(serializeDataFrame(pd.Series(current[\"trainLabels\"][k])))\n",
        "    if current[\"globalExplanations\"][k] is not None:\n",
        "      runTracker[f\"featureImportance/modelCoefficients/{k+1}\"].upload(serializeDataFrame(current[\"globalExplanations\"][k]))\n",
        "    if config['model']['calculateShapelyExplanations']:\n",
        "      runTracker[f\"featureImportance/shapelyExplanations/{k+1}\"].upload(serializeDataFrame(pd.DataFrame.from_dict({\n",
        "        \"feature_name\": [name for name in current['localExplanations'][0].feature_names],\n",
        "        \"value\": [np.mean(current['localExplanations'][k].values[featureIndex])\n",
        "          for featureIndex in range(len(current['localExplanations'][0].feature_names))]\n",
        "        }, dtype=object).set_index(\"feature_name\")))\n",
        "  \n",
        "  runTracker[\"meanAUC\"] = np.mean(current[\"testAUC\"])\n",
        "  # average sample count across folds\n",
        "  runTracker['nTrain'] = np.mean([len(idList) for idList in current[\"trainIDs\"]])\n",
        "  runTracker['nTest'] = np.mean([len(idList) for idList in current[\"testIDs\"]])\n",
        "  runTracker.stop()\n",
        "      \n",
        "# parallel task runner patch https://github.com/PrefectHQ/prefect/issues/7319\n",
        "# TODO build task runners only \n",
        "async def build_subflow(name, args):\n",
        "  \n",
        "  if name == 'classify':\n",
        "    @flow(\n",
        "      task_runner=ConcurrentTaskRunner())\n",
        "    async def classify(runNumber, innerCvIterator, outerCvIterator):\n",
        "      embedding = prepareDatasets(caseGenotypes, controlGenotypes, verbose=(True if runNumber == 0 else False))\n",
        "      deserializedIDs = list()\n",
        "      for id in embedding['sampleIndex']:\n",
        "        deserializedIDs.extend(id.split(\"__\"))\n",
        "      totalSampleCount = len(embedding['samples'])\n",
        "      caseCount = np.count_nonzero(embedding['labels'])\n",
        "      print(f\"{totalSampleCount} samples\\n\")\n",
        "      print(f\"{caseCount} cases\\n\")\n",
        "      print(f\"{totalSampleCount - caseCount} controls\\n\")\n",
        "      results = {}\n",
        "      results['samples'] = {}\n",
        "      results['labels'] = {}\n",
        "      results['models'] = {}\n",
        "      trainIDs = set()\n",
        "      testIDs = set()\n",
        "      for(model, parameterSpace) in list(config['model']['stack'].items())[:1]:\n",
        "        current = {}\n",
        "        # check if model is initialized\n",
        "        if isclass(model):\n",
        "          if model.__name__ == 'TabNetClassifier':\n",
        "            model = model(verbose=False, optimizer_fn=Lion)\n",
        "        print(f\"Iteration {runNumber+1} with model {model.__class__.__name__}\")\n",
        "        runID = beginTracking(model, runNumber, embedding, clinicalData, deserializedIDs)\n",
        "        # outer cross-validation\n",
        "        crossValIndices = np.array([\n",
        "            (cvTrainIndices, cvTestIndices) \n",
        "            for (cvTrainIndices, cvTestIndices) in outerCvIterator.split(embedding['samples'], embedding['labels'])])\n",
        "        current[\"trainIndices\"] = crossValIndices[:,0]\n",
        "        current[\"testIndices\"] = crossValIndices[:,1]\n",
        "        trainIDs.update(*[np.array(embedding['sampleIndex'])[indices] for indices in current[\"trainIndices\"]])\n",
        "        testIDs.update(*[np.array(embedding['sampleIndex'])[indices] for indices in current[\"testIndices\"]])\n",
        "        outerCrossValResults = zip(*await asyncio.gather(\n",
        "          *[build_subflow('evaluate', (\n",
        "              trainIndices, testIndices, model, embedding['labels'], embedding['samples'], embedding['variantIndex'], embedding['sampleIndex'], parameterSpace, innerCvIterator))\n",
        "            for trainIndices, testIndices in zip(current[\"trainIndices\"], current[\"testIndices\"])\n",
        "          ]))\n",
        "        resultNames = [\"globalExplanations\", \"localExplanations\", \"probabilities\", \"predictions\", \"testLabels\", \"trainLabels\", \"trainIDs\", \"testIDs\", \"fittedOptimizers\", \"shapExplainers\", \"shapMaskers\"]\n",
        "        current = {**current, **{name: result for name, result in zip(resultNames, outerCrossValResults)}}\n",
        "        current[\"testAUC\"] = [roc_auc_score(labels, (probabilities[:,1] if len(probabilities.shape) > 1 else probabilities))\n",
        "          for labels, probabilities in zip(current[\"testLabels\"], current[\"probabilities\"])]\n",
        "        \n",
        "        if config['model']['calculateShapelyExplanations']:\n",
        "          current['averageShapelyValues'] = pd.DataFrame.from_dict({\n",
        "            \"feature_name\": [name for name in current['localExplanations'][0].feature_names],\n",
        "            \"value\": [np.mean(\n",
        "              np.hstack([np.mean(localExplanations.values[:,featureIndex]) for localExplanations in current['localExplanations']])\n",
        "              ) for featureIndex in range(len(current['localExplanations'][0].feature_names))]\n",
        "            }, dtype=object).set_index(\"feature_name\")\n",
        "          \n",
        "        if current['globalExplanations'][0] is not None:\n",
        "          current['averageGlobalExplanations'] = pd.concat(current[\"globalExplanations\"]).reset_index().groupby(\"features\").mean()\n",
        "        \n",
        "        caseAccuracy = np.mean([np.divide(np.count_nonzero(labels==predictions), len(labels)) for predictions, labels in zip(current[\"predictions\"], current[\"testLabels\"])])\n",
        "        controlAccuracy = 1 - caseAccuracy\n",
        "        trackResults(runID, current)\n",
        "        \n",
        "        # plot AUC & hyperparameter convergence\n",
        "        plotSubtitle = f\"\"\"\n",
        "              {config[\"tracking\"][\"name\"]}, {embedding[\"samples\"].shape[1]} variants\n",
        "              Minor allele frequency over {'{:.1%}'.format(config['vcfLike']['minAlleleFrequency'])}\n",
        "              \n",
        "              {np.count_nonzero(embedding['labels'])} {config[\"clinicalTable\"][\"caseAlias\"]}s @ {'{:.1%}'.format(caseAccuracy)} accuracy, {len(embedding['labels']) - np.count_nonzero(embedding['labels'])} {config[\"clinicalTable\"][\"controlAlias\"]}s @ {'{:.1%}'.format(controlAccuracy)} accuracy\n",
        "              {int(np.around(np.mean([len(indices) for indices in current[\"trainIndices\"]])))}±1 train, {int(np.around(np.mean([len(indices) for indices in current[\"testIndices\"]])))}±1 test samples per x-val fold\"\"\"\n",
        "        results['models'][model.__class__.__name__] = current\n",
        "        \n",
        "        # record sample metrics\n",
        "        for fold in range(config['sampling']['crossValIterations']):\n",
        "          for j, sampleID in enumerate(current['testIDs'][fold]):\n",
        "            try:\n",
        "              results['samples'][sampleID] += current[\"probabilities\"][fold][j]\n",
        "            except KeyError:\n",
        "              results['samples'][sampleID] = [current[\"probabilities\"][fold][j]]\n",
        "            finally:\n",
        "              results['labels'][sampleID] = current[\"testLabels\"][fold][j]\n",
        "            \n",
        "        await build_subflow('trackVisualizations', (runID, plotSubtitle, model.__class__.__name__, current))\n",
        "      \n",
        "      results['testCount'] = len(trainIDs)\n",
        "      results['trainCount'] = len(testIDs)\n",
        "      return results\n",
        "    return await classify(*args)\n",
        "  \n",
        "  elif name == 'evaluate':\n",
        "  \n",
        "    @flow()\n",
        "    async def evaluate(trainIndices, testIndices, model, labels, samples, variantIndex, sampleIndex, parameterSpace, cvIterator):\n",
        "      if config['model']['hyperparameterOptimization']:\n",
        "        fittedOptimizer = optimizeHyperparameters(\n",
        "            samples[trainIndices], labels[trainIndices], model, \n",
        "            parameterSpace, cvIterator, 'neg_mean_squared_error')\n",
        "        model.set_params(**fittedOptimizer.best_params_)\n",
        "      else:\n",
        "        fittedOptimizer = None\n",
        "      model.fit(samples[trainIndices], labels[trainIndices])\n",
        "      try:\n",
        "        probabilities = model.predict_proba(samples[testIndices])\n",
        "      except AttributeError:\n",
        "        probabilities = model.predict(samples[testIndices])\n",
        "        if len(probabilities.shape) <= 1:\n",
        "          probabilities = np.array([[1 - p, p] for p in probabilities])\n",
        "      predictions = np.argmax(probabilities, axis=1)\n",
        "      modelValues, shapValues, shapExplainer, shapMasker = getFeatureImportances(\n",
        "        model, samples[testIndices], variantIndex)\n",
        "      globalExplanations = modelValues\n",
        "      localExplanations = shapValues\n",
        "      trainLabels = np.array(labels[trainIndices])\n",
        "      testLabels = np.array(labels[testIndices])\n",
        "      trainIDs = np.array([sampleIndex[i] for i in trainIndices]) \n",
        "      testIDs = np.array([sampleIndex[i] for i in testIndices])\n",
        "      return globalExplanations, localExplanations, probabilities, predictions, testLabels, trainLabels, trainIDs, testIDs, fittedOptimizer, shapExplainer, shapMasker\n",
        "    return await evaluate(*args)\n",
        "  \n",
        "  elif name == 'trackVisualizations':\n",
        "  \n",
        "    @flow()\n",
        "    async def trackVisualizations(runID, plotSubtitle, modelName, current):\n",
        "      runTracker = neptune.init_run(project=f'{config[\"tracking\"][\"entity\"]}/{config[\"tracking\"][\"project\"]}', with_id=runID, api_token=config['tracking']['token'])\n",
        "      runTracker['plots/aucPlot'] = plotAUC(f\"\"\"\n",
        "          Receiver Operating Characteristic (ROC) Curve\n",
        "          {modelName} with {config['sampling']['crossValIterations']}-fold cross-validation\n",
        "          {plotSubtitle}\n",
        "          \"\"\",\n",
        "          {f\"Fold {k+1}\": (current[\"testLabels\"][k], np.array(current[\"probabilities\"][k])[:,1])\n",
        "            if len(current[\"probabilities\"][k][0].shape) >= 1 \n",
        "            else (current[\"testLabels\"][k], current[\"probabilities\"][k]) \n",
        "            for k in range(config['sampling']['crossValIterations'])},\n",
        "          )\n",
        "      if config['model']['hyperparameterOptimization']:\n",
        "        runTracker['plots/convergencePlot'] = plotOptimizer(f\"\"\"\n",
        "          Hyperparameter convergence, mean squared error\n",
        "          {modelName} with {config['sampling']['crossValIterations']}-fold cross-validation\n",
        "          {plotSubtitle}\n",
        "          \"\"\",\n",
        "          {f\"Fold {k+1}\": [result for result in current[\"fittedOptimizers\"][k].optimizer_results_]\n",
        "          for k in range(config['sampling']['crossValIterations'])},\n",
        "          )\n",
        "      \n",
        "      # plot shapely feature importance\n",
        "      if config['model']['calculateShapelyExplanations']:\n",
        "        for j in range(config[\"sampling\"][\"crossValIterations\"]):\n",
        "          localExplanations = current[\"localExplanations\"][j]\n",
        "          caseExplanations = localExplanations\n",
        "          caseExplanations.values = caseExplanations.values[:,:,1] if len(caseExplanations.values.shape) > 2 else caseExplanations.values\n",
        "          heatmap = plt.figure()\n",
        "          plt.title(f\"\"\"\n",
        "            Shapely explanations from {modelName}\n",
        "            Fold {j+1}\n",
        "            {plotSubtitle}\n",
        "            \"\"\") \n",
        "          shap.plots.heatmap(caseExplanations, show=False)\n",
        "          runTracker[f\"plots/featureHeatmap/{j+1}\"] = heatmap\n",
        "          plt.close(heatmap)\n",
        "          labelsProbabilities = ((current[\"testLabels\"][j], np.array(current[\"probabilities\"][j])[:,1])\n",
        "            if len(current[\"probabilities\"][j][0].shape) >= 1 \n",
        "            else (current[\"testLabels\"][j], current[\"probabilities\"][j]))\n",
        "          stdDeviation = np.std((labelsProbabilities[1] - labelsProbabilities[0])**2)\n",
        "          for k in range(len(current[\"testIDs\"][j])):\n",
        "            probability = labelsProbabilities[1][k] if isinstance(labelsProbabilities[1][k], np.ndarray) else labelsProbabilities[1][k]\n",
        "            label = labelsProbabilities[0][k] if isinstance(labelsProbabilities[0][k], np.ndarray) else labelsProbabilities[0][k]\n",
        "            if config['tracking']['plotAllSampleImportances'] or np.absolute((probability - label)**2) <= stdDeviation:\n",
        "              sampleID=current['testIDs'][j][k]\n",
        "              waterfallPlot = plt.figure()\n",
        "              plt.title(f\"\"\"\n",
        "                {sampleID}\n",
        "                Shapely explanations from {modelName}\n",
        "                Fold {j+1}\n",
        "                {plotSubtitle}\n",
        "                \"\"\")\n",
        "              # patch parameter bug: https://github.com/slundberg/shap/issues/2362\n",
        "              to_pass = SimpleNamespace(**{\n",
        "                              'values': localExplanations[k].values,\n",
        "                              'data': localExplanations[k].data,\n",
        "                              'display_data': None,\n",
        "                              'feature_names': localExplanations.feature_names,\n",
        "                              'base_values': localExplanations[k].base_values[current['testLabels'][j][k]] if len(localExplanations[k].base_values.shape) == 1 else localExplanations[k].base_values, \n",
        "                })\n",
        "              shap.plots.waterfall(to_pass, show=False)\n",
        "              try:\n",
        "                runTracker[f\"plots/samples/{j+1}/{sampleID}\"] = waterfallPlot\n",
        "              except Exception:\n",
        "                runTracker[f\"plots/samples/{j+1}/{sampleID}\"] = f\"\"\"failed to plot: {traceback.format_exc()}\"\"\"\n",
        "              plt.close(waterfallPlot)\n",
        "      plt.close('all')\n",
        "      runTracker.stop()\n",
        "    await trackVisualizations(*args)\n",
        "    \n",
        "@flow(\n",
        "  task_runner=RayTaskRunner(\n",
        "    init_kwargs={'address': parallelRunner.address_info['address'], 'configure_logging': True, 'logging_level': logging.WARN}\n",
        "  ))\n",
        "async def bootstrapSampling():\n",
        "  # caseGenotypes, caseIDs, controlGenotypes, controlIDs, clinicalData = await processInputFiles()\n",
        "  outerCvIterator = StratifiedKFold(n_splits=config['sampling']['crossValIterations'], shuffle=False)\n",
        "  innerCvIterator = outerCvIterator\n",
        "  projectTracker = neptune.init_project(project=f'{config[\"tracking\"][\"entity\"]}/{config[\"tracking\"][\"project\"]}', api_token=config['tracking']['token'])\n",
        "  \n",
        "  results = await asyncio.gather(\n",
        "    *[build_subflow('classify', (i, innerCvIterator, outerCvIterator)) \n",
        "      for i in range(config['sampling']['bootstrapIterations'])])\n",
        "  \n",
        "  labelsProbabilitiesByModelName = dict()\n",
        "  variantCount = 0\n",
        "  lastVariantCount = 0\n",
        "  sampleResults = {}\n",
        "  \n",
        "  for bootstrapResult in results:\n",
        "    for sampleID in bootstrapResult['samples'].keys():\n",
        "      flattenedProbabilities = np.array([\n",
        "        prediction[1] if len(prediction.shape) > 2 \n",
        "        else prediction\n",
        "        for foldResult in bootstrapResult['samples'][sampleID] \n",
        "        for prediction in foldResult]) \n",
        "        # label, probability, accuracy\n",
        "      if sampleID not in sampleResults:\n",
        "        sampleResults[sampleID] = [\n",
        "          bootstrapResult['labels'][sampleID], \n",
        "          [], \n",
        "          np.mean([np.ceil(caseProbability) == bootstrapResult['labels'][sampleID] \n",
        "                            for caseProbability in flattenedProbabilities])\n",
        "          ]\n",
        "      sampleResults[sampleID][1] += bootstrapResult['samples'][sampleID][:1]\n",
        "      sampleResults[sampleID][2] = np.mean([sampleResults[sampleID][2], np.mean([np.ceil(caseProbability) == bootstrapResult['labels'][sampleID] \n",
        "                            for caseProbability in flattenedProbabilities])])\n",
        "    \n",
        "    for modelName in bootstrapResult['models'].keys():\n",
        "      if modelName not in labelsProbabilitiesByModelName: labelsProbabilitiesByModelName[modelName] = [[], []]\n",
        "      # append labels\n",
        "      labelsProbabilitiesByModelName[modelName][0] = np.hstack(\n",
        "        (labelsProbabilitiesByModelName[modelName][0],\n",
        "        *bootstrapResult['models'][modelName][\"testLabels\"]))\n",
        "      # append probabilities\n",
        "      labelsProbabilitiesByModelName[modelName][1] = np.hstack(\n",
        "        [labelsProbabilitiesByModelName[modelName][1], \n",
        "        np.concatenate(bootstrapResult['models'][modelName][\"probabilities\"])[:,1] \n",
        "          if len(bootstrapResult['models'][modelName][\"probabilities\"][0].shape) >= 1 \n",
        "          else np.concatenate(bootstrapResult['models'][modelName][\"probabilities\"])])\n",
        "      variantCount = bootstrapResult['models'][modelName][\"globalExplanations\"][0].shape[0]\n",
        "      assert lastVariantCount == variantCount or lastVariantCount == 0\n",
        "      lastVariantCount = variantCount\n",
        "      \n",
        "  sampleResultsDataFrame = pd.DataFrame.from_dict(sampleResults, orient=\"index\", columns=[\"label\", \"probability\", \"accuracy\"])\n",
        "  sampleResultsDataFrame.index.name = \"id\"\n",
        "  \n",
        "  projectTracker[\"sampleResults\"].upload(serializeDataFrame(sampleResultsDataFrame))\n",
        "  \n",
        "  for modelName in results[0]['models'].keys():\n",
        "    if 'globalExplanations' not in results[0]['models'][modelName].keys(): continue\n",
        "    globalExplanationsList = []\n",
        "    for bootstrapResult in results:\n",
        "      globalExplanationsList += bootstrapResult['models'][modelName][\"globalExplanations\"]\n",
        "    averageGlobalExplanationsDataFrame = pd.concat(globalExplanationsList).reset_index().groupby(\"features\").mean()\n",
        "    projectTracker[f\"averageModelCoefficients/{modelName}\"].upload(serializeDataFrame(averageGlobalExplanationsDataFrame))\n",
        "\n",
        "  if config['model']['calculateShapelyExplanations']:\n",
        "    averageShapelyExplanationsDataFrame = pd.concat(\n",
        "      [bootstrapResult['models'][modelName]['averageShapelyValues'] \n",
        "       for bootstrapResult in results for modelName in bootstrapResult['models'].keys()]\n",
        "      ).reset_index().groupby(\"feature_name\").mean()\n",
        "    projectTracker[\"averageShapelyExplanations\"].upload(serializeDataFrame(averageShapelyExplanationsDataFrame))\n",
        "\n",
        "  caseAccuracy = sampleResultsDataFrame[sampleResultsDataFrame[\"label\"] == 1][\"accuracy\"].mean()\n",
        "  controlAccuracy = 1 - caseAccuracy\n",
        "  \n",
        "  bootstrapTrainCount = int(np.around(np.mean([bootstrapResult['trainCount'] for bootstrapResult in results])))\n",
        "  bootstrapTestCount = int(np.around(np.mean([bootstrapResult['testCount'] for bootstrapResult in results])))\n",
        " \n",
        "  plotSubtitle = f\"\"\"\n",
        "  {config['sampling']['crossValIterations']}x cross-validation over {config['sampling']['bootstrapIterations']} bootstrap iterations\n",
        "  {config[\"tracking\"][\"name\"]}, {variantCount} variants\n",
        "  Minor allele frequency over {'{:.1%}'.format(config['vcfLike']['minAlleleFrequency'])}\n",
        "  \n",
        "  {sampleResultsDataFrame['label'].value_counts()[1]} cases @ {'{:.1%}'.format(caseAccuracy)} accuracy, {sampleResultsDataFrame['label'].value_counts()[0]} controls @ {'{:.1%}'.format(controlAccuracy)} accuracy\n",
        "  {bootstrapTrainCount}±1 train, {bootstrapTestCount}±1 test samples per bootstrap iteration\"\"\"\n",
        "\n",
        "  projectTracker[\"aucPlot\"].upload(plotAUC(f\"\"\"\n",
        "    Receiver Operating Characteristic (ROC) Curve\n",
        "    {plotSubtitle}\n",
        "    \"\"\",\n",
        "    labelsProbabilitiesByModelName,\n",
        "    ))\n",
        "  \n",
        "  projectTracker[\"calibrationPlot\"].upload(File.as_image(plotCalibration(f\"\"\"\n",
        "    Calibration Curve\n",
        "    {plotSubtitle}\n",
        "    \"\"\",\n",
        "    labelsProbabilitiesByModelName,\n",
        "    )))\n",
        "  \n",
        "  if config['model']['hyperparameterOptimization']:\n",
        "    projectTracker[\"convergencePlot\"].upload(File.as_image(plotOptimizer(f\"\"\"\n",
        "      Convergence Plot\n",
        "      {plotSubtitle}\n",
        "      \"\"\",\n",
        "      {modelName: [result\n",
        "                  for k in range(config['sampling']['bootstrapIterations'])\n",
        "                  for foldOptimizer in results[k][modelName][\"fittedOptimizers\"]\n",
        "                  for result in foldOptimizer.optimizer_results_\n",
        "                  ] \n",
        "        for modelName in results[0].keys() if modelName != \"testLabels\"\n",
        "      })))\n",
        "  \n",
        "  projectTracker.stop()\n",
        "  return results\n",
        "\n",
        "results = await bootstrapSampling()"
      ]
    },
    {
      "cell_type": "code",
      "execution_count": null,
      "metadata": {},
      "outputs": [],
      "source": []
    }
  ],
  "metadata": {
    "colab": {
      "provenance": []
    },
    "kernelspec": {
      "display_name": "base",
      "language": "python",
      "name": "python3"
    },
    "language_info": {
      "codemirror_mode": {
        "name": "ipython",
        "version": 3
      },
      "file_extension": ".py",
      "mimetype": "text/x-python",
      "name": "python",
      "nbconvert_exporter": "python",
      "pygments_lexer": "ipython3",
      "version": "3.10.10"
    },
    "vscode": {
      "interpreter": {
        "hash": "b8de2bb8cfc0129dc4ad0d33ebf53f4c81d236710e7f8da07ef8e91d061d131b"
      }
    }
  },
  "nbformat": 4,
  "nbformat_minor": 0
}
