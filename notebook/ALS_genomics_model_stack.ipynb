{
  "cells": [
    {
      "attachments": {},
      "cell_type": "markdown",
      "metadata": {
        "id": "CtFYp82_avzf"
      },
      "source": [
        "# Whole-genome analysis workflow"
      ]
    },
    {
      "cell_type": "code",
      "execution_count": 2,
      "metadata": {
        "colab": {
          "base_uri": "https://localhost:8080/"
        },
        "id": "FPZ8uR95ao7W",
        "outputId": "a1c56261-0150-4f59-e0fa-5e3deea610b5"
      },
      "outputs": [],
      "source": [
        "# ~2 minutes to install \n",
        "#%pip install -U --no-cache-dir scikit-learn scikit-optimize prefect prefect-ray ray plotly openpyxl shap lion_pytorch pytorch_tabnet xgboost neptune pyspark pyarrow dill fastnumbers"
      ]
    },
    {
      "cell_type": "code",
      "execution_count": 4,
      "metadata": {
        "colab": {
          "base_uri": "https://localhost:8080/",
          "height": 264
        },
        "id": "T-XkqgwZaBX0",
        "outputId": "1f74b602-b8f5-41c4-d1b4-c1c7ced32b36"
      },
      "outputs": [
        {
          "name": "stderr",
          "output_type": "stream",
          "text": [
            "319.59s - pydevd: Sending message related to process being replaced timed-out after 5 seconds\n"
          ]
        },
        {
          "data": {
            "text/html": [
              "<div>\n",
              "    <div style=\"margin-left: 50px;display: flex;flex-direction: row;align-items: center\">\n",
              "        <h3 style=\"color: var(--jp-ui-font-color0)\">Ray</h3>\n",
              "        <svg version=\"1.1\" id=\"ray\" width=\"3em\" viewBox=\"0 0 144.5 144.6\" style=\"margin-left: 3em;margin-right: 3em\">\n",
              "            <g id=\"layer-1\">\n",
              "                <path fill=\"#00a2e9\" class=\"st0\" d=\"M97.3,77.2c-3.8-1.1-6.2,0.9-8.3,5.1c-3.5,6.8-9.9,9.9-17.4,9.6S58,88.1,54.8,81.2c-1.4-3-3-4-6.3-4.1\n",
              "                    c-5.6-0.1-9.9,0.1-13.1,6.4c-3.8,7.6-13.6,10.2-21.8,7.6C5.2,88.4-0.4,80.5,0,71.7c0.1-8.4,5.7-15.8,13.8-18.2\n",
              "                    c8.4-2.6,17.5,0.7,22.3,8c1.3,1.9,1.3,5.2,3.6,5.6c3.9,0.6,8,0.2,12,0.2c1.8,0,1.9-1.6,2.4-2.8c3.5-7.8,9.7-11.8,18-11.9\n",
              "                    c8.2-0.1,14.4,3.9,17.8,11.4c1.3,2.8,2.9,3.6,5.7,3.3c1-0.1,2,0.1,3,0c2.8-0.5,6.4,1.7,8.1-2.7s-2.3-5.5-4.1-7.5\n",
              "                    c-5.1-5.7-10.9-10.8-16.1-16.3C84,38,81.9,37.1,78,38.3C66.7,42,56.2,35.7,53,24.1C50.3,14,57.3,2.8,67.7,0.5\n",
              "                    C78.4-2,89,4.7,91.5,15.3c0.1,0.3,0.1,0.5,0.2,0.8c0.7,3.4,0.7,6.9-0.8,9.8c-1.7,3.2-0.8,5,1.5,7.2c6.7,6.5,13.3,13,19.8,19.7\n",
              "                    c1.8,1.8,3,2.1,5.5,1.2c9.1-3.4,17.9-0.6,23.4,7c4.8,6.9,4.6,16.1-0.4,22.9c-5.4,7.2-14.2,9.9-23.1,6.5c-2.3-0.9-3.5-0.6-5.1,1.1\n",
              "                    c-6.7,6.9-13.6,13.7-20.5,20.4c-1.8,1.8-2.5,3.2-1.4,5.9c3.5,8.7,0.3,18.6-7.7,23.6c-7.9,5-18.2,3.8-24.8-2.9\n",
              "                    c-6.4-6.4-7.4-16.2-2.5-24.3c4.9-7.8,14.5-11,23.1-7.8c3,1.1,4.7,0.5,6.9-1.7C91.7,98.4,98,92.3,104.2,86c1.6-1.6,4.1-2.7,2.6-6.2\n",
              "                    c-1.4-3.3-3.8-2.5-6.2-2.6C99.8,77.2,98.9,77.2,97.3,77.2z M72.1,29.7c5.5,0.1,9.9-4.3,10-9.8c0-0.1,0-0.2,0-0.3\n",
              "                    C81.8,14,77,9.8,71.5,10.2c-5,0.3-9,4.2-9.3,9.2c-0.2,5.5,4,10.1,9.5,10.3C71.8,29.7,72,29.7,72.1,29.7z M72.3,62.3\n",
              "                    c-5.4-0.1-9.9,4.2-10.1,9.7c0,0.2,0,0.3,0,0.5c0.2,5.4,4.5,9.7,9.9,10c5.1,0.1,9.9-4.7,10.1-9.8c0.2-5.5-4-10-9.5-10.3\n",
              "                    C72.6,62.3,72.4,62.3,72.3,62.3z M115,72.5c0.1,5.4,4.5,9.7,9.8,9.9c5.6-0.2,10-4.8,10-10.4c-0.2-5.4-4.6-9.7-10-9.7\n",
              "                    c-5.3-0.1-9.8,4.2-9.9,9.5C115,72.1,115,72.3,115,72.5z M19.5,62.3c-5.4,0.1-9.8,4.4-10,9.8c-0.1,5.1,5.2,10.4,10.2,10.3\n",
              "                    c5.6-0.2,10-4.9,9.8-10.5c-0.1-5.4-4.5-9.7-9.9-9.6C19.6,62.3,19.5,62.3,19.5,62.3z M71.8,134.6c5.9,0.2,10.3-3.9,10.4-9.6\n",
              "                    c0.5-5.5-3.6-10.4-9.1-10.8c-5.5-0.5-10.4,3.6-10.8,9.1c0,0.5,0,0.9,0,1.4c-0.2,5.3,4,9.8,9.3,10\n",
              "                    C71.6,134.6,71.7,134.6,71.8,134.6z\"/>\n",
              "            </g>\n",
              "        </svg>\n",
              "        <table>\n",
              "            <tr>\n",
              "                <td style=\"text-align: left\"><b>Python version:</b></td>\n",
              "                <td style=\"text-align: left\"><b>3.10.10</b></td>\n",
              "            </tr>\n",
              "            <tr>\n",
              "                <td style=\"text-align: left\"><b>Ray version:</b></td>\n",
              "                <td style=\"text-align: left\"><b> 2.3.1</b></td>\n",
              "            </tr>\n",
              "            \n",
              "        </table>\n",
              "    </div>\n",
              "</div>\n"
            ],
            "text/plain": [
              "RayContext(dashboard_url='', python_version='3.10.10', ray_version='2.3.1', ray_commit='5f14cee8dfc6d61ec4fd3bc2c440f9944e92b33a', address_info={'node_ip_address': '192.168.1.107', 'raylet_ip_address': '192.168.1.107', 'redis_address': None, 'object_store_address': '/tmp/ray/session_2023-06-18_01-04-58_144690_1629235/sockets/plasma_store', 'raylet_socket_name': '/tmp/ray/session_2023-06-18_01-04-58_144690_1629235/sockets/raylet', 'webui_url': '', 'session_dir': '/tmp/ray/session_2023-06-18_01-04-58_144690_1629235', 'metrics_export_port': 60347, 'gcs_address': '192.168.1.107:42514', 'address': '192.168.1.107:42514', 'dashboard_agent_listen_port': 52365, 'node_id': 'aa0f7c3644e75f03bb58d149ec8d8559f67942a228124072d73cf85c'})"
            ]
          },
          "execution_count": 4,
          "metadata": {},
          "output_type": "execute_result"
        }
      ],
      "source": [
        "from prefect import task, flow\n",
        "from prefect.task_runners import ConcurrentTaskRunner\n",
        "from prefect_ray.task_runners import RayTaskRunner\n",
        "import ray\n",
        "\n",
        "import pandas as pd\n",
        "import numpy as np\n",
        "\n",
        "import logging\n",
        "\n",
        "!export PREFECT_LOGGING_LEVEL=\"WARNING\"\n",
        "ray.shutdown()\n",
        "parallelRunner = ray.init(\n",
        "  configure_logging=True,\n",
        "  logging_level=logging.ERROR,\n",
        ")\n",
        "parallelRunner"
      ]
    },
    {
      "cell_type": "code",
      "execution_count": 5,
      "metadata": {
        "id": "S04Kzco5ci8n"
      },
      "outputs": [
        {
          "name": "stdout",
          "output_type": "stream",
          "text": [
            "Deleting flow: processInputFiles, f3d3fb91-49eb-4ab4-9c00-cb4cb3cc8528\n",
            "Flow with UUID f3d3fb91-49eb-4ab4-9c00-cb4cb3cc8528 deleted\n"
          ]
        }
      ],
      "source": [
        "from sklearn.ensemble import (\n",
        "    AdaBoostClassifier,\n",
        "    RandomForestClassifier,\n",
        ")\n",
        "from sklearn.linear_model import LogisticRegression\n",
        "from sklearn.naive_bayes import MultinomialNB\n",
        "from sklearn.svm import LinearSVC, SVC\n",
        "from xgboost import XGBClassifier\n",
        "from pytorch_tabnet.tab_model import TabNetClassifier\n",
        "from lion_pytorch import Lion\n",
        "\n",
        "from skopt.space import Categorical, Integer, Real\n",
        "\n",
        "from env import neptune_api_token\n",
        "\n",
        "RadialBasisSVC = SVC\n",
        "RadialBasisSVC.__name__ = \"RadialBasisSVC\"\n",
        "\n",
        "clearHistory = True\n",
        "config = {\n",
        "    \"vcfLike\": {\n",
        "        \"path\": \"../notebook/Variant_report_NUPs_fixed_2022-03-28.xlsx\",  # variant call table with annotations\n",
        "        \"sheet\": \"all cases vs all controls\",  # sheet name if Excel spreadsheet\n",
        "        \"indexColumn\": [\n",
        "            \"chrom\",\n",
        "            \"position\",\n",
        "            \"Gene\",\n",
        "        ],  # header that indexes variants (set as list with multiple columns)\n",
        "        \"compoundSampleIdDelimiter\": \"__\",  # delimiter for compound sample IDs in column names\n",
        "        \"compoundSampleIdStartIndex\": 1,  # index of first sample ID in compound sample ID\n",
        "        \"binarize\": True,  # binarize variants to 0/1, or sum to weigh allele frequency\n",
        "        \"minAlleleFrequency\": 0.05,  # filter out variants with allele frequency less than this\n",
        "        # 'alleleModel': ['dominant', 'recessive', 'overDominant'],  # biallelic allele models to test on gene sets\n",
        "        \"filters\": {},\n",
        "    },  # TODO handle genotypes from related individuals\n",
        "    \"geneSets\": {},  # TODO gene sets\n",
        "    \"tracking\": {\n",
        "        \"name\": \"Nucleoporin genes, cases <= 15% accuracy\",  # name of the experiment\n",
        "        \"entity\": \"ejmockler\",\n",
        "        \"project\": \"ALS-NUPS-60-discordantCases\",\n",
        "        \"plotAllSampleImportances\": True,  # if calculating Shapely explanations, plot each sample in Neptune\n",
        "        \"token\": neptune_api_token,\n",
        "        \"remote\": False,  # if True, log to Neptune\n",
        "    },\n",
        "    \"clinicalTable\": {\n",
        "        \"path\": \"../notebook/ACWM.xlsx\",  # clinical data as Excel spreadsheet\n",
        "        \"idColumn\": \"ExternalSampleId\",  # genotype ID header\n",
        "        \"uniqueIdColumn\": \"ExternalSubjectId\",  # unique ID for each patient\n",
        "        \"labelColumn\": \"Subject Group\",  # header that has case/control labels\n",
        "        \"controlLabels\": [\n",
        "            \"Non-Neurological Control\"\n",
        "        ],  # these labels include external sample IDs (like 1000 Genomes)\n",
        "        \"caseLabels\": [],  # \"ALS Spectrum MND\"\n",
        "        \"controlAlias\": \"control\",\n",
        "        \"caseAlias\": \"case\",\n",
        "        \"filters\": \"pct_european>=0.85\",  # filter out nonhomogenous samples with less than 85% European ancestry\n",
        "    },\n",
        "    \"externalTables\": {\n",
        "        \"path\": [\n",
        "            \"../notebook/igsr-1000 genomes phase 3 release.tsv\",\n",
        "            \"../notebook/ALS-NUPS-2000__discordantSamples.tsv\",\n",
        "            \"../notebook/ACWM_ethnicallyVariable.tsv\",\n",
        "            \"../notebook/ACWM_ethnicallyVariable.tsv\",\n",
        "            \"../notebook/igsr-1000 genomes phase 3 release.tsv\",\n",
        "        ],  # external sample table\n",
        "        \"label\": [\n",
        "            \"control\",\n",
        "            \"case\",\n",
        "            \"case\",\n",
        "            \"control\",\n",
        "            \"control\",\n",
        "        ],  # case | control | TODO mixed\n",
        "        \"setType\": [\"crossval\", \"crossval\", \"holdout\", \"holdout\", \"holdout\"],\n",
        "        \"idColumn\": [\n",
        "            \"Sample name\",\n",
        "            \"id\",\n",
        "            \"ExternalSubjectId\",\n",
        "            \"ExternalSubjectId\",\n",
        "            \"Sample name\",\n",
        "        ],  # sample ID header\n",
        "        \"filters\": [\n",
        "            \"`Superpopulation code`=='EUR' & `Population name`!='Finnish'\",  # remove finnish samples due to unusual homogeneity (verify w/ PCA)\n",
        "            \"`testLabel`==1\",\n",
        "            \"`Subject Group`=='ALS Spectrum MND'\",\n",
        "            \"`Subject Group`=='Non-Neurological Control'\",\n",
        "            \"`Superpopulation code`!='EUR' & `Population name`!='Finnish'\",\n",
        "        ],\n",
        "    },\n",
        "    \"sampling\": {\n",
        "        \"bootstrapIterations\": 60,\n",
        "        \"crossValIterations\": 10,  # number of validations per bootstrap iteration\n",
        "        \"holdoutSplit\": 0.1,\n",
        "        \"lastIteration\": 0,\n",
        "    },\n",
        "    \"model\": {\n",
        "        \"stack\": {\n",
        "            LinearSVC(): {\n",
        "                \"tol\": Real(1e-6, 1e1, prior=\"log-uniform\"),\n",
        "                \"C\": Real(1e-4, 1e1, prior=\"log-uniform\"),\n",
        "            },\n",
        "            RadialBasisSVC(probability=True, kernel=\"rbf\"): {\n",
        "                \"tol\": Real(1e-4, 1e1, prior=\"log-uniform\"),\n",
        "                \"C\": Real(1e-4, 1e1, prior=\"log-uniform\"),\n",
        "                \"gamma\": Categorical([\"scale\", \"auto\"]),\n",
        "            },\n",
        "            LogisticRegression(penalty=\"l2\", solver=\"saga\"): {\n",
        "                \"tol\": Real(1e-6, 1e1, prior=\"log-uniform\"),\n",
        "                \"C\": Real(1e-4, 1e1, prior=\"log-uniform\"),\n",
        "            },\n",
        "            MultinomialNB(): {\"alpha\": Real(1e-10, 1e1, prior=\"log-uniform\")},\n",
        "            AdaBoostClassifier(): {\n",
        "                \"n_estimators\": Integer(25, 75),\n",
        "                \"learning_rate\": Real(1e-6, 1e1, prior=\"log-uniform\"),\n",
        "            },\n",
        "            XGBClassifier(): {\n",
        "                \"learning_rate\": Real(1e-6, 1e1, prior=\"log-uniform\"),\n",
        "                \"n_estimators\": Integer(10, 100),\n",
        "            },\n",
        "            RandomForestClassifier(): {\n",
        "                \"n_estimators\": Integer(75, 200),\n",
        "            },\n",
        "        },\n",
        "        \"hyperparameterOptimization\": False,\n",
        "        \"calculateShapelyExplanations\": True,\n",
        "    },\n",
        "}\n",
        "\n",
        " \n",
        "async def remove_all_flows():\n",
        "  from prefect.client import get_client\n",
        "  orion_client = get_client()\n",
        "  flows = await orion_client.read_flows()\n",
        "  for flow in flows:\n",
        "    flow_id = flow.id\n",
        "    print(f\"Deleting flow: {flow.name}, {flow_id}\")\n",
        "    await orion_client._client.delete(f\"/flows/{flow_id}\")\n",
        "    print(f\"Flow with UUID {flow_id} deleted\")\n",
        "\n",
        "if clearHistory: await remove_all_flows()"
      ]
    },
    {
      "cell_type": "code",
      "execution_count": 2,
      "metadata": {
        "colab": {
          "base_uri": "https://localhost:8080/",
          "height": 1000
        },
        "id": "CKlnYjPImk7I",
        "outputId": "13502d78-bfc1-4323-81f1-87f8168ad548"
      },
      "outputs": [
        {
          "data": {
            "text/html": [
              "<pre style=\"white-space:pre;overflow-x:auto;line-height:normal;font-family:Menlo,'DejaVu Sans Mono',consolas,'Courier New',monospace\">00:59:48.342 | <span style=\"color: #008080; text-decoration-color: #008080\">INFO</span>    | prefect.engine - Created flow run<span style=\"color: #800080; text-decoration-color: #800080\"> 'lurking-lion'</span> for flow<span style=\"color: #800080; text-decoration-color: #800080; font-weight: bold\"> 'processInputFiles'</span>\n",
              "</pre>\n"
            ],
            "text/plain": [
              "00:59:48.342 | \u001b[36mINFO\u001b[0m    | prefect.engine - Created flow run\u001b[35m 'lurking-lion'\u001b[0m for flow\u001b[1;35m 'processInputFiles'\u001b[0m\n"
            ]
          },
          "metadata": {},
          "output_type": "display_data"
        },
        {
          "data": {
            "text/html": [
              "<pre style=\"white-space:pre;overflow-x:auto;line-height:normal;font-family:Menlo,'DejaVu Sans Mono',consolas,'Courier New',monospace\">00:59:48.345 | <span style=\"color: #008080; text-decoration-color: #008080\">INFO</span>    | Flow run<span style=\"color: #800080; text-decoration-color: #800080\"> 'lurking-lion'</span> - View at <span style=\"color: #0000ff; text-decoration-color: #0000ff\">http://127.0.0.1:4200/flow-runs/flow-run/9b283d8a-1934-4759-996e-29a9b03eca7d</span>\n",
              "</pre>\n"
            ],
            "text/plain": [
              "00:59:48.345 | \u001b[36mINFO\u001b[0m    | Flow run\u001b[35m 'lurking-lion'\u001b[0m - View at \u001b[94mhttp://127.0.0.1:4200/flow-runs/flow-run/9b283d8a-1934-4759-996e-29a9b03eca7d\u001b[0m\n"
            ]
          },
          "metadata": {},
          "output_type": "display_data"
        },
        {
          "data": {
            "text/html": [
              "<pre style=\"white-space:pre;overflow-x:auto;line-height:normal;font-family:Menlo,'DejaVu Sans Mono',consolas,'Courier New',monospace\">00:59:48.439 | <span style=\"color: #008080; text-decoration-color: #008080\">INFO</span>    | Flow run<span style=\"color: #800080; text-decoration-color: #800080\"> 'lurking-lion'</span> - Created task run 'load-0' for task 'load'\n",
              "</pre>\n"
            ],
            "text/plain": [
              "00:59:48.439 | \u001b[36mINFO\u001b[0m    | Flow run\u001b[35m 'lurking-lion'\u001b[0m - Created task run 'load-0' for task 'load'\n"
            ]
          },
          "metadata": {},
          "output_type": "display_data"
        },
        {
          "data": {
            "text/html": [
              "<pre style=\"white-space:pre;overflow-x:auto;line-height:normal;font-family:Menlo,'DejaVu Sans Mono',consolas,'Courier New',monospace\">00:59:48.441 | <span style=\"color: #008080; text-decoration-color: #008080\">INFO</span>    | Flow run<span style=\"color: #800080; text-decoration-color: #800080\"> 'lurking-lion'</span> - Executing 'load-0' immediately...\n",
              "</pre>\n"
            ],
            "text/plain": [
              "00:59:48.441 | \u001b[36mINFO\u001b[0m    | Flow run\u001b[35m 'lurking-lion'\u001b[0m - Executing 'load-0' immediately...\n"
            ]
          },
          "metadata": {},
          "output_type": "display_data"
        },
        {
          "name": "stderr",
          "output_type": "stream",
          "text": [
            "/home/noot/.pyenv/versions/miniconda3-latest/lib/python3.10/site-packages/openpyxl/worksheet/_reader.py:329: UserWarning: Unknown extension is not supported and will be removed\n",
            "  warn(msg)\n"
          ]
        },
        {
          "data": {
            "text/html": [
              "<pre style=\"white-space:pre;overflow-x:auto;line-height:normal;font-family:Menlo,'DejaVu Sans Mono',consolas,'Courier New',monospace\">01:00:52.108 | <span style=\"color: #008080; text-decoration-color: #008080\">INFO</span>    | Task run 'load-0' - Finished in state <span style=\"color: #008000; text-decoration-color: #008000\">Completed</span>()\n",
              "</pre>\n"
            ],
            "text/plain": [
              "01:00:52.108 | \u001b[36mINFO\u001b[0m    | Task run 'load-0' - Finished in state \u001b[32mCompleted\u001b[0m()\n"
            ]
          },
          "metadata": {},
          "output_type": "display_data"
        },
        {
          "data": {
            "text/html": [
              "<pre style=\"white-space:pre;overflow-x:auto;line-height:normal;font-family:Menlo,'DejaVu Sans Mono',consolas,'Courier New',monospace\">01:00:52.128 | <span style=\"color: #008080; text-decoration-color: #008080\">INFO</span>    | Flow run<span style=\"color: #800080; text-decoration-color: #800080\"> 'lurking-lion'</span> - Created task run 'filterTable-0' for task 'filterTable'\n",
              "</pre>\n"
            ],
            "text/plain": [
              "01:00:52.128 | \u001b[36mINFO\u001b[0m    | Flow run\u001b[35m 'lurking-lion'\u001b[0m - Created task run 'filterTable-0' for task 'filterTable'\n"
            ]
          },
          "metadata": {},
          "output_type": "display_data"
        },
        {
          "data": {
            "text/html": [
              "<pre style=\"white-space:pre;overflow-x:auto;line-height:normal;font-family:Menlo,'DejaVu Sans Mono',consolas,'Courier New',monospace\">01:00:52.130 | <span style=\"color: #008080; text-decoration-color: #008080\">INFO</span>    | Flow run<span style=\"color: #800080; text-decoration-color: #800080\"> 'lurking-lion'</span> - Executing 'filterTable-0' immediately...\n",
              "</pre>\n"
            ],
            "text/plain": [
              "01:00:52.130 | \u001b[36mINFO\u001b[0m    | Flow run\u001b[35m 'lurking-lion'\u001b[0m - Executing 'filterTable-0' immediately...\n"
            ]
          },
          "metadata": {},
          "output_type": "display_data"
        },
        {
          "data": {
            "text/html": [
              "<pre style=\"white-space:pre;overflow-x:auto;line-height:normal;font-family:Menlo,'DejaVu Sans Mono',consolas,'Courier New',monospace\">01:00:52.190 | <span style=\"color: #008080; text-decoration-color: #008080\">INFO</span>    | Task run 'filterTable-0' - Filtering: pct_european&gt;=0.85\n",
              "</pre>\n"
            ],
            "text/plain": [
              "01:00:52.190 | \u001b[36mINFO\u001b[0m    | Task run 'filterTable-0' - Filtering: pct_european>=0.85\n"
            ]
          },
          "metadata": {},
          "output_type": "display_data"
        },
        {
          "data": {
            "text/html": [
              "<pre style=\"white-space:pre;overflow-x:auto;line-height:normal;font-family:Menlo,'DejaVu Sans Mono',consolas,'Courier New',monospace\">01:00:52.242 | <span style=\"color: #008080; text-decoration-color: #008080\">INFO</span>    | Task run 'filterTable-0' - Finished in state <span style=\"color: #008000; text-decoration-color: #008000\">Completed</span>()\n",
              "</pre>\n"
            ],
            "text/plain": [
              "01:00:52.242 | \u001b[36mINFO\u001b[0m    | Task run 'filterTable-0' - Finished in state \u001b[32mCompleted\u001b[0m()\n"
            ]
          },
          "metadata": {},
          "output_type": "display_data"
        },
        {
          "data": {
            "text/html": [
              "<pre style=\"white-space:pre;overflow-x:auto;line-height:normal;font-family:Menlo,'DejaVu Sans Mono',consolas,'Courier New',monospace\">01:00:52.243 | <span style=\"color: #008080; text-decoration-color: #008080\">INFO</span>    | Flow run<span style=\"color: #800080; text-decoration-color: #800080\"> 'lurking-lion'</span> - filtered 590 samples from clinical data\n",
              "</pre>\n"
            ],
            "text/plain": [
              "01:00:52.243 | \u001b[36mINFO\u001b[0m    | Flow run\u001b[35m 'lurking-lion'\u001b[0m - filtered 590 samples from clinical data\n"
            ]
          },
          "metadata": {},
          "output_type": "display_data"
        },
        {
          "data": {
            "text/html": [
              "<pre style=\"white-space:pre;overflow-x:auto;line-height:normal;font-family:Menlo,'DejaVu Sans Mono',consolas,'Courier New',monospace\">01:00:52.303 | <span style=\"color: #008080; text-decoration-color: #008080\">INFO</span>    | Flow run<span style=\"color: #800080; text-decoration-color: #800080\"> 'lurking-lion'</span> - Created task run 'filterTable-1' for task 'filterTable'\n",
              "</pre>\n"
            ],
            "text/plain": [
              "01:00:52.303 | \u001b[36mINFO\u001b[0m    | Flow run\u001b[35m 'lurking-lion'\u001b[0m - Created task run 'filterTable-1' for task 'filterTable'\n"
            ]
          },
          "metadata": {},
          "output_type": "display_data"
        },
        {
          "data": {
            "text/html": [
              "<pre style=\"white-space:pre;overflow-x:auto;line-height:normal;font-family:Menlo,'DejaVu Sans Mono',consolas,'Courier New',monospace\">01:00:52.304 | <span style=\"color: #008080; text-decoration-color: #008080\">INFO</span>    | Flow run<span style=\"color: #800080; text-decoration-color: #800080\"> 'lurking-lion'</span> - Executing 'filterTable-1' immediately...\n",
              "</pre>\n"
            ],
            "text/plain": [
              "01:00:52.304 | \u001b[36mINFO\u001b[0m    | Flow run\u001b[35m 'lurking-lion'\u001b[0m - Executing 'filterTable-1' immediately...\n"
            ]
          },
          "metadata": {},
          "output_type": "display_data"
        },
        {
          "data": {
            "text/html": [
              "<pre style=\"white-space:pre;overflow-x:auto;line-height:normal;font-family:Menlo,'DejaVu Sans Mono',consolas,'Courier New',monospace\">01:00:52.356 | <span style=\"color: #008080; text-decoration-color: #008080\">INFO</span>    | Task run 'filterTable-1' - Filtering: `Superpopulation code`=='EUR' &amp; `Population name`!='Finnish'\n",
              "</pre>\n"
            ],
            "text/plain": [
              "01:00:52.356 | \u001b[36mINFO\u001b[0m    | Task run 'filterTable-1' - Filtering: `Superpopulation code`=='EUR' & `Population name`!='Finnish'\n"
            ]
          },
          "metadata": {},
          "output_type": "display_data"
        },
        {
          "data": {
            "text/html": [
              "<pre style=\"white-space:pre;overflow-x:auto;line-height:normal;font-family:Menlo,'DejaVu Sans Mono',consolas,'Courier New',monospace\">01:00:52.423 | <span style=\"color: #008080; text-decoration-color: #008080\">INFO</span>    | Task run 'filterTable-1' - Finished in state <span style=\"color: #008000; text-decoration-color: #008000\">Completed</span>()\n",
              "</pre>\n"
            ],
            "text/plain": [
              "01:00:52.423 | \u001b[36mINFO\u001b[0m    | Task run 'filterTable-1' - Finished in state \u001b[32mCompleted\u001b[0m()\n"
            ]
          },
          "metadata": {},
          "output_type": "display_data"
        },
        {
          "data": {
            "text/html": [
              "<pre style=\"white-space:pre;overflow-x:auto;line-height:normal;font-family:Menlo,'DejaVu Sans Mono',consolas,'Courier New',monospace\">01:00:52.460 | <span style=\"color: #008080; text-decoration-color: #008080\">INFO</span>    | Flow run<span style=\"color: #800080; text-decoration-color: #800080\"> 'lurking-lion'</span> - Created task run 'filterTable-2' for task 'filterTable'\n",
              "</pre>\n"
            ],
            "text/plain": [
              "01:00:52.460 | \u001b[36mINFO\u001b[0m    | Flow run\u001b[35m 'lurking-lion'\u001b[0m - Created task run 'filterTable-2' for task 'filterTable'\n"
            ]
          },
          "metadata": {},
          "output_type": "display_data"
        },
        {
          "data": {
            "text/html": [
              "<pre style=\"white-space:pre;overflow-x:auto;line-height:normal;font-family:Menlo,'DejaVu Sans Mono',consolas,'Courier New',monospace\">01:00:52.461 | <span style=\"color: #008080; text-decoration-color: #008080\">INFO</span>    | Flow run<span style=\"color: #800080; text-decoration-color: #800080\"> 'lurking-lion'</span> - Executing 'filterTable-2' immediately...\n",
              "</pre>\n"
            ],
            "text/plain": [
              "01:00:52.461 | \u001b[36mINFO\u001b[0m    | Flow run\u001b[35m 'lurking-lion'\u001b[0m - Executing 'filterTable-2' immediately...\n"
            ]
          },
          "metadata": {},
          "output_type": "display_data"
        },
        {
          "data": {
            "text/html": [
              "<pre style=\"white-space:pre;overflow-x:auto;line-height:normal;font-family:Menlo,'DejaVu Sans Mono',consolas,'Courier New',monospace\">01:00:52.507 | <span style=\"color: #008080; text-decoration-color: #008080\">INFO</span>    | Task run 'filterTable-2' - Filtering: `testLabel`==1\n",
              "</pre>\n"
            ],
            "text/plain": [
              "01:00:52.507 | \u001b[36mINFO\u001b[0m    | Task run 'filterTable-2' - Filtering: `testLabel`==1\n"
            ]
          },
          "metadata": {},
          "output_type": "display_data"
        },
        {
          "data": {
            "text/html": [
              "<pre style=\"white-space:pre;overflow-x:auto;line-height:normal;font-family:Menlo,'DejaVu Sans Mono',consolas,'Courier New',monospace\">01:00:52.534 | <span style=\"color: #008080; text-decoration-color: #008080\">INFO</span>    | Task run 'filterTable-2' - Finished in state <span style=\"color: #008000; text-decoration-color: #008000\">Completed</span>()\n",
              "</pre>\n"
            ],
            "text/plain": [
              "01:00:52.534 | \u001b[36mINFO\u001b[0m    | Task run 'filterTable-2' - Finished in state \u001b[32mCompleted\u001b[0m()\n"
            ]
          },
          "metadata": {},
          "output_type": "display_data"
        },
        {
          "data": {
            "text/html": [
              "<pre style=\"white-space:pre;overflow-x:auto;line-height:normal;font-family:Menlo,'DejaVu Sans Mono',consolas,'Courier New',monospace\">01:00:52.558 | <span style=\"color: #008080; text-decoration-color: #008080\">INFO</span>    | Flow run<span style=\"color: #800080; text-decoration-color: #800080\"> 'lurking-lion'</span> - Created task run 'filterTable-3' for task 'filterTable'\n",
              "</pre>\n"
            ],
            "text/plain": [
              "01:00:52.558 | \u001b[36mINFO\u001b[0m    | Flow run\u001b[35m 'lurking-lion'\u001b[0m - Created task run 'filterTable-3' for task 'filterTable'\n"
            ]
          },
          "metadata": {},
          "output_type": "display_data"
        },
        {
          "data": {
            "text/html": [
              "<pre style=\"white-space:pre;overflow-x:auto;line-height:normal;font-family:Menlo,'DejaVu Sans Mono',consolas,'Courier New',monospace\">01:00:52.559 | <span style=\"color: #008080; text-decoration-color: #008080\">INFO</span>    | Flow run<span style=\"color: #800080; text-decoration-color: #800080\"> 'lurking-lion'</span> - Executing 'filterTable-3' immediately...\n",
              "</pre>\n"
            ],
            "text/plain": [
              "01:00:52.559 | \u001b[36mINFO\u001b[0m    | Flow run\u001b[35m 'lurking-lion'\u001b[0m - Executing 'filterTable-3' immediately...\n"
            ]
          },
          "metadata": {},
          "output_type": "display_data"
        },
        {
          "data": {
            "text/html": [
              "<pre style=\"white-space:pre;overflow-x:auto;line-height:normal;font-family:Menlo,'DejaVu Sans Mono',consolas,'Courier New',monospace\">01:00:52.606 | <span style=\"color: #008080; text-decoration-color: #008080\">INFO</span>    | Task run 'filterTable-3' - Filtering: `Subject Group`=='ALS Spectrum MND'\n",
              "</pre>\n"
            ],
            "text/plain": [
              "01:00:52.606 | \u001b[36mINFO\u001b[0m    | Task run 'filterTable-3' - Filtering: `Subject Group`=='ALS Spectrum MND'\n"
            ]
          },
          "metadata": {},
          "output_type": "display_data"
        },
        {
          "data": {
            "text/html": [
              "<pre style=\"white-space:pre;overflow-x:auto;line-height:normal;font-family:Menlo,'DejaVu Sans Mono',consolas,'Courier New',monospace\">01:00:52.643 | <span style=\"color: #008080; text-decoration-color: #008080\">INFO</span>    | Task run 'filterTable-3' - Finished in state <span style=\"color: #008000; text-decoration-color: #008000\">Completed</span>()\n",
              "</pre>\n"
            ],
            "text/plain": [
              "01:00:52.643 | \u001b[36mINFO\u001b[0m    | Task run 'filterTable-3' - Finished in state \u001b[32mCompleted\u001b[0m()\n"
            ]
          },
          "metadata": {},
          "output_type": "display_data"
        },
        {
          "data": {
            "text/html": [
              "<pre style=\"white-space:pre;overflow-x:auto;line-height:normal;font-family:Menlo,'DejaVu Sans Mono',consolas,'Courier New',monospace\">01:00:52.672 | <span style=\"color: #008080; text-decoration-color: #008080\">INFO</span>    | Flow run<span style=\"color: #800080; text-decoration-color: #800080\"> 'lurking-lion'</span> - Created task run 'filterTable-4' for task 'filterTable'\n",
              "</pre>\n"
            ],
            "text/plain": [
              "01:00:52.672 | \u001b[36mINFO\u001b[0m    | Flow run\u001b[35m 'lurking-lion'\u001b[0m - Created task run 'filterTable-4' for task 'filterTable'\n"
            ]
          },
          "metadata": {},
          "output_type": "display_data"
        },
        {
          "data": {
            "text/html": [
              "<pre style=\"white-space:pre;overflow-x:auto;line-height:normal;font-family:Menlo,'DejaVu Sans Mono',consolas,'Courier New',monospace\">01:00:52.674 | <span style=\"color: #008080; text-decoration-color: #008080\">INFO</span>    | Flow run<span style=\"color: #800080; text-decoration-color: #800080\"> 'lurking-lion'</span> - Executing 'filterTable-4' immediately...\n",
              "</pre>\n"
            ],
            "text/plain": [
              "01:00:52.674 | \u001b[36mINFO\u001b[0m    | Flow run\u001b[35m 'lurking-lion'\u001b[0m - Executing 'filterTable-4' immediately...\n"
            ]
          },
          "metadata": {},
          "output_type": "display_data"
        },
        {
          "data": {
            "text/html": [
              "<pre style=\"white-space:pre;overflow-x:auto;line-height:normal;font-family:Menlo,'DejaVu Sans Mono',consolas,'Courier New',monospace\">01:00:52.726 | <span style=\"color: #008080; text-decoration-color: #008080\">INFO</span>    | Task run 'filterTable-4' - Filtering: `Subject Group`=='Non-Neurological Control'\n",
              "</pre>\n"
            ],
            "text/plain": [
              "01:00:52.726 | \u001b[36mINFO\u001b[0m    | Task run 'filterTable-4' - Filtering: `Subject Group`=='Non-Neurological Control'\n"
            ]
          },
          "metadata": {},
          "output_type": "display_data"
        },
        {
          "data": {
            "text/html": [
              "<pre style=\"white-space:pre;overflow-x:auto;line-height:normal;font-family:Menlo,'DejaVu Sans Mono',consolas,'Courier New',monospace\">01:00:52.823 | <span style=\"color: #008080; text-decoration-color: #008080\">INFO</span>    | Task run 'filterTable-4' - Finished in state <span style=\"color: #008000; text-decoration-color: #008000\">Completed</span>()\n",
              "</pre>\n"
            ],
            "text/plain": [
              "01:00:52.823 | \u001b[36mINFO\u001b[0m    | Task run 'filterTable-4' - Finished in state \u001b[32mCompleted\u001b[0m()\n"
            ]
          },
          "metadata": {},
          "output_type": "display_data"
        },
        {
          "data": {
            "text/html": [
              "<pre style=\"white-space:pre;overflow-x:auto;line-height:normal;font-family:Menlo,'DejaVu Sans Mono',consolas,'Courier New',monospace\">01:00:52.849 | <span style=\"color: #008080; text-decoration-color: #008080\">INFO</span>    | Flow run<span style=\"color: #800080; text-decoration-color: #800080\"> 'lurking-lion'</span> - Created task run 'filterTable-5' for task 'filterTable'\n",
              "</pre>\n"
            ],
            "text/plain": [
              "01:00:52.849 | \u001b[36mINFO\u001b[0m    | Flow run\u001b[35m 'lurking-lion'\u001b[0m - Created task run 'filterTable-5' for task 'filterTable'\n"
            ]
          },
          "metadata": {},
          "output_type": "display_data"
        },
        {
          "data": {
            "text/html": [
              "<pre style=\"white-space:pre;overflow-x:auto;line-height:normal;font-family:Menlo,'DejaVu Sans Mono',consolas,'Courier New',monospace\">01:00:52.850 | <span style=\"color: #008080; text-decoration-color: #008080\">INFO</span>    | Flow run<span style=\"color: #800080; text-decoration-color: #800080\"> 'lurking-lion'</span> - Executing 'filterTable-5' immediately...\n",
              "</pre>\n"
            ],
            "text/plain": [
              "01:00:52.850 | \u001b[36mINFO\u001b[0m    | Flow run\u001b[35m 'lurking-lion'\u001b[0m - Executing 'filterTable-5' immediately...\n"
            ]
          },
          "metadata": {},
          "output_type": "display_data"
        },
        {
          "data": {
            "text/html": [
              "<pre style=\"white-space:pre;overflow-x:auto;line-height:normal;font-family:Menlo,'DejaVu Sans Mono',consolas,'Courier New',monospace\">01:00:52.891 | <span style=\"color: #008080; text-decoration-color: #008080\">INFO</span>    | Task run 'filterTable-5' - Filtering: `Superpopulation code`!='EUR' &amp; `Population name`!='Finnish'\n",
              "</pre>\n"
            ],
            "text/plain": [
              "01:00:52.891 | \u001b[36mINFO\u001b[0m    | Task run 'filterTable-5' - Filtering: `Superpopulation code`!='EUR' & `Population name`!='Finnish'\n"
            ]
          },
          "metadata": {},
          "output_type": "display_data"
        },
        {
          "data": {
            "text/html": [
              "<pre style=\"white-space:pre;overflow-x:auto;line-height:normal;font-family:Menlo,'DejaVu Sans Mono',consolas,'Courier New',monospace\">01:00:52.924 | <span style=\"color: #008080; text-decoration-color: #008080\">INFO</span>    | Task run 'filterTable-5' - Finished in state <span style=\"color: #008000; text-decoration-color: #008000\">Completed</span>()\n",
              "</pre>\n"
            ],
            "text/plain": [
              "01:00:52.924 | \u001b[36mINFO\u001b[0m    | Task run 'filterTable-5' - Finished in state \u001b[32mCompleted\u001b[0m()\n"
            ]
          },
          "metadata": {},
          "output_type": "display_data"
        },
        {
          "data": {
            "text/html": [
              "<pre style=\"white-space:pre;overflow-x:auto;line-height:normal;font-family:Menlo,'DejaVu Sans Mono',consolas,'Courier New',monospace\">01:00:52.926 | <span style=\"color: #008080; text-decoration-color: #008080\">INFO</span>    | Flow run<span style=\"color: #800080; text-decoration-color: #800080\"> 'lurking-lion'</span> - filtered 4411 samples from external data ../notebook/igsr-1000 genomes phase 3 release.tsv\n",
              "</pre>\n"
            ],
            "text/plain": [
              "01:00:52.926 | \u001b[36mINFO\u001b[0m    | Flow run\u001b[35m 'lurking-lion'\u001b[0m - filtered 4411 samples from external data ../notebook/igsr-1000 genomes phase 3 release.tsv\n"
            ]
          },
          "metadata": {},
          "output_type": "display_data"
        },
        {
          "data": {
            "text/html": [
              "<pre style=\"white-space:pre;overflow-x:auto;line-height:normal;font-family:Menlo,'DejaVu Sans Mono',consolas,'Courier New',monospace\">01:00:52.927 | <span style=\"color: #008080; text-decoration-color: #008080\">INFO</span>    | Flow run<span style=\"color: #800080; text-decoration-color: #800080\"> 'lurking-lion'</span> - filtered 273 samples from external data ../notebook/ALS-NUPS-2000__discordantSamples.tsv\n",
              "</pre>\n"
            ],
            "text/plain": [
              "01:00:52.927 | \u001b[36mINFO\u001b[0m    | Flow run\u001b[35m 'lurking-lion'\u001b[0m - filtered 273 samples from external data ../notebook/ALS-NUPS-2000__discordantSamples.tsv\n"
            ]
          },
          "metadata": {},
          "output_type": "display_data"
        },
        {
          "data": {
            "text/html": [
              "<pre style=\"white-space:pre;overflow-x:auto;line-height:normal;font-family:Menlo,'DejaVu Sans Mono',consolas,'Courier New',monospace\">01:00:52.928 | <span style=\"color: #008080; text-decoration-color: #008080\">INFO</span>    | Flow run<span style=\"color: #800080; text-decoration-color: #800080\"> 'lurking-lion'</span> - filtered 15 samples from external data ../notebook/ACWM_ethnicallyVariable.tsv\n",
              "</pre>\n"
            ],
            "text/plain": [
              "01:00:52.928 | \u001b[36mINFO\u001b[0m    | Flow run\u001b[35m 'lurking-lion'\u001b[0m - filtered 15 samples from external data ../notebook/ACWM_ethnicallyVariable.tsv\n"
            ]
          },
          "metadata": {},
          "output_type": "display_data"
        },
        {
          "data": {
            "text/html": [
              "<pre style=\"white-space:pre;overflow-x:auto;line-height:normal;font-family:Menlo,'DejaVu Sans Mono',consolas,'Courier New',monospace\">01:00:52.929 | <span style=\"color: #008080; text-decoration-color: #008080\">INFO</span>    | Flow run<span style=\"color: #800080; text-decoration-color: #800080\"> 'lurking-lion'</span> - filtered 98 samples from external data ../notebook/ACWM_ethnicallyVariable.tsv\n",
              "</pre>\n"
            ],
            "text/plain": [
              "01:00:52.929 | \u001b[36mINFO\u001b[0m    | Flow run\u001b[35m 'lurking-lion'\u001b[0m - filtered 98 samples from external data ../notebook/ACWM_ethnicallyVariable.tsv\n"
            ]
          },
          "metadata": {},
          "output_type": "display_data"
        },
        {
          "data": {
            "text/html": [
              "<pre style=\"white-space:pre;overflow-x:auto;line-height:normal;font-family:Menlo,'DejaVu Sans Mono',consolas,'Courier New',monospace\">01:00:52.930 | <span style=\"color: #008080; text-decoration-color: #008080\">INFO</span>    | Flow run<span style=\"color: #800080; text-decoration-color: #800080\"> 'lurking-lion'</span> - filtered 669 samples from external data ../notebook/igsr-1000 genomes phase 3 release.tsv\n",
              "</pre>\n"
            ],
            "text/plain": [
              "01:00:52.930 | \u001b[36mINFO\u001b[0m    | Flow run\u001b[35m 'lurking-lion'\u001b[0m - filtered 669 samples from external data ../notebook/igsr-1000 genomes phase 3 release.tsv\n"
            ]
          },
          "metadata": {},
          "output_type": "display_data"
        },
        {
          "data": {
            "text/html": [
              "<pre style=\"white-space:pre;overflow-x:auto;line-height:normal;font-family:Menlo,'DejaVu Sans Mono',consolas,'Courier New',monospace\">01:00:52.957 | <span style=\"color: #008080; text-decoration-color: #008080\">INFO</span>    | Flow run<span style=\"color: #800080; text-decoration-color: #800080\"> 'lurking-lion'</span> - Created task run 'filterTable-6' for task 'filterTable'\n",
              "</pre>\n"
            ],
            "text/plain": [
              "01:00:52.957 | \u001b[36mINFO\u001b[0m    | Flow run\u001b[35m 'lurking-lion'\u001b[0m - Created task run 'filterTable-6' for task 'filterTable'\n"
            ]
          },
          "metadata": {},
          "output_type": "display_data"
        },
        {
          "data": {
            "text/html": [
              "<pre style=\"white-space:pre;overflow-x:auto;line-height:normal;font-family:Menlo,'DejaVu Sans Mono',consolas,'Courier New',monospace\">01:00:52.959 | <span style=\"color: #008080; text-decoration-color: #008080\">INFO</span>    | Flow run<span style=\"color: #800080; text-decoration-color: #800080\"> 'lurking-lion'</span> - Executing 'filterTable-6' immediately...\n",
              "</pre>\n"
            ],
            "text/plain": [
              "01:00:52.959 | \u001b[36mINFO\u001b[0m    | Flow run\u001b[35m 'lurking-lion'\u001b[0m - Executing 'filterTable-6' immediately...\n"
            ]
          },
          "metadata": {},
          "output_type": "display_data"
        },
        {
          "data": {
            "text/html": [
              "<pre style=\"white-space:pre;overflow-x:auto;line-height:normal;font-family:Menlo,'DejaVu Sans Mono',consolas,'Courier New',monospace\">01:00:53.684 | <span style=\"color: #008080; text-decoration-color: #008080\">INFO</span>    | Task run 'filterTable-6' - Finished in state <span style=\"color: #008000; text-decoration-color: #008000\">Completed</span>()\n",
              "</pre>\n"
            ],
            "text/plain": [
              "01:00:53.684 | \u001b[36mINFO\u001b[0m    | Task run 'filterTable-6' - Finished in state \u001b[32mCompleted\u001b[0m()\n"
            ]
          },
          "metadata": {},
          "output_type": "display_data"
        },
        {
          "data": {
            "text/html": [
              "<pre style=\"white-space:pre;overflow-x:auto;line-height:normal;font-family:Menlo,'DejaVu Sans Mono',consolas,'Courier New',monospace\">01:00:53.685 | <span style=\"color: #008080; text-decoration-color: #008080\">INFO</span>    | Flow run<span style=\"color: #800080; text-decoration-color: #800080\"> 'lurking-lion'</span> - filtered 0 variants from VCF\n",
              "</pre>\n"
            ],
            "text/plain": [
              "01:00:53.685 | \u001b[36mINFO\u001b[0m    | Flow run\u001b[35m 'lurking-lion'\u001b[0m - filtered 0 variants from VCF\n"
            ]
          },
          "metadata": {},
          "output_type": "display_data"
        },
        {
          "data": {
            "text/html": [
              "<pre style=\"white-space:pre;overflow-x:auto;line-height:normal;font-family:Menlo,'DejaVu Sans Mono',consolas,'Courier New',monospace\">01:00:53.771 | <span style=\"color: #008080; text-decoration-color: #008080\">INFO</span>    | Flow run<span style=\"color: #800080; text-decoration-color: #800080\"> 'lurking-lion'</span> - Created task run 'applyAlleleModel-0' for task 'applyAlleleModel'\n",
              "</pre>\n"
            ],
            "text/plain": [
              "01:00:53.771 | \u001b[36mINFO\u001b[0m    | Flow run\u001b[35m 'lurking-lion'\u001b[0m - Created task run 'applyAlleleModel-0' for task 'applyAlleleModel'\n"
            ]
          },
          "metadata": {},
          "output_type": "display_data"
        },
        {
          "data": {
            "text/html": [
              "<pre style=\"white-space:pre;overflow-x:auto;line-height:normal;font-family:Menlo,'DejaVu Sans Mono',consolas,'Courier New',monospace\">01:00:53.772 | <span style=\"color: #008080; text-decoration-color: #008080\">INFO</span>    | Flow run<span style=\"color: #800080; text-decoration-color: #800080\"> 'lurking-lion'</span> - Submitted task run 'applyAlleleModel-0' for execution.\n",
              "</pre>\n"
            ],
            "text/plain": [
              "01:00:53.772 | \u001b[36mINFO\u001b[0m    | Flow run\u001b[35m 'lurking-lion'\u001b[0m - Submitted task run 'applyAlleleModel-0' for execution.\n"
            ]
          },
          "metadata": {},
          "output_type": "display_data"
        },
        {
          "data": {
            "text/html": [
              "<pre style=\"white-space:pre;overflow-x:auto;line-height:normal;font-family:Menlo,'DejaVu Sans Mono',consolas,'Courier New',monospace\">01:00:53.781 | <span style=\"color: #008080; text-decoration-color: #008080\">INFO</span>    | Flow run<span style=\"color: #800080; text-decoration-color: #800080\"> 'lurking-lion'</span> - Created task run 'applyAlleleModel-1' for task 'applyAlleleModel'\n",
              "</pre>\n"
            ],
            "text/plain": [
              "01:00:53.781 | \u001b[36mINFO\u001b[0m    | Flow run\u001b[35m 'lurking-lion'\u001b[0m - Created task run 'applyAlleleModel-1' for task 'applyAlleleModel'\n"
            ]
          },
          "metadata": {},
          "output_type": "display_data"
        },
        {
          "data": {
            "text/html": [
              "<pre style=\"white-space:pre;overflow-x:auto;line-height:normal;font-family:Menlo,'DejaVu Sans Mono',consolas,'Courier New',monospace\">01:00:53.782 | <span style=\"color: #008080; text-decoration-color: #008080\">INFO</span>    | Flow run<span style=\"color: #800080; text-decoration-color: #800080\"> 'lurking-lion'</span> - Submitted task run 'applyAlleleModel-1' for execution.\n",
              "</pre>\n"
            ],
            "text/plain": [
              "01:00:53.782 | \u001b[36mINFO\u001b[0m    | Flow run\u001b[35m 'lurking-lion'\u001b[0m - Submitted task run 'applyAlleleModel-1' for execution.\n"
            ]
          },
          "metadata": {},
          "output_type": "display_data"
        },
        {
          "name": "stderr",
          "output_type": "stream",
          "text": [
            "100%|██████████| 925/925 [01:25<00:00, 10.88id/s]\n",
            "\n"
          ]
        },
        {
          "data": {
            "text/html": [
              "<pre style=\"white-space:pre;overflow-x:auto;line-height:normal;font-family:Menlo,'DejaVu Sans Mono',consolas,'Courier New',monospace\">01:02:23.102 | <span style=\"color: #008080; text-decoration-color: #008080\">INFO</span>    | Task run 'applyAlleleModel-0' - Finished in state <span style=\"color: #008000; text-decoration-color: #008000\">Completed</span>()\n",
              "</pre>\n"
            ],
            "text/plain": [
              "01:02:23.102 | \u001b[36mINFO\u001b[0m    | Task run 'applyAlleleModel-0' - Finished in state \u001b[32mCompleted\u001b[0m()\n"
            ]
          },
          "metadata": {},
          "output_type": "display_data"
        },
        {
          "name": "stderr",
          "output_type": "stream",
          "text": [
            "100%|██████████| 922/922 [01:34<00:00,  9.71id/s]\u001b[A\n"
          ]
        },
        {
          "data": {
            "text/html": [
              "<pre style=\"white-space:pre;overflow-x:auto;line-height:normal;font-family:Menlo,'DejaVu Sans Mono',consolas,'Courier New',monospace\">01:02:31.397 | <span style=\"color: #008080; text-decoration-color: #008080\">INFO</span>    | Task run 'applyAlleleModel-1' - Finished in state <span style=\"color: #008000; text-decoration-color: #008000\">Completed</span>()\n",
              "</pre>\n"
            ],
            "text/plain": [
              "01:02:31.397 | \u001b[36mINFO\u001b[0m    | Task run 'applyAlleleModel-1' - Finished in state \u001b[32mCompleted\u001b[0m()\n"
            ]
          },
          "metadata": {},
          "output_type": "display_data"
        },
        {
          "data": {
            "text/html": [
              "<pre style=\"white-space:pre;overflow-x:auto;line-height:normal;font-family:Menlo,'DejaVu Sans Mono',consolas,'Courier New',monospace\">01:02:31.478 | <span style=\"color: #008080; text-decoration-color: #008080\">INFO</span>    | Flow run<span style=\"color: #800080; text-decoration-color: #800080\"> 'lurking-lion'</span> - Created task run 'applyAlleleModel-2' for task 'applyAlleleModel'\n",
              "</pre>\n"
            ],
            "text/plain": [
              "01:02:31.478 | \u001b[36mINFO\u001b[0m    | Flow run\u001b[35m 'lurking-lion'\u001b[0m - Created task run 'applyAlleleModel-2' for task 'applyAlleleModel'\n"
            ]
          },
          "metadata": {},
          "output_type": "display_data"
        },
        {
          "data": {
            "text/html": [
              "<pre style=\"white-space:pre;overflow-x:auto;line-height:normal;font-family:Menlo,'DejaVu Sans Mono',consolas,'Courier New',monospace\">01:02:31.480 | <span style=\"color: #008080; text-decoration-color: #008080\">INFO</span>    | Flow run<span style=\"color: #800080; text-decoration-color: #800080\"> 'lurking-lion'</span> - Submitted task run 'applyAlleleModel-2' for execution.\n",
              "</pre>\n"
            ],
            "text/plain": [
              "01:02:31.480 | \u001b[36mINFO\u001b[0m    | Flow run\u001b[35m 'lurking-lion'\u001b[0m - Submitted task run 'applyAlleleModel-2' for execution.\n"
            ]
          },
          "metadata": {},
          "output_type": "display_data"
        },
        {
          "data": {
            "text/html": [
              "<pre style=\"white-space:pre;overflow-x:auto;line-height:normal;font-family:Menlo,'DejaVu Sans Mono',consolas,'Courier New',monospace\">01:02:31.491 | <span style=\"color: #008080; text-decoration-color: #008080\">INFO</span>    | Flow run<span style=\"color: #800080; text-decoration-color: #800080\"> 'lurking-lion'</span> - Created task run 'applyAlleleModel-3' for task 'applyAlleleModel'\n",
              "</pre>\n"
            ],
            "text/plain": [
              "01:02:31.491 | \u001b[36mINFO\u001b[0m    | Flow run\u001b[35m 'lurking-lion'\u001b[0m - Created task run 'applyAlleleModel-3' for task 'applyAlleleModel'\n"
            ]
          },
          "metadata": {},
          "output_type": "display_data"
        },
        {
          "data": {
            "text/html": [
              "<pre style=\"white-space:pre;overflow-x:auto;line-height:normal;font-family:Menlo,'DejaVu Sans Mono',consolas,'Courier New',monospace\">01:02:31.492 | <span style=\"color: #008080; text-decoration-color: #008080\">INFO</span>    | Flow run<span style=\"color: #800080; text-decoration-color: #800080\"> 'lurking-lion'</span> - Submitted task run 'applyAlleleModel-3' for execution.\n",
              "</pre>\n"
            ],
            "text/plain": [
              "01:02:31.492 | \u001b[36mINFO\u001b[0m    | Flow run\u001b[35m 'lurking-lion'\u001b[0m - Submitted task run 'applyAlleleModel-3' for execution.\n"
            ]
          },
          "metadata": {},
          "output_type": "display_data"
        },
        {
          "name": "stderr",
          "output_type": "stream",
          "text": [
            "100%|██████████| 97/97 [00:01<00:00, 50.10id/s] \n"
          ]
        },
        {
          "data": {
            "text/html": [
              "<pre style=\"white-space:pre;overflow-x:auto;line-height:normal;font-family:Menlo,'DejaVu Sans Mono',consolas,'Courier New',monospace\">01:02:33.836 | <span style=\"color: #008080; text-decoration-color: #008080\">INFO</span>    | Task run 'applyAlleleModel-2' - Finished in state <span style=\"color: #008000; text-decoration-color: #008000\">Completed</span>()\n",
              "</pre>\n"
            ],
            "text/plain": [
              "01:02:33.836 | \u001b[36mINFO\u001b[0m    | Task run 'applyAlleleModel-2' - Finished in state \u001b[32mCompleted\u001b[0m()\n"
            ]
          },
          "metadata": {},
          "output_type": "display_data"
        },
        {
          "name": "stderr",
          "output_type": "stream",
          "text": [
            "100%|██████████| 4323/4323 [01:47<00:00, 40.35id/s] \n"
          ]
        },
        {
          "data": {
            "text/html": [
              "<pre style=\"white-space:pre;overflow-x:auto;line-height:normal;font-family:Menlo,'DejaVu Sans Mono',consolas,'Courier New',monospace\">01:04:25.922 | <span style=\"color: #008080; text-decoration-color: #008080\">INFO</span>    | Task run 'applyAlleleModel-3' - Finished in state <span style=\"color: #008000; text-decoration-color: #008000\">Completed</span>()\n",
              "</pre>\n"
            ],
            "text/plain": [
              "01:04:25.922 | \u001b[36mINFO\u001b[0m    | Task run 'applyAlleleModel-3' - Finished in state \u001b[32mCompleted\u001b[0m()\n"
            ]
          },
          "metadata": {},
          "output_type": "display_data"
        },
        {
          "data": {
            "text/html": [
              "<pre style=\"white-space:pre;overflow-x:auto;line-height:normal;font-family:Menlo,'DejaVu Sans Mono',consolas,'Courier New',monospace\">01:04:25.924 | <span style=\"color: #008080; text-decoration-color: #008080\">INFO</span>    | Flow run<span style=\"color: #800080; text-decoration-color: #800080\"> 'lurking-lion'</span> - \n",
              "missing 238 control IDs:\n",
              " {'NA12832', 'CGND-HDA-03326', 'CGND-HDA-04734', 'CGND-HDA-02489-1', 'NA07029', 'CGND-HDA-02870', 'NA12329', 'CGND-HDA-03170', 'NA12336', 'CGND-HDA-04735', 'CGND-HDA-04889', 'NA10864', 'HG01622', 'CGND-HDA-03398', 'NA10845', 'CGND-HDA-04736', 'CGND-HDA-03164', 'CGND-HDA-01167', 'HG02240', 'CGND-HDA-04825', 'NA12801', 'CGND-HDA-00214', 'CGND-HDA-04922', 'HG01604', 'HG00153', 'NA12739', 'CGND-HDA-00167', 'HG01609', 'NA12892', 'HG01677', 'CGND-HDA-03175', 'CGND-HDA-00166', 'NA12767', 'HG00248', 'HG02225', 'HG01667', 'HG01671', 'HG01526', 'NA06993', 'CGND-HDA-03183', 'HG01701', 'NA11993', 'NA07346', 'HG04301', 'CGND-HDA-01482', 'NA11882', 'CGND-HDA-02876', 'NA12057', 'CGND-HDA-04822', 'NA12344', 'HG01683', 'CGND-HDA-02878', 'HG01627', 'NA11839', 'HG04303', 'CGND-HDA-02752', 'NA07055', 'NA12386', 'HG01774', 'NA12376', 'CGND-HDA-02865', 'NA12864', 'CGND-HDA-02868', 'NA10835', 'CGND-HDA-00217', 'NA12877', 'HG01633', 'HG01696', 'NA11917', 'HG01611', 'HG01529', 'NA10836', 'HG02222', 'CGND-HDA-00179', 'HG01711', 'CGND-HDA-05535', 'HG01517', 'HG01614', 'CGND-HDA-03294', 'HG01787', 'NA12818', 'HG01698', 'NA12264', 'HG00249', 'CGND-HDA-03168', 'CGND-HDA-03174', 'NA10857', 'NA06997', 'NA12343', 'CGND-HDA-02884', 'HG01538', 'NA11891', 'NA07349', 'HG00144', 'CGND-HDA-04834', 'CGND-HDA-03325', 'HG00152', 'CGND-HDA-03179', 'NA10842', 'NA07340', 'CGND-HDA-03169', 'HG01681', 'CGND-HDA-04824', 'NA20816', 'NA12145', 'NA12753', 'HG00134', 'CGND-HDA-03318', 'CGND-HDA-03369', 'CGND-HDA-00216', 'NA20829', 'NA10860', 'HG00124', 'CGND-HDA-00165', 'HG01772', 'NA07031', 'HG04302', 'NA12752', 'HG01782', 'CGND-HDA-02869', 'NA10850', 'HG01505', 'HG01508', 'NA10843', 'CGND-HDA-02867', 'HG00156', 'NA07022', 'HG01629', 'CGND-HDA-03185', 'CGND-HDA-04849', 'HG02234', 'HG01514', 'HG01601', 'HG01769', 'NA12708', 'CGND-HDA-03172', 'CGND-HDA-03173', 'CGND-HDA-02880', 'CGND-HDA-03297', 'NA10839', 'NA20526', 'CGND-HDA-04733', 'HG01706', 'CGND-HDA-02883', 'CGND-HDA-02863', 'CGND-HDA-02736', 'HG01532', 'NA12146', 'HG00098', 'NA07019', 'CGND-HDA-03171', 'HG00135', 'NA10863', 'CGND-HDA-04828', 'CGND-HDA-05300', 'CGND-HDA-00180', 'NA12830', 'NA10831', 'CGND-HDA-02887', 'HG01763', 'NA10838', 'NA10855', 'NA12274', 'CGND-HDA-03356', 'NA07348', 'NA12236', 'HG01778', 'CGND-HDA-00178', 'NA20537', 'HG01523', 'HG01755', 'CGND-HDA-03184', 'HG01748', 'CGND-HDA-04848', 'NA06995', 'HG01764', 'NA12740', 'CGND-HDA-03182', 'NA07034', 'CGND-HDA-04846', 'HG00147', 'HG02217', 'HG02229', 'NA12766', 'NA12891', 'HG01520', 'HG02237', 'NA10840', 'NA12707', 'NA10854', 'HG01780', 'HG01687', 'CGND-HDA-04749', 'NA10856', 'NA12546', 'NA20831', 'NA10837', 'HG00104', 'CGND-HDA-05298', 'HG01674', 'NA12865', 'NA06991', 'NA07345', 'NA10861', 'CGND-HDA-05299', 'NA10830', 'HG02218', 'CGND-HDA-04894', 'NA12802', 'CGND-HDA-02891', 'NA12375', 'HG01621', 'NA12248', 'CGND-HDA-04830', 'CGND-HDA-02837', 'NA10853', 'NA07435', 'HG01616', 'NA10865', 'HG01703', 'NA12875', 'HG01511', 'CGND-HDA-03163', 'CGND-HDA-04923', 'CGND-HDA-03177', 'NA12485', 'NA12335', 'NA10859', 'NA10846', 'NA12239', 'HG00247', 'HG01502', 'NA12056', 'CGND-HDA-04835', 'NA07014', 'NA12817', 'NA10852', 'NA07045'}\n",
              "</pre>\n"
            ],
            "text/plain": [
              "01:04:25.924 | \u001b[36mINFO\u001b[0m    | Flow run\u001b[35m 'lurking-lion'\u001b[0m - \n",
              "missing 238 control IDs:\n",
              " {'NA12832', 'CGND-HDA-03326', 'CGND-HDA-04734', 'CGND-HDA-02489-1', 'NA07029', 'CGND-HDA-02870', 'NA12329', 'CGND-HDA-03170', 'NA12336', 'CGND-HDA-04735', 'CGND-HDA-04889', 'NA10864', 'HG01622', 'CGND-HDA-03398', 'NA10845', 'CGND-HDA-04736', 'CGND-HDA-03164', 'CGND-HDA-01167', 'HG02240', 'CGND-HDA-04825', 'NA12801', 'CGND-HDA-00214', 'CGND-HDA-04922', 'HG01604', 'HG00153', 'NA12739', 'CGND-HDA-00167', 'HG01609', 'NA12892', 'HG01677', 'CGND-HDA-03175', 'CGND-HDA-00166', 'NA12767', 'HG00248', 'HG02225', 'HG01667', 'HG01671', 'HG01526', 'NA06993', 'CGND-HDA-03183', 'HG01701', 'NA11993', 'NA07346', 'HG04301', 'CGND-HDA-01482', 'NA11882', 'CGND-HDA-02876', 'NA12057', 'CGND-HDA-04822', 'NA12344', 'HG01683', 'CGND-HDA-02878', 'HG01627', 'NA11839', 'HG04303', 'CGND-HDA-02752', 'NA07055', 'NA12386', 'HG01774', 'NA12376', 'CGND-HDA-02865', 'NA12864', 'CGND-HDA-02868', 'NA10835', 'CGND-HDA-00217', 'NA12877', 'HG01633', 'HG01696', 'NA11917', 'HG01611', 'HG01529', 'NA10836', 'HG02222', 'CGND-HDA-00179', 'HG01711', 'CGND-HDA-05535', 'HG01517', 'HG01614', 'CGND-HDA-03294', 'HG01787', 'NA12818', 'HG01698', 'NA12264', 'HG00249', 'CGND-HDA-03168', 'CGND-HDA-03174', 'NA10857', 'NA06997', 'NA12343', 'CGND-HDA-02884', 'HG01538', 'NA11891', 'NA07349', 'HG00144', 'CGND-HDA-04834', 'CGND-HDA-03325', 'HG00152', 'CGND-HDA-03179', 'NA10842', 'NA07340', 'CGND-HDA-03169', 'HG01681', 'CGND-HDA-04824', 'NA20816', 'NA12145', 'NA12753', 'HG00134', 'CGND-HDA-03318', 'CGND-HDA-03369', 'CGND-HDA-00216', 'NA20829', 'NA10860', 'HG00124', 'CGND-HDA-00165', 'HG01772', 'NA07031', 'HG04302', 'NA12752', 'HG01782', 'CGND-HDA-02869', 'NA10850', 'HG01505', 'HG01508', 'NA10843', 'CGND-HDA-02867', 'HG00156', 'NA07022', 'HG01629', 'CGND-HDA-03185', 'CGND-HDA-04849', 'HG02234', 'HG01514', 'HG01601', 'HG01769', 'NA12708', 'CGND-HDA-03172', 'CGND-HDA-03173', 'CGND-HDA-02880', 'CGND-HDA-03297', 'NA10839', 'NA20526', 'CGND-HDA-04733', 'HG01706', 'CGND-HDA-02883', 'CGND-HDA-02863', 'CGND-HDA-02736', 'HG01532', 'NA12146', 'HG00098', 'NA07019', 'CGND-HDA-03171', 'HG00135', 'NA10863', 'CGND-HDA-04828', 'CGND-HDA-05300', 'CGND-HDA-00180', 'NA12830', 'NA10831', 'CGND-HDA-02887', 'HG01763', 'NA10838', 'NA10855', 'NA12274', 'CGND-HDA-03356', 'NA07348', 'NA12236', 'HG01778', 'CGND-HDA-00178', 'NA20537', 'HG01523', 'HG01755', 'CGND-HDA-03184', 'HG01748', 'CGND-HDA-04848', 'NA06995', 'HG01764', 'NA12740', 'CGND-HDA-03182', 'NA07034', 'CGND-HDA-04846', 'HG00147', 'HG02217', 'HG02229', 'NA12766', 'NA12891', 'HG01520', 'HG02237', 'NA10840', 'NA12707', 'NA10854', 'HG01780', 'HG01687', 'CGND-HDA-04749', 'NA10856', 'NA12546', 'NA20831', 'NA10837', 'HG00104', 'CGND-HDA-05298', 'HG01674', 'NA12865', 'NA06991', 'NA07345', 'NA10861', 'CGND-HDA-05299', 'NA10830', 'HG02218', 'CGND-HDA-04894', 'NA12802', 'CGND-HDA-02891', 'NA12375', 'HG01621', 'NA12248', 'CGND-HDA-04830', 'CGND-HDA-02837', 'NA10853', 'NA07435', 'HG01616', 'NA10865', 'HG01703', 'NA12875', 'HG01511', 'CGND-HDA-03163', 'CGND-HDA-04923', 'CGND-HDA-03177', 'NA12485', 'NA12335', 'NA10859', 'NA10846', 'NA12239', 'HG00247', 'HG01502', 'NA12056', 'CGND-HDA-04835', 'NA07014', 'NA12817', 'NA10852', 'NA07045'}\n"
            ]
          },
          "metadata": {},
          "output_type": "display_data"
        },
        {
          "data": {
            "text/html": [
              "<pre style=\"white-space:pre;overflow-x:auto;line-height:normal;font-family:Menlo,'DejaVu Sans Mono',consolas,'Courier New',monospace\">01:04:25.926 | <span style=\"color: #008080; text-decoration-color: #008080\">INFO</span>    | Flow run<span style=\"color: #800080; text-decoration-color: #800080\"> 'lurking-lion'</span> - \n",
              "missing 75 holdout cases IDs:\n",
              " {'HHU-1877', 'NEUAL196CNH', 'ALSGR152', 'ALSGR19', 'NEUTR651PH8', 'ALSGR163', 'HHU-1814', 'HHU-1909', 'HHU-1911', 'HHU-1871', 'ALSGR351', 'NEUXF746MEU', 'HHU-1861', 'NEUNL207GYP', 'NEUXW064UJ5', 'ALSGR221', 'HHU-1878', 'NEUHR111JYA', 'HHU-1725', 'NEUVE796LTL', 'HHU-1893', 'NEUDJ612NZM', 'HHU-1869', 'HHU-1883', 'HHU-1859', 'NEUXB264YTP', 'NEURD196UBZ', 'NEUPR357AUF', 'HHU-1777', 'ALSGR197', 'HHU-1910', 'NEUWD376UF5', 'HHU-1913', 'HHU-1885', 'NEUNM920DWJ', 'HHU-1834', 'NEUTP828HM4', 'NEUZH450HVV', 'E4BFAF6F-1F5C-47DF-824A-1B7B7D4AD540', 'NEUBT273FH3', 'HHU-1730', 'ALSGR354', '456062D5-8696-4F41-A3E4-4A00F805FFF1', 'HHU-1790', 'HHU-1735', 'NEUVX345UJW', 'NEUTU402ZP5', 'NEUEM417CHQ', 'HHU-1799', 'NEUYY878JGP', 'ALSGR44', 'NEULM691PBK', 'ALSGR342', 'NEUXW830NYM', 'HHU-1816', 'HHU-1842', 'HHU-1784', 'HHU-1728', 'NEUBJ841EMR', 'HHU-1897', 'NEUFH461AAN', 'HHU-1787', 'HHU-1840', 'ALSGR18', 'NEURJ845GZ5', 'NEUGG230KV0', 'NEULT851ENP', 'TD-ALS-197', 'HHU-1854', 'HHU-1886', 'HHU-1824', 'HHU-1899', 'HHU-1900', 'HHU-1753', 'NEUNB395JZ7'}\n",
              "</pre>\n"
            ],
            "text/plain": [
              "01:04:25.926 | \u001b[36mINFO\u001b[0m    | Flow run\u001b[35m 'lurking-lion'\u001b[0m - \n",
              "missing 75 holdout cases IDs:\n",
              " {'HHU-1877', 'NEUAL196CNH', 'ALSGR152', 'ALSGR19', 'NEUTR651PH8', 'ALSGR163', 'HHU-1814', 'HHU-1909', 'HHU-1911', 'HHU-1871', 'ALSGR351', 'NEUXF746MEU', 'HHU-1861', 'NEUNL207GYP', 'NEUXW064UJ5', 'ALSGR221', 'HHU-1878', 'NEUHR111JYA', 'HHU-1725', 'NEUVE796LTL', 'HHU-1893', 'NEUDJ612NZM', 'HHU-1869', 'HHU-1883', 'HHU-1859', 'NEUXB264YTP', 'NEURD196UBZ', 'NEUPR357AUF', 'HHU-1777', 'ALSGR197', 'HHU-1910', 'NEUWD376UF5', 'HHU-1913', 'HHU-1885', 'NEUNM920DWJ', 'HHU-1834', 'NEUTP828HM4', 'NEUZH450HVV', 'E4BFAF6F-1F5C-47DF-824A-1B7B7D4AD540', 'NEUBT273FH3', 'HHU-1730', 'ALSGR354', '456062D5-8696-4F41-A3E4-4A00F805FFF1', 'HHU-1790', 'HHU-1735', 'NEUVX345UJW', 'NEUTU402ZP5', 'NEUEM417CHQ', 'HHU-1799', 'NEUYY878JGP', 'ALSGR44', 'NEULM691PBK', 'ALSGR342', 'NEUXW830NYM', 'HHU-1816', 'HHU-1842', 'HHU-1784', 'HHU-1728', 'NEUBJ841EMR', 'HHU-1897', 'NEUFH461AAN', 'HHU-1787', 'HHU-1840', 'ALSGR18', 'NEURJ845GZ5', 'NEUGG230KV0', 'NEULT851ENP', 'TD-ALS-197', 'HHU-1854', 'HHU-1886', 'HHU-1824', 'HHU-1899', 'HHU-1900', 'HHU-1753', 'NEUNB395JZ7'}\n"
            ]
          },
          "metadata": {},
          "output_type": "display_data"
        },
        {
          "data": {
            "text/html": [
              "<pre style=\"white-space:pre;overflow-x:auto;line-height:normal;font-family:Menlo,'DejaVu Sans Mono',consolas,'Courier New',monospace\">01:04:25.927 | <span style=\"color: #008080; text-decoration-color: #008080\">INFO</span>    | Flow run<span style=\"color: #800080; text-decoration-color: #800080\"> 'lurking-lion'</span> - \n",
              "missing 2311 holdout controls IDs:\n",
              " {'NA18527', 'SC_GMMAN5482197', 'HG04122', 'SC_GMMAN5482202', 'HG02965', 'NA20295', 'HGDP00680', 'SC_GMJOL5309884', 'HGDP00970', 'SC_GMMAN5482178', 'HGDP00960', 'HGDP00595', 'HGDP01257', 'SC_GMJOL5309919', 'HGDP01256', 'HG03431', 'HG03794', 'HG03017', 'HGDP00612', 'HG02683', 'SC_GMMAN5482209', 'HGDP00877', 'HGDP00992', 'HGDP00703', 'HGDP00464', 'HGDP01328', 'ch113', 'HGDP00889', 'HGDP01188', 'NA19196', 'NA20302', 'HGDP00890', 'SC_GMFUL5306352', 'HGDP01282', 'NA20279', 'HGDP00131', 'NA20335', 'HG03719', 'SC_GMMAN5482247', 'HG03239', 'SC_GMFUL5306426', 'HGDP00936', 'HGDP00086', 'SC_GMFUL5306387', 'SC_GMMAN5482266', 'NA19100', 'HGDP00938', 'SC_GMJOL5309981', 'HGDP00244', 'NA19311', 'HGDP01366', 'HG02880', 'HG03654', 'HGDP01360', 'SC_GMFUL5306403', 'SC_GMMAN5482189', 'HG00694', 'NA19252', 'HGDP00616', 'HG03519', 'HGDP00326', 'NA20284', 'HGDP00647', 'HG04181', 'HG02514', 'HG03477', 'I3', 'HG01123', 'NA15761', 'HG02966', 'HG02815', 'SC_GMMAN5482258', 'HGDP01383', 'HGDP00239', 'Kor82', 'HGDP00669', 'HGDP00179', 'HGDP00346', 'HGDP00855', 'HG03341', 'HGDP00064', 'HGDP01102', 'NA19766', 'SC_GMJOL5309906', 'SC_GMMAN5482171', 'HG00597', 'NA21581', 'HGDP00698', 'B17', 'HGDP01335', 'SC_GMFUL5309747', 'HG03299', 'HG01261', 'HG02779', 'HG02106', 'HGDP00522', 'NEUVM032BF2', 'HGDP00007', 'HGDP00643', 'SC_GMMAN5482215', 'HGDP01296', 'HGDP00967', 'HG02279', 'HGDP00660', 'HG02612', 'HG00635', 'HGDP01055', 'SC_GMJOL5309965', 'HG02372', 'SC_GMJOL5309982', 'HGDP01067', 'HG00741', 'SC_GMMAN5482260', 'SC_GMMAN5482181', 'HGDP00531', 'SC_GMMAN5482211', 'HGDP01321', 'HGDP01180', 'HG01255', 'SC_GMFUL5309722', 'HGDP00823', 'NA18794', 'NA18854', 'HGDP01411', 'HGDP01261', 'HGDP00931', 'Nlk3', 'HGDP00886', 'HG02584', 'SC_GMFUL5306420', 'SC_GMWOF5428830', 'HG01090', 'HG02300', 'SC_GMWOF5428708', 'HGDP00571', 'NA19109', 'SC_GMWOF5428794', 'HGDP00475', 'NA19659', 'HGDP01047', 'SC_GMWOF5428843', 'HG00585', 'BulgarianC1', 'HG03587', 'HGDP00689', 'SC_GMJOL5309956', 'HGDP00197', 'HG03026', 'NA19432', 'SC_GMFUL5306345', 'SC_GMWOF5428877', 'HGDP00868', 'mg27', 'HGDP00449', 'HGDP01380', 'HG02524', 'SC_GMJOL5309934', 'SA0722', 'HGDP00070', 'HG02261', 'SC_GMJOL5309933', 'HGDP00918', 'HGDP01403', 'NA19760', 'NA20128', 'HG03453', 'SC_GMJOL5309912', 'HGDP00939', 'HGDP00169', 'HG01952', 'HG00621', 'HGDP00573', 'HGDP00917', 'HGDP00925', 'SC_GMWOF5428817', 'SA0342', 'HG00630', 'SC_GMFUL5306360', 'SC_GMMAN5482192', 'SC_GMMAN5482242', 'NA19221', 'HG03638', 'HGDP01303', 'HGDP00298', 'HG02596', 'SC_GMMAN5482248', 'NA19352', 'HG03203', 'HG04192', 'NA20893', 'HGDP00031', 'HG03972', 'HG00738', 'HG02451', 'HGDP00136', 'SC_GMMAN5482193', 'SC_GMWOF5428715', 'HGDP00701', 'SC_GMFUL5306370', 'SC_GMWOF5428796', 'HGDP00157', 'HG03704', 'SC_GMJOL5309921', 'HGDP01401', 'SC_GMFUL5306390', 'SC_GMWOF5428745', 'HGDP00604', 'HGDP00108', 'NA19902', 'NA19101', 'HGDP00908', 'HG02939', 'HGDP00230', 'HG03381', 'HGDP00074', 'HG01276', 'HG02590', 'HGDP00715', 'SC_GMWOF5428795', 'HGDP01068', 'HGDP00561', 'HG02258', 'HGDP01313', 'SC_GMJOL5309876', 'HGDP00015', 'HGDP00576', 'HGDP01194', 'HGDP01033', 'HGDP00058', 'HGDP00556', 'SC_GMWOF5428788', 'HG00652', 'HG03831', 'HGDP00241', 'HG02303', 'SC_GMMAN5482250', 'HGDP01099', 'HGDP00582', 'Jordan214', 'HGDP00302', 'HG02363', 'NA20337', 'HGDP01314', 'HGDP00912', 'HGDP00802', 'HG03462', 'HGDP00160', 'SC_GMMAN5482176', 'SC_GMMAN5482173', 'HGDP01186', 'SC_GMWOF5428800', 'HG01278', 'SC_GMFUL5309719', 'HGDP00885', 'NA18518', 'NA18524', 'HG03906', 'SC_GMMAN5482323', 'HGDP01227', 'HGDP00935', 'HGDP01172', 'HGDP00640', 'SC_GMWOF5428790', 'HGDP01014', 'HG00658', 'HG03915', 'HG00685', 'HGDP01177', 'HGDP00957', 'HGDP00328', 'HGDP00623', 'SC_GMJOL5309969', 'SC_GMFUL5306421', 'HG01439', 'SC_GMWOF5428866', 'SC_GMJOL5309937', 'SC_GMFUL5306382', 'HG03116', 'HG01169', 'NA20414', 'HG00612', 'NA19702', 'NA18857', 'HGDP01104', 'SC_GMJOL5309972', 'HGDP00088', 'HG01352', 'HG01364', 'HGDP00080', 'HGDP01225', 'HGDP01230', 'SC_GMJOL5309860', 'SC_GMJOL5309964', 'SC_GMMAN5482228', 'SC_GMFUL5309741', 'HGDP01326', 'NA19790', 'HG02288', 'NA19828', 'SC_GMJOL5309813', 'HG01946', 'HGDP00919', 'SC_GMWOF5428865', 'HG02486', 'SC_GMMAN5482252', 'SC_GMWOF5428802', 'SC_GMJOL5309897', 'HG02068', 'HG03056', 'HGDP01279', 'HGDP00560', 'HG01141', 'HG03171', 'HGDP00678', 'HGDP00548', 'NA19724', 'SC_GMMAN5482231', 'HGDP00609', 'HGDP00711', 'HGDP01266', 'HGDP00763', 'NA19753', 'SC_GMWOF5428869', 'HGDP01057', 'SC_GMMAN5482201', 'HGDP01332', 'HGDP01362', 'HGDP00821', 'Mansi41', 'SC_GMJOL5309805', 'HG03344', 'Ayodo_430C', 'HGDP00613', 'SC_GMWOF5428804', 'HG01453', 'HGDP00052', 'HGDP00013', 'HGDP01276', 'SC_GMWOF5428863', 'SC_GMFUL5309735', 'HGDP00947', 'HGDP00577', 'HGDP00894', 'HG00673', 'NA19195', 'SC_GMFUL5309733', 'HGDP01249', 'SC_GMWOF5428810', 'SC_GMWOF5428861', 'SC_GMJOL5309926', 'HGDP01072', 'HG02344', 'HG01590', 'SC_GMFUL5306428', 'HGDP01315', 'HG03710', 'HGDP00145', 'HG02622', 'HGDP01339', 'HG03761', 'HGDP01195', 'HG03122', 'HGDP00790', 'HGDP00690', 'HGDP00884', 'NA19781', 'HGDP00338', 'HG00700', 'NA19224', 'SC_GMFUL5306418', 'SC_GMMAN5482251', 'Ale20', 'HG02964', 'HGDP00173', 'HGDP01297', 'HG04191', 'HGDP00795', 'HGDP00907', 'SC_GMFUL5309748', 'HG03034', 'HGDP00832', 'NA20336', 'HG02975', 'SC_GMFUL5306359', 'HGDP00575', 'SC_GMFUL5309702', 'HGDP00199', 'NA19211', 'HGDP00536', 'HG03699', 'HG01411', 'TZ-11', 'KD4', 'HGDP00192', 'SC_GMMAN5482224', 'NA19148', 'SC_GMJOL5309904', 'SC_GMMAN5482172', 'HG02572', 'SC_GMWOF5428740', 'HG01481', 'HG01987', 'HG01074', 'SC_GMWOF5428792', 'HG02077', 'HGDP00237', 'SC_GMFUL5306349', 'SC_GMJOL5309903', 'HGDP01171', 'HGDP01245', 'HG01975', 'SC_GMJOL5309852', 'R3', 'HG04193', 'NA19046', 'NA20413', 'HG00558', 'HG01346', 'HGDP00754', 'SC_GMFUL5306396', 'HG03408', 'HGDP00553', 'SC_GMWOF5428838', 'SC_GMJOL5309835', 'HGDP01101', 'HG02761', 'SC_GMFUL5309701', 'NA18576', 'SC_GMJOL5309975', 'HGDP00109', 'SC_GMWOF5428859', 'HGDP01295', 'NA20313', 'HGDP00915', 'NA20345', 'SC_GMFUL5309709', 'HGDP00820', 'HGDP00460', 'HG01998', 'HG03626', 'SC_GMMAN5482220', 'HG02838', 'SC_GMWOF5428857', 'HGDP01100', 'HGDP01070', 'HGDP00248', 'NA19671', 'HGDP00129', 'HG00691', 'HGDP00423', 'IHW9193', 'HG03992', 'HGDP00636', 'HGDP01167', 'NA20344', 'NA19650', 'HGDP01406', 'SC_GMFUL5306423', 'HG01919', 'SC_GMFUL5306419', 'HGDP01086', 'HGDP00452', 'HGDP00600', 'HGDP01273', 'HGDP01202', 'HG02018', 'HGDP00869', 'SC_GMWOF5428855', 'HGDP01242', 'HGDP00929', 'HG02809', 'HGDP01416', 'HG00733', 'HGDP00110', 'HG01103', 'HGDP00150', 'HG02478', 'HG04228', 'HG02599', 'HG03516', 'HG02015', 'NA19680', 'HG01397', 'SC_GMFUL5306339', 'HGDP00744', 'HGDP00562', 'HGDP01346', 'HG01099', 'HG00427', 'HGDP00115', 'NA19730', 'SC_GMMAN5482162', 'SC_GMWOF5428707', 'HGDP00550', 'HGDP01069', 'NA19778', 'SC_GMJOL5309843', 'SC_GMMAN5482282', 'HGDP00803', 'HG03811', 'HGDP00940', 'SC_GMJOL5309939', 'Ale14', 'HG02569', 'HGDP00787', 'HG03721', 'HGDP00453', 'HG01466', 'SC_GMWOF5428841', 'SC_GMWOF5428778', 'HGDP00861', 'HGDP00934', 'NA20333', 'NA19123', 'NA20285', 'NA19660', 'HGDP01212', 'HGDP00901', 'HG01480', 'SC_GMWOF5428739', 'HG03272', 'HGDP00037', 'HG03656', 'HGDP01232', 'HG03930', 'HGDP01309', 'HG04184', 'SC_GMMAN5482213', 'HGDP00205', 'SC_GMJOL5309918', 'HGDP00517', 'HGDP01034', 'HGDP00096', 'HGDP00791', 'HGDP00402', 'HG01972', 'NA18955', 'HG01206', 'HGDP00247', 'HGDP00808', 'HGDP00597', 'HG04055', 'SC_GMFUL5306411', 'HGDP00177', 'Armenian222', 'HG00730', 'HG00480', 'HGDP00766', 'HGDP00776', 'NA19382', 'HGDP00692', 'HGDP00734', 'NA19145', 'HGDP00445', 'HGDP01181', 'HGDP00730', 'SC_GMWOF5428824', 'NEUKL758UHA', 'SC_GMWOF5428819', 'SC_GMWOF5428812', 'HG01199', 'HG02677', 'HGDP00587', 'HGDP01059', 'SC_GMFUL5306356', 'HGDP00635', 'NA13616', 'HGDP01357', 'HGDP01345', 'lez42', 'HGDP00949', 'SC_GMFUL5306400', 'HG01454', 'HGDP00608', 'HGDP01379', 'HGDP00568', 'HG03309', 'HGDP00785', 'HG01106', 'HGDP01298', 'HG02168', 'HG01487', 'HGDP01349', 'SC_GMFUL5309717', 'HG03373', 'NA19718', 'NA19919', 'HGDP00814', 'HG02280', 'HGDP00909', 'HG03574', 'HGDP01220', 'HGDP00520', 'SC_GMMAN5482235', 'HGDP01319', 'HGDP01312', 'SC_GMJOL5309796', 'HGDP01012', 'HGDP00838', 'HGDP00543', 'NA19103', 'HGDP00813', 'HGDP01206', 'HG02030', 'SC_GMMAN5482307', 'Ale22', 'HGDP00764', 'HG01273', 'HGDP00124', 'HGDP01275', 'HGDP01304', 'HG00555', 'HGDP01236', 'HGDP01196', 'HG03104', 'HGDP00035', 'HGDP00846', 'HG03176', 'SC_GMJOL5309907', 'NA18860', 'HG03948', 'HG02686', 'HG03167', 'HGDP00794', 'SC_GMFUL5306354', 'HGDP00208', 'HG02656', 'HGDP00586', 'HGDP00773', 'HGDP00471', 'HGDP01060', 'HGDP01238', 'HGDP00621', 'HGDP00045', 'SC_GMWOF5428826', 'HGDP01015', 'HG03107', 'HG03688', 'HGDP00694', 'SC_GMJOL5309890', 'HGDP00893', 'HGDP00043', 'NA19398', 'HG01934', 'SC_GMJOL5309867', 'SC_GMJOL5309913', 'HG03098', 'HGDP00926', 'Sir40', 'SC_GMJOL5309967', 'HGDP01402', 'HGDP01162', 'HGDP00784', 'SC_GMMAN5482236', 'SC_GMJOL5309963', 'HG00615', 'HG02723', 'Bishkek28440', 'HG02954', 'NA19199', 'HGDP00047', 'NA19044', 'HGDP00666', 'HG03801', 'SC_GMMAN5482234', 'HG02738', 'HG02945', 'HGDP01290', 'NA20319', 'SC_GMWOF5428823', 'HG02415', 'HGDP00524', 'SC_GMJOL5309945', 'SC_GMMAN5482229', 'HG03161', 'HG02735', 'HGDP00987', 'HGDP00870', 'HG02024', 'SC_GMJOL5309930', 'HG03942', 'HGDP00995', 'HG02547', 'SAH41', 'NA20871', 'HGDP00928', 'HG04142', 'HGDP01414', 'NA19672', 'Sam02', 'SC_GMJOL5309851', 'HGDP00155', 'HGDP00259', 'HGDP00945', 'HG03125', 'SC_GMFUL5306412', 'HG02526', 'SC_GMFUL5306357', 'HGDP00663', 'SC_GMFUL5306362', 'HGDP00567', 'HG01473', 'HGDP01419', 'HGDP00382', 'HGDP01041', 'HGDP00872', 'NA00726', 'HGDP00807', 'NA18872', 'SC_GMFUL5309730', 'SC_GMWOF5428770', 'HG01189', 'SC_GMJOL5309812', 'HGDP00476', 'NA19721', 'SC_GMWOF5428854', 'SC_GMWOF5428846', 'HGDP01417', 'HG02692', 'NA19166', 'HG02972', 'HGDP00514', 'HGDP01350', 'HGDP01396', 'HGDP00984', 'SC_GMJOL5309958', 'HG03393', 'HG00501', 'HGDP01077', 'HGDP00943', 'HG04136', 'HGDP00315', 'GM19320', 'HGDP00769', 'HGDP01193', 'HGDP00679', 'HG03840', 'HG03683', 'HG03008', 'HG02788', 'HGDP00953', 'HG02173', 'NA19313', 'HG03053', 'Dus16', 'HGDP00817', 'SC_GMWOF5428882', 'SC_GMFUL5306385', 'HG00627', 'mixa0105', 'SC_GMJOL5309966', 'SC_GMWOF5428716', 'HGDP00029', 'NA18791', 'HG03566', 'HGDP00599', 'HGDP00783', 'HGDP01044', 'HGDP00624', 'HG03339', 'HG03134', 'HGDP01352', 'HG03763', 'HGDP00606', 'HGDP00810', 'armenia293', 'HG02575', 'NA19105', 'NA19371', 'SC_GMMAN5482170', 'HGDP01024', 'HG01594', 'HG04151', 'HG03766', 'HGDP00351', 'SC_GMMAN5482243', 'HG00609', 'HGDP00388', 'NA18913', 'HGDP00479', 'HGDP01199', 'HG02495', 'SC_GMFUL5306389', 'HG01184', 'HGDP01265', 'SC_GMMAN5482169', 'HGDP00650', 'HGDP01009', 'HG02717', 'HG03903', 'HGDP00799', 'HG02071', 'HG02806', 'SC_GMJOL5309935', 'HGDP01259', 'HG00535', 'SC_GMJOL5309804', 'iran17', 'SC_GMWOF5428723', 'HGDP01354', 'HG02602', 'HGDP00134', 'HG01415', 'HGDP00644', 'Ul31', 'NA18521', 'HGDP00412', 'HG03982', 'HGDP00304', 'HG03260', 'HG00866', 'HG03845', 'HG04148', 'HGDP00676', 'SC_GMFUL5306355', 'Mansi79', 'HGDP00745', 'SC_GMMAN5482291', 'HG02871', 'NA20341', 'HGDP01036', 'SC_GMMAN5482232', 'HG02587', 'HG03474', 'HG01150', 'NA20290', 'SC_GMMAN5482177', 'HGDP01151', 'HGDP00279', 'HG03621', 'NA19094', 'HG01884', 'HGDP01191', 'NA19674', 'HGDP01348', 'HG03350', 'NA13604', 'NA19240', 'HGDP00563', 'SC_GMWOF5428811', 'HGDP01037', 'SC_GMJOL5309925', 'SC_GMWOF5428724', 'HGDP01010', 'HGDP01384', 'HGDP00662', 'SC_GMMAN5482221', 'CHI-007', 'HGDP00003', 'HGDP00027', 'HG02126', 'SC_GMMAN5482163', 'HGDP00206', 'HG00423', 'HG02145', 'HG00411', 'SC_GMWOF5428842', 'SC_GMJOL5309844', 'HGDP00224', 'HGDP00307', 'HG03365', 'HG03927', 'NA18911', 'HGDP00818', 'HG03131', 'NA15202', 'HG02883', 'HG03390', 'SC_GMMAN5482208', 'HGDP01274', 'HG02132', 'HG01114', 'Bu16', 'SC_GMWOF5428850', 'SC_GMJOL5309977', 'IHW9118', 'HG02781', 'HGDP01218', 'HG01881', 'HG03651', 'HGDP00883', 'SC_GMWOF5428832', 'HG00514', 'HGDP00646', 'HG01361', 'HGDP00094', 'SC_GMFUL5306343', 'NA19677', 'NA20312', 'SC_GMJOL5309968', 'HG02818', 'NorthOssetia12', 'HG03465', 'HG01457', 'HGDP00620', 'HGDP00321', 'HGDP00535', 'HG01499', 'NA18515', 'SC_GMJOL5309820', 'Est375', 'HG02659', 'HGDP00797', 'HGDP01300', 'SC_GMMAN5482301', 'BulgarianB4', 'NA19115', 'HGDP00062', 'HGDP00955', 'HG03783', 'HG01376', 'HGDP00937', 'HG03296', 'HG00526', 'HGDP01064', 'HG02563', 'HG00450', 'HG03312', 'HG01324', 'HGDP01408', 'HGDP01340', 'HG02492', 'HGDP00222', 'HGDP01287', 'HG02523', 'SC_GMJOL5309949', 'HGDP00025', 'NA19733', 'HGDP00213', 'HGDP00538', 'SC_GMJOL5309922', 'NA19202', 'SC_GMJOL5309960', 'HG01943', 'HGDP00049', 'HGDP00376', 'HGDP00871', 'NA19905', 'HGDP00092', 'HGDP00397', 'HGDP00019', 'HGDP01208', 'HGDP00673', 'HGDP01018', 'SC_GMMAN5482299', 'HGDP00528', 'HGDP00714', 'HG02148', 'HGDP00558', 'SC_GMMAN5482276', 'HG04215', 'HG01355', 'HGDP00954', 'HGDP00879', 'HG00538', 'HG00438', 'NA18529', 'NA20343', 'NA19254', 'HGDP00710', 'IraqiJew4291', 'HGDP01168', 'NA20361', 'HG03988', 'HG03368', 'HG00706', 'HGDP00285', 'HG03904', 'HGDP00686', 'HG02559', 'HG03835', 'NA19784', 'HGDP01050', 'HGDP00574', 'HGDP00767', 'HGDP00779', 'HGDP00899', 'HG01053', 'NA19359', 'HGDP01155', 'HG02525', 'Nesk_22', 'SC_GMMAN5482306', 'HGDP01226', 'HGDP00969', 'SC_GMFUL5309763', 'HGDP01092', 'HGDP01412', 'SC_GMFUL5306374', 'HG02812', 'HGDP00529', 'HGDP00490', 'HG02011', 'SC_GMWOF5428828', 'HGDP00187', 'HGDP00942', 'HGDP00076', 'HG02758', 'HG02653', 'HGDP00888', 'HG03438', 'HGDP00696', 'SC_GMFUL5306416', 'HG03384', 'SC_GMMAN5482205', 'HGDP00891', 'HG00567', 'HGDP00902', 'HGDP01213', 'HG04157', 'SC_GMFUL5309711', 'SC_GMWOF5428879', 'HGDP00417', 'NA19120', 'HGDP00629', 'NA11200', 'HG02762', 'HGDP00491', 'HGDP00627', 'HGDP01019', 'HGDP00713', 'HG02189', 'SC_GMWOF5428744', 'HG02886', 'Jordan445', 'SC_GMFUL5306344', 'HGDP00752', 'HGDP01255', 'HGDP01066', 'B11', 'HGDP01292', 'HGDP00668', 'HG04175', 'HGDP00697', 'HGDP00465', 'Sir26', 'NA19186', 'abh100', 'HG00561', 'SC_GMFUL5309756', 'HGDP00119', 'HGDP01254', 'HGDP01397', 'HG02948', 'HG01243', 'HGDP00706', 'DNK07', 'SC_GMJOL5309961', 'HG03618', 'HGDP00768', 'HG02862', 'HGDP00898', 'Nlk18', 'HGDP00457', 'HGDP00946', 'SC_GMFUL5306406', 'HGDP00251', 'HG03582', 'HG04208', 'HG01937', 'HGDP00736', 'HGDP01306', 'HGDP00057', 'HGDP00545', 'SC_GMJOL5309821', 'Bu5', 'HGDP01246', 'HGDP00311', 'SC_GMFUL5309773', 'HGDP00082', 'SC_GMFUL5306432', 'HGDP00974', 'NA19705', 'HG02729', 'SC_GMMAN5482309', 'Sir19', 'HG03454', 'NA19203', 'HG03816', 'HGDP01174', 'HGDP01250', 'HGDP00527', 'HGDP00153', 'HG03480', 'HGDP01062', 'SC_GMWOF5428829', 'NA19396', 'HGDP01294', 'NA19139', 'SC_GMMAN5482194', 'HG03508', 'SC_GMMAN5482283', 'HGDP00281', 'SC_GMWOF5428874', 'SC_GMWOF5428813', 'SC_GMFUL5309738', 'HG03605', 'SC_GMJOL5309985', 'HG03310', 'NA20301', 'HGDP01359', 'HG03599', 'HG04133', 'HG03411', 'SC_GMMAN5482195', 'HGDP00796', 'HG01385', 'HGDP01031', 'HGDP00143', 'DNK11', 'HGDP00956', 'HGDP01388', 'HG01195', 'HG01493', 'SC_GMWOF5428814', 'HGDP00648', 'NA20360', 'HGDP00682', 'NA18497', 'NA19373', 'HGDP00977', 'HG01984', 'HG03471', 'HG02841', 'HG02257', 'HGDP00687', 'HG02287', 'Kayseri23827', 'SC_GMFUL5306340', 'HG02662', 'HG02347', 'HGDP00798', 'NA19258', 'HG04036', 'HGDP01074', 'HGDP00167', 'HGDP00356', 'HGDP00530', 'HG00639', 'HGDP00641', 'HG01172', 'NA19444', 'HG02056', 'HGDP00228', 'Kusunda02', 'HGDP00372', 'HGDP00708', 'Dus22', 'HG03510', 'HGDP00631', 'HGDP00232', 'HGDP00102', 'NA17386', 'HG01096', 'HG03383', 'HG00676', 'SC_GMJOL5309836', 'K1', 'SC_GMMAN5482180', 'HGDP01378', 'NA20909', 'Igor21', 'HGDP00105', 'HG00429', 'HG01898', 'HGDP00591', 'HGDP00214', 'HG02091', 'HG04160', 'HG00642', 'ND19394', 'HGDP00602', 'HG02480', 'HGDP01320', 'HGDP01179', 'HGDP01283', 'HG02776', 'SC_GMJOL5309819', 'NA20350', 'HG01579', 'SC_GMMAN5482165', 'NA19714', 'HGDP00243', 'HGDP00920', 'HGDP01075', 'HG00552', 'HGDP00800', 'HGDP01385', 'zapo0098', 'HGDP00760', 'HGDP01073', 'HG03059', 'HGDP00815', 'HGDP00154', 'NA15203', 'HGDP01356', 'HG02869', 'Ayodo_81S', 'HGDP01247', 'HG01138', 'SC_GMFUL5309710', 'SC_GMJOL5309829', 'NA18500', 'HG01135', 'HGDP00774', 'HGDP00009', 'HGDP00639', 'SC_GMJOL5309950', 'NA19772', 'HGDP00078', 'HG00408', 'HGDP01413', 'HGDP01365', 'SC_GMFUL5309764', 'HG02388', 'HG03200', 'HG00465', 'SC_GMJOL5309979', 'HG04114', 'HGDP00991', 'GM20355', 'HGDP01241', 'HGDP01224', 'HGDP00675', 'HGDP00740', 'HG03847', 'HGDP00962', 'HG03723', 'HG01367', 'HGDP01166', 'HGDP00965', 'HGDP00786', 'SC_GMMAN5482219', 'SC_GMJOL5309828', 'SC_GMJOL5309941', 'SC_GMFUL5309781', 'HG03606', 'SC_GMWOF5428737', 'HG01922', 'SC_GMFUL5306379', 'HG01175', 'HG01327', 'HG01567', 'HGDP01405', 'HG03250', 'SC_GMMAN5482184', 'HGDP01233', 'HGDP00017', 'HG03033', 'HGDP01182', 'SC_GMWOF5428871', 'HGDP00677', 'NA18869', 'SC_GMFUL5306353', 'Est400', 'HGDP01271', 'HG02302', 'HGDP00433', 'NA18930', 'HG03822', 'SC_GMJOL5309942', 'HG02004', 'HG01258', 'SC_GMMAN5482324', 'SC_GMWOF5428851', 'SC_GMFUL5306391', 'HGDP01043', 'HGDP01342', 'HGDP00005', 'SC_GMFUL5306377', 'HGDP01264', 'HGDP01163', 'HG03725', 'HGDP01301', 'NA18935', 'SC_GMJOL5309959', 'HG03669', 'HGDP00462', 'Tuba9', 'HGDP00822', 'HG01960', 'HGDP00671', 'HGDP01087', 'HG03842', 'HGDP00903', 'HG00453', 'HGDP01221', 'HGDP00021', 'HG02726', 'NA18487', 'NA19132', 'SC_GMFUL5306388', 'HG02129', 'SC_GMMAN5482292', 'SC_GMMAN5482285', 'HGDP00637', 'HG03191', 'NA21490', 'SC_GMJOL5309898', 'HG00633', 'HGDP00749', 'HG01322', 'HG00577', 'SC_GMMAN5482185', 'SC_GMWOF5428705', 'HGDP00999', 'SC_GMFUL5306371', 'NA20349', 'HGDP00127', 'NA20129', 'NA19097', 'HG00624', 'NA18852', 'HG00502', 'SC_GMFUL5306397', 'Esk29', 'HGDP00118', 'HG04067', 'HG03194', 'HGDP01333', 'NA20898', 'HGDP00670', 'HG01978', 'HGDP01237', 'HGDP00438', 'HGDP01258', 'Nesk_25', 'HG00420', 'SC_GMWOF5428771', 'HGDP00189', 'HG01252', 'HGDP00948', 'HG04197', 'HGDP00100', 'HG03065', 'HGDP00649', 'SC_GMJOL5309875', 'NA18875', 'HGDP00450', 'NA19763', 'HGDP00151', 'HG00594', 'HGDP01028', 'HGDP00120', 'HGDP00746', 'HGDP00719', 'HG01279', 'HGDP00693', 'SC_GMJOL5309948', 'HG01925', 'tdj409_shugnan', 'HG02254', 'HG03119', 'HGDP00950', 'HGDP01353', 'HG03620', 'NA19208', 'HG02027', 'HGDP01164', 'NA19237', 'NA19453', 'SC_GMMAN5482348', 'NA18484', 'HGDP00622', 'HGDP01161', 'HGDP01331', 'NA18855', 'HG03307', 'HGDP01355', 'SC_GMFUL5306347', 'NA19122', 'HG01087', 'HG02083', 'HG00418', 'NA19686', 'HG03797', 'HG01056', 'HGDP00039', 'HG02704', 'HGDP01280', 'HGDP01286', 'HGDP00685', 'NA18795', 'HGDP00845', 'SC_GMFUL5306392', 'HGDP00628', 'SC_GMFUL5306369', 'HG03635', 'HGDP01097', 'HGDP00865', 'K4', 'HGDP01336', 'NA19127', 'HGDP00632', 'SC_GMMAN5482207', 'HG00474', 'HG01358', 'HG02267', 'HGDP00195', 'HGDP00702', 'HG02381', 'SC_GMFUL5306348', 'HGDP01316', 'HGDP00518', 'HGDP00555', 'SC_GMWOF5428816', 'HGDP00777', 'HGDP00852', 'HG02889', 'HG01887', 'NA18509', 'SC_GMJOL5309797', 'HGDP00121', 'NA19653', 'HGDP00359', 'HG02170', 'HGDP00761', 'HGDP01399', 'HG01483', 'SC_GMMAN5482239', 'HGDP00001', 'SC_GMJOL5309940', 'HGDP00578', 'HGDP01090', 'HGDP00456', 'SC_GMMAN5482216', 'HGDP01222', 'HGDP00985', 'SC_GMMAN5482199', 'HGDP01322', 'HG01349', 'HGDP00739', 'HGDP00454', 'HGDP01053', 'Utsa21', 'HGDP00330', 'HGDP00731', 'SC_GMFUL5306346', 'SC_GMJOL5309929', 'HG02647', 'HGDP00618', 'HGDP00683', 'HGDP00130', 'HGDP01217', 'HGDP01229', 'HG03876', 'SC_GMJOL5309827', 'HG03076', 'HGDP00661', 'HGDP01289', 'HG03486', 'SC_GMJOL5309837', 'HGDP00226', 'HGDP01189', 'HGDP00684', 'HG02978', 'NA19836', 'HGDP01382', 'HGDP01058', 'HGDP01240', 'HGDP01377', 'Ale32', 'Peru60', 'SC_GMWOF5428847', 'HGDP00645', 'NA19915', 'HGDP00904', 'NA18906', 'HGDP01381', 'HG01391', 'HG01249', 'HGDP00828', 'HGDP00463', 'NA19173', 'HG02436', 'HGDP00461', 'HGDP01375', 'HGDP00854', 'NorthOssetia5', 'HG03579', 'HGDP00141', 'HG03492', 'HGDP00775', 'HGDP00781', 'HG01084', 'HGDP00139', 'NA18914', 'HG02942', 'NA19381', 'HG01484', 'SC_GMMAN5482314', 'abh107', 'HGDP01223', 'HG03732', 'HGDP01374', 'HG03493', 'HGDP00896', 'HG01192', 'HGDP00473', 'NA19775', 'HGDP01293', 'NA20316', 'HG03806', 'HG03540', 'HG03466', 'SC_GMFUL5306375', 'SC_GMFUL5306415', 'HG00655', 'HG03047', 'NA19738', 'HGDP00572', 'NA19662', 'SC_GMMAN5482315', 'SC_GMFUL5306399', 'HG03197', 'HGDP00140', 'NA19787', 'HG03798', 'HG03549', 'HGDP00183', 'HGDP00552', 'HG00983', 'SC_GMMAN5482268', 'HG02059', 'HGDP00540', 'NEUTC015WBG', 'HG04132', 'HGDP00759', 'NA21121', 'HGDP00882', 'SC_GMJOL5309895', 'HGDP01209', 'HGDP00780', 'HGDP00033', 'SC_GMFUL5309716', 'HGDP00104', 'HG03371', 'HG03269', 'SC_GMJOL5309868', 'SC_GMWOF5428834', 'SC_GMWOF5428822', 'HGDP00583', 'HG02821', 'HGDP00858', 'lez49', 'HGDP00757', 'HGDP00881', 'HG03128', 'SC_GMFUL5306404', 'SC_GMFUL5309708', 'HG01928', 'HGDP00125', 'HGDP01035', 'HGDP01200', 'HG03314', 'SC_GMWOF5428762', 'SC_GMJOL5309951', 'SC_GMMAN5482300', 'HG02680', 'HGDP00201', 'HGDP00519', 'SC_GMFUL5309700', 'HGDP00523', 'SC_GMMAN5482316', 'SC_GMJOL5309936', 'HGDP00741', 'CHI-034', 'HG02169', 'NA19798', 'HG03834', 'SC_GMFUL5306383', 'HGDP00771', 'HGDP00537', 'HGDP00525', 'HGDP00264', 'HGDP00900', 'SC_GMMAN5482200', 'HGDP00973', 'HG02358', 'HG04149', 'HG02463', 'SC_GMMAN5482284', 'HG02698', 'SC_GMWOF5428867', 'HG01100', 'NA18540', 'HG04150', 'HG03249', 'HG03924', 'HGDP00804', 'Igor20', 'HGDP00580', 'HGDP00469', 'HGDP01369', 'HGDP01187', 'NA19249', 'HG03080', 'HGDP01253', 'SC_GMJOL5309952', 'HG03137', 'HG03807', 'SC_GMJOL5309914', 'HG03799', 'HGDP01183', 'HG03639', 'HGDP00559', 'HG01981', 'HGDP01334', 'HG03715', 'SC_GMMAN5482187', 'HG03305', 'NA20322', 'SC_GMWOF5428805', 'HG04217', 'HGDP01231', 'HGDP01204', 'HG00582', 'HG04204', 'HGDP00664', 'HGDP00981', 'NA19742', 'HGDP01415', 'HGDP00727', 'HGDP01347', 'NA19142', 'HGDP00511', 'HGDP01248', 'HGDP01351', 'HGDP01317', 'HGDP01169', 'HG03361', 'HGDP00428', 'HGDP00750', 'HGDP01243', 'NA20297', 'SC_GMFUL5306408', 'HGDP00515', 'M4', 'HG03029', 'HG01394', 'HG03901', 'HG03450', 'HGDP01095', 'HGDP00857', 'HGDP00975', 'HGDP00873', 'HGDP00068', 'HGDP00444', 'SC_GMMAN5482225', 'HGDP00724', 'HG04040', 'HG03236', 'HG03487', 'HGDP00455', 'HG03641', 'HG01888', 'HG02276', 'HGDP00474', 'SC_GMJOL5309920', 'NA19151', 'SC_GMWOF5428721', 'HGDP01071', 'HGDP00565', 'HGDP00704', 'HGDP01207', 'NA19748', 'SC_GMMAN5482186', 'HGDP00534', 'HG03374', 'SC_GMJOL5309896', 'HG04135', 'HGDP00181', 'SC_GMWOF5428858', 'HGDP00806', 'HGDP00993', 'mg31', 'HG00447', 'HG02773', 'SC_GMMAN5482212', 'HG00636', 'HG01442', 'HGDP01185', 'HGDP00721', 'HG03023', 'HGDP00733', 'HGDP00544', 'NA15763', 'HG03398', 'HG02800', 'HG03769', 'Utsa22', 'HGDP01361', 'HGDP00700', 'HGDP00651', 'HGDP01358', 'SC_GMMAN5482340', 'SC_GMWOF5428786', 'HGDP00601', 'HG03939', 'HGDP00158', 'HG01969', 'NA20347', 'HG02567', 'HGDP01268', 'HG01463', 'HG02892', 'SC_GMMAN5482233', 'iran11', 'HGDP01270', 'HGDP00598', 'HG02466', 'HGDP00011', 'HG02615', 'SC_GMWOF5428729', 'HG02984', 'SC_GMWOF5428873', 'SC_GMMAN5482217', 'HGDP01338', 'HG03173', 'HGDP01216', 'SC_GMWOF5428818', 'HG03707', 'HG03513', 'HGDP00323', 'SC_GMJOL5309859', 'SC_GMFUL5309725', 'HGDP00549', 'SC_GMWOF5428732', 'SC_GMFUL5306341', 'HG00512', 'SAH31', 'HGDP01337', 'HG02980', 'HGDP00932', 'HG03302', 'SC_GMJOL5309976', 'HG01895', 'HGDP01192', 'HG04058', 'HGDP00788', 'HG02021', 'HGDP00753', 'SC_GMJOL5309899', 'SC_GMWOF5428787', 'R6', 'HGDP00738', 'HGDP00655', 'HGDP01251', 'HG01949', 'AV-21', 'HGDP00887', 'NA19656', 'NA19128', 'SC_GMFUL5306398', 'HGDP00588', 'HGDP01272', 'SC_GMJOL5309943', 'SC_GMJOL5309953', 'HGDP01056', 'HG01445', 'HG01347', 'HGDP01065', 'HG02273', 'HG02770', 'HGDP00513', 'HGDP00772', 'SC_GMWOF5428875', 'HG04128', 'SC_GMFUL5306405', 'HG02794', 'HG02969', 'HG03248', 'HGDP01310', 'HGDP00133', 'HGDP00313', 'HGDP01299', 'HGDP00914', 'HGDP00607', 'NA19797', 'HGDP00478', 'HG03399', 'HGDP01079', 'HGDP00765', 'HG03050', 'SC_GMFUL5306366', 'HGDP01288', 'HG01490', 'SC_GMFUL5306395', 'HGDP00864', 'NA13607', 'NA18503', 'HG02080', 'Kusunda15', 'HG00444', 'HGDP00972', 'HG00664', 'HG01477', 'Kayseri24424', 'HGDP01269', 'HGDP00060', 'NA20363', 'SC_GMWOF5428833', 'NA21134', 'SC_GMMAN5482191', 'SC_GMMAN5482244', 'NA19205', 'SC_GMFUL5306431', 'HGDP01190', 'HGDP00516', 'HG02405', 'HGDP00688', 'SC_GMMAN5482241', 'HGDP00963', 'NA19104', 'HG01274', 'SC_GMJOL5309944', 'HGDP00758', 'HGDP01400', 'SC_GMFUL5309755', 'HG04127', 'HGDP00579', 'HGDP01311', 'HG03700', 'HG00532', 'HGDP00986', 'HG00459', 'HGDP00407', 'HGDP00392', 'NA19150', 'HGDP00819', 'HGDP01267', 'HGDP00288', 'HGDP01006', 'HGDP01051', 'SC_GMFUL5309703', 'NA19665', 'HG03308', 'HG03242', 'SC_GMMAN5482322', 'NA19685', 'HGDP00262', 'HGDP00722', 'SC_GMWOF5428803', 'NA18594', 'HGDP00755', 'NA19727', 'HG03596', 'HGDP00952', 'HGDP00892', 'HGDP00748', 'HG03041', 'HGDP00547', 'HGDP00732', 'SC_GMFUL5306410', 'HGDP00762', 'HGDP01198', 'HG03701', 'HG02293', 'NA19174', 'SC_GMWOF5428815', 'HGDP00216', 'HGDP00994', 'YemeniteJew4695', 'HGDP00667', 'HGDP01021', 'HG03584', 'SC_GMJOL5309974', 'SC_GMJOL5309980', 'HGDP00726', 'HG00405', 'HG03362', 'HGDP01201', 'SC_GMJOL5309973', 'HG02644', 'HGDP01376', 'mixe0007', 'HGDP00144', 'Jordan603', 'SC_GMWOF5428820', 'HG01983', 'HGDP01291', 'HGDP00611', 'HGDP01153', 'HGDP00072', 'HG02630', 'SC_GMMAN5482227', 'HGDP00983', 'HGDP00165', 'HG02176', 'HG03402', 'HGDP00933', 'HGDP00691', 'HGDP01341', 'SC_GMFUL5309789', 'HGDP00175', 'SC_GMWOF5428713', 'HG01404', 'HGDP01078', 'HGDP00747', 'SC_GMFUL5306424', 'SC_GMWOF5428763', 'HGDP00551', 'SC_GMFUL5306351', 'SC_GMWOF5428839', 'NA20883', 'HG00579', 'DNK05', 'HGDP00364', 'HGDP01205', 'HGDP00590', 'SC_GMMAN5482332', 'HG03590', 'NA19161', 'NA19215', 'HGDP00137', 'HG02689', 'SC_GMMAN5482255', 'SC_GMFUL5306361', 'HG02791', 'HGDP00880', 'HGDP00541', 'HGDP00610', 'NA18925', 'SC_GMWOF5428831', 'SC_GMJOL5309971', 'HG01081', 'HG01573', 'HG03633', 'HGDP01323', 'HGDP00751', 'HGDP00672', 'HGDP00958', 'HGDP00913', 'HGDP01327', 'SC_GMFUL5306413', 'HGDP00944', 'HG03062', 'HGDP00634', 'HG02856', 'HG03110', 'HGDP00584', 'HGDP00625', 'NA20879', 'Y4', 'HG03569', 'ND15865', 'HGDP00274', 'HG01959', 'SC_GMMAN5482240', 'HGDP01030', 'HGDP01081', 'HGDP00930', 'HGDP00615', 'NA19757', 'HG01452', 'SC_GMWOF5428821', 'NA19983', 'HGDP00458', 'HGDP00533', 'SC_GMWOF5428849', 'tdj430_shugnan', 'HGDP00234', 'HGDP01308', 'HG01940', 'HG02625', 'Ayodo_502C', 'SC_GMJOL5309905', 'HGDP00290', 'HGDP00106', 'HGDP01228', 'HGDP00863', 'SC_GMJOL5309911', 'HGDP00723', 'HG03158', 'HGDP01329', 'HGDP00982', 'HGDP00149', 'HGDP00971', 'NA19751', 'HGDP00135', 'NA15728', 'SC_GMFUL5306363', 'NA17374', 'HGDP00653', 'SC_GMMAN5482293', 'HGDP01373', 'HGDP01149', 'HGDP00542', 'HG01993', 'YemeniteJew5433', 'HGDP01398', 'HG02321', 'HGDP00161', 'HGDP00968', 'HGDP00090', 'HGDP00277', 'HGDP00185', 'HGDP01386', 'NA19469', 'HG01071', 'HGDP00656', 'HGDP01277', 'SC_GMWOF5428906', 'HG00477', 'HGDP01344', 'HG00735', 'HG01955', 'HGDP01263', 'HGDP00906', 'HGDP00811', 'NA18485', 'HGDP01372', 'TGBS21', 'HG02428', 'SC_GMWOF5428806', 'HGDP00859', 'HG01068', 'HGDP00916', 'HG03602', 'HG03617', 'NA19708', 'altai363p', 'HGDP01157', 'HG03164', 'SC_GMJOL5309957', 'HG02605', 'HGDP01184', 'HGDP00860', 'HG00544', 'HGDP00976', 'SC_GMMAN5482203', 'HGDP01029', 'HGDP00735', 'HG03576', 'HGDP00023', 'SC_GMFUL5309718', 'HGDP00146', 'HGDP00258', 'NA19918', 'HGDP00512', 'SC_GMWOF5428797', 'HGDP00951', 'HG01126', 'NA20277', 'HG02055', 'IraqiJew1771', 'HGDP00619', 'HGDP01330', 'HG02701', 'HGDP00966', 'HGDP01318', 'HG01891', 'HGDP01215', 'HG03230', 'HG01050', 'HGDP00472', 'HGDP01418', 'HG00702', 'HGDP01404', 'HGDP00210', 'HG03306', 'HGDP01244', 'HGDP00961', 'HGDP00895', 'HGDP00626', 'NA20300', 'HGDP00911', 'HG02377', 'HGDP00056', 'HGDP01032', 'HGDP00459', 'HGDP00171', 'HG01897', 'zapo0099', 'HGDP01098', 'NA18506', 'HG03657', 'NA19177', 'HGDP01387', 'Nlk1', 'HGDP01302', 'HG00591', 'HGDP00856', 'HGDP01363', 'SC_GMMAN5482308', 'HGDP00054', 'HG02074', 'HGDP00098', 'HG01552', 'HG03825', 'HG00716', 'HGDP01173', 'HG00709', 'HG04024', 'NA19675', 'ALB212', 'HGDP01370', 'HGDP01219', 'HGDP00642', 'HGDP00191', 'SC_GMWOF5428731', 'HGDP00103', 'SC_GMWOF5428747', 'SC_GMWOF5428789', 'NA19985', 'HGDP00148', 'HG01433', 'HGDP00737', 'HGDP00466', 'HGDP00569', 'HG01109', 'HG01178', 'Y8', 'HG00703', 'HGDP00716', 'HGDP00319', 'HG01062', 'HGDP00674', 'HGDP00564', 'HGDP00654', 'HG01301', 'HGDP01156', 'HG04115', 'HGDP01285', 'GM21487', 'HG03468', 'HGDP00468', 'HG03101', 'NA17385', 'HG03682', 'HG02046', 'HGDP00837', 'NA19796', 'SC_GMJOL5309928', 'HGDP00876', 'HGDP00341', 'HGDP00566', 'HG03804', 'HGDP00964', 'HGDP01211', 'HG02897', 'SC_GMWOF5428808', 'HG03293', 'HGDP01364', 'NA19737', 'HG04187', 'SC_GMWOF5428798', 'HGDP00862', 'NA20873', 'SC_GMJOL5309983', 'SC_GMWOF5428736', 'HGDP00066', 'HGDP00371', 'HGDP00720', 'HG01471', 'HGDP00122', 'HGDP01214', 'HGDP00526', 'NA11201', 'HG02120', 'HGDP01371', 'HGDP00812', 'NA19924', 'HGDP01368', 'HG04174', 'HGDP01152', 'HG02316', 'HGDP01063', 'HGDP01094', 'HGDP00594', 'SC_GMWOF5428827', 'HGDP01367', 'SC_GMFUL5306367', 'NA19176', 'HG01482', 'HGDP00782', 'HGDP00717', 'HGDP00805', 'HGDP00554', 'SC_GMFUL5306378', 'HGDP00581', 'SC_GMJOL5309984', 'mixe0002', 'NA18874', 'HG02924', 'SC_GMFUL5306427', 'NA19154', 'HG03170', 'HG03813', 'HGDP00756', 'NA19683', 'HGDP00254', 'NA18863', 'SC_GMMAN5482290', 'HGDP01001', 'SC_GMMAN5482298', 'HG03489', 'HGDP01260', 'GM19129', 'HG02636', 'HGDP00941', 'SC_GMJOL5309927', 'HGDP00163', 'HGDP01239', 'SC_GMFUL5306407', 'HG04037', 'HG00600', 'SC_GMMAN5482256', 'HG03909', 'NA19754', 'HG02785', 'HGDP00539', 'NA20358', 'HGDP00905', 'mixe0042', 'NA20288', 'NA19191', 'SC_GMJOL5309883', 'HG02135', 'HGDP00843', 'HG00578', 'HG04053', 'HGDP01103', 'HGDP00712', 'HG01916', 'NA19226', 'SC_GMMAN5482168', 'HG01496', 'HG02668', 'HG03251', 'HGDP01234', 'HGDP00333', 'HG03456', 'HG04199', 'HG01995', 'HG03879', 'HG02387', 'NA20292', 'HGDP00557', 'SC_GMWOF5428825', 'HG03035', 'HGDP01197', 'HG02650', 'HG02764', 'SC_GMJOL5309917', 'NA20907', 'HGDP00041', 'HGDP01076', 'HG03522', 'SC_GMJOL5309891', 'HG03929', 'NA17377', 'HGDP00897', 'NA20364', 'I1', 'HGDP01203', 'HGDP00924', 'SC_GMWOF5428755', 'mixa0099', 'NOR111', 'HGDP00910', 'HGDP00309', 'HG03564', 'HGDP00286', 'NA19470', 'HG01343', 'HG04050', 'Bishkek28439', 'NA18862', 'HGDP00467', 'HGDP00699', 'SC_GMFUL5306338', 'SC_GMMAN5482274', 'HGDP00875', 'HGDP00099', 'HGDP00630', 'HG03459', 'SC_GMWOF5428835', 'NA18859', 'HGDP01305', 'HGDP00546', 'SC_GMWOF5428748', 'HGDP00614', 'HGDP00729', 'HGDP00725', 'HG03266', 'HG04147', 'SC_GMFUL5306429', 'SC_GMMAN5482164', 'HG03650', 'HGDP01262', 'HGDP00218', 'SC_GMMAN5482223', 'HG03795', 'HGDP01096', 'HG02853', 'SC_GMWOF5428728', 'HGDP01027', 'HGDP00959', 'HG03113', 'HG03140', 'HG01379', 'Tuba19', 'HGDP00849', 'HG00718', 'HGDP01013', 'NA19140', 'HGDP00638', 'HGDP01023', 'HGDP00470', 'Ul5'}\n",
              "</pre>\n"
            ],
            "text/plain": [
              "01:04:25.927 | \u001b[36mINFO\u001b[0m    | Flow run\u001b[35m 'lurking-lion'\u001b[0m - \n",
              "missing 2311 holdout controls IDs:\n",
              " {'NA18527', 'SC_GMMAN5482197', 'HG04122', 'SC_GMMAN5482202', 'HG02965', 'NA20295', 'HGDP00680', 'SC_GMJOL5309884', 'HGDP00970', 'SC_GMMAN5482178', 'HGDP00960', 'HGDP00595', 'HGDP01257', 'SC_GMJOL5309919', 'HGDP01256', 'HG03431', 'HG03794', 'HG03017', 'HGDP00612', 'HG02683', 'SC_GMMAN5482209', 'HGDP00877', 'HGDP00992', 'HGDP00703', 'HGDP00464', 'HGDP01328', 'ch113', 'HGDP00889', 'HGDP01188', 'NA19196', 'NA20302', 'HGDP00890', 'SC_GMFUL5306352', 'HGDP01282', 'NA20279', 'HGDP00131', 'NA20335', 'HG03719', 'SC_GMMAN5482247', 'HG03239', 'SC_GMFUL5306426', 'HGDP00936', 'HGDP00086', 'SC_GMFUL5306387', 'SC_GMMAN5482266', 'NA19100', 'HGDP00938', 'SC_GMJOL5309981', 'HGDP00244', 'NA19311', 'HGDP01366', 'HG02880', 'HG03654', 'HGDP01360', 'SC_GMFUL5306403', 'SC_GMMAN5482189', 'HG00694', 'NA19252', 'HGDP00616', 'HG03519', 'HGDP00326', 'NA20284', 'HGDP00647', 'HG04181', 'HG02514', 'HG03477', 'I3', 'HG01123', 'NA15761', 'HG02966', 'HG02815', 'SC_GMMAN5482258', 'HGDP01383', 'HGDP00239', 'Kor82', 'HGDP00669', 'HGDP00179', 'HGDP00346', 'HGDP00855', 'HG03341', 'HGDP00064', 'HGDP01102', 'NA19766', 'SC_GMJOL5309906', 'SC_GMMAN5482171', 'HG00597', 'NA21581', 'HGDP00698', 'B17', 'HGDP01335', 'SC_GMFUL5309747', 'HG03299', 'HG01261', 'HG02779', 'HG02106', 'HGDP00522', 'NEUVM032BF2', 'HGDP00007', 'HGDP00643', 'SC_GMMAN5482215', 'HGDP01296', 'HGDP00967', 'HG02279', 'HGDP00660', 'HG02612', 'HG00635', 'HGDP01055', 'SC_GMJOL5309965', 'HG02372', 'SC_GMJOL5309982', 'HGDP01067', 'HG00741', 'SC_GMMAN5482260', 'SC_GMMAN5482181', 'HGDP00531', 'SC_GMMAN5482211', 'HGDP01321', 'HGDP01180', 'HG01255', 'SC_GMFUL5309722', 'HGDP00823', 'NA18794', 'NA18854', 'HGDP01411', 'HGDP01261', 'HGDP00931', 'Nlk3', 'HGDP00886', 'HG02584', 'SC_GMFUL5306420', 'SC_GMWOF5428830', 'HG01090', 'HG02300', 'SC_GMWOF5428708', 'HGDP00571', 'NA19109', 'SC_GMWOF5428794', 'HGDP00475', 'NA19659', 'HGDP01047', 'SC_GMWOF5428843', 'HG00585', 'BulgarianC1', 'HG03587', 'HGDP00689', 'SC_GMJOL5309956', 'HGDP00197', 'HG03026', 'NA19432', 'SC_GMFUL5306345', 'SC_GMWOF5428877', 'HGDP00868', 'mg27', 'HGDP00449', 'HGDP01380', 'HG02524', 'SC_GMJOL5309934', 'SA0722', 'HGDP00070', 'HG02261', 'SC_GMJOL5309933', 'HGDP00918', 'HGDP01403', 'NA19760', 'NA20128', 'HG03453', 'SC_GMJOL5309912', 'HGDP00939', 'HGDP00169', 'HG01952', 'HG00621', 'HGDP00573', 'HGDP00917', 'HGDP00925', 'SC_GMWOF5428817', 'SA0342', 'HG00630', 'SC_GMFUL5306360', 'SC_GMMAN5482192', 'SC_GMMAN5482242', 'NA19221', 'HG03638', 'HGDP01303', 'HGDP00298', 'HG02596', 'SC_GMMAN5482248', 'NA19352', 'HG03203', 'HG04192', 'NA20893', 'HGDP00031', 'HG03972', 'HG00738', 'HG02451', 'HGDP00136', 'SC_GMMAN5482193', 'SC_GMWOF5428715', 'HGDP00701', 'SC_GMFUL5306370', 'SC_GMWOF5428796', 'HGDP00157', 'HG03704', 'SC_GMJOL5309921', 'HGDP01401', 'SC_GMFUL5306390', 'SC_GMWOF5428745', 'HGDP00604', 'HGDP00108', 'NA19902', 'NA19101', 'HGDP00908', 'HG02939', 'HGDP00230', 'HG03381', 'HGDP00074', 'HG01276', 'HG02590', 'HGDP00715', 'SC_GMWOF5428795', 'HGDP01068', 'HGDP00561', 'HG02258', 'HGDP01313', 'SC_GMJOL5309876', 'HGDP00015', 'HGDP00576', 'HGDP01194', 'HGDP01033', 'HGDP00058', 'HGDP00556', 'SC_GMWOF5428788', 'HG00652', 'HG03831', 'HGDP00241', 'HG02303', 'SC_GMMAN5482250', 'HGDP01099', 'HGDP00582', 'Jordan214', 'HGDP00302', 'HG02363', 'NA20337', 'HGDP01314', 'HGDP00912', 'HGDP00802', 'HG03462', 'HGDP00160', 'SC_GMMAN5482176', 'SC_GMMAN5482173', 'HGDP01186', 'SC_GMWOF5428800', 'HG01278', 'SC_GMFUL5309719', 'HGDP00885', 'NA18518', 'NA18524', 'HG03906', 'SC_GMMAN5482323', 'HGDP01227', 'HGDP00935', 'HGDP01172', 'HGDP00640', 'SC_GMWOF5428790', 'HGDP01014', 'HG00658', 'HG03915', 'HG00685', 'HGDP01177', 'HGDP00957', 'HGDP00328', 'HGDP00623', 'SC_GMJOL5309969', 'SC_GMFUL5306421', 'HG01439', 'SC_GMWOF5428866', 'SC_GMJOL5309937', 'SC_GMFUL5306382', 'HG03116', 'HG01169', 'NA20414', 'HG00612', 'NA19702', 'NA18857', 'HGDP01104', 'SC_GMJOL5309972', 'HGDP00088', 'HG01352', 'HG01364', 'HGDP00080', 'HGDP01225', 'HGDP01230', 'SC_GMJOL5309860', 'SC_GMJOL5309964', 'SC_GMMAN5482228', 'SC_GMFUL5309741', 'HGDP01326', 'NA19790', 'HG02288', 'NA19828', 'SC_GMJOL5309813', 'HG01946', 'HGDP00919', 'SC_GMWOF5428865', 'HG02486', 'SC_GMMAN5482252', 'SC_GMWOF5428802', 'SC_GMJOL5309897', 'HG02068', 'HG03056', 'HGDP01279', 'HGDP00560', 'HG01141', 'HG03171', 'HGDP00678', 'HGDP00548', 'NA19724', 'SC_GMMAN5482231', 'HGDP00609', 'HGDP00711', 'HGDP01266', 'HGDP00763', 'NA19753', 'SC_GMWOF5428869', 'HGDP01057', 'SC_GMMAN5482201', 'HGDP01332', 'HGDP01362', 'HGDP00821', 'Mansi41', 'SC_GMJOL5309805', 'HG03344', 'Ayodo_430C', 'HGDP00613', 'SC_GMWOF5428804', 'HG01453', 'HGDP00052', 'HGDP00013', 'HGDP01276', 'SC_GMWOF5428863', 'SC_GMFUL5309735', 'HGDP00947', 'HGDP00577', 'HGDP00894', 'HG00673', 'NA19195', 'SC_GMFUL5309733', 'HGDP01249', 'SC_GMWOF5428810', 'SC_GMWOF5428861', 'SC_GMJOL5309926', 'HGDP01072', 'HG02344', 'HG01590', 'SC_GMFUL5306428', 'HGDP01315', 'HG03710', 'HGDP00145', 'HG02622', 'HGDP01339', 'HG03761', 'HGDP01195', 'HG03122', 'HGDP00790', 'HGDP00690', 'HGDP00884', 'NA19781', 'HGDP00338', 'HG00700', 'NA19224', 'SC_GMFUL5306418', 'SC_GMMAN5482251', 'Ale20', 'HG02964', 'HGDP00173', 'HGDP01297', 'HG04191', 'HGDP00795', 'HGDP00907', 'SC_GMFUL5309748', 'HG03034', 'HGDP00832', 'NA20336', 'HG02975', 'SC_GMFUL5306359', 'HGDP00575', 'SC_GMFUL5309702', 'HGDP00199', 'NA19211', 'HGDP00536', 'HG03699', 'HG01411', 'TZ-11', 'KD4', 'HGDP00192', 'SC_GMMAN5482224', 'NA19148', 'SC_GMJOL5309904', 'SC_GMMAN5482172', 'HG02572', 'SC_GMWOF5428740', 'HG01481', 'HG01987', 'HG01074', 'SC_GMWOF5428792', 'HG02077', 'HGDP00237', 'SC_GMFUL5306349', 'SC_GMJOL5309903', 'HGDP01171', 'HGDP01245', 'HG01975', 'SC_GMJOL5309852', 'R3', 'HG04193', 'NA19046', 'NA20413', 'HG00558', 'HG01346', 'HGDP00754', 'SC_GMFUL5306396', 'HG03408', 'HGDP00553', 'SC_GMWOF5428838', 'SC_GMJOL5309835', 'HGDP01101', 'HG02761', 'SC_GMFUL5309701', 'NA18576', 'SC_GMJOL5309975', 'HGDP00109', 'SC_GMWOF5428859', 'HGDP01295', 'NA20313', 'HGDP00915', 'NA20345', 'SC_GMFUL5309709', 'HGDP00820', 'HGDP00460', 'HG01998', 'HG03626', 'SC_GMMAN5482220', 'HG02838', 'SC_GMWOF5428857', 'HGDP01100', 'HGDP01070', 'HGDP00248', 'NA19671', 'HGDP00129', 'HG00691', 'HGDP00423', 'IHW9193', 'HG03992', 'HGDP00636', 'HGDP01167', 'NA20344', 'NA19650', 'HGDP01406', 'SC_GMFUL5306423', 'HG01919', 'SC_GMFUL5306419', 'HGDP01086', 'HGDP00452', 'HGDP00600', 'HGDP01273', 'HGDP01202', 'HG02018', 'HGDP00869', 'SC_GMWOF5428855', 'HGDP01242', 'HGDP00929', 'HG02809', 'HGDP01416', 'HG00733', 'HGDP00110', 'HG01103', 'HGDP00150', 'HG02478', 'HG04228', 'HG02599', 'HG03516', 'HG02015', 'NA19680', 'HG01397', 'SC_GMFUL5306339', 'HGDP00744', 'HGDP00562', 'HGDP01346', 'HG01099', 'HG00427', 'HGDP00115', 'NA19730', 'SC_GMMAN5482162', 'SC_GMWOF5428707', 'HGDP00550', 'HGDP01069', 'NA19778', 'SC_GMJOL5309843', 'SC_GMMAN5482282', 'HGDP00803', 'HG03811', 'HGDP00940', 'SC_GMJOL5309939', 'Ale14', 'HG02569', 'HGDP00787', 'HG03721', 'HGDP00453', 'HG01466', 'SC_GMWOF5428841', 'SC_GMWOF5428778', 'HGDP00861', 'HGDP00934', 'NA20333', 'NA19123', 'NA20285', 'NA19660', 'HGDP01212', 'HGDP00901', 'HG01480', 'SC_GMWOF5428739', 'HG03272', 'HGDP00037', 'HG03656', 'HGDP01232', 'HG03930', 'HGDP01309', 'HG04184', 'SC_GMMAN5482213', 'HGDP00205', 'SC_GMJOL5309918', 'HGDP00517', 'HGDP01034', 'HGDP00096', 'HGDP00791', 'HGDP00402', 'HG01972', 'NA18955', 'HG01206', 'HGDP00247', 'HGDP00808', 'HGDP00597', 'HG04055', 'SC_GMFUL5306411', 'HGDP00177', 'Armenian222', 'HG00730', 'HG00480', 'HGDP00766', 'HGDP00776', 'NA19382', 'HGDP00692', 'HGDP00734', 'NA19145', 'HGDP00445', 'HGDP01181', 'HGDP00730', 'SC_GMWOF5428824', 'NEUKL758UHA', 'SC_GMWOF5428819', 'SC_GMWOF5428812', 'HG01199', 'HG02677', 'HGDP00587', 'HGDP01059', 'SC_GMFUL5306356', 'HGDP00635', 'NA13616', 'HGDP01357', 'HGDP01345', 'lez42', 'HGDP00949', 'SC_GMFUL5306400', 'HG01454', 'HGDP00608', 'HGDP01379', 'HGDP00568', 'HG03309', 'HGDP00785', 'HG01106', 'HGDP01298', 'HG02168', 'HG01487', 'HGDP01349', 'SC_GMFUL5309717', 'HG03373', 'NA19718', 'NA19919', 'HGDP00814', 'HG02280', 'HGDP00909', 'HG03574', 'HGDP01220', 'HGDP00520', 'SC_GMMAN5482235', 'HGDP01319', 'HGDP01312', 'SC_GMJOL5309796', 'HGDP01012', 'HGDP00838', 'HGDP00543', 'NA19103', 'HGDP00813', 'HGDP01206', 'HG02030', 'SC_GMMAN5482307', 'Ale22', 'HGDP00764', 'HG01273', 'HGDP00124', 'HGDP01275', 'HGDP01304', 'HG00555', 'HGDP01236', 'HGDP01196', 'HG03104', 'HGDP00035', 'HGDP00846', 'HG03176', 'SC_GMJOL5309907', 'NA18860', 'HG03948', 'HG02686', 'HG03167', 'HGDP00794', 'SC_GMFUL5306354', 'HGDP00208', 'HG02656', 'HGDP00586', 'HGDP00773', 'HGDP00471', 'HGDP01060', 'HGDP01238', 'HGDP00621', 'HGDP00045', 'SC_GMWOF5428826', 'HGDP01015', 'HG03107', 'HG03688', 'HGDP00694', 'SC_GMJOL5309890', 'HGDP00893', 'HGDP00043', 'NA19398', 'HG01934', 'SC_GMJOL5309867', 'SC_GMJOL5309913', 'HG03098', 'HGDP00926', 'Sir40', 'SC_GMJOL5309967', 'HGDP01402', 'HGDP01162', 'HGDP00784', 'SC_GMMAN5482236', 'SC_GMJOL5309963', 'HG00615', 'HG02723', 'Bishkek28440', 'HG02954', 'NA19199', 'HGDP00047', 'NA19044', 'HGDP00666', 'HG03801', 'SC_GMMAN5482234', 'HG02738', 'HG02945', 'HGDP01290', 'NA20319', 'SC_GMWOF5428823', 'HG02415', 'HGDP00524', 'SC_GMJOL5309945', 'SC_GMMAN5482229', 'HG03161', 'HG02735', 'HGDP00987', 'HGDP00870', 'HG02024', 'SC_GMJOL5309930', 'HG03942', 'HGDP00995', 'HG02547', 'SAH41', 'NA20871', 'HGDP00928', 'HG04142', 'HGDP01414', 'NA19672', 'Sam02', 'SC_GMJOL5309851', 'HGDP00155', 'HGDP00259', 'HGDP00945', 'HG03125', 'SC_GMFUL5306412', 'HG02526', 'SC_GMFUL5306357', 'HGDP00663', 'SC_GMFUL5306362', 'HGDP00567', 'HG01473', 'HGDP01419', 'HGDP00382', 'HGDP01041', 'HGDP00872', 'NA00726', 'HGDP00807', 'NA18872', 'SC_GMFUL5309730', 'SC_GMWOF5428770', 'HG01189', 'SC_GMJOL5309812', 'HGDP00476', 'NA19721', 'SC_GMWOF5428854', 'SC_GMWOF5428846', 'HGDP01417', 'HG02692', 'NA19166', 'HG02972', 'HGDP00514', 'HGDP01350', 'HGDP01396', 'HGDP00984', 'SC_GMJOL5309958', 'HG03393', 'HG00501', 'HGDP01077', 'HGDP00943', 'HG04136', 'HGDP00315', 'GM19320', 'HGDP00769', 'HGDP01193', 'HGDP00679', 'HG03840', 'HG03683', 'HG03008', 'HG02788', 'HGDP00953', 'HG02173', 'NA19313', 'HG03053', 'Dus16', 'HGDP00817', 'SC_GMWOF5428882', 'SC_GMFUL5306385', 'HG00627', 'mixa0105', 'SC_GMJOL5309966', 'SC_GMWOF5428716', 'HGDP00029', 'NA18791', 'HG03566', 'HGDP00599', 'HGDP00783', 'HGDP01044', 'HGDP00624', 'HG03339', 'HG03134', 'HGDP01352', 'HG03763', 'HGDP00606', 'HGDP00810', 'armenia293', 'HG02575', 'NA19105', 'NA19371', 'SC_GMMAN5482170', 'HGDP01024', 'HG01594', 'HG04151', 'HG03766', 'HGDP00351', 'SC_GMMAN5482243', 'HG00609', 'HGDP00388', 'NA18913', 'HGDP00479', 'HGDP01199', 'HG02495', 'SC_GMFUL5306389', 'HG01184', 'HGDP01265', 'SC_GMMAN5482169', 'HGDP00650', 'HGDP01009', 'HG02717', 'HG03903', 'HGDP00799', 'HG02071', 'HG02806', 'SC_GMJOL5309935', 'HGDP01259', 'HG00535', 'SC_GMJOL5309804', 'iran17', 'SC_GMWOF5428723', 'HGDP01354', 'HG02602', 'HGDP00134', 'HG01415', 'HGDP00644', 'Ul31', 'NA18521', 'HGDP00412', 'HG03982', 'HGDP00304', 'HG03260', 'HG00866', 'HG03845', 'HG04148', 'HGDP00676', 'SC_GMFUL5306355', 'Mansi79', 'HGDP00745', 'SC_GMMAN5482291', 'HG02871', 'NA20341', 'HGDP01036', 'SC_GMMAN5482232', 'HG02587', 'HG03474', 'HG01150', 'NA20290', 'SC_GMMAN5482177', 'HGDP01151', 'HGDP00279', 'HG03621', 'NA19094', 'HG01884', 'HGDP01191', 'NA19674', 'HGDP01348', 'HG03350', 'NA13604', 'NA19240', 'HGDP00563', 'SC_GMWOF5428811', 'HGDP01037', 'SC_GMJOL5309925', 'SC_GMWOF5428724', 'HGDP01010', 'HGDP01384', 'HGDP00662', 'SC_GMMAN5482221', 'CHI-007', 'HGDP00003', 'HGDP00027', 'HG02126', 'SC_GMMAN5482163', 'HGDP00206', 'HG00423', 'HG02145', 'HG00411', 'SC_GMWOF5428842', 'SC_GMJOL5309844', 'HGDP00224', 'HGDP00307', 'HG03365', 'HG03927', 'NA18911', 'HGDP00818', 'HG03131', 'NA15202', 'HG02883', 'HG03390', 'SC_GMMAN5482208', 'HGDP01274', 'HG02132', 'HG01114', 'Bu16', 'SC_GMWOF5428850', 'SC_GMJOL5309977', 'IHW9118', 'HG02781', 'HGDP01218', 'HG01881', 'HG03651', 'HGDP00883', 'SC_GMWOF5428832', 'HG00514', 'HGDP00646', 'HG01361', 'HGDP00094', 'SC_GMFUL5306343', 'NA19677', 'NA20312', 'SC_GMJOL5309968', 'HG02818', 'NorthOssetia12', 'HG03465', 'HG01457', 'HGDP00620', 'HGDP00321', 'HGDP00535', 'HG01499', 'NA18515', 'SC_GMJOL5309820', 'Est375', 'HG02659', 'HGDP00797', 'HGDP01300', 'SC_GMMAN5482301', 'BulgarianB4', 'NA19115', 'HGDP00062', 'HGDP00955', 'HG03783', 'HG01376', 'HGDP00937', 'HG03296', 'HG00526', 'HGDP01064', 'HG02563', 'HG00450', 'HG03312', 'HG01324', 'HGDP01408', 'HGDP01340', 'HG02492', 'HGDP00222', 'HGDP01287', 'HG02523', 'SC_GMJOL5309949', 'HGDP00025', 'NA19733', 'HGDP00213', 'HGDP00538', 'SC_GMJOL5309922', 'NA19202', 'SC_GMJOL5309960', 'HG01943', 'HGDP00049', 'HGDP00376', 'HGDP00871', 'NA19905', 'HGDP00092', 'HGDP00397', 'HGDP00019', 'HGDP01208', 'HGDP00673', 'HGDP01018', 'SC_GMMAN5482299', 'HGDP00528', 'HGDP00714', 'HG02148', 'HGDP00558', 'SC_GMMAN5482276', 'HG04215', 'HG01355', 'HGDP00954', 'HGDP00879', 'HG00538', 'HG00438', 'NA18529', 'NA20343', 'NA19254', 'HGDP00710', 'IraqiJew4291', 'HGDP01168', 'NA20361', 'HG03988', 'HG03368', 'HG00706', 'HGDP00285', 'HG03904', 'HGDP00686', 'HG02559', 'HG03835', 'NA19784', 'HGDP01050', 'HGDP00574', 'HGDP00767', 'HGDP00779', 'HGDP00899', 'HG01053', 'NA19359', 'HGDP01155', 'HG02525', 'Nesk_22', 'SC_GMMAN5482306', 'HGDP01226', 'HGDP00969', 'SC_GMFUL5309763', 'HGDP01092', 'HGDP01412', 'SC_GMFUL5306374', 'HG02812', 'HGDP00529', 'HGDP00490', 'HG02011', 'SC_GMWOF5428828', 'HGDP00187', 'HGDP00942', 'HGDP00076', 'HG02758', 'HG02653', 'HGDP00888', 'HG03438', 'HGDP00696', 'SC_GMFUL5306416', 'HG03384', 'SC_GMMAN5482205', 'HGDP00891', 'HG00567', 'HGDP00902', 'HGDP01213', 'HG04157', 'SC_GMFUL5309711', 'SC_GMWOF5428879', 'HGDP00417', 'NA19120', 'HGDP00629', 'NA11200', 'HG02762', 'HGDP00491', 'HGDP00627', 'HGDP01019', 'HGDP00713', 'HG02189', 'SC_GMWOF5428744', 'HG02886', 'Jordan445', 'SC_GMFUL5306344', 'HGDP00752', 'HGDP01255', 'HGDP01066', 'B11', 'HGDP01292', 'HGDP00668', 'HG04175', 'HGDP00697', 'HGDP00465', 'Sir26', 'NA19186', 'abh100', 'HG00561', 'SC_GMFUL5309756', 'HGDP00119', 'HGDP01254', 'HGDP01397', 'HG02948', 'HG01243', 'HGDP00706', 'DNK07', 'SC_GMJOL5309961', 'HG03618', 'HGDP00768', 'HG02862', 'HGDP00898', 'Nlk18', 'HGDP00457', 'HGDP00946', 'SC_GMFUL5306406', 'HGDP00251', 'HG03582', 'HG04208', 'HG01937', 'HGDP00736', 'HGDP01306', 'HGDP00057', 'HGDP00545', 'SC_GMJOL5309821', 'Bu5', 'HGDP01246', 'HGDP00311', 'SC_GMFUL5309773', 'HGDP00082', 'SC_GMFUL5306432', 'HGDP00974', 'NA19705', 'HG02729', 'SC_GMMAN5482309', 'Sir19', 'HG03454', 'NA19203', 'HG03816', 'HGDP01174', 'HGDP01250', 'HGDP00527', 'HGDP00153', 'HG03480', 'HGDP01062', 'SC_GMWOF5428829', 'NA19396', 'HGDP01294', 'NA19139', 'SC_GMMAN5482194', 'HG03508', 'SC_GMMAN5482283', 'HGDP00281', 'SC_GMWOF5428874', 'SC_GMWOF5428813', 'SC_GMFUL5309738', 'HG03605', 'SC_GMJOL5309985', 'HG03310', 'NA20301', 'HGDP01359', 'HG03599', 'HG04133', 'HG03411', 'SC_GMMAN5482195', 'HGDP00796', 'HG01385', 'HGDP01031', 'HGDP00143', 'DNK11', 'HGDP00956', 'HGDP01388', 'HG01195', 'HG01493', 'SC_GMWOF5428814', 'HGDP00648', 'NA20360', 'HGDP00682', 'NA18497', 'NA19373', 'HGDP00977', 'HG01984', 'HG03471', 'HG02841', 'HG02257', 'HGDP00687', 'HG02287', 'Kayseri23827', 'SC_GMFUL5306340', 'HG02662', 'HG02347', 'HGDP00798', 'NA19258', 'HG04036', 'HGDP01074', 'HGDP00167', 'HGDP00356', 'HGDP00530', 'HG00639', 'HGDP00641', 'HG01172', 'NA19444', 'HG02056', 'HGDP00228', 'Kusunda02', 'HGDP00372', 'HGDP00708', 'Dus22', 'HG03510', 'HGDP00631', 'HGDP00232', 'HGDP00102', 'NA17386', 'HG01096', 'HG03383', 'HG00676', 'SC_GMJOL5309836', 'K1', 'SC_GMMAN5482180', 'HGDP01378', 'NA20909', 'Igor21', 'HGDP00105', 'HG00429', 'HG01898', 'HGDP00591', 'HGDP00214', 'HG02091', 'HG04160', 'HG00642', 'ND19394', 'HGDP00602', 'HG02480', 'HGDP01320', 'HGDP01179', 'HGDP01283', 'HG02776', 'SC_GMJOL5309819', 'NA20350', 'HG01579', 'SC_GMMAN5482165', 'NA19714', 'HGDP00243', 'HGDP00920', 'HGDP01075', 'HG00552', 'HGDP00800', 'HGDP01385', 'zapo0098', 'HGDP00760', 'HGDP01073', 'HG03059', 'HGDP00815', 'HGDP00154', 'NA15203', 'HGDP01356', 'HG02869', 'Ayodo_81S', 'HGDP01247', 'HG01138', 'SC_GMFUL5309710', 'SC_GMJOL5309829', 'NA18500', 'HG01135', 'HGDP00774', 'HGDP00009', 'HGDP00639', 'SC_GMJOL5309950', 'NA19772', 'HGDP00078', 'HG00408', 'HGDP01413', 'HGDP01365', 'SC_GMFUL5309764', 'HG02388', 'HG03200', 'HG00465', 'SC_GMJOL5309979', 'HG04114', 'HGDP00991', 'GM20355', 'HGDP01241', 'HGDP01224', 'HGDP00675', 'HGDP00740', 'HG03847', 'HGDP00962', 'HG03723', 'HG01367', 'HGDP01166', 'HGDP00965', 'HGDP00786', 'SC_GMMAN5482219', 'SC_GMJOL5309828', 'SC_GMJOL5309941', 'SC_GMFUL5309781', 'HG03606', 'SC_GMWOF5428737', 'HG01922', 'SC_GMFUL5306379', 'HG01175', 'HG01327', 'HG01567', 'HGDP01405', 'HG03250', 'SC_GMMAN5482184', 'HGDP01233', 'HGDP00017', 'HG03033', 'HGDP01182', 'SC_GMWOF5428871', 'HGDP00677', 'NA18869', 'SC_GMFUL5306353', 'Est400', 'HGDP01271', 'HG02302', 'HGDP00433', 'NA18930', 'HG03822', 'SC_GMJOL5309942', 'HG02004', 'HG01258', 'SC_GMMAN5482324', 'SC_GMWOF5428851', 'SC_GMFUL5306391', 'HGDP01043', 'HGDP01342', 'HGDP00005', 'SC_GMFUL5306377', 'HGDP01264', 'HGDP01163', 'HG03725', 'HGDP01301', 'NA18935', 'SC_GMJOL5309959', 'HG03669', 'HGDP00462', 'Tuba9', 'HGDP00822', 'HG01960', 'HGDP00671', 'HGDP01087', 'HG03842', 'HGDP00903', 'HG00453', 'HGDP01221', 'HGDP00021', 'HG02726', 'NA18487', 'NA19132', 'SC_GMFUL5306388', 'HG02129', 'SC_GMMAN5482292', 'SC_GMMAN5482285', 'HGDP00637', 'HG03191', 'NA21490', 'SC_GMJOL5309898', 'HG00633', 'HGDP00749', 'HG01322', 'HG00577', 'SC_GMMAN5482185', 'SC_GMWOF5428705', 'HGDP00999', 'SC_GMFUL5306371', 'NA20349', 'HGDP00127', 'NA20129', 'NA19097', 'HG00624', 'NA18852', 'HG00502', 'SC_GMFUL5306397', 'Esk29', 'HGDP00118', 'HG04067', 'HG03194', 'HGDP01333', 'NA20898', 'HGDP00670', 'HG01978', 'HGDP01237', 'HGDP00438', 'HGDP01258', 'Nesk_25', 'HG00420', 'SC_GMWOF5428771', 'HGDP00189', 'HG01252', 'HGDP00948', 'HG04197', 'HGDP00100', 'HG03065', 'HGDP00649', 'SC_GMJOL5309875', 'NA18875', 'HGDP00450', 'NA19763', 'HGDP00151', 'HG00594', 'HGDP01028', 'HGDP00120', 'HGDP00746', 'HGDP00719', 'HG01279', 'HGDP00693', 'SC_GMJOL5309948', 'HG01925', 'tdj409_shugnan', 'HG02254', 'HG03119', 'HGDP00950', 'HGDP01353', 'HG03620', 'NA19208', 'HG02027', 'HGDP01164', 'NA19237', 'NA19453', 'SC_GMMAN5482348', 'NA18484', 'HGDP00622', 'HGDP01161', 'HGDP01331', 'NA18855', 'HG03307', 'HGDP01355', 'SC_GMFUL5306347', 'NA19122', 'HG01087', 'HG02083', 'HG00418', 'NA19686', 'HG03797', 'HG01056', 'HGDP00039', 'HG02704', 'HGDP01280', 'HGDP01286', 'HGDP00685', 'NA18795', 'HGDP00845', 'SC_GMFUL5306392', 'HGDP00628', 'SC_GMFUL5306369', 'HG03635', 'HGDP01097', 'HGDP00865', 'K4', 'HGDP01336', 'NA19127', 'HGDP00632', 'SC_GMMAN5482207', 'HG00474', 'HG01358', 'HG02267', 'HGDP00195', 'HGDP00702', 'HG02381', 'SC_GMFUL5306348', 'HGDP01316', 'HGDP00518', 'HGDP00555', 'SC_GMWOF5428816', 'HGDP00777', 'HGDP00852', 'HG02889', 'HG01887', 'NA18509', 'SC_GMJOL5309797', 'HGDP00121', 'NA19653', 'HGDP00359', 'HG02170', 'HGDP00761', 'HGDP01399', 'HG01483', 'SC_GMMAN5482239', 'HGDP00001', 'SC_GMJOL5309940', 'HGDP00578', 'HGDP01090', 'HGDP00456', 'SC_GMMAN5482216', 'HGDP01222', 'HGDP00985', 'SC_GMMAN5482199', 'HGDP01322', 'HG01349', 'HGDP00739', 'HGDP00454', 'HGDP01053', 'Utsa21', 'HGDP00330', 'HGDP00731', 'SC_GMFUL5306346', 'SC_GMJOL5309929', 'HG02647', 'HGDP00618', 'HGDP00683', 'HGDP00130', 'HGDP01217', 'HGDP01229', 'HG03876', 'SC_GMJOL5309827', 'HG03076', 'HGDP00661', 'HGDP01289', 'HG03486', 'SC_GMJOL5309837', 'HGDP00226', 'HGDP01189', 'HGDP00684', 'HG02978', 'NA19836', 'HGDP01382', 'HGDP01058', 'HGDP01240', 'HGDP01377', 'Ale32', 'Peru60', 'SC_GMWOF5428847', 'HGDP00645', 'NA19915', 'HGDP00904', 'NA18906', 'HGDP01381', 'HG01391', 'HG01249', 'HGDP00828', 'HGDP00463', 'NA19173', 'HG02436', 'HGDP00461', 'HGDP01375', 'HGDP00854', 'NorthOssetia5', 'HG03579', 'HGDP00141', 'HG03492', 'HGDP00775', 'HGDP00781', 'HG01084', 'HGDP00139', 'NA18914', 'HG02942', 'NA19381', 'HG01484', 'SC_GMMAN5482314', 'abh107', 'HGDP01223', 'HG03732', 'HGDP01374', 'HG03493', 'HGDP00896', 'HG01192', 'HGDP00473', 'NA19775', 'HGDP01293', 'NA20316', 'HG03806', 'HG03540', 'HG03466', 'SC_GMFUL5306375', 'SC_GMFUL5306415', 'HG00655', 'HG03047', 'NA19738', 'HGDP00572', 'NA19662', 'SC_GMMAN5482315', 'SC_GMFUL5306399', 'HG03197', 'HGDP00140', 'NA19787', 'HG03798', 'HG03549', 'HGDP00183', 'HGDP00552', 'HG00983', 'SC_GMMAN5482268', 'HG02059', 'HGDP00540', 'NEUTC015WBG', 'HG04132', 'HGDP00759', 'NA21121', 'HGDP00882', 'SC_GMJOL5309895', 'HGDP01209', 'HGDP00780', 'HGDP00033', 'SC_GMFUL5309716', 'HGDP00104', 'HG03371', 'HG03269', 'SC_GMJOL5309868', 'SC_GMWOF5428834', 'SC_GMWOF5428822', 'HGDP00583', 'HG02821', 'HGDP00858', 'lez49', 'HGDP00757', 'HGDP00881', 'HG03128', 'SC_GMFUL5306404', 'SC_GMFUL5309708', 'HG01928', 'HGDP00125', 'HGDP01035', 'HGDP01200', 'HG03314', 'SC_GMWOF5428762', 'SC_GMJOL5309951', 'SC_GMMAN5482300', 'HG02680', 'HGDP00201', 'HGDP00519', 'SC_GMFUL5309700', 'HGDP00523', 'SC_GMMAN5482316', 'SC_GMJOL5309936', 'HGDP00741', 'CHI-034', 'HG02169', 'NA19798', 'HG03834', 'SC_GMFUL5306383', 'HGDP00771', 'HGDP00537', 'HGDP00525', 'HGDP00264', 'HGDP00900', 'SC_GMMAN5482200', 'HGDP00973', 'HG02358', 'HG04149', 'HG02463', 'SC_GMMAN5482284', 'HG02698', 'SC_GMWOF5428867', 'HG01100', 'NA18540', 'HG04150', 'HG03249', 'HG03924', 'HGDP00804', 'Igor20', 'HGDP00580', 'HGDP00469', 'HGDP01369', 'HGDP01187', 'NA19249', 'HG03080', 'HGDP01253', 'SC_GMJOL5309952', 'HG03137', 'HG03807', 'SC_GMJOL5309914', 'HG03799', 'HGDP01183', 'HG03639', 'HGDP00559', 'HG01981', 'HGDP01334', 'HG03715', 'SC_GMMAN5482187', 'HG03305', 'NA20322', 'SC_GMWOF5428805', 'HG04217', 'HGDP01231', 'HGDP01204', 'HG00582', 'HG04204', 'HGDP00664', 'HGDP00981', 'NA19742', 'HGDP01415', 'HGDP00727', 'HGDP01347', 'NA19142', 'HGDP00511', 'HGDP01248', 'HGDP01351', 'HGDP01317', 'HGDP01169', 'HG03361', 'HGDP00428', 'HGDP00750', 'HGDP01243', 'NA20297', 'SC_GMFUL5306408', 'HGDP00515', 'M4', 'HG03029', 'HG01394', 'HG03901', 'HG03450', 'HGDP01095', 'HGDP00857', 'HGDP00975', 'HGDP00873', 'HGDP00068', 'HGDP00444', 'SC_GMMAN5482225', 'HGDP00724', 'HG04040', 'HG03236', 'HG03487', 'HGDP00455', 'HG03641', 'HG01888', 'HG02276', 'HGDP00474', 'SC_GMJOL5309920', 'NA19151', 'SC_GMWOF5428721', 'HGDP01071', 'HGDP00565', 'HGDP00704', 'HGDP01207', 'NA19748', 'SC_GMMAN5482186', 'HGDP00534', 'HG03374', 'SC_GMJOL5309896', 'HG04135', 'HGDP00181', 'SC_GMWOF5428858', 'HGDP00806', 'HGDP00993', 'mg31', 'HG00447', 'HG02773', 'SC_GMMAN5482212', 'HG00636', 'HG01442', 'HGDP01185', 'HGDP00721', 'HG03023', 'HGDP00733', 'HGDP00544', 'NA15763', 'HG03398', 'HG02800', 'HG03769', 'Utsa22', 'HGDP01361', 'HGDP00700', 'HGDP00651', 'HGDP01358', 'SC_GMMAN5482340', 'SC_GMWOF5428786', 'HGDP00601', 'HG03939', 'HGDP00158', 'HG01969', 'NA20347', 'HG02567', 'HGDP01268', 'HG01463', 'HG02892', 'SC_GMMAN5482233', 'iran11', 'HGDP01270', 'HGDP00598', 'HG02466', 'HGDP00011', 'HG02615', 'SC_GMWOF5428729', 'HG02984', 'SC_GMWOF5428873', 'SC_GMMAN5482217', 'HGDP01338', 'HG03173', 'HGDP01216', 'SC_GMWOF5428818', 'HG03707', 'HG03513', 'HGDP00323', 'SC_GMJOL5309859', 'SC_GMFUL5309725', 'HGDP00549', 'SC_GMWOF5428732', 'SC_GMFUL5306341', 'HG00512', 'SAH31', 'HGDP01337', 'HG02980', 'HGDP00932', 'HG03302', 'SC_GMJOL5309976', 'HG01895', 'HGDP01192', 'HG04058', 'HGDP00788', 'HG02021', 'HGDP00753', 'SC_GMJOL5309899', 'SC_GMWOF5428787', 'R6', 'HGDP00738', 'HGDP00655', 'HGDP01251', 'HG01949', 'AV-21', 'HGDP00887', 'NA19656', 'NA19128', 'SC_GMFUL5306398', 'HGDP00588', 'HGDP01272', 'SC_GMJOL5309943', 'SC_GMJOL5309953', 'HGDP01056', 'HG01445', 'HG01347', 'HGDP01065', 'HG02273', 'HG02770', 'HGDP00513', 'HGDP00772', 'SC_GMWOF5428875', 'HG04128', 'SC_GMFUL5306405', 'HG02794', 'HG02969', 'HG03248', 'HGDP01310', 'HGDP00133', 'HGDP00313', 'HGDP01299', 'HGDP00914', 'HGDP00607', 'NA19797', 'HGDP00478', 'HG03399', 'HGDP01079', 'HGDP00765', 'HG03050', 'SC_GMFUL5306366', 'HGDP01288', 'HG01490', 'SC_GMFUL5306395', 'HGDP00864', 'NA13607', 'NA18503', 'HG02080', 'Kusunda15', 'HG00444', 'HGDP00972', 'HG00664', 'HG01477', 'Kayseri24424', 'HGDP01269', 'HGDP00060', 'NA20363', 'SC_GMWOF5428833', 'NA21134', 'SC_GMMAN5482191', 'SC_GMMAN5482244', 'NA19205', 'SC_GMFUL5306431', 'HGDP01190', 'HGDP00516', 'HG02405', 'HGDP00688', 'SC_GMMAN5482241', 'HGDP00963', 'NA19104', 'HG01274', 'SC_GMJOL5309944', 'HGDP00758', 'HGDP01400', 'SC_GMFUL5309755', 'HG04127', 'HGDP00579', 'HGDP01311', 'HG03700', 'HG00532', 'HGDP00986', 'HG00459', 'HGDP00407', 'HGDP00392', 'NA19150', 'HGDP00819', 'HGDP01267', 'HGDP00288', 'HGDP01006', 'HGDP01051', 'SC_GMFUL5309703', 'NA19665', 'HG03308', 'HG03242', 'SC_GMMAN5482322', 'NA19685', 'HGDP00262', 'HGDP00722', 'SC_GMWOF5428803', 'NA18594', 'HGDP00755', 'NA19727', 'HG03596', 'HGDP00952', 'HGDP00892', 'HGDP00748', 'HG03041', 'HGDP00547', 'HGDP00732', 'SC_GMFUL5306410', 'HGDP00762', 'HGDP01198', 'HG03701', 'HG02293', 'NA19174', 'SC_GMWOF5428815', 'HGDP00216', 'HGDP00994', 'YemeniteJew4695', 'HGDP00667', 'HGDP01021', 'HG03584', 'SC_GMJOL5309974', 'SC_GMJOL5309980', 'HGDP00726', 'HG00405', 'HG03362', 'HGDP01201', 'SC_GMJOL5309973', 'HG02644', 'HGDP01376', 'mixe0007', 'HGDP00144', 'Jordan603', 'SC_GMWOF5428820', 'HG01983', 'HGDP01291', 'HGDP00611', 'HGDP01153', 'HGDP00072', 'HG02630', 'SC_GMMAN5482227', 'HGDP00983', 'HGDP00165', 'HG02176', 'HG03402', 'HGDP00933', 'HGDP00691', 'HGDP01341', 'SC_GMFUL5309789', 'HGDP00175', 'SC_GMWOF5428713', 'HG01404', 'HGDP01078', 'HGDP00747', 'SC_GMFUL5306424', 'SC_GMWOF5428763', 'HGDP00551', 'SC_GMFUL5306351', 'SC_GMWOF5428839', 'NA20883', 'HG00579', 'DNK05', 'HGDP00364', 'HGDP01205', 'HGDP00590', 'SC_GMMAN5482332', 'HG03590', 'NA19161', 'NA19215', 'HGDP00137', 'HG02689', 'SC_GMMAN5482255', 'SC_GMFUL5306361', 'HG02791', 'HGDP00880', 'HGDP00541', 'HGDP00610', 'NA18925', 'SC_GMWOF5428831', 'SC_GMJOL5309971', 'HG01081', 'HG01573', 'HG03633', 'HGDP01323', 'HGDP00751', 'HGDP00672', 'HGDP00958', 'HGDP00913', 'HGDP01327', 'SC_GMFUL5306413', 'HGDP00944', 'HG03062', 'HGDP00634', 'HG02856', 'HG03110', 'HGDP00584', 'HGDP00625', 'NA20879', 'Y4', 'HG03569', 'ND15865', 'HGDP00274', 'HG01959', 'SC_GMMAN5482240', 'HGDP01030', 'HGDP01081', 'HGDP00930', 'HGDP00615', 'NA19757', 'HG01452', 'SC_GMWOF5428821', 'NA19983', 'HGDP00458', 'HGDP00533', 'SC_GMWOF5428849', 'tdj430_shugnan', 'HGDP00234', 'HGDP01308', 'HG01940', 'HG02625', 'Ayodo_502C', 'SC_GMJOL5309905', 'HGDP00290', 'HGDP00106', 'HGDP01228', 'HGDP00863', 'SC_GMJOL5309911', 'HGDP00723', 'HG03158', 'HGDP01329', 'HGDP00982', 'HGDP00149', 'HGDP00971', 'NA19751', 'HGDP00135', 'NA15728', 'SC_GMFUL5306363', 'NA17374', 'HGDP00653', 'SC_GMMAN5482293', 'HGDP01373', 'HGDP01149', 'HGDP00542', 'HG01993', 'YemeniteJew5433', 'HGDP01398', 'HG02321', 'HGDP00161', 'HGDP00968', 'HGDP00090', 'HGDP00277', 'HGDP00185', 'HGDP01386', 'NA19469', 'HG01071', 'HGDP00656', 'HGDP01277', 'SC_GMWOF5428906', 'HG00477', 'HGDP01344', 'HG00735', 'HG01955', 'HGDP01263', 'HGDP00906', 'HGDP00811', 'NA18485', 'HGDP01372', 'TGBS21', 'HG02428', 'SC_GMWOF5428806', 'HGDP00859', 'HG01068', 'HGDP00916', 'HG03602', 'HG03617', 'NA19708', 'altai363p', 'HGDP01157', 'HG03164', 'SC_GMJOL5309957', 'HG02605', 'HGDP01184', 'HGDP00860', 'HG00544', 'HGDP00976', 'SC_GMMAN5482203', 'HGDP01029', 'HGDP00735', 'HG03576', 'HGDP00023', 'SC_GMFUL5309718', 'HGDP00146', 'HGDP00258', 'NA19918', 'HGDP00512', 'SC_GMWOF5428797', 'HGDP00951', 'HG01126', 'NA20277', 'HG02055', 'IraqiJew1771', 'HGDP00619', 'HGDP01330', 'HG02701', 'HGDP00966', 'HGDP01318', 'HG01891', 'HGDP01215', 'HG03230', 'HG01050', 'HGDP00472', 'HGDP01418', 'HG00702', 'HGDP01404', 'HGDP00210', 'HG03306', 'HGDP01244', 'HGDP00961', 'HGDP00895', 'HGDP00626', 'NA20300', 'HGDP00911', 'HG02377', 'HGDP00056', 'HGDP01032', 'HGDP00459', 'HGDP00171', 'HG01897', 'zapo0099', 'HGDP01098', 'NA18506', 'HG03657', 'NA19177', 'HGDP01387', 'Nlk1', 'HGDP01302', 'HG00591', 'HGDP00856', 'HGDP01363', 'SC_GMMAN5482308', 'HGDP00054', 'HG02074', 'HGDP00098', 'HG01552', 'HG03825', 'HG00716', 'HGDP01173', 'HG00709', 'HG04024', 'NA19675', 'ALB212', 'HGDP01370', 'HGDP01219', 'HGDP00642', 'HGDP00191', 'SC_GMWOF5428731', 'HGDP00103', 'SC_GMWOF5428747', 'SC_GMWOF5428789', 'NA19985', 'HGDP00148', 'HG01433', 'HGDP00737', 'HGDP00466', 'HGDP00569', 'HG01109', 'HG01178', 'Y8', 'HG00703', 'HGDP00716', 'HGDP00319', 'HG01062', 'HGDP00674', 'HGDP00564', 'HGDP00654', 'HG01301', 'HGDP01156', 'HG04115', 'HGDP01285', 'GM21487', 'HG03468', 'HGDP00468', 'HG03101', 'NA17385', 'HG03682', 'HG02046', 'HGDP00837', 'NA19796', 'SC_GMJOL5309928', 'HGDP00876', 'HGDP00341', 'HGDP00566', 'HG03804', 'HGDP00964', 'HGDP01211', 'HG02897', 'SC_GMWOF5428808', 'HG03293', 'HGDP01364', 'NA19737', 'HG04187', 'SC_GMWOF5428798', 'HGDP00862', 'NA20873', 'SC_GMJOL5309983', 'SC_GMWOF5428736', 'HGDP00066', 'HGDP00371', 'HGDP00720', 'HG01471', 'HGDP00122', 'HGDP01214', 'HGDP00526', 'NA11201', 'HG02120', 'HGDP01371', 'HGDP00812', 'NA19924', 'HGDP01368', 'HG04174', 'HGDP01152', 'HG02316', 'HGDP01063', 'HGDP01094', 'HGDP00594', 'SC_GMWOF5428827', 'HGDP01367', 'SC_GMFUL5306367', 'NA19176', 'HG01482', 'HGDP00782', 'HGDP00717', 'HGDP00805', 'HGDP00554', 'SC_GMFUL5306378', 'HGDP00581', 'SC_GMJOL5309984', 'mixe0002', 'NA18874', 'HG02924', 'SC_GMFUL5306427', 'NA19154', 'HG03170', 'HG03813', 'HGDP00756', 'NA19683', 'HGDP00254', 'NA18863', 'SC_GMMAN5482290', 'HGDP01001', 'SC_GMMAN5482298', 'HG03489', 'HGDP01260', 'GM19129', 'HG02636', 'HGDP00941', 'SC_GMJOL5309927', 'HGDP00163', 'HGDP01239', 'SC_GMFUL5306407', 'HG04037', 'HG00600', 'SC_GMMAN5482256', 'HG03909', 'NA19754', 'HG02785', 'HGDP00539', 'NA20358', 'HGDP00905', 'mixe0042', 'NA20288', 'NA19191', 'SC_GMJOL5309883', 'HG02135', 'HGDP00843', 'HG00578', 'HG04053', 'HGDP01103', 'HGDP00712', 'HG01916', 'NA19226', 'SC_GMMAN5482168', 'HG01496', 'HG02668', 'HG03251', 'HGDP01234', 'HGDP00333', 'HG03456', 'HG04199', 'HG01995', 'HG03879', 'HG02387', 'NA20292', 'HGDP00557', 'SC_GMWOF5428825', 'HG03035', 'HGDP01197', 'HG02650', 'HG02764', 'SC_GMJOL5309917', 'NA20907', 'HGDP00041', 'HGDP01076', 'HG03522', 'SC_GMJOL5309891', 'HG03929', 'NA17377', 'HGDP00897', 'NA20364', 'I1', 'HGDP01203', 'HGDP00924', 'SC_GMWOF5428755', 'mixa0099', 'NOR111', 'HGDP00910', 'HGDP00309', 'HG03564', 'HGDP00286', 'NA19470', 'HG01343', 'HG04050', 'Bishkek28439', 'NA18862', 'HGDP00467', 'HGDP00699', 'SC_GMFUL5306338', 'SC_GMMAN5482274', 'HGDP00875', 'HGDP00099', 'HGDP00630', 'HG03459', 'SC_GMWOF5428835', 'NA18859', 'HGDP01305', 'HGDP00546', 'SC_GMWOF5428748', 'HGDP00614', 'HGDP00729', 'HGDP00725', 'HG03266', 'HG04147', 'SC_GMFUL5306429', 'SC_GMMAN5482164', 'HG03650', 'HGDP01262', 'HGDP00218', 'SC_GMMAN5482223', 'HG03795', 'HGDP01096', 'HG02853', 'SC_GMWOF5428728', 'HGDP01027', 'HGDP00959', 'HG03113', 'HG03140', 'HG01379', 'Tuba19', 'HGDP00849', 'HG00718', 'HGDP01013', 'NA19140', 'HGDP00638', 'HGDP01023', 'HGDP00470', 'Ul5'}\n"
            ]
          },
          "metadata": {},
          "output_type": "display_data"
        },
        {
          "data": {
            "text/html": [
              "<pre style=\"white-space:pre;overflow-x:auto;line-height:normal;font-family:Menlo,'DejaVu Sans Mono',consolas,'Courier New',monospace\">01:04:33.502 | <span style=\"color: #008080; text-decoration-color: #008080\">INFO</span>    | Flow run<span style=\"color: #800080; text-decoration-color: #800080\"> 'lurking-lion'</span> - \n",
              "925 cases:\n",
              " {'ALS__CGND-HDA-01105__276-11-12', 'aals-ALS__CGND-HDA-00234__NEUZN836GME', 'aals-ALS__CGND-HDA-00617__NEUZP278MR4', 'aals-ALS__CGND-HDA-01062__NEUDJ536EVH', 'aals-ALS__CGND-HDA-02247__NEUTW892DWP', 'aals-ALS__CGND-HDA-04063__NEUJU951LU2', 'ALS__CGND-HDA-01109__276-11-17', 'ALS__CGND-HDA-02059__NEUUK517ZAW', 'ALS__CGND-HDA-00476__JHU15', 'aals-ALS__CGND-HDA-03924__NEUCJ833ZHZ', 'ALS__CGND-HDA-01318__NEUTP019MY9', 'ALS__CGND-HDA-02147__PF-UCH-9', 'ALS__CGND-HDA-02382__87-024-81', 'ALS__CGND-HDA-00754__MH-WASHU-132', 'ALS__CGND-HDA-02620__UP-WGS-375', 'aals-ALS__CGND-HDA-00254__NEUJX780XXK', 'aals-ALS__CGND-HDA-03809__NEUHF609CBU', 'aals-ALS__CGND-HDA-03542__NEUVG129BF1', 'ALS__CGND-HDA-00645__MH-WASHU-23', 'ALS__CGND-HDA-00713__MH-WASHU-91', 'ALS__CGND-HDA-03407__NEURT352AUG', 'aals-ALS__CGND-HDA-03574__NEUKM739PJW', 'aals-ALS__CGND-HDA-02432__NEUHH738YR2', 'ALS__CGND-HDA-02351__92-090-09', 'ALS__CGND-HDA-00332__2271ALS', 'ALS__CGND-HDA-04005__TD-ALS-170', 'aals-ALS__CGND-HDA-03839__NEUFD345LKY', 'ALS__CGND-HDA-01650__UP-WGS-128', 'ALS__CGND-HDA-00528__JHU67', 'ALS__CGND-HDA-00357__819ALS', 'ALS__CGND-HDA-00295__2225ALS', 'aals-ALS__CGND-HDA-01186__NEUGR539MVT', 'aals-ALS__CGND-HDA-01460__NEUVR406DA9', 'aals-ALS__CGND-HDA-03091__NEUNY196ABW', 'ALS__CGND-HDA-01790__TD-ALS-47', 'ALS__CGND-HDA-02145__PF-UCH-7', 'ALS__CGND-HDA-02564__88-040-32', 'aals-ALS__CGND-HDA-03923__NEUPE957BCD', 'ALS__CGND-HDA-02994__UP-WGS-467', 'ALS__CGND-HDA-01121__276-11U-3', 'ALS__CGND-HDA-03502__NEUXT750VKX', 'aals-ALS__CGND-HDA-02431__NEUYJ514VE0', 'ALS__CGND-HDA-03403__NEUCR719VFD', 'aals-ALS__CGND-HDA-03555__NEURV536AH8', 'aals-ALS__CGND-HDA-02699__NEUWZ822EZ3', 'ALS__CGND-HDA-02089__NEUWZ812JXY', 'aals-ALS__CGND-HDA-00206__NEUJA217MTJ', 'aals-ALS__CGND-HDA-03538__NEUBH354PP4', 'ALS__CGND-HDA-01798__TD-ALS-16', 'aals-ALS__CGND-HDA-03718__NEUDX561LX4', 'ALS__CGND-HDA-01141__NEUXN352UND', 'ALS__CGND-HDA-01595__UP-WGS-073', 'aals-ALS__CGND-HDA-03592__NEUFV408PPK', 'ALS__CGND-HDA-02284__14-200-25', 'ALS__CGND-HDA-02339__94-105-45', 'ALS__CGND-HDA-01721__TD-ALS-65', 'ALS__CGND-HDA-00503__JHU42', 'ALS__CGND-HDA-02578__NEUUF289NRL', 'ALS__CGND-HDA-00740__MH-WASHU-118', 'ALS__CGND-HDA-02124__PF-BLT-8', 'aals-ALS__CGND-HDA-01349__NEUEL515MZ3', 'ALS__CGND-HDA-00783__MH-WASHU-161', 'ALS__CGND-HDA-02422__03-151-16', 'ALS__CGND-HDA-02573__03-149-43', 'aals-ALS__CGND-HDA-01055__NEUBC998WWB', 'ALS__CGND-HDA-02935__AIM701054', 'ALS__CGND-HDA-03026__UP-WGS-499', 'ALS__CGND-HDA-00958__53402BL1', 'ALS__CGND-HDA-01803__TD-ALS-56', 'aals-ALS__CGND-HDA-03921__NEUPP545XNY', 'aals-ALS__CGND-HDA-03893__NEUME400ZPA', 'aals-ALS__CGND-HDA-03726__NEURC211RRY', 'aals-ALS__CGND-HDA-01153__NEULL588ALG', 'aals-ALS__CGND-HDA-02588__NEUZH314DX8', 'ALS__CGND-HDA-02163__PF-UCH-25', 'aals-ALS__CGND-HDA-03444__NEUEB422WW0', 'ALS__CGND-HDA-01098__276-11-5', 'ALS__CGND-HDA-03504__NEUVF146ANT', 'aals-ALS__CGND-HDA-03094__NEUKV547CFA', 'ALS__CGND-HDA-01662__UP-WGS-140', 'ALS__CGND-HDA-02511__NEURA741KBU', 'ALS__CGND-HDA-04050__NEUPN157TYT', 'ALS__CGND-HDA-01732__TD-ALS-58', 'aals-ALS__CGND-HDA-01348__NEUJG885PY7', 'ALS__CGND-HDA-00462__JHU1', 'ALS__CGND-HDA-02044__NEUDR086ZDQ', 'ALS__CGND-HDA-02612__UP-WGS-367', 'ALS__CGND-HDA-00710__MH-WASHU-88', 'ALS__CGND-HDA-01590__UP-WGS-068', 'ALS__CGND-HDA-01870__TD-ALS-117', 'ALS__CGND-HDA-03866__NEUDK592BDZ', 'aals-ALS__CGND-HDA-01277__NEUAM591VKR', 'ALS__CGND-HDA-00823__MH-WASHU-201', 'ALS__CGND-HDA-01810__TD-ALS-112', 'ALS__CGND-HDA-02053__NEUGY575NUQ', 'ALS__CGND-HDA-02206__PF-TST-14', 'aals-ALS__CGND-HDA-04086__NEUDH813DE6', 'aals-ALS__CGND-HDA-03898__NEUNV090XCM', 'ALS__CGND-HDA-03162__NEUXN530DK8', 'ALS__CGND-HDA-00724__MH-WASHU-102', 'ALS__CGND-HDA-02280__14-204-56', 'ALS__CGND-HDA-01791__TD-ALS-55', 'aals-ALS__CGND-HDA-01284__NEUHL814WMU', 'aals-ALS__CGND-HDA-03096__NEUMR125ZJ2', 'ALS__CGND-HDA-00468__JHU7', 'ALS__CGND-HDA-00691__MH-WASHU-69', 'aals-ALS__CGND-HDA-00457__NEUYJ417DJZ', 'ALS__CGND-HDA-02968__AIM701100', 'ALS__CGND-HDA-04029__NEUGK689BJ1', 'ALS__CGND-HDA-04008__TD-ALS-173', 'ALS__CGND-HDA-01631__UP-WGS-109', 'ALS__CGND-HDA-03067__NEUAG831KFQ', 'ALS__CGND-HDA-01645__UP-WGS-123', 'aals-ALS__CGND-HDA-03450__NEUNJ692WGZ', 'ALS__CGND-HDA-01738__TD-ALS-11', 'ALS__CGND-HDA-01227__NEUWR665XR3', 'ALS__CGND-HDA-01821__CGND-HDA-01821', 'ALS__CGND-HDA-00527__JHU66', 'ALS__CGND-HDA-02083__NEUUM686HV9', 'aals-ALS__CGND-HDA-00606__NEUYK029WUU', 'aals-ALS__CGND-HDA-01355__NEUHR975AFM', 'ALS__CGND-HDA-00341__329ALS', 'ALS__CGND-HDA-00929__MH-WASHU-307', 'ALS__CGND-HDA-02607__UP-WGS-362', 'ALS__CGND-HDA-03994__TD-ALS-159', 'ALS__CGND-HDA-02169__PF-UCH-31', 'ALS__CGND-HDA-03500__NEUMG015KHE', 'aals-ALS__CGND-HDA-03554__NEUMU634DTJ', 'ALS__CGND-HDA-02042__NEUDM397JGD', 'ALS__CGND-HDA-01011__NEUDN002JNA', 'ALS__CGND-HDA-01212__NEUXK357FLR', 'ALS__CGND-HDA-01727__TD-ALS-18', 'ALS__CGND-HDA-00695__MH-WASHU-73', 'ALS__CGND-HDA-01796__TD-ALS-95', 'ALS__CGND-HDA-02986__UP-WGS-459', 'ALS__CGND-HDA-03466__NEUMZ707XCC', 'ALS__CGND-HDA-02602__UP-WGS-357', 'ALS__CGND-HDA-00333__2341ALS', 'ALS__CGND-HDA-01683__UP-WGS-161', 'aals-ALS__CGND-HDA-04080__NEUWM375BWE', 'ALS__CGND-HDA-02955__AIM701076', 'aals-ALS__CGND-HDA-01240__NEUZE814JZF', 'ALS__CGND-HDA-01832__TD-ALS-98', 'ALS__CGND-HDA-01822__TD-ALS-113', 'aals-ALS__CGND-HDA-03069__NEULH205NEM', 'ALS__CGND-HDA-01291__EC08', 'aals-ALS__CGND-HDA-02219__NEUDG000ZG5', 'ALS__CGND-HDA-03675__NEUKU157NAY', 'aals-ALS__CGND-HDA-02700__NEUPP607CPW', 'aals-ALS__CGND-HDA-03615__NEUJX851WR9', 'ALS__CGND-HDA-00655__MH-WASHU-33', 'ALS__CGND-HDA-00439__NEUPL558PL1', 'ALS__CGND-HDA-03677__NEUHE465EXN', 'ALS__CGND-HDA-02146__PF-UCH-8', 'ALS__CGND-HDA-00767__MH-WASHU-145', 'aals-ALS__CGND-HDA-01158__NEUAG603XLK', 'ALS__CGND-HDA-00670__MH-WASHU-48', 'aals-ALS__CGND-HDA-01192__NEUCU422UEV', 'ALS__CGND-HDA-01681__UP-WGS-159', 'ALS__CGND-HDA-00120__UP-WGS-305', 'ALS__CGND-HDA-00702__MH-WASHU-80', 'ALS__CGND-HDA-01703__JK-UM-5593', 'ALS__CGND-HDA-00098__UP-WGS-282', 'ALS__CGND-HDA-01214__NEUPK906RC6', 'ALS__CGND-HDA-00867__MH-WASHU-245', 'aals-ALS__CGND-HDA-03560__NEUET719NJD', 'ALS__CGND-HDA-01577__UP-WGS-055', 'ALS__CGND-HDA-00569__NEUTL049KBM', 'aals-ALS__CGND-HDA-03622__NEUAV181KYK', 'ALS__CGND-HDA-00656__MH-WASHU-34', 'ALS__CGND-HDA-00543__JHU82', 'ALS__CGND-HDA-03482__NEUUN622YDC', 'ALS__CGND-HDA-03510__NEUVC050VWV', 'aals-ALS__CGND-HDA-01147__NEUXP495XE2', 'aals-ALS__CGND-HDA-01465__NEUGL737ZJ8', 'ALS__CGND-HDA-01731__TD-ALS-50', 'aals-ALS__CGND-HDA-03892__NEUKU121MV4', 'ALS__CGND-HDA-01028__NEUEA977HWD', 'ALS__CGND-HDA-02360__91-077-47', 'aals-ALS__CGND-HDA-03817__NEUPR531YJC', 'ALS__CGND-HDA-00342__376ALS', 'ALS__CGND-HDA-01698__NEUZU968XCJ', 'ALS__CGND-HDA-02771__PF-UCL-58', 'ALS__CGND-HDA-02998__UP-WGS-471', 'ALS__CGND-HDA-03641__NSTU5EBHEBA2', 'ALS__CGND-HDA-04033__NEUHG556XZW', 'ALS__CGND-HDA-01470__ECC9#3', 'ALS__CGND-HDA-03465__NEUPF761WCN', 'aals-ALS__CGND-HDA-03845__NEUGD072HA5', 'ALS__CGND-HDA-00499__JHU38', 'ALS__CGND-HDA-02405__93-095-24', 'aals-ALS__CGND-HDA-00615__NEUUL256UC9', 'ALS__CGND-HDA-03507__NEUYF744NLC', 'ALS__CGND-HDA-02158__PF-UCH-20', 'ALS__CGND-HDA-00311__186ALS', 'ALS__CGND-HDA-00317__362ALS', 'ALS__CGND-HDA-01043__NEUUL584CKY', 'ALS__CGND-HDA-02597__UP-WGS-352', 'ALS__CGND-HDA-02619__UP-WGS-374', 'aals-ALS__CGND-HDA-01380__NEUFB989DT1', 'ALS__CGND-HDA-00690__MH-WASHU-68', 'ALS__CGND-HDA-03860__NEUJA552XHE', 'aals-ALS__CGND-HDA-01091__NEUHW590KBH', 'ALS__CGND-HDA-00909__MH-WASHU-287', 'ALS__CGND-HDA-01492__NEUHG799CNZ', 'ALS__CGND-HDA-00709__MH-WASHU-87', 'aals-ALS__CGND-HDA-01390__NEUNR020KV6', 'ALS__CGND-HDA-00494__JHU33', 'ALS__CGND-HDA-01795__TD-ALS-87', 'ALS__CGND-HDA-02256__NEUDT969UML', 'aals-ALS__CGND-HDA-00619__NEUVW999FP9', 'ALS__CGND-HDA-00140__UP-WGS-325', 'ALS__CGND-HDA-01823__TD-ALS-121', 'ALS__CGND-HDA-01015__NEUXW075TRE', 'aals-ALS__CGND-HDA-03917__NEUFE230WFM', 'ALS__CGND-HDA-01781__TD-ALS-70', 'ALS__CGND-HDA-02036__EC25', 'ALS__CGND-HDA-03930__NEUBU587UWA', 'aals-ALS__CGND-HDA-03609__NEUMF523ZB0', 'ALS__CGND-HDA-02087__NEUTW615JX2', 'ALS__CGND-HDA-01142__NEUEW983MHE', 'ALS__CGND-HDA-04013__TD-ALS-178', 'aals-ALS__CGND-HDA-01160__NEUBW008RJ5', 'ALS__CGND-HDA-01107__276-11-15', 'ALS__CGND-HDA-00298__2236ALS', 'aals-ALS__CGND-HDA-01063__NEUHL999WWT', 'ALS__CGND-HDA-02350__92-091-73', 'ALS__CGND-HDA-02577__NEUKN209FNW', 'aals-ALS__CGND-HDA-03902__NEUBY250KZF', 'ALS__CGND-HDA-01096__276-11-3', 'ALS__CGND-HDA-02338__94-100-17', 'ALS__CGND-HDA-02400__15-210-54', 'ALS__CGND-HDA-02517__NEUBC685FAA', 'ALS__CGND-HDA-00745__MH-WASHU-123', 'ALS__CGND-HDA-00515__JHU54', 'ALS__CGND-HDA-00267__1836ALS', 'ALS__CGND-HDA-04035__NEUCD014NG4', 'ALS__CGND-HDA-01094__276-11-1', 'aals-ALS__CGND-HDA-04065__NEULP450TP2', 'ALS__CGND-HDA-00340__303ALS', 'aals-ALS__CGND-HDA-00442__NEUNX092VWR', 'ALS__CGND-HDA-01741__TD-ALS-35', 'ALS__CGND-HDA-01827__TD-ALS-153', 'ALS__CGND-HDA-00316__306ALS', 'ALS__CGND-HDA-03034__UP-WGS-507', 'aals-ALS__CGND-HDA-03566__NEUJJ582XCZ', 'ALS__CGND-HDA-00672__MH-WASHU-50', 'aals-ALS__CGND-HDA-03155__NEUPY426MXW', 'aals-ALS__CGND-HDA-00618__NEUCG743WH2', 'ALS__CGND-HDA-01695__UP-WGS-173', 'ALS__CGND-HDA-01754__TD-ALS-44', 'ALS__CGND-HDA-02982__UP-WGS-455', 'aals-ALS__CGND-HDA-01092__NEUNZ171UYF', 'ALS__CGND-HDA-00777__MH-WASHU-155', 'ALS__CGND-HDA-00994__NEUXP482JZ4', 'ALS__CGND-HDA-01648__UP-WGS-126', 'ALS__CGND-HDA-01860__TD-ALS-132', 'ALS__CGND-HDA-02366__91-069-36', 'ALS__CGND-HDA-02340__94-106-48', 'aals-ALS__CGND-HDA-03540__NEUFM533XGX', 'ALS__CGND-HDA-00911__MH-WASHU-289', 'ALS__CGND-HDA-01574__UP-WGS-052', 'ALS__CGND-HDA-01225__NEUBY479EEQ', 'aals-ALS__CGND-HDA-03835__NEUCE348KGV', 'ALS__CGND-HDA-02397__85-010-06', 'ALS__CGND-HDA-03997__TD-ALS-162', 'aals-ALS__CGND-HDA-03533__NEUKG720EA0', 'aals-ALS__CGND-HDA-01394__NEUPH341WYV', 'aals-ALS__CGND-HDA-01288__NEUXD985ZU1', 'aals-ALS__CGND-HDA-04076__NEUDZ810BCM', 'ALS__CGND-HDA-02614__UP-WGS-369', 'ALS__CGND-HDA-03489__NEUTA794VYF', 'ALS__CGND-HDA-00729__MH-WASHU-107', 'aals-ALS__CGND-HDA-03531__NEUPU527GZL', 'ALS__CGND-HDA-02300__11-176-41', 'ALS__CGND-HDA-02461__UP-WGS-281', 'aals-ALS__CGND-HDA-02072__NEUCC065VTK', 'ALS__CGND-HDA-01489__NEUGY188ZTM', 'ALS__CGND-HDA-00538__JHU77', 'ALS__CGND-HDA-00933__MH-WASHU-311', 'ALS__CGND-HDA-00732__MH-WASHU-110', 'ALS__CGND-HDA-01025__NEUCU859JLT', 'aals-ALS__CGND-HDA-01067__NEUAT005FWT', 'aals-ALS__CGND-HDA-03916__NEULL327UY8', 'ALS__CGND-HDA-02658__UP-WGS-413', 'aals-ALS__CGND-HDA-03604__NEUEE914AFJ', 'aals-ALS__CGND-HDA-01127__NEUWC139KXW', 'ALS__CGND-HDA-01883__TD-ALS-126', 'ALS__CGND-HDA-04026__NEUDC217VWH', 'ALS__CGND-HDA-03044__UP-WGS-517', 'aals-ALS__CGND-HDA-03799__NEUGT583TK8', 'aals-ALS__CGND-HDA-03871__NEUXE881UUH', 'ALS__CGND-HDA-01012__NEUAU640MYE', 'aals-ALS__CGND-HDA-01281__NEUAW717TN6', 'ALS__CGND-HDA-00793__MH-WASHU-171', 'ALS__CGND-HDA-01145__NEUGP936WF0', 'aals-ALS__CGND-HDA-01051__NEUUK390TBJ', 'ALS__CGND-HDA-02507__NEUVG654XUP', 'ALS__CGND-HDA-00804__MH-WASHU-182', 'ALS__CGND-HDA-02343__93-099-82', 'ALS__CGND-HDA-03663__NEUMF330TBL', 'ALS__CGND-HDA-03970__NEUGD174JWJ', 'ALS__CGND-HDA-02398__15-211-72', 'aals-ALS__CGND-HDA-03199__NEULB228PMZ', 'ALS__CGND-HDA-00488__JHU27', 'ALS__CGND-HDA-01671__UP-WGS-149', 'ALS__CGND-HDA-00733__MH-WASHU-111', 'ALS__CGND-HDA-04000__TD-ALS-165', 'ALS__CGND-HDA-00816__MH-WASHU-194', 'aals-ALS__CGND-HDA-02429__NEUVK060XG9', 'aals-ALS__CGND-HDA-04074__NEUNY753VVK', 'ALS__CGND-HDA-01779__TD-ALS-54', 'ALS__CGND-HDA-02399__15-205-18', 'ALS__CGND-HDA-00887__MH-WASHU-265', 'ALS__CGND-HDA-01811__TD-ALS-120', 'ALS__CGND-HDA-02913__AIM701020', 'ALS__CGND-HDA-02306__12-182-64', 'ALS__CGND-HDA-03066__NEUGU437VNF', 'aals-ALS__CGND-HDA-01374__NEUHG644RYB', 'aals-ALS__CGND-HDA-01197__NEULH729AU2', 'ALS__CGND-HDA-02953__AIM701074', 'aals-ALS__CGND-HDA-00588__NEUMD869UV7', 'aals-ALS__CGND-HDA-02434__NEUEF261XG0', 'ALS__CGND-HDA-01119__276-11U-2', 'aals-ALS__CGND-HDA-01156__NEUBC901KL3', 'aals-ALS__CGND-HDA-01066__NEUHM532NDD', 'aals-ALS__CGND-HDA-04067__NEUJA207UUV', 'ALS__CGND-HDA-01742__TD-ALS-43', 'ALS__CGND-HDA-04039__NEUXB638VWD', 'ALS__CGND-HDA-00728__MH-WASHU-106', 'ALS__CGND-HDA-04042__NEUUC033CCY', 'aals-ALS__CGND-HDA-00445__NEUMH634MKT', 'aals-ALS__CGND-HDA-01333__NEURU817WKT', 'aals-ALS__CGND-HDA-03841__NEUDU469WAA', 'ALS__CGND-HDA-02418__90-056-45', 'ALS__CGND-HDA-02135__PF-BLT-19', 'ALS__CGND-HDA-02914__AIM701021', 'ALS__CGND-HDA-04040__NEUPX734FKW', 'aals-ALS__CGND-HDA-03873__NEUPB134NG4', 'ALS__CGND-HDA-02458__UP-WGS-232', 'ALS__CGND-HDA-03627__NSTTX6XNN7J1', 'aals-ALS__CGND-HDA-02584__NEUFE455EX1', 'ALS__CGND-HDA-02674__UP-WGS-429', 'ALS__CGND-HDA-02625__UP-WGS-380', 'ALS__CGND-HDA-02025__EC04', 'aals-ALS__CGND-HDA-04084__NEUHZ364FZW', 'ALS__CGND-HDA-01591__UP-WGS-069', 'ALS__CGND-HDA-00485__JHU24', 'ALS__CGND-HDA-00821__MH-WASHU-199', 'ALS__CGND-HDA-01808__TD-ALS-96', 'ALS__CGND-HDA-00784__MH-WASHU-162', 'ALS__CGND-HDA-02603__UP-WGS-358', 'ALS__CGND-HDA-03474__NEUPG418CYK', 'aals-ALS__CGND-HDA-03572__NEUDL178NN9', 'ALS__CGND-HDA-00275__2129ALS', 'ALS__CGND-HDA-03851__NEUFL912GNF', 'ALS__CGND-HDA-03690__NEUKH402MA5', 'ALS__CGND-HDA-02641__UP-WGS-396', 'ALS__CGND-HDA-00818__MH-WASHU-196', 'ALS__CGND-HDA-00757__MH-WASHU-135', 'ALS__CGND-HDA-00769__MH-WASHU-147', 'ALS__CGND-HDA-02556__86-011-26', 'ALS__CGND-HDA-02915__AIM701023', 'ALS__CGND-HDA-01627__UP-WGS-105', 'ALS__CGND-HDA-01678__UP-WGS-156', 'ALS__CGND-HDA-01507__NEUUC709RJW', 'ALS__CGND-HDA-01444__NEUNM418GRC', 'ALS__CGND-HDA-03973__NEUCJ782FWF', 'ALS__CGND-HDA-03037__UP-WGS-510', 'ALS__CGND-HDA-00056__UP-WGS-239', 'ALS__CGND-HDA-03501__NEUUG749KZH', 'aals-ALS__CGND-HDA-03559__NEUPX136DAP', 'ALS__CGND-HDA-02288__13-190-33', 'ALS__CGND-HDA-01824__TD-ALS-129', 'aals-ALS__CGND-HDA-03068__NEUXX361RUG', 'ALS__CGND-HDA-02254__NEUMG708VB0', 'ALS__CGND-HDA-02664__UP-WGS-419', 'ALS__CGND-HDA-02199__PF-TST-7', 'ALS__CGND-HDA-01299__EC22', 'ALS__CGND-HDA-02594__UP-WGS-349', 'ALS__CGND-HDA-01504__NEUTG934CG7', 'aals-ALS__CGND-HDA-03606__NEURL097AJX', 'aals-ALS__CGND-HDA-03200__NEUJW320MEC', 'ALS__CGND-HDA-01630__UP-WGS-108', 'ALS__CGND-HDA-00026__UP-WGS-209', 'ALS__CGND-HDA-02302__11-177-53', 'ALS__CGND-HDA-01720__TD-ALS-57', 'ALS__CGND-HDA-02601__UP-WGS-356', 'ALS__CGND-HDA-02274__15-213-15', 'ALS__CGND-HDA-00294__2150ALS', 'ALS__CGND-HDA-04047__NEUKW580AKZ', 'aals-ALS__CGND-HDA-04085__NEUXZ486GG5', 'aals-ALS__CGND-HDA-03078__NEUZX663FZ2', 'aals-ALS__CGND-HDA-03449__NEUAN180JPP', 'ALS__CGND-HDA-03686__NEUPY156NER', 'aals-ALS__CGND-HDA-00207__NEUTA057AF6', 'ALS__CGND-HDA-02392__87-017-42', 'ALS__CGND-HDA-00978__NEUEJ292ADT', 'ALS__CGND-HDA-02313__05-156-09', 'aals-ALS__CGND-HDA-04052__NEUCU166PBM', 'ALS__CGND-HDA-00289__334ALS', 'ALS__CGND-HDA-03714__NEUZW014AUH', 'aals-ALS__CGND-HDA-03872__NEUHC863KN9', 'ALS__CGND-HDA-01224__NEUUM419GYB', 'ALS__CGND-HDA-00801__MH-WASHU-179', 'ALS__CGND-HDA-00891__MH-WASHU-269', 'ALS__CGND-HDA-00935__MH-WASHU-313', 'ALS__CGND-HDA-01845__TD-ALS-107', 'ALS__CGND-HDA-02212__PF-TST-20', 'aals-ALS__CGND-HDA-01165__NEUEU558MNK', 'ALS__CGND-HDA-00288__63ALS', 'aals-ALS__CGND-HDA-01199__NEUVT116TUZ', 'ALS__CGND-HDA-02023__EC01', 'ALS__CGND-HDA-02125__PF-BLT-9', 'ALS__CGND-HDA-02129__PF-BLT-13', 'aals-ALS__CGND-HDA-03847__NEUBK121AZ3', 'ALS__CGND-HDA-03506__NEUEY584FV5', 'ALS__CGND-HDA-02357__90-064-30', 'ALS__CGND-HDA-02665__UP-WGS-420', 'aals-ALS__CGND-HDA-00583__NEUAB000NKC', 'aals-ALS__CGND-HDA-01405__NEUWL486NRA', 'ALS__CGND-HDA-00297__2193ALS', 'aals-ALS__CGND-HDA-03724__NEUBB912KYG', 'aals-ALS__CGND-HDA-03884__NEUAE810KF7', 'ALS__CGND-HDA-00985__NEUAP673FY9', 'ALS__CGND-HDA-00119__UP-WGS-304', 'aals-ALS__CGND-HDA-00454__NEUUC458RFT', 'aals-ALS__CGND-HDA-01190__NEUVN746WKV', 'ALS__CGND-HDA-01024__NEUBP318XE9', 'ALS__CGND-HDA-02650__UP-WGS-405', 'ALS__CGND-HDA-02211__PF-TST-19', 'aals-ALS__CGND-HDA-02698__NEUAL614GYB', 'ALS__CGND-HDA-02034__EC20', 'ALS__CGND-HDA-04022__TD-ALS-187', 'ALS__CGND-HDA-02477__NEUTT995TJU', 'ALS__CGND-HDA-00944__53387BL1', 'aals-ALS__CGND-HDA-01155__NEULG248HGW', 'ALS__CGND-HDA-00040__UP-WGS-223', 'ALS__CGND-HDA-03638__NST201VE7312', 'ALS__CGND-HDA-00668__MH-WASHU-46', 'ALS__CGND-HDA-04009__TD-ALS-174', 'ALS__CGND-HDA-00941__53384BL1', 'aals-ALS__CGND-HDA-02707__NEUCG029WWD', 'ALS__CGND-HDA-00031__UP-WGS-214', 'ALS__CGND-HDA-01782__TD-ALS-78', 'aals-ALS__CGND-HDA-01370__NEUEM720BUU', 'ALS__CGND-HDA-03015__UP-WGS-488', 'aals-ALS__CGND-HDA-03158__NEUJV881LPP', 'aals-ALS__CGND-HDA-03802__NEUYJ400MGQ', 'ALS__CGND-HDA-00083__UP-WGS-267', 'ALS__CGND-HDA-03513__NEUPC908CJL', 'aals-ALS__CGND-HDA-01064__NEUBD288RXQ', 'ALS__CGND-HDA-02214__PF-TST-22', 'aals-ALS__CGND-HDA-02433__NEUCW678DB0', 'aals-ALS__CGND-HDA-02224__NEUWD946RDA', 'ALS__CGND-HDA-02958__AIM701080', 'ALS__CGND-HDA-03696__NEUBZ354DBH', 'ALS__CGND-HDA-00873__MH-WASHU-251', 'ALS__CGND-HDA-01046__NEUCY301FWJ', 'ALS__CGND-HDA-02308__09-164-55', 'aals-ALS__CGND-HDA-03879__NEUJB072YJY', 'ALS__CGND-HDA-03404__NEUNP665GKL', 'ALS__CGND-HDA-02957__AIM701078', 'ALS__CGND-HDA-01848__TD-ALS-131', 'ALS__CGND-HDA-01882__TD-ALS-118', 'aals-ALS__CGND-HDA-02236__NEUYY225MNZ', 'ALS__CGND-HDA-03043__UP-WGS-516', 'ALS__CGND-HDA-01539__UP-WGS-017', 'ALS__CGND-HDA-02329__96-119-66', 'ALS__CGND-HDA-00875__MH-WASHU-253', 'ALS__CGND-HDA-01701__NEUFE255AG2', 'ALS__CGND-HDA-00669__MH-WASHU-47', 'ALS__CGND-HDA-01659__UP-WGS-137', 'ALS__CGND-HDA-00868__MH-WASHU-246', 'aals-ALS__CGND-HDA-00587__NEURX315DYH', 'ALS__CGND-HDA-02369__90-061-77', 'aals-ALS__CGND-HDA-01391__NEUZJ053JGZ', 'ALS__CGND-HDA-01233__NEUWP942PCU', 'ALS__CGND-HDA-03492__NEUNR517RVD', 'ALS__CGND-HDA-00794__MH-WASHU-172', 'ALS__CGND-HDA-01687__UP-WGS-165', 'ALS__CGND-HDA-02160__PF-UCH-22', 'aals-ALS__CGND-HDA-01166__NEUEU318NY2', 'aals-ALS__CGND-HDA-02066__NEUAE431CGV', 'ALS__CGND-HDA-00024__UP-WGS-207', 'ALS__CGND-HDA-01137__NEUYP152RN5', 'aals-ALS__CGND-HDA-00605__NEURA124CXX', 'ALS__CGND-HDA-02721__PF-UCL-8', 'aals-ALS__CGND-HDA-01350__NEUAP001MK0', 'aals-ALS__CGND-HDA-03731__NEUBD027FAX', 'aals-ALS__CGND-HDA-03881__NEUFE433EVT', 'ALS__CGND-HDA-03983__NEUXU527JXG', 'ALS__CGND-HDA-03644__NSTVRBJECNXP', 'ALS__CGND-HDA-02253__NEUCP900RTQ', 'ALS__CGND-HDA-00906__MH-WASHU-284', 'ALS__CGND-HDA-00899__MH-WASHU-277', 'aals-ALS__CGND-HDA-03614__NEUKE913AHM', 'aals-ALS__CGND-HDA-03912__NEUDL910BAN', 'ALS__CGND-HDA-01635__UP-WGS-113', 'ALS__CGND-HDA-02150__PF-UCH-12', 'ALS__CGND-HDA-02177__PF-UCH-39', 'aals-ALS__CGND-HDA-00581__NEUVR636VTP', 'aals-ALS__CGND-HDA-01354__NEUWD781PHK', 'ALS__CGND-HDA-01217__NEUJC448HBQ', 'aals-ALS__CGND-HDA-01345__NEUCP068CPY', 'ALS__CGND-HDA-00833__MH-WASHU-211', 'ALS__CGND-HDA-00261__1068ALS', 'ALS__CGND-HDA-01579__UP-WGS-057', 'ALS__CGND-HDA-02387__88-039-17', 'ALS__CGND-HDA-02413__98-130-70', 'aals-ALS__CGND-HDA-03815__NEUAP460GUX', 'ALS__CGND-HDA-00300__2240ALS', 'ALS__CGND-HDA-02777__PF-UCL-64', 'ALS__CGND-HDA-03976__NEUYW510RCG', 'ALS__CGND-HDA-01497__NEUMU998TT8', 'ALS__CGND-HDA-00534__JHU73', 'ALS__CGND-HDA-03010__UP-WGS-483', 'aals-ALS__CGND-HDA-02243__NEUUU506WZF', 'aals-ALS__CGND-HDA-01399__NEUDF797UTQ', 'ALS__CGND-HDA-00659__MH-WASHU-37', 'aals-ALS__CGND-HDA-03830__NEUCV643UV8', 'aals-ALS__CGND-HDA-03728__NEUJG344BTU', 'ALS__CGND-HDA-00923__MH-WASHU-301', 'ALS__CGND-HDA-01104__276-11-11', 'aals-ALS__CGND-HDA-03826__NEUFZ835ZG5', 'ALS__CGND-HDA-01719__TD-ALS-49', 'ALS__CGND-HDA-00262__980ALS', 'ALS__CGND-HDA-02666__UP-WGS-421', 'ALS__CGND-HDA-02311__09-166-00', 'ALS__CGND-HDA-00845__MH-WASHU-223', 'ALS__CGND-HDA-01006__NEUJU624DN8', 'ALS__CGND-HDA-02251__NEUNG032CTD', 'aals-ALS__CGND-HDA-00256__NEUGW326BRV', 'ALS__CGND-HDA-02120__PF-BLT-4', 'aals-ALS__CGND-HDA-01082__NEUME929BY2', 'ALS__CGND-HDA-00349__631ALS', 'ALS__CGND-HDA-00743__MH-WASHU-121', 'ALS__CGND-HDA-01897__TD-ALS-143', 'ALS__CGND-HDA-03469__NEUJU750NM4', 'ALS__CGND-HDA-00440__NEUVU845ZAB', 'ALS__CGND-HDA-00863__MH-WASHU-241', 'ALS__CGND-HDA-00552__NEUNL974RU6', 'ALS__CGND-HDA-00788__MH-WASHU-166', 'ALS__CGND-HDA-02277__16-222-00', 'ALS__CGND-HDA-00716__MH-WASHU-94', 'ALS__CGND-HDA-03435__NEURX488EZE', 'ALS__CGND-HDA-01231__NEUFG859KY9', 'ALS__CGND-HDA-04041__NEUZN534BRL', 'ALS__CGND-HDA-01409__NEUXT323GKR', 'aals-ALS__CGND-HDA-01351__NEUJR229JXC', 'ALS__CGND-HDA-02278__15-214-17', 'aals-ALS__CGND-HDA-02227__NEUMN219VGE', 'aals-ALS__CGND-HDA-03092__NEUFD119MT2', 'ALS__CGND-HDA-03434__NEUVP540DK1', 'ALS__CGND-HDA-00825__MH-WASHU-203', 'ALS__CGND-HDA-03038__UP-WGS-511', 'ALS__CGND-HDA-02356__92-080-08', 'aals-ALS__CGND-HDA-03151__NEUFG869YDY', 'ALS__CGND-HDA-00533__JHU72', 'ALS__CGND-HDA-00146__UP-WGS-332', 'ALS__CGND-HDA-03025__UP-WGS-498', 'ALS__CGND-HDA-00990__NEUTD254HL0', 'ALS__CGND-HDA-00699__MH-WASHU-77', 'ALS__CGND-HDA-02743__PF-UCL-30', 'aals-ALS__CGND-HDA-03828__NEUWM628UNA', 'ALS__CGND-HDA-00310__1170ALS', 'ALS__CGND-HDA-02096__NEUTA504MLR', 'ALS__CGND-HDA-02419__91-073-44', 'ALS__CGND-HDA-00674__MH-WASHU-52', 'ALS__CGND-HDA-00782__MH-WASHU-160', 'ALS__CGND-HDA-00309__1071ALS', 'ALS__CGND-HDA-00348__577ALS', 'ALS__CGND-HDA-01649__UP-WGS-127', 'ALS__CGND-HDA-01102__276-11-9', 'ALS__CGND-HDA-02322__02-147-59', 'ALS__CGND-HDA-04091__NEUHF998PCY', 'ALS__CGND-HDA-02152__PF-UCH-14', 'ALS__CGND-HDA-00021__UP-WGS-204', 'ALS__CGND-HDA-00948__53392BL1', 'ALS__CGND-HDA-01826__TD-ALS-145', 'ALS__CGND-HDA-02321__02-146-39', 'ALS__CGND-HDA-02739__PF-UCL-26', 'ALS__CGND-HDA-03008__UP-WGS-481', 'ALS__CGND-HDA-01101__276-11-8', 'ALS__CGND-HDA-02136__PF-BLT-20', 'ALS__CGND-HDA-00072__UP-WGS-256', 'ALS__CGND-HDA-01850__TD-ALS-147', 'ALS__CGND-HDA-01775__TD-ALS-22', 'ALS__CGND-HDA-04002__TD-ALS-167', 'aals-ALS__CGND-HDA-01236__NEUWD538KT3', 'ALS__CGND-HDA-04049__NEURN540KF7', 'aals-ALS__CGND-HDA-01085__NEUVW680LPK', 'aals-ALS__CGND-HDA-01187__NEUBD062TJV', 'aals-ALS__CGND-HDA-04073__NEUBZ512CWM', 'ALS__CGND-HDA-01480__NEUDR038LNC', 'ALS__CGND-HDA-01508__NEUUN213DJ0', 'ALS__CGND-HDA-00700__MH-WASHU-78', 'ALS__CGND-HDA-02151__PF-UCH-13', 'ALS__CGND-HDA-01696__NEUEF856BLV', 'aals-ALS__CGND-HDA-03452__NEUVR711TBR', 'aals-ALS__CGND-HDA-03812__NEUGU451ALG', 'ALS__CGND-HDA-00558__NEURJ387PPV', 'ALS__CGND-HDA-02249__NEUGC551LMK', 'ALS__CGND-HDA-01685__UP-WGS-163', 'ALS__CGND-HDA-02647__UP-WGS-402', 'ALS__CGND-HDA-00156__UP-WGS-343', 'ALS__CGND-HDA-00910__MH-WASHU-288', 'ALS__CGND-HDA-01859__TD-ALS-124', 'aals-ALS__CGND-HDA-03077__NEUYF703CW4', 'ALS__CGND-HDA-00323__820ALS', 'ALS__CGND-HDA-00886__MH-WASHU-264', 'ALS__CGND-HDA-00578__NEUVB400FVF', 'ALS__CGND-HDA-00125__UP-WGS-310', 'ALS__CGND-HDA-01620__UP-WGS-098', 'ALS__CGND-HDA-02102__PF-BUH-5', 'ALS__CGND-HDA-02144__PF-UCH-6', 'ALS__CGND-HDA-02118__PF-BLT-2', 'ALS__CGND-HDA-00008__UP-WGS-191', 'aals-ALS__CGND-HDA-03732__NEUEB084YHX', 'aals-ALS__CGND-HDA-00449__NEUCU076ADN', 'ALS__CGND-HDA-03064__UP-WGS-537', 'aals-ALS__CGND-HDA-00452__NEUDT709YHN', 'ALS__CGND-HDA-02765__PF-UCL-52', 'aals-ALS__CGND-HDA-00202__NEUJY426MBU', 'aals-ALS__CGND-HDA-01161__NEUXG265ME9', 'aals-ALS__CGND-HDA-01358__NEUDE902GCT', 'ALS__CGND-HDA-03635__NST4DA6ZEL37', 'ALS__CGND-HDA-01707__JK-UM-5549', 'ALS__CGND-HDA-02885__NEUBV451NTY', 'aals-ALS__CGND-HDA-00580__NEURX909UL6', 'aals-ALS__CGND-HDA-04072__NEUHR014RCJ', 'ALS__CGND-HDA-00937__MH-WASHU-315', 'ALS__CGND-HDA-02640__UP-WGS-395', 'aals-ALS__CGND-HDA-01242__NEUWU490MJN', 'aals-ALS__CGND-HDA-03193__NEUNP062VBA', 'ALS__CGND-HDA-01896__TD-ALS-135', 'ALS__CGND-HDA-03056__UP-WGS-529', 'aals-ALS__CGND-HDA-04083__NEURN392PGA', 'aals-ALS__CGND-HDA-01275__NEUKR376CW3', 'ALS__CGND-HDA-00059__UP-WGS-243', 'ALS__CGND-HDA-01772__TD-ALS-93', 'aals-ALS__CGND-HDA-01077__NEUAJ271CF8', 'ALS__CGND-HDA-02508__NEUVV649FB0', 'ALS__CGND-HDA-01544__UP-WGS-022', 'aals-ALS__CGND-HDA-01194__NEULJ823EJD', 'ALS__CGND-HDA-03419__NEUXM419XNL', 'ALS__CGND-HDA-00074__UP-WGS-258', 'ALS__CGND-HDA-00480__JHU19', 'ALS__CGND-HDA-03262__NEUKV592NUT', 'ALS__CGND-HDA-00809__MH-WASHU-187', 'ALS__CGND-HDA-01573__UP-WGS-051', 'ALS__CGND-HDA-02940__AIM701060', 'ALS__CGND-HDA-00995__NEUZK416TYQ', 'ALS__CGND-HDA-02384__87-026-74', 'ALS__CGND-HDA-03460__NEUVF426KTR', 'aals-ALS__CGND-HDA-03619__NEUKW687JAG', 'aals-ALS__CGND-HDA-00446__NEUBY734PFR', 'aals-ALS__CGND-HDA-01393__NEUVA826NPN', 'aals-ALS__CGND-HDA-01052__NEUBZ634KH5', 'ALS__CGND-HDA-00071__UP-WGS-255', 'ALS__CGND-HDA-02717__PF-UCL-4', 'ALS__CGND-HDA-03439__NEUMU262XY2', 'ALS__CGND-HDA-02909__AIM701016', 'ALS__CGND-HDA-01097__276-11-4', 'ALS__CGND-HDA-02105__PF-BUH-8', 'aals-ALS__CGND-HDA-03210__NEUHZ728ZN4', 'ALS__CGND-HDA-02412__98-132-80', 'ALS__CGND-HDA-00277__2140ALS', 'aals-ALS__CGND-HDA-00450__NEULC312VXR', 'aals-ALS__CGND-HDA-03550__NEULK561EBB', 'aals-ALS__CGND-HDA-01087__NEUPN525XEW', 'ALS__CGND-HDA-00721__MH-WASHU-99', 'ALS__CGND-HDA-01757__TD-ALS-68', 'ALS__CGND-HDA-00308__158ALS', 'ALS__CGND-HDA-02358__92-081-09', 'aals-ALS__CGND-HDA-01060__NEUYA428KJM', 'ALS__CGND-HDA-01872__TD-ALS-133', 'ALS__CGND-HDA-01312__NEUWZ373ZHA', 'ALS__CGND-HDA-03715__NEUGF432KT6', 'aals-ALS__CGND-HDA-03722__NEUBR543CRA', 'ALS__CGND-HDA-00989__NEUYG534ZJX', 'aals-ALS__CGND-HDA-01234__NEUHZ302VU4', 'ALS__CGND-HDA-02115__PF-BUH-18', 'aals-ALS__CGND-HDA-03447__NEUNN133RU8', 'ALS__CGND-HDA-03429__NEUXM438HEF', 'ALS__CGND-HDA-01010__NEUUJ360YN5', 'aals-ALS__CGND-HDA-03569__NEUHX507MJ2', 'aals-ALS__CGND-HDA-03907__NEUWL332ME2', 'ALS__CGND-HDA-03503__NEUXE417VCU', 'ALS__CGND-HDA-02416__97-126-29', 'aals-ALS__CGND-HDA-00611__NEUJP437YZ0', 'aals-ALS__CGND-HDA-01243__NEUNK608PYW', 'aals-ALS__CGND-HDA-03803__NEUWN348XMR', 'ALS__CGND-HDA-01422__NEUZA391NER', 'aals-ALS__CGND-HDA-01071__NEUBK117YXL', 'ALS__CGND-HDA-02279__15-212-81', 'ALS__CGND-HDA-03929__NEUHC994KV4', 'ALS__CGND-HDA-02365__91-072-76', 'ALS__CGND-HDA-00730__MH-WASHU-108', 'ALS__CGND-HDA-02061__NEURN516YR8', 'aals-ALS__CGND-HDA-03577__NEUAG205VLA', 'ALS__CGND-HDA-00811__MH-WASHU-189', 'ALS__CGND-HDA-02107__PF-BUH-10', 'ALS__CGND-HDA-02310__10-168-86', 'ALS__CGND-HDA-03933__NEUKH671TD4', 'ALS__CGND-HDA-00882__MH-WASHU-260', 'aals-ALS__CGND-HDA-04062__NEUKD887WR2', 'ALS__CGND-HDA-00314__162ALS', 'ALS__CGND-HDA-02978__UP-WGS-451', 'ALS__CGND-HDA-00878__MH-WASHU-256', 'ALS__CGND-HDA-03629__NST2RDZ09ED9', 'aals-ALS__CGND-HDA-01383__NEUFH122WN7', 'ALS__CGND-HDA-00738__MH-WASHU-116', 'ALS__CGND-HDA-01571__UP-WGS-049', 'ALS__CGND-HDA-02662__UP-WGS-417', 'ALS__CGND-HDA-01168__NEUMG177JRW', 'aals-ALS__CGND-HDA-02426__NEURK461HU0', 'aals-ALS__CGND-HDA-00241__NEUMY871DGF', 'ALS__CGND-HDA-00872__MH-WASHU-250', 'aals-ALS__CGND-HDA-01057__NEULA777DBT', 'ALS__CGND-HDA-02104__PF-BUH-7', 'ALS__CGND-HDA-01513__NEUWB476BZ0', 'ALS__CGND-HDA-02113__PF-BUH-16', 'aals-ALS__CGND-HDA-02216__NEUXP289KRC', 'ALS__CGND-HDA-00969__53421BL1', 'ALS__CGND-HDA-02372__90-055-32', 'ALS__CGND-HDA-00883__MH-WASHU-261', 'ALS__CGND-HDA-00264__1389ALS', 'ALS__CGND-HDA-01787__TD-ALS-23', 'ALS__CGND-HDA-02974__UP-WGS-447', 'aals-ALS__CGND-HDA-03914__NEUCV716TRJ', 'ALS__CGND-HDA-01736__TD-ALS-90', 'ALS__CGND-HDA-02570__13-197-56', 'ALS__CGND-HDA-00723__MH-WASHU-101', 'ALS__CGND-HDA-02922__AIM701030', 'ALS__CGND-HDA-03639__NSTZHNVHCU0N', 'ALS__CGND-HDA-02159__PF-UCH-21', 'aals-ALS__CGND-HDA-03536__NEUAK954ETX', 'ALS__CGND-HDA-01114__276-11-21', 'ALS__CGND-HDA-01838__TD-ALS-146', 'ALS__CGND-HDA-02194__PF-TST-2', 'ALS__CGND-HDA-00437__NEUCW023RKE', 'ALS__CGND-HDA-03853__NEUFC598LP9', 'ALS__CGND-HDA-01874__TD-ALS-149', 'ALS__CGND-HDA-00322__650ALS', 'aals-ALS__CGND-HDA-03824__NEUUW596MHC', 'ALS__CGND-HDA-02551__88-037-64', 'aals-ALS__CGND-HDA-03544__NEURT008RBN', 'ALS__CGND-HDA-00905__MH-WASHU-283', 'ALS__CGND-HDA-02348__92-093-59', 'ALS__CGND-HDA-01050__NEUPG015LVT', 'ALS__CGND-HDA-03676__NEUJA576RP1', 'aals-ALS__CGND-HDA-00448__NEUZW744ZCD', 'ALS__CGND-HDA-01800__TD-ALS-32', 'ALS__CGND-HDA-00022__UP-WGS-205', 'ALS__CGND-HDA-02661__UP-WGS-416', 'ALS__CGND-HDA-02063__NEULN488RD5', 'ALS__CGND-HDA-00030__UP-WGS-213', 'aals-ALS__CGND-HDA-01193__NEUGV094EZH', 'ALS__CGND-HDA-02275__16-219-14', 'ALS__CGND-HDA-03637__NSTDT81FYZJQ', 'ALS__CGND-HDA-00827__MH-WASHU-205', 'ALS__CGND-HDA-00647__MH-WASHU-25', 'ALS__CGND-HDA-01572__UP-WGS-050', 'ALS__CGND-HDA-00319__431ALS', 'ALS__CGND-HDA-01856__TD-ALS-100', 'ALS__CGND-HDA-03273__NEUTC651YRK', 'ALS__CGND-HDA-02395__86-013-14', 'ALS__CGND-HDA-03383__NEUBE992ZD1', 'ALS__CGND-HDA-01111__276-11-19', 'ALS__CGND-HDA-03410__NEUNX393UH1', 'ALS__CGND-HDA-03436__NEUZF183UCU', 'ALS__CGND-HDA-01421__NEUAZ330TM4', 'ALS__CGND-HDA-01298__EC21', 'ALS__CGND-HDA-01116__276-11-23', 'ALS__CGND-HDA-00296__1304ALS', 'ALS__CGND-HDA-00651__MH-WASHU-29', 'ALS__CGND-HDA-01047__NEU_INVAB547EJY', 'ALS__CGND-HDA-02948__NEUKY704JVA', 'ALS__CGND-HDA-02453__UP-WGS-227', 'ALS__CGND-HDA-02623__UP-WGS-378', 'aals-ALS__CGND-HDA-00456__NEULP998KDJ', 'aals-ALS__CGND-HDA-03605__NEUPJ681DUM', 'aals-ALS__CGND-HDA-01344__NEUNP157FRQ', 'ALS__CGND-HDA-03477__NEUYE940AH3', 'aals-ALS__CGND-HDA-03891__NEULV054MPD', 'ALS__CGND-HDA-00756__MH-WASHU-134', 'aals-ALS__CGND-HDA-03723__NEUWA534ECE', 'ALS__CGND-HDA-02769__PF-UCL-56', 'aals-ALS__CGND-HDA-04077__NEUAT541XCN', 'ALS__CGND-HDA-02290__13-195-03', 'ALS__CGND-HDA-02655__UP-WGS-410', 'ALS__CGND-HDA-02130__PF-BLT-14', 'ALS__CGND-HDA-01752__TD-ALS-28', 'aals-ALS__CGND-HDA-03725__NEUVV152TG3', 'ALS__CGND-HDA-02668__UP-WGS-423', 'aals-ALS__CGND-HDA-00237__NEUAL127HHC', 'aals-ALS__CGND-HDA-01459__NEUBK087AYY', 'ALS__CGND-HDA-02992__UP-WGS-465', 'ALS__CGND-HDA-00471__JHU10', 'ALS__CGND-HDA-01783__TD-ALS-86', 'ALS__CGND-HDA-01038__NEUMM250RYW', 'ALS__CGND-HDA-03433__NEUWL413UL1', 'ALS__CGND-HDA-00579__NEUZZ766ZC5', 'ALS__CGND-HDA-02648__UP-WGS-403', 'ALS__CGND-HDA-01294__EC11', 'aals-ALS__CGND-HDA-01086__NEUAX665ZHY', 'aals-ALS__CGND-HDA-03720__NEUFF278LJX', 'ALS__CGND-HDA-02593__UP-WGS-348', 'ALS__CGND-HDA-02050__NEUGD887RT1', 'ALS__CGND-HDA-00828__MH-WASHU-206', 'ALS__CGND-HDA-01018__NEULZ935LY3', 'ALS__CGND-HDA-03687__NEUYL380KNJ', 'aals-ALS__CGND-HDA-04071__NEUCD063FGD', 'aals-ALS__CGND-HDA-00455__NEUMP208GXK', 'aals-ALS__CGND-HDA-03616__NEUEP809TA7', 'ALS__CGND-HDA-02561__93-094-34', 'aals-ALS__CGND-HDA-03800__NEURZ753PLH', 'ALS__CGND-HDA-01292__EC09', 'ALS__CGND-HDA-01014__NEUBB519WKB', 'ALS__CGND-HDA-02898__NEUKL822APJ', 'ALS__CGND-HDA-00662__MH-WASHU-40', 'ALS__CGND-HDA-03992__TD-ALS-157', 'ALS__CGND-HDA-00930__NEUGW340YEB', 'aals-ALS__CGND-HDA-03922__NEUEN831XWT', 'ALS__CGND-HDA-03415__NEUER626URE', 'ALS__CGND-HDA-02026__EC05', 'ALS__CGND-HDA-02907__AIM701014', 'ALS__CGND-HDA-02731__PF-UCL-18', 'ALS__CGND-HDA-03850__NEUAZ924KZ1', 'aals-ALS__CGND-HDA-01382__NEUPD275VTQ', 'ALS__CGND-HDA-02642__UP-WGS-397', 'aals-ALS__CGND-HDA-03808__NEUMK892DG5', 'ALS__CGND-HDA-00876__MH-WASHU-254', 'ALS__CGND-HDA-00658__MH-WASHU-36', 'ALS__CGND-HDA-02353__92-089-01', 'ALS__CGND-HDA-02574__NEUJL308UBK', 'ALS__CGND-HDA-02638__UP-WGS-393', 'ALS__CGND-HDA-03467__NEULX665RPX', 'ALS__CGND-HDA-00696__MH-WASHU-74', 'ALS__CGND-HDA-02959__AIM701081', 'ALS__CGND-HDA-03703__NEUHJ629PC9', 'ALS__CGND-HDA-03995__TD-ALS-160', 'ALS__CGND-HDA-00524__JHU63', 'ALS__CGND-HDA-04014__TD-ALS-179', 'ALS__CGND-HDA-02332__95-110-57', 'aals-ALS__CGND-HDA-02708__NEUCK797MM3', 'ALS__CGND-HDA-02325__96-121-02', 'ALS__CGND-HDA-00566__NEUWL993GU2', 'aals-ALS__CGND-HDA-02234__NEUKA429GAC', 'ALS__CGND-HDA-00657__MH-WASHU-35', 'aals-ALS__CGND-HDA-01090__NEUCB613CA9', 'ALS__CGND-HDA-01514__NEUXD636HL3', 'ALS__CGND-HDA-00996__53449BL1', 'ALS__CGND-HDA-00293__1205ALS', 'ALS__CGND-HDA-01001__NEUHM399CBL', 'ALS__CGND-HDA-00813__MH-WASHU-191', 'ALS__CGND-HDA-01570__UP-WGS-048', 'ALS__CGND-HDA-02367__90-063-21', 'ALS__CGND-HDA-00870__MH-WASHU-248', 'ALS__CGND-HDA-02646__UP-WGS-401', 'ALS__CGND-HDA-00715__MH-WASHU-93', 'aals-ALS__CGND-HDA-01198__NEUHZ576HVZ', 'aals-ALS__CGND-HDA-03885__NEUUK960PF7', 'aals-ALS__CGND-HDA-01084__NEUZT557DHF', 'aals-ALS__CGND-HDA-01188__NEULA896YE1', 'aals-ALS__CGND-HDA-01289__NEUGU254CLF', 'ALS__CGND-HDA-00682__MH-WASHU-60', 'aals-ALS__CGND-HDA-01287__NEUJG311WGV', 'ALS__CGND-HDA-02654__UP-WGS-409', 'ALS__CGND-HDA-00916__NEUJY536DKF', 'ALS__CGND-HDA-02924__AIM701034', 'aals-ALS__CGND-HDA-04069__NEUEA668FYK', 'aals-ALS__CGND-HDA-02494__NEULC153TP4', 'aals-ALS__CGND-HDA-02221__NEUAE228FF6', 'ALS__CGND-HDA-03139__NEUAY902BMP', 'ALS__CGND-HDA-00303__2247ALS', 'ALS__CGND-HDA-00514__JHU53', 'aals-ALS__CGND-HDA-00602__NEUHB491NGF', 'aals-ALS__CGND-HDA-00614__NEUAJ481YYX', 'ALS__CGND-HDA-03053__UP-WGS-526', 'ALS__CGND-HDA-02331__95-112-41', 'ALS__CGND-HDA-02114__PF-BUH-17', 'ALS__CGND-HDA-00344__385ALS', 'ALS__CGND-HDA-00354__722ALS', 'ALS__CGND-HDA-01139__NEUYP965GUP', 'aals-ALS__CGND-HDA-02581__NEUHL096UF0', 'aals-ALS__CGND-HDA-03076__NEUKU894PHF', 'aals-ALS__CGND-HDA-03547__NEUYR003PHD', 'ALS__CGND-HDA-00337__127ALS', 'aals-ALS__CGND-HDA-03625__NEUMU529BNK', 'ALS__CGND-HDA-00281__2160ALS', 'ALS__CGND-HDA-00504__JHU43', 'aals-ALS__CGND-HDA-02064__NEUTJ613AH9', 'aals-ALS__CGND-HDA-03882__NEURG115XK8', 'ALS__CGND-HDA-00957__53401BL1', 'aals-ALS__CGND-HDA-04059__NEUJH152CX9', 'aals-ALS__CGND-HDA-00247__NEUVJ560JGZ', 'ALS__CGND-HDA-01624__UP-WGS-102', 'ALS__CGND-HDA-02624__UP-WGS-379', 'aals-ALS__CGND-HDA-00258__NEUAG766ULB', 'aals-ALS__CGND-HDA-04082__NEUTB997GDW', 'ALS__CGND-HDA-03032__UP-WGS-505', 'aals-ALS__CGND-HDA-03086__NEUUZ691KHN', 'ALS__CGND-HDA-01726__TD-ALS-10', 'ALS__CGND-HDA-00951__53395BL1', 'ALS__CGND-HDA-00513__JHU52', 'ALS__CGND-HDA-01706__JK-UM-5776', 'ALS__CGND-HDA-03423__NEUFB470TAX', 'ALS__CGND-HDA-03678__NEUNC713HFR', 'ALS__CGND-HDA-03424__NEUAK140UDR', 'ALS__CGND-HDA-03047__UP-WGS-520', 'aals-ALS__CGND-HDA-01392__NEUDX018REC', 'ALS__CGND-HDA-01120__276-11-26', 'ALS__CGND-HDA-02637__UP-WGS-392', 'ALS__CGND-HDA-00802__MH-WASHU-180', 'ALS__CGND-HDA-02380__89-043-92', 'ALS__CGND-HDA-00360__125ALS', 'ALS__CGND-HDA-01600__UP-WGS-078', 'ALS__CGND-HDA-03981__NEUTV604UGP', 'aals-ALS__CGND-HDA-01260__NEUBB396KN5', 'aals-ALS__CGND-HDA-01206__NEULD729BGF', 'ALS__CGND-HDA-01300__EC24', 'ALS__CGND-HDA-02093__NEUKK209KJP', 'aals-ALS__CGND-HDA-00447__NEUGA946WMU'}\n",
              "</pre>\n"
            ],
            "text/plain": [
              "01:04:33.502 | \u001b[36mINFO\u001b[0m    | Flow run\u001b[35m 'lurking-lion'\u001b[0m - \n",
              "925 cases:\n",
              " {'ALS__CGND-HDA-01105__276-11-12', 'aals-ALS__CGND-HDA-00234__NEUZN836GME', 'aals-ALS__CGND-HDA-00617__NEUZP278MR4', 'aals-ALS__CGND-HDA-01062__NEUDJ536EVH', 'aals-ALS__CGND-HDA-02247__NEUTW892DWP', 'aals-ALS__CGND-HDA-04063__NEUJU951LU2', 'ALS__CGND-HDA-01109__276-11-17', 'ALS__CGND-HDA-02059__NEUUK517ZAW', 'ALS__CGND-HDA-00476__JHU15', 'aals-ALS__CGND-HDA-03924__NEUCJ833ZHZ', 'ALS__CGND-HDA-01318__NEUTP019MY9', 'ALS__CGND-HDA-02147__PF-UCH-9', 'ALS__CGND-HDA-02382__87-024-81', 'ALS__CGND-HDA-00754__MH-WASHU-132', 'ALS__CGND-HDA-02620__UP-WGS-375', 'aals-ALS__CGND-HDA-00254__NEUJX780XXK', 'aals-ALS__CGND-HDA-03809__NEUHF609CBU', 'aals-ALS__CGND-HDA-03542__NEUVG129BF1', 'ALS__CGND-HDA-00645__MH-WASHU-23', 'ALS__CGND-HDA-00713__MH-WASHU-91', 'ALS__CGND-HDA-03407__NEURT352AUG', 'aals-ALS__CGND-HDA-03574__NEUKM739PJW', 'aals-ALS__CGND-HDA-02432__NEUHH738YR2', 'ALS__CGND-HDA-02351__92-090-09', 'ALS__CGND-HDA-00332__2271ALS', 'ALS__CGND-HDA-04005__TD-ALS-170', 'aals-ALS__CGND-HDA-03839__NEUFD345LKY', 'ALS__CGND-HDA-01650__UP-WGS-128', 'ALS__CGND-HDA-00528__JHU67', 'ALS__CGND-HDA-00357__819ALS', 'ALS__CGND-HDA-00295__2225ALS', 'aals-ALS__CGND-HDA-01186__NEUGR539MVT', 'aals-ALS__CGND-HDA-01460__NEUVR406DA9', 'aals-ALS__CGND-HDA-03091__NEUNY196ABW', 'ALS__CGND-HDA-01790__TD-ALS-47', 'ALS__CGND-HDA-02145__PF-UCH-7', 'ALS__CGND-HDA-02564__88-040-32', 'aals-ALS__CGND-HDA-03923__NEUPE957BCD', 'ALS__CGND-HDA-02994__UP-WGS-467', 'ALS__CGND-HDA-01121__276-11U-3', 'ALS__CGND-HDA-03502__NEUXT750VKX', 'aals-ALS__CGND-HDA-02431__NEUYJ514VE0', 'ALS__CGND-HDA-03403__NEUCR719VFD', 'aals-ALS__CGND-HDA-03555__NEURV536AH8', 'aals-ALS__CGND-HDA-02699__NEUWZ822EZ3', 'ALS__CGND-HDA-02089__NEUWZ812JXY', 'aals-ALS__CGND-HDA-00206__NEUJA217MTJ', 'aals-ALS__CGND-HDA-03538__NEUBH354PP4', 'ALS__CGND-HDA-01798__TD-ALS-16', 'aals-ALS__CGND-HDA-03718__NEUDX561LX4', 'ALS__CGND-HDA-01141__NEUXN352UND', 'ALS__CGND-HDA-01595__UP-WGS-073', 'aals-ALS__CGND-HDA-03592__NEUFV408PPK', 'ALS__CGND-HDA-02284__14-200-25', 'ALS__CGND-HDA-02339__94-105-45', 'ALS__CGND-HDA-01721__TD-ALS-65', 'ALS__CGND-HDA-00503__JHU42', 'ALS__CGND-HDA-02578__NEUUF289NRL', 'ALS__CGND-HDA-00740__MH-WASHU-118', 'ALS__CGND-HDA-02124__PF-BLT-8', 'aals-ALS__CGND-HDA-01349__NEUEL515MZ3', 'ALS__CGND-HDA-00783__MH-WASHU-161', 'ALS__CGND-HDA-02422__03-151-16', 'ALS__CGND-HDA-02573__03-149-43', 'aals-ALS__CGND-HDA-01055__NEUBC998WWB', 'ALS__CGND-HDA-02935__AIM701054', 'ALS__CGND-HDA-03026__UP-WGS-499', 'ALS__CGND-HDA-00958__53402BL1', 'ALS__CGND-HDA-01803__TD-ALS-56', 'aals-ALS__CGND-HDA-03921__NEUPP545XNY', 'aals-ALS__CGND-HDA-03893__NEUME400ZPA', 'aals-ALS__CGND-HDA-03726__NEURC211RRY', 'aals-ALS__CGND-HDA-01153__NEULL588ALG', 'aals-ALS__CGND-HDA-02588__NEUZH314DX8', 'ALS__CGND-HDA-02163__PF-UCH-25', 'aals-ALS__CGND-HDA-03444__NEUEB422WW0', 'ALS__CGND-HDA-01098__276-11-5', 'ALS__CGND-HDA-03504__NEUVF146ANT', 'aals-ALS__CGND-HDA-03094__NEUKV547CFA', 'ALS__CGND-HDA-01662__UP-WGS-140', 'ALS__CGND-HDA-02511__NEURA741KBU', 'ALS__CGND-HDA-04050__NEUPN157TYT', 'ALS__CGND-HDA-01732__TD-ALS-58', 'aals-ALS__CGND-HDA-01348__NEUJG885PY7', 'ALS__CGND-HDA-00462__JHU1', 'ALS__CGND-HDA-02044__NEUDR086ZDQ', 'ALS__CGND-HDA-02612__UP-WGS-367', 'ALS__CGND-HDA-00710__MH-WASHU-88', 'ALS__CGND-HDA-01590__UP-WGS-068', 'ALS__CGND-HDA-01870__TD-ALS-117', 'ALS__CGND-HDA-03866__NEUDK592BDZ', 'aals-ALS__CGND-HDA-01277__NEUAM591VKR', 'ALS__CGND-HDA-00823__MH-WASHU-201', 'ALS__CGND-HDA-01810__TD-ALS-112', 'ALS__CGND-HDA-02053__NEUGY575NUQ', 'ALS__CGND-HDA-02206__PF-TST-14', 'aals-ALS__CGND-HDA-04086__NEUDH813DE6', 'aals-ALS__CGND-HDA-03898__NEUNV090XCM', 'ALS__CGND-HDA-03162__NEUXN530DK8', 'ALS__CGND-HDA-00724__MH-WASHU-102', 'ALS__CGND-HDA-02280__14-204-56', 'ALS__CGND-HDA-01791__TD-ALS-55', 'aals-ALS__CGND-HDA-01284__NEUHL814WMU', 'aals-ALS__CGND-HDA-03096__NEUMR125ZJ2', 'ALS__CGND-HDA-00468__JHU7', 'ALS__CGND-HDA-00691__MH-WASHU-69', 'aals-ALS__CGND-HDA-00457__NEUYJ417DJZ', 'ALS__CGND-HDA-02968__AIM701100', 'ALS__CGND-HDA-04029__NEUGK689BJ1', 'ALS__CGND-HDA-04008__TD-ALS-173', 'ALS__CGND-HDA-01631__UP-WGS-109', 'ALS__CGND-HDA-03067__NEUAG831KFQ', 'ALS__CGND-HDA-01645__UP-WGS-123', 'aals-ALS__CGND-HDA-03450__NEUNJ692WGZ', 'ALS__CGND-HDA-01738__TD-ALS-11', 'ALS__CGND-HDA-01227__NEUWR665XR3', 'ALS__CGND-HDA-01821__CGND-HDA-01821', 'ALS__CGND-HDA-00527__JHU66', 'ALS__CGND-HDA-02083__NEUUM686HV9', 'aals-ALS__CGND-HDA-00606__NEUYK029WUU', 'aals-ALS__CGND-HDA-01355__NEUHR975AFM', 'ALS__CGND-HDA-00341__329ALS', 'ALS__CGND-HDA-00929__MH-WASHU-307', 'ALS__CGND-HDA-02607__UP-WGS-362', 'ALS__CGND-HDA-03994__TD-ALS-159', 'ALS__CGND-HDA-02169__PF-UCH-31', 'ALS__CGND-HDA-03500__NEUMG015KHE', 'aals-ALS__CGND-HDA-03554__NEUMU634DTJ', 'ALS__CGND-HDA-02042__NEUDM397JGD', 'ALS__CGND-HDA-01011__NEUDN002JNA', 'ALS__CGND-HDA-01212__NEUXK357FLR', 'ALS__CGND-HDA-01727__TD-ALS-18', 'ALS__CGND-HDA-00695__MH-WASHU-73', 'ALS__CGND-HDA-01796__TD-ALS-95', 'ALS__CGND-HDA-02986__UP-WGS-459', 'ALS__CGND-HDA-03466__NEUMZ707XCC', 'ALS__CGND-HDA-02602__UP-WGS-357', 'ALS__CGND-HDA-00333__2341ALS', 'ALS__CGND-HDA-01683__UP-WGS-161', 'aals-ALS__CGND-HDA-04080__NEUWM375BWE', 'ALS__CGND-HDA-02955__AIM701076', 'aals-ALS__CGND-HDA-01240__NEUZE814JZF', 'ALS__CGND-HDA-01832__TD-ALS-98', 'ALS__CGND-HDA-01822__TD-ALS-113', 'aals-ALS__CGND-HDA-03069__NEULH205NEM', 'ALS__CGND-HDA-01291__EC08', 'aals-ALS__CGND-HDA-02219__NEUDG000ZG5', 'ALS__CGND-HDA-03675__NEUKU157NAY', 'aals-ALS__CGND-HDA-02700__NEUPP607CPW', 'aals-ALS__CGND-HDA-03615__NEUJX851WR9', 'ALS__CGND-HDA-00655__MH-WASHU-33', 'ALS__CGND-HDA-00439__NEUPL558PL1', 'ALS__CGND-HDA-03677__NEUHE465EXN', 'ALS__CGND-HDA-02146__PF-UCH-8', 'ALS__CGND-HDA-00767__MH-WASHU-145', 'aals-ALS__CGND-HDA-01158__NEUAG603XLK', 'ALS__CGND-HDA-00670__MH-WASHU-48', 'aals-ALS__CGND-HDA-01192__NEUCU422UEV', 'ALS__CGND-HDA-01681__UP-WGS-159', 'ALS__CGND-HDA-00120__UP-WGS-305', 'ALS__CGND-HDA-00702__MH-WASHU-80', 'ALS__CGND-HDA-01703__JK-UM-5593', 'ALS__CGND-HDA-00098__UP-WGS-282', 'ALS__CGND-HDA-01214__NEUPK906RC6', 'ALS__CGND-HDA-00867__MH-WASHU-245', 'aals-ALS__CGND-HDA-03560__NEUET719NJD', 'ALS__CGND-HDA-01577__UP-WGS-055', 'ALS__CGND-HDA-00569__NEUTL049KBM', 'aals-ALS__CGND-HDA-03622__NEUAV181KYK', 'ALS__CGND-HDA-00656__MH-WASHU-34', 'ALS__CGND-HDA-00543__JHU82', 'ALS__CGND-HDA-03482__NEUUN622YDC', 'ALS__CGND-HDA-03510__NEUVC050VWV', 'aals-ALS__CGND-HDA-01147__NEUXP495XE2', 'aals-ALS__CGND-HDA-01465__NEUGL737ZJ8', 'ALS__CGND-HDA-01731__TD-ALS-50', 'aals-ALS__CGND-HDA-03892__NEUKU121MV4', 'ALS__CGND-HDA-01028__NEUEA977HWD', 'ALS__CGND-HDA-02360__91-077-47', 'aals-ALS__CGND-HDA-03817__NEUPR531YJC', 'ALS__CGND-HDA-00342__376ALS', 'ALS__CGND-HDA-01698__NEUZU968XCJ', 'ALS__CGND-HDA-02771__PF-UCL-58', 'ALS__CGND-HDA-02998__UP-WGS-471', 'ALS__CGND-HDA-03641__NSTU5EBHEBA2', 'ALS__CGND-HDA-04033__NEUHG556XZW', 'ALS__CGND-HDA-01470__ECC9#3', 'ALS__CGND-HDA-03465__NEUPF761WCN', 'aals-ALS__CGND-HDA-03845__NEUGD072HA5', 'ALS__CGND-HDA-00499__JHU38', 'ALS__CGND-HDA-02405__93-095-24', 'aals-ALS__CGND-HDA-00615__NEUUL256UC9', 'ALS__CGND-HDA-03507__NEUYF744NLC', 'ALS__CGND-HDA-02158__PF-UCH-20', 'ALS__CGND-HDA-00311__186ALS', 'ALS__CGND-HDA-00317__362ALS', 'ALS__CGND-HDA-01043__NEUUL584CKY', 'ALS__CGND-HDA-02597__UP-WGS-352', 'ALS__CGND-HDA-02619__UP-WGS-374', 'aals-ALS__CGND-HDA-01380__NEUFB989DT1', 'ALS__CGND-HDA-00690__MH-WASHU-68', 'ALS__CGND-HDA-03860__NEUJA552XHE', 'aals-ALS__CGND-HDA-01091__NEUHW590KBH', 'ALS__CGND-HDA-00909__MH-WASHU-287', 'ALS__CGND-HDA-01492__NEUHG799CNZ', 'ALS__CGND-HDA-00709__MH-WASHU-87', 'aals-ALS__CGND-HDA-01390__NEUNR020KV6', 'ALS__CGND-HDA-00494__JHU33', 'ALS__CGND-HDA-01795__TD-ALS-87', 'ALS__CGND-HDA-02256__NEUDT969UML', 'aals-ALS__CGND-HDA-00619__NEUVW999FP9', 'ALS__CGND-HDA-00140__UP-WGS-325', 'ALS__CGND-HDA-01823__TD-ALS-121', 'ALS__CGND-HDA-01015__NEUXW075TRE', 'aals-ALS__CGND-HDA-03917__NEUFE230WFM', 'ALS__CGND-HDA-01781__TD-ALS-70', 'ALS__CGND-HDA-02036__EC25', 'ALS__CGND-HDA-03930__NEUBU587UWA', 'aals-ALS__CGND-HDA-03609__NEUMF523ZB0', 'ALS__CGND-HDA-02087__NEUTW615JX2', 'ALS__CGND-HDA-01142__NEUEW983MHE', 'ALS__CGND-HDA-04013__TD-ALS-178', 'aals-ALS__CGND-HDA-01160__NEUBW008RJ5', 'ALS__CGND-HDA-01107__276-11-15', 'ALS__CGND-HDA-00298__2236ALS', 'aals-ALS__CGND-HDA-01063__NEUHL999WWT', 'ALS__CGND-HDA-02350__92-091-73', 'ALS__CGND-HDA-02577__NEUKN209FNW', 'aals-ALS__CGND-HDA-03902__NEUBY250KZF', 'ALS__CGND-HDA-01096__276-11-3', 'ALS__CGND-HDA-02338__94-100-17', 'ALS__CGND-HDA-02400__15-210-54', 'ALS__CGND-HDA-02517__NEUBC685FAA', 'ALS__CGND-HDA-00745__MH-WASHU-123', 'ALS__CGND-HDA-00515__JHU54', 'ALS__CGND-HDA-00267__1836ALS', 'ALS__CGND-HDA-04035__NEUCD014NG4', 'ALS__CGND-HDA-01094__276-11-1', 'aals-ALS__CGND-HDA-04065__NEULP450TP2', 'ALS__CGND-HDA-00340__303ALS', 'aals-ALS__CGND-HDA-00442__NEUNX092VWR', 'ALS__CGND-HDA-01741__TD-ALS-35', 'ALS__CGND-HDA-01827__TD-ALS-153', 'ALS__CGND-HDA-00316__306ALS', 'ALS__CGND-HDA-03034__UP-WGS-507', 'aals-ALS__CGND-HDA-03566__NEUJJ582XCZ', 'ALS__CGND-HDA-00672__MH-WASHU-50', 'aals-ALS__CGND-HDA-03155__NEUPY426MXW', 'aals-ALS__CGND-HDA-00618__NEUCG743WH2', 'ALS__CGND-HDA-01695__UP-WGS-173', 'ALS__CGND-HDA-01754__TD-ALS-44', 'ALS__CGND-HDA-02982__UP-WGS-455', 'aals-ALS__CGND-HDA-01092__NEUNZ171UYF', 'ALS__CGND-HDA-00777__MH-WASHU-155', 'ALS__CGND-HDA-00994__NEUXP482JZ4', 'ALS__CGND-HDA-01648__UP-WGS-126', 'ALS__CGND-HDA-01860__TD-ALS-132', 'ALS__CGND-HDA-02366__91-069-36', 'ALS__CGND-HDA-02340__94-106-48', 'aals-ALS__CGND-HDA-03540__NEUFM533XGX', 'ALS__CGND-HDA-00911__MH-WASHU-289', 'ALS__CGND-HDA-01574__UP-WGS-052', 'ALS__CGND-HDA-01225__NEUBY479EEQ', 'aals-ALS__CGND-HDA-03835__NEUCE348KGV', 'ALS__CGND-HDA-02397__85-010-06', 'ALS__CGND-HDA-03997__TD-ALS-162', 'aals-ALS__CGND-HDA-03533__NEUKG720EA0', 'aals-ALS__CGND-HDA-01394__NEUPH341WYV', 'aals-ALS__CGND-HDA-01288__NEUXD985ZU1', 'aals-ALS__CGND-HDA-04076__NEUDZ810BCM', 'ALS__CGND-HDA-02614__UP-WGS-369', 'ALS__CGND-HDA-03489__NEUTA794VYF', 'ALS__CGND-HDA-00729__MH-WASHU-107', 'aals-ALS__CGND-HDA-03531__NEUPU527GZL', 'ALS__CGND-HDA-02300__11-176-41', 'ALS__CGND-HDA-02461__UP-WGS-281', 'aals-ALS__CGND-HDA-02072__NEUCC065VTK', 'ALS__CGND-HDA-01489__NEUGY188ZTM', 'ALS__CGND-HDA-00538__JHU77', 'ALS__CGND-HDA-00933__MH-WASHU-311', 'ALS__CGND-HDA-00732__MH-WASHU-110', 'ALS__CGND-HDA-01025__NEUCU859JLT', 'aals-ALS__CGND-HDA-01067__NEUAT005FWT', 'aals-ALS__CGND-HDA-03916__NEULL327UY8', 'ALS__CGND-HDA-02658__UP-WGS-413', 'aals-ALS__CGND-HDA-03604__NEUEE914AFJ', 'aals-ALS__CGND-HDA-01127__NEUWC139KXW', 'ALS__CGND-HDA-01883__TD-ALS-126', 'ALS__CGND-HDA-04026__NEUDC217VWH', 'ALS__CGND-HDA-03044__UP-WGS-517', 'aals-ALS__CGND-HDA-03799__NEUGT583TK8', 'aals-ALS__CGND-HDA-03871__NEUXE881UUH', 'ALS__CGND-HDA-01012__NEUAU640MYE', 'aals-ALS__CGND-HDA-01281__NEUAW717TN6', 'ALS__CGND-HDA-00793__MH-WASHU-171', 'ALS__CGND-HDA-01145__NEUGP936WF0', 'aals-ALS__CGND-HDA-01051__NEUUK390TBJ', 'ALS__CGND-HDA-02507__NEUVG654XUP', 'ALS__CGND-HDA-00804__MH-WASHU-182', 'ALS__CGND-HDA-02343__93-099-82', 'ALS__CGND-HDA-03663__NEUMF330TBL', 'ALS__CGND-HDA-03970__NEUGD174JWJ', 'ALS__CGND-HDA-02398__15-211-72', 'aals-ALS__CGND-HDA-03199__NEULB228PMZ', 'ALS__CGND-HDA-00488__JHU27', 'ALS__CGND-HDA-01671__UP-WGS-149', 'ALS__CGND-HDA-00733__MH-WASHU-111', 'ALS__CGND-HDA-04000__TD-ALS-165', 'ALS__CGND-HDA-00816__MH-WASHU-194', 'aals-ALS__CGND-HDA-02429__NEUVK060XG9', 'aals-ALS__CGND-HDA-04074__NEUNY753VVK', 'ALS__CGND-HDA-01779__TD-ALS-54', 'ALS__CGND-HDA-02399__15-205-18', 'ALS__CGND-HDA-00887__MH-WASHU-265', 'ALS__CGND-HDA-01811__TD-ALS-120', 'ALS__CGND-HDA-02913__AIM701020', 'ALS__CGND-HDA-02306__12-182-64', 'ALS__CGND-HDA-03066__NEUGU437VNF', 'aals-ALS__CGND-HDA-01374__NEUHG644RYB', 'aals-ALS__CGND-HDA-01197__NEULH729AU2', 'ALS__CGND-HDA-02953__AIM701074', 'aals-ALS__CGND-HDA-00588__NEUMD869UV7', 'aals-ALS__CGND-HDA-02434__NEUEF261XG0', 'ALS__CGND-HDA-01119__276-11U-2', 'aals-ALS__CGND-HDA-01156__NEUBC901KL3', 'aals-ALS__CGND-HDA-01066__NEUHM532NDD', 'aals-ALS__CGND-HDA-04067__NEUJA207UUV', 'ALS__CGND-HDA-01742__TD-ALS-43', 'ALS__CGND-HDA-04039__NEUXB638VWD', 'ALS__CGND-HDA-00728__MH-WASHU-106', 'ALS__CGND-HDA-04042__NEUUC033CCY', 'aals-ALS__CGND-HDA-00445__NEUMH634MKT', 'aals-ALS__CGND-HDA-01333__NEURU817WKT', 'aals-ALS__CGND-HDA-03841__NEUDU469WAA', 'ALS__CGND-HDA-02418__90-056-45', 'ALS__CGND-HDA-02135__PF-BLT-19', 'ALS__CGND-HDA-02914__AIM701021', 'ALS__CGND-HDA-04040__NEUPX734FKW', 'aals-ALS__CGND-HDA-03873__NEUPB134NG4', 'ALS__CGND-HDA-02458__UP-WGS-232', 'ALS__CGND-HDA-03627__NSTTX6XNN7J1', 'aals-ALS__CGND-HDA-02584__NEUFE455EX1', 'ALS__CGND-HDA-02674__UP-WGS-429', 'ALS__CGND-HDA-02625__UP-WGS-380', 'ALS__CGND-HDA-02025__EC04', 'aals-ALS__CGND-HDA-04084__NEUHZ364FZW', 'ALS__CGND-HDA-01591__UP-WGS-069', 'ALS__CGND-HDA-00485__JHU24', 'ALS__CGND-HDA-00821__MH-WASHU-199', 'ALS__CGND-HDA-01808__TD-ALS-96', 'ALS__CGND-HDA-00784__MH-WASHU-162', 'ALS__CGND-HDA-02603__UP-WGS-358', 'ALS__CGND-HDA-03474__NEUPG418CYK', 'aals-ALS__CGND-HDA-03572__NEUDL178NN9', 'ALS__CGND-HDA-00275__2129ALS', 'ALS__CGND-HDA-03851__NEUFL912GNF', 'ALS__CGND-HDA-03690__NEUKH402MA5', 'ALS__CGND-HDA-02641__UP-WGS-396', 'ALS__CGND-HDA-00818__MH-WASHU-196', 'ALS__CGND-HDA-00757__MH-WASHU-135', 'ALS__CGND-HDA-00769__MH-WASHU-147', 'ALS__CGND-HDA-02556__86-011-26', 'ALS__CGND-HDA-02915__AIM701023', 'ALS__CGND-HDA-01627__UP-WGS-105', 'ALS__CGND-HDA-01678__UP-WGS-156', 'ALS__CGND-HDA-01507__NEUUC709RJW', 'ALS__CGND-HDA-01444__NEUNM418GRC', 'ALS__CGND-HDA-03973__NEUCJ782FWF', 'ALS__CGND-HDA-03037__UP-WGS-510', 'ALS__CGND-HDA-00056__UP-WGS-239', 'ALS__CGND-HDA-03501__NEUUG749KZH', 'aals-ALS__CGND-HDA-03559__NEUPX136DAP', 'ALS__CGND-HDA-02288__13-190-33', 'ALS__CGND-HDA-01824__TD-ALS-129', 'aals-ALS__CGND-HDA-03068__NEUXX361RUG', 'ALS__CGND-HDA-02254__NEUMG708VB0', 'ALS__CGND-HDA-02664__UP-WGS-419', 'ALS__CGND-HDA-02199__PF-TST-7', 'ALS__CGND-HDA-01299__EC22', 'ALS__CGND-HDA-02594__UP-WGS-349', 'ALS__CGND-HDA-01504__NEUTG934CG7', 'aals-ALS__CGND-HDA-03606__NEURL097AJX', 'aals-ALS__CGND-HDA-03200__NEUJW320MEC', 'ALS__CGND-HDA-01630__UP-WGS-108', 'ALS__CGND-HDA-00026__UP-WGS-209', 'ALS__CGND-HDA-02302__11-177-53', 'ALS__CGND-HDA-01720__TD-ALS-57', 'ALS__CGND-HDA-02601__UP-WGS-356', 'ALS__CGND-HDA-02274__15-213-15', 'ALS__CGND-HDA-00294__2150ALS', 'ALS__CGND-HDA-04047__NEUKW580AKZ', 'aals-ALS__CGND-HDA-04085__NEUXZ486GG5', 'aals-ALS__CGND-HDA-03078__NEUZX663FZ2', 'aals-ALS__CGND-HDA-03449__NEUAN180JPP', 'ALS__CGND-HDA-03686__NEUPY156NER', 'aals-ALS__CGND-HDA-00207__NEUTA057AF6', 'ALS__CGND-HDA-02392__87-017-42', 'ALS__CGND-HDA-00978__NEUEJ292ADT', 'ALS__CGND-HDA-02313__05-156-09', 'aals-ALS__CGND-HDA-04052__NEUCU166PBM', 'ALS__CGND-HDA-00289__334ALS', 'ALS__CGND-HDA-03714__NEUZW014AUH', 'aals-ALS__CGND-HDA-03872__NEUHC863KN9', 'ALS__CGND-HDA-01224__NEUUM419GYB', 'ALS__CGND-HDA-00801__MH-WASHU-179', 'ALS__CGND-HDA-00891__MH-WASHU-269', 'ALS__CGND-HDA-00935__MH-WASHU-313', 'ALS__CGND-HDA-01845__TD-ALS-107', 'ALS__CGND-HDA-02212__PF-TST-20', 'aals-ALS__CGND-HDA-01165__NEUEU558MNK', 'ALS__CGND-HDA-00288__63ALS', 'aals-ALS__CGND-HDA-01199__NEUVT116TUZ', 'ALS__CGND-HDA-02023__EC01', 'ALS__CGND-HDA-02125__PF-BLT-9', 'ALS__CGND-HDA-02129__PF-BLT-13', 'aals-ALS__CGND-HDA-03847__NEUBK121AZ3', 'ALS__CGND-HDA-03506__NEUEY584FV5', 'ALS__CGND-HDA-02357__90-064-30', 'ALS__CGND-HDA-02665__UP-WGS-420', 'aals-ALS__CGND-HDA-00583__NEUAB000NKC', 'aals-ALS__CGND-HDA-01405__NEUWL486NRA', 'ALS__CGND-HDA-00297__2193ALS', 'aals-ALS__CGND-HDA-03724__NEUBB912KYG', 'aals-ALS__CGND-HDA-03884__NEUAE810KF7', 'ALS__CGND-HDA-00985__NEUAP673FY9', 'ALS__CGND-HDA-00119__UP-WGS-304', 'aals-ALS__CGND-HDA-00454__NEUUC458RFT', 'aals-ALS__CGND-HDA-01190__NEUVN746WKV', 'ALS__CGND-HDA-01024__NEUBP318XE9', 'ALS__CGND-HDA-02650__UP-WGS-405', 'ALS__CGND-HDA-02211__PF-TST-19', 'aals-ALS__CGND-HDA-02698__NEUAL614GYB', 'ALS__CGND-HDA-02034__EC20', 'ALS__CGND-HDA-04022__TD-ALS-187', 'ALS__CGND-HDA-02477__NEUTT995TJU', 'ALS__CGND-HDA-00944__53387BL1', 'aals-ALS__CGND-HDA-01155__NEULG248HGW', 'ALS__CGND-HDA-00040__UP-WGS-223', 'ALS__CGND-HDA-03638__NST201VE7312', 'ALS__CGND-HDA-00668__MH-WASHU-46', 'ALS__CGND-HDA-04009__TD-ALS-174', 'ALS__CGND-HDA-00941__53384BL1', 'aals-ALS__CGND-HDA-02707__NEUCG029WWD', 'ALS__CGND-HDA-00031__UP-WGS-214', 'ALS__CGND-HDA-01782__TD-ALS-78', 'aals-ALS__CGND-HDA-01370__NEUEM720BUU', 'ALS__CGND-HDA-03015__UP-WGS-488', 'aals-ALS__CGND-HDA-03158__NEUJV881LPP', 'aals-ALS__CGND-HDA-03802__NEUYJ400MGQ', 'ALS__CGND-HDA-00083__UP-WGS-267', 'ALS__CGND-HDA-03513__NEUPC908CJL', 'aals-ALS__CGND-HDA-01064__NEUBD288RXQ', 'ALS__CGND-HDA-02214__PF-TST-22', 'aals-ALS__CGND-HDA-02433__NEUCW678DB0', 'aals-ALS__CGND-HDA-02224__NEUWD946RDA', 'ALS__CGND-HDA-02958__AIM701080', 'ALS__CGND-HDA-03696__NEUBZ354DBH', 'ALS__CGND-HDA-00873__MH-WASHU-251', 'ALS__CGND-HDA-01046__NEUCY301FWJ', 'ALS__CGND-HDA-02308__09-164-55', 'aals-ALS__CGND-HDA-03879__NEUJB072YJY', 'ALS__CGND-HDA-03404__NEUNP665GKL', 'ALS__CGND-HDA-02957__AIM701078', 'ALS__CGND-HDA-01848__TD-ALS-131', 'ALS__CGND-HDA-01882__TD-ALS-118', 'aals-ALS__CGND-HDA-02236__NEUYY225MNZ', 'ALS__CGND-HDA-03043__UP-WGS-516', 'ALS__CGND-HDA-01539__UP-WGS-017', 'ALS__CGND-HDA-02329__96-119-66', 'ALS__CGND-HDA-00875__MH-WASHU-253', 'ALS__CGND-HDA-01701__NEUFE255AG2', 'ALS__CGND-HDA-00669__MH-WASHU-47', 'ALS__CGND-HDA-01659__UP-WGS-137', 'ALS__CGND-HDA-00868__MH-WASHU-246', 'aals-ALS__CGND-HDA-00587__NEURX315DYH', 'ALS__CGND-HDA-02369__90-061-77', 'aals-ALS__CGND-HDA-01391__NEUZJ053JGZ', 'ALS__CGND-HDA-01233__NEUWP942PCU', 'ALS__CGND-HDA-03492__NEUNR517RVD', 'ALS__CGND-HDA-00794__MH-WASHU-172', 'ALS__CGND-HDA-01687__UP-WGS-165', 'ALS__CGND-HDA-02160__PF-UCH-22', 'aals-ALS__CGND-HDA-01166__NEUEU318NY2', 'aals-ALS__CGND-HDA-02066__NEUAE431CGV', 'ALS__CGND-HDA-00024__UP-WGS-207', 'ALS__CGND-HDA-01137__NEUYP152RN5', 'aals-ALS__CGND-HDA-00605__NEURA124CXX', 'ALS__CGND-HDA-02721__PF-UCL-8', 'aals-ALS__CGND-HDA-01350__NEUAP001MK0', 'aals-ALS__CGND-HDA-03731__NEUBD027FAX', 'aals-ALS__CGND-HDA-03881__NEUFE433EVT', 'ALS__CGND-HDA-03983__NEUXU527JXG', 'ALS__CGND-HDA-03644__NSTVRBJECNXP', 'ALS__CGND-HDA-02253__NEUCP900RTQ', 'ALS__CGND-HDA-00906__MH-WASHU-284', 'ALS__CGND-HDA-00899__MH-WASHU-277', 'aals-ALS__CGND-HDA-03614__NEUKE913AHM', 'aals-ALS__CGND-HDA-03912__NEUDL910BAN', 'ALS__CGND-HDA-01635__UP-WGS-113', 'ALS__CGND-HDA-02150__PF-UCH-12', 'ALS__CGND-HDA-02177__PF-UCH-39', 'aals-ALS__CGND-HDA-00581__NEUVR636VTP', 'aals-ALS__CGND-HDA-01354__NEUWD781PHK', 'ALS__CGND-HDA-01217__NEUJC448HBQ', 'aals-ALS__CGND-HDA-01345__NEUCP068CPY', 'ALS__CGND-HDA-00833__MH-WASHU-211', 'ALS__CGND-HDA-00261__1068ALS', 'ALS__CGND-HDA-01579__UP-WGS-057', 'ALS__CGND-HDA-02387__88-039-17', 'ALS__CGND-HDA-02413__98-130-70', 'aals-ALS__CGND-HDA-03815__NEUAP460GUX', 'ALS__CGND-HDA-00300__2240ALS', 'ALS__CGND-HDA-02777__PF-UCL-64', 'ALS__CGND-HDA-03976__NEUYW510RCG', 'ALS__CGND-HDA-01497__NEUMU998TT8', 'ALS__CGND-HDA-00534__JHU73', 'ALS__CGND-HDA-03010__UP-WGS-483', 'aals-ALS__CGND-HDA-02243__NEUUU506WZF', 'aals-ALS__CGND-HDA-01399__NEUDF797UTQ', 'ALS__CGND-HDA-00659__MH-WASHU-37', 'aals-ALS__CGND-HDA-03830__NEUCV643UV8', 'aals-ALS__CGND-HDA-03728__NEUJG344BTU', 'ALS__CGND-HDA-00923__MH-WASHU-301', 'ALS__CGND-HDA-01104__276-11-11', 'aals-ALS__CGND-HDA-03826__NEUFZ835ZG5', 'ALS__CGND-HDA-01719__TD-ALS-49', 'ALS__CGND-HDA-00262__980ALS', 'ALS__CGND-HDA-02666__UP-WGS-421', 'ALS__CGND-HDA-02311__09-166-00', 'ALS__CGND-HDA-00845__MH-WASHU-223', 'ALS__CGND-HDA-01006__NEUJU624DN8', 'ALS__CGND-HDA-02251__NEUNG032CTD', 'aals-ALS__CGND-HDA-00256__NEUGW326BRV', 'ALS__CGND-HDA-02120__PF-BLT-4', 'aals-ALS__CGND-HDA-01082__NEUME929BY2', 'ALS__CGND-HDA-00349__631ALS', 'ALS__CGND-HDA-00743__MH-WASHU-121', 'ALS__CGND-HDA-01897__TD-ALS-143', 'ALS__CGND-HDA-03469__NEUJU750NM4', 'ALS__CGND-HDA-00440__NEUVU845ZAB', 'ALS__CGND-HDA-00863__MH-WASHU-241', 'ALS__CGND-HDA-00552__NEUNL974RU6', 'ALS__CGND-HDA-00788__MH-WASHU-166', 'ALS__CGND-HDA-02277__16-222-00', 'ALS__CGND-HDA-00716__MH-WASHU-94', 'ALS__CGND-HDA-03435__NEURX488EZE', 'ALS__CGND-HDA-01231__NEUFG859KY9', 'ALS__CGND-HDA-04041__NEUZN534BRL', 'ALS__CGND-HDA-01409__NEUXT323GKR', 'aals-ALS__CGND-HDA-01351__NEUJR229JXC', 'ALS__CGND-HDA-02278__15-214-17', 'aals-ALS__CGND-HDA-02227__NEUMN219VGE', 'aals-ALS__CGND-HDA-03092__NEUFD119MT2', 'ALS__CGND-HDA-03434__NEUVP540DK1', 'ALS__CGND-HDA-00825__MH-WASHU-203', 'ALS__CGND-HDA-03038__UP-WGS-511', 'ALS__CGND-HDA-02356__92-080-08', 'aals-ALS__CGND-HDA-03151__NEUFG869YDY', 'ALS__CGND-HDA-00533__JHU72', 'ALS__CGND-HDA-00146__UP-WGS-332', 'ALS__CGND-HDA-03025__UP-WGS-498', 'ALS__CGND-HDA-00990__NEUTD254HL0', 'ALS__CGND-HDA-00699__MH-WASHU-77', 'ALS__CGND-HDA-02743__PF-UCL-30', 'aals-ALS__CGND-HDA-03828__NEUWM628UNA', 'ALS__CGND-HDA-00310__1170ALS', 'ALS__CGND-HDA-02096__NEUTA504MLR', 'ALS__CGND-HDA-02419__91-073-44', 'ALS__CGND-HDA-00674__MH-WASHU-52', 'ALS__CGND-HDA-00782__MH-WASHU-160', 'ALS__CGND-HDA-00309__1071ALS', 'ALS__CGND-HDA-00348__577ALS', 'ALS__CGND-HDA-01649__UP-WGS-127', 'ALS__CGND-HDA-01102__276-11-9', 'ALS__CGND-HDA-02322__02-147-59', 'ALS__CGND-HDA-04091__NEUHF998PCY', 'ALS__CGND-HDA-02152__PF-UCH-14', 'ALS__CGND-HDA-00021__UP-WGS-204', 'ALS__CGND-HDA-00948__53392BL1', 'ALS__CGND-HDA-01826__TD-ALS-145', 'ALS__CGND-HDA-02321__02-146-39', 'ALS__CGND-HDA-02739__PF-UCL-26', 'ALS__CGND-HDA-03008__UP-WGS-481', 'ALS__CGND-HDA-01101__276-11-8', 'ALS__CGND-HDA-02136__PF-BLT-20', 'ALS__CGND-HDA-00072__UP-WGS-256', 'ALS__CGND-HDA-01850__TD-ALS-147', 'ALS__CGND-HDA-01775__TD-ALS-22', 'ALS__CGND-HDA-04002__TD-ALS-167', 'aals-ALS__CGND-HDA-01236__NEUWD538KT3', 'ALS__CGND-HDA-04049__NEURN540KF7', 'aals-ALS__CGND-HDA-01085__NEUVW680LPK', 'aals-ALS__CGND-HDA-01187__NEUBD062TJV', 'aals-ALS__CGND-HDA-04073__NEUBZ512CWM', 'ALS__CGND-HDA-01480__NEUDR038LNC', 'ALS__CGND-HDA-01508__NEUUN213DJ0', 'ALS__CGND-HDA-00700__MH-WASHU-78', 'ALS__CGND-HDA-02151__PF-UCH-13', 'ALS__CGND-HDA-01696__NEUEF856BLV', 'aals-ALS__CGND-HDA-03452__NEUVR711TBR', 'aals-ALS__CGND-HDA-03812__NEUGU451ALG', 'ALS__CGND-HDA-00558__NEURJ387PPV', 'ALS__CGND-HDA-02249__NEUGC551LMK', 'ALS__CGND-HDA-01685__UP-WGS-163', 'ALS__CGND-HDA-02647__UP-WGS-402', 'ALS__CGND-HDA-00156__UP-WGS-343', 'ALS__CGND-HDA-00910__MH-WASHU-288', 'ALS__CGND-HDA-01859__TD-ALS-124', 'aals-ALS__CGND-HDA-03077__NEUYF703CW4', 'ALS__CGND-HDA-00323__820ALS', 'ALS__CGND-HDA-00886__MH-WASHU-264', 'ALS__CGND-HDA-00578__NEUVB400FVF', 'ALS__CGND-HDA-00125__UP-WGS-310', 'ALS__CGND-HDA-01620__UP-WGS-098', 'ALS__CGND-HDA-02102__PF-BUH-5', 'ALS__CGND-HDA-02144__PF-UCH-6', 'ALS__CGND-HDA-02118__PF-BLT-2', 'ALS__CGND-HDA-00008__UP-WGS-191', 'aals-ALS__CGND-HDA-03732__NEUEB084YHX', 'aals-ALS__CGND-HDA-00449__NEUCU076ADN', 'ALS__CGND-HDA-03064__UP-WGS-537', 'aals-ALS__CGND-HDA-00452__NEUDT709YHN', 'ALS__CGND-HDA-02765__PF-UCL-52', 'aals-ALS__CGND-HDA-00202__NEUJY426MBU', 'aals-ALS__CGND-HDA-01161__NEUXG265ME9', 'aals-ALS__CGND-HDA-01358__NEUDE902GCT', 'ALS__CGND-HDA-03635__NST4DA6ZEL37', 'ALS__CGND-HDA-01707__JK-UM-5549', 'ALS__CGND-HDA-02885__NEUBV451NTY', 'aals-ALS__CGND-HDA-00580__NEURX909UL6', 'aals-ALS__CGND-HDA-04072__NEUHR014RCJ', 'ALS__CGND-HDA-00937__MH-WASHU-315', 'ALS__CGND-HDA-02640__UP-WGS-395', 'aals-ALS__CGND-HDA-01242__NEUWU490MJN', 'aals-ALS__CGND-HDA-03193__NEUNP062VBA', 'ALS__CGND-HDA-01896__TD-ALS-135', 'ALS__CGND-HDA-03056__UP-WGS-529', 'aals-ALS__CGND-HDA-04083__NEURN392PGA', 'aals-ALS__CGND-HDA-01275__NEUKR376CW3', 'ALS__CGND-HDA-00059__UP-WGS-243', 'ALS__CGND-HDA-01772__TD-ALS-93', 'aals-ALS__CGND-HDA-01077__NEUAJ271CF8', 'ALS__CGND-HDA-02508__NEUVV649FB0', 'ALS__CGND-HDA-01544__UP-WGS-022', 'aals-ALS__CGND-HDA-01194__NEULJ823EJD', 'ALS__CGND-HDA-03419__NEUXM419XNL', 'ALS__CGND-HDA-00074__UP-WGS-258', 'ALS__CGND-HDA-00480__JHU19', 'ALS__CGND-HDA-03262__NEUKV592NUT', 'ALS__CGND-HDA-00809__MH-WASHU-187', 'ALS__CGND-HDA-01573__UP-WGS-051', 'ALS__CGND-HDA-02940__AIM701060', 'ALS__CGND-HDA-00995__NEUZK416TYQ', 'ALS__CGND-HDA-02384__87-026-74', 'ALS__CGND-HDA-03460__NEUVF426KTR', 'aals-ALS__CGND-HDA-03619__NEUKW687JAG', 'aals-ALS__CGND-HDA-00446__NEUBY734PFR', 'aals-ALS__CGND-HDA-01393__NEUVA826NPN', 'aals-ALS__CGND-HDA-01052__NEUBZ634KH5', 'ALS__CGND-HDA-00071__UP-WGS-255', 'ALS__CGND-HDA-02717__PF-UCL-4', 'ALS__CGND-HDA-03439__NEUMU262XY2', 'ALS__CGND-HDA-02909__AIM701016', 'ALS__CGND-HDA-01097__276-11-4', 'ALS__CGND-HDA-02105__PF-BUH-8', 'aals-ALS__CGND-HDA-03210__NEUHZ728ZN4', 'ALS__CGND-HDA-02412__98-132-80', 'ALS__CGND-HDA-00277__2140ALS', 'aals-ALS__CGND-HDA-00450__NEULC312VXR', 'aals-ALS__CGND-HDA-03550__NEULK561EBB', 'aals-ALS__CGND-HDA-01087__NEUPN525XEW', 'ALS__CGND-HDA-00721__MH-WASHU-99', 'ALS__CGND-HDA-01757__TD-ALS-68', 'ALS__CGND-HDA-00308__158ALS', 'ALS__CGND-HDA-02358__92-081-09', 'aals-ALS__CGND-HDA-01060__NEUYA428KJM', 'ALS__CGND-HDA-01872__TD-ALS-133', 'ALS__CGND-HDA-01312__NEUWZ373ZHA', 'ALS__CGND-HDA-03715__NEUGF432KT6', 'aals-ALS__CGND-HDA-03722__NEUBR543CRA', 'ALS__CGND-HDA-00989__NEUYG534ZJX', 'aals-ALS__CGND-HDA-01234__NEUHZ302VU4', 'ALS__CGND-HDA-02115__PF-BUH-18', 'aals-ALS__CGND-HDA-03447__NEUNN133RU8', 'ALS__CGND-HDA-03429__NEUXM438HEF', 'ALS__CGND-HDA-01010__NEUUJ360YN5', 'aals-ALS__CGND-HDA-03569__NEUHX507MJ2', 'aals-ALS__CGND-HDA-03907__NEUWL332ME2', 'ALS__CGND-HDA-03503__NEUXE417VCU', 'ALS__CGND-HDA-02416__97-126-29', 'aals-ALS__CGND-HDA-00611__NEUJP437YZ0', 'aals-ALS__CGND-HDA-01243__NEUNK608PYW', 'aals-ALS__CGND-HDA-03803__NEUWN348XMR', 'ALS__CGND-HDA-01422__NEUZA391NER', 'aals-ALS__CGND-HDA-01071__NEUBK117YXL', 'ALS__CGND-HDA-02279__15-212-81', 'ALS__CGND-HDA-03929__NEUHC994KV4', 'ALS__CGND-HDA-02365__91-072-76', 'ALS__CGND-HDA-00730__MH-WASHU-108', 'ALS__CGND-HDA-02061__NEURN516YR8', 'aals-ALS__CGND-HDA-03577__NEUAG205VLA', 'ALS__CGND-HDA-00811__MH-WASHU-189', 'ALS__CGND-HDA-02107__PF-BUH-10', 'ALS__CGND-HDA-02310__10-168-86', 'ALS__CGND-HDA-03933__NEUKH671TD4', 'ALS__CGND-HDA-00882__MH-WASHU-260', 'aals-ALS__CGND-HDA-04062__NEUKD887WR2', 'ALS__CGND-HDA-00314__162ALS', 'ALS__CGND-HDA-02978__UP-WGS-451', 'ALS__CGND-HDA-00878__MH-WASHU-256', 'ALS__CGND-HDA-03629__NST2RDZ09ED9', 'aals-ALS__CGND-HDA-01383__NEUFH122WN7', 'ALS__CGND-HDA-00738__MH-WASHU-116', 'ALS__CGND-HDA-01571__UP-WGS-049', 'ALS__CGND-HDA-02662__UP-WGS-417', 'ALS__CGND-HDA-01168__NEUMG177JRW', 'aals-ALS__CGND-HDA-02426__NEURK461HU0', 'aals-ALS__CGND-HDA-00241__NEUMY871DGF', 'ALS__CGND-HDA-00872__MH-WASHU-250', 'aals-ALS__CGND-HDA-01057__NEULA777DBT', 'ALS__CGND-HDA-02104__PF-BUH-7', 'ALS__CGND-HDA-01513__NEUWB476BZ0', 'ALS__CGND-HDA-02113__PF-BUH-16', 'aals-ALS__CGND-HDA-02216__NEUXP289KRC', 'ALS__CGND-HDA-00969__53421BL1', 'ALS__CGND-HDA-02372__90-055-32', 'ALS__CGND-HDA-00883__MH-WASHU-261', 'ALS__CGND-HDA-00264__1389ALS', 'ALS__CGND-HDA-01787__TD-ALS-23', 'ALS__CGND-HDA-02974__UP-WGS-447', 'aals-ALS__CGND-HDA-03914__NEUCV716TRJ', 'ALS__CGND-HDA-01736__TD-ALS-90', 'ALS__CGND-HDA-02570__13-197-56', 'ALS__CGND-HDA-00723__MH-WASHU-101', 'ALS__CGND-HDA-02922__AIM701030', 'ALS__CGND-HDA-03639__NSTZHNVHCU0N', 'ALS__CGND-HDA-02159__PF-UCH-21', 'aals-ALS__CGND-HDA-03536__NEUAK954ETX', 'ALS__CGND-HDA-01114__276-11-21', 'ALS__CGND-HDA-01838__TD-ALS-146', 'ALS__CGND-HDA-02194__PF-TST-2', 'ALS__CGND-HDA-00437__NEUCW023RKE', 'ALS__CGND-HDA-03853__NEUFC598LP9', 'ALS__CGND-HDA-01874__TD-ALS-149', 'ALS__CGND-HDA-00322__650ALS', 'aals-ALS__CGND-HDA-03824__NEUUW596MHC', 'ALS__CGND-HDA-02551__88-037-64', 'aals-ALS__CGND-HDA-03544__NEURT008RBN', 'ALS__CGND-HDA-00905__MH-WASHU-283', 'ALS__CGND-HDA-02348__92-093-59', 'ALS__CGND-HDA-01050__NEUPG015LVT', 'ALS__CGND-HDA-03676__NEUJA576RP1', 'aals-ALS__CGND-HDA-00448__NEUZW744ZCD', 'ALS__CGND-HDA-01800__TD-ALS-32', 'ALS__CGND-HDA-00022__UP-WGS-205', 'ALS__CGND-HDA-02661__UP-WGS-416', 'ALS__CGND-HDA-02063__NEULN488RD5', 'ALS__CGND-HDA-00030__UP-WGS-213', 'aals-ALS__CGND-HDA-01193__NEUGV094EZH', 'ALS__CGND-HDA-02275__16-219-14', 'ALS__CGND-HDA-03637__NSTDT81FYZJQ', 'ALS__CGND-HDA-00827__MH-WASHU-205', 'ALS__CGND-HDA-00647__MH-WASHU-25', 'ALS__CGND-HDA-01572__UP-WGS-050', 'ALS__CGND-HDA-00319__431ALS', 'ALS__CGND-HDA-01856__TD-ALS-100', 'ALS__CGND-HDA-03273__NEUTC651YRK', 'ALS__CGND-HDA-02395__86-013-14', 'ALS__CGND-HDA-03383__NEUBE992ZD1', 'ALS__CGND-HDA-01111__276-11-19', 'ALS__CGND-HDA-03410__NEUNX393UH1', 'ALS__CGND-HDA-03436__NEUZF183UCU', 'ALS__CGND-HDA-01421__NEUAZ330TM4', 'ALS__CGND-HDA-01298__EC21', 'ALS__CGND-HDA-01116__276-11-23', 'ALS__CGND-HDA-00296__1304ALS', 'ALS__CGND-HDA-00651__MH-WASHU-29', 'ALS__CGND-HDA-01047__NEU_INVAB547EJY', 'ALS__CGND-HDA-02948__NEUKY704JVA', 'ALS__CGND-HDA-02453__UP-WGS-227', 'ALS__CGND-HDA-02623__UP-WGS-378', 'aals-ALS__CGND-HDA-00456__NEULP998KDJ', 'aals-ALS__CGND-HDA-03605__NEUPJ681DUM', 'aals-ALS__CGND-HDA-01344__NEUNP157FRQ', 'ALS__CGND-HDA-03477__NEUYE940AH3', 'aals-ALS__CGND-HDA-03891__NEULV054MPD', 'ALS__CGND-HDA-00756__MH-WASHU-134', 'aals-ALS__CGND-HDA-03723__NEUWA534ECE', 'ALS__CGND-HDA-02769__PF-UCL-56', 'aals-ALS__CGND-HDA-04077__NEUAT541XCN', 'ALS__CGND-HDA-02290__13-195-03', 'ALS__CGND-HDA-02655__UP-WGS-410', 'ALS__CGND-HDA-02130__PF-BLT-14', 'ALS__CGND-HDA-01752__TD-ALS-28', 'aals-ALS__CGND-HDA-03725__NEUVV152TG3', 'ALS__CGND-HDA-02668__UP-WGS-423', 'aals-ALS__CGND-HDA-00237__NEUAL127HHC', 'aals-ALS__CGND-HDA-01459__NEUBK087AYY', 'ALS__CGND-HDA-02992__UP-WGS-465', 'ALS__CGND-HDA-00471__JHU10', 'ALS__CGND-HDA-01783__TD-ALS-86', 'ALS__CGND-HDA-01038__NEUMM250RYW', 'ALS__CGND-HDA-03433__NEUWL413UL1', 'ALS__CGND-HDA-00579__NEUZZ766ZC5', 'ALS__CGND-HDA-02648__UP-WGS-403', 'ALS__CGND-HDA-01294__EC11', 'aals-ALS__CGND-HDA-01086__NEUAX665ZHY', 'aals-ALS__CGND-HDA-03720__NEUFF278LJX', 'ALS__CGND-HDA-02593__UP-WGS-348', 'ALS__CGND-HDA-02050__NEUGD887RT1', 'ALS__CGND-HDA-00828__MH-WASHU-206', 'ALS__CGND-HDA-01018__NEULZ935LY3', 'ALS__CGND-HDA-03687__NEUYL380KNJ', 'aals-ALS__CGND-HDA-04071__NEUCD063FGD', 'aals-ALS__CGND-HDA-00455__NEUMP208GXK', 'aals-ALS__CGND-HDA-03616__NEUEP809TA7', 'ALS__CGND-HDA-02561__93-094-34', 'aals-ALS__CGND-HDA-03800__NEURZ753PLH', 'ALS__CGND-HDA-01292__EC09', 'ALS__CGND-HDA-01014__NEUBB519WKB', 'ALS__CGND-HDA-02898__NEUKL822APJ', 'ALS__CGND-HDA-00662__MH-WASHU-40', 'ALS__CGND-HDA-03992__TD-ALS-157', 'ALS__CGND-HDA-00930__NEUGW340YEB', 'aals-ALS__CGND-HDA-03922__NEUEN831XWT', 'ALS__CGND-HDA-03415__NEUER626URE', 'ALS__CGND-HDA-02026__EC05', 'ALS__CGND-HDA-02907__AIM701014', 'ALS__CGND-HDA-02731__PF-UCL-18', 'ALS__CGND-HDA-03850__NEUAZ924KZ1', 'aals-ALS__CGND-HDA-01382__NEUPD275VTQ', 'ALS__CGND-HDA-02642__UP-WGS-397', 'aals-ALS__CGND-HDA-03808__NEUMK892DG5', 'ALS__CGND-HDA-00876__MH-WASHU-254', 'ALS__CGND-HDA-00658__MH-WASHU-36', 'ALS__CGND-HDA-02353__92-089-01', 'ALS__CGND-HDA-02574__NEUJL308UBK', 'ALS__CGND-HDA-02638__UP-WGS-393', 'ALS__CGND-HDA-03467__NEULX665RPX', 'ALS__CGND-HDA-00696__MH-WASHU-74', 'ALS__CGND-HDA-02959__AIM701081', 'ALS__CGND-HDA-03703__NEUHJ629PC9', 'ALS__CGND-HDA-03995__TD-ALS-160', 'ALS__CGND-HDA-00524__JHU63', 'ALS__CGND-HDA-04014__TD-ALS-179', 'ALS__CGND-HDA-02332__95-110-57', 'aals-ALS__CGND-HDA-02708__NEUCK797MM3', 'ALS__CGND-HDA-02325__96-121-02', 'ALS__CGND-HDA-00566__NEUWL993GU2', 'aals-ALS__CGND-HDA-02234__NEUKA429GAC', 'ALS__CGND-HDA-00657__MH-WASHU-35', 'aals-ALS__CGND-HDA-01090__NEUCB613CA9', 'ALS__CGND-HDA-01514__NEUXD636HL3', 'ALS__CGND-HDA-00996__53449BL1', 'ALS__CGND-HDA-00293__1205ALS', 'ALS__CGND-HDA-01001__NEUHM399CBL', 'ALS__CGND-HDA-00813__MH-WASHU-191', 'ALS__CGND-HDA-01570__UP-WGS-048', 'ALS__CGND-HDA-02367__90-063-21', 'ALS__CGND-HDA-00870__MH-WASHU-248', 'ALS__CGND-HDA-02646__UP-WGS-401', 'ALS__CGND-HDA-00715__MH-WASHU-93', 'aals-ALS__CGND-HDA-01198__NEUHZ576HVZ', 'aals-ALS__CGND-HDA-03885__NEUUK960PF7', 'aals-ALS__CGND-HDA-01084__NEUZT557DHF', 'aals-ALS__CGND-HDA-01188__NEULA896YE1', 'aals-ALS__CGND-HDA-01289__NEUGU254CLF', 'ALS__CGND-HDA-00682__MH-WASHU-60', 'aals-ALS__CGND-HDA-01287__NEUJG311WGV', 'ALS__CGND-HDA-02654__UP-WGS-409', 'ALS__CGND-HDA-00916__NEUJY536DKF', 'ALS__CGND-HDA-02924__AIM701034', 'aals-ALS__CGND-HDA-04069__NEUEA668FYK', 'aals-ALS__CGND-HDA-02494__NEULC153TP4', 'aals-ALS__CGND-HDA-02221__NEUAE228FF6', 'ALS__CGND-HDA-03139__NEUAY902BMP', 'ALS__CGND-HDA-00303__2247ALS', 'ALS__CGND-HDA-00514__JHU53', 'aals-ALS__CGND-HDA-00602__NEUHB491NGF', 'aals-ALS__CGND-HDA-00614__NEUAJ481YYX', 'ALS__CGND-HDA-03053__UP-WGS-526', 'ALS__CGND-HDA-02331__95-112-41', 'ALS__CGND-HDA-02114__PF-BUH-17', 'ALS__CGND-HDA-00344__385ALS', 'ALS__CGND-HDA-00354__722ALS', 'ALS__CGND-HDA-01139__NEUYP965GUP', 'aals-ALS__CGND-HDA-02581__NEUHL096UF0', 'aals-ALS__CGND-HDA-03076__NEUKU894PHF', 'aals-ALS__CGND-HDA-03547__NEUYR003PHD', 'ALS__CGND-HDA-00337__127ALS', 'aals-ALS__CGND-HDA-03625__NEUMU529BNK', 'ALS__CGND-HDA-00281__2160ALS', 'ALS__CGND-HDA-00504__JHU43', 'aals-ALS__CGND-HDA-02064__NEUTJ613AH9', 'aals-ALS__CGND-HDA-03882__NEURG115XK8', 'ALS__CGND-HDA-00957__53401BL1', 'aals-ALS__CGND-HDA-04059__NEUJH152CX9', 'aals-ALS__CGND-HDA-00247__NEUVJ560JGZ', 'ALS__CGND-HDA-01624__UP-WGS-102', 'ALS__CGND-HDA-02624__UP-WGS-379', 'aals-ALS__CGND-HDA-00258__NEUAG766ULB', 'aals-ALS__CGND-HDA-04082__NEUTB997GDW', 'ALS__CGND-HDA-03032__UP-WGS-505', 'aals-ALS__CGND-HDA-03086__NEUUZ691KHN', 'ALS__CGND-HDA-01726__TD-ALS-10', 'ALS__CGND-HDA-00951__53395BL1', 'ALS__CGND-HDA-00513__JHU52', 'ALS__CGND-HDA-01706__JK-UM-5776', 'ALS__CGND-HDA-03423__NEUFB470TAX', 'ALS__CGND-HDA-03678__NEUNC713HFR', 'ALS__CGND-HDA-03424__NEUAK140UDR', 'ALS__CGND-HDA-03047__UP-WGS-520', 'aals-ALS__CGND-HDA-01392__NEUDX018REC', 'ALS__CGND-HDA-01120__276-11-26', 'ALS__CGND-HDA-02637__UP-WGS-392', 'ALS__CGND-HDA-00802__MH-WASHU-180', 'ALS__CGND-HDA-02380__89-043-92', 'ALS__CGND-HDA-00360__125ALS', 'ALS__CGND-HDA-01600__UP-WGS-078', 'ALS__CGND-HDA-03981__NEUTV604UGP', 'aals-ALS__CGND-HDA-01260__NEUBB396KN5', 'aals-ALS__CGND-HDA-01206__NEULD729BGF', 'ALS__CGND-HDA-01300__EC24', 'ALS__CGND-HDA-02093__NEUKK209KJP', 'aals-ALS__CGND-HDA-00447__NEUGA946WMU'}\n"
            ]
          },
          "metadata": {},
          "output_type": "display_data"
        },
        {
          "data": {
            "text/html": [
              "<pre style=\"white-space:pre;overflow-x:auto;line-height:normal;font-family:Menlo,'DejaVu Sans Mono',consolas,'Courier New',monospace\">01:04:33.506 | <span style=\"color: #008080; text-decoration-color: #008080\">INFO</span>    | Flow run<span style=\"color: #800080; text-decoration-color: #800080\"> 'lurking-lion'</span> - \n",
              "684 controls:\n",
              " {'CGND-HDA-03798', 'NA12286', 'HG00099', 'NA12751', 'CGND-HDA-01426', 'HG01613', 'CGND-HDA-02728', 'HG01602', 'NA12775', 'NA07051', 'NA20762', 'NA20775', 'CGND-HDA-04090', 'NA10851', 'HG01630', 'HG01682', 'HG00159', 'HG00137', 'NA20511', 'CGND-HDA-03157', 'CGND-HDA-01641', 'NA11830', 'CGND-HDA-01427', 'CGND-HDA-00209', 'HG00143', 'CGND-HDA-03671', 'CGND-HDA-03167', 'NA12282', 'CGND-HDA-01852', 'NA12046', 'HG02224', 'CGND-HDA-03527', 'CGND-HDA-02774', 'HG00125', 'HG00150', 'HG00242', 'NA20587', 'NA11893', 'CGND-HDA-03739', 'NA07357', 'HG01765', 'HG01512', 'CGND-HDA-02518', 'NA20769', 'NA20795', 'HG01777', 'CGND-HDA-02772', 'HG01680', 'NA11932', 'HG00246', 'CGND-HDA-01593', 'CGND-HDA-03986', 'HG01625', 'HG01524', 'HG01773', 'HG01500', 'CGND-HDA-01454', 'NA20504', 'NA12761', 'CGND-HDA-03486', 'CGND-HDA-01515', 'HG00254', 'HG01775', 'CGND-HDA-02834', 'CGND-HDA-01414', 'HG01615', 'CGND-HDA-03668', 'CGND-HDA-03522', 'CGND-HDA-01487', 'HG01789', 'HG00148', 'CGND-HDA-03772', 'NA12348', 'CGND-HDA-03683', 'NA20815', 'NA07056', 'NA20522', 'NA20757', 'HG02220', 'HG01697', 'CGND-HDA-01608', 'CGND-HDA-01655', 'CGND-HDA-01640', 'NA12874', 'CGND-HDA-03147', 'CGND-HDA-03584', 'HG00157', 'CGND-HDA-03977', 'HG01536', 'CGND-HDA-01486', 'HG02231', 'CGND-HDA-00556', 'CGND-HDA-01522', 'HG00109', 'HG01528', 'CGND-HDA-01518', 'NA20521', 'NA11894', 'HG01605', 'HG00234', 'HG00243', 'CGND-HDA-03794', 'CGND-HDA-03476', 'HG00118', 'CGND-HDA-03579', 'NA10847', 'HG00258', 'CGND-HDA-03519', 'CGND-HDA-01692', 'CGND-HDA-01557', 'HG00238', 'NA20531', 'CGND-HDA-02762', 'CGND-HDA-03152', 'CGND-HDA-02838', 'NA12383', 'CGND-HDA-03479', 'NA12776', 'CGND-HDA-02327', 'HG01786', 'CGND-HDA-02835', 'CGND-HDA-01532', 'NA06984', 'NA20809', 'NA20756', 'HG01684', 'HG01768', 'NA20804', 'NA12287', 'CGND-HDA-01653', 'NA12815', 'CGND-HDA-03784', 'CGND-HDA-02833', 'NA20525', 'HG01632', 'HG00119', 'CGND-HDA-01123', 'CGND-HDA-01606', 'CGND-HDA-03777', 'CGND-HDA-03764', 'CGND-HDA-03792', 'CGND-HDA-01484', 'HG00233', 'HG00158', 'CGND-HDA-03470', 'CGND-HDA-00564', 'HG01530', 'HG01334', 'NA20766', 'NA12045', 'NA20828', 'NA20760', 'NA12044', 'NA20805', 'NA20773', 'HG01767', 'CGND-HDA-02075', 'HG01781', 'NA20763', 'HG01618', 'HG00112', 'HG00240', 'HG00106', 'CGND-HDA-02710', 'CGND-HDA-01464', 'HG00123', 'NA06985', 'NA20826', 'CGND-HDA-03759', 'HG01761', 'NA20832', 'HG00140', 'HG00113', 'CGND-HDA-03788', 'NA12273', 'HG00107', 'HG01679', 'HG00130', 'HG01757', 'NA12006', 'NA20800', 'HG00129', 'CGND-HDA-01651', 'CGND-HDA-03201', 'CGND-HDA-02183', 'HG01612', 'NA20767', 'NA12414', 'HG00101', 'CGND-HDA-03457', 'HG00139', 'CGND-HDA-03978', 'CGND-HDA-03144', 'HG01673', 'HG01519', 'NA11930', 'CGND-HDA-03079', 'NA12272', 'NA12003', 'HG00251', 'CGND-HDA-03548', 'CGND-HDA-03858', 'CGND-HDA-01953', 'CGND-HDA-03864', 'CGND-HDA-01605', 'HG00252', 'HG00174', 'NA20502', 'CGND-HDA-02088', 'NA20507', 'CGND-HDA-02706', 'HG01686', 'HG01510', 'CGND-HDA-03588', 'HG01700', 'NA12413', 'HG01503', 'HG01509', 'CGND-HDA-00434', 'NA11843', 'CGND-HDA-02836', 'CGND-HDA-02714', 'CGND-HDA-03783', 'NA12347', 'CGND-HDA-02742', 'HG01695', 'CGND-HDA-03487', 'CGND-HDA-02519', 'CGND-HDA-02516', 'CGND-HDA-03876', 'CGND-HDA-01901', 'CGND-HDA-01541', 'CGND-HDA-03813', 'NA20814', 'HG02215', 'CGND-HDA-03787', 'HG01747', 'NA20506', 'HG02232', 'NA11831', 'CGND-HDA-03520', 'HG01705', 'CGND-HDA-03197', 'HG01770', 'HG01672', 'NA20512', 'NA20532', 'NA20509', 'HG00121', 'CGND-HDA-02446', 'CGND-HDA-02520', 'CGND-HDA-01416', 'HG01628', 'NA20530', 'CGND-HDA-03689', 'NA20527', 'NA12763', 'HG01513', 'CGND-HDA-02448', 'NA12890', 'CGND-HDA-01604', 'CGND-HDA-03790', 'CGND-HDA-03785', 'NA12004', 'HG00142', 'HG00253', 'NA20754', 'HG00116', 'NA07000', 'NA20543', 'CGND-HDA-03951', 'CGND-HDA-03786', 'NA20818', 'CGND-HDA-03142', 'NA20827', 'CGND-HDA-03084', 'CGND-HDA-02189', 'CGND-HDA-01538', 'CGND-HDA-03524', 'NA20540', 'CGND-HDA-03103', 'CGND-HDA-03137', 'NA20799', 'HG01501', 'NA12760', 'HG02239', 'HG01606', 'CGND-HDA-03483', 'HG01776', 'CGND-HDA-01841', 'HG01670', 'HG00190', 'HG00360', 'CGND-HDA-03874', 'HG00260', 'NA12829', 'CGND-HDA-03597', 'CGND-HDA-01542', 'HG01784', 'NA20796', 'CGND-HDA-03774', 'CGND-HDA-01817', 'HG01791', 'NA20761', 'HG00151', 'NA20770', 'HG00111', 'CGND-HDA-02730', 'CGND-HDA-00435', 'HG01620', 'HG00154', 'HG01676', 'NA11829', 'NA12716', 'CGND-HDA-01691', 'CGND-HDA-03089', 'CGND-HDA-01537', 'CGND-HDA-02770', 'HG02223', 'HG00259', 'CGND-HDA-03795', 'CGND-HDA-03776', 'NA12749', 'NA20529', 'NA20790', 'CGND-HDA-03459', 'NA20768', 'HG00108', 'CGND-HDA-02830', 'CGND-HDA-03669', 'NA12154', 'NA20801', 'NA20772', 'HG00145', 'NA20758', 'CGND-HDA-01830', 'CGND-HDA-03591', 'CGND-HDA-01020', 'HG00097', 'HG01710', 'HG01507', 'HG01779', 'HG01785', 'HG01702', 'CGND-HDA-01503', 'NA20764', 'HG00239', 'NA12340', 'CGND-HDA-02750', 'HG00126', 'NA20808', 'CGND-HDA-00997', 'CGND-HDA-01700', 'NA12889', 'NA20785', 'CGND-HDA-03727', 'CGND-HDA-01488', 'NA20541', 'CGND-HDA-02081', 'NA12005', 'CGND-HDA-03095', 'CGND-HDA-01417', 'HG00245', 'CGND-HDA-02758', 'CGND-HDA-01493', 'NA11995', 'NA07347', 'HG00133', 'CGND-HDA-02567', 'CGND-HDA-01922', 'HG01624', 'HG01771', 'CGND-HDA-03154', 'HG01709', 'CGND-HDA-02764', 'NA20510', 'CGND-HDA-01425', 'CGND-HDA-01436', 'HG00096', 'NA20771', 'HG00237', 'HG02233', 'HG02221', 'NA11933', 'CGND-HDA-03481', 'HG01506', 'CGND-HDA-03734', 'CGND-HDA-02513', 'HG00155', 'CGND-HDA-03950', 'CGND-HDA-02444', 'CGND-HDA-02222', 'NA20544', 'CGND-HDA-03775', 'CGND-HDA-03530', 'HG00100', 'HG00146', 'NA12275', 'HG02236', 'CGND-HDA-03166', 'NA20759', 'HG01766', 'HG00232', 'HG00138', 'NA12872', 'HG00149', 'HG00120', 'NA20518', 'HG01762', 'HG00244', 'NA20778', 'NA12762', 'CGND-HDA-03578', 'CGND-HDA-02732', 'CGND-HDA-02512', 'CGND-HDA-02768', 'CGND-HDA-02746', 'HG02235', 'CGND-HDA-01611', 'NA12400', 'CGND-HDA-03763', 'NA11881', 'NA12717', 'NA06994', 'HG01537', 'NA20582', 'CGND-HDA-03793', 'NA20755', 'CGND-HDA-01818', 'HG00110', 'NA12842', 'CGND-HDA-03801', 'HG01607', 'HG01527', 'NA12827', 'NA20516', 'CGND-HDA-01501', 'NA20508', 'HG02230', 'NA20581', 'CGND-HDA-01445', 'NA06986', 'HG00256', 'HG02238', 'HG00231', 'CGND-HDA-00565', 'NA20783', 'CGND-HDA-02832', 'CGND-HDA-01500', 'CGND-HDA-01433', 'CGND-HDA-01536', 'NA11832', 'CGND-HDA-01413', 'CGND-HDA-03870', 'NA20811', 'CGND-HDA-02738', 'CGND-HDA-02716', 'NA20536', 'CGND-HDA-02724', 'NA12843', 'CGND-HDA-02223', 'CGND-HDA-01519', 'CGND-HDA-02756', 'HG01617', 'NA12812', 'CGND-HDA-02766', 'NA11892', 'CGND-HDA-01900', 'NA12399', 'CGND-HDA-03075', 'CGND-HDA-03962', 'NA20813', 'NA20753', 'HG00128', 'HG00122', 'CGND-HDA-02187', 'CGND-HDA-03074', 'HG00127', 'CGND-HDA-01533', 'CGND-HDA-01453', 'CGND-HDA-01865', 'HG00141', 'NA12342', 'CGND-HDA-02079', 'NA20528', 'NA12144', 'CGND-HDA-03448', 'HG01603', 'CGND-HDA-01663', 'CGND-HDA-01634', 'CGND-HDA-03811', 'CGND-HDA-02092', 'NA20505', 'NA20515', 'HG01619', 'CGND-HDA-03468', 'HG01685', 'CGND-HDA-03081', 'CGND-HDA-02690', 'CGND-HDA-01526', 'HG00262', 'NA20519', 'HG01675', 'HG01518', 'HG00235', 'CGND-HDA-01976', 'NA20542', 'CGND-HDA-02748', 'CGND-HDA-01448', 'CGND-HDA-01842', 'CGND-HDA-00260', 'CGND-HDA-03781', 'NA20520', 'NA07048', 'NA11918', 'NA20774', 'NA12873', 'CGND-HDA-01559', 'CGND-HDA-03098', 'NA12058', 'HG00132', 'CGND-HDA-03421', 'HG01515', 'CGND-HDA-02754', 'CGND-HDA-02509', 'NA07037', 'CGND-HDA-03532', 'NA12341', 'NA12283', 'NA20797', 'NA12155', 'HG01608', 'CGND-HDA-02440', 'CGND-HDA-03093', 'CGND-HDA-02734', 'NA12777', 'NA12878', 'CGND-HDA-01543', 'NA12234', 'NA20514', 'HG00136', 'NA20802', 'NA20787', 'NA20586', 'CGND-HDA-03149', 'CGND-HDA-02530', 'NA12748', 'NA20807', 'NA20752', 'CGND-HDA-03035', 'CGND-HDA-03753', 'HG00115', 'CGND-HDA-01502', 'HG00105', 'NA20588', 'CGND-HDA-03780', 'NA12828', 'HG01678', 'NA11840', 'NA12718', 'NA20819', 'HG01610', 'NA20535', 'CGND-HDA-01664', 'HG00236', 'NA12249', 'HG01746', 'HG01756', 'CGND-HDA-02021', 'CGND-HDA-01438', 'HG00131', 'CGND-HDA-01592', 'HG01623', 'HG00261', 'CGND-HDA-01447', 'NA20798', 'HG00103', 'CGND-HDA-02514', 'CGND-HDA-02720', 'CGND-HDA-01531', 'CGND-HDA-01607', 'HG01669', 'NA06989', 'CGND-HDA-02740', 'CGND-HDA-03545', 'NA11920', 'NA11931', 'CGND-HDA-01456', 'CGND-HDA-03411', 'HG02219', 'NA20533', 'CGND-HDA-01929', 'NA20524', 'CGND-HDA-02726', 'NA20812', 'NA20503', 'HG01704', 'CGND-HDA-01551', 'CGND-HDA-03097', 'NA12813', 'CGND-HDA-03778', 'NA20538', 'CGND-HDA-03768', 'HG00160', 'NA20513', 'NA20803', 'CGND-HDA-03770', 'HG01668', 'CGND-HDA-02857', 'HG01531', 'CGND-HDA-03773', 'NA12750', 'HG00264', 'CGND-HDA-02831', 'CGND-HDA-03957', 'HG01504', 'CGND-HDA-02722', 'CGND-HDA-03698', 'HG00265', 'HG00114', 'NA12043', 'NA12778', 'CGND-HDA-03896', 'CGND-HDA-01540', 'HG01790', 'NA20589', 'HG01522', 'CGND-HDA-01511', 'NA20822', 'CGND-HDA-03596', 'NA20786', 'NA20810', 'HG00263', 'CGND-HDA-01610', 'NA11919', 'CGND-HDA-00599', 'CGND-HDA-03771', 'CGND-HDA-03585', 'CGND-HDA-00196', 'CGND-HDA-01853', 'NA12489', 'CGND-HDA-02324', 'CGND-HDA-03539', 'CGND-HDA-01430', 'NA20585', 'CGND-HDA-01021', 'NA11992', 'NA20765', 'HG01631', 'CGND-HDA-02510', 'HG00257', 'HG01694', 'HG01521', 'CGND-HDA-02829', 'CGND-HDA-02718', 'HG01516', 'HG00250', 'CGND-HDA-01594', 'NA20806', 'HG00102', 'CGND-HDA-01410', 'CGND-HDA-03782', 'CGND-HDA-03797', 'NA12156', 'NA20539', 'HG01707', 'HG01626', 'HG00255', 'NA20792', 'CGND-HDA-02515', 'CGND-HDA-02445', 'NA20821', 'HG00117', 'NA20534', 'CGND-HDA-01654', 'HG01699', 'NA12814', 'CGND-HDA-02760', 'NA11994', 'HG01708', 'NA20517', 'CGND-HDA-03562', 'CGND-HDA-03581', 'HG01525'}\n",
              "</pre>\n"
            ],
            "text/plain": [
              "01:04:33.506 | \u001b[36mINFO\u001b[0m    | Flow run\u001b[35m 'lurking-lion'\u001b[0m - \n",
              "684 controls:\n",
              " {'CGND-HDA-03798', 'NA12286', 'HG00099', 'NA12751', 'CGND-HDA-01426', 'HG01613', 'CGND-HDA-02728', 'HG01602', 'NA12775', 'NA07051', 'NA20762', 'NA20775', 'CGND-HDA-04090', 'NA10851', 'HG01630', 'HG01682', 'HG00159', 'HG00137', 'NA20511', 'CGND-HDA-03157', 'CGND-HDA-01641', 'NA11830', 'CGND-HDA-01427', 'CGND-HDA-00209', 'HG00143', 'CGND-HDA-03671', 'CGND-HDA-03167', 'NA12282', 'CGND-HDA-01852', 'NA12046', 'HG02224', 'CGND-HDA-03527', 'CGND-HDA-02774', 'HG00125', 'HG00150', 'HG00242', 'NA20587', 'NA11893', 'CGND-HDA-03739', 'NA07357', 'HG01765', 'HG01512', 'CGND-HDA-02518', 'NA20769', 'NA20795', 'HG01777', 'CGND-HDA-02772', 'HG01680', 'NA11932', 'HG00246', 'CGND-HDA-01593', 'CGND-HDA-03986', 'HG01625', 'HG01524', 'HG01773', 'HG01500', 'CGND-HDA-01454', 'NA20504', 'NA12761', 'CGND-HDA-03486', 'CGND-HDA-01515', 'HG00254', 'HG01775', 'CGND-HDA-02834', 'CGND-HDA-01414', 'HG01615', 'CGND-HDA-03668', 'CGND-HDA-03522', 'CGND-HDA-01487', 'HG01789', 'HG00148', 'CGND-HDA-03772', 'NA12348', 'CGND-HDA-03683', 'NA20815', 'NA07056', 'NA20522', 'NA20757', 'HG02220', 'HG01697', 'CGND-HDA-01608', 'CGND-HDA-01655', 'CGND-HDA-01640', 'NA12874', 'CGND-HDA-03147', 'CGND-HDA-03584', 'HG00157', 'CGND-HDA-03977', 'HG01536', 'CGND-HDA-01486', 'HG02231', 'CGND-HDA-00556', 'CGND-HDA-01522', 'HG00109', 'HG01528', 'CGND-HDA-01518', 'NA20521', 'NA11894', 'HG01605', 'HG00234', 'HG00243', 'CGND-HDA-03794', 'CGND-HDA-03476', 'HG00118', 'CGND-HDA-03579', 'NA10847', 'HG00258', 'CGND-HDA-03519', 'CGND-HDA-01692', 'CGND-HDA-01557', 'HG00238', 'NA20531', 'CGND-HDA-02762', 'CGND-HDA-03152', 'CGND-HDA-02838', 'NA12383', 'CGND-HDA-03479', 'NA12776', 'CGND-HDA-02327', 'HG01786', 'CGND-HDA-02835', 'CGND-HDA-01532', 'NA06984', 'NA20809', 'NA20756', 'HG01684', 'HG01768', 'NA20804', 'NA12287', 'CGND-HDA-01653', 'NA12815', 'CGND-HDA-03784', 'CGND-HDA-02833', 'NA20525', 'HG01632', 'HG00119', 'CGND-HDA-01123', 'CGND-HDA-01606', 'CGND-HDA-03777', 'CGND-HDA-03764', 'CGND-HDA-03792', 'CGND-HDA-01484', 'HG00233', 'HG00158', 'CGND-HDA-03470', 'CGND-HDA-00564', 'HG01530', 'HG01334', 'NA20766', 'NA12045', 'NA20828', 'NA20760', 'NA12044', 'NA20805', 'NA20773', 'HG01767', 'CGND-HDA-02075', 'HG01781', 'NA20763', 'HG01618', 'HG00112', 'HG00240', 'HG00106', 'CGND-HDA-02710', 'CGND-HDA-01464', 'HG00123', 'NA06985', 'NA20826', 'CGND-HDA-03759', 'HG01761', 'NA20832', 'HG00140', 'HG00113', 'CGND-HDA-03788', 'NA12273', 'HG00107', 'HG01679', 'HG00130', 'HG01757', 'NA12006', 'NA20800', 'HG00129', 'CGND-HDA-01651', 'CGND-HDA-03201', 'CGND-HDA-02183', 'HG01612', 'NA20767', 'NA12414', 'HG00101', 'CGND-HDA-03457', 'HG00139', 'CGND-HDA-03978', 'CGND-HDA-03144', 'HG01673', 'HG01519', 'NA11930', 'CGND-HDA-03079', 'NA12272', 'NA12003', 'HG00251', 'CGND-HDA-03548', 'CGND-HDA-03858', 'CGND-HDA-01953', 'CGND-HDA-03864', 'CGND-HDA-01605', 'HG00252', 'HG00174', 'NA20502', 'CGND-HDA-02088', 'NA20507', 'CGND-HDA-02706', 'HG01686', 'HG01510', 'CGND-HDA-03588', 'HG01700', 'NA12413', 'HG01503', 'HG01509', 'CGND-HDA-00434', 'NA11843', 'CGND-HDA-02836', 'CGND-HDA-02714', 'CGND-HDA-03783', 'NA12347', 'CGND-HDA-02742', 'HG01695', 'CGND-HDA-03487', 'CGND-HDA-02519', 'CGND-HDA-02516', 'CGND-HDA-03876', 'CGND-HDA-01901', 'CGND-HDA-01541', 'CGND-HDA-03813', 'NA20814', 'HG02215', 'CGND-HDA-03787', 'HG01747', 'NA20506', 'HG02232', 'NA11831', 'CGND-HDA-03520', 'HG01705', 'CGND-HDA-03197', 'HG01770', 'HG01672', 'NA20512', 'NA20532', 'NA20509', 'HG00121', 'CGND-HDA-02446', 'CGND-HDA-02520', 'CGND-HDA-01416', 'HG01628', 'NA20530', 'CGND-HDA-03689', 'NA20527', 'NA12763', 'HG01513', 'CGND-HDA-02448', 'NA12890', 'CGND-HDA-01604', 'CGND-HDA-03790', 'CGND-HDA-03785', 'NA12004', 'HG00142', 'HG00253', 'NA20754', 'HG00116', 'NA07000', 'NA20543', 'CGND-HDA-03951', 'CGND-HDA-03786', 'NA20818', 'CGND-HDA-03142', 'NA20827', 'CGND-HDA-03084', 'CGND-HDA-02189', 'CGND-HDA-01538', 'CGND-HDA-03524', 'NA20540', 'CGND-HDA-03103', 'CGND-HDA-03137', 'NA20799', 'HG01501', 'NA12760', 'HG02239', 'HG01606', 'CGND-HDA-03483', 'HG01776', 'CGND-HDA-01841', 'HG01670', 'HG00190', 'HG00360', 'CGND-HDA-03874', 'HG00260', 'NA12829', 'CGND-HDA-03597', 'CGND-HDA-01542', 'HG01784', 'NA20796', 'CGND-HDA-03774', 'CGND-HDA-01817', 'HG01791', 'NA20761', 'HG00151', 'NA20770', 'HG00111', 'CGND-HDA-02730', 'CGND-HDA-00435', 'HG01620', 'HG00154', 'HG01676', 'NA11829', 'NA12716', 'CGND-HDA-01691', 'CGND-HDA-03089', 'CGND-HDA-01537', 'CGND-HDA-02770', 'HG02223', 'HG00259', 'CGND-HDA-03795', 'CGND-HDA-03776', 'NA12749', 'NA20529', 'NA20790', 'CGND-HDA-03459', 'NA20768', 'HG00108', 'CGND-HDA-02830', 'CGND-HDA-03669', 'NA12154', 'NA20801', 'NA20772', 'HG00145', 'NA20758', 'CGND-HDA-01830', 'CGND-HDA-03591', 'CGND-HDA-01020', 'HG00097', 'HG01710', 'HG01507', 'HG01779', 'HG01785', 'HG01702', 'CGND-HDA-01503', 'NA20764', 'HG00239', 'NA12340', 'CGND-HDA-02750', 'HG00126', 'NA20808', 'CGND-HDA-00997', 'CGND-HDA-01700', 'NA12889', 'NA20785', 'CGND-HDA-03727', 'CGND-HDA-01488', 'NA20541', 'CGND-HDA-02081', 'NA12005', 'CGND-HDA-03095', 'CGND-HDA-01417', 'HG00245', 'CGND-HDA-02758', 'CGND-HDA-01493', 'NA11995', 'NA07347', 'HG00133', 'CGND-HDA-02567', 'CGND-HDA-01922', 'HG01624', 'HG01771', 'CGND-HDA-03154', 'HG01709', 'CGND-HDA-02764', 'NA20510', 'CGND-HDA-01425', 'CGND-HDA-01436', 'HG00096', 'NA20771', 'HG00237', 'HG02233', 'HG02221', 'NA11933', 'CGND-HDA-03481', 'HG01506', 'CGND-HDA-03734', 'CGND-HDA-02513', 'HG00155', 'CGND-HDA-03950', 'CGND-HDA-02444', 'CGND-HDA-02222', 'NA20544', 'CGND-HDA-03775', 'CGND-HDA-03530', 'HG00100', 'HG00146', 'NA12275', 'HG02236', 'CGND-HDA-03166', 'NA20759', 'HG01766', 'HG00232', 'HG00138', 'NA12872', 'HG00149', 'HG00120', 'NA20518', 'HG01762', 'HG00244', 'NA20778', 'NA12762', 'CGND-HDA-03578', 'CGND-HDA-02732', 'CGND-HDA-02512', 'CGND-HDA-02768', 'CGND-HDA-02746', 'HG02235', 'CGND-HDA-01611', 'NA12400', 'CGND-HDA-03763', 'NA11881', 'NA12717', 'NA06994', 'HG01537', 'NA20582', 'CGND-HDA-03793', 'NA20755', 'CGND-HDA-01818', 'HG00110', 'NA12842', 'CGND-HDA-03801', 'HG01607', 'HG01527', 'NA12827', 'NA20516', 'CGND-HDA-01501', 'NA20508', 'HG02230', 'NA20581', 'CGND-HDA-01445', 'NA06986', 'HG00256', 'HG02238', 'HG00231', 'CGND-HDA-00565', 'NA20783', 'CGND-HDA-02832', 'CGND-HDA-01500', 'CGND-HDA-01433', 'CGND-HDA-01536', 'NA11832', 'CGND-HDA-01413', 'CGND-HDA-03870', 'NA20811', 'CGND-HDA-02738', 'CGND-HDA-02716', 'NA20536', 'CGND-HDA-02724', 'NA12843', 'CGND-HDA-02223', 'CGND-HDA-01519', 'CGND-HDA-02756', 'HG01617', 'NA12812', 'CGND-HDA-02766', 'NA11892', 'CGND-HDA-01900', 'NA12399', 'CGND-HDA-03075', 'CGND-HDA-03962', 'NA20813', 'NA20753', 'HG00128', 'HG00122', 'CGND-HDA-02187', 'CGND-HDA-03074', 'HG00127', 'CGND-HDA-01533', 'CGND-HDA-01453', 'CGND-HDA-01865', 'HG00141', 'NA12342', 'CGND-HDA-02079', 'NA20528', 'NA12144', 'CGND-HDA-03448', 'HG01603', 'CGND-HDA-01663', 'CGND-HDA-01634', 'CGND-HDA-03811', 'CGND-HDA-02092', 'NA20505', 'NA20515', 'HG01619', 'CGND-HDA-03468', 'HG01685', 'CGND-HDA-03081', 'CGND-HDA-02690', 'CGND-HDA-01526', 'HG00262', 'NA20519', 'HG01675', 'HG01518', 'HG00235', 'CGND-HDA-01976', 'NA20542', 'CGND-HDA-02748', 'CGND-HDA-01448', 'CGND-HDA-01842', 'CGND-HDA-00260', 'CGND-HDA-03781', 'NA20520', 'NA07048', 'NA11918', 'NA20774', 'NA12873', 'CGND-HDA-01559', 'CGND-HDA-03098', 'NA12058', 'HG00132', 'CGND-HDA-03421', 'HG01515', 'CGND-HDA-02754', 'CGND-HDA-02509', 'NA07037', 'CGND-HDA-03532', 'NA12341', 'NA12283', 'NA20797', 'NA12155', 'HG01608', 'CGND-HDA-02440', 'CGND-HDA-03093', 'CGND-HDA-02734', 'NA12777', 'NA12878', 'CGND-HDA-01543', 'NA12234', 'NA20514', 'HG00136', 'NA20802', 'NA20787', 'NA20586', 'CGND-HDA-03149', 'CGND-HDA-02530', 'NA12748', 'NA20807', 'NA20752', 'CGND-HDA-03035', 'CGND-HDA-03753', 'HG00115', 'CGND-HDA-01502', 'HG00105', 'NA20588', 'CGND-HDA-03780', 'NA12828', 'HG01678', 'NA11840', 'NA12718', 'NA20819', 'HG01610', 'NA20535', 'CGND-HDA-01664', 'HG00236', 'NA12249', 'HG01746', 'HG01756', 'CGND-HDA-02021', 'CGND-HDA-01438', 'HG00131', 'CGND-HDA-01592', 'HG01623', 'HG00261', 'CGND-HDA-01447', 'NA20798', 'HG00103', 'CGND-HDA-02514', 'CGND-HDA-02720', 'CGND-HDA-01531', 'CGND-HDA-01607', 'HG01669', 'NA06989', 'CGND-HDA-02740', 'CGND-HDA-03545', 'NA11920', 'NA11931', 'CGND-HDA-01456', 'CGND-HDA-03411', 'HG02219', 'NA20533', 'CGND-HDA-01929', 'NA20524', 'CGND-HDA-02726', 'NA20812', 'NA20503', 'HG01704', 'CGND-HDA-01551', 'CGND-HDA-03097', 'NA12813', 'CGND-HDA-03778', 'NA20538', 'CGND-HDA-03768', 'HG00160', 'NA20513', 'NA20803', 'CGND-HDA-03770', 'HG01668', 'CGND-HDA-02857', 'HG01531', 'CGND-HDA-03773', 'NA12750', 'HG00264', 'CGND-HDA-02831', 'CGND-HDA-03957', 'HG01504', 'CGND-HDA-02722', 'CGND-HDA-03698', 'HG00265', 'HG00114', 'NA12043', 'NA12778', 'CGND-HDA-03896', 'CGND-HDA-01540', 'HG01790', 'NA20589', 'HG01522', 'CGND-HDA-01511', 'NA20822', 'CGND-HDA-03596', 'NA20786', 'NA20810', 'HG00263', 'CGND-HDA-01610', 'NA11919', 'CGND-HDA-00599', 'CGND-HDA-03771', 'CGND-HDA-03585', 'CGND-HDA-00196', 'CGND-HDA-01853', 'NA12489', 'CGND-HDA-02324', 'CGND-HDA-03539', 'CGND-HDA-01430', 'NA20585', 'CGND-HDA-01021', 'NA11992', 'NA20765', 'HG01631', 'CGND-HDA-02510', 'HG00257', 'HG01694', 'HG01521', 'CGND-HDA-02829', 'CGND-HDA-02718', 'HG01516', 'HG00250', 'CGND-HDA-01594', 'NA20806', 'HG00102', 'CGND-HDA-01410', 'CGND-HDA-03782', 'CGND-HDA-03797', 'NA12156', 'NA20539', 'HG01707', 'HG01626', 'HG00255', 'NA20792', 'CGND-HDA-02515', 'CGND-HDA-02445', 'NA20821', 'HG00117', 'NA20534', 'CGND-HDA-01654', 'HG01699', 'NA12814', 'CGND-HDA-02760', 'NA11994', 'HG01708', 'NA20517', 'CGND-HDA-03562', 'CGND-HDA-03581', 'HG01525'}\n"
            ]
          },
          "metadata": {},
          "output_type": "display_data"
        },
        {
          "data": {
            "text/html": [
              "<pre style=\"white-space:pre;overflow-x:auto;line-height:normal;font-family:Menlo,'DejaVu Sans Mono',consolas,'Courier New',monospace\">01:04:33.537 | <span style=\"color: #008080; text-decoration-color: #008080\">INFO</span>    | Flow run<span style=\"color: #800080; text-decoration-color: #800080\"> 'lurking-lion'</span> - Filtered 1423 alleles with frequency below 5.000%\n",
              "</pre>\n"
            ],
            "text/plain": [
              "01:04:33.537 | \u001b[36mINFO\u001b[0m    | Flow run\u001b[35m 'lurking-lion'\u001b[0m - Filtered 1423 alleles with frequency below 5.000%\n"
            ]
          },
          "metadata": {},
          "output_type": "display_data"
        },
        {
          "data": {
            "text/html": [
              "<pre style=\"white-space:pre;overflow-x:auto;line-height:normal;font-family:Menlo,'DejaVu Sans Mono',consolas,'Courier New',monospace\">01:04:33.538 | <span style=\"color: #008080; text-decoration-color: #008080\">INFO</span>    | Flow run<span style=\"color: #800080; text-decoration-color: #800080\"> 'lurking-lion'</span> - Kept 59 alleles\n",
              "</pre>\n"
            ],
            "text/plain": [
              "01:04:33.538 | \u001b[36mINFO\u001b[0m    | Flow run\u001b[35m 'lurking-lion'\u001b[0m - Kept 59 alleles\n"
            ]
          },
          "metadata": {},
          "output_type": "display_data"
        },
        {
          "data": {
            "text/html": [
              "<pre style=\"white-space:pre;overflow-x:auto;line-height:normal;font-family:Menlo,'DejaVu Sans Mono',consolas,'Courier New',monospace\">01:04:33.636 | <span style=\"color: #008080; text-decoration-color: #008080\">INFO</span>    | Flow run<span style=\"color: #800080; text-decoration-color: #800080\"> 'lurking-lion'</span> - Finished in state <span style=\"color: #008000; text-decoration-color: #008000\">Completed</span>()\n",
              "</pre>\n"
            ],
            "text/plain": [
              "01:04:33.636 | \u001b[36mINFO\u001b[0m    | Flow run\u001b[35m 'lurking-lion'\u001b[0m - Finished in state \u001b[32mCompleted\u001b[0m()\n"
            ]
          },
          "metadata": {},
          "output_type": "display_data"
        },
        {
          "name": "stdout",
          "output_type": "stream",
          "text": [
            "\n",
            "clinical data:\n",
            "                       Quote    Data File ID ExternalSubjectId   \n",
            "ExternalSampleId                                                 \n",
            "CGND-HDA-05557    CGND_14852  CGND-HDA-05557       NEUUF013XXL  \\\n",
            "CGND-HDA-05556    CGND_14852  CGND-HDA-05556       NEUHM496PGR   \n",
            "CGND-HDA-05555    CGND_14852  CGND-HDA-05555       NEUPK599KHH   \n",
            "CGND-HDA-05554    CGND_14852  CGND-HDA-05554       NEUHD589CVP   \n",
            "CGND-HDA-05553    CGND_14852  CGND-HDA-05553       NEUXX223WT8   \n",
            "\n",
            "                              Project     Site Sample Collected   \n",
            "ExternalSampleId                                                  \n",
            "CGND-HDA-05557    ALS Natural History  Henry Ford Health System  \\\n",
            "CGND-HDA-05556    ALS Natural History  Henry Ford Health System   \n",
            "CGND-HDA-05555    ALS Natural History  Henry Ford Health System   \n",
            "CGND-HDA-05554    ALS Natural History  Henry Ford Health System   \n",
            "CGND-HDA-05553    ALS Natural History  Henry Ford Health System   \n",
            "\n",
            "                   Site Specimen Collected     Sex               Ethnicity   \n",
            "ExternalSampleId                                                             \n",
            "CGND-HDA-05557    Henry Ford Health System    Male  Not Hispanic or Latino  \\\n",
            "CGND-HDA-05556    Henry Ford Health System    Male  Not Hispanic or Latino   \n",
            "CGND-HDA-05555    Henry Ford Health System  Female  Not Hispanic or Latino   \n",
            "CGND-HDA-05554    Henry Ford Health System    Male  Not Hispanic or Latino   \n",
            "CGND-HDA-05553    Henry Ford Health System  Female  Not Hispanic or Latino   \n",
            "\n",
            "                     Subject Group           Subject Group Subcategory  ...   \n",
            "ExternalSampleId                                                        ...   \n",
            "CGND-HDA-05557    ALS Spectrum MND  Progressive Muscular Atrophy (PMA)  ...  \\\n",
            "CGND-HDA-05556    ALS Spectrum MND            Progressive Bulbar Palsy  ...   \n",
            "CGND-HDA-05555    ALS Spectrum MND               Classical/Typical ALS  ...   \n",
            "CGND-HDA-05554    ALS Spectrum MND               Classical/Typical ALS  ...   \n",
            "CGND-HDA-05553    ALS Spectrum MND               Classical/Typical ALS  ...   \n",
            "\n",
            "                 Sex Genotype pct_african pct_south_asian pct_east_asian   \n",
            "ExternalSampleId                                                           \n",
            "CGND-HDA-05557             XY    0.007626        0.000010        0.00001  \\\n",
            "CGND-HDA-05556             XY    0.021306        0.000010        0.00001   \n",
            "CGND-HDA-05555             XX    0.005276        0.000010        0.00001   \n",
            "CGND-HDA-05554             XY    0.005465        0.000010        0.00001   \n",
            "CGND-HDA-05553             XX    0.013105        0.026626        0.00001   \n",
            "\n",
            "                 pct_european pct_americas C9 repeat size Expanded, >=30   \n",
            "ExternalSampleId                                                           \n",
            "CGND-HDA-05557       0.992344     0.000010            NaN            NaN  \\\n",
            "CGND-HDA-05556       0.978664     0.000010            NaN            NaN   \n",
            "CGND-HDA-05555       0.994694     0.000010            NaN            NaN   \n",
            "CGND-HDA-05554       0.990614     0.003901            NaN            NaN   \n",
            "CGND-HDA-05553       0.960249     0.000010            NaN            NaN   \n",
            "\n",
            "                 ATXN2 repeat size Intermediate, 30-33  \n",
            "ExternalSampleId                                        \n",
            "CGND-HDA-05557                 NaN                 NaN  \n",
            "CGND-HDA-05556                 NaN                 NaN  \n",
            "CGND-HDA-05555                 NaN                 NaN  \n",
            "CGND-HDA-05554                 NaN                 NaN  \n",
            "CGND-HDA-05553                 NaN                 NaN  \n",
            "\n",
            "[5 rows x 58 columns]\n"
          ]
        }
      ],
      "source": [
        "from prefect import unmapped\n",
        "from tqdm import tqdm\n",
        "\n",
        "from input import processInputFiles\n",
        "\n",
        "(caseGenotypes,\n",
        "caseIDs,\n",
        "holdoutCaseGenotypes,\n",
        "holdoutCaseIDs,\n",
        "controlGenotypes,\n",
        "controlIDs,\n",
        "holdoutControlGenotypes,\n",
        "holdoutControlIDs,\n",
        "clinicalData) = await processInputFiles(config)\n",
        "\n",
        "print(f\"\\nclinical data:\\n{clinicalData.head()}\")"
      ]
    },
    {
      "attachments": {},
      "cell_type": "markdown",
      "metadata": {
        "id": "5xWQrQYTdkSs"
      },
      "source": [
        "## Evaluate model stack"
      ]
    },
    {
      "cell_type": "code",
      "execution_count": 3,
      "metadata": {
        "colab": {
          "base_uri": "https://localhost:8080/",
          "height": 415
        },
        "id": "KOm3iWTTdmuj",
        "outputId": "7a7f6f03-4a6d-4cbe-df55-97ab9225f8a2"
      },
      "outputs": [
        {
          "ename": "NameError",
          "evalue": "name 'config' is not defined",
          "output_type": "error",
          "traceback": [
            "\u001b[0;31m---------------------------------------------------------------------------\u001b[0m",
            "\u001b[0;31mNameError\u001b[0m                                 Traceback (most recent call last)",
            "Cell \u001b[0;32mIn[3], line 6\u001b[0m\n\u001b[1;32m      2\u001b[0m \u001b[39mfrom\u001b[39;00m \u001b[39msklearn\u001b[39;00m\u001b[39m.\u001b[39;00m\u001b[39mmodel_selection\u001b[39;00m \u001b[39mimport\u001b[39;00m StratifiedKFold\n\u001b[1;32m      3\u001b[0m \u001b[39mfrom\u001b[39;00m \u001b[39mentrypoint\u001b[39;00m \u001b[39mimport\u001b[39;00m classify\n\u001b[1;32m      5\u001b[0m outerCvIterator \u001b[39m=\u001b[39m StratifiedKFold(\n\u001b[0;32m----> 6\u001b[0m     n_splits\u001b[39m=\u001b[39mconfig[\u001b[39m\"\u001b[39m\u001b[39msampling\u001b[39m\u001b[39m\"\u001b[39m][\u001b[39m\"\u001b[39m\u001b[39mcrossValIterations\u001b[39m\u001b[39m\"\u001b[39m], shuffle\u001b[39m=\u001b[39m\u001b[39mFalse\u001b[39;00m\n\u001b[1;32m      7\u001b[0m )\n\u001b[1;32m      8\u001b[0m innerCvIterator \u001b[39m=\u001b[39m outerCvIterator\n\u001b[1;32m      9\u001b[0m \u001b[39mif\u001b[39;00m config[\u001b[39m\"\u001b[39m\u001b[39mtracking\u001b[39m\u001b[39m\"\u001b[39m][\u001b[39m\"\u001b[39m\u001b[39mremote\u001b[39m\u001b[39m\"\u001b[39m]:\n",
            "\u001b[0;31mNameError\u001b[0m: name 'config' is not defined"
          ]
        }
      ],
      "source": [
        "import neptune\n",
        "from sklearn.model_selection import StratifiedKFold\n",
        "from entrypoint import classify\n",
        "\n",
        "outerCvIterator = StratifiedKFold(\n",
        "    n_splits=config[\"sampling\"][\"crossValIterations\"], shuffle=False\n",
        ")\n",
        "innerCvIterator = outerCvIterator\n",
        "if config[\"tracking\"][\"remote\"]:\n",
        "    projectTracker = neptune.init_project(\n",
        "        project=f'{config[\"tracking\"][\"entity\"]}/{config[\"tracking\"][\"project\"]}',\n",
        "        api_token=config[\"tracking\"][\"token\"],\n",
        "    )\n",
        "\n",
        "results = []\n",
        "for model, hyperParameterSpace in list(config[\"model\"][\"stack\"].items()):\n",
        "    results.append(\n",
        "        await classify(\n",
        "            caseGenotypes,\n",
        "            controlGenotypes,\n",
        "            holdoutCaseGenotypes,\n",
        "            holdoutControlGenotypes,\n",
        "            clinicalData,\n",
        "            model,\n",
        "            hyperParameterSpace,\n",
        "            innerCvIterator,\n",
        "            outerCvIterator,\n",
        "        ),\n",
        "    )"
      ]
    },
    {
      "cell_type": "code",
      "execution_count": null,
      "metadata": {},
      "outputs": [],
      "source": []
    }
  ],
  "metadata": {
    "colab": {
      "provenance": []
    },
    "kernelspec": {
      "display_name": "base",
      "language": "python",
      "name": "python3"
    },
    "language_info": {
      "codemirror_mode": {
        "name": "ipython",
        "version": 3
      },
      "file_extension": ".py",
      "mimetype": "text/x-python",
      "name": "python",
      "nbconvert_exporter": "python",
      "pygments_lexer": "ipython3",
      "version": "3.10.10"
    },
    "vscode": {
      "interpreter": {
        "hash": "b8de2bb8cfc0129dc4ad0d33ebf53f4c81d236710e7f8da07ef8e91d061d131b"
      }
    }
  },
  "nbformat": 4,
  "nbformat_minor": 0
}
