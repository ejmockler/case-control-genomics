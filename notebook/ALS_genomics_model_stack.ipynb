{
  "cells": [
    {
      "attachments": {},
      "cell_type": "markdown",
      "metadata": {
        "id": "CtFYp82_avzf"
      },
      "source": [
        "# Whole-genome analysis workflow"
      ]
    },
    {
      "cell_type": "code",
      "execution_count": 31,
      "metadata": {
        "colab": {
          "base_uri": "https://localhost:8080/"
        },
        "id": "FPZ8uR95ao7W",
        "outputId": "a1c56261-0150-4f59-e0fa-5e3deea610b5"
      },
      "outputs": [],
      "source": [
        "# ~2 minutes to install \n",
        "#%pip install -U --no-cache-dir scikit-learn scikit-optimize prefect prefect-ray ray plotly openpyxl shap lion_pytorch pytorch_tabnet xgboost neptune pyspark pyarrow dill fastnumbers"
      ]
    },
    {
      "cell_type": "code",
      "execution_count": 5,
      "metadata": {
        "colab": {
          "base_uri": "https://localhost:8080/",
          "height": 264
        },
        "id": "T-XkqgwZaBX0",
        "outputId": "1f74b602-b8f5-41c4-d1b4-c1c7ced32b36"
      },
      "outputs": [
        {
          "data": {
            "text/html": [
              "<div>\n",
              "    <div style=\"margin-left: 50px;display: flex;flex-direction: row;align-items: center\">\n",
              "        <h3 style=\"color: var(--jp-ui-font-color0)\">Ray</h3>\n",
              "        <svg version=\"1.1\" id=\"ray\" width=\"3em\" viewBox=\"0 0 144.5 144.6\" style=\"margin-left: 3em;margin-right: 3em\">\n",
              "            <g id=\"layer-1\">\n",
              "                <path fill=\"#00a2e9\" class=\"st0\" d=\"M97.3,77.2c-3.8-1.1-6.2,0.9-8.3,5.1c-3.5,6.8-9.9,9.9-17.4,9.6S58,88.1,54.8,81.2c-1.4-3-3-4-6.3-4.1\n",
              "                    c-5.6-0.1-9.9,0.1-13.1,6.4c-3.8,7.6-13.6,10.2-21.8,7.6C5.2,88.4-0.4,80.5,0,71.7c0.1-8.4,5.7-15.8,13.8-18.2\n",
              "                    c8.4-2.6,17.5,0.7,22.3,8c1.3,1.9,1.3,5.2,3.6,5.6c3.9,0.6,8,0.2,12,0.2c1.8,0,1.9-1.6,2.4-2.8c3.5-7.8,9.7-11.8,18-11.9\n",
              "                    c8.2-0.1,14.4,3.9,17.8,11.4c1.3,2.8,2.9,3.6,5.7,3.3c1-0.1,2,0.1,3,0c2.8-0.5,6.4,1.7,8.1-2.7s-2.3-5.5-4.1-7.5\n",
              "                    c-5.1-5.7-10.9-10.8-16.1-16.3C84,38,81.9,37.1,78,38.3C66.7,42,56.2,35.7,53,24.1C50.3,14,57.3,2.8,67.7,0.5\n",
              "                    C78.4-2,89,4.7,91.5,15.3c0.1,0.3,0.1,0.5,0.2,0.8c0.7,3.4,0.7,6.9-0.8,9.8c-1.7,3.2-0.8,5,1.5,7.2c6.7,6.5,13.3,13,19.8,19.7\n",
              "                    c1.8,1.8,3,2.1,5.5,1.2c9.1-3.4,17.9-0.6,23.4,7c4.8,6.9,4.6,16.1-0.4,22.9c-5.4,7.2-14.2,9.9-23.1,6.5c-2.3-0.9-3.5-0.6-5.1,1.1\n",
              "                    c-6.7,6.9-13.6,13.7-20.5,20.4c-1.8,1.8-2.5,3.2-1.4,5.9c3.5,8.7,0.3,18.6-7.7,23.6c-7.9,5-18.2,3.8-24.8-2.9\n",
              "                    c-6.4-6.4-7.4-16.2-2.5-24.3c4.9-7.8,14.5-11,23.1-7.8c3,1.1,4.7,0.5,6.9-1.7C91.7,98.4,98,92.3,104.2,86c1.6-1.6,4.1-2.7,2.6-6.2\n",
              "                    c-1.4-3.3-3.8-2.5-6.2-2.6C99.8,77.2,98.9,77.2,97.3,77.2z M72.1,29.7c5.5,0.1,9.9-4.3,10-9.8c0-0.1,0-0.2,0-0.3\n",
              "                    C81.8,14,77,9.8,71.5,10.2c-5,0.3-9,4.2-9.3,9.2c-0.2,5.5,4,10.1,9.5,10.3C71.8,29.7,72,29.7,72.1,29.7z M72.3,62.3\n",
              "                    c-5.4-0.1-9.9,4.2-10.1,9.7c0,0.2,0,0.3,0,0.5c0.2,5.4,4.5,9.7,9.9,10c5.1,0.1,9.9-4.7,10.1-9.8c0.2-5.5-4-10-9.5-10.3\n",
              "                    C72.6,62.3,72.4,62.3,72.3,62.3z M115,72.5c0.1,5.4,4.5,9.7,9.8,9.9c5.6-0.2,10-4.8,10-10.4c-0.2-5.4-4.6-9.7-10-9.7\n",
              "                    c-5.3-0.1-9.8,4.2-9.9,9.5C115,72.1,115,72.3,115,72.5z M19.5,62.3c-5.4,0.1-9.8,4.4-10,9.8c-0.1,5.1,5.2,10.4,10.2,10.3\n",
              "                    c5.6-0.2,10-4.9,9.8-10.5c-0.1-5.4-4.5-9.7-9.9-9.6C19.6,62.3,19.5,62.3,19.5,62.3z M71.8,134.6c5.9,0.2,10.3-3.9,10.4-9.6\n",
              "                    c0.5-5.5-3.6-10.4-9.1-10.8c-5.5-0.5-10.4,3.6-10.8,9.1c0,0.5,0,0.9,0,1.4c-0.2,5.3,4,9.8,9.3,10\n",
              "                    C71.6,134.6,71.7,134.6,71.8,134.6z\"/>\n",
              "            </g>\n",
              "        </svg>\n",
              "        <table>\n",
              "            <tr>\n",
              "                <td style=\"text-align: left\"><b>Python version:</b></td>\n",
              "                <td style=\"text-align: left\"><b>3.10.10</b></td>\n",
              "            </tr>\n",
              "            <tr>\n",
              "                <td style=\"text-align: left\"><b>Ray version:</b></td>\n",
              "                <td style=\"text-align: left\"><b> 2.3.1</b></td>\n",
              "            </tr>\n",
              "            \n",
              "        </table>\n",
              "    </div>\n",
              "</div>\n"
            ],
            "text/plain": [
              "RayContext(dashboard_url='', python_version='3.10.10', ray_version='2.3.1', ray_commit='5f14cee8dfc6d61ec4fd3bc2c440f9944e92b33a', address_info={'node_ip_address': '192.168.1.107', 'raylet_ip_address': '192.168.1.107', 'redis_address': None, 'object_store_address': '/tmp/ray/session_2023-05-26_02-00-44_351242_678218/sockets/plasma_store', 'raylet_socket_name': '/tmp/ray/session_2023-05-26_02-00-44_351242_678218/sockets/raylet', 'webui_url': '', 'session_dir': '/tmp/ray/session_2023-05-26_02-00-44_351242_678218', 'metrics_export_port': 63079, 'gcs_address': '192.168.1.107:45932', 'address': '192.168.1.107:45932', 'dashboard_agent_listen_port': 52365, 'node_id': '1ab3e99e8ed0c62cc231b065ab5db03a3161436a4fdf714a978470ae'})"
            ]
          },
          "execution_count": 5,
          "metadata": {},
          "output_type": "execute_result"
        }
      ],
      "source": [
        "from prefect import task, flow\n",
        "from prefect.task_runners import ConcurrentTaskRunner\n",
        "from prefect_ray.task_runners import RayTaskRunner\n",
        "from DillSerializer import DillSerializer\n",
        "import ray\n",
        "\n",
        "import pandas as pd\n",
        "import numpy as np\n",
        "\n",
        "import logging\n",
        "\n",
        "!export PREFECT_LOGGING_LEVEL=\"WARNING\"\n",
        "ray.shutdown()\n",
        "parallelRunner = ray.init(\n",
        "  configure_logging=True,\n",
        "  logging_level=logging.ERROR,\n",
        ")\n",
        "parallelRunner"
      ]
    },
    {
      "cell_type": "code",
      "execution_count": 6,
      "metadata": {
        "id": "S04Kzco5ci8n"
      },
      "outputs": [],
      "source": [
        "from sklearn.ensemble import (\n",
        "    AdaBoostClassifier,\n",
        "    RandomForestClassifier,\n",
        ")\n",
        "from sklearn.linear_model import LogisticRegression\n",
        "from sklearn.naive_bayes import MultinomialNB\n",
        "from sklearn.svm import LinearSVC, SVC\n",
        "from xgboost import XGBClassifier\n",
        "from pytorch_tabnet.tab_model import TabNetClassifier\n",
        "from lion_pytorch import Lion\n",
        "\n",
        "from skopt.space import Categorical, Integer, Real\n",
        "\n",
        "from env import neptune_api_token\n",
        "\n",
        "RadialBasisSVC = SVC\n",
        "RadialBasisSVC.__name__ = \"RadialBasisSVC\"\n",
        "\n",
        "clearHistory = True\n",
        "config = {\n",
        "  'vcfLike': {  \n",
        "    'path': 'Variant_report_NUPs_fixed_2022-03-28.xlsx',             # variant call table with annotations\n",
        "    'sheet': \"all cases vs all controls\",                             # sheet name if Excel spreadsheet\n",
        "    'indexColumn': ['chrom', 'position', 'Gene'],       # header that indexes variants (set as list with multiple columns)\n",
        "    'binarize': True,                           # binarize variants to 0/1, or sum to weigh allele frequency\n",
        "    'minAlleleFrequency': 0.05,           # filter out variants with allele frequency less than this\n",
        "  # 'alleleModel': ['dominant', 'recessive', 'overDominant'],  # biallelic allele models to test on gene sets\n",
        "    'filters': {\n",
        "      } \n",
        "  }, # TODO handle genotypes from related individuals\n",
        "  \n",
        "  'geneSets' : { # TODO gene sets\n",
        "      },\n",
        "  \n",
        "  'tracking': {\n",
        "    'name': 'Nucleoporin genes, well-classified cases', # name of the experiment\n",
        "    'entity': 'ejmockler',\n",
        "    'project': 'ALS-NUPs-WellClassified',\n",
        "    'plotAllSampleImportances': True,  # plot all sample feature importances in Neptune\n",
        "    'token': neptune_api_token\n",
        "  },\n",
        "\n",
        "  'clinicalTable': {\n",
        "      'path': 'ACWM.xlsx',                      # clinical data as Excel spreadsheet\n",
        "      'idColumn': 'ExternalSampleId',           # genotype ID header\n",
        "      'uniqueIdColumn': 'ExternalSubjectId',    # unique ID for each patient\n",
        "      'labelColumn': 'Subject Group',                # header that has case/control labels\n",
        "      'controlLabels': ['Non-Neurological Control'], # these labels include external sample IDs (like 1000 Genomes)\n",
        "      'caseLabels': [],\n",
        "      'controlAlias': 'control',\n",
        "      'caseAlias': 'case',\n",
        "      'filters': 'pct_european>=0.85',             # filter out nonhomogenous samples with less than 85% European ancestry\n",
        "  },\n",
        "\n",
        "  'externalTables': {\n",
        "      'path': ['igsr-1000 genomes phase 3 release.tsv', 'accurateCases.csv'],  # external sample table\n",
        "      'label': ['control', 'case'], # case | control | mixed (mixed labels are held out as an external test set)\n",
        "      'idColumn': ['Sample name', 'id'],                        # sample ID header\n",
        "      'filters': [\"`Superpopulation code`=='EUR' & `Population name`!='Finnish'\", \"\"], # remove finnish samples due to unusual homogeneity (verify w/ PCA)\n",
        "  },\n",
        "\n",
        "  'sampling': {\n",
        "    'bootstrapIterations': 60, \n",
        "    'crossValIterations': 10,   # number of validations per bootstrap iteration\n",
        "    'holdoutSplit': 0.1\n",
        "  },\n",
        "\n",
        "  'modelStack': {\n",
        "    LinearSVC(): {\n",
        "          \"tol\": Real(1e-6, 1e+1, prior=\"log-uniform\"),\n",
        "          \"C\": Real(1e-4, 1e+1, prior=\"log-uniform\"),\n",
        "      },\n",
        "    RadialBasisSVC(probability=True, kernel=\"rbf\"): {\n",
        "        \"tol\": Real(1e-4, 1e+1, prior=\"log-uniform\"),\n",
        "        \"C\": Real(1e-4, 1e+1, prior=\"log-uniform\"),\n",
        "        \"gamma\": Categorical([\"scale\", \"auto\"]),\n",
        "    },\n",
        "    LogisticRegression(penalty=\"l2\", solver=\"saga\"): {\n",
        "          \"tol\": Real(1e-6, 1e+1, prior=\"log-uniform\"),\n",
        "          \"C\": Real(1e-4, 1e+1, prior=\"log-uniform\"),\n",
        "      },\n",
        "      # TabNetClassifier: {\n",
        "      #     \"n_d\": Integer(8, 64),\n",
        "      #     \"n_a\": Integer(8, 64),\n",
        "      #     \"n_steps\": Integer(3, 10),\n",
        "      #     \"lambda_sparse\": Real(1e-4, 1e+1, prior=\"log-uniform\"),\n",
        "      # },\n",
        "      MultinomialNB(): {\"alpha\": Real(1e-10, 1e+1, prior=\"log-uniform\")},\n",
        "      AdaBoostClassifier(): {\n",
        "          \"n_estimators\": Integer(25, 75),\n",
        "          \"learning_rate\": Real(1e-6, 1e+1, prior=\"log-uniform\"),\n",
        "      },\n",
        "      XGBClassifier(): {\n",
        "          \"learning_rate\": Real(1e-6, 1e+1, prior=\"log-uniform\"),\n",
        "          \"n_estimators\": Integer(10, 100),\n",
        "      },\n",
        "      RandomForestClassifier(): { \n",
        "          \"n_estimators\": Integer(75, 200),\n",
        "      },\n",
        "  }\n",
        "}\n",
        " \n",
        "async def remove_all_flows():\n",
        "  from prefect.client import get_client\n",
        "  orion_client = get_client()\n",
        "  flows = await orion_client.read_flows()\n",
        "  for flow in flows:\n",
        "    flow_id = flow.id\n",
        "    print(f\"Deleting flow: {flow.name}, {flow_id}\")\n",
        "    await orion_client._client.delete(f\"/flows/{flow_id}\")\n",
        "    print(f\"Flow with UUID {flow_id} deleted\")\n",
        "\n",
        "if clearHistory: await remove_all_flows()"
      ]
    },
    {
      "cell_type": "code",
      "execution_count": 7,
      "metadata": {
        "colab": {
          "base_uri": "https://localhost:8080/",
          "height": 1000
        },
        "id": "CKlnYjPImk7I",
        "outputId": "13502d78-bfc1-4323-81f1-87f8168ad548"
      },
      "outputs": [
        {
          "data": {
            "text/html": [
              "<pre style=\"white-space:pre;overflow-x:auto;line-height:normal;font-family:Menlo,'DejaVu Sans Mono',consolas,'Courier New',monospace\">02:00:46.500 | <span style=\"color: #008080; text-decoration-color: #008080\">INFO</span>    | prefect.engine - Created flow run<span style=\"color: #800080; text-decoration-color: #800080\"> 'holistic-dragonfly'</span> for flow<span style=\"color: #800080; text-decoration-color: #800080; font-weight: bold\"> 'processInputFiles'</span>\n",
              "</pre>\n"
            ],
            "text/plain": [
              "02:00:46.500 | \u001b[36mINFO\u001b[0m    | prefect.engine - Created flow run\u001b[35m 'holistic-dragonfly'\u001b[0m for flow\u001b[1;35m 'processInputFiles'\u001b[0m\n"
            ]
          },
          "metadata": {},
          "output_type": "display_data"
        },
        {
          "data": {
            "text/html": [
              "<pre style=\"white-space:pre;overflow-x:auto;line-height:normal;font-family:Menlo,'DejaVu Sans Mono',consolas,'Courier New',monospace\">02:00:46.620 | <span style=\"color: #008080; text-decoration-color: #008080\">INFO</span>    | Flow run<span style=\"color: #800080; text-decoration-color: #800080\"> 'holistic-dragonfly'</span> - Created task run 'load-0' for task 'load'\n",
              "</pre>\n"
            ],
            "text/plain": [
              "02:00:46.620 | \u001b[36mINFO\u001b[0m    | Flow run\u001b[35m 'holistic-dragonfly'\u001b[0m - Created task run 'load-0' for task 'load'\n"
            ]
          },
          "metadata": {},
          "output_type": "display_data"
        },
        {
          "data": {
            "text/html": [
              "<pre style=\"white-space:pre;overflow-x:auto;line-height:normal;font-family:Menlo,'DejaVu Sans Mono',consolas,'Courier New',monospace\">02:00:46.621 | <span style=\"color: #008080; text-decoration-color: #008080\">INFO</span>    | Flow run<span style=\"color: #800080; text-decoration-color: #800080\"> 'holistic-dragonfly'</span> - Executing 'load-0' immediately...\n",
              "</pre>\n"
            ],
            "text/plain": [
              "02:00:46.621 | \u001b[36mINFO\u001b[0m    | Flow run\u001b[35m 'holistic-dragonfly'\u001b[0m - Executing 'load-0' immediately...\n"
            ]
          },
          "metadata": {},
          "output_type": "display_data"
        },
        {
          "name": "stderr",
          "output_type": "stream",
          "text": [
            "Unknown extension is not supported and will be removed\n"
          ]
        },
        {
          "data": {
            "text/html": [
              "<pre style=\"white-space:pre;overflow-x:auto;line-height:normal;font-family:Menlo,'DejaVu Sans Mono',consolas,'Courier New',monospace\">02:01:50.574 | <span style=\"color: #008080; text-decoration-color: #008080\">INFO</span>    | Task run 'load-0' - Finished in state <span style=\"color: #008000; text-decoration-color: #008000\">Completed</span>()\n",
              "</pre>\n"
            ],
            "text/plain": [
              "02:01:50.574 | \u001b[36mINFO\u001b[0m    | Task run 'load-0' - Finished in state \u001b[32mCompleted\u001b[0m()\n"
            ]
          },
          "metadata": {},
          "output_type": "display_data"
        },
        {
          "data": {
            "text/html": [
              "<pre style=\"white-space:pre;overflow-x:auto;line-height:normal;font-family:Menlo,'DejaVu Sans Mono',consolas,'Courier New',monospace\">02:01:50.595 | <span style=\"color: #008080; text-decoration-color: #008080\">INFO</span>    | Flow run<span style=\"color: #800080; text-decoration-color: #800080\"> 'holistic-dragonfly'</span> - Created task run 'filterTable-0' for task 'filterTable'\n",
              "</pre>\n"
            ],
            "text/plain": [
              "02:01:50.595 | \u001b[36mINFO\u001b[0m    | Flow run\u001b[35m 'holistic-dragonfly'\u001b[0m - Created task run 'filterTable-0' for task 'filterTable'\n"
            ]
          },
          "metadata": {},
          "output_type": "display_data"
        },
        {
          "data": {
            "text/html": [
              "<pre style=\"white-space:pre;overflow-x:auto;line-height:normal;font-family:Menlo,'DejaVu Sans Mono',consolas,'Courier New',monospace\">02:01:50.596 | <span style=\"color: #008080; text-decoration-color: #008080\">INFO</span>    | Flow run<span style=\"color: #800080; text-decoration-color: #800080\"> 'holistic-dragonfly'</span> - Executing 'filterTable-0' immediately...\n",
              "</pre>\n"
            ],
            "text/plain": [
              "02:01:50.596 | \u001b[36mINFO\u001b[0m    | Flow run\u001b[35m 'holistic-dragonfly'\u001b[0m - Executing 'filterTable-0' immediately...\n"
            ]
          },
          "metadata": {},
          "output_type": "display_data"
        },
        {
          "data": {
            "text/html": [
              "<pre style=\"white-space:pre;overflow-x:auto;line-height:normal;font-family:Menlo,'DejaVu Sans Mono',consolas,'Courier New',monospace\">02:01:50.636 | <span style=\"color: #008080; text-decoration-color: #008080\">INFO</span>    | Task run 'filterTable-0' - Filtering: pct_european&gt;=0.85\n",
              "</pre>\n"
            ],
            "text/plain": [
              "02:01:50.636 | \u001b[36mINFO\u001b[0m    | Task run 'filterTable-0' - Filtering: pct_european>=0.85\n"
            ]
          },
          "metadata": {},
          "output_type": "display_data"
        },
        {
          "data": {
            "text/html": [
              "<pre style=\"white-space:pre;overflow-x:auto;line-height:normal;font-family:Menlo,'DejaVu Sans Mono',consolas,'Courier New',monospace\">02:01:50.687 | <span style=\"color: #008080; text-decoration-color: #008080\">INFO</span>    | Task run 'filterTable-0' - Finished in state <span style=\"color: #008000; text-decoration-color: #008000\">Completed</span>()\n",
              "</pre>\n"
            ],
            "text/plain": [
              "02:01:50.687 | \u001b[36mINFO\u001b[0m    | Task run 'filterTable-0' - Finished in state \u001b[32mCompleted\u001b[0m()\n"
            ]
          },
          "metadata": {},
          "output_type": "display_data"
        },
        {
          "data": {
            "text/html": [
              "<pre style=\"white-space:pre;overflow-x:auto;line-height:normal;font-family:Menlo,'DejaVu Sans Mono',consolas,'Courier New',monospace\">02:01:50.688 | <span style=\"color: #008080; text-decoration-color: #008080\">INFO</span>    | Flow run<span style=\"color: #800080; text-decoration-color: #800080\"> 'holistic-dragonfly'</span> - filtered 590 samples from clinical data\n",
              "</pre>\n"
            ],
            "text/plain": [
              "02:01:50.688 | \u001b[36mINFO\u001b[0m    | Flow run\u001b[35m 'holistic-dragonfly'\u001b[0m - filtered 590 samples from clinical data\n"
            ]
          },
          "metadata": {},
          "output_type": "display_data"
        },
        {
          "data": {
            "text/html": [
              "<pre style=\"white-space:pre;overflow-x:auto;line-height:normal;font-family:Menlo,'DejaVu Sans Mono',consolas,'Courier New',monospace\">02:01:50.712 | <span style=\"color: #008080; text-decoration-color: #008080\">INFO</span>    | Flow run<span style=\"color: #800080; text-decoration-color: #800080\"> 'holistic-dragonfly'</span> - Created task run 'filterTable-1' for task 'filterTable'\n",
              "</pre>\n"
            ],
            "text/plain": [
              "02:01:50.712 | \u001b[36mINFO\u001b[0m    | Flow run\u001b[35m 'holistic-dragonfly'\u001b[0m - Created task run 'filterTable-1' for task 'filterTable'\n"
            ]
          },
          "metadata": {},
          "output_type": "display_data"
        },
        {
          "data": {
            "text/html": [
              "<pre style=\"white-space:pre;overflow-x:auto;line-height:normal;font-family:Menlo,'DejaVu Sans Mono',consolas,'Courier New',monospace\">02:01:50.713 | <span style=\"color: #008080; text-decoration-color: #008080\">INFO</span>    | Flow run<span style=\"color: #800080; text-decoration-color: #800080\"> 'holistic-dragonfly'</span> - Executing 'filterTable-1' immediately...\n",
              "</pre>\n"
            ],
            "text/plain": [
              "02:01:50.713 | \u001b[36mINFO\u001b[0m    | Flow run\u001b[35m 'holistic-dragonfly'\u001b[0m - Executing 'filterTable-1' immediately...\n"
            ]
          },
          "metadata": {},
          "output_type": "display_data"
        },
        {
          "data": {
            "text/html": [
              "<pre style=\"white-space:pre;overflow-x:auto;line-height:normal;font-family:Menlo,'DejaVu Sans Mono',consolas,'Courier New',monospace\">02:01:50.752 | <span style=\"color: #008080; text-decoration-color: #008080\">INFO</span>    | Task run 'filterTable-1' - Filtering: `Superpopulation code`=='EUR' &amp; `Population name`!='Finnish'\n",
              "</pre>\n"
            ],
            "text/plain": [
              "02:01:50.752 | \u001b[36mINFO\u001b[0m    | Task run 'filterTable-1' - Filtering: `Superpopulation code`=='EUR' & `Population name`!='Finnish'\n"
            ]
          },
          "metadata": {},
          "output_type": "display_data"
        },
        {
          "data": {
            "text/html": [
              "<pre style=\"white-space:pre;overflow-x:auto;line-height:normal;font-family:Menlo,'DejaVu Sans Mono',consolas,'Courier New',monospace\">02:01:50.784 | <span style=\"color: #008080; text-decoration-color: #008080\">INFO</span>    | Task run 'filterTable-1' - Finished in state <span style=\"color: #008000; text-decoration-color: #008000\">Completed</span>()\n",
              "</pre>\n"
            ],
            "text/plain": [
              "02:01:50.784 | \u001b[36mINFO\u001b[0m    | Task run 'filterTable-1' - Finished in state \u001b[32mCompleted\u001b[0m()\n"
            ]
          },
          "metadata": {},
          "output_type": "display_data"
        },
        {
          "data": {
            "text/html": [
              "<pre style=\"white-space:pre;overflow-x:auto;line-height:normal;font-family:Menlo,'DejaVu Sans Mono',consolas,'Courier New',monospace\">02:01:50.818 | <span style=\"color: #008080; text-decoration-color: #008080\">INFO</span>    | Flow run<span style=\"color: #800080; text-decoration-color: #800080\"> 'holistic-dragonfly'</span> - Created task run 'filterTable-2' for task 'filterTable'\n",
              "</pre>\n"
            ],
            "text/plain": [
              "02:01:50.818 | \u001b[36mINFO\u001b[0m    | Flow run\u001b[35m 'holistic-dragonfly'\u001b[0m - Created task run 'filterTable-2' for task 'filterTable'\n"
            ]
          },
          "metadata": {},
          "output_type": "display_data"
        },
        {
          "data": {
            "text/html": [
              "<pre style=\"white-space:pre;overflow-x:auto;line-height:normal;font-family:Menlo,'DejaVu Sans Mono',consolas,'Courier New',monospace\">02:01:50.819 | <span style=\"color: #008080; text-decoration-color: #008080\">INFO</span>    | Flow run<span style=\"color: #800080; text-decoration-color: #800080\"> 'holistic-dragonfly'</span> - Executing 'filterTable-2' immediately...\n",
              "</pre>\n"
            ],
            "text/plain": [
              "02:01:50.819 | \u001b[36mINFO\u001b[0m    | Flow run\u001b[35m 'holistic-dragonfly'\u001b[0m - Executing 'filterTable-2' immediately...\n"
            ]
          },
          "metadata": {},
          "output_type": "display_data"
        },
        {
          "data": {
            "text/html": [
              "<pre style=\"white-space:pre;overflow-x:auto;line-height:normal;font-family:Menlo,'DejaVu Sans Mono',consolas,'Courier New',monospace\">02:01:50.877 | <span style=\"color: #008080; text-decoration-color: #008080\">INFO</span>    | Task run 'filterTable-2' - Finished in state <span style=\"color: #008000; text-decoration-color: #008000\">Completed</span>()\n",
              "</pre>\n"
            ],
            "text/plain": [
              "02:01:50.877 | \u001b[36mINFO\u001b[0m    | Task run 'filterTable-2' - Finished in state \u001b[32mCompleted\u001b[0m()\n"
            ]
          },
          "metadata": {},
          "output_type": "display_data"
        },
        {
          "data": {
            "text/html": [
              "<pre style=\"white-space:pre;overflow-x:auto;line-height:normal;font-family:Menlo,'DejaVu Sans Mono',consolas,'Courier New',monospace\">02:01:50.879 | <span style=\"color: #008080; text-decoration-color: #008080\">INFO</span>    | Flow run<span style=\"color: #800080; text-decoration-color: #800080\"> 'holistic-dragonfly'</span> - filtered 4411 samples from external data igsr-1000 genomes phase 3 release.tsv\n",
              "</pre>\n"
            ],
            "text/plain": [
              "02:01:50.879 | \u001b[36mINFO\u001b[0m    | Flow run\u001b[35m 'holistic-dragonfly'\u001b[0m - filtered 4411 samples from external data igsr-1000 genomes phase 3 release.tsv\n"
            ]
          },
          "metadata": {},
          "output_type": "display_data"
        },
        {
          "data": {
            "text/html": [
              "<pre style=\"white-space:pre;overflow-x:auto;line-height:normal;font-family:Menlo,'DejaVu Sans Mono',consolas,'Courier New',monospace\">02:01:50.880 | <span style=\"color: #008080; text-decoration-color: #008080\">INFO</span>    | Flow run<span style=\"color: #800080; text-decoration-color: #800080\"> 'holistic-dragonfly'</span> - filtered 0 samples from external data accurateCases.csv\n",
              "</pre>\n"
            ],
            "text/plain": [
              "02:01:50.880 | \u001b[36mINFO\u001b[0m    | Flow run\u001b[35m 'holistic-dragonfly'\u001b[0m - filtered 0 samples from external data accurateCases.csv\n"
            ]
          },
          "metadata": {},
          "output_type": "display_data"
        },
        {
          "data": {
            "text/html": [
              "<pre style=\"white-space:pre;overflow-x:auto;line-height:normal;font-family:Menlo,'DejaVu Sans Mono',consolas,'Courier New',monospace\">02:01:50.899 | <span style=\"color: #008080; text-decoration-color: #008080\">INFO</span>    | Flow run<span style=\"color: #800080; text-decoration-color: #800080\"> 'holistic-dragonfly'</span> - Created task run 'filterTable-3' for task 'filterTable'\n",
              "</pre>\n"
            ],
            "text/plain": [
              "02:01:50.899 | \u001b[36mINFO\u001b[0m    | Flow run\u001b[35m 'holistic-dragonfly'\u001b[0m - Created task run 'filterTable-3' for task 'filterTable'\n"
            ]
          },
          "metadata": {},
          "output_type": "display_data"
        },
        {
          "data": {
            "text/html": [
              "<pre style=\"white-space:pre;overflow-x:auto;line-height:normal;font-family:Menlo,'DejaVu Sans Mono',consolas,'Courier New',monospace\">02:01:50.900 | <span style=\"color: #008080; text-decoration-color: #008080\">INFO</span>    | Flow run<span style=\"color: #800080; text-decoration-color: #800080\"> 'holistic-dragonfly'</span> - Executing 'filterTable-3' immediately...\n",
              "</pre>\n"
            ],
            "text/plain": [
              "02:01:50.900 | \u001b[36mINFO\u001b[0m    | Flow run\u001b[35m 'holistic-dragonfly'\u001b[0m - Executing 'filterTable-3' immediately...\n"
            ]
          },
          "metadata": {},
          "output_type": "display_data"
        },
        {
          "data": {
            "text/html": [
              "<pre style=\"white-space:pre;overflow-x:auto;line-height:normal;font-family:Menlo,'DejaVu Sans Mono',consolas,'Courier New',monospace\">02:01:51.851 | <span style=\"color: #008080; text-decoration-color: #008080\">INFO</span>    | Task run 'filterTable-3' - Finished in state <span style=\"color: #008000; text-decoration-color: #008000\">Completed</span>()\n",
              "</pre>\n"
            ],
            "text/plain": [
              "02:01:51.851 | \u001b[36mINFO\u001b[0m    | Task run 'filterTable-3' - Finished in state \u001b[32mCompleted\u001b[0m()\n"
            ]
          },
          "metadata": {},
          "output_type": "display_data"
        },
        {
          "data": {
            "text/html": [
              "<pre style=\"white-space:pre;overflow-x:auto;line-height:normal;font-family:Menlo,'DejaVu Sans Mono',consolas,'Courier New',monospace\">02:01:51.853 | <span style=\"color: #008080; text-decoration-color: #008080\">INFO</span>    | Flow run<span style=\"color: #800080; text-decoration-color: #800080\"> 'holistic-dragonfly'</span> - filtered 0 variants from VCF\n",
              "</pre>\n"
            ],
            "text/plain": [
              "02:01:51.853 | \u001b[36mINFO\u001b[0m    | Flow run\u001b[35m 'holistic-dragonfly'\u001b[0m - filtered 0 variants from VCF\n"
            ]
          },
          "metadata": {},
          "output_type": "display_data"
        },
        {
          "data": {
            "text/html": [
              "<pre style=\"white-space:pre;overflow-x:auto;line-height:normal;font-family:Menlo,'DejaVu Sans Mono',consolas,'Courier New',monospace\">02:01:51.948 | <span style=\"color: #008080; text-decoration-color: #008080\">INFO</span>    | Flow run<span style=\"color: #800080; text-decoration-color: #800080\"> 'holistic-dragonfly'</span> - Created task run 'applyAlleleModel-0' for task 'applyAlleleModel'\n",
              "</pre>\n"
            ],
            "text/plain": [
              "02:01:51.948 | \u001b[36mINFO\u001b[0m    | Flow run\u001b[35m 'holistic-dragonfly'\u001b[0m - Created task run 'applyAlleleModel-0' for task 'applyAlleleModel'\n"
            ]
          },
          "metadata": {},
          "output_type": "display_data"
        },
        {
          "data": {
            "text/html": [
              "<pre style=\"white-space:pre;overflow-x:auto;line-height:normal;font-family:Menlo,'DejaVu Sans Mono',consolas,'Courier New',monospace\">02:01:51.950 | <span style=\"color: #008080; text-decoration-color: #008080\">INFO</span>    | Flow run<span style=\"color: #800080; text-decoration-color: #800080\"> 'holistic-dragonfly'</span> - Submitted task run 'applyAlleleModel-0' for execution.\n",
              "</pre>\n"
            ],
            "text/plain": [
              "02:01:51.950 | \u001b[36mINFO\u001b[0m    | Flow run\u001b[35m 'holistic-dragonfly'\u001b[0m - Submitted task run 'applyAlleleModel-0' for execution.\n"
            ]
          },
          "metadata": {},
          "output_type": "display_data"
        },
        {
          "data": {
            "text/html": [
              "<pre style=\"white-space:pre;overflow-x:auto;line-height:normal;font-family:Menlo,'DejaVu Sans Mono',consolas,'Courier New',monospace\">02:01:51.973 | <span style=\"color: #008080; text-decoration-color: #008080\">INFO</span>    | Flow run<span style=\"color: #800080; text-decoration-color: #800080\"> 'holistic-dragonfly'</span> - Created task run 'applyAlleleModel-1' for task 'applyAlleleModel'\n",
              "</pre>\n"
            ],
            "text/plain": [
              "02:01:51.973 | \u001b[36mINFO\u001b[0m    | Flow run\u001b[35m 'holistic-dragonfly'\u001b[0m - Created task run 'applyAlleleModel-1' for task 'applyAlleleModel'\n"
            ]
          },
          "metadata": {},
          "output_type": "display_data"
        },
        {
          "data": {
            "text/html": [
              "<pre style=\"white-space:pre;overflow-x:auto;line-height:normal;font-family:Menlo,'DejaVu Sans Mono',consolas,'Courier New',monospace\">02:01:51.975 | <span style=\"color: #008080; text-decoration-color: #008080\">INFO</span>    | Flow run<span style=\"color: #800080; text-decoration-color: #800080\"> 'holistic-dragonfly'</span> - Submitted task run 'applyAlleleModel-1' for execution.\n",
              "</pre>\n"
            ],
            "text/plain": [
              "02:01:51.975 | \u001b[36mINFO\u001b[0m    | Flow run\u001b[35m 'holistic-dragonfly'\u001b[0m - Submitted task run 'applyAlleleModel-1' for execution.\n"
            ]
          },
          "metadata": {},
          "output_type": "display_data"
        },
        {
          "name": "stderr",
          "output_type": "stream",
          "text": [
            "100%|██████████| 202/202 [00:21<00:00,  9.26id/s]\n"
          ]
        },
        {
          "data": {
            "text/html": [
              "<pre style=\"white-space:pre;overflow-x:auto;line-height:normal;font-family:Menlo,'DejaVu Sans Mono',consolas,'Courier New',monospace\">02:02:16.491 | <span style=\"color: #008080; text-decoration-color: #008080\">INFO</span>    | Task run 'applyAlleleModel-0' - Finished in state <span style=\"color: #008000; text-decoration-color: #008000\">Completed</span>()\n",
              "</pre>\n"
            ],
            "text/plain": [
              "02:02:16.491 | \u001b[36mINFO\u001b[0m    | Task run 'applyAlleleModel-0' - Finished in state \u001b[32mCompleted\u001b[0m()\n"
            ]
          },
          "metadata": {},
          "output_type": "display_data"
        },
        {
          "name": "stderr",
          "output_type": "stream",
          "text": [
            "100%|██████████| 922/922 [00:48<00:00, 18.92id/s]\n"
          ]
        },
        {
          "data": {
            "text/html": [
              "<pre style=\"white-space:pre;overflow-x:auto;line-height:normal;font-family:Menlo,'DejaVu Sans Mono',consolas,'Courier New',monospace\">02:02:44.055 | <span style=\"color: #008080; text-decoration-color: #008080\">INFO</span>    | Task run 'applyAlleleModel-1' - Finished in state <span style=\"color: #008000; text-decoration-color: #008000\">Completed</span>()\n",
              "</pre>\n"
            ],
            "text/plain": [
              "02:02:44.055 | \u001b[36mINFO\u001b[0m    | Task run 'applyAlleleModel-1' - Finished in state \u001b[32mCompleted\u001b[0m()\n"
            ]
          },
          "metadata": {},
          "output_type": "display_data"
        },
        {
          "data": {
            "text/html": [
              "<pre style=\"white-space:pre;overflow-x:auto;line-height:normal;font-family:Menlo,'DejaVu Sans Mono',consolas,'Courier New',monospace\">02:02:44.057 | <span style=\"color: #008080; text-decoration-color: #008080\">INFO</span>    | Flow run<span style=\"color: #800080; text-decoration-color: #800080\"> 'holistic-dragonfly'</span> - \n",
              "missing 0 case IDs:\n",
              " set()\n",
              "</pre>\n"
            ],
            "text/plain": [
              "02:02:44.057 | \u001b[36mINFO\u001b[0m    | Flow run\u001b[35m 'holistic-dragonfly'\u001b[0m - \n",
              "missing 0 case IDs:\n",
              " set()\n"
            ]
          },
          "metadata": {},
          "output_type": "display_data"
        },
        {
          "data": {
            "text/html": [
              "<pre style=\"white-space:pre;overflow-x:auto;line-height:normal;font-family:Menlo,'DejaVu Sans Mono',consolas,'Courier New',monospace\">02:02:44.058 | <span style=\"color: #008080; text-decoration-color: #008080\">INFO</span>    | Flow run<span style=\"color: #800080; text-decoration-color: #800080\"> 'holistic-dragonfly'</span> - \n",
              "missing 238 control IDs:\n",
              " {'HG01614', 'CGND-HDA-02867', 'NA10850', 'HG01782', 'CGND-HDA-05300', 'CGND-HDA-00167', 'CGND-HDA-03164', 'NA12802', 'HG01523', 'CGND-HDA-05535', 'CGND-HDA-02868', 'HG01627', 'HG00144', 'CGND-HDA-04822', 'CGND-HDA-02865', 'NA20537', 'NA12239', 'NA10830', 'CGND-HDA-03294', 'NA10857', 'NA12877', 'HG04301', 'NA10831', 'NA07345', 'HG00156', 'HG00247', 'NA07348', 'HG02229', 'NA11993', 'NA07045', 'NA12485', 'HG01609', 'CGND-HDA-04734', 'CGND-HDA-01167', 'NA10838', 'NA12892', 'NA12865', 'NA12248', 'NA07022', 'HG01703', 'CGND-HDA-01482', 'NA06995', 'NA10840', 'HG01629', 'CGND-HDA-03356', 'CGND-HDA-03174', 'CGND-HDA-03182', 'NA10835', 'CGND-HDA-03369', 'CGND-HDA-05298', 'CGND-HDA-04846', 'HG01778', 'HG02234', 'NA12707', 'NA12056', 'HG00135', 'HG01505', 'HG04303', 'HG01622', 'NA12801', 'CGND-HDA-02878', 'CGND-HDA-03173', 'HG01748', 'NA07055', 'CGND-HDA-02863', 'HG02237', 'HG01511', 'NA12708', 'CGND-HDA-00180', 'HG01611', 'NA10856', 'NA20829', 'NA06991', 'CGND-HDA-03170', 'NA12832', 'HG01532', 'HG01698', 'HG04302', 'NA10853', 'HG01706', 'HG01601', 'HG01683', 'HG01764', 'CGND-HDA-02489-1', 'HG01769', 'NA06997', 'HG01633', 'HG01514', 'HG01520', 'CGND-HDA-03179', 'NA10855', 'CGND-HDA-02752', 'NA10836', 'CGND-HDA-04825', 'CGND-HDA-02880', 'NA12891', 'CGND-HDA-03184', 'HG01604', 'NA10852', 'HG01667', 'NA12864', 'HG02225', 'NA12329', 'NA07349', 'NA20831', 'HG00249', 'CGND-HDA-04848', 'NA12375', 'CGND-HDA-04835', 'NA10863', 'HG00248', 'NA12236', 'CGND-HDA-04849', 'HG01687', 'HG02240', 'NA07435', 'CGND-HDA-03177', 'HG01616', 'HG01755', 'NA06993', 'NA11917', 'CGND-HDA-00217', 'HG01517', 'CGND-HDA-03163', 'NA12817', 'CGND-HDA-02837', 'NA20816', 'NA11891', 'HG01763', 'CGND-HDA-03185', 'NA07346', 'HG02222', 'HG01681', 'NA10861', 'NA12753', 'CGND-HDA-03172', 'HG01508', 'NA12752', 'CGND-HDA-04922', 'NA07029', 'CGND-HDA-02891', 'HG01774', 'HG01621', 'NA12336', 'CGND-HDA-02869', 'CGND-HDA-02884', 'CGND-HDA-00178', 'CGND-HDA-04894', 'CGND-HDA-04735', 'NA10845', 'NA10843', 'CGND-HDA-03183', 'HG01671', 'NA12740', 'NA12274', 'NA12145', 'CGND-HDA-03169', 'NA07019', 'HG00134', 'CGND-HDA-00165', 'CGND-HDA-04824', 'NA20526', 'NA10842', 'CGND-HDA-00179', 'HG01677', 'HG01696', 'NA10865', 'CGND-HDA-04834', 'CGND-HDA-03175', 'HG00153', 'HG00104', 'HG01787', 'HG01780', 'NA12386', 'CGND-HDA-00214', 'HG01502', 'CGND-HDA-02870', 'CGND-HDA-02876', 'CGND-HDA-03297', 'CGND-HDA-04923', 'NA10854', 'CGND-HDA-03326', 'CGND-HDA-00216', 'NA10859', 'HG00124', 'NA10860', 'NA12146', 'NA12344', 'NA12767', 'CGND-HDA-03168', 'NA07031', 'NA12818', 'HG02217', 'NA12830', 'CGND-HDA-03171', 'NA10839', 'CGND-HDA-04830', 'HG01701', 'HG00147', 'CGND-HDA-04733', 'CGND-HDA-00166', 'CGND-HDA-02883', 'CGND-HDA-04828', 'NA12343', 'CGND-HDA-05299', 'CGND-HDA-02736', 'HG01772', 'NA11839', 'HG01526', 'HG01711', 'CGND-HDA-03325', 'NA10846', 'CGND-HDA-04889', 'NA07014', 'NA12875', 'NA12376', 'HG02218', 'NA07034', 'NA12546', 'CGND-HDA-03318', 'CGND-HDA-04749', 'HG01529', 'NA11882', 'NA12739', 'CGND-HDA-03398', 'NA10837', 'HG01674', 'NA12766', 'CGND-HDA-02887', 'HG01538', 'HG00152', 'NA12264', 'NA10864', 'NA07340', 'NA12057', 'HG00098', 'CGND-HDA-04736', 'NA12335'}\n",
              "</pre>\n"
            ],
            "text/plain": [
              "02:02:44.058 | \u001b[36mINFO\u001b[0m    | Flow run\u001b[35m 'holistic-dragonfly'\u001b[0m - \n",
              "missing 238 control IDs:\n",
              " {'HG01614', 'CGND-HDA-02867', 'NA10850', 'HG01782', 'CGND-HDA-05300', 'CGND-HDA-00167', 'CGND-HDA-03164', 'NA12802', 'HG01523', 'CGND-HDA-05535', 'CGND-HDA-02868', 'HG01627', 'HG00144', 'CGND-HDA-04822', 'CGND-HDA-02865', 'NA20537', 'NA12239', 'NA10830', 'CGND-HDA-03294', 'NA10857', 'NA12877', 'HG04301', 'NA10831', 'NA07345', 'HG00156', 'HG00247', 'NA07348', 'HG02229', 'NA11993', 'NA07045', 'NA12485', 'HG01609', 'CGND-HDA-04734', 'CGND-HDA-01167', 'NA10838', 'NA12892', 'NA12865', 'NA12248', 'NA07022', 'HG01703', 'CGND-HDA-01482', 'NA06995', 'NA10840', 'HG01629', 'CGND-HDA-03356', 'CGND-HDA-03174', 'CGND-HDA-03182', 'NA10835', 'CGND-HDA-03369', 'CGND-HDA-05298', 'CGND-HDA-04846', 'HG01778', 'HG02234', 'NA12707', 'NA12056', 'HG00135', 'HG01505', 'HG04303', 'HG01622', 'NA12801', 'CGND-HDA-02878', 'CGND-HDA-03173', 'HG01748', 'NA07055', 'CGND-HDA-02863', 'HG02237', 'HG01511', 'NA12708', 'CGND-HDA-00180', 'HG01611', 'NA10856', 'NA20829', 'NA06991', 'CGND-HDA-03170', 'NA12832', 'HG01532', 'HG01698', 'HG04302', 'NA10853', 'HG01706', 'HG01601', 'HG01683', 'HG01764', 'CGND-HDA-02489-1', 'HG01769', 'NA06997', 'HG01633', 'HG01514', 'HG01520', 'CGND-HDA-03179', 'NA10855', 'CGND-HDA-02752', 'NA10836', 'CGND-HDA-04825', 'CGND-HDA-02880', 'NA12891', 'CGND-HDA-03184', 'HG01604', 'NA10852', 'HG01667', 'NA12864', 'HG02225', 'NA12329', 'NA07349', 'NA20831', 'HG00249', 'CGND-HDA-04848', 'NA12375', 'CGND-HDA-04835', 'NA10863', 'HG00248', 'NA12236', 'CGND-HDA-04849', 'HG01687', 'HG02240', 'NA07435', 'CGND-HDA-03177', 'HG01616', 'HG01755', 'NA06993', 'NA11917', 'CGND-HDA-00217', 'HG01517', 'CGND-HDA-03163', 'NA12817', 'CGND-HDA-02837', 'NA20816', 'NA11891', 'HG01763', 'CGND-HDA-03185', 'NA07346', 'HG02222', 'HG01681', 'NA10861', 'NA12753', 'CGND-HDA-03172', 'HG01508', 'NA12752', 'CGND-HDA-04922', 'NA07029', 'CGND-HDA-02891', 'HG01774', 'HG01621', 'NA12336', 'CGND-HDA-02869', 'CGND-HDA-02884', 'CGND-HDA-00178', 'CGND-HDA-04894', 'CGND-HDA-04735', 'NA10845', 'NA10843', 'CGND-HDA-03183', 'HG01671', 'NA12740', 'NA12274', 'NA12145', 'CGND-HDA-03169', 'NA07019', 'HG00134', 'CGND-HDA-00165', 'CGND-HDA-04824', 'NA20526', 'NA10842', 'CGND-HDA-00179', 'HG01677', 'HG01696', 'NA10865', 'CGND-HDA-04834', 'CGND-HDA-03175', 'HG00153', 'HG00104', 'HG01787', 'HG01780', 'NA12386', 'CGND-HDA-00214', 'HG01502', 'CGND-HDA-02870', 'CGND-HDA-02876', 'CGND-HDA-03297', 'CGND-HDA-04923', 'NA10854', 'CGND-HDA-03326', 'CGND-HDA-00216', 'NA10859', 'HG00124', 'NA10860', 'NA12146', 'NA12344', 'NA12767', 'CGND-HDA-03168', 'NA07031', 'NA12818', 'HG02217', 'NA12830', 'CGND-HDA-03171', 'NA10839', 'CGND-HDA-04830', 'HG01701', 'HG00147', 'CGND-HDA-04733', 'CGND-HDA-00166', 'CGND-HDA-02883', 'CGND-HDA-04828', 'NA12343', 'CGND-HDA-05299', 'CGND-HDA-02736', 'HG01772', 'NA11839', 'HG01526', 'HG01711', 'CGND-HDA-03325', 'NA10846', 'CGND-HDA-04889', 'NA07014', 'NA12875', 'NA12376', 'HG02218', 'NA07034', 'NA12546', 'CGND-HDA-03318', 'CGND-HDA-04749', 'HG01529', 'NA11882', 'NA12739', 'CGND-HDA-03398', 'NA10837', 'HG01674', 'NA12766', 'CGND-HDA-02887', 'HG01538', 'HG00152', 'NA12264', 'NA10864', 'NA07340', 'NA12057', 'HG00098', 'CGND-HDA-04736', 'NA12335'}\n"
            ]
          },
          "metadata": {},
          "output_type": "display_data"
        },
        {
          "data": {
            "text/html": [
              "<pre style=\"white-space:pre;overflow-x:auto;line-height:normal;font-family:Menlo,'DejaVu Sans Mono',consolas,'Courier New',monospace\">02:02:45.753 | <span style=\"color: #008080; text-decoration-color: #008080\">INFO</span>    | Flow run<span style=\"color: #800080; text-decoration-color: #800080\"> 'holistic-dragonfly'</span> - \n",
              "202 cases:\n",
              " {'ALS__CGND-HDA-03692__NEULV746FCJ', 'ALS__CGND-HDA-00885__MH-WASHU-263', 'ALS__CGND-HDA-02715__PF-UCL-2', 'ALS__CGND-HDA-00477__JHU16', 'ALS__CGND-HDA-02156__PF-UCH-18', 'ALS__CGND-HDA-02208__PF-TST-16', 'ALS__CGND-HDA-02289__13-196-12', 'ALS__CGND-HDA-02599__UP-WGS-354', 'ALS__CGND-HDA-00856__MH-WASHU-234', 'aals-ALS__CGND-HDA-03814__NEUCH829YF0', 'ALS__CGND-HDA-02560__89-051-35', 'ALS__CGND-HDA-03270__NEUKJ257ZPG', 'ALS__CGND-HDA-02606__UP-WGS-361', 'ALS__CGND-HDA-04020__TD-ALS-185', 'ALS__CGND-HDA-02931__AIM701050', 'ALS__CGND-HDA-03717__MH-WASHU-124', 'ALS__CGND-HDA-02575__NEUMY028JH4', 'aals-ALS__CGND-HDA-02590__NEULL648LJ1', 'aals-ALS__CGND-HDA-03848__NEURJ063EVP', 'ALS__CGND-HDA-02202__PF-TST-10', 'ALS__CGND-HDA-00764__MH-WASHU-142', 'ALS__CGND-HDA-03160__NEUXZ213MVF', 'aals-ALS__CGND-HDA-03871__NEUXE881UUH', 'ALS__CGND-HDA-02933__AIM701052', 'ALS__CGND-HDA-02295__12-184-22', 'ALS__CGND-HDA-00353__358ALS', 'ALS__CGND-HDA-00752__MH-WASHU-130', 'ALS__CGND-HDA-02569__12-188-99', 'ALS__CGND-HDA-00438__NEUYM657NVX', 'ALS__CGND-HDA-02383__87-025-43', 'ALS__CGND-HDA-00810__MH-WASHU-188', 'ALS__CGND-HDA-02275__16-219-14', 'ALS__CGND-HDA-00761__MH-WASHU-139', 'ALS__CGND-HDA-02633__UP-WGS-388', 'ALS__CGND-HDA-01222__NEUZE834BGH', 'ALS__CGND-HDA-03276__NEURY396DC4', 'ALS__CGND-HDA-00057__UP-WGS-241', 'aals-ALS__CGND-HDA-03844__NEUPE247VDD', 'aals-ALS__CGND-HDA-02705__NEUUY096ER2', 'aals-ALS__CGND-HDA-02235__NEUCE658ACK', 'ALS__CGND-HDA-02200__PF-TST-8', 'ALS__CGND-HDA-02942__AIM701062', 'ALS__CGND-HDA-04024__TD-ALS-189', 'ALS__CGND-HDA-02651__UP-WGS-406', 'aals-ALS__CGND-HDA-01400__NEUTK103LA2', 'ALS__CGND-HDA-02552__88-038-74', 'ALS__CGND-HDA-02996__UP-WGS-469', 'aals-ALS__CGND-HDA-03925__NEUEB894KU0', 'ALS__CGND-HDA-00939__53382BL1', 'aals-ALS__CGND-HDA-03576__NEUYG283GGY', 'ALS__CGND-HDA-00198__NEUYB686REL', 'ALS__CGND-HDA-01786__TD-ALS-15', 'ALS__CGND-HDA-02062__NEUXW577JCD', 'ALS__CGND-HDA-02336__94-101-35', 'ALS__CGND-HDA-02939__AIM701058', 'aals-ALS__CGND-HDA-01404__NEUKU079XLU', 'ALS__CGND-HDA-01646__UP-WGS-124', 'ALS__CGND-HDA-01596__UP-WGS-074', 'aals-ALS__CGND-HDA-02695__NEUPJ837WUD', 'ALS__CGND-HDA-03062__UP-WGS-535', 'ALS__CGND-HDA-01809__TD-ALS-104', 'aals-ALS__CGND-HDA-03521__NEUAE914RW2', 'aals-ALS__CGND-HDA-04067__NEUJA207UUV', 'ALS__CGND-HDA-03055__UP-WGS-528', 'ALS__CGND-HDA-00896__MH-WASHU-274', 'aals-ALS__CGND-HDA-00250__NEUJA666PYD', 'ALS__CGND-HDA-01703__JK-UM-5593', 'aals-ALS__CGND-HDA-03570__NEUGG832YET', 'ALS__CGND-HDA-00276__2073ALS', 'aals-ALS__CGND-HDA-01282__NEUHM968RHD', 'ALS__CGND-HDA-01330__NEUTB398FC9', 'ALS__CGND-HDA-00920__MH-WASHU-298', 'aals-ALS__CGND-HDA-03909__NEUDA779LU8', 'ALS__CGND-HDA-01319__NEUGV399KJW', 'ALS__CGND-HDA-02906__AIM701013', 'ALS__CGND-HDA-00881__MH-WASHU-259', 'aals-ALS__CGND-HDA-00244__NEUPG593UTV', 'ALS__CGND-HDA-00865__MH-WASHU-243', 'ALS__CGND-HDA-01009__NEUBJ693AJ0', 'aals-ALS__CGND-HDA-00252__NEUPB521WX4', 'ALS__CGND-HDA-00644__MH-WASHU-22', 'ALS__CGND-HDA-02613__UP-WGS-368', 'ALS__CGND-HDA-01769__TD-ALS-69', 'ALS__CGND-HDA-00305__2226ALS', 'ALS__CGND-HDA-02439__UP-WGS-175', 'aals-ALS__CGND-HDA-03818__NEUDT736NDX', 'ALS__CGND-HDA-02262__NEUCU743XHH', 'ALS__CGND-HDA-02741__PF-UCL-28', 'ALS__CGND-HDA-00869__MH-WASHU-247', 'ALS__CGND-HDA-00680__MH-WASHU-58', 'ALS__CGND-HDA-02403__12-180-24', 'ALS__CGND-HDA-02910__AIM701017', 'ALS__CGND-HDA-03002__UP-WGS-475', 'ALS__CGND-HDA-03272__NEUGL022MN2', 'aals-ALS__CGND-HDA-03913__NEUJA497KXF', 'ALS__CGND-HDA-00135__UP-WGS-320', 'ALS__CGND-HDA-03505__NEUBA645MFF', 'ALS__CGND-HDA-03630__NSTNNXTLA8ZQ', 'aals-ALS__CGND-HDA-02228__NEUPA955VWR', 'ALS__CGND-HDA-02980__UP-WGS-453', 'ALS__CGND-HDA-03413__NEUXF401FHW', 'aals-ALS__CGND-HDA-00444__NEUME498PCJ', 'ALS__CGND-HDA-02951__AIM701072', 'ALS__CGND-HDA-02629__UP-WGS-384', 'ALS__CGND-HDA-02632__UP-WGS-387', 'ALS__CGND-HDA-00953__53397BL1', 'ALS__CGND-HDA-03480__NEUBJ482ZRV', 'ALS__CGND-HDA-04017__TD-ALS-182', 'aals-ALS__CGND-HDA-03612__NEUXJ799CYK', 'aals-ALS__CGND-HDA-03449__NEUAN180JPP', 'ALS__CGND-HDA-02775__PF-UCL-62', 'ALS__CGND-HDA-03682__NEUVP043YXM', 'ALS__CGND-HDA-02616__UP-WGS-371', 'ALS__CGND-HDA-02389__88-042-86', 'ALS__CGND-HDA-01680__UP-WGS-158', 'aals-ALS__CGND-HDA-02698__NEUAL614GYB', 'ALS__CGND-HDA-03715__NEUGF432KT6', 'aals-ALS__CGND-HDA-03895__NEUEJ783ZYD', 'ALS__CGND-HDA-02373__90-054-28', 'aals-ALS__CGND-HDA-03728__NEUJG344BTU', 'ALS__CGND-HDA-02932__AIM701051', 'aals-ALS__CGND-HDA-01126__NEUHE199KK9', 'ALS__CGND-HDA-02725__PF-UCL-12', 'ALS__CGND-HDA-01837__TD-ALS-138', 'aals-ALS__CGND-HDA-03563__NEURR651FG5', 'ALS__CGND-HDA-00805__MH-WASHU-183', 'ALS__CGND-HDA-00908__MH-WASHU-286', 'ALS__CGND-HDA-00493__JHU32', 'ALS__CGND-HDA-02082__NEUEF586AGM', 'ALS__CGND-HDA-00731__MH-WASHU-109', 'ALS__CGND-HDA-03271__NEUKG838WER', 'aals-ALS__CGND-HDA-03567__NEUCG048WRY', 'ALS__CGND-HDA-04001__TD-ALS-166', 'ALS__CGND-HDA-01711__JK-UM-5675', 'aals-ALS__CGND-HDA-01132__NEUBX721MY2', 'ALS__CGND-HDA-00320__477ALS', 'ALS__CGND-HDA-01230__NEUEA589YC6', 'aals-ALS__CGND-HDA-02067__NEUKJ497WBB', 'aals-ALS__CGND-HDA-01369__NEUFV237VCZ', 'ALS__CGND-HDA-02934__AIM701053', 'aals-ALS__CGND-HDA-03546__NEUBX635MHH', 'aals-ALS__CGND-HDA-01053__NEUWJ389FC7', 'aals-ALS__CGND-HDA-03890__NEUEN266LR9', 'ALS__CGND-HDA-00960__53404BL1', 'ALS__CGND-HDA-01005__NEUYT216DU9', 'ALS__CGND-HDA-02953__AIM701074', 'ALS__CGND-HDA-03631__NST2KW5DK70R', 'ALS__CGND-HDA-02346__93-098-25', 'aals-ALS__CGND-HDA-03561__NEUUX972JTJ', 'aals-ALS__CGND-HDA-03915__NEUWY868EXR', 'ALS__CGND-HDA-01215__NEUUA360BR1', 'ALS__CGND-HDA-01768__TD-ALS-61', 'aals-ALS__CGND-HDA-01058__NEUXW790VZK', 'ALS__CGND-HDA-01446__NEURE172RL1', 'ALS__CGND-HDA-00927__MH-WASHU-305', 'ALS__CGND-HDA-01858__TD-ALS-116', 'ALS__CGND-HDA-00201__NEUNW210GCW', 'ALS__CGND-HDA-02096__NEUTA504MLR', 'ALS__CGND-HDA-02605__UP-WGS-360', 'aals-ALS__CGND-HDA-03594__NEUKX132GA1', 'aals-ALS__CGND-HDA-03516__NEULA694DDC', 'ALS__CGND-HDA-01682__UP-WGS-160', 'ALS__CGND-HDA-02566__11-172-67', 'ALS__CGND-HDA-02334__95-113-46', 'aals-ALS__CGND-HDA-04058__NEUDB006NJ6', 'aals-ALS__CGND-HDA-01461__NEUTA928FU1', 'ALS__CGND-HDA-01219__NEUUE341KJV', 'aals-ALS__CGND-HDA-04054__NEUEX525RTD', 'ALS__CGND-HDA-00639__MH-WASHU-17', 'aals-ALS__CGND-HDA-04071__NEUCD063FGD', 'ALS__CGND-HDA-01813__TD-ALS-136', 'ALS__CGND-HDA-00705__MH-WASHU-83', 'ALS__CGND-HDA-02550__00-137-12', 'aals-ALS__CGND-HDA-00243__NEUTW357UM5', 'ALS__CGND-HDA-02729__PF-UCL-16', 'ALS__CGND-HDA-00555__NEUWG523WRV', 'ALS__CGND-HDA-02572__98-128-67', 'aals-ALS__CGND-HDA-03088__NEUNG159PN3', 'aals-ALS__CGND-HDA-03445__NEUGE540TC4', 'ALS__CGND-HDA-02099__PF-BUH-2', 'ALS__CGND-HDA-04045__NEUWE409BEK', 'ALS__CGND-HDA-02549__00-136-06', 'ALS__CGND-HDA-00570__NEUHN558FRW', 'ALS__CGND-HDA-02579__NEUPU334DL1', 'ALS__CGND-HDA-02098__PF-BUH-1', 'aals-ALS__CGND-HDA-01403__NEURJ448YCV', 'aals-ALS__CGND-HDA-03143__NEUCV578DFJ', 'ALS__CGND-HDA-00872__MH-WASHU-250', 'ALS__CGND-HDA-00190__NEUZU200WEQ', 'ALS__CGND-HDA-00377__NEUZW291KJY-NEUBK438XLL', 'ALS__CGND-HDA-01013__NEUFL908GEL', 'ALS__CGND-HDA-01847__TD-ALS-123', 'ALS__CGND-HDA-01601__UP-WGS-079', 'ALS__CGND-HDA-00326__906ALS', 'ALS__CGND-HDA-02318__01-142-72', 'ALS__CGND-HDA-00028__UP-WGS-211', 'ALS__CGND-HDA-03684__NEUVH241FTU', 'aals-ALS__CGND-HDA-00204__NEUGD965XVD', 'aals-ALS__CGND-HDA-03733__NEUMB598FWD', 'ALS__CGND-HDA-02347__93-096-85', 'ALS__CGND-HDA-00902__MH-WASHU-280', 'aals-ALS__CGND-HDA-01203__NEUVF888UHM'}\n",
              "</pre>\n"
            ],
            "text/plain": [
              "02:02:45.753 | \u001b[36mINFO\u001b[0m    | Flow run\u001b[35m 'holistic-dragonfly'\u001b[0m - \n",
              "202 cases:\n",
              " {'ALS__CGND-HDA-03692__NEULV746FCJ', 'ALS__CGND-HDA-00885__MH-WASHU-263', 'ALS__CGND-HDA-02715__PF-UCL-2', 'ALS__CGND-HDA-00477__JHU16', 'ALS__CGND-HDA-02156__PF-UCH-18', 'ALS__CGND-HDA-02208__PF-TST-16', 'ALS__CGND-HDA-02289__13-196-12', 'ALS__CGND-HDA-02599__UP-WGS-354', 'ALS__CGND-HDA-00856__MH-WASHU-234', 'aals-ALS__CGND-HDA-03814__NEUCH829YF0', 'ALS__CGND-HDA-02560__89-051-35', 'ALS__CGND-HDA-03270__NEUKJ257ZPG', 'ALS__CGND-HDA-02606__UP-WGS-361', 'ALS__CGND-HDA-04020__TD-ALS-185', 'ALS__CGND-HDA-02931__AIM701050', 'ALS__CGND-HDA-03717__MH-WASHU-124', 'ALS__CGND-HDA-02575__NEUMY028JH4', 'aals-ALS__CGND-HDA-02590__NEULL648LJ1', 'aals-ALS__CGND-HDA-03848__NEURJ063EVP', 'ALS__CGND-HDA-02202__PF-TST-10', 'ALS__CGND-HDA-00764__MH-WASHU-142', 'ALS__CGND-HDA-03160__NEUXZ213MVF', 'aals-ALS__CGND-HDA-03871__NEUXE881UUH', 'ALS__CGND-HDA-02933__AIM701052', 'ALS__CGND-HDA-02295__12-184-22', 'ALS__CGND-HDA-00353__358ALS', 'ALS__CGND-HDA-00752__MH-WASHU-130', 'ALS__CGND-HDA-02569__12-188-99', 'ALS__CGND-HDA-00438__NEUYM657NVX', 'ALS__CGND-HDA-02383__87-025-43', 'ALS__CGND-HDA-00810__MH-WASHU-188', 'ALS__CGND-HDA-02275__16-219-14', 'ALS__CGND-HDA-00761__MH-WASHU-139', 'ALS__CGND-HDA-02633__UP-WGS-388', 'ALS__CGND-HDA-01222__NEUZE834BGH', 'ALS__CGND-HDA-03276__NEURY396DC4', 'ALS__CGND-HDA-00057__UP-WGS-241', 'aals-ALS__CGND-HDA-03844__NEUPE247VDD', 'aals-ALS__CGND-HDA-02705__NEUUY096ER2', 'aals-ALS__CGND-HDA-02235__NEUCE658ACK', 'ALS__CGND-HDA-02200__PF-TST-8', 'ALS__CGND-HDA-02942__AIM701062', 'ALS__CGND-HDA-04024__TD-ALS-189', 'ALS__CGND-HDA-02651__UP-WGS-406', 'aals-ALS__CGND-HDA-01400__NEUTK103LA2', 'ALS__CGND-HDA-02552__88-038-74', 'ALS__CGND-HDA-02996__UP-WGS-469', 'aals-ALS__CGND-HDA-03925__NEUEB894KU0', 'ALS__CGND-HDA-00939__53382BL1', 'aals-ALS__CGND-HDA-03576__NEUYG283GGY', 'ALS__CGND-HDA-00198__NEUYB686REL', 'ALS__CGND-HDA-01786__TD-ALS-15', 'ALS__CGND-HDA-02062__NEUXW577JCD', 'ALS__CGND-HDA-02336__94-101-35', 'ALS__CGND-HDA-02939__AIM701058', 'aals-ALS__CGND-HDA-01404__NEUKU079XLU', 'ALS__CGND-HDA-01646__UP-WGS-124', 'ALS__CGND-HDA-01596__UP-WGS-074', 'aals-ALS__CGND-HDA-02695__NEUPJ837WUD', 'ALS__CGND-HDA-03062__UP-WGS-535', 'ALS__CGND-HDA-01809__TD-ALS-104', 'aals-ALS__CGND-HDA-03521__NEUAE914RW2', 'aals-ALS__CGND-HDA-04067__NEUJA207UUV', 'ALS__CGND-HDA-03055__UP-WGS-528', 'ALS__CGND-HDA-00896__MH-WASHU-274', 'aals-ALS__CGND-HDA-00250__NEUJA666PYD', 'ALS__CGND-HDA-01703__JK-UM-5593', 'aals-ALS__CGND-HDA-03570__NEUGG832YET', 'ALS__CGND-HDA-00276__2073ALS', 'aals-ALS__CGND-HDA-01282__NEUHM968RHD', 'ALS__CGND-HDA-01330__NEUTB398FC9', 'ALS__CGND-HDA-00920__MH-WASHU-298', 'aals-ALS__CGND-HDA-03909__NEUDA779LU8', 'ALS__CGND-HDA-01319__NEUGV399KJW', 'ALS__CGND-HDA-02906__AIM701013', 'ALS__CGND-HDA-00881__MH-WASHU-259', 'aals-ALS__CGND-HDA-00244__NEUPG593UTV', 'ALS__CGND-HDA-00865__MH-WASHU-243', 'ALS__CGND-HDA-01009__NEUBJ693AJ0', 'aals-ALS__CGND-HDA-00252__NEUPB521WX4', 'ALS__CGND-HDA-00644__MH-WASHU-22', 'ALS__CGND-HDA-02613__UP-WGS-368', 'ALS__CGND-HDA-01769__TD-ALS-69', 'ALS__CGND-HDA-00305__2226ALS', 'ALS__CGND-HDA-02439__UP-WGS-175', 'aals-ALS__CGND-HDA-03818__NEUDT736NDX', 'ALS__CGND-HDA-02262__NEUCU743XHH', 'ALS__CGND-HDA-02741__PF-UCL-28', 'ALS__CGND-HDA-00869__MH-WASHU-247', 'ALS__CGND-HDA-00680__MH-WASHU-58', 'ALS__CGND-HDA-02403__12-180-24', 'ALS__CGND-HDA-02910__AIM701017', 'ALS__CGND-HDA-03002__UP-WGS-475', 'ALS__CGND-HDA-03272__NEUGL022MN2', 'aals-ALS__CGND-HDA-03913__NEUJA497KXF', 'ALS__CGND-HDA-00135__UP-WGS-320', 'ALS__CGND-HDA-03505__NEUBA645MFF', 'ALS__CGND-HDA-03630__NSTNNXTLA8ZQ', 'aals-ALS__CGND-HDA-02228__NEUPA955VWR', 'ALS__CGND-HDA-02980__UP-WGS-453', 'ALS__CGND-HDA-03413__NEUXF401FHW', 'aals-ALS__CGND-HDA-00444__NEUME498PCJ', 'ALS__CGND-HDA-02951__AIM701072', 'ALS__CGND-HDA-02629__UP-WGS-384', 'ALS__CGND-HDA-02632__UP-WGS-387', 'ALS__CGND-HDA-00953__53397BL1', 'ALS__CGND-HDA-03480__NEUBJ482ZRV', 'ALS__CGND-HDA-04017__TD-ALS-182', 'aals-ALS__CGND-HDA-03612__NEUXJ799CYK', 'aals-ALS__CGND-HDA-03449__NEUAN180JPP', 'ALS__CGND-HDA-02775__PF-UCL-62', 'ALS__CGND-HDA-03682__NEUVP043YXM', 'ALS__CGND-HDA-02616__UP-WGS-371', 'ALS__CGND-HDA-02389__88-042-86', 'ALS__CGND-HDA-01680__UP-WGS-158', 'aals-ALS__CGND-HDA-02698__NEUAL614GYB', 'ALS__CGND-HDA-03715__NEUGF432KT6', 'aals-ALS__CGND-HDA-03895__NEUEJ783ZYD', 'ALS__CGND-HDA-02373__90-054-28', 'aals-ALS__CGND-HDA-03728__NEUJG344BTU', 'ALS__CGND-HDA-02932__AIM701051', 'aals-ALS__CGND-HDA-01126__NEUHE199KK9', 'ALS__CGND-HDA-02725__PF-UCL-12', 'ALS__CGND-HDA-01837__TD-ALS-138', 'aals-ALS__CGND-HDA-03563__NEURR651FG5', 'ALS__CGND-HDA-00805__MH-WASHU-183', 'ALS__CGND-HDA-00908__MH-WASHU-286', 'ALS__CGND-HDA-00493__JHU32', 'ALS__CGND-HDA-02082__NEUEF586AGM', 'ALS__CGND-HDA-00731__MH-WASHU-109', 'ALS__CGND-HDA-03271__NEUKG838WER', 'aals-ALS__CGND-HDA-03567__NEUCG048WRY', 'ALS__CGND-HDA-04001__TD-ALS-166', 'ALS__CGND-HDA-01711__JK-UM-5675', 'aals-ALS__CGND-HDA-01132__NEUBX721MY2', 'ALS__CGND-HDA-00320__477ALS', 'ALS__CGND-HDA-01230__NEUEA589YC6', 'aals-ALS__CGND-HDA-02067__NEUKJ497WBB', 'aals-ALS__CGND-HDA-01369__NEUFV237VCZ', 'ALS__CGND-HDA-02934__AIM701053', 'aals-ALS__CGND-HDA-03546__NEUBX635MHH', 'aals-ALS__CGND-HDA-01053__NEUWJ389FC7', 'aals-ALS__CGND-HDA-03890__NEUEN266LR9', 'ALS__CGND-HDA-00960__53404BL1', 'ALS__CGND-HDA-01005__NEUYT216DU9', 'ALS__CGND-HDA-02953__AIM701074', 'ALS__CGND-HDA-03631__NST2KW5DK70R', 'ALS__CGND-HDA-02346__93-098-25', 'aals-ALS__CGND-HDA-03561__NEUUX972JTJ', 'aals-ALS__CGND-HDA-03915__NEUWY868EXR', 'ALS__CGND-HDA-01215__NEUUA360BR1', 'ALS__CGND-HDA-01768__TD-ALS-61', 'aals-ALS__CGND-HDA-01058__NEUXW790VZK', 'ALS__CGND-HDA-01446__NEURE172RL1', 'ALS__CGND-HDA-00927__MH-WASHU-305', 'ALS__CGND-HDA-01858__TD-ALS-116', 'ALS__CGND-HDA-00201__NEUNW210GCW', 'ALS__CGND-HDA-02096__NEUTA504MLR', 'ALS__CGND-HDA-02605__UP-WGS-360', 'aals-ALS__CGND-HDA-03594__NEUKX132GA1', 'aals-ALS__CGND-HDA-03516__NEULA694DDC', 'ALS__CGND-HDA-01682__UP-WGS-160', 'ALS__CGND-HDA-02566__11-172-67', 'ALS__CGND-HDA-02334__95-113-46', 'aals-ALS__CGND-HDA-04058__NEUDB006NJ6', 'aals-ALS__CGND-HDA-01461__NEUTA928FU1', 'ALS__CGND-HDA-01219__NEUUE341KJV', 'aals-ALS__CGND-HDA-04054__NEUEX525RTD', 'ALS__CGND-HDA-00639__MH-WASHU-17', 'aals-ALS__CGND-HDA-04071__NEUCD063FGD', 'ALS__CGND-HDA-01813__TD-ALS-136', 'ALS__CGND-HDA-00705__MH-WASHU-83', 'ALS__CGND-HDA-02550__00-137-12', 'aals-ALS__CGND-HDA-00243__NEUTW357UM5', 'ALS__CGND-HDA-02729__PF-UCL-16', 'ALS__CGND-HDA-00555__NEUWG523WRV', 'ALS__CGND-HDA-02572__98-128-67', 'aals-ALS__CGND-HDA-03088__NEUNG159PN3', 'aals-ALS__CGND-HDA-03445__NEUGE540TC4', 'ALS__CGND-HDA-02099__PF-BUH-2', 'ALS__CGND-HDA-04045__NEUWE409BEK', 'ALS__CGND-HDA-02549__00-136-06', 'ALS__CGND-HDA-00570__NEUHN558FRW', 'ALS__CGND-HDA-02579__NEUPU334DL1', 'ALS__CGND-HDA-02098__PF-BUH-1', 'aals-ALS__CGND-HDA-01403__NEURJ448YCV', 'aals-ALS__CGND-HDA-03143__NEUCV578DFJ', 'ALS__CGND-HDA-00872__MH-WASHU-250', 'ALS__CGND-HDA-00190__NEUZU200WEQ', 'ALS__CGND-HDA-00377__NEUZW291KJY-NEUBK438XLL', 'ALS__CGND-HDA-01013__NEUFL908GEL', 'ALS__CGND-HDA-01847__TD-ALS-123', 'ALS__CGND-HDA-01601__UP-WGS-079', 'ALS__CGND-HDA-00326__906ALS', 'ALS__CGND-HDA-02318__01-142-72', 'ALS__CGND-HDA-00028__UP-WGS-211', 'ALS__CGND-HDA-03684__NEUVH241FTU', 'aals-ALS__CGND-HDA-00204__NEUGD965XVD', 'aals-ALS__CGND-HDA-03733__NEUMB598FWD', 'ALS__CGND-HDA-02347__93-096-85', 'ALS__CGND-HDA-00902__MH-WASHU-280', 'aals-ALS__CGND-HDA-01203__NEUVF888UHM'}\n"
            ]
          },
          "metadata": {},
          "output_type": "display_data"
        },
        {
          "data": {
            "text/html": [
              "<pre style=\"white-space:pre;overflow-x:auto;line-height:normal;font-family:Menlo,'DejaVu Sans Mono',consolas,'Courier New',monospace\">02:02:45.755 | <span style=\"color: #008080; text-decoration-color: #008080\">INFO</span>    | Flow run<span style=\"color: #800080; text-decoration-color: #800080\"> 'holistic-dragonfly'</span> - \n",
              "684 controls:\n",
              " {'CGND-HDA-02444', 'HG00100', 'NA20758', 'NA11894', 'HG01536', 'HG01624', 'HG00122', 'CGND-HDA-01519', 'CGND-HDA-02724', 'NA20515', 'CGND-HDA-03585', 'NA20769', 'CGND-HDA-03468', 'HG02238', 'CGND-HDA-03797', 'HG01620', 'CGND-HDA-03978', 'NA20802', 'CGND-HDA-00564', 'CGND-HDA-02516', 'HG00145', 'CGND-HDA-01541', 'HG01670', 'NA20772', 'HG02221', 'CGND-HDA-01537', 'CGND-HDA-01486', 'HG01776', 'NA20808', 'CGND-HDA-01691', 'CGND-HDA-01653', 'CGND-HDA-03548', 'CGND-HDA-02764', 'CGND-HDA-03668', 'CGND-HDA-01700', 'CGND-HDA-02513', 'CGND-HDA-01593', 'CGND-HDA-01551', 'CGND-HDA-01651', 'NA12155', 'NA12812', 'CGND-HDA-03876', 'CGND-HDA-01692', 'CGND-HDA-03792', 'HG01705', 'CGND-HDA-01526', 'CGND-HDA-03773', 'CGND-HDA-01532', 'HG00143', 'CGND-HDA-03781', 'CGND-HDA-00209', 'NA12282', 'NA12760', 'CGND-HDA-01900', 'NA11843', 'HG01761', 'NA12763', 'CGND-HDA-02760', 'CGND-HDA-03098', 'CGND-HDA-02189', 'NA20756', 'CGND-HDA-03870', 'HG00255', 'NA20535', 'NA20832', 'NA11918', 'NA20544', 'NA20761', 'HG01617', 'CGND-HDA-03727', 'NA20754', 'CGND-HDA-03093', 'HG00110', 'NA12827', 'CGND-HDA-01502', 'HG01747', 'CGND-HDA-01453', 'CGND-HDA-03522', 'HG00160', 'NA20516', 'CGND-HDA-01663', 'HG02233', 'CGND-HDA-03421', 'CGND-HDA-03142', 'HG01613', 'HG01610', 'NA12044', 'HG01524', 'NA12843', 'HG00159', 'NA20529', 'CGND-HDA-01438', 'NA20753', 'CGND-HDA-03734', 'CGND-HDA-01655', 'NA11829', 'CGND-HDA-03470', 'CGND-HDA-03486', 'CGND-HDA-02021', 'CGND-HDA-01594', 'CGND-HDA-03089', 'HG00112', 'CGND-HDA-03785', 'CGND-HDA-03778', 'CGND-HDA-03874', 'HG01765', 'NA12813', 'CGND-HDA-03167', 'HG00258', 'CGND-HDA-02706', 'NA11920', 'NA20502', 'CGND-HDA-02746', 'HG01504', 'CGND-HDA-02716', 'HG00148', 'CGND-HDA-03481', 'CGND-HDA-02514', 'CGND-HDA-03739', 'HG01503', 'NA12718', 'NA20798', 'CGND-HDA-03201', 'CGND-HDA-02440', 'CGND-HDA-03770', 'HG01697', 'HG01784', 'NA12156', 'NA20771', 'CGND-HDA-01901', 'HG00259', 'NA12003', 'NA20815', 'HG01525', 'HG01531', 'CGND-HDA-03790', 'CGND-HDA-02831', 'CGND-HDA-03986', 'HG01501', 'CGND-HDA-03753', 'NA10847', 'NA12749', 'CGND-HDA-03671', 'NA11830', 'CGND-HDA-01559', 'NA20787', 'CGND-HDA-01818', 'HG00237', 'HG01608', 'HG02239', 'NA12873', 'HG00244', 'NA20827', 'CGND-HDA-02738', 'HG01757', 'CGND-HDA-01604', 'HG00109', 'NA10851', 'HG00243', 'HG00154', 'NA20543', 'HG01680', 'HG00158', 'CGND-HDA-03524', 'HG01602', 'CGND-HDA-03479', 'CGND-HDA-03977', 'HG01515', 'HG01786', 'HG00128', 'HG01682', 'HG01768', 'CGND-HDA-03074', 'CGND-HDA-03562', 'CGND-HDA-01410', 'HG01630', 'NA20775', 'HG00103', 'CGND-HDA-01607', 'CGND-HDA-03166', 'HG00114', 'CGND-HDA-01456', 'HG00251', 'CGND-HDA-02515', 'CGND-HDA-01853', 'NA12043', 'HG00151', 'HG02231', 'CGND-HDA-01538', 'CGND-HDA-02766', 'NA20509', 'HG01699', 'CGND-HDA-03782', 'HG00131', 'CGND-HDA-02519', 'HG00146', 'CGND-HDA-03079', 'HG01679', 'CGND-HDA-01448', 'CGND-HDA-02088', 'HG01789', 'NA12347', 'HG01628', 'HG00157', 'CGND-HDA-01543', 'HG00231', 'NA20513', 'CGND-HDA-03476', 'CGND-HDA-01605', 'HG01626', 'CGND-HDA-00260', 'CGND-HDA-03783', 'CGND-HDA-02734', 'CGND-HDA-03527', 'CGND-HDA-01664', 'NA12287', 'CGND-HDA-03197', 'CGND-HDA-01830', 'HG01673', 'NA20518', 'HG01615', 'HG01516', 'HG00123', 'CGND-HDA-01427', 'CGND-HDA-00565', 'HG00120', 'NA20520', 'CGND-HDA-03794', 'HG01675', 'NA06985', 'CGND-HDA-03774', 'NA20542', 'CGND-HDA-01417', 'HG02230', 'HG00140', 'NA20810', 'CGND-HDA-02833', 'HG02236', 'CGND-HDA-02223', 'CGND-HDA-01610', 'CGND-HDA-03951', 'HG01762', 'NA20505', 'HG00235', 'CGND-HDA-00434', 'CGND-HDA-03864', 'HG01669', 'HG01773', 'NA12286', 'CGND-HDA-02512', 'HG00245', 'CGND-HDA-01654', 'HG00257', 'HG00096', 'NA20796', 'CGND-HDA-01511', 'HG00116', 'CGND-HDA-03448', 'NA20534', 'CGND-HDA-04090', 'HG00254', 'HG01686', 'HG01708', 'HG00130', 'NA20587', 'CGND-HDA-02079', 'NA20826', 'CGND-HDA-02774', 'CGND-HDA-01841', 'CGND-HDA-01430', 'NA12400', 'CGND-HDA-01641', 'HG01678', 'HG00138', 'HG02232', 'NA12874', 'NA20812', 'CGND-HDA-02567', 'CGND-HDA-02748', 'NA12775', 'CGND-HDA-02446', 'CGND-HDA-01447', 'NA20764', 'NA20821', 'HG01605', 'HG00149', 'NA20752', 'NA12273', 'CGND-HDA-03798', 'CGND-HDA-01413', 'CGND-HDA-01484', 'NA20804', 'CGND-HDA-03137', 'CGND-HDA-01865', 'HG00239', 'HG01509', 'NA20519', 'HG00264', 'NA20813', 'HG00253', 'CGND-HDA-03795', 'NA11930', 'HG00126', 'CGND-HDA-03459', 'NA20818', 'CGND-HDA-02756', 'NA20767', 'HG01781', 'HG00099', 'CGND-HDA-01606', 'HG01612', 'CGND-HDA-02720', 'HG00115', 'NA12154', 'NA12761', 'CGND-HDA-01518', 'HG01537', 'NA20806', 'NA20805', 'CGND-HDA-03698', 'NA12716', 'NA20527', 'CGND-HDA-03075', 'HG00242', 'CGND-HDA-02754', 'CGND-HDA-01817', 'CGND-HDA-03144', 'CGND-HDA-02838', 'CGND-HDA-02520', 'CGND-HDA-01531', 'NA20514', 'CGND-HDA-02835', 'CGND-HDA-03896', 'NA07048', 'HG00240', 'NA12275', 'CGND-HDA-01611', 'NA12872', 'CGND-HDA-02718', 'NA20517', 'CGND-HDA-03596', 'CGND-HDA-03097', 'HG01521', 'CGND-HDA-01953', 'CGND-HDA-03813', 'CGND-HDA-03581', 'CGND-HDA-01640', 'HG00155', 'NA12814', 'HG01672', 'CGND-HDA-01021', 'HG01704', 'HG00113', 'CGND-HDA-01426', 'CGND-HDA-03578', 'CGND-HDA-01020', 'NA12341', 'HG00262', 'NA20763', 'HG01710', 'NA11919', 'CGND-HDA-01464', 'CGND-HDA-03950', 'NA20774', 'CGND-HDA-01414', 'CGND-HDA-02075', 'CGND-HDA-01433', 'CGND-HDA-03669', 'NA20819', 'HG01767', 'NA12058', 'CGND-HDA-02448', 'NA20795', 'NA20786', 'NA12144', 'CGND-HDA-02829', 'NA20541', 'NA20766', 'CGND-HDA-02836', 'CGND-HDA-03786', 'HG01756', 'CGND-HDA-02222', 'HG01709', 'HG00150', 'NA20510', 'HG00256', 'CGND-HDA-02740', 'HG00111', 'HG01779', 'CGND-HDA-02092', 'NA20581', 'NA12762', 'CGND-HDA-03157', 'HG01625', 'CGND-HDA-03035', 'NA12006', 'HG00137', 'NA12045', 'NA20588', 'HG00250', 'CGND-HDA-01922', 'NA20773', 'CGND-HDA-01503', 'NA20531', 'HG02215', 'NA20532', 'CGND-HDA-03962', 'HG01631', 'CGND-HDA-03411', 'HG01506', 'NA20770', 'CGND-HDA-03545', 'HG00119', 'NA20778', 'CGND-HDA-03483', 'CGND-HDA-02742', 'HG02220', 'CGND-HDA-03683', 'CGND-HDA-01522', 'CGND-HDA-02832', 'CGND-HDA-02730', 'HG00132', 'HG01530', 'CGND-HDA-01634', 'HG00174', 'NA07037', 'CGND-HDA-02690', 'CGND-HDA-02768', 'CGND-HDA-03081', 'CGND-HDA-01533', 'CGND-HDA-01515', 'HG01766', 'HG01668', 'NA07000', 'NA20525', 'CGND-HDA-02857', 'CGND-HDA-01500', 'HG01777', 'NA12348', 'HG02224', 'HG01519', 'HG01791', 'HG00142', 'HG00117', 'HG00106', 'CGND-HDA-03149', 'CGND-HDA-02728', 'CGND-HDA-02830', 'NA20533', 'NA12046', 'NA20528', 'NA20539', 'HG01527', 'NA20507', 'NA06984', 'NA11892', 'CGND-HDA-03780', 'CGND-HDA-03152', 'CGND-HDA-03519', 'NA20530', 'CGND-HDA-02183', 'HG00125', 'NA11992', 'CGND-HDA-01123', 'HG00234', 'HG00105', 'NA12748', 'CGND-HDA-03591', 'CGND-HDA-02445', 'HG01770', 'HG01518', 'CGND-HDA-00196', 'CGND-HDA-01487', 'NA12751', 'NA12878', 'CGND-HDA-02324', 'CGND-HDA-03763', 'NA11932', 'HG02235', 'NA12750', 'CGND-HDA-03457', 'CGND-HDA-03154', 'NA20506', 'CGND-HDA-01608', 'CGND-HDA-03103', 'NA20792', 'HG00232', 'HG01334', 'CGND-HDA-03768', 'HG01603', 'HG01513', 'HG00141', 'HG00265', 'NA20503', 'NA12342', 'HG00246', 'CGND-HDA-01929', 'NA20799', 'HG01606', 'HG00102', 'CGND-HDA-01488', 'HG00238', 'NA12815', 'NA20803', 'HG00108', 'HG01695', 'CGND-HDA-03520', 'NA11881', 'CGND-HDA-01540', 'CGND-HDA-02750', 'NA20768', 'NA12890', 'CGND-HDA-02770', 'CGND-HDA-03775', 'NA06994', 'NA11831', 'HG00260', 'CGND-HDA-03793', 'NA07357', 'CGND-HDA-03487', 'NA11995', 'HG01771', 'NA20822', 'HG00129', 'NA20801', 'HG01785', 'NA12283', 'CGND-HDA-02509', 'NA07347', 'NA12383', 'HG01632', 'NA11931', 'NA20757', 'CGND-HDA-03771', 'NA12777', 'CGND-HDA-03579', 'NA07056', 'NA20807', 'NA12778', 'HG01685', 'HG01623', 'CGND-HDA-02530', 'NA12828', 'CGND-HDA-00556', 'CGND-HDA-01592', 'CGND-HDA-02834', 'CGND-HDA-03532', 'HG00136', 'NA12004', 'CGND-HDA-01436', 'HG00261', 'NA12414', 'NA20582', 'CGND-HDA-01852', 'NA20790', 'NA20814', 'HG02219', 'CGND-HDA-03588', 'HG01507', 'NA20762', 'NA20783', 'HG01694', 'CGND-HDA-03788', 'HG00118', 'HG00097', 'HG01510', 'HG01790', 'NA12842', 'CGND-HDA-03787', 'NA12413', 'NA20765', 'NA20508', 'NA20524', 'HG01684', 'HG01500', 'HG01607', 'HG00263', 'NA20785', 'HG01702', 'HG01746', 'HG00101', 'NA11933', 'NA20522', 'NA20809', 'CGND-HDA-03777', 'CGND-HDA-00599', 'NA11994', 'CGND-HDA-03772', 'NA20589', 'CGND-HDA-01842', 'NA20586', 'CGND-HDA-02710', 'HG00236', 'CGND-HDA-01557', 'CGND-HDA-03784', 'NA20538', 'NA20511', 'NA20811', 'CGND-HDA-03584', 'CGND-HDA-01542', 'HG01676', 'CGND-HDA-03539', 'HG00252', 'NA20504', 'CGND-HDA-02081', 'CGND-HDA-01416', 'CGND-HDA-02758', 'CGND-HDA-03811', 'CGND-HDA-03957', 'NA12829', 'CGND-HDA-01493', 'NA20540', 'HG00139', 'CGND-HDA-02762', 'HG00190', 'HG01707', 'CGND-HDA-03764', 'NA06986', 'NA12234', 'CGND-HDA-03776', 'HG00127', 'CGND-HDA-02187', 'NA12489', 'CGND-HDA-01501', 'NA12272', 'NA20585', 'CGND-HDA-02726', 'HG02223', 'NA11893', 'NA20755', 'NA20512', 'HG00233', 'NA20800', 'NA12717', 'CGND-HDA-03689', 'CGND-HDA-02510', 'NA12889', 'CGND-HDA-01536', 'CGND-HDA-03858', 'HG00121', 'NA12776', 'HG01775', 'CGND-HDA-03530', 'NA20521', 'HG01700', 'CGND-HDA-02518', 'CGND-HDA-03801', 'HG01619', 'NA11832', 'CGND-HDA-03095', 'CGND-HDA-03759', 'CGND-HDA-02732', 'NA06989', 'NA12005', 'CGND-HDA-01454', 'NA20759', 'CGND-HDA-01425', 'CGND-HDA-00435', 'CGND-HDA-00997', 'NA11840', 'NA20536', 'CGND-HDA-02714', 'NA12399', 'CGND-HDA-02327', 'NA12340', 'NA12249', 'HG00133', 'NA20828', 'NA20760', 'CGND-HDA-01976', 'HG01528', 'HG01512', 'CGND-HDA-01445', 'NA07051', 'HG00360', 'HG01618', 'HG01522', 'CGND-HDA-02772', 'CGND-HDA-02722', 'HG00107', 'CGND-HDA-03084', 'NA20797', 'CGND-HDA-03597', 'CGND-HDA-03147'}\n",
              "</pre>\n"
            ],
            "text/plain": [
              "02:02:45.755 | \u001b[36mINFO\u001b[0m    | Flow run\u001b[35m 'holistic-dragonfly'\u001b[0m - \n",
              "684 controls:\n",
              " {'CGND-HDA-02444', 'HG00100', 'NA20758', 'NA11894', 'HG01536', 'HG01624', 'HG00122', 'CGND-HDA-01519', 'CGND-HDA-02724', 'NA20515', 'CGND-HDA-03585', 'NA20769', 'CGND-HDA-03468', 'HG02238', 'CGND-HDA-03797', 'HG01620', 'CGND-HDA-03978', 'NA20802', 'CGND-HDA-00564', 'CGND-HDA-02516', 'HG00145', 'CGND-HDA-01541', 'HG01670', 'NA20772', 'HG02221', 'CGND-HDA-01537', 'CGND-HDA-01486', 'HG01776', 'NA20808', 'CGND-HDA-01691', 'CGND-HDA-01653', 'CGND-HDA-03548', 'CGND-HDA-02764', 'CGND-HDA-03668', 'CGND-HDA-01700', 'CGND-HDA-02513', 'CGND-HDA-01593', 'CGND-HDA-01551', 'CGND-HDA-01651', 'NA12155', 'NA12812', 'CGND-HDA-03876', 'CGND-HDA-01692', 'CGND-HDA-03792', 'HG01705', 'CGND-HDA-01526', 'CGND-HDA-03773', 'CGND-HDA-01532', 'HG00143', 'CGND-HDA-03781', 'CGND-HDA-00209', 'NA12282', 'NA12760', 'CGND-HDA-01900', 'NA11843', 'HG01761', 'NA12763', 'CGND-HDA-02760', 'CGND-HDA-03098', 'CGND-HDA-02189', 'NA20756', 'CGND-HDA-03870', 'HG00255', 'NA20535', 'NA20832', 'NA11918', 'NA20544', 'NA20761', 'HG01617', 'CGND-HDA-03727', 'NA20754', 'CGND-HDA-03093', 'HG00110', 'NA12827', 'CGND-HDA-01502', 'HG01747', 'CGND-HDA-01453', 'CGND-HDA-03522', 'HG00160', 'NA20516', 'CGND-HDA-01663', 'HG02233', 'CGND-HDA-03421', 'CGND-HDA-03142', 'HG01613', 'HG01610', 'NA12044', 'HG01524', 'NA12843', 'HG00159', 'NA20529', 'CGND-HDA-01438', 'NA20753', 'CGND-HDA-03734', 'CGND-HDA-01655', 'NA11829', 'CGND-HDA-03470', 'CGND-HDA-03486', 'CGND-HDA-02021', 'CGND-HDA-01594', 'CGND-HDA-03089', 'HG00112', 'CGND-HDA-03785', 'CGND-HDA-03778', 'CGND-HDA-03874', 'HG01765', 'NA12813', 'CGND-HDA-03167', 'HG00258', 'CGND-HDA-02706', 'NA11920', 'NA20502', 'CGND-HDA-02746', 'HG01504', 'CGND-HDA-02716', 'HG00148', 'CGND-HDA-03481', 'CGND-HDA-02514', 'CGND-HDA-03739', 'HG01503', 'NA12718', 'NA20798', 'CGND-HDA-03201', 'CGND-HDA-02440', 'CGND-HDA-03770', 'HG01697', 'HG01784', 'NA12156', 'NA20771', 'CGND-HDA-01901', 'HG00259', 'NA12003', 'NA20815', 'HG01525', 'HG01531', 'CGND-HDA-03790', 'CGND-HDA-02831', 'CGND-HDA-03986', 'HG01501', 'CGND-HDA-03753', 'NA10847', 'NA12749', 'CGND-HDA-03671', 'NA11830', 'CGND-HDA-01559', 'NA20787', 'CGND-HDA-01818', 'HG00237', 'HG01608', 'HG02239', 'NA12873', 'HG00244', 'NA20827', 'CGND-HDA-02738', 'HG01757', 'CGND-HDA-01604', 'HG00109', 'NA10851', 'HG00243', 'HG00154', 'NA20543', 'HG01680', 'HG00158', 'CGND-HDA-03524', 'HG01602', 'CGND-HDA-03479', 'CGND-HDA-03977', 'HG01515', 'HG01786', 'HG00128', 'HG01682', 'HG01768', 'CGND-HDA-03074', 'CGND-HDA-03562', 'CGND-HDA-01410', 'HG01630', 'NA20775', 'HG00103', 'CGND-HDA-01607', 'CGND-HDA-03166', 'HG00114', 'CGND-HDA-01456', 'HG00251', 'CGND-HDA-02515', 'CGND-HDA-01853', 'NA12043', 'HG00151', 'HG02231', 'CGND-HDA-01538', 'CGND-HDA-02766', 'NA20509', 'HG01699', 'CGND-HDA-03782', 'HG00131', 'CGND-HDA-02519', 'HG00146', 'CGND-HDA-03079', 'HG01679', 'CGND-HDA-01448', 'CGND-HDA-02088', 'HG01789', 'NA12347', 'HG01628', 'HG00157', 'CGND-HDA-01543', 'HG00231', 'NA20513', 'CGND-HDA-03476', 'CGND-HDA-01605', 'HG01626', 'CGND-HDA-00260', 'CGND-HDA-03783', 'CGND-HDA-02734', 'CGND-HDA-03527', 'CGND-HDA-01664', 'NA12287', 'CGND-HDA-03197', 'CGND-HDA-01830', 'HG01673', 'NA20518', 'HG01615', 'HG01516', 'HG00123', 'CGND-HDA-01427', 'CGND-HDA-00565', 'HG00120', 'NA20520', 'CGND-HDA-03794', 'HG01675', 'NA06985', 'CGND-HDA-03774', 'NA20542', 'CGND-HDA-01417', 'HG02230', 'HG00140', 'NA20810', 'CGND-HDA-02833', 'HG02236', 'CGND-HDA-02223', 'CGND-HDA-01610', 'CGND-HDA-03951', 'HG01762', 'NA20505', 'HG00235', 'CGND-HDA-00434', 'CGND-HDA-03864', 'HG01669', 'HG01773', 'NA12286', 'CGND-HDA-02512', 'HG00245', 'CGND-HDA-01654', 'HG00257', 'HG00096', 'NA20796', 'CGND-HDA-01511', 'HG00116', 'CGND-HDA-03448', 'NA20534', 'CGND-HDA-04090', 'HG00254', 'HG01686', 'HG01708', 'HG00130', 'NA20587', 'CGND-HDA-02079', 'NA20826', 'CGND-HDA-02774', 'CGND-HDA-01841', 'CGND-HDA-01430', 'NA12400', 'CGND-HDA-01641', 'HG01678', 'HG00138', 'HG02232', 'NA12874', 'NA20812', 'CGND-HDA-02567', 'CGND-HDA-02748', 'NA12775', 'CGND-HDA-02446', 'CGND-HDA-01447', 'NA20764', 'NA20821', 'HG01605', 'HG00149', 'NA20752', 'NA12273', 'CGND-HDA-03798', 'CGND-HDA-01413', 'CGND-HDA-01484', 'NA20804', 'CGND-HDA-03137', 'CGND-HDA-01865', 'HG00239', 'HG01509', 'NA20519', 'HG00264', 'NA20813', 'HG00253', 'CGND-HDA-03795', 'NA11930', 'HG00126', 'CGND-HDA-03459', 'NA20818', 'CGND-HDA-02756', 'NA20767', 'HG01781', 'HG00099', 'CGND-HDA-01606', 'HG01612', 'CGND-HDA-02720', 'HG00115', 'NA12154', 'NA12761', 'CGND-HDA-01518', 'HG01537', 'NA20806', 'NA20805', 'CGND-HDA-03698', 'NA12716', 'NA20527', 'CGND-HDA-03075', 'HG00242', 'CGND-HDA-02754', 'CGND-HDA-01817', 'CGND-HDA-03144', 'CGND-HDA-02838', 'CGND-HDA-02520', 'CGND-HDA-01531', 'NA20514', 'CGND-HDA-02835', 'CGND-HDA-03896', 'NA07048', 'HG00240', 'NA12275', 'CGND-HDA-01611', 'NA12872', 'CGND-HDA-02718', 'NA20517', 'CGND-HDA-03596', 'CGND-HDA-03097', 'HG01521', 'CGND-HDA-01953', 'CGND-HDA-03813', 'CGND-HDA-03581', 'CGND-HDA-01640', 'HG00155', 'NA12814', 'HG01672', 'CGND-HDA-01021', 'HG01704', 'HG00113', 'CGND-HDA-01426', 'CGND-HDA-03578', 'CGND-HDA-01020', 'NA12341', 'HG00262', 'NA20763', 'HG01710', 'NA11919', 'CGND-HDA-01464', 'CGND-HDA-03950', 'NA20774', 'CGND-HDA-01414', 'CGND-HDA-02075', 'CGND-HDA-01433', 'CGND-HDA-03669', 'NA20819', 'HG01767', 'NA12058', 'CGND-HDA-02448', 'NA20795', 'NA20786', 'NA12144', 'CGND-HDA-02829', 'NA20541', 'NA20766', 'CGND-HDA-02836', 'CGND-HDA-03786', 'HG01756', 'CGND-HDA-02222', 'HG01709', 'HG00150', 'NA20510', 'HG00256', 'CGND-HDA-02740', 'HG00111', 'HG01779', 'CGND-HDA-02092', 'NA20581', 'NA12762', 'CGND-HDA-03157', 'HG01625', 'CGND-HDA-03035', 'NA12006', 'HG00137', 'NA12045', 'NA20588', 'HG00250', 'CGND-HDA-01922', 'NA20773', 'CGND-HDA-01503', 'NA20531', 'HG02215', 'NA20532', 'CGND-HDA-03962', 'HG01631', 'CGND-HDA-03411', 'HG01506', 'NA20770', 'CGND-HDA-03545', 'HG00119', 'NA20778', 'CGND-HDA-03483', 'CGND-HDA-02742', 'HG02220', 'CGND-HDA-03683', 'CGND-HDA-01522', 'CGND-HDA-02832', 'CGND-HDA-02730', 'HG00132', 'HG01530', 'CGND-HDA-01634', 'HG00174', 'NA07037', 'CGND-HDA-02690', 'CGND-HDA-02768', 'CGND-HDA-03081', 'CGND-HDA-01533', 'CGND-HDA-01515', 'HG01766', 'HG01668', 'NA07000', 'NA20525', 'CGND-HDA-02857', 'CGND-HDA-01500', 'HG01777', 'NA12348', 'HG02224', 'HG01519', 'HG01791', 'HG00142', 'HG00117', 'HG00106', 'CGND-HDA-03149', 'CGND-HDA-02728', 'CGND-HDA-02830', 'NA20533', 'NA12046', 'NA20528', 'NA20539', 'HG01527', 'NA20507', 'NA06984', 'NA11892', 'CGND-HDA-03780', 'CGND-HDA-03152', 'CGND-HDA-03519', 'NA20530', 'CGND-HDA-02183', 'HG00125', 'NA11992', 'CGND-HDA-01123', 'HG00234', 'HG00105', 'NA12748', 'CGND-HDA-03591', 'CGND-HDA-02445', 'HG01770', 'HG01518', 'CGND-HDA-00196', 'CGND-HDA-01487', 'NA12751', 'NA12878', 'CGND-HDA-02324', 'CGND-HDA-03763', 'NA11932', 'HG02235', 'NA12750', 'CGND-HDA-03457', 'CGND-HDA-03154', 'NA20506', 'CGND-HDA-01608', 'CGND-HDA-03103', 'NA20792', 'HG00232', 'HG01334', 'CGND-HDA-03768', 'HG01603', 'HG01513', 'HG00141', 'HG00265', 'NA20503', 'NA12342', 'HG00246', 'CGND-HDA-01929', 'NA20799', 'HG01606', 'HG00102', 'CGND-HDA-01488', 'HG00238', 'NA12815', 'NA20803', 'HG00108', 'HG01695', 'CGND-HDA-03520', 'NA11881', 'CGND-HDA-01540', 'CGND-HDA-02750', 'NA20768', 'NA12890', 'CGND-HDA-02770', 'CGND-HDA-03775', 'NA06994', 'NA11831', 'HG00260', 'CGND-HDA-03793', 'NA07357', 'CGND-HDA-03487', 'NA11995', 'HG01771', 'NA20822', 'HG00129', 'NA20801', 'HG01785', 'NA12283', 'CGND-HDA-02509', 'NA07347', 'NA12383', 'HG01632', 'NA11931', 'NA20757', 'CGND-HDA-03771', 'NA12777', 'CGND-HDA-03579', 'NA07056', 'NA20807', 'NA12778', 'HG01685', 'HG01623', 'CGND-HDA-02530', 'NA12828', 'CGND-HDA-00556', 'CGND-HDA-01592', 'CGND-HDA-02834', 'CGND-HDA-03532', 'HG00136', 'NA12004', 'CGND-HDA-01436', 'HG00261', 'NA12414', 'NA20582', 'CGND-HDA-01852', 'NA20790', 'NA20814', 'HG02219', 'CGND-HDA-03588', 'HG01507', 'NA20762', 'NA20783', 'HG01694', 'CGND-HDA-03788', 'HG00118', 'HG00097', 'HG01510', 'HG01790', 'NA12842', 'CGND-HDA-03787', 'NA12413', 'NA20765', 'NA20508', 'NA20524', 'HG01684', 'HG01500', 'HG01607', 'HG00263', 'NA20785', 'HG01702', 'HG01746', 'HG00101', 'NA11933', 'NA20522', 'NA20809', 'CGND-HDA-03777', 'CGND-HDA-00599', 'NA11994', 'CGND-HDA-03772', 'NA20589', 'CGND-HDA-01842', 'NA20586', 'CGND-HDA-02710', 'HG00236', 'CGND-HDA-01557', 'CGND-HDA-03784', 'NA20538', 'NA20511', 'NA20811', 'CGND-HDA-03584', 'CGND-HDA-01542', 'HG01676', 'CGND-HDA-03539', 'HG00252', 'NA20504', 'CGND-HDA-02081', 'CGND-HDA-01416', 'CGND-HDA-02758', 'CGND-HDA-03811', 'CGND-HDA-03957', 'NA12829', 'CGND-HDA-01493', 'NA20540', 'HG00139', 'CGND-HDA-02762', 'HG00190', 'HG01707', 'CGND-HDA-03764', 'NA06986', 'NA12234', 'CGND-HDA-03776', 'HG00127', 'CGND-HDA-02187', 'NA12489', 'CGND-HDA-01501', 'NA12272', 'NA20585', 'CGND-HDA-02726', 'HG02223', 'NA11893', 'NA20755', 'NA20512', 'HG00233', 'NA20800', 'NA12717', 'CGND-HDA-03689', 'CGND-HDA-02510', 'NA12889', 'CGND-HDA-01536', 'CGND-HDA-03858', 'HG00121', 'NA12776', 'HG01775', 'CGND-HDA-03530', 'NA20521', 'HG01700', 'CGND-HDA-02518', 'CGND-HDA-03801', 'HG01619', 'NA11832', 'CGND-HDA-03095', 'CGND-HDA-03759', 'CGND-HDA-02732', 'NA06989', 'NA12005', 'CGND-HDA-01454', 'NA20759', 'CGND-HDA-01425', 'CGND-HDA-00435', 'CGND-HDA-00997', 'NA11840', 'NA20536', 'CGND-HDA-02714', 'NA12399', 'CGND-HDA-02327', 'NA12340', 'NA12249', 'HG00133', 'NA20828', 'NA20760', 'CGND-HDA-01976', 'HG01528', 'HG01512', 'CGND-HDA-01445', 'NA07051', 'HG00360', 'HG01618', 'HG01522', 'CGND-HDA-02772', 'CGND-HDA-02722', 'HG00107', 'CGND-HDA-03084', 'NA20797', 'CGND-HDA-03597', 'CGND-HDA-03147'}\n"
            ]
          },
          "metadata": {},
          "output_type": "display_data"
        },
        {
          "data": {
            "text/html": [
              "<pre style=\"white-space:pre;overflow-x:auto;line-height:normal;font-family:Menlo,'DejaVu Sans Mono',consolas,'Courier New',monospace\">02:02:45.764 | <span style=\"color: #008080; text-decoration-color: #008080\">INFO</span>    | Flow run<span style=\"color: #800080; text-decoration-color: #800080\"> 'holistic-dragonfly'</span> - Filtered 1426 alleles with frequency below 5.000%\n",
              "</pre>\n"
            ],
            "text/plain": [
              "02:02:45.764 | \u001b[36mINFO\u001b[0m    | Flow run\u001b[35m 'holistic-dragonfly'\u001b[0m - Filtered 1426 alleles with frequency below 5.000%\n"
            ]
          },
          "metadata": {},
          "output_type": "display_data"
        },
        {
          "data": {
            "text/html": [
              "<pre style=\"white-space:pre;overflow-x:auto;line-height:normal;font-family:Menlo,'DejaVu Sans Mono',consolas,'Courier New',monospace\">02:02:45.765 | <span style=\"color: #008080; text-decoration-color: #008080\">INFO</span>    | Flow run<span style=\"color: #800080; text-decoration-color: #800080\"> 'holistic-dragonfly'</span> - Kept 56 alleles\n",
              "</pre>\n"
            ],
            "text/plain": [
              "02:02:45.765 | \u001b[36mINFO\u001b[0m    | Flow run\u001b[35m 'holistic-dragonfly'\u001b[0m - Kept 56 alleles\n"
            ]
          },
          "metadata": {},
          "output_type": "display_data"
        },
        {
          "data": {
            "text/html": [
              "<pre style=\"white-space:pre;overflow-x:auto;line-height:normal;font-family:Menlo,'DejaVu Sans Mono',consolas,'Courier New',monospace\">02:02:45.834 | <span style=\"color: #008080; text-decoration-color: #008080\">INFO</span>    | Flow run<span style=\"color: #800080; text-decoration-color: #800080\"> 'holistic-dragonfly'</span> - Finished in state <span style=\"color: #008000; text-decoration-color: #008000\">Completed</span>()\n",
              "</pre>\n"
            ],
            "text/plain": [
              "02:02:45.834 | \u001b[36mINFO\u001b[0m    | Flow run\u001b[35m 'holistic-dragonfly'\u001b[0m - Finished in state \u001b[32mCompleted\u001b[0m()\n"
            ]
          },
          "metadata": {},
          "output_type": "display_data"
        },
        {
          "name": "stdout",
          "output_type": "stream",
          "text": [
            "\n",
            "clinical data:\n",
            "                       Quote    Data File ID ExternalSubjectId   \n",
            "ExternalSampleId                                                 \n",
            "CGND-HDA-05557    CGND_14852  CGND-HDA-05557       NEUUF013XXL  \\\n",
            "CGND-HDA-05556    CGND_14852  CGND-HDA-05556       NEUHM496PGR   \n",
            "CGND-HDA-05555    CGND_14852  CGND-HDA-05555       NEUPK599KHH   \n",
            "CGND-HDA-05554    CGND_14852  CGND-HDA-05554       NEUHD589CVP   \n",
            "CGND-HDA-05553    CGND_14852  CGND-HDA-05553       NEUXX223WT8   \n",
            "\n",
            "                              Project     Site Sample Collected   \n",
            "ExternalSampleId                                                  \n",
            "CGND-HDA-05557    ALS Natural History  Henry Ford Health System  \\\n",
            "CGND-HDA-05556    ALS Natural History  Henry Ford Health System   \n",
            "CGND-HDA-05555    ALS Natural History  Henry Ford Health System   \n",
            "CGND-HDA-05554    ALS Natural History  Henry Ford Health System   \n",
            "CGND-HDA-05553    ALS Natural History  Henry Ford Health System   \n",
            "\n",
            "                   Site Specimen Collected     Sex               Ethnicity   \n",
            "ExternalSampleId                                                             \n",
            "CGND-HDA-05557    Henry Ford Health System    Male  Not Hispanic or Latino  \\\n",
            "CGND-HDA-05556    Henry Ford Health System    Male  Not Hispanic or Latino   \n",
            "CGND-HDA-05555    Henry Ford Health System  Female  Not Hispanic or Latino   \n",
            "CGND-HDA-05554    Henry Ford Health System    Male  Not Hispanic or Latino   \n",
            "CGND-HDA-05553    Henry Ford Health System  Female  Not Hispanic or Latino   \n",
            "\n",
            "                     Subject Group           Subject Group Subcategory  ...   \n",
            "ExternalSampleId                                                        ...   \n",
            "CGND-HDA-05557    ALS Spectrum MND  Progressive Muscular Atrophy (PMA)  ...  \\\n",
            "CGND-HDA-05556    ALS Spectrum MND            Progressive Bulbar Palsy  ...   \n",
            "CGND-HDA-05555    ALS Spectrum MND               Classical/Typical ALS  ...   \n",
            "CGND-HDA-05554    ALS Spectrum MND               Classical/Typical ALS  ...   \n",
            "CGND-HDA-05553    ALS Spectrum MND               Classical/Typical ALS  ...   \n",
            "\n",
            "                 Sex Genotype pct_african pct_south_asian pct_east_asian   \n",
            "ExternalSampleId                                                           \n",
            "CGND-HDA-05557             XY    0.007626        0.000010        0.00001  \\\n",
            "CGND-HDA-05556             XY    0.021306        0.000010        0.00001   \n",
            "CGND-HDA-05555             XX    0.005276        0.000010        0.00001   \n",
            "CGND-HDA-05554             XY    0.005465        0.000010        0.00001   \n",
            "CGND-HDA-05553             XX    0.013105        0.026626        0.00001   \n",
            "\n",
            "                 pct_european pct_americas C9 repeat size Expanded, >=30   \n",
            "ExternalSampleId                                                           \n",
            "CGND-HDA-05557       0.992344     0.000010            NaN            NaN  \\\n",
            "CGND-HDA-05556       0.978664     0.000010            NaN            NaN   \n",
            "CGND-HDA-05555       0.994694     0.000010            NaN            NaN   \n",
            "CGND-HDA-05554       0.990614     0.003901            NaN            NaN   \n",
            "CGND-HDA-05553       0.960249     0.000010            NaN            NaN   \n",
            "\n",
            "                 ATXN2 repeat size Intermediate, 30-33  \n",
            "ExternalSampleId                                        \n",
            "CGND-HDA-05557                 NaN                 NaN  \n",
            "CGND-HDA-05556                 NaN                 NaN  \n",
            "CGND-HDA-05555                 NaN                 NaN  \n",
            "CGND-HDA-05554                 NaN                 NaN  \n",
            "CGND-HDA-05553                 NaN                 NaN  \n",
            "\n",
            "[5 rows x 58 columns]\n"
          ]
        }
      ],
      "source": [
        "from prefect import unmapped\n",
        "from tqdm import tqdm\n",
        "\n",
        "@task()\n",
        "def filterTable(table, filterString):\n",
        "    if not filterString: return table\n",
        "    print(f\"Filtering: {filterString}\")\n",
        "    filteredTable = table.query(filterString)\n",
        "    return filteredTable\n",
        "\n",
        "@task()\n",
        "def applyAlleleModel(values, columns, genotypeIDs):\n",
        "    # some genotype IDs are subset of column names (or vice versa)\n",
        "    genotypeDict = dict()\n",
        "    resolvedGenotypeIDs = set()\n",
        "    for id in tqdm(genotypeIDs, unit='id'):\n",
        "        for j, column in enumerate(columns):\n",
        "            if id in column or column in id:\n",
        "                # implement allele model\n",
        "                genotypeDict[f\"{column}\"] = [(\n",
        "                                np.sum([int(allele) for allele in genotype.replace(\"'\", \"\").split(\"/\")]) # split by allele delimiter \n",
        "                                if not config[\"vcfLike\"][\"binarize\"] \n",
        "                                else np.clip(\n",
        "                                        np.sum([int(allele) for allele in genotype.replace(\"'\", \"\").split(\"/\")]), \n",
        "                                        a_max=1, a_min=None)\n",
        "                                )\n",
        "                            if any(char.isdigit() for char in genotype)\n",
        "                            else np.nan\n",
        "                            for genotype in values[:,j]\n",
        "                        ]\n",
        "                columns = np.delete(columns, j)\n",
        "                values = np.delete(values, j, axis=1)\n",
        "                resolvedGenotypeIDs.update({id})\n",
        "                break\n",
        "    missingGenotypeIDs = set(genotypeIDs) - resolvedGenotypeIDs  # leftover columns are missing\n",
        "    return genotypeDict, missingGenotypeIDs, resolvedGenotypeIDs\n",
        "\n",
        "@task()\n",
        "def load():\n",
        "    clinicalData = pd.read_excel(config['clinicalTable']['path'], index_col=config['clinicalTable']['idColumn']\n",
        "                                ).drop_duplicates(subset=config['clinicalTable']['uniqueIdColumn'])\n",
        "    externalSamples = [pd.read_csv(path, sep='\\t', index_col=idColumn) for path, idColumn in zip(config['externalTables']['path'], config['externalTables']['idColumn'])]\n",
        "    annotatedVCF = pd.read_csv(\n",
        "        config['vcfLike']['path'], sep='\\t', dtype=str, index_col=config['vcfLike']['indexColumn'], \n",
        "        ) if \"xlsx\" not in config['vcfLike']['path'] else pd.read_excel(\n",
        "            config['vcfLike']['path'], sheet_name=(config['vcfLike']['sheet'] if config['vcfLike']['sheet'] else None), \n",
        "            dtype=str, na_values=['.'], keep_default_na=False\n",
        "        )\n",
        "    # remove null chromosome positions\n",
        "    annotatedVCF[config['vcfLike']['indexColumn']] = annotatedVCF[config['vcfLike']['indexColumn']].astype(str).replace('', np.nan)\n",
        "    return clinicalData, externalSamples, annotatedVCF.dropna(subset=config['vcfLike']['indexColumn']).set_index(config['vcfLike']['indexColumn'])\n",
        "\n",
        "@flow(task_runner=ConcurrentTaskRunner(), log_prints=True)\n",
        "async def processInputFiles():\n",
        "    clinicalData, externalSamples, annotatedVCF = load()\n",
        "    \n",
        "    filteredClinicalData = filterTable(clinicalData, config['clinicalTable']['filters'])\n",
        "    print(f\"filtered {len(clinicalData) - len(filteredClinicalData)} samples from clinical data\")\n",
        "    filteredExternalSamples = [filterTable(externalSampleTable, filterString) for externalSampleTable, filterString in zip(externalSamples, config['externalTables']['filters'])]\n",
        "    for i, (externalSampleTable, path) in enumerate(zip(filteredExternalSamples, config['externalTables']['path'])):\n",
        "        print(f\"filtered {len(externalSamples[i]) - len(externalSampleTable)} samples from external data {path}\")\n",
        "    filteredVCF = filterTable(annotatedVCF, config['vcfLike']['filters'])\n",
        "    print(f\"filtered {annotatedVCF.shape[0] - filteredVCF.shape[0]} variants from VCF\")\n",
        "    \n",
        "    caseIDsMask, controlIDsMask = [\n",
        "        filteredClinicalData[config['clinicalTable']['labelColumn']].isin(labels).dropna()\n",
        "        for labels in (config['clinicalTable']['caseLabels'], config['clinicalTable']['controlLabels'])]\n",
        "    \n",
        "    caseIDs = caseIDsMask[caseIDsMask].index.to_numpy()\n",
        "    controlIDs = controlIDsMask[controlIDsMask].index.to_numpy()\n",
        "    for i, label in enumerate(config['externalTables']['label']):\n",
        "        if label == config['clinicalTable']['caseAlias']:\n",
        "            caseIDs = np.append(caseIDs, filteredExternalSamples[i].index.to_numpy())\n",
        "        elif label == config['clinicalTable']['controlAlias']:\n",
        "            controlIDs = np.append(controlIDs, filteredExternalSamples[i].index.to_numpy())\n",
        "\n",
        "    # cast genotypes as numeric, drop chromosome positions with missing values\n",
        "    caseGenotypeFutures, controlGenotypeFutures = applyAlleleModel.map(\n",
        "            unmapped(filteredVCF.to_numpy()),\n",
        "            unmapped(filteredVCF.columns.to_numpy()), \n",
        "            genotypeIDs=[IDs for IDs in (caseIDs, controlIDs)]\n",
        "        ) \n",
        "    caseGenotypeDict, missingCaseIDs, resolvedCaseIDs = caseGenotypeFutures.result()\n",
        "    controlGenotypeDict, missingControlIDs, resolvedControlIDs = controlGenotypeFutures.result()\n",
        "    \n",
        "    if len(missingCaseIDs) > 0 or len(missingControlIDs) > 0:\n",
        "        for alias, IDs in {\"caseAlias\": missingCaseIDs, \"controlAlias\": missingControlIDs}.items():\n",
        "            print(f\"\\nmissing {len(IDs)} {config['clinicalTable'][alias]} IDs:\\n {IDs}\")\n",
        "            \n",
        "    caseGenotypes = pd.DataFrame.from_dict(caseGenotypeDict)\n",
        "    caseGenotypes.index.name = filteredVCF.index.name\n",
        "    caseGenotypes.index = filteredVCF.index\n",
        "    controlGenotypes = pd.DataFrame.from_dict(controlGenotypeDict)\n",
        "    controlGenotypes.index.name = filteredVCF.index.name\n",
        "    controlGenotypes.index = filteredVCF.index\n",
        "    \n",
        "    caseIDs = resolvedCaseIDs\n",
        "    controlIDs = resolvedControlIDs\n",
        "    \n",
        "    print(f\"\\n{len(caseIDs)} cases:\\n {caseIDs}\")\n",
        "    print(f\"\\n{len(controlIDs)} controls:\\n {controlIDs}\")\n",
        "    # filter allele frequencies\n",
        "    allGenotypes = pd.concat([caseGenotypes.dropna(how='any', axis=0), controlGenotypes.dropna(how='any', axis=0)], axis=1)\n",
        "    filteredGenotypes = allGenotypes.loc[\n",
        "        allGenotypes.gt(0).sum(axis=1).divide(len(allGenotypes.columns)) >= config['vcfLike']['minAlleleFrequency']]\n",
        "    print(f\"Filtered {len(filteredVCF) - len(filteredGenotypes)} alleles with frequency below {'{:.3%}'.format(config['vcfLike']['minAlleleFrequency'])}\")\n",
        "    print(f\"Kept {len(filteredGenotypes)} alleles\")\n",
        "    \n",
        "    caseGenotypes = filteredGenotypes.loc[:,caseGenotypes.columns]\n",
        "    controlGenotypes = filteredGenotypes.loc[:,controlGenotypes.columns]\n",
        "    \n",
        "    return [caseGenotypes, caseIDs, controlGenotypes, controlIDs, filteredClinicalData]\n",
        "\n",
        "caseGenotypes, caseIDs, controlGenotypes, controlIDs, clinicalData = await processInputFiles()\n",
        "print(f\"\\nclinical data:\\n{clinicalData.head()}\")"
      ]
    },
    {
      "attachments": {},
      "cell_type": "markdown",
      "metadata": {
        "id": "5xWQrQYTdkSs"
      },
      "source": [
        "## Evaluate model stack"
      ]
    },
    {
      "cell_type": "code",
      "execution_count": null,
      "metadata": {
        "colab": {
          "base_uri": "https://localhost:8080/",
          "height": 415
        },
        "id": "KOm3iWTTdmuj",
        "outputId": "7a7f6f03-4a6d-4cbe-df55-97ab9225f8a2"
      },
      "outputs": [],
      "source": [
        "from sklearn.model_selection import StratifiedKFold\n",
        "from sklearn.calibration import CalibrationDisplay\n",
        "from sklearn.metrics import RocCurveDisplay, roc_auc_score, auc\n",
        "from sklearn.preprocessing import MinMaxScaler\n",
        "from skopt.plots import plot_convergence\n",
        "\n",
        "from skopt import BayesSearchCV\n",
        "\n",
        "from fastnumbers import check_real\n",
        "\n",
        "from types import SimpleNamespace\n",
        "import matplotlib.pyplot as plt\n",
        "from matplotlib.gridspec import GridSpec\n",
        "\n",
        "from prefect.utilities.annotations import unmapped\n",
        "\n",
        "import neptune\n",
        "from neptune.types import File\n",
        "\n",
        "import shap\n",
        "\n",
        "from inspect import isclass\n",
        "from io import StringIO\n",
        "import traceback\n",
        "\n",
        "# stop API errors when awaiting results\n",
        "# !prefect config set PREFECT_RESULTS_PERSIST_BY_DEFAULT=True\n",
        "\n",
        "def getFeatureImportances(model, data, featureLabels):\n",
        "  \"\"\"Get feature importances from fitted model and create SHAP explainer\"\"\"\n",
        "  modelValuesDF = None\n",
        "  if model.__class__.__name__ == \"MultinomialNB\":\n",
        "      modelValuesDF = pd.DataFrame()\n",
        "      for i, c in enumerate(model.feature_count_[0] if len(model.feature_count_.shape) > 1 else model.feature_count_):\n",
        "          modelValuesDF.loc[i, f\"log_prob_{config['clinicalTable']['controlAlias']}\"] = model.feature_log_prob_[0][i]\n",
        "          modelValuesDF.loc[i, f\"log_prob_{config['clinicalTable']['caseAlias']}\"] = model.feature_log_prob_[1][i]\n",
        "  elif hasattr(model, \"coef_\"):\n",
        "      modelValuesDF = pd.DataFrame()\n",
        "      if len(model.coef_.shape) > 1:\n",
        "        try:\n",
        "          modelValuesDF[f\"feature_importances_{config['clinicalTable']['controlAlias']}\"] = model.coef_[0]\n",
        "          modelValuesDF[f\"feature_importances_{config['clinicalTable']['caseAlias']}\"] = model.coef_[1]\n",
        "        except IndexError:\n",
        "          modelValuesDF[f\"feature_importances_{config['clinicalTable']['caseAlias']}\"] = model.coef_[0]                 \n",
        "      else:\n",
        "        modelValuesDF[f\"feature_importances\"] = model.coef_[0]\n",
        "  elif hasattr(model, \"feature_importances_\"):\n",
        "      modelValuesDF = pd.DataFrame()\n",
        "      modelValuesDF[f\"feature_importances_{config['clinicalTable']['caseAlias']}\"] = model.feature_importances_\n",
        "\n",
        "  if type(modelValuesDF) == pd.DataFrame:\n",
        "      modelValuesDF.index = featureLabels\n",
        "      \n",
        "  # Cluster correlated and hierarchical features using masker\n",
        "  masker = shap.maskers.Partition(data, clustering=\"correlation\")\n",
        "  \n",
        "  shapExplainer = shap.explainers.Permutation(\n",
        "    model.predict_proba if hasattr(model, \"predict_proba\") \n",
        "    else model.predict, \n",
        "    masker, \n",
        "    feature_names=[\"_\".join(label)\n",
        "      for label in featureLabels])\n",
        "  shapValues = shapExplainer(data)\n",
        "  return modelValuesDF, shapValues, shapExplainer\n",
        "\n",
        "\n",
        "@task()\n",
        "def plotCalibration(title, labelsPredictionsByInstance):\n",
        "  # code from https://scikit-learn.org/stable/auto_examples/calibration/plot_calibration_curve.html\n",
        "  fig, ax_calibration_curve = plt.subplots(figsize=(10, 10))\n",
        "  colors = plt.cm.get_cmap(\"Dark2\")\n",
        "\n",
        "  calibration_displays = {}\n",
        "  for i, (name, (labels, predictions)) in enumerate(labelsPredictionsByInstance.items()):\n",
        "      display = CalibrationDisplay.from_predictions(\n",
        "          [config[\"clinicalTable\"][\"caseAlias\"] if label == 1 else label \n",
        "            for label in labels],\n",
        "          predictions,\n",
        "          pos_label=config[\"clinicalTable\"][\"caseAlias\"],\n",
        "          n_bins=10,\n",
        "          name=name,\n",
        "          ax=ax_calibration_curve,\n",
        "          color=colors(i),\n",
        "      )\n",
        "      calibration_displays[name] = display\n",
        "\n",
        "  ax_calibration_curve.grid()\n",
        "  ax_calibration_curve.set_title(title)\n",
        "\n",
        "  # Add histogram\n",
        "  # grid_positions = [(i+2,j) for i in range(len(predictionsByModelName.keys())//2) for j in range(2)]\n",
        "  # for i, modelName in enumerate(predictionsByModelName.keys()):\n",
        "  #     row, col = grid_positions[i]\n",
        "  #     ax = fig.add_subplot(gs[row, col])\n",
        "  #     ax.hist(\n",
        "  #         calibration_displays[modelName].y_prob,\n",
        "  #         range=(0, 1),\n",
        "  #         bins=10,\n",
        "  #         label=modelName,\n",
        "  #         color=colors(i),\n",
        "  #     )\n",
        "  #     ax.set(title=modelName, xlabel=\"Mean predicted probability\", ylabel=\"Count\")\n",
        "\n",
        "  plt.tight_layout()\n",
        "  return fig\n",
        "\n",
        "@task()\n",
        "def plotAUC(title, labelsPredictionsByInstance):\n",
        "  # trace AUC for each set of predictions\n",
        "  tprs = []\n",
        "  aucs = []\n",
        "  mean_fpr = np.linspace(0, 1, 100)\n",
        "\n",
        "  fig, ax = plt.subplots(figsize=(10, 10))\n",
        "  for name, (labels, predictions) in labelsPredictionsByInstance.items():\n",
        "    # plot ROC curve for this fold\n",
        "    viz = RocCurveDisplay.from_predictions([\n",
        "                          config[\"clinicalTable\"][\"caseAlias\"] if label == 1 else label \n",
        "                          for label in labels], \n",
        "                        predictions,\n",
        "                        name=name,\n",
        "                        pos_label=config[\"clinicalTable\"][\"caseAlias\"],\n",
        "                        alpha=0.6, lw=2, ax=ax)\n",
        "    interp_tpr = np.interp(mean_fpr, viz.fpr, viz.tpr)\n",
        "    interp_tpr[0] = 0.0\n",
        "    tprs.append(interp_tpr)\n",
        "    aucs.append(viz.roc_auc)\n",
        "    \n",
        "  # summarize ROCs per fold and plot standard deviation\n",
        "  ax.plot([0, 1], [0, 1], linestyle='--', lw=2, color='r',\n",
        "      label='Chance', alpha=.8)\n",
        "  mean_tpr = np.mean(tprs, axis=0)\n",
        "  mean_tpr[-1] = 1.0\n",
        "  mean_auc = auc(mean_fpr, mean_tpr)\n",
        "  std_auc = np.std(aucs)\n",
        "  ax.plot(mean_fpr, mean_tpr, color='b',\n",
        "          label=r'Mean ROC (AUC = %0.2f $\\pm$ %0.2f)' % (mean_auc, std_auc),\n",
        "          lw=4, alpha=.8)\n",
        "  std_tpr = np.std(tprs, axis=0)\n",
        "  tprs_upper = np.minimum(mean_tpr + std_tpr, 1)\n",
        "  tprs_lower = np.maximum(mean_tpr - std_tpr, 0)\n",
        "  ax.fill_between(mean_fpr, tprs_lower, tprs_upper, color='grey', alpha=.2,\n",
        "                  label=r'$\\pm$ 1 std. dev.')\n",
        "\n",
        "  ax.set(xlim=[-0.05, 1.05], ylim=[-0.05, 1.05],\n",
        "        title=title)\n",
        "  ax.legend(loc=\"lower right\")\n",
        "  ax.set(title=title)\n",
        "  return fig\n",
        "\n",
        "\n",
        "@task()\n",
        "def plotConfusionMatrix():\n",
        "  pass\n",
        "\n",
        "@task()\n",
        "def plotSampleAccuracy():\n",
        "  pass\n",
        "\n",
        "@task()\n",
        "def plotOptimizer(title, resultsByInstance):\n",
        "  # code from https://scikit-learn.org/stable/auto_examples/calibration/plot_calibration_curve.html\n",
        "  fig = plt.figure(figsize=(10, 10))\n",
        "  gs = GridSpec(2, 2)\n",
        "  colors = plt.cm.get_cmap(\"Dark2\")\n",
        "  ax_convergence = fig.add_subplot(gs[:2, :2])\n",
        "  plot_convergence(*[\n",
        "    (modelName, result) for modelName, result in resultsByInstance.items()], \n",
        "    ax=ax_convergence, color=colors)\n",
        "  ax_convergence.set(title=title)\n",
        "  plt.tight_layout()\n",
        "  return fig\n",
        "\n",
        "@task()\n",
        "def prepareDatasets(caseGenotypes, controlGenotypes, verbose=True):\n",
        "    caseIDs = caseGenotypes.columns\n",
        "    controlIDs = controlGenotypes.columns\n",
        "    # store number of cases & controls\n",
        "    caseControlCounts = [len(caseIDs), len(controlIDs)]\n",
        "    # determine which has more samples\n",
        "    labeledIDs = [caseIDs, controlIDs]\n",
        "    majorIDs = labeledIDs[np.argmax(caseControlCounts)]\n",
        "    minorIDs = labeledIDs[np.argmin(caseControlCounts)]\n",
        "    # downsample larger group to match smaller group\n",
        "    majorIndex = np.random.choice(np.arange(len(majorIDs)), min(caseControlCounts), replace=False)\n",
        "    \n",
        "    excessMajorIDs, balancedMajorIDs = [], []\n",
        "    for index, id in enumerate(majorIDs):\n",
        "      if index in majorIndex:\n",
        "        balancedMajorIDs.append(id)\n",
        "      else:\n",
        "        excessMajorIDs.append(id)\n",
        "    \n",
        "    allGenotypes = pd.concat([caseGenotypes, controlGenotypes], axis=1)\n",
        "    \n",
        "    genotypeExcessIDs, genotypeTrainIDs = [], []\n",
        "    # match IDs between genotype and clinical data; dataframe labels have label suffixes\n",
        "    unmatchedTrainIDs = balancedMajorIDs + minorIDs\n",
        "    for label in tqdm(allGenotypes.columns, desc=\"Matching IDs\", unit=\"ID\"):\n",
        "      for setType in [\"excess\", \"train\"]:\n",
        "        idSet = excessMajorIDs if setType == \"excess\" else unmatchedTrainIDs\n",
        "        for i, id in enumerate(idSet):\n",
        "          if (id in label) or (label in id): \n",
        "            if setType == \"train\":\n",
        "              if label not in genotypeTrainIDs: genotypeTrainIDs.append(label)\n",
        "            elif setType == \"excess\":\n",
        "              if label not in genotypeExcessIDs: genotypeExcessIDs.append(label)\n",
        "            idSet = np.delete(idSet, i)\n",
        "            break\n",
        "          \n",
        "    if verbose:\n",
        "      print(f\"\\n{len(genotypeTrainIDs)} for training:\\n{genotypeTrainIDs}\")\n",
        "      print(f\"\\n{len(genotypeExcessIDs)} are excess:\\n{genotypeExcessIDs}\")\n",
        "      print(f\"\\nVariant count: {len(allGenotypes.index)}\")\n",
        "      \n",
        "    samples = allGenotypes.loc[:, genotypeTrainIDs].dropna(how='any')  # drop variants with missing values\n",
        "    excessMajorSamples = allGenotypes.loc[:, genotypeExcessIDs]\n",
        "\n",
        "    variantIndex = list(samples.index)\n",
        "    pass\n",
        "    scaler = MinMaxScaler()\n",
        "    embedding = {\n",
        "        'sampleIndex': genotypeTrainIDs,\n",
        "        'labels': np.array([1 if id in caseIDs else 0 for id in genotypeTrainIDs]),\n",
        "        'samples': scaler.fit_transform(samples).transpose(), # samples are now rows (samples, variants)\n",
        "        'excessMajorIndex': genotypeExcessIDs,\n",
        "        'excessMajorLabels': [1 if id in caseIDs else 0 for id in genotypeExcessIDs],\n",
        "        'excessMajorSamples': scaler.fit_transform(excessMajorSamples).transpose(),\n",
        "        'variantIndex': variantIndex,\n",
        "    }\n",
        "    return embedding\n",
        "\n",
        "@task()\n",
        "def evaluate(trainIndices, testIndices, model, labels, samples, variantIndex, sampleIndex, parameterSpace, cvIterator):\n",
        "    fittedOptimizer = optimizeHyperparameters(\n",
        "        samples[trainIndices], labels[trainIndices], model, \n",
        "        parameterSpace, cvIterator, 'neg_mean_squared_error')\n",
        "    model.set_params(**fittedOptimizer.best_params_)\n",
        "    model.fit(samples[trainIndices], labels[trainIndices])\n",
        "    # get model prediction probabilities\n",
        "    try:\n",
        "      probabilities = model.predict_proba(samples[testIndices])\n",
        "    except AttributeError:\n",
        "      probabilities = model.predict(samples[testIndices])\n",
        "      if len(probabilities.shape) <= 1:\n",
        "        probabilities = np.array([[1 - p, p] for p in probabilities])\n",
        "    predictions = np.argmax(probabilities, axis=1)\n",
        "    modelValues, shapValues, shapExplainer = getFeatureImportances(\n",
        "      model, samples[testIndices], variantIndex)\n",
        "    globalExplanations = modelValues\n",
        "    localExplanations = shapValues\n",
        "    trainLabels = np.array(labels[trainIndices])\n",
        "    testLabels = np.array(labels[testIndices])\n",
        "    trainIDs = np.array([sampleIndex[i] for i in trainIndices]) \n",
        "    testIDs = np.array([sampleIndex[i] for i in testIndices])\n",
        "    return globalExplanations, localExplanations, probabilities, predictions, testLabels, trainLabels, trainIDs, testIDs, fittedOptimizer, shapExplainer\n",
        "\n",
        "def optimizeHyperparameters(samples, labels, model, parameterSpace, cvIterator, metricFunction, n_jobs=1):\n",
        "  # hyperparameter search (inner cross-validation)\n",
        "  optimizer = BayesSearchCV(\n",
        "    model, parameterSpace, cv=cvIterator, n_jobs=n_jobs, n_points=4,\n",
        "    return_train_score=True, n_iter=100, scoring=metricFunction)\n",
        "  # train / optimize parameters\n",
        "  optimizer.fit(samples, labels)\n",
        "  return optimizer\n",
        "\n",
        "def serializeDataFrame(dataframe):\n",
        "  stream = StringIO()\n",
        "  dataframe.to_csv(stream)\n",
        "  return File.from_stream(stream, extension='csv')\n",
        "\n",
        "@flow(\n",
        "  task_runner=RayTaskRunner(\n",
        "    init_kwargs={'address': parallelRunner.address_info['address'], 'configure_logging': True, 'logging_level': logging.WARN}\n",
        "  ))\n",
        "async def classify():\n",
        "  # caseGenotypes, caseIDs, controlGenotypes, controlIDs, clinicalData = await processInputFiles()\n",
        "  outerCvIterator = StratifiedKFold(n_splits=config['sampling']['crossValIterations'], shuffle=False)\n",
        "  innerCvIterator = outerCvIterator\n",
        "  results = {}\n",
        "  projectTracker = neptune.init_project(project=f'{config[\"tracking\"][\"entity\"]}/{config[\"tracking\"][\"project\"]}', api_token=config['tracking']['token'])\n",
        "  for i in tqdm(range(config['sampling']['bootstrapIterations']), unit='cohort'):\n",
        "    embedding = prepareDatasets(caseGenotypes, controlGenotypes, verbose=(True if i == 0 else False))\n",
        "    deserializedIDs = list()\n",
        "    for id in embedding['sampleIndex']:\n",
        "      deserializedIDs.extend(id.split(\"__\"))\n",
        "    totalSampleCount = len(embedding['samples'])\n",
        "    caseCount = np.count_nonzero(embedding['labels'])\n",
        "    print(f\"{totalSampleCount} samples\\n\")\n",
        "    print(f\"{caseCount} cases\\n\")\n",
        "    print(f\"{totalSampleCount - caseCount} controls\\n\")\n",
        "    results[i] = {}\n",
        "    results['samples'] = {}\n",
        "    results['labels'] = {}\n",
        "    for j, (model, parameterSpace) in enumerate(config['modelStack'].items()):\n",
        "      if model.__class__.__name__ not in results:\n",
        "        results[i][model.__class__.__name__] = {\"predictions\": [], \"optimizeResults\": []} \n",
        "      current = {}\n",
        "      # check if model is initialized\n",
        "      if isclass(model):\n",
        "        if model.__name__ == 'TabNetClassifier':\n",
        "          model = model(verbose=False, optimizer_fn=Lion)\n",
        "      print(f\"Iteration {i+1} with model {model.__class__.__name__}\")\n",
        "      runTracker = neptune.init_run(project=f'{config[\"tracking\"][\"entity\"]}/{config[\"tracking\"][\"project\"]}', api_token=config['tracking']['token'])\n",
        "      runTracker['sys/tags'].add(model.__class__.__name__)\n",
        "      runTracker['bootstrapIteration'] = i+1\n",
        "      runTracker[\"config\"] = {key: (item if check_real(item) or isinstance(item, str) else str(item)) for key, item in config.items()}\n",
        "      runTracker['embedding'].upload(serializeDataFrame(pd.DataFrame(data=embedding[\"samples\"], columns=embedding[\"variantIndex\"], index=embedding[\"sampleIndex\"])))\n",
        "      runTracker['clinicalData'].upload(serializeDataFrame(clinicalData.loc[clinicalData.index.isin(deserializedIDs)]))\n",
        "      # outer cross-validation\n",
        "      crossValIndices = np.array([\n",
        "          (cvTrainIndices, cvTestIndices) \n",
        "          for (cvTrainIndices, cvTestIndices) in outerCvIterator.split(embedding['samples'], embedding['labels'])])\n",
        "      current[\"trainIndices\"] = crossValIndices[:,0]\n",
        "      current[\"testIndices\"] = crossValIndices[:,1]\n",
        "      # this could be parallelized more efficiently since Shapely explanations are independent\n",
        "      outerCrossValFutures = evaluate.map(\n",
        "          trainIndices=crossValIndices[:,0], \n",
        "          testIndices=crossValIndices[:,1],\n",
        "          model=unmapped(model), \n",
        "          labels=unmapped(embedding['labels']), \n",
        "          samples=unmapped(embedding['samples']), \n",
        "          variantIndex=unmapped(embedding['variantIndex']), \n",
        "          sampleIndex=unmapped(embedding['sampleIndex']), \n",
        "          parameterSpace=unmapped(parameterSpace), \n",
        "          cvIterator=unmapped(innerCvIterator))\n",
        "      outerCrossValResults = zip(*[fold.result() for fold in outerCrossValFutures])\n",
        "      resultNames = [\"globalExplanations\", \"localExplanations\", \"probabilities\", \"predictions\", \"testLabels\", \"trainLabels\", \"trainIDs\", \"testIDs\", \"fittedOptimizers\", \"shapExplainers\"]\n",
        "      current = {**current, **{name: result for name, result in zip(resultNames, outerCrossValResults)}}\n",
        "      \n",
        "      # plot AUC & elbow\n",
        "      runTracker[\"modelParams\"] = {k+1: current[\"fittedOptimizers\"][k].best_params_ for k in range(config['sampling']['crossValIterations'])}\n",
        "      plotSubtitle = f\"\"\"\n",
        "            {config[\"tracking\"][\"name\"]}, {embedding[\"samples\"].shape[1]} variants\n",
        "            Minor allele frequency over {'{:.1%}'.format(config['vcfLike']['minAlleleFrequency'])}\n",
        "            {np.count_nonzero(embedding['labels'])} {config[\"clinicalTable\"][\"caseAlias\"]}s, {len(embedding['labels']) - np.count_nonzero(embedding['labels'])} {config[\"clinicalTable\"][\"controlAlias\"]}s\"\"\"\n",
        "      runTracker['plots/aucPlot'] = plotAUC(f\"\"\"\n",
        "        Receiver Operating Characteristic (ROC) Curve\n",
        "        {model.__class__.__name__} with {config['sampling']['crossValIterations']}-fold cross-validation\n",
        "        {plotSubtitle}\n",
        "        \"\"\",\n",
        "        {f\"Fold {k+1}\": (current[\"testLabels\"][k], np.array(current[\"probabilities\"][k])[:,1])\n",
        "         if len(current[\"probabilities\"][k][0].shape) >= 1 \n",
        "         else (current[\"testLabels\"][k], current[\"probabilities\"][k]) \n",
        "         for k in range(config['sampling']['crossValIterations'])},\n",
        "        )\n",
        "      runTracker['plots/convergencePlot'] = plotOptimizer(f\"\"\"\n",
        "        Hyperparameter convergence, mean squared error\n",
        "        {model.__class__.__name__} with {config['sampling']['crossValIterations']}-fold cross-validation\n",
        "        {plotSubtitle}\n",
        "        \"\"\",\n",
        "        {f\"Fold {k+1}\": [result for result in current[\"fittedOptimizers\"][k].optimizer_results_]\n",
        "         for k in range(config['sampling']['crossValIterations'])},\n",
        "        )\n",
        "      \n",
        "      # update model metrics\n",
        "      current[\"testAUC\"] = [roc_auc_score(labels, (probabilities[:,1] if len(probabilities.shape) > 1 else probabilities))\n",
        "        for labels, probabilities in zip(current[\"testLabels\"], current[\"probabilities\"])]\n",
        "      runTracker[\"meanAUC\"] = np.mean(current[\"testAUC\"])\n",
        "      # update sample metrics\n",
        "      sampleResults = {}\n",
        "      for fold in range(config['sampling']['crossValIterations']):\n",
        "        for j, sampleID in enumerate(current['testIDs'][fold]):\n",
        "          try:\n",
        "            results['samples'][sampleID] += current[\"probabilities\"][fold][j]\n",
        "          except KeyError:\n",
        "            results['samples'][sampleID] = [current[\"probabilities\"][fold][j]]\n",
        "          finally:\n",
        "            results['labels'][sampleID] = current[\"testLabels\"][fold][j]\n",
        "      results[i][model.__class__.__name__] = current\n",
        "      \n",
        "      runTracker['shapExplanationsPerFold'].upload(File.as_pickle(current[\"localExplanations\"]))\n",
        "      runTracker['shapExplainersPerFold'].upload(File.as_pickle(current[\"shapExplainers\"]))\n",
        "      runTracker['trainIDs'].upload(File.as_pickle(current[\"trainIDs\"]))\n",
        "      runTracker['testIDs'].upload(File.as_pickle(current[\"testIDs\"]))\n",
        "      runTracker['testLabels'].upload(File.as_pickle(current[\"testLabels\"]))\n",
        "      runTracker['trainLabels'].upload(File.as_pickle(current[\"trainLabels\"]))\n",
        "      \n",
        "      # plot feature importance\n",
        "      for j in range(config[\"sampling\"][\"crossValIterations\"]):\n",
        "        if current[\"globalExplanations\"][j] is not None:\n",
        "          runTracker[f\"globalFeatureImportance/{j+1}\"].upload(serializeDataFrame(current[\"globalExplanations\"][j]))\n",
        "        localExplanations = current[\"localExplanations\"][j]\n",
        "        caseExplanations = localExplanations\n",
        "        caseExplanations.values = caseExplanations.values[:,:,1] if len(caseExplanations.values.shape) > 2 else caseExplanations.values\n",
        "        heatmap = plt.figure()\n",
        "        plt.title(f\"\"\"\n",
        "          Shapely explanations from {model.__class__.__name__}\n",
        "          Fold {j+1}\n",
        "          {plotSubtitle}\n",
        "          \"\"\") \n",
        "        shap.plots.heatmap(caseExplanations, show=False)\n",
        "        runTracker[f\"plots/featureHeatmap/{j+1}\"] = heatmap\n",
        "        plt.close(heatmap)\n",
        "        labelsProbabilities = ((current[\"testLabels\"][j], np.array(current[\"probabilities\"][j])[:,1])\n",
        "          if len(current[\"probabilities\"][j][0].shape) >= 1 \n",
        "          else (current[\"testLabels\"][j], current[\"probabilities\"][j]))\n",
        "        stdDeviation = np.std((labelsProbabilities[1] - labelsProbabilities[0])**2)\n",
        "        for k in range(len(current[\"testIDs\"][j])):\n",
        "          probability = labelsProbabilities[1][k] if isinstance(labelsProbabilities[1][k], np.ndarray) else labelsProbabilities[1][k]\n",
        "          label = labelsProbabilities[0][k] if isinstance(labelsProbabilities[0][k], np.ndarray) else labelsProbabilities[0][k]\n",
        "          if config['tracking']['plotAllSampleImportances'] or np.absolute((probability - label)**2) <= stdDeviation:\n",
        "            sampleID=current['testIDs'][j][k]\n",
        "            waterfallPlot = plt.figure()\n",
        "            plt.title(f\"\"\"\n",
        "              {sampleID}\n",
        "              Shapely explanations from {model.__class__.__name__}\n",
        "              Fold {j+1}\n",
        "              {plotSubtitle}\n",
        "              \"\"\")\n",
        "            # patch parameter bug: https://github.com/slundberg/shap/issues/2362\n",
        "            to_pass = SimpleNamespace(**{\n",
        "                            'values': localExplanations[k].values,\n",
        "                            'data': localExplanations[k].data,\n",
        "                            'display_data': None,\n",
        "                            'feature_names': localExplanations.feature_names,\n",
        "                            'base_values': localExplanations[k].base_values[current['testLabels'][j][k]] if len(localExplanations[k].base_values.shape) == 1 else localExplanations[k].base_values, \n",
        "              })\n",
        "            shap.plots.waterfall(to_pass, show=False)\n",
        "            try:\n",
        "              runTracker[f\"plots/samples/{j+1}/{sampleID}\"] = waterfallPlot\n",
        "            except Exception as e:\n",
        "              runTracker[f\"plots/samples/{j+1}/{sampleID}\"] = f\"\"\"failed to plot: {traceback.format_exc()}\"\"\"\n",
        "            plt.close(waterfallPlot)\n",
        "\n",
        "      runTracker[\"sampleResults\"].upload(serializeDataFrame(pd.DataFrame.from_dict({\n",
        "        \"probability\": [probability[1] for foldResults in current[\"probabilities\"] for probability in foldResults], \n",
        "        \"id\": [id for foldResults in current[\"testIDs\"] for id in foldResults]}, dtype=object).set_index(\"id\")))\n",
        "      plt.close('all')\n",
        "      runTracker.stop()\n",
        "  \n",
        "  labelsProbabilitiesByModelName = dict()\n",
        "  for modelName in results[0].keys():\n",
        "    labelsProbabilitiesByModelName[modelName] = [[], []]\n",
        "    for k in range(config['sampling']['bootstrapIterations']):\n",
        "      # append labels\n",
        "      labelsProbabilitiesByModelName[modelName][0] = np.hstack(\n",
        "        [labelsProbabilitiesByModelName[modelName][0], \n",
        "        np.concatenate(results[k][modelName][\"testLabels\"])])\n",
        "      # append probabilities\n",
        "      labelsProbabilitiesByModelName[modelName][1] = np.hstack(\n",
        "        [labelsProbabilitiesByModelName[modelName][1], \n",
        "        np.concatenate(results[k][modelName][\"probabilities\"])[:,1] \n",
        "          if len(results[k][modelName][\"probabilities\"][0].shape) >= 1 \n",
        "          else np.concatenate(results[k][modelName][\"probabilities\"])])\n",
        "      \n",
        "  seenCaseCount, seenControlCount = 0, 0\n",
        "  sampleResults = []\n",
        "  \n",
        "  for sampleID in results['samples'].keys():\n",
        "    flattenedProbabilities = np.array([\n",
        "      result[1] if len(caseExplanations.values.shape) > 2 \n",
        "      else result \n",
        "      for foldResult in results['samples'][sampleID] \n",
        "      for result in foldResult]) \n",
        "    sampleResults += [{\n",
        "      \"probability\": results['samples'][sampleID][:1],\n",
        "      \"accuracy\": np.mean([np.ceil(caseProbability) == results['labels'][sampleID] \n",
        "                            for caseProbability in flattenedProbabilities]),\n",
        "      \"id\": sampleID,\n",
        "    }]\n",
        "    if results[\"labels\"][sampleID] == 1:\n",
        "      seenCaseCount += 1\n",
        "    else:\n",
        "      seenControlCount += 1\n",
        "      \n",
        "  plotSubtitle = f\"\"\"{config['sampling']['crossValIterations']}x cross-validation over {config['sampling']['bootstrapIterations']} bootstrap iterations\n",
        "  {config[\"tracking\"][\"name\"]}, {embedding[\"samples\"].shape[1]} variants\n",
        "  Minor allele frequency over {'{:.1%}'.format(config['vcfLike']['minAlleleFrequency'])}\n",
        "  {seenCaseCount} cases, {seenControlCount} controls\n",
        "  \"\"\"\n",
        "  # print(f'preds 1: {results[0][\"TabNetClassifier\"][\"predictions\"]}\\n')\n",
        "  # print(\"labels:\")\n",
        "  # projectTracker[\"sampleResults\"].upload(serializeDataFrame(pd.DataFrame.from_records(sampleResults, index=\"id\")))\n",
        "  projectTracker[\"aucPlot\"].upload(plotAUC(f\"\"\"\n",
        "    Receiver Operating Characteristic (ROC) Curve\n",
        "    {plotSubtitle}\n",
        "    \"\"\",\n",
        "    labelsProbabilitiesByModelName,\n",
        "    ))\n",
        "  \n",
        "  projectTracker[\"calibrationPlot\"].upload(File.as_image(plotCalibration(f\"\"\"\n",
        "    Calibration Curve\n",
        "    {plotSubtitle}\n",
        "    \"\"\",\n",
        "    labelsProbabilitiesByModelName,\n",
        "    )))\n",
        "    \n",
        "  projectTracker[\"convergencePlot\"].upload(File.as_image(plotOptimizer(f\"\"\"\n",
        "    Convergence Plot\n",
        "    {plotSubtitle}\n",
        "    \"\"\",\n",
        "    {modelName: [result\n",
        "                for k in range(config['sampling']['bootstrapIterations'])\n",
        "                for foldOptimizer in results[k][modelName][\"fittedOptimizers\"]\n",
        "                for result in foldOptimizer.optimizer_results_\n",
        "                ] \n",
        "      for modelName in results[0].keys() if modelName != \"testLabels\"\n",
        "    })))\n",
        "  projectTracker.stop()\n",
        "  return results\n",
        "\n",
        "results = await classify()"
      ]
    },
    {
      "cell_type": "code",
      "execution_count": null,
      "metadata": {},
      "outputs": [],
      "source": []
    }
  ],
  "metadata": {
    "colab": {
      "provenance": []
    },
    "kernelspec": {
      "display_name": "base",
      "language": "python",
      "name": "python3"
    },
    "language_info": {
      "codemirror_mode": {
        "name": "ipython",
        "version": 3
      },
      "file_extension": ".py",
      "mimetype": "text/x-python",
      "name": "python",
      "nbconvert_exporter": "python",
      "pygments_lexer": "ipython3",
      "version": "3.10.10"
    },
    "vscode": {
      "interpreter": {
        "hash": "b8de2bb8cfc0129dc4ad0d33ebf53f4c81d236710e7f8da07ef8e91d061d131b"
      }
    }
  },
  "nbformat": 4,
  "nbformat_minor": 0
}
