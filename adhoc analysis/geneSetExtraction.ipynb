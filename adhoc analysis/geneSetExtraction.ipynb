{
 "cells": [
  {
   "cell_type": "code",
   "execution_count": 17,
   "metadata": {},
   "outputs": [],
   "source": [
    "import pandas as pd\n",
    "import json\n",
    "\n",
    "from pyspark.sql import SparkSession\n",
    "from pyspark import SparkConf\n",
    "\n",
    "conf = SparkConf()\n",
    "conf.set(\"spark.driver.memory\", \"4g\")  # Set to your desired heap size\n",
    "\n",
    "spark = SparkSession.builder \\\n",
    "    .config(conf=conf) \\\n",
    "    .getOrCreate()\n"
   ]
  },
  {
   "cell_type": "markdown",
   "metadata": {},
   "source": [
    "## Load genotypes"
   ]
  },
  {
   "cell_type": "code",
   "execution_count": 19,
   "metadata": {},
   "outputs": [
    {
     "name": "stderr",
     "output_type": "stream",
     "text": [
      "[Stage 1:========>       (33 + 10) / 61][Stage 2:>                  (0 + 0) / 1]\r"
     ]
    }
   ],
   "source": [
    "vcfLikePath='./als_1kg.exon.num.txt'\n",
    "\n",
    "genotypes = pd.read_csv(vcfLikePath, sep='\\t', index_col=['chrom', 'position'], engine=\"pyarrow\")"
   ]
  },
  {
   "cell_type": "code",
   "execution_count": null,
   "metadata": {},
   "outputs": [
    {
     "name": "stderr",
     "output_type": "stream",
     "text": [
      "                                                                                \r"
     ]
    },
    {
     "data": {
      "text/plain": [
       "(654394, 5923)"
      ]
     },
     "execution_count": 3,
     "metadata": {},
     "output_type": "execute_result"
    }
   ],
   "source": [
    "genotypes.shape"
   ]
  },
  {
   "cell_type": "code",
   "execution_count": null,
   "metadata": {},
   "outputs": [
    {
     "data": {
      "text/plain": [
       "Index(['Gene', 'Func.knownGene', 'Func.refGene', 'Func.ensGene', 'ExonicFunc',\n",
       "       'AAChange.knownGene', 'AAChange.refGene', 'AAChange.ensGene', 'FILTER',\n",
       "       'REF',\n",
       "       ...\n",
       "       'CGND-HDA-02442', 'CGND-HDA-02438', 'CGND-HDA-02445', 'CGND-HDA-02693',\n",
       "       'CGND-HDA-02446', 'CGND-HDA-02444', 'CGND-HDA-02439', 'CGND-HDA-02462',\n",
       "       'CGND-HDA-02688', 'CGND-HDA-02440'],\n",
       "      dtype='object', length=5923)"
      ]
     },
     "execution_count": 4,
     "metadata": {},
     "output_type": "execute_result"
    }
   ],
   "source": [
    "genotypes.columns"
   ]
  },
  {
   "cell_type": "markdown",
   "metadata": {},
   "source": [
    "## Load random gene set"
   ]
  },
  {
   "cell_type": "code",
   "execution_count": null,
   "metadata": {},
   "outputs": [
    {
     "name": "stdout",
     "output_type": "stream",
     "text": [
      "Pathway: KEGG_PEROXISOME, Gene: HAO2\n",
      "Pathway: REACTOME_APEX1_INDEPENDENT_RESOLUTION_OF_AP_SITES_VIA_THE_SINGLE_NUCLEOTIDE_REPLACEMENT_PATHWAY, Gene: OGG1\n",
      "Pathway: BIOCARTA_SALMONELLA_PATHWAY, Gene: WASF1\n",
      "Pathway: REACTOME_SEMA3A_PLEXIN_REPULSION_SIGNALING_BY_INHIBITING_INTEGRIN_ADHESION, Gene: FES\n",
      "Pathway: WP_LTF_DANGER_SIGNAL_RESPONSE_PATHWAY, Gene: IL1B\n",
      "Pathway: REACTOME_REPRODUCTION, Gene: CD9\n",
      "Pathway: WP_UREA_CYCLE_AND_RELATED_DISEASES, Gene: ASL\n",
      "Pathway: REACTOME_EGFR_TRANSACTIVATION_BY_GASTRIN, Gene: KRAS\n",
      "Pathway: PID_MYC_REPRESS_PATHWAY, Gene: EP300\n",
      "Pathway: REACTOME_ZINC_TRANSPORTERS, Gene: SLC30A3\n",
      "Pathway: REACTOME_RESOLUTION_OF_D_LOOP_STRUCTURES, Gene: ATM\n",
      "Pathway: REACTOME_SIGNALING_BY_FGFR2_IIIA_TM, Gene: POLR2E\n",
      "Pathway: REACTOME_SUMOYLATION_OF_INTRACELLULAR_RECEPTORS, Gene: PIAS1\n",
      "Pathway: REACTOME_PKA_ACTIVATION_IN_GLUCAGON_SIGNALLING, Gene: ADCY8\n",
      "Pathway: REACTOME_ACTIVATION_OF_NOXA_AND_TRANSLOCATION_TO_MITOCHONDRIA, Gene: TFDP2\n",
      "Pathway: BIOCARTA_MHC_PATHWAY, Gene: TAP1\n",
      "Pathway: BIOCARTA_AGR_PATHWAY, Gene: AGRN\n",
      "Pathway: WP_TRANSCRIPTION_FACTOR_REGULATION_IN_ADIPOGENESIS, Gene: PCK2\n",
      "Pathway: BIOCARTA_EIF2_PATHWAY, Gene: EIF2AK1\n",
      "Pathway: REACTOME_DEPOLYMERISATION_OF_THE_NUCLEAR_LAMINA, Gene: TMPO\n",
      "Pathway: SA_CASPASE_CASCADE, Gene: SCAP\n",
      "Pathway: PID_EPHA2_FWD_PATHWAY, Gene: PTK2\n",
      "Pathway: REACTOME_SWITCHING_OF_ORIGINS_TO_A_POST_REPLICATIVE_STATE, Gene: PSMB11\n",
      "Pathway: REACTOME_TRANSCRIPTION_OF_THE_HIV_GENOME, Gene: RNGTT\n",
      "Pathway: BIOCARTA_NOS1_PATHWAY, Gene: GRIN2B\n",
      "Pathway: PID_IL1_PATHWAY, Gene: IL1RN\n",
      "Pathway: WP_EXRNA_MECHANISM_OF_ACTION_AND_BIOGENESIS, Gene: ERI1\n",
      "Pathway: REACTOME_HIV_TRANSCRIPTION_ELONGATION, Gene: TCEA1\n",
      "Pathway: BIOCARTA_EXTRINSIC_PATHWAY, Gene: F7\n",
      "Pathway: WP_FLUOROPYRIMIDINE_ACTIVITY, Gene: CYP2A6\n",
      "Pathway: PID_ALK2_PATHWAY, Gene: BMP7\n",
      "Pathway: REACTOME_INTERLEUKIN_21_SIGNALING, Gene: IL21\n",
      "Pathway: WP_MAPK_AND_NFKB_SIGNALING_PATHWAYS_INHIBITED_BY_YERSINIA_YOPJ, Gene: NFKB1\n",
      "Pathway: REACTOME_P75NTR_SIGNALS_VIA_NF_KB, Gene: NGFR\n",
      "Pathway: REACTOME_G_ALPHA_12_13_SIGNALLING_EVENTS, Gene: ARHGEF38\n",
      "Pathway: REACTOME_ROLE_OF_SECOND_MESSENGERS_IN_NETRIN_1_SIGNALING, Gene: NTN1\n",
      "Pathway: WP_FAMILIAL_HYPERLIPIDEMIA_TYPE_4, Gene: PLTP\n",
      "Pathway: PID_ERB_GENOMIC_PATHWAY, Gene: NCOA3\n",
      "Pathway: REACTOME_LGI_ADAM_INTERACTIONS, Gene: CACNG3\n",
      "Pathway: KEGG_CITRATE_CYCLE_TCA_CYCLE, Gene: IDH2\n",
      "Pathway: REACTOME_E2F_MEDIATED_REGULATION_OF_DNA_REPLICATION, Gene: PRIM2\n",
      "Pathway: REACTOME_MET_INTERACTS_WITH_TNS_PROTEINS, Gene: HGF\n",
      "Pathway: REACTOME_SARS_COV_1_ACTIVATES_MODULATES_INNATE_IMMUNE_RESPONSES, Gene: IFIH1\n",
      "Pathway: WP_PATHOGENESIS_OF_SARSCOV2_MEDIATED_BY_NSP9NSP10_COMPLEX, Gene: LCK\n",
      "Pathway: KEGG_AMYOTROPHIC_LATERAL_SCLEROSIS_ALS, Gene: NOS1\n",
      "Pathway: KEGG_DORSO_VENTRAL_AXIS_FORMATION, Gene: ETS2\n",
      "Pathway: REACTOME_G1_S_SPECIFIC_TRANSCRIPTION, Gene: TK1\n",
      "Pathway: REACTOME_CONJUGATION_OF_BENZOATE_WITH_GLYCINE, Gene: ACSM1\n",
      "Pathway: WP_HYPERTROPHY_MODEL, Gene: IL18\n",
      "Pathway: BIOCARTA_CYTOKINE_PATHWAY, Gene: IFNG\n",
      "Pathway: REACTOME_LATE_ENDOSOMAL_MICROAUTOPHAGY, Gene: RPS27A\n",
      "Pathway: PID_IL23_PATHWAY, Gene: IL24\n",
      "Pathway: REACTOME_SYNTHESIS_OF_KETONE_BODIES, Gene: AACS\n",
      "Pathway: REACTOME_IONOTROPIC_ACTIVITY_OF_KAINATE_RECEPTORS, Gene: DLG4\n",
      "Pathway: PID_ATR_PATHWAY, Gene: RFC3\n",
      "Pathway: REACTOME_INTERLEUKIN_12_SIGNALING, Gene: SERPINB2\n",
      "Pathway: REACTOME_CGMP_EFFECTS, Gene: PDE1B\n",
      "Pathway: BIOCARTA_IL4_PATHWAY, Gene: IRS1\n",
      "Pathway: REACTOME_AMINO_ACID_TRANSPORT_ACROSS_THE_PLASMA_MEMBRANE, Gene: SLC43A2\n",
      "Pathway: KEGG_PROPANOATE_METABOLISM, Gene: ALDH7A1\n",
      "Pathway: REACTOME_TYSND1_CLEAVES_PEROXISOMAL_PROTEINS, Gene: TYSND1\n",
      "Pathway: REACTOME_ION_TRANSPORT_BY_P_TYPE_ATPASES, Gene: ATP2C2\n",
      "Pathway: PID_FRA_PATHWAY, Gene: MMP1\n",
      "Pathway: WP_COHESIN_COMPLEX_CORNELIA_DE_LANGE_SYNDROME, Gene: SGO2\n",
      "Pathway: WP_ALTERED_GLYCOSYLATION_OF_MUC1_IN_TUMOR_MICROENVIRONMENT, Gene: RELA\n",
      "Pathway: REACTOME_NOTCH1_INTRACELLULAR_DOMAIN_REGULATES_TRANSCRIPTION, Gene: UBB\n",
      "Pathway: WP_GASTRIC_CANCER_NETWORK_2, Gene: RNF144B\n",
      "Pathway: KEGG_STARCH_AND_SUCROSE_METABOLISM, Gene: PGM2L1\n",
      "Pathway: BIOCARTA_HIVNEF_PATHWAY, Gene: MAP3K1\n",
      "Pathway: BIOCARTA_CDC42RAC_PATHWAY, Gene: WASL\n",
      "Pathway: WP_MICRORNA_NETWORK_ASSOCIATED_WITH_CHRONIC_LYMPHOCYTIC_LEUKEMIA, Gene: MIR16-1\n",
      "Pathway: WP_TRIACYLGLYCERIDE_SYNTHESIS, Gene: AGPAT2\n",
      "Pathway: REACTOME_SIGNALING_BY_FGFR_IN_DISEASE, Gene: FGF6\n",
      "Pathway: BIOCARTA_EGF_PATHWAY, Gene: PLCG1\n",
      "Pathway: REACTOME_HCMV_INFECTION, Gene: H2AC7\n",
      "Pathway: WP_INTERACTOME_OF_POLYCOMB_REPRESSIVE_COMPLEX_2_PRC2, Gene: STK38\n",
      "Pathway: WP_MIR124_PREDICTED_INTERACTIONS_WITH_CELL_CYCLE_AND_DIFFERENTIATION, Gene: PRKAA1\n",
      "Pathway: REACTOME_CILIUM_ASSEMBLY, Gene: RP2\n",
      "Pathway: BIOCARTA_TID_PATHWAY, Gene: WT1\n",
      "Pathway: REACTOME_PRC2_METHYLATES_HISTONES_AND_DNA, Gene: H2BC21\n",
      "Pathway: REACTOME_ACETYLCHOLINE_REGULATES_INSULIN_SECRETION, Gene: MARCKS\n",
      "Pathway: REACTOME_METALLOTHIONEINS_BIND_METALS, Gene: MT1E\n",
      "Pathway: PID_TCR_PATHWAY, Gene: GRAP2\n",
      "Pathway: REACTOME_COPI_DEPENDENT_GOLGI_TO_ER_RETROGRADE_TRAFFIC, Gene: CENPE\n",
      "Pathway: WP_NONHOMOLOGOUS_END_JOINING, Gene: POLM\n",
      "Pathway: REACTOME_DOWNREGULATION_OF_SMAD2_3_SMAD4_TRANSCRIPTIONAL_ACTIVITY, Gene: ATP1B4\n",
      "Pathway: REACTOME_P75_NTR_RECEPTOR_MEDIATED_SIGNALLING, Gene: APH1A\n",
      "Pathway: REACTOME_SUMOYLATION_OF_TRANSCRIPTION_FACTORS, Gene: PIAS2\n",
      "Pathway: REACTOME_RRNA_MODIFICATION_IN_THE_MITOCHONDRION, Gene: MT-RNR2\n",
      "Pathway: WP_TRYPTOPHAN_METABOLISM, Gene: STAT1\n",
      "Pathway: REACTOME_ACTIVATION_OF_GENE_EXPRESSION_BY_SREBF_SREBP, Gene: SCD\n",
      "Pathway: WP_INTERACTIONS_BETWEEN_IMMUNE_CELLS_AND_MICRORNAS_IN_TUMOR_MICROENVIRONMENT, Gene: PDCD1\n",
      "Pathway: REACTOME_NEGATIVE_REGULATION_OF_THE_PI3K_AKT_NETWORK, Gene: IL33\n",
      "Pathway: REACTOME_G_ALPHA_Z_SIGNALLING_EVENTS, Gene: GNAI2\n",
      "Pathway: WP_MIRNA_REGULATION_OF_P53_PATHWAY_IN_PROSTATE_CANCER, Gene: CASP9\n",
      "Pathway: WP_FOCAL_ADHESION_PI3KAKTMTORSIGNALING_PATHWAY, Gene: COL2A1\n",
      "Pathway: KEGG_CYTOSOLIC_DNA_SENSING_PATHWAY, Gene: IFNA13\n",
      "Pathway: BIOCARTA_PRION_PATHWAY, Gene: LAMB1\n",
      "Pathway: REACTOME_ENDOSOMAL_SORTING_COMPLEX_REQUIRED_FOR_TRANSPORT_ESCRT, Gene: CHMP7\n",
      "Pathway: REACTOME_TRANSPORT_OF_RCBL_WITHIN_THE_BODY, Gene: ABCC1\n",
      "Pathway: WP_IL2_SIGNALING_PATHWAY, Gene: STAT3\n",
      "Pathway: REACTOME_CHL1_INTERACTIONS, Gene: ITGB1\n",
      "Pathway: REACTOME_ERYTHROPOIETIN_ACTIVATES_RAS, Gene: IRS2\n",
      "Pathway: BIOCARTA_LONGEVITY_PATHWAY, Gene: SOD2\n",
      "Pathway: WP_MFAP5_EFFECT_ON_PERMEABILITY_AND_MOTILITY_OF_ENDOTHELIAL_CELLS_VIA_CYTOSKELETON_REARRANGEMENT, Gene: PXN\n",
      "Pathway: PID_ECADHERIN_NASCENT_AJ_PATHWAY, Gene: RHOA\n",
      "Pathway: REACTOME_DIGESTION_OF_DIETARY_LIPID, Gene: LIPF\n",
      "Pathway: BIOCARTA_CERAMIDE_PATHWAY, Gene: BAD\n",
      "Pathway: WP_FAMILIAL_HYPERLIPIDEMIA_TYPE_3, Gene: APOA4\n",
      "Pathway: REACTOME_CAMK_IV_MEDIATED_PHOSPHORYLATION_OF_CREB, Gene: CAMK2D\n",
      "Pathway: REACTOME_WNT5A_DEPENDENT_INTERNALIZATION_OF_FZD4, Gene: PRKCG\n",
      "Pathway: WP_OXIDATIVE_STRESS_RESPONSE, Gene: SP1\n",
      "Pathway: REACTOME_REGULATION_OF_TP53_ACTIVITY_THROUGH_ACETYLATION, Gene: CHD3\n",
      "Pathway: REACTOME_TRANSCRIPTIONAL_REGULATION_BY_NPAS4, Gene: NPAS4\n",
      "Pathway: WP_KALLMANN_SYNDROME, Gene: LHB\n",
      "Pathway: WP_DYRK1A, Gene: E2F4\n",
      "Pathway: WP_DISORDERS_OF_FOLATE_METABOLISM_AND_TRANSPORT, Gene: SHMT1\n",
      "Pathway: REACTOME_NEGATIVE_REGULATORS_OF_DDX58_IFIH1_SIGNALING, Gene: UBB\n",
      "Pathway: REACTOME_SIGNALING_BY_FGFR2_IN_DISEASE, Gene: FRS2\n",
      "Pathway: WP_REGULATORY_CIRCUITS_OF_THE_STAT3_SIGNALING_PATHWAY, Gene: STAT3\n",
      "Pathway: BIOCARTA_IL1R_PATHWAY, Gene: IL1RAP\n",
      "Pathway: REACTOME_FCGR_ACTIVATION, Gene: IGHV1-2\n",
      "Pathway: REACTOME_SYNTHESIS_SECRETION_AND_DEACYLATION_OF_GHRELIN, Gene: SPCS1\n",
      "Pathway: WP_GAMMAGLUTAMYL_CYCLE_FOR_THE_BIOSYNTHESIS_AND_DEGRADATION_OF_GLUTATHIONE_INCLUDING_DISEASES, Gene: GGT1\n",
      "Pathway: REACTOME_TRANSCRIPTIONAL_REGULATION_OF_WHITE_ADIPOCYTE_DIFFERENTIATION, Gene: CREBBP\n",
      "Pathway: REACTOME_LOSS_OF_FUNCTION_OF_SMAD2_3_IN_CANCER, Gene: TGFBR1\n",
      "Pathway: REACTOME_PRE_NOTCH_PROCESSING_IN_THE_ENDOPLASMIC_RETICULUM, Gene: POFUT1\n",
      "Pathway: REACTOME_VITAMIN_B5_PANTOTHENATE_METABOLISM, Gene: VNN2\n",
      "Pathway: REACTOME_SNRNP_ASSEMBLY, Gene: NUP153\n",
      "Pathway: WP_PARKINUBIQUITIN_PROTEASOMAL_SYSTEM_PATHWAY, Gene: PSMD5\n",
      "Pathway: REACTOME_AGGREPHAGY, Gene: TUBB2B\n",
      "Pathway: REACTOME_DISEASES_ASSOCIATED_WITH_SURFACTANT_METABOLISM, Gene: SFTA3\n",
      "Pathway: REACTOME_S_PHASE, Gene: PCNA\n",
      "Pathway: PID_S1P_S1P1_PATHWAY, Gene: KDR\n",
      "Pathway: REACTOME_BETA_CATENIN_PHOSPHORYLATION_CASCADE, Gene: FRAT1\n",
      "Pathway: WP_GLIAL_CELL_DIFFERENTIATION, Gene: CNP\n",
      "Pathway: REACTOME_MYD88_INDEPENDENT_TLR4_CASCADE, Gene: MAP2K4\n",
      "Pathway: REACTOME_GENE_AND_PROTEIN_EXPRESSION_BY_JAK_STAT_SIGNALING_AFTER_INTERLEUKIN_12_STIMULATION, Gene: BOLA2B\n",
      "Pathway: BIOCARTA_IL17_PATHWAY, Gene: IL3\n",
      "Pathway: REACTOME_DEADENYLATION_DEPENDENT_MRNA_DECAY, Gene: LSM7\n",
      "Pathway: WP_TGIF_DISRUPTION_OF_SHH_SIGNALING, Gene: NKX2-1\n",
      "Pathway: REACTOME_SIGNALING_BY_WNT, Gene: PSMA1\n",
      "Pathway: REACTOME_COPI_MEDIATED_ANTEROGRADE_TRANSPORT, Gene: ARFGAP3\n",
      "Pathway: WP_PREGNANE_X_RECEPTOR_PATHWAY, Gene: UGT1A1\n",
      "Pathway: REACTOME_CONDENSATION_OF_PROPHASE_CHROMOSOMES, Gene: H3C7\n",
      "Pathway: WP_NICOTINE_EFFECT_ON_CHROMAFFIN_CELLS, Gene: CACNA1C-IT2\n",
      "Pathway: REACTOME_ADVANCED_GLYCOSYLATION_ENDPRODUCT_RECEPTOR_SIGNALING, Gene: S100A12\n",
      "Pathway: BIOCARTA_EIF_PATHWAY, Gene: EIF3A\n",
      "Pathway: REACTOME_CYTOSOLIC_SENSORS_OF_PATHOGEN_ASSOCIATED_DNA, Gene: POLR3GL\n",
      "Pathway: PID_MYC_ACTIV_PATHWAY, Gene: SNAI1\n"
     ]
    }
   ],
   "source": [
    "import random\n",
    "\n",
    "def load_msigdb(file_name):\n",
    "    \"\"\"Load the MSigDB .gmt file and return a dictionary of gene sets.\"\"\"\n",
    "    pathways = {}\n",
    "    with open(file_name, 'r') as file:\n",
    "        for line in file:\n",
    "            parts = line.strip().split('\\t')\n",
    "            pathway_name = parts[0]\n",
    "            genes = parts[2:]\n",
    "            pathways[pathway_name] = genes\n",
    "    return pathways\n",
    "\n",
    "def sample_random_gene_from_n_pathways(pathways, n):\n",
    "    \"\"\"Sample a random gene from n random pathways.\"\"\"\n",
    "    sampled_genes = []\n",
    "    sampled_pathways = random.sample(list(pathways.keys()), n)\n",
    "\n",
    "    for pathway in sampled_pathways:\n",
    "        gene = random.choice(pathways[pathway])\n",
    "        sampled_genes.append((pathway, gene))\n",
    "\n",
    "    return sampled_genes\n",
    "\n",
    "# Load MSigDB gene sets\n",
    "file_name = \"c2.cp.v2023.1.Hs.symbols.gmt\"  # Replace with your downloaded file path\n",
    "pathways = load_msigdb(file_name)\n",
    "\n",
    "# Sample a random gene from n random pathways\n",
    "n = 150  # Change this to your desired n\n",
    "random_results = sample_random_gene_from_n_pathways(pathways, n)\n",
    "\n",
    "for pathway, gene in random_results:\n",
    "    print(f\"Pathway: {pathway}, Gene: {gene}\")\n"
   ]
  },
  {
   "cell_type": "markdown",
   "metadata": {},
   "source": [
    "## Load gene sets"
   ]
  },
  {
   "cell_type": "code",
   "execution_count": 5,
   "metadata": {},
   "outputs": [],
   "source": [
    "def readJsonFile(path):\n",
    "    with open(path) as f:\n",
    "        data = json.load(f)\n",
    "    return data"
   ]
  },
  {
   "cell_type": "code",
   "execution_count": 14,
   "metadata": {},
   "outputs": [
    {
     "ename": "NameError",
     "evalue": "name 'pd' is not defined",
     "output_type": "error",
     "traceback": [
      "\u001b[0;31m---------------------------------------------------------------------------\u001b[0m",
      "\u001b[0;31mNameError\u001b[0m                                 Traceback (most recent call last)",
      "\u001b[1;32m/Users/noot/Documents/case-control-genomics/adhoc analysis/geneSetExtraction.ipynb Cell 10\u001b[0m line \u001b[0;36m1\n\u001b[1;32m      <a href='vscode-notebook-cell:/Users/noot/Documents/case-control-genomics/adhoc%20analysis/geneSetExtraction.ipynb#X10sZmlsZQ%3D%3D?line=0'>1</a>\u001b[0m \u001b[39mimport\u001b[39;00m \u001b[39mnumpy\u001b[39;00m \u001b[39mas\u001b[39;00m \u001b[39mnp\u001b[39;00m\n\u001b[1;32m      <a href='vscode-notebook-cell:/Users/noot/Documents/case-control-genomics/adhoc%20analysis/geneSetExtraction.ipynb#X10sZmlsZQ%3D%3D?line=1'>2</a>\u001b[0m geneSets \u001b[39m=\u001b[39m {\n\u001b[1;32m      <a href='vscode-notebook-cell:/Users/noot/Documents/case-control-genomics/adhoc%20analysis/geneSetExtraction.ipynb#X10sZmlsZQ%3D%3D?line=2'>3</a>\u001b[0m     \u001b[39m# 'alsod': ps.read_csv('./alsodList.csv', sep='\\t')['Gene symbol'].tolist(),\u001b[39;00m\n\u001b[1;32m      <a href='vscode-notebook-cell:/Users/noot/Documents/case-control-genomics/adhoc%20analysis/geneSetExtraction.ipynb#X10sZmlsZQ%3D%3D?line=3'>4</a>\u001b[0m     \u001b[39m# 'cardiac': readJsonFile('./BIOCARTA_ALK_PATHWAY.v2023.1.Hs.json')['BIOCARTA_ALK_PATHWAY']['geneSymbols'] \u001b[39;00m\n\u001b[1;32m      <a href='vscode-notebook-cell:/Users/noot/Documents/case-control-genomics/adhoc%20analysis/geneSetExtraction.ipynb#X10sZmlsZQ%3D%3D?line=4'>5</a>\u001b[0m     \u001b[39m#     + readJsonFile('./BIOCARTA_ACE2_PATHWAY.v2023.1.Hs.json')['BIOCARTA_ACE2_PATHWAY']['geneSymbols'] \u001b[39;00m\n\u001b[1;32m      <a href='vscode-notebook-cell:/Users/noot/Documents/case-control-genomics/adhoc%20analysis/geneSetExtraction.ipynb#X10sZmlsZQ%3D%3D?line=5'>6</a>\u001b[0m     \u001b[39m#     + readJsonFile('./BIOCARTA_AT1R_PATHWAY.v2023.1.Hs.json')['BIOCARTA_AT1R_PATHWAY']['geneSymbols']\u001b[39;00m\n\u001b[1;32m      <a href='vscode-notebook-cell:/Users/noot/Documents/case-control-genomics/adhoc%20analysis/geneSetExtraction.ipynb#X10sZmlsZQ%3D%3D?line=6'>7</a>\u001b[0m     \u001b[39m#     + readJsonFile('./BIOCARTA_CARDIACEGF_PATHWAY.v2023.1.Hs.json')['BIOCARTA_CARDIACEGF_PATHWAY']['geneSymbols']\u001b[39;00m\n\u001b[1;32m      <a href='vscode-notebook-cell:/Users/noot/Documents/case-control-genomics/adhoc%20analysis/geneSetExtraction.ipynb#X10sZmlsZQ%3D%3D?line=7'>8</a>\u001b[0m     \u001b[39m#     + readJsonFile('./BIOCARTA_FLUMAZENIL_PATHWAY.v2023.1.Hs.json')['BIOCARTA_FLUMAZENIL_PATHWAY']['geneSymbols']\u001b[39;00m\n\u001b[1;32m      <a href='vscode-notebook-cell:/Users/noot/Documents/case-control-genomics/adhoc%20analysis/geneSetExtraction.ipynb#X10sZmlsZQ%3D%3D?line=8'>9</a>\u001b[0m     \u001b[39m#     + readJsonFile('./BIOCARTA_GCR_PATHWAY.v2023.1.Hs.json')['BIOCARTA_GCR_PATHWAY']['geneSymbols']\u001b[39;00m\n\u001b[1;32m     <a href='vscode-notebook-cell:/Users/noot/Documents/case-control-genomics/adhoc%20analysis/geneSetExtraction.ipynb#X10sZmlsZQ%3D%3D?line=9'>10</a>\u001b[0m     \u001b[39m#     + readJsonFile('./BIOCARTA_HDAC_PATHWAY.v2023.1.Hs.json')['BIOCARTA_HDAC_PATHWAY']['geneSymbols']\u001b[39;00m\n\u001b[1;32m     <a href='vscode-notebook-cell:/Users/noot/Documents/case-control-genomics/adhoc%20analysis/geneSetExtraction.ipynb#X10sZmlsZQ%3D%3D?line=10'>11</a>\u001b[0m     \u001b[39m#     + readJsonFile('./BIOCARTA_NFAT_PATHWAY.v2023.1.Hs.json')['BIOCARTA_NFAT_PATHWAY']['geneSymbols']\u001b[39;00m\n\u001b[1;32m     <a href='vscode-notebook-cell:/Users/noot/Documents/case-control-genomics/adhoc%20analysis/geneSetExtraction.ipynb#X10sZmlsZQ%3D%3D?line=11'>12</a>\u001b[0m     \u001b[39m#     + readJsonFile('./BIOCARTA_PGC1A_PATHWAY.v2023.1.Hs.json')['BIOCARTA_PGC1A_PATHWAY']['geneSymbols']\u001b[39;00m\n\u001b[1;32m     <a href='vscode-notebook-cell:/Users/noot/Documents/case-control-genomics/adhoc%20analysis/geneSetExtraction.ipynb#X10sZmlsZQ%3D%3D?line=12'>13</a>\u001b[0m     \u001b[39m#     + readJsonFile('./BIOCARTA_PITX2_PATHWAY.v2023.1.Hs.json')['BIOCARTA_PITX2_PATHWAY']['geneSymbols']\u001b[39;00m\n\u001b[1;32m     <a href='vscode-notebook-cell:/Users/noot/Documents/case-control-genomics/adhoc%20analysis/geneSetExtraction.ipynb#X10sZmlsZQ%3D%3D?line=13'>14</a>\u001b[0m     \u001b[39m#     + readJsonFile('./BIOCARTA_AMI_PATHWAY.v2023.1.Hs.json')['BIOCARTA_AMI_PATHWAY']['geneSymbols']\u001b[39;00m\n\u001b[1;32m     <a href='vscode-notebook-cell:/Users/noot/Documents/case-control-genomics/adhoc%20analysis/geneSetExtraction.ipynb#X10sZmlsZQ%3D%3D?line=14'>15</a>\u001b[0m     \u001b[39m#     + readJsonFile('./BIOCARTA_P53HYPOXIA_PATHWAY.v2023.1.Hs.json')['BIOCARTA_P53HYPOXIA_PATHWAY']['geneSymbols']\u001b[39;00m\n\u001b[1;32m     <a href='vscode-notebook-cell:/Users/noot/Documents/case-control-genomics/adhoc%20analysis/geneSetExtraction.ipynb#X10sZmlsZQ%3D%3D?line=15'>16</a>\u001b[0m     \u001b[39m#     + readJsonFile('./BIOCARTA_NO1_PATHWAY.v2023.1.Hs.json')['BIOCARTA_NO1_PATHWAY']['geneSymbols']\u001b[39;00m\n\u001b[1;32m     <a href='vscode-notebook-cell:/Users/noot/Documents/case-control-genomics/adhoc%20analysis/geneSetExtraction.ipynb#X10sZmlsZQ%3D%3D?line=16'>17</a>\u001b[0m     \u001b[39m#     + readJsonFile('./BIOCARTA_HIF_PATHWAY.v2023.1.Hs.json')['BIOCARTA_HIF_PATHWAY']['geneSymbols']\u001b[39;00m\n\u001b[0;32m---> <a href='vscode-notebook-cell:/Users/noot/Documents/case-control-genomics/adhoc%20analysis/geneSetExtraction.ipynb#X10sZmlsZQ%3D%3D?line=17'>18</a>\u001b[0m     \u001b[39m\"\u001b[39m\u001b[39mNUPs\u001b[39m\u001b[39m\"\u001b[39m: pd\u001b[39m.\u001b[39mread_excel(\u001b[39m\"\u001b[39m\u001b[39m../adhoc analysis/Variant_report_NUPs_fixed_2022-03-28.xlsx\u001b[39m\u001b[39m\"\u001b[39m, sheet_name\u001b[39m=\u001b[39m\u001b[39m\"\u001b[39m\u001b[39mall cases vs all controls\u001b[39m\u001b[39m\"\u001b[39m)[\u001b[39m'\u001b[39m\u001b[39mGene\u001b[39m\u001b[39m'\u001b[39m]\u001b[39m.\u001b[39mdropna()\u001b[39m.\u001b[39mtolist(),\n\u001b[1;32m     <a href='vscode-notebook-cell:/Users/noot/Documents/case-control-genomics/adhoc%20analysis/geneSetExtraction.ipynb#X10sZmlsZQ%3D%3D?line=18'>19</a>\u001b[0m     \u001b[39m\"\u001b[39m\u001b[39mRandom\u001b[39m\u001b[39m\"\u001b[39m: np\u001b[39m.\u001b[39marray(random_results)[:,\u001b[39m1\u001b[39m]\u001b[39m.\u001b[39mtolist()\n\u001b[1;32m     <a href='vscode-notebook-cell:/Users/noot/Documents/case-control-genomics/adhoc%20analysis/geneSetExtraction.ipynb#X10sZmlsZQ%3D%3D?line=19'>20</a>\u001b[0m         }\n",
      "\u001b[0;31mNameError\u001b[0m: name 'pd' is not defined"
     ]
    }
   ],
   "source": [
    "import numpy as np\n",
    "geneSets = {\n",
    "    # 'alsod': ps.read_csv('./alsodList.csv', sep='\\t')['Gene symbol'].tolist(),\n",
    "    # 'cardiac': readJsonFile('./BIOCARTA_ALK_PATHWAY.v2023.1.Hs.json')['BIOCARTA_ALK_PATHWAY']['geneSymbols'] \n",
    "    #     + readJsonFile('./BIOCARTA_ACE2_PATHWAY.v2023.1.Hs.json')['BIOCARTA_ACE2_PATHWAY']['geneSymbols'] \n",
    "    #     + readJsonFile('./BIOCARTA_AT1R_PATHWAY.v2023.1.Hs.json')['BIOCARTA_AT1R_PATHWAY']['geneSymbols']\n",
    "    #     + readJsonFile('./BIOCARTA_CARDIACEGF_PATHWAY.v2023.1.Hs.json')['BIOCARTA_CARDIACEGF_PATHWAY']['geneSymbols']\n",
    "    #     + readJsonFile('./BIOCARTA_FLUMAZENIL_PATHWAY.v2023.1.Hs.json')['BIOCARTA_FLUMAZENIL_PATHWAY']['geneSymbols']\n",
    "    #     + readJsonFile('./BIOCARTA_GCR_PATHWAY.v2023.1.Hs.json')['BIOCARTA_GCR_PATHWAY']['geneSymbols']\n",
    "    #     + readJsonFile('./BIOCARTA_HDAC_PATHWAY.v2023.1.Hs.json')['BIOCARTA_HDAC_PATHWAY']['geneSymbols']\n",
    "    #     + readJsonFile('./BIOCARTA_NFAT_PATHWAY.v2023.1.Hs.json')['BIOCARTA_NFAT_PATHWAY']['geneSymbols']\n",
    "    #     + readJsonFile('./BIOCARTA_PGC1A_PATHWAY.v2023.1.Hs.json')['BIOCARTA_PGC1A_PATHWAY']['geneSymbols']\n",
    "    #     + readJsonFile('./BIOCARTA_PITX2_PATHWAY.v2023.1.Hs.json')['BIOCARTA_PITX2_PATHWAY']['geneSymbols']\n",
    "    #     + readJsonFile('./BIOCARTA_AMI_PATHWAY.v2023.1.Hs.json')['BIOCARTA_AMI_PATHWAY']['geneSymbols']\n",
    "    #     + readJsonFile('./BIOCARTA_P53HYPOXIA_PATHWAY.v2023.1.Hs.json')['BIOCARTA_P53HYPOXIA_PATHWAY']['geneSymbols']\n",
    "    #     + readJsonFile('./BIOCARTA_NO1_PATHWAY.v2023.1.Hs.json')['BIOCARTA_NO1_PATHWAY']['geneSymbols']\n",
    "    #     + readJsonFile('./BIOCARTA_HIF_PATHWAY.v2023.1.Hs.json')['BIOCARTA_HIF_PATHWAY']['geneSymbols']\n",
    "    \"NUPs\": pd.read_excel(\"../adhoc analysis/Variant_report_NUPs_fixed_2022-03-28.xlsx\", sheet_name=\"all cases vs all controls\")['Gene'].dropna().tolist(),\n",
    "    \"Random\": np.array(random_results)[:,1].tolist()\n",
    "        }"
   ]
  },
  {
   "cell_type": "code",
   "execution_count": 12,
   "metadata": {},
   "outputs": [
    {
     "name": "stdout",
     "output_type": "stream",
     "text": [
      "['RCC1', 'RCC1', 'RCC1', 'RCC1', 'RCC1', 'RCC1', 'RCC1', 'RCC1', 'RCC1', 'RCC1', 'RCC1', 'RCC1', 'RCC1', 'NDC1', 'NDC1', 'NDC1', 'NDC1', 'NDC1', 'NDC1', 'NDC1', 'NDC1', 'NDC1', 'NDC1', 'NDC1', 'NDC1', 'NDC1', 'NDC1', 'NDC1', 'NDC1', 'NDC1', 'TPR', 'TPR', 'TPR', 'TPR', 'TPR', 'TPR', 'TPR', 'TPR', 'TPR', 'TPR', 'TPR', 'TPR', 'TPR', 'TPR', 'TPR', 'TPR', 'TPR', 'TPR', 'TPR', 'TPR', 'TPR', 'TPR', 'TPR', 'TPR', 'TPR', 'TPR', 'TPR', 'TPR', 'TPR', 'TPR', 'TPR', 'TPR', 'TPR', 'TPR', 'TPR', 'TPR', 'TPR', 'TPR', 'TPR', 'TPR', 'TPR', 'TPR', 'TPR', 'TPR', 'TPR', 'TPR', 'TPR', 'TPR', 'TPR', 'TPR', 'TPR', 'TPR', 'LBR', 'LBR', 'LBR', 'LBR', 'LBR', 'LBR', 'LBR', 'LBR', 'LBR', 'LBR', 'LBR', 'LBR', 'LBR', 'LBR', 'LBR', 'LBR', 'LBR', 'LBR', 'LBR', 'LBR', 'LBR', 'LBR', 'LBR', 'LBR', 'LBR', 'LBR', 'LBR', 'LBR', 'LBR', 'NUP133', 'NUP133', 'NUP133', 'NUP133', 'NUP133', 'NUP133', 'NUP133', 'NUP133', 'NUP133', 'NUP133', 'NUP133', 'NUP133', 'NUP133', 'NUP133', 'NUP133', 'NUP133', 'NUP133', 'NUP133', 'NUP133', 'NUP133', 'NUP133', 'NUP133', 'NUP133', 'NUP133', 'NUP133', 'NUP133', 'NUP133', 'NUP133', 'NUP133', 'NUP133', 'NUP133', 'NUP133', 'NUP133', 'NUP133', 'NUP133', 'NUP133', 'NUP133', 'NUP133', 'NUP133', 'AHCTF1', 'AHCTF1', 'AHCTF1', 'AHCTF1', 'AHCTF1', 'AHCTF1', 'AHCTF1', 'AHCTF1', 'AHCTF1', 'AHCTF1', 'AHCTF1', 'AHCTF1', 'AHCTF1', 'AHCTF1', 'AHCTF1', 'AHCTF1', 'AHCTF1', 'AHCTF1', 'AHCTF1', 'AHCTF1', 'AHCTF1', 'AHCTF1', 'AHCTF1', 'AHCTF1', 'AHCTF1', 'AHCTF1', 'AHCTF1', 'AHCTF1', 'AHCTF1', 'AHCTF1', 'AHCTF1', 'AHCTF1', 'AHCTF1', 'AHCTF1', 'AHCTF1', 'AHCTF1', 'AHCTF1', 'AHCTF1', 'AHCTF1', 'AHCTF1', 'AHCTF1', 'AHCTF1', 'AHCTF1', 'AHCTF1', 'AHCTF1', 'AHCTF1', 'AHCTF1', 'AHCTF1', 'AHCTF1', 'AHCTF1', 'AHCTF1', 'AHCTF1', 'AHCTF1', 'AHCTF1', 'AHCTF1', 'AHCTF1', 'AHCTF1', 'AHCTF1', 'AHCTF1', 'AHCTF1', 'AHCTF1', 'AHCTF1', 'AHCTF1', 'AHCTF1', 'AHCTF1', 'AHCTF1', 'AHCTF1', 'AHCTF1', 'AHCTF1', 'AHCTF1', 'AHCTF1', 'AHCTF1', 'AHCTF1', 'AHCTF1', 'AHCTF1', 'AHCTF1', 'AHCTF1', 'AHCTF1', 'AHCTF1', 'AHCTF1', 'AHCTF1', 'AHCTF1', 'AHCTF1', 'AHCTF1', 'AHCTF1', 'AHCTF1', 'AHCTF1', 'AHCTF1', 'AHCTF1', 'XPO1', 'XPO1', 'XPO1', 'XPO1', 'XPO1', 'XPO1', 'XPO1', 'CHMP3', 'CHMP3', 'CHMP3', 'CHMP3', 'CHMP3', 'CHMP3', 'CHMP3', 'RANBP2', 'RANBP2', 'RANBP2', 'RANBP2', 'RANBP2', 'RANBP2', 'RANBP2', 'RANBP2', 'RANBP2', 'RANBP2', 'RANBP2', 'RANBP2', 'RANBP2', 'RANBP2', 'RANBP2', 'RANBP2', 'RANBP2', 'RANBP2', 'RANBP2', 'RANBP2', 'RANBP2', 'RANBP2', 'RANBP2', 'RANBP2', 'RANBP2', 'RANBP2', 'RANBP2', 'RANBP2', 'RANBP2', 'RANBP2', 'RANBP2', 'RANBP2', 'RANBP2', 'RANBP2', 'RANBP2', 'RANBP2', 'RANBP2', 'RANBP2', 'RANBP2', 'RANBP2', 'RANBP2', 'RANBP2', 'RANBP2', 'RANBP2', 'RANBP2', 'RANBP2', 'RANBP2', 'RANBP2', 'RANBP2', 'RANBP2', 'RANBP2', 'RANBP2', 'RANBP2', 'RANBP2', 'RANBP2', 'RANBP2', 'RANBP2', 'RANBP2', 'RANBP2', 'RANBP2', 'RANBP2', 'RANBP2', 'RANBP2', 'RANBP2', 'RANBP2', 'RANBP2', 'RANBP2', 'RANBP2', 'RANBP2', 'RANBP2', 'RANBP2', 'RANBP2', 'RANBP2', 'RANBP2', 'RANBP2', 'RANBP2', 'RANBP2', 'RANBP2', 'RANBP2', 'RANBP2', 'RANBP2', 'RANBP2', 'RANBP2', 'RANBP2', 'RANBP2', 'RANBP2', 'RANBP2', 'RANBP2', 'RANBP2', 'NUP35', 'NUP35', 'NUP35', 'NUP35', 'NUP35', 'NUP35', 'NUP35', 'SEC13', 'SEC13', 'SEC13', 'SEC13', 'SEC13', 'SEC13', 'SEC13', 'SEC13', 'SEC13', 'SEC13', 'SEC13', 'SEC13', 'SEC13', 'SEC13', 'SEC13', 'SEC13', 'SEC13', 'SEC13', 'SEC13', 'SEC13', 'NUP210', 'NUP210', 'NUP210', 'NUP210', 'NUP210', 'NUP210', 'NUP210', 'NUP210', 'NUP210', 'NUP210', 'NUP210', 'NUP210', 'NUP210', 'NUP210', 'NUP210', 'NUP210', 'NUP210', 'NUP210', 'NUP210', 'NUP210', 'NUP210', 'NUP210', 'NUP210', 'NUP210', 'NUP210', 'NUP210', 'NUP210', 'NUP210', 'NUP210', 'NUP210', 'NUP210', 'NUP210', 'NUP210', 'NUP210', 'NUP210', 'NUP210', 'NUP210', 'NUP210', 'NUP210', 'NUP210', 'NUP210', 'NUP210', 'NUP210', 'NUP210', 'NUP210', 'NUP210', 'NUP210', 'NUP210', 'NUP210', 'NUP210', 'NUP210', 'NUP210', 'NUP210', 'NUP210', 'NUP210', 'NUP210', 'NUP210', 'NUP210', 'NUP210', 'NUP210', 'NUP210', 'NUP210', 'NUP210', 'NUP210', 'NUP210', 'NUP210', 'NUP210', 'NUP210', 'NUP210', 'NUP210', 'NUP210', 'NUP210', 'NUP210', 'NUP210', 'NUP210', 'NUP210', 'NUP210', 'NUP210', 'NUP210', 'NUP210', 'NUP210', 'NUP210', 'NUP210', 'CHMP2B', 'CHMP2B', 'CHMP2B', 'CHMP2B', 'CHMP2B', 'CHMP2B', 'CHMP2B', 'NUP54', 'NUP54', 'NUP54', 'NUP54', 'NUP54', 'NUP54', 'NUP54', 'NUP54', 'NUP54', 'NUP54', 'NUP54', 'NUP155', 'NUP155', 'NUP155', 'NUP155', 'NUP155', 'NUP155', 'NUP155', 'NUP155', 'NUP155', 'NUP155', 'NUP155', 'NUP155', 'NUP155', 'NUP155', 'NUP155', 'NUP155', 'NUP155', 'NUP155', 'NUP155', 'NUP155', 'NUP155', 'NUP155', 'NUP155', 'NUP155', 'NUP155', 'NUP155', 'NUP155', 'NUP155', 'NUP155', 'NUP155', 'NUP155', 'NUP155', 'NUP155', 'NUP155', 'NUP155', 'NUP155', 'NUP155', 'NUP153', 'NUP153', 'NUP153', 'NUP153', 'NUP153', 'NUP153', 'NUP153', 'NUP153', 'NUP153', 'NUP153', 'NUP153', 'NUP153', 'NUP153', 'NUP153', 'NUP153', 'NUP153', 'NUP153', 'NUP153', 'NUP153', 'NUP153', 'NUP153', 'NUP153', 'NUP153', 'NUP153', 'NUP153', 'NUP153', 'NUP153', 'NUP153', 'NUP153', 'NUP153', 'NUP153', 'NUP153', 'NUP153', 'NUP153', 'NUP153', 'NUP153', 'NUP153', 'NUP153', 'NUP153', 'NUP153', 'NUP153', 'NUP153', 'NUP153', 'NUP153', 'NUP153', 'NUP153', 'NUP153', 'NUP153', 'NUP153', 'NUP153', 'NUP153', 'NUP153', 'NUP153', 'NUP153', 'NUP153', 'NUP153', 'LEMD2', 'LEMD2', 'LEMD2', 'LEMD2', 'LEMD2', 'LEMD2', 'LEMD2', 'LEMD2', 'LEMD2', 'LEMD2', 'LEMD2', 'NUP43', 'NUP43', 'NUP43', 'NUP43', 'NUP43', 'NUP43', 'NUP43', 'NUP43', 'NUP43', 'NUP43', 'NUP43', 'NUP43', 'SUN1', 'SUN1', 'SUN1', 'SUN1', 'SUN1', 'SUN1', 'SUN1', 'SUN1', 'SUN1', 'SUN1', 'SUN1', 'SUN1', 'SUN1', 'SUN1', 'SUN1', 'SUN1', 'SUN1', 'SUN1', 'SUN1', 'SUN1', 'SUN1', 'SUN1', 'SUN1', 'SUN1', 'SUN1', 'SUN1', 'SUN1', 'SUN1', 'SUN1', 'SUN1', 'SUN1', 'SUN1', 'SUN1', 'SUN1', 'SUN1', 'SUN1', 'SUN1', 'SUN1', 'SUN1', 'SUN1', 'SUN1', 'SUN1', 'SUN1', 'SUN1', 'SUN1', 'SUN1', 'SUN1', 'POM121', 'POM121', 'POM121', 'POM121', 'POM121', 'POM121', 'POM121', 'POM121', 'POM121', 'POM121', 'POM121', 'POM121', 'POM121', 'POM121', 'POM121', 'POM121', 'POM121', 'POM121', 'POM121', 'POM121', 'POM121', 'POM121', 'POM121', 'POM121', 'POM121', 'POM121', 'POM121', 'POM121', 'POM121', 'POM121', 'POM121', 'POM121', 'POM121', 'POM121', 'POM121', 'POM121', 'POM121', 'POM121', 'POM121', 'POM121', 'POM121', 'POM121', 'NUP205', 'NUP205', 'NUP205', 'NUP205', 'NUP205', 'NUP205', 'NUP205', 'NUP205', 'NUP205', 'NUP205', 'NUP205', 'NUP205', 'NUP205', 'NUP205', 'NUP205', 'NUP205', 'NUP205', 'NUP205', 'NUP205', 'NUP205', 'NUP205', 'NUP205', 'NUP205', 'NUP205', 'NUP205', 'NUP205', 'NUP205', 'NUP205', 'NUP205', 'NUP205', 'NUP205', 'NUP205', 'NUP205', 'NUP205', 'NUP205', 'NUP205', 'NUP205', 'NUP205', 'NUP205', 'NUP205', 'NUP205', 'NUP205', 'NUP205', 'NUP205', 'NUP205', 'NUP205', 'NUP205', 'NUP205', 'NUP205', 'NUP205', 'NUP205', 'NUP205', 'NUP205', 'NUP205', 'NUP205', 'NUP205', 'NUP205', 'CHMP7', 'CHMP7', 'CHMP7', 'CHMP7', 'CHMP7', 'CHMP7', 'CHMP7', 'CHMP7', 'CHMP7', 'CHMP7', 'CHMP7', 'CHMP7', 'CHMP7', 'CHMP7', 'CHMP4C', 'CHMP4C', 'CHMP4C', 'CHMP4C', 'CHMP4C', 'CHMP4C', 'CHMP4C', 'CHMP4C', 'CHMP4C', 'CHMP4C', 'CHMP4C', 'CHMP4C', 'CHMP4C', 'CHMP4C', 'CHMP4C', 'CHMP4C', 'CHMP4C', 'CHMP5', 'CHMP5', 'CHMP5', 'CHMP5', 'CHMP5', 'CHMP5', 'CHMP5', 'GLE1', 'GLE1', 'GLE1', 'GLE1', 'GLE1', 'GLE1', 'GLE1', 'GLE1', 'GLE1', 'GLE1', 'GLE1', 'GLE1', 'GLE1', 'GLE1', 'GLE1', 'GLE1', 'GLE1', 'GLE1', 'NUP188', 'NUP188', 'NUP188', 'NUP188', 'NUP188', 'NUP188', 'NUP188', 'NUP188', 'NUP188', 'NUP188', 'NUP188', 'NUP188', 'NUP188', 'NUP188', 'NUP188', 'NUP188', 'NUP188', 'NUP188', 'NUP188', 'NUP188', 'NUP188', 'NUP188', 'NUP188', 'NUP188', 'NUP188', 'NUP188', 'NUP188', 'NUP188', 'NUP188', 'NUP188', 'NUP188', 'NUP188', 'NUP188', 'NUP188', 'NUP188', 'NUP188', 'NUP188', 'NUP188', 'NUP188', 'NUP188', 'NUP188', 'NUP188', 'NUP188', 'NUP188', 'NUP188', 'NUP188', 'NUP188', 'NUP188', 'NUP188', 'NUP188', 'NUP188', 'NUP188', 'NUP188', 'NUP188', 'NUP188', 'NUP188', 'NUP188', 'NUP188', 'NUP188', 'NUP188', 'NUP188', 'NUP188', 'NUP188', 'NUP188', 'NUP214', 'NUP214', 'NUP214', 'NUP214', 'NUP214', 'NUP214', 'NUP214', 'NUP214', 'NUP214', 'NUP214', 'NUP214', 'NUP214', 'NUP214', 'NUP214', 'NUP214', 'NUP214', 'NUP214', 'NUP214', 'NUP214', 'NUP214', 'NUP214', 'NUP214', 'NUP214', 'NUP214', 'NUP214', 'NUP214', 'NUP214', 'NUP214', 'NUP214', 'NUP214', 'NUP214', 'NUP214', 'NUP214', 'NUP214', 'NUP214', 'NUP214', 'NUP214', 'NUP214', 'NUP214', 'NUP214', 'NUP214', 'NUP214', 'NUP214', 'NUP214', 'NUP214', 'NUP214', 'NUP214', 'NUP214', 'NUP214', 'NUP214', 'NUP214', 'NUP214', 'NUP214', 'NUP214', 'NUP214', 'NUP214', 'NUP214', 'NUP214', 'NUP214', 'NUP214', 'NUP214', 'NUP214', 'NUP214', 'NUP214', 'NUP214', 'NUP214', 'NUP214', 'NUP214', 'NUP214', 'NUP214', 'NUP214', 'NUP214', 'NUP214', 'NUP214', 'NUP214', 'NUP214', 'NUP214', 'NUP214', 'NUP214', 'NUP214', 'NUP214', 'NUP98', 'NUP98', 'NUP98', 'NUP98', 'NUP98', 'NUP98', 'NUP98', 'NUP98', 'NUP98', 'NUP98', 'NUP98', 'NUP98', 'NUP98', 'NUP98', 'NUP98', 'NUP98', 'NUP98', 'NUP98', 'NUP98', 'NUP98', 'NUP98', 'NUP98', 'NUP98', 'NUP98', 'NUP98', 'NUP98', 'NUP98', 'NUP98', 'NUP98', 'NUP98', 'NUP98', 'NUP98', 'NUP98', 'NUP98', 'NUP98', 'NUP98', 'NUP98', 'NUP98', 'NUP98', 'NUP98', 'NUP98', 'NUP98', 'NUP98', 'NUP98', 'NUP98', 'NUP98', 'NUP98', 'NUP98', 'NUP98', 'NUP98', 'NUP98', 'NUP98', 'NUP98', 'NUP98', 'NUP98', 'NUP160', 'NUP160', 'NUP160', 'NUP160', 'NUP160', 'NUP160', 'NUP160', 'NUP160', 'NUP160', 'NUP160', 'NUP160', 'NUP160', 'NUP160', 'NUP160', 'NUP160', 'NUP160', 'NUP160', 'NUP160', 'NUP160', 'NUP160', 'NUP160', 'NUP160', 'NUP160', 'NUP160', 'NUP160', 'NUP160', 'NUP160', 'NUP160', 'NUP160', 'NUP160', 'NUP160', 'NUP160', 'NUP160', 'NUP160', 'NUP160', 'NUP160', 'NUP160', 'NUP160', 'NUP160', 'NUP160', 'NUP160', 'NUP160', 'NUP160', 'NUP160', 'NUP160', 'NUP160', 'NUP160', 'NXF1', 'NXF1', 'NXF1', 'NXF1', 'NXF1', 'NXF1', 'NXF1', 'NXF1', 'NXF1', 'NXF1', 'NXF1', 'NXF1', 'NXF1', 'NXF1', 'NXF1', 'AAAS', 'AAAS', 'AAAS', 'AAAS', 'AAAS', 'AAAS', 'AAAS', 'AAAS', 'AAAS', 'AAAS', 'AAAS', 'AAAS', 'AAAS', 'AAAS', 'AAAS', 'AAAS', 'AAAS', 'AAAS', 'AAAS', 'LEMD3', 'LEMD3', 'LEMD3', 'LEMD3', 'LEMD3', 'LEMD3', 'LEMD3', 'LEMD3', 'LEMD3', 'LEMD3', 'LEMD3', 'LEMD3', 'LEMD3', 'LEMD3', 'LEMD3', 'LEMD3', 'LEMD3', 'LEMD3', 'LEMD3', 'LEMD3', 'LEMD3', 'LEMD3', 'LEMD3', 'LEMD3', 'LEMD3', 'LEMD3', 'LEMD3', 'LEMD3', 'LEMD3', 'LEMD3', 'LEMD3', 'LEMD3', 'LEMD3', 'LEMD3', 'LEMD3', 'NUP107', 'NUP107', 'NUP107', 'NUP107', 'NUP107', 'NUP107', 'NUP107', 'NUP107', 'NUP107', 'NUP107', 'NUP107', 'NUP107', 'NUP107', 'NUP107', 'NUP107', 'NUP107', 'NUP107', 'NUP107', 'NUP107', 'NUP107', 'NUP107', 'NUP107', 'NUP107', 'NUP107', 'NUP107', 'NUP107', 'NUP107', 'NUP107', 'NUP37', 'NUP37', 'NUP37', 'NUP37', 'NUP37', 'NUP37', 'NUP37', 'NUP37', 'NUP37', 'NUP37', 'NUP37', 'NUP58', 'NUP58', 'NUP58', 'NUP58', 'NUP58', 'NUP58', 'NUP58', 'NUP58', 'NUP58', 'NUP58', 'NUP58', 'NUP58', 'NUP58', 'NUP58', 'NUP58', 'NUP58', 'NUP58', 'NUP58', 'NUP58', 'NUP58', 'NUP58', 'NUP58', 'NUP58', 'NUP58', 'NUP58', 'NUP58', 'NUP58', 'CHMP4A', 'CHMP4A', 'CHMP4A', 'CHMP4A', 'CHMP4A', 'CHMP4A', 'CHMP4A', 'CHMP4A', 'CHMP4A', 'CHMP4A', 'CHMP4A', 'CHMP4A', 'CHMP4A', 'CHMP4A', 'CHMP4A', 'NUP93', 'NUP93', 'NUP93', 'NUP93', 'NUP93', 'NUP93', 'NUP93', 'NUP93', 'NUP93', 'NUP93', 'NUP93', 'NUP93', 'NUP93', 'NUP93', 'NUP93', 'NUP93', 'NUP93', 'NUP93', 'NUP93', 'NUP93', 'NUP93', 'NUP93', 'NUP93', 'NUP93', 'NUP93', 'NUP93', 'NUP93', 'NUP93', 'NUP93', 'NUP93', 'NUP93', 'NUP93', 'NUP93', 'VPS4A', 'VPS4A', 'VPS4A', 'VPS4A', 'VPS4A', 'VPS4A', 'VPS4A', 'VPS4A', 'VPS4A', 'VPS4A', 'IST1', 'IST1', 'IST1', 'IST1', 'IST1', 'IST1', 'IST1', 'IST1', 'IST1', 'IST1', 'IST1', 'IST1', 'IST1', 'IST1', 'CHMP1A', 'CHMP1A', 'CHMP1A', 'CHMP1A', 'CHMP1A', 'CHMP1A', 'CHMP1A', 'CHMP1A', 'CHMP1A', 'CHMP1A', 'CHMP1A', 'CHMP1A', 'CHMP1A', 'CHMP1A', 'CHMP1A', 'CHMP1A', 'CHMP1A', 'CHMP1A', 'CHMP1A', 'CHMP1A', 'CHMP1A', 'CHMP1A', 'CHMP1A', 'CHMP1A', 'CHMP1A', 'CHMP1A', 'CHMP1A', 'NUP88', 'NUP88', 'NUP88', 'NUP88', 'NUP88', 'NUP88', 'NUP88', 'NUP88', 'NUP88', 'NUP88', 'NUP88', 'NUP88', 'NUP88', 'NUP88', 'NUP88', 'NUP88', 'NUP88', 'NUP88', 'NUP88', 'NUP88', 'NUP88', 'NUP88', 'NUP88', 'NUP88', 'NUP88', 'NUP88', 'NUP88', 'NUP88', 'NUP88', 'NUP88', 'NUP88', 'NUP88', 'NUP88', 'KPNB1', 'KPNB1', 'KPNB1', 'KPNB1', 'KPNB1', 'KPNB1', 'KPNB1', 'KPNB1', 'KPNB1', 'KPNB1', 'NUP85', 'NUP85', 'NUP85', 'NUP85', 'NUP85', 'NUP85', 'NUP85', 'NUP85', 'NUP85', 'NUP85', 'NUP85', 'NUP85', 'NUP85', 'NUP85', 'NUP85', 'NUP85', 'NUP85', 'NUP85', 'CHMP6', 'CHMP6', 'CHMP6', 'CHMP6', 'CHMP6', 'CHMP6', 'CHMP6', 'CHMP6', 'CHMP6', 'CHMP6', 'CHMP6', 'CHMP6', 'ALYREF', 'ALYREF', 'ALYREF', 'CHMP1B', 'CHMP1B', 'CHMP1B', 'CHMP1B', 'SEH1L', 'SEH1L', 'SEH1L', 'SEH1L', 'SEH1L', 'SEH1L', 'SEH1L', 'SEH1L', 'SEH1L', 'VPS4B', 'VPS4B', 'VPS4B', 'VPS4B', 'VPS4B', 'VPS4B', 'VPS4B', 'VPS4B', 'VPS4B', 'VPS4B', 'RANBP3', 'RANBP3', 'RANBP3', 'RANBP3', 'RANBP3', 'RANBP3', 'RANBP3', 'RANBP3', 'RANBP3', 'RANBP3', 'RANBP3', 'RANBP3', 'RANBP3', 'RANBP3', 'RANBP3', 'RANBP3', 'RANBP3', 'RANBP3', 'RANBP3', 'RANBP3', 'ELAVL1', 'ELAVL1', 'ELAVL1', 'ELAVL1', 'ELAVL1', 'ELAVL1', 'NUP62', 'NUP62', 'NUP62', 'NUP62', 'NUP62', 'NUP62', 'NUP62', 'NUP62', 'NUP62', 'NUP62', 'NUP62', 'NUP62', 'NUP62', 'NUP62', 'NUP62', 'NUP62', 'NUP62', 'NUP62', 'NUP62', 'NUP62', 'CHMP2A', 'CHMP2A', 'CHMP2A', 'CHMP2A', 'CHMP2A', 'CHMP2A', 'CHMP2A', 'CHMP2A', 'NXT1', 'NXT1', 'CHMP4B', 'RAE1', 'RAE1', 'RAE1', 'RAE1', 'RAE1', 'RAE1', 'RAE1', 'RAE1', 'RAE1', 'RAE1', 'RAE1', 'RAE1', 'RANBP1', 'RANBP1', 'RANBP1', 'RANBP1', 'RANBP1', 'RANBP1', 'RANBP1', 'RANBP1', 'RANBP1', 'RANGAP1', 'RANGAP1', 'RANGAP1', 'RANGAP1', 'RANGAP1', 'RANGAP1', 'RANGAP1', 'RANGAP1', 'RANGAP1', 'RANGAP1', 'RANGAP1', 'RANGAP1', 'RANGAP1', 'RANGAP1', 'RANGAP1', 'RANGAP1', 'RANGAP1', 'RANGAP1', 'RANGAP1', 'NUP50', 'NUP50', 'NUP50', 'NUP50', 'NUP50', 'NUP50', 'NUP50', 'NUP50', 'NUP50', 'NUP50', 'NUP50', 'NUP50', 'NUP50', 'DDX3X', 'DDX3X', 'NXF3', 'EMD']\n"
     ]
    }
   ],
   "source": [
    "for set in geneSets:\n",
    "    print(geneSets[set])"
   ]
  },
  {
   "cell_type": "markdown",
   "metadata": {},
   "source": [
    "## Filter gene sets"
   ]
  },
  {
   "cell_type": "code",
   "execution_count": 13,
   "metadata": {},
   "outputs": [],
   "source": [
    "filteredGeneSets = {}\n",
    "for setName in geneSets:\n",
    "    filteredGeneSets[setName] = genotypes[(genotypes['Gene'].isin(geneSets[setName]) & (genotypes['ExonicFunc'] == 'nonsynonymous_SNV'))]\n"
   ]
  },
  {
   "cell_type": "code",
   "execution_count": null,
   "metadata": {},
   "outputs": [],
   "source": [
    "import subprocess\n",
    "\n",
    "for setName in filteredGeneSets:\n",
    "    print(f\"{setName}: {filteredGeneSets[setName].shape}\")\n",
    "    filteredGeneSets[setName].reset_index().to_csv(f'./{setName}Genotypes', sep=\"\\t\", index=False)\n",
    "    \n",
    "   # Construct and run the concatenation command with awk to remove redundant headers\n",
    "    cat_command = f\"awk '(NR == 1) || (FNR > 1)' ./{setName}Genotypes/part*.csv > ./{setName}Genotypes.csv\"\n",
    "    subprocess.run(cat_command, shell=True, check=True)\n",
    "    \n",
    "    # Construct and run the removal command\n",
    "    rm_command = f\"rm -r ./{setName}Genotypes\"\n",
    "    subprocess.run(rm_command, shell=True, check=True)\n",
    "\n"
   ]
  },
  {
   "cell_type": "code",
   "execution_count": null,
   "metadata": {},
   "outputs": [],
   "source": []
  }
 ],
 "metadata": {
  "kernelspec": {
   "display_name": "base",
   "language": "python",
   "name": "python3"
  },
  "language_info": {
   "codemirror_mode": {
    "name": "ipython",
    "version": 3
   },
   "file_extension": ".py",
   "mimetype": "text/x-python",
   "name": "python",
   "nbconvert_exporter": "python",
   "pygments_lexer": "ipython3",
   "version": "3.10.8"
  },
  "orig_nbformat": 4
 },
 "nbformat": 4,
 "nbformat_minor": 2
}
