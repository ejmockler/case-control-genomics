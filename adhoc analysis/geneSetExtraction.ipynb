{
 "cells": [
  {
   "cell_type": "code",
   "execution_count": 8,
   "metadata": {},
   "outputs": [],
   "source": [
    "import pyspark.pandas as ps\n",
    "import pandas as pd\n",
    "import json\n",
    "\n",
    "from pyspark.sql import SparkSession\n",
    "from pyspark import SparkConf\n",
    "\n",
    "conf = SparkConf()\n",
    "conf.set(\"spark.driver.memory\", \"4g\")  # Set to your desired heap size\n",
    "\n",
    "spark = SparkSession.builder \\\n",
    "    .config(conf=conf) \\\n",
    "    .getOrCreate()\n"
   ]
  },
  {
   "cell_type": "markdown",
   "metadata": {},
   "source": [
    "## Load genotypes"
   ]
  },
  {
   "cell_type": "code",
   "execution_count": 2,
   "metadata": {},
   "outputs": [
    {
     "name": "stderr",
     "output_type": "stream",
     "text": [
      "                                                                                \r"
     ]
    }
   ],
   "source": [
    "vcfLikePath='./als_1kg.exon.num.txt'\n",
    "\n",
    "genotypes = ps.read_csv(vcfLikePath, sep='\\t', index_col=['chrom', 'position'])"
   ]
  },
  {
   "cell_type": "code",
   "execution_count": 3,
   "metadata": {},
   "outputs": [
    {
     "name": "stderr",
     "output_type": "stream",
     "text": [
      "                                                                                \r"
     ]
    },
    {
     "data": {
      "text/plain": [
       "(654394, 5923)"
      ]
     },
     "execution_count": 3,
     "metadata": {},
     "output_type": "execute_result"
    }
   ],
   "source": [
    "genotypes.shape"
   ]
  },
  {
   "cell_type": "code",
   "execution_count": 4,
   "metadata": {},
   "outputs": [
    {
     "data": {
      "text/plain": [
       "Index(['Gene', 'Func.knownGene', 'Func.refGene', 'Func.ensGene', 'ExonicFunc',\n",
       "       'AAChange.knownGene', 'AAChange.refGene', 'AAChange.ensGene', 'FILTER',\n",
       "       'REF',\n",
       "       ...\n",
       "       'CGND-HDA-02442', 'CGND-HDA-02438', 'CGND-HDA-02445', 'CGND-HDA-02693',\n",
       "       'CGND-HDA-02446', 'CGND-HDA-02444', 'CGND-HDA-02439', 'CGND-HDA-02462',\n",
       "       'CGND-HDA-02688', 'CGND-HDA-02440'],\n",
       "      dtype='object', length=5923)"
      ]
     },
     "execution_count": 4,
     "metadata": {},
     "output_type": "execute_result"
    }
   ],
   "source": [
    "genotypes.columns"
   ]
  },
  {
   "cell_type": "markdown",
   "metadata": {},
   "source": [
    "## Load gene sets"
   ]
  },
  {
   "cell_type": "code",
   "execution_count": 5,
   "metadata": {},
   "outputs": [],
   "source": [
    "def readJsonFile(path):\n",
    "    with open(path) as f:\n",
    "        data = json.load(f)\n",
    "    return data"
   ]
  },
  {
   "cell_type": "code",
   "execution_count": 11,
   "metadata": {},
   "outputs": [
    {
     "name": "stderr",
     "output_type": "stream",
     "text": [
      "/Users/noot/.pyenv/versions/miniconda3-latest/lib/python3.10/site-packages/openpyxl/worksheet/_reader.py:329: UserWarning: Unknown extension is not supported and will be removed\n",
      "  warn(msg)\n"
     ]
    }
   ],
   "source": [
    "geneSets = {\n",
    "    # 'alsod': ps.read_csv('./alsodList.csv', sep='\\t')['Gene symbol'].tolist(),\n",
    "    # 'cardiac': readJsonFile('./BIOCARTA_ALK_PATHWAY.v2023.1.Hs.json')['BIOCARTA_ALK_PATHWAY']['geneSymbols'] \n",
    "    #     + readJsonFile('./BIOCARTA_ACE2_PATHWAY.v2023.1.Hs.json')['BIOCARTA_ACE2_PATHWAY']['geneSymbols'] \n",
    "    #     + readJsonFile('./BIOCARTA_AT1R_PATHWAY.v2023.1.Hs.json')['BIOCARTA_AT1R_PATHWAY']['geneSymbols']\n",
    "    #     + readJsonFile('./BIOCARTA_CARDIACEGF_PATHWAY.v2023.1.Hs.json')['BIOCARTA_CARDIACEGF_PATHWAY']['geneSymbols']\n",
    "    #     + readJsonFile('./BIOCARTA_FLUMAZENIL_PATHWAY.v2023.1.Hs.json')['BIOCARTA_FLUMAZENIL_PATHWAY']['geneSymbols']\n",
    "    #     + readJsonFile('./BIOCARTA_GCR_PATHWAY.v2023.1.Hs.json')['BIOCARTA_GCR_PATHWAY']['geneSymbols']\n",
    "    #     + readJsonFile('./BIOCARTA_HDAC_PATHWAY.v2023.1.Hs.json')['BIOCARTA_HDAC_PATHWAY']['geneSymbols']\n",
    "    #     + readJsonFile('./BIOCARTA_NFAT_PATHWAY.v2023.1.Hs.json')['BIOCARTA_NFAT_PATHWAY']['geneSymbols']\n",
    "    #     + readJsonFile('./BIOCARTA_PGC1A_PATHWAY.v2023.1.Hs.json')['BIOCARTA_PGC1A_PATHWAY']['geneSymbols']\n",
    "    #     + readJsonFile('./BIOCARTA_PITX2_PATHWAY.v2023.1.Hs.json')['BIOCARTA_PITX2_PATHWAY']['geneSymbols']\n",
    "    #     + readJsonFile('./BIOCARTA_AMI_PATHWAY.v2023.1.Hs.json')['BIOCARTA_AMI_PATHWAY']['geneSymbols']\n",
    "    #     + readJsonFile('./BIOCARTA_P53HYPOXIA_PATHWAY.v2023.1.Hs.json')['BIOCARTA_P53HYPOXIA_PATHWAY']['geneSymbols']\n",
    "    #     + readJsonFile('./BIOCARTA_NO1_PATHWAY.v2023.1.Hs.json')['BIOCARTA_NO1_PATHWAY']['geneSymbols']\n",
    "    #     + readJsonFile('./BIOCARTA_HIF_PATHWAY.v2023.1.Hs.json')['BIOCARTA_HIF_PATHWAY']['geneSymbols']\n",
    "    \"NUPs\": pd.read_excel(\"../adhoc analysis/Variant_report_NUPs_fixed_2022-03-28.xlsx\", sheet_name=\"all cases vs all controls\")['Gene'].dropna().tolist()\n",
    "        }"
   ]
  },
  {
   "cell_type": "code",
   "execution_count": 12,
   "metadata": {},
   "outputs": [
    {
     "name": "stdout",
     "output_type": "stream",
     "text": [
      "['RCC1', 'RCC1', 'RCC1', 'RCC1', 'RCC1', 'RCC1', 'RCC1', 'RCC1', 'RCC1', 'RCC1', 'RCC1', 'RCC1', 'RCC1', 'NDC1', 'NDC1', 'NDC1', 'NDC1', 'NDC1', 'NDC1', 'NDC1', 'NDC1', 'NDC1', 'NDC1', 'NDC1', 'NDC1', 'NDC1', 'NDC1', 'NDC1', 'NDC1', 'NDC1', 'TPR', 'TPR', 'TPR', 'TPR', 'TPR', 'TPR', 'TPR', 'TPR', 'TPR', 'TPR', 'TPR', 'TPR', 'TPR', 'TPR', 'TPR', 'TPR', 'TPR', 'TPR', 'TPR', 'TPR', 'TPR', 'TPR', 'TPR', 'TPR', 'TPR', 'TPR', 'TPR', 'TPR', 'TPR', 'TPR', 'TPR', 'TPR', 'TPR', 'TPR', 'TPR', 'TPR', 'TPR', 'TPR', 'TPR', 'TPR', 'TPR', 'TPR', 'TPR', 'TPR', 'TPR', 'TPR', 'TPR', 'TPR', 'TPR', 'TPR', 'TPR', 'TPR', 'LBR', 'LBR', 'LBR', 'LBR', 'LBR', 'LBR', 'LBR', 'LBR', 'LBR', 'LBR', 'LBR', 'LBR', 'LBR', 'LBR', 'LBR', 'LBR', 'LBR', 'LBR', 'LBR', 'LBR', 'LBR', 'LBR', 'LBR', 'LBR', 'LBR', 'LBR', 'LBR', 'LBR', 'LBR', 'NUP133', 'NUP133', 'NUP133', 'NUP133', 'NUP133', 'NUP133', 'NUP133', 'NUP133', 'NUP133', 'NUP133', 'NUP133', 'NUP133', 'NUP133', 'NUP133', 'NUP133', 'NUP133', 'NUP133', 'NUP133', 'NUP133', 'NUP133', 'NUP133', 'NUP133', 'NUP133', 'NUP133', 'NUP133', 'NUP133', 'NUP133', 'NUP133', 'NUP133', 'NUP133', 'NUP133', 'NUP133', 'NUP133', 'NUP133', 'NUP133', 'NUP133', 'NUP133', 'NUP133', 'NUP133', 'AHCTF1', 'AHCTF1', 'AHCTF1', 'AHCTF1', 'AHCTF1', 'AHCTF1', 'AHCTF1', 'AHCTF1', 'AHCTF1', 'AHCTF1', 'AHCTF1', 'AHCTF1', 'AHCTF1', 'AHCTF1', 'AHCTF1', 'AHCTF1', 'AHCTF1', 'AHCTF1', 'AHCTF1', 'AHCTF1', 'AHCTF1', 'AHCTF1', 'AHCTF1', 'AHCTF1', 'AHCTF1', 'AHCTF1', 'AHCTF1', 'AHCTF1', 'AHCTF1', 'AHCTF1', 'AHCTF1', 'AHCTF1', 'AHCTF1', 'AHCTF1', 'AHCTF1', 'AHCTF1', 'AHCTF1', 'AHCTF1', 'AHCTF1', 'AHCTF1', 'AHCTF1', 'AHCTF1', 'AHCTF1', 'AHCTF1', 'AHCTF1', 'AHCTF1', 'AHCTF1', 'AHCTF1', 'AHCTF1', 'AHCTF1', 'AHCTF1', 'AHCTF1', 'AHCTF1', 'AHCTF1', 'AHCTF1', 'AHCTF1', 'AHCTF1', 'AHCTF1', 'AHCTF1', 'AHCTF1', 'AHCTF1', 'AHCTF1', 'AHCTF1', 'AHCTF1', 'AHCTF1', 'AHCTF1', 'AHCTF1', 'AHCTF1', 'AHCTF1', 'AHCTF1', 'AHCTF1', 'AHCTF1', 'AHCTF1', 'AHCTF1', 'AHCTF1', 'AHCTF1', 'AHCTF1', 'AHCTF1', 'AHCTF1', 'AHCTF1', 'AHCTF1', 'AHCTF1', 'AHCTF1', 'AHCTF1', 'AHCTF1', 'AHCTF1', 'AHCTF1', 'AHCTF1', 'AHCTF1', 'XPO1', 'XPO1', 'XPO1', 'XPO1', 'XPO1', 'XPO1', 'XPO1', 'CHMP3', 'CHMP3', 'CHMP3', 'CHMP3', 'CHMP3', 'CHMP3', 'CHMP3', 'RANBP2', 'RANBP2', 'RANBP2', 'RANBP2', 'RANBP2', 'RANBP2', 'RANBP2', 'RANBP2', 'RANBP2', 'RANBP2', 'RANBP2', 'RANBP2', 'RANBP2', 'RANBP2', 'RANBP2', 'RANBP2', 'RANBP2', 'RANBP2', 'RANBP2', 'RANBP2', 'RANBP2', 'RANBP2', 'RANBP2', 'RANBP2', 'RANBP2', 'RANBP2', 'RANBP2', 'RANBP2', 'RANBP2', 'RANBP2', 'RANBP2', 'RANBP2', 'RANBP2', 'RANBP2', 'RANBP2', 'RANBP2', 'RANBP2', 'RANBP2', 'RANBP2', 'RANBP2', 'RANBP2', 'RANBP2', 'RANBP2', 'RANBP2', 'RANBP2', 'RANBP2', 'RANBP2', 'RANBP2', 'RANBP2', 'RANBP2', 'RANBP2', 'RANBP2', 'RANBP2', 'RANBP2', 'RANBP2', 'RANBP2', 'RANBP2', 'RANBP2', 'RANBP2', 'RANBP2', 'RANBP2', 'RANBP2', 'RANBP2', 'RANBP2', 'RANBP2', 'RANBP2', 'RANBP2', 'RANBP2', 'RANBP2', 'RANBP2', 'RANBP2', 'RANBP2', 'RANBP2', 'RANBP2', 'RANBP2', 'RANBP2', 'RANBP2', 'RANBP2', 'RANBP2', 'RANBP2', 'RANBP2', 'RANBP2', 'RANBP2', 'RANBP2', 'RANBP2', 'RANBP2', 'RANBP2', 'RANBP2', 'RANBP2', 'NUP35', 'NUP35', 'NUP35', 'NUP35', 'NUP35', 'NUP35', 'NUP35', 'SEC13', 'SEC13', 'SEC13', 'SEC13', 'SEC13', 'SEC13', 'SEC13', 'SEC13', 'SEC13', 'SEC13', 'SEC13', 'SEC13', 'SEC13', 'SEC13', 'SEC13', 'SEC13', 'SEC13', 'SEC13', 'SEC13', 'SEC13', 'NUP210', 'NUP210', 'NUP210', 'NUP210', 'NUP210', 'NUP210', 'NUP210', 'NUP210', 'NUP210', 'NUP210', 'NUP210', 'NUP210', 'NUP210', 'NUP210', 'NUP210', 'NUP210', 'NUP210', 'NUP210', 'NUP210', 'NUP210', 'NUP210', 'NUP210', 'NUP210', 'NUP210', 'NUP210', 'NUP210', 'NUP210', 'NUP210', 'NUP210', 'NUP210', 'NUP210', 'NUP210', 'NUP210', 'NUP210', 'NUP210', 'NUP210', 'NUP210', 'NUP210', 'NUP210', 'NUP210', 'NUP210', 'NUP210', 'NUP210', 'NUP210', 'NUP210', 'NUP210', 'NUP210', 'NUP210', 'NUP210', 'NUP210', 'NUP210', 'NUP210', 'NUP210', 'NUP210', 'NUP210', 'NUP210', 'NUP210', 'NUP210', 'NUP210', 'NUP210', 'NUP210', 'NUP210', 'NUP210', 'NUP210', 'NUP210', 'NUP210', 'NUP210', 'NUP210', 'NUP210', 'NUP210', 'NUP210', 'NUP210', 'NUP210', 'NUP210', 'NUP210', 'NUP210', 'NUP210', 'NUP210', 'NUP210', 'NUP210', 'NUP210', 'NUP210', 'NUP210', 'CHMP2B', 'CHMP2B', 'CHMP2B', 'CHMP2B', 'CHMP2B', 'CHMP2B', 'CHMP2B', 'NUP54', 'NUP54', 'NUP54', 'NUP54', 'NUP54', 'NUP54', 'NUP54', 'NUP54', 'NUP54', 'NUP54', 'NUP54', 'NUP155', 'NUP155', 'NUP155', 'NUP155', 'NUP155', 'NUP155', 'NUP155', 'NUP155', 'NUP155', 'NUP155', 'NUP155', 'NUP155', 'NUP155', 'NUP155', 'NUP155', 'NUP155', 'NUP155', 'NUP155', 'NUP155', 'NUP155', 'NUP155', 'NUP155', 'NUP155', 'NUP155', 'NUP155', 'NUP155', 'NUP155', 'NUP155', 'NUP155', 'NUP155', 'NUP155', 'NUP155', 'NUP155', 'NUP155', 'NUP155', 'NUP155', 'NUP155', 'NUP153', 'NUP153', 'NUP153', 'NUP153', 'NUP153', 'NUP153', 'NUP153', 'NUP153', 'NUP153', 'NUP153', 'NUP153', 'NUP153', 'NUP153', 'NUP153', 'NUP153', 'NUP153', 'NUP153', 'NUP153', 'NUP153', 'NUP153', 'NUP153', 'NUP153', 'NUP153', 'NUP153', 'NUP153', 'NUP153', 'NUP153', 'NUP153', 'NUP153', 'NUP153', 'NUP153', 'NUP153', 'NUP153', 'NUP153', 'NUP153', 'NUP153', 'NUP153', 'NUP153', 'NUP153', 'NUP153', 'NUP153', 'NUP153', 'NUP153', 'NUP153', 'NUP153', 'NUP153', 'NUP153', 'NUP153', 'NUP153', 'NUP153', 'NUP153', 'NUP153', 'NUP153', 'NUP153', 'NUP153', 'NUP153', 'LEMD2', 'LEMD2', 'LEMD2', 'LEMD2', 'LEMD2', 'LEMD2', 'LEMD2', 'LEMD2', 'LEMD2', 'LEMD2', 'LEMD2', 'NUP43', 'NUP43', 'NUP43', 'NUP43', 'NUP43', 'NUP43', 'NUP43', 'NUP43', 'NUP43', 'NUP43', 'NUP43', 'NUP43', 'SUN1', 'SUN1', 'SUN1', 'SUN1', 'SUN1', 'SUN1', 'SUN1', 'SUN1', 'SUN1', 'SUN1', 'SUN1', 'SUN1', 'SUN1', 'SUN1', 'SUN1', 'SUN1', 'SUN1', 'SUN1', 'SUN1', 'SUN1', 'SUN1', 'SUN1', 'SUN1', 'SUN1', 'SUN1', 'SUN1', 'SUN1', 'SUN1', 'SUN1', 'SUN1', 'SUN1', 'SUN1', 'SUN1', 'SUN1', 'SUN1', 'SUN1', 'SUN1', 'SUN1', 'SUN1', 'SUN1', 'SUN1', 'SUN1', 'SUN1', 'SUN1', 'SUN1', 'SUN1', 'SUN1', 'POM121', 'POM121', 'POM121', 'POM121', 'POM121', 'POM121', 'POM121', 'POM121', 'POM121', 'POM121', 'POM121', 'POM121', 'POM121', 'POM121', 'POM121', 'POM121', 'POM121', 'POM121', 'POM121', 'POM121', 'POM121', 'POM121', 'POM121', 'POM121', 'POM121', 'POM121', 'POM121', 'POM121', 'POM121', 'POM121', 'POM121', 'POM121', 'POM121', 'POM121', 'POM121', 'POM121', 'POM121', 'POM121', 'POM121', 'POM121', 'POM121', 'POM121', 'NUP205', 'NUP205', 'NUP205', 'NUP205', 'NUP205', 'NUP205', 'NUP205', 'NUP205', 'NUP205', 'NUP205', 'NUP205', 'NUP205', 'NUP205', 'NUP205', 'NUP205', 'NUP205', 'NUP205', 'NUP205', 'NUP205', 'NUP205', 'NUP205', 'NUP205', 'NUP205', 'NUP205', 'NUP205', 'NUP205', 'NUP205', 'NUP205', 'NUP205', 'NUP205', 'NUP205', 'NUP205', 'NUP205', 'NUP205', 'NUP205', 'NUP205', 'NUP205', 'NUP205', 'NUP205', 'NUP205', 'NUP205', 'NUP205', 'NUP205', 'NUP205', 'NUP205', 'NUP205', 'NUP205', 'NUP205', 'NUP205', 'NUP205', 'NUP205', 'NUP205', 'NUP205', 'NUP205', 'NUP205', 'NUP205', 'NUP205', 'CHMP7', 'CHMP7', 'CHMP7', 'CHMP7', 'CHMP7', 'CHMP7', 'CHMP7', 'CHMP7', 'CHMP7', 'CHMP7', 'CHMP7', 'CHMP7', 'CHMP7', 'CHMP7', 'CHMP4C', 'CHMP4C', 'CHMP4C', 'CHMP4C', 'CHMP4C', 'CHMP4C', 'CHMP4C', 'CHMP4C', 'CHMP4C', 'CHMP4C', 'CHMP4C', 'CHMP4C', 'CHMP4C', 'CHMP4C', 'CHMP4C', 'CHMP4C', 'CHMP4C', 'CHMP5', 'CHMP5', 'CHMP5', 'CHMP5', 'CHMP5', 'CHMP5', 'CHMP5', 'GLE1', 'GLE1', 'GLE1', 'GLE1', 'GLE1', 'GLE1', 'GLE1', 'GLE1', 'GLE1', 'GLE1', 'GLE1', 'GLE1', 'GLE1', 'GLE1', 'GLE1', 'GLE1', 'GLE1', 'GLE1', 'NUP188', 'NUP188', 'NUP188', 'NUP188', 'NUP188', 'NUP188', 'NUP188', 'NUP188', 'NUP188', 'NUP188', 'NUP188', 'NUP188', 'NUP188', 'NUP188', 'NUP188', 'NUP188', 'NUP188', 'NUP188', 'NUP188', 'NUP188', 'NUP188', 'NUP188', 'NUP188', 'NUP188', 'NUP188', 'NUP188', 'NUP188', 'NUP188', 'NUP188', 'NUP188', 'NUP188', 'NUP188', 'NUP188', 'NUP188', 'NUP188', 'NUP188', 'NUP188', 'NUP188', 'NUP188', 'NUP188', 'NUP188', 'NUP188', 'NUP188', 'NUP188', 'NUP188', 'NUP188', 'NUP188', 'NUP188', 'NUP188', 'NUP188', 'NUP188', 'NUP188', 'NUP188', 'NUP188', 'NUP188', 'NUP188', 'NUP188', 'NUP188', 'NUP188', 'NUP188', 'NUP188', 'NUP188', 'NUP188', 'NUP188', 'NUP214', 'NUP214', 'NUP214', 'NUP214', 'NUP214', 'NUP214', 'NUP214', 'NUP214', 'NUP214', 'NUP214', 'NUP214', 'NUP214', 'NUP214', 'NUP214', 'NUP214', 'NUP214', 'NUP214', 'NUP214', 'NUP214', 'NUP214', 'NUP214', 'NUP214', 'NUP214', 'NUP214', 'NUP214', 'NUP214', 'NUP214', 'NUP214', 'NUP214', 'NUP214', 'NUP214', 'NUP214', 'NUP214', 'NUP214', 'NUP214', 'NUP214', 'NUP214', 'NUP214', 'NUP214', 'NUP214', 'NUP214', 'NUP214', 'NUP214', 'NUP214', 'NUP214', 'NUP214', 'NUP214', 'NUP214', 'NUP214', 'NUP214', 'NUP214', 'NUP214', 'NUP214', 'NUP214', 'NUP214', 'NUP214', 'NUP214', 'NUP214', 'NUP214', 'NUP214', 'NUP214', 'NUP214', 'NUP214', 'NUP214', 'NUP214', 'NUP214', 'NUP214', 'NUP214', 'NUP214', 'NUP214', 'NUP214', 'NUP214', 'NUP214', 'NUP214', 'NUP214', 'NUP214', 'NUP214', 'NUP214', 'NUP214', 'NUP214', 'NUP214', 'NUP98', 'NUP98', 'NUP98', 'NUP98', 'NUP98', 'NUP98', 'NUP98', 'NUP98', 'NUP98', 'NUP98', 'NUP98', 'NUP98', 'NUP98', 'NUP98', 'NUP98', 'NUP98', 'NUP98', 'NUP98', 'NUP98', 'NUP98', 'NUP98', 'NUP98', 'NUP98', 'NUP98', 'NUP98', 'NUP98', 'NUP98', 'NUP98', 'NUP98', 'NUP98', 'NUP98', 'NUP98', 'NUP98', 'NUP98', 'NUP98', 'NUP98', 'NUP98', 'NUP98', 'NUP98', 'NUP98', 'NUP98', 'NUP98', 'NUP98', 'NUP98', 'NUP98', 'NUP98', 'NUP98', 'NUP98', 'NUP98', 'NUP98', 'NUP98', 'NUP98', 'NUP98', 'NUP98', 'NUP98', 'NUP160', 'NUP160', 'NUP160', 'NUP160', 'NUP160', 'NUP160', 'NUP160', 'NUP160', 'NUP160', 'NUP160', 'NUP160', 'NUP160', 'NUP160', 'NUP160', 'NUP160', 'NUP160', 'NUP160', 'NUP160', 'NUP160', 'NUP160', 'NUP160', 'NUP160', 'NUP160', 'NUP160', 'NUP160', 'NUP160', 'NUP160', 'NUP160', 'NUP160', 'NUP160', 'NUP160', 'NUP160', 'NUP160', 'NUP160', 'NUP160', 'NUP160', 'NUP160', 'NUP160', 'NUP160', 'NUP160', 'NUP160', 'NUP160', 'NUP160', 'NUP160', 'NUP160', 'NUP160', 'NUP160', 'NXF1', 'NXF1', 'NXF1', 'NXF1', 'NXF1', 'NXF1', 'NXF1', 'NXF1', 'NXF1', 'NXF1', 'NXF1', 'NXF1', 'NXF1', 'NXF1', 'NXF1', 'AAAS', 'AAAS', 'AAAS', 'AAAS', 'AAAS', 'AAAS', 'AAAS', 'AAAS', 'AAAS', 'AAAS', 'AAAS', 'AAAS', 'AAAS', 'AAAS', 'AAAS', 'AAAS', 'AAAS', 'AAAS', 'AAAS', 'LEMD3', 'LEMD3', 'LEMD3', 'LEMD3', 'LEMD3', 'LEMD3', 'LEMD3', 'LEMD3', 'LEMD3', 'LEMD3', 'LEMD3', 'LEMD3', 'LEMD3', 'LEMD3', 'LEMD3', 'LEMD3', 'LEMD3', 'LEMD3', 'LEMD3', 'LEMD3', 'LEMD3', 'LEMD3', 'LEMD3', 'LEMD3', 'LEMD3', 'LEMD3', 'LEMD3', 'LEMD3', 'LEMD3', 'LEMD3', 'LEMD3', 'LEMD3', 'LEMD3', 'LEMD3', 'LEMD3', 'NUP107', 'NUP107', 'NUP107', 'NUP107', 'NUP107', 'NUP107', 'NUP107', 'NUP107', 'NUP107', 'NUP107', 'NUP107', 'NUP107', 'NUP107', 'NUP107', 'NUP107', 'NUP107', 'NUP107', 'NUP107', 'NUP107', 'NUP107', 'NUP107', 'NUP107', 'NUP107', 'NUP107', 'NUP107', 'NUP107', 'NUP107', 'NUP107', 'NUP37', 'NUP37', 'NUP37', 'NUP37', 'NUP37', 'NUP37', 'NUP37', 'NUP37', 'NUP37', 'NUP37', 'NUP37', 'NUP58', 'NUP58', 'NUP58', 'NUP58', 'NUP58', 'NUP58', 'NUP58', 'NUP58', 'NUP58', 'NUP58', 'NUP58', 'NUP58', 'NUP58', 'NUP58', 'NUP58', 'NUP58', 'NUP58', 'NUP58', 'NUP58', 'NUP58', 'NUP58', 'NUP58', 'NUP58', 'NUP58', 'NUP58', 'NUP58', 'NUP58', 'CHMP4A', 'CHMP4A', 'CHMP4A', 'CHMP4A', 'CHMP4A', 'CHMP4A', 'CHMP4A', 'CHMP4A', 'CHMP4A', 'CHMP4A', 'CHMP4A', 'CHMP4A', 'CHMP4A', 'CHMP4A', 'CHMP4A', 'NUP93', 'NUP93', 'NUP93', 'NUP93', 'NUP93', 'NUP93', 'NUP93', 'NUP93', 'NUP93', 'NUP93', 'NUP93', 'NUP93', 'NUP93', 'NUP93', 'NUP93', 'NUP93', 'NUP93', 'NUP93', 'NUP93', 'NUP93', 'NUP93', 'NUP93', 'NUP93', 'NUP93', 'NUP93', 'NUP93', 'NUP93', 'NUP93', 'NUP93', 'NUP93', 'NUP93', 'NUP93', 'NUP93', 'VPS4A', 'VPS4A', 'VPS4A', 'VPS4A', 'VPS4A', 'VPS4A', 'VPS4A', 'VPS4A', 'VPS4A', 'VPS4A', 'IST1', 'IST1', 'IST1', 'IST1', 'IST1', 'IST1', 'IST1', 'IST1', 'IST1', 'IST1', 'IST1', 'IST1', 'IST1', 'IST1', 'CHMP1A', 'CHMP1A', 'CHMP1A', 'CHMP1A', 'CHMP1A', 'CHMP1A', 'CHMP1A', 'CHMP1A', 'CHMP1A', 'CHMP1A', 'CHMP1A', 'CHMP1A', 'CHMP1A', 'CHMP1A', 'CHMP1A', 'CHMP1A', 'CHMP1A', 'CHMP1A', 'CHMP1A', 'CHMP1A', 'CHMP1A', 'CHMP1A', 'CHMP1A', 'CHMP1A', 'CHMP1A', 'CHMP1A', 'CHMP1A', 'NUP88', 'NUP88', 'NUP88', 'NUP88', 'NUP88', 'NUP88', 'NUP88', 'NUP88', 'NUP88', 'NUP88', 'NUP88', 'NUP88', 'NUP88', 'NUP88', 'NUP88', 'NUP88', 'NUP88', 'NUP88', 'NUP88', 'NUP88', 'NUP88', 'NUP88', 'NUP88', 'NUP88', 'NUP88', 'NUP88', 'NUP88', 'NUP88', 'NUP88', 'NUP88', 'NUP88', 'NUP88', 'NUP88', 'KPNB1', 'KPNB1', 'KPNB1', 'KPNB1', 'KPNB1', 'KPNB1', 'KPNB1', 'KPNB1', 'KPNB1', 'KPNB1', 'NUP85', 'NUP85', 'NUP85', 'NUP85', 'NUP85', 'NUP85', 'NUP85', 'NUP85', 'NUP85', 'NUP85', 'NUP85', 'NUP85', 'NUP85', 'NUP85', 'NUP85', 'NUP85', 'NUP85', 'NUP85', 'CHMP6', 'CHMP6', 'CHMP6', 'CHMP6', 'CHMP6', 'CHMP6', 'CHMP6', 'CHMP6', 'CHMP6', 'CHMP6', 'CHMP6', 'CHMP6', 'ALYREF', 'ALYREF', 'ALYREF', 'CHMP1B', 'CHMP1B', 'CHMP1B', 'CHMP1B', 'SEH1L', 'SEH1L', 'SEH1L', 'SEH1L', 'SEH1L', 'SEH1L', 'SEH1L', 'SEH1L', 'SEH1L', 'VPS4B', 'VPS4B', 'VPS4B', 'VPS4B', 'VPS4B', 'VPS4B', 'VPS4B', 'VPS4B', 'VPS4B', 'VPS4B', 'RANBP3', 'RANBP3', 'RANBP3', 'RANBP3', 'RANBP3', 'RANBP3', 'RANBP3', 'RANBP3', 'RANBP3', 'RANBP3', 'RANBP3', 'RANBP3', 'RANBP3', 'RANBP3', 'RANBP3', 'RANBP3', 'RANBP3', 'RANBP3', 'RANBP3', 'RANBP3', 'ELAVL1', 'ELAVL1', 'ELAVL1', 'ELAVL1', 'ELAVL1', 'ELAVL1', 'NUP62', 'NUP62', 'NUP62', 'NUP62', 'NUP62', 'NUP62', 'NUP62', 'NUP62', 'NUP62', 'NUP62', 'NUP62', 'NUP62', 'NUP62', 'NUP62', 'NUP62', 'NUP62', 'NUP62', 'NUP62', 'NUP62', 'NUP62', 'CHMP2A', 'CHMP2A', 'CHMP2A', 'CHMP2A', 'CHMP2A', 'CHMP2A', 'CHMP2A', 'CHMP2A', 'NXT1', 'NXT1', 'CHMP4B', 'RAE1', 'RAE1', 'RAE1', 'RAE1', 'RAE1', 'RAE1', 'RAE1', 'RAE1', 'RAE1', 'RAE1', 'RAE1', 'RAE1', 'RANBP1', 'RANBP1', 'RANBP1', 'RANBP1', 'RANBP1', 'RANBP1', 'RANBP1', 'RANBP1', 'RANBP1', 'RANGAP1', 'RANGAP1', 'RANGAP1', 'RANGAP1', 'RANGAP1', 'RANGAP1', 'RANGAP1', 'RANGAP1', 'RANGAP1', 'RANGAP1', 'RANGAP1', 'RANGAP1', 'RANGAP1', 'RANGAP1', 'RANGAP1', 'RANGAP1', 'RANGAP1', 'RANGAP1', 'RANGAP1', 'NUP50', 'NUP50', 'NUP50', 'NUP50', 'NUP50', 'NUP50', 'NUP50', 'NUP50', 'NUP50', 'NUP50', 'NUP50', 'NUP50', 'NUP50', 'DDX3X', 'DDX3X', 'NXF3', 'EMD']\n"
     ]
    }
   ],
   "source": [
    "for set in geneSets:\n",
    "    print(geneSets[set])"
   ]
  },
  {
   "cell_type": "markdown",
   "metadata": {},
   "source": [
    "## Filter gene sets"
   ]
  },
  {
   "cell_type": "code",
   "execution_count": 13,
   "metadata": {},
   "outputs": [],
   "source": [
    "filteredGeneSets = {}\n",
    "for setName in geneSets:\n",
    "    filteredGeneSets[setName] = genotypes[(genotypes['Gene'].isin(geneSets[setName]) & (genotypes['ExonicFunc'] == 'nonsynonymous_SNV'))]\n"
   ]
  },
  {
   "cell_type": "code",
   "execution_count": 14,
   "metadata": {},
   "outputs": [
    {
     "name": "stderr",
     "output_type": "stream",
     "text": [
      "[Stage 7:====================================>                   (40 + 10) / 61]\r"
     ]
    }
   ],
   "source": [
    "import subprocess\n",
    "\n",
    "for setName in filteredGeneSets:\n",
    "    print(f\"{setName}: {filteredGeneSets[setName].shape}\")\n",
    "    filteredGeneSets[setName].reset_index().to_csv(f'./{setName}Genotypes', sep=\"\\t\", index=False)\n",
    "    \n",
    "   # Construct and run the concatenation command with awk to remove redundant headers\n",
    "    cat_command = f\"awk '(NR == 1) || (FNR > 1)' ./{setName}Genotypes/part*.csv > ./{setName}Genotypes.csv\"\n",
    "    subprocess.run(cat_command, shell=True, check=True)\n",
    "    \n",
    "    # Construct and run the removal command\n",
    "    rm_command = f\"rm -r ./{setName}Genotypes\"\n",
    "    subprocess.run(rm_command, shell=True, check=True)\n",
    "\n"
   ]
  },
  {
   "cell_type": "code",
   "execution_count": null,
   "metadata": {},
   "outputs": [],
   "source": []
  }
 ],
 "metadata": {
  "kernelspec": {
   "display_name": "base",
   "language": "python",
   "name": "python3"
  },
  "language_info": {
   "codemirror_mode": {
    "name": "ipython",
    "version": 3
   },
   "file_extension": ".py",
   "mimetype": "text/x-python",
   "name": "python",
   "nbconvert_exporter": "python",
   "pygments_lexer": "ipython3",
   "version": "3.10.8"
  },
  "orig_nbformat": 4
 },
 "nbformat": 4,
 "nbformat_minor": 2
}
